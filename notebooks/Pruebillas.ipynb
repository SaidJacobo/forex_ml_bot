{
 "cells": [
  {
   "cell_type": "code",
   "execution_count": 1,
   "id": "fc8d876d-277d-498d-8ce2-c99dd7f9f699",
   "metadata": {},
   "outputs": [
    {
     "name": "stdout",
     "output_type": "stream",
     "text": [
      "Requirement already satisfied: statsmodels in c:\\users\\saidj\\onedrive\\documentos\\projects\\forex_ml_bot\\forex_ml_bot\\mtvenv\\lib\\site-packages (0.14.1)\n",
      "Requirement already satisfied: pandas!=2.1.0,>=1.0 in c:\\users\\saidj\\onedrive\\documentos\\projects\\forex_ml_bot\\forex_ml_bot\\mtvenv\\lib\\site-packages (from statsmodels) (2.0.3)\n",
      "Requirement already satisfied: numpy<2,>=1.18 in c:\\users\\saidj\\onedrive\\documentos\\projects\\forex_ml_bot\\forex_ml_bot\\mtvenv\\lib\\site-packages (from statsmodels) (1.24.4)\n",
      "Requirement already satisfied: scipy!=1.9.2,>=1.4 in c:\\users\\saidj\\onedrive\\documentos\\projects\\forex_ml_bot\\forex_ml_bot\\mtvenv\\lib\\site-packages (from statsmodels) (1.10.1)\n",
      "Requirement already satisfied: packaging>=21.3 in c:\\users\\saidj\\onedrive\\documentos\\projects\\forex_ml_bot\\forex_ml_bot\\mtvenv\\lib\\site-packages (from statsmodels) (23.2)\n",
      "Requirement already satisfied: patsy>=0.5.4 in c:\\users\\saidj\\onedrive\\documentos\\projects\\forex_ml_bot\\forex_ml_bot\\mtvenv\\lib\\site-packages (from statsmodels) (0.5.6)\n",
      "Requirement already satisfied: tzdata>=2022.1 in c:\\users\\saidj\\onedrive\\documentos\\projects\\forex_ml_bot\\forex_ml_bot\\mtvenv\\lib\\site-packages (from pandas!=2.1.0,>=1.0->statsmodels) (2023.3)\n",
      "Requirement already satisfied: pytz>=2020.1 in c:\\users\\saidj\\onedrive\\documentos\\projects\\forex_ml_bot\\forex_ml_bot\\mtvenv\\lib\\site-packages (from pandas!=2.1.0,>=1.0->statsmodels) (2023.3.post1)\n",
      "Requirement already satisfied: python-dateutil>=2.8.2 in c:\\users\\saidj\\onedrive\\documentos\\projects\\forex_ml_bot\\forex_ml_bot\\mtvenv\\lib\\site-packages (from pandas!=2.1.0,>=1.0->statsmodels) (2.8.2)\n",
      "Requirement already satisfied: six in c:\\users\\saidj\\onedrive\\documentos\\projects\\forex_ml_bot\\forex_ml_bot\\mtvenv\\lib\\site-packages (from patsy>=0.5.4->statsmodels) (1.16.0)\n"
     ]
    },
    {
     "name": "stderr",
     "output_type": "stream",
     "text": [
      "WARNING: You are using pip version 20.2.3; however, version 24.1.2 is available.\n",
      "You should consider upgrading via the 'c:\\users\\saidj\\onedrive\\documentos\\projects\\forex_ml_bot\\forex_ml_bot\\mtvenv\\scripts\\python.exe -m pip install --upgrade pip' command.\n"
     ]
    }
   ],
   "source": [
    "! pip install statsmodels"
   ]
  },
  {
   "cell_type": "code",
   "execution_count": 5,
   "id": "84c4a814-277c-42cb-821c-d4d19d01d2f1",
   "metadata": {},
   "outputs": [],
   "source": [
    "import os\n",
    "import sys\n",
    "root_dir = os.path.abspath(os.path.join(os.path.dirname('pruebillas.ipynb'), '..'))\n",
    "os.chdir(root_dir)\n",
    "sys.path.insert(0, os.path.join(root_dir, 'src'))"
   ]
  },
  {
   "cell_type": "code",
   "execution_count": 6,
   "id": "380dcb0a-74b3-4f83-a62e-fa5287b8c847",
   "metadata": {},
   "outputs": [],
   "source": [
    "import numpy as np\n",
    "from sklearn.metrics import f1_score, make_scorer, precision_score, recall_score\n",
    "from sklearn.linear_model import LogisticRegression\n",
    "from xgboost import XGBClassifier\n",
    "from backbone.probability_transformer import ProbabilityTransformer \n",
    "import pandas as pd\n",
    "from sklearn.pipeline import Pipeline\n",
    "from sklearn.model_selection import GridSearchCV, StratifiedKFold\n",
    "from sklearn.metrics import make_scorer, f1_score, roc_auc_score\n",
    "from sklearn.preprocessing import StandardScaler\n",
    "from typing import Tuple\n",
    "import yaml\n",
    "from sklearn.metrics import classification_report\n",
    "from datetime import datetime, timedelta\n",
    "import numpy as np\n",
    "import pandas as pd\n",
    "from tqdm import tqdm\n",
    "from statsmodels.tsa.filters.hp_filter import hpfilter\n",
    "import os\n",
    "from sklearn.metrics import accuracy_score\n",
    "from IPython.display import clear_output\n",
    "\n",
    "pd.options.display.max_rows = 999"
   ]
  },
  {
   "cell_type": "code",
   "execution_count": 3,
   "id": "6ae82f4b-f988-4c94-9c7c-f5fe2ce4ea50",
   "metadata": {},
   "outputs": [],
   "source": [
    "import random\n",
    "import numpy as np\n",
    "import pandas as pd\n",
    "from tqdm import tqdm\n",
    "\n",
    "def apply_cusum_filter(raw_price, threshold):\n",
    "    \"\"\"\n",
    "    :param raw_price: (series) of close prices.\n",
    "    :param threshold: (float) when the abs(change) is larger than the threshold, the\n",
    "    function captures it as an event.\n",
    "    :return: (datetime index vector) vector of datetimes when the events occurred. This is used later to sample.\n",
    "    \"\"\"\n",
    "    print('Applying Symmetric CUSUM filter.')\n",
    "\n",
    "    t_events = []\n",
    "    s_pos = 0\n",
    "    s_neg = 0\n",
    "\n",
    "    # log returns\n",
    "    diff = np.log(raw_price).diff().dropna()\n",
    "\n",
    "    # Get event time stamps for the entire series\n",
    "    for i in tqdm(diff.index[1:]):\n",
    "        pos = float(s_pos + diff.loc[i])\n",
    "        neg = float(s_neg + diff.loc[i])\n",
    "        s_pos = max(0.0, pos)\n",
    "        s_neg = min(0.0, neg)\n",
    "\n",
    "        if s_neg < -threshold:\n",
    "            s_neg = 0\n",
    "            t_events.append(i)\n",
    "\n",
    "        elif s_pos > threshold:\n",
    "            s_pos = 0\n",
    "            t_events.append(i)\n",
    "\n",
    "    event_timestamps = pd.DatetimeIndex(t_events)\n",
    "    return event_timestamps\n",
    "\n",
    "# Función para calcular la volatilidad diaria\n",
    "def get_daily_volatility(close_prices, span=100):\n",
    "    returns = close_prices.pct_change()\n",
    "    volatility = returns.ewm(span=span).std()\n",
    "    return volatility\n",
    "\n",
    "def apply_triple_barrier(\n",
    "    close_prices, \n",
    "    high_prices, \n",
    "    low_prices, \n",
    "    take_profit_in_pips, \n",
    "    stop_loss_in_pips, \n",
    "    side,\n",
    "    max_holding_period=50, \n",
    "    pip_size=0.0001\n",
    "    ):\n",
    "\n",
    "    barriers = []\n",
    "    for index in range(len(close_prices)):\n",
    "        actual_close_price = close_prices[index]\n",
    "        \n",
    "        if side[index] == 1:\n",
    "            # Para una señal de compra\n",
    "            upper_barrier_level = round(actual_close_price + (take_profit_in_pips * pip_size), 4)\n",
    "            lower_barrier_level = round(actual_close_price - (stop_loss_in_pips * pip_size), 4)\n",
    "        elif side[index] == -1:\n",
    "            # Para una señal de venta\n",
    "            upper_barrier_level = round(actual_close_price + (stop_loss_in_pips * pip_size), 4)\n",
    "            lower_barrier_level = round(actual_close_price - (take_profit_in_pips * pip_size), 4)\n",
    "        else:\n",
    "            # Si no hay señal, saltar al siguiente índice\n",
    "            continue\n",
    "        \n",
    "        # Evaluar los precios futuros dentro del período máximo de mantenimiento\n",
    "        for j in range(index + 1, min(index + max_holding_period, len(close_prices))):\n",
    "            future_close_price = close_prices[j]\n",
    "            future_high_price = high_prices[j]\n",
    "            future_low_price = low_prices[j]\n",
    "            \n",
    "            if side[index] == 1:\n",
    "\n",
    "                if future_low_price <= lower_barrier_level:\n",
    "                    barriers.append((index, 0))  # Etiqueta 0 para stop-loss\n",
    "                    break\n",
    "\n",
    "                elif future_high_price >= upper_barrier_level:\n",
    "                    barriers.append((index, 1))  # Etiqueta 1 para toma de ganancias\n",
    "                    break\n",
    "\n",
    "            elif side[index] == -1:\n",
    "                # Señal de venta: tomar ganancias si se alcanza la barrera inferior\n",
    "\n",
    "                if future_high_price >= upper_barrier_level:\n",
    "                    barriers.append((index, 0))  # Etiqueta 0 para stop-loss\n",
    "                    break\n",
    "\n",
    "                elif future_low_price <= lower_barrier_level:\n",
    "                    barriers.append((index, 1))  # Etiqueta 1 para toma de ganancias\n",
    "                    break\n",
    "\n",
    "        else:\n",
    "            barriers.append((index, 2))  # Etiqueta 2 si no se alcanza ninguna barrera\n",
    "    \n",
    "    # # Revisar los eventos etiquetados como 2 para determinar si son ganancias o pérdidas\n",
    "    # for idx, (event_index, label) in enumerate(barriers):\n",
    "    #     if label == 2:\n",
    "    #         # Determinar si el precio final fue una ganancia o una pérdida\n",
    "    #         final_price = close_prices[min(event_index + max_holding_period, len(close_prices) - 1)]\n",
    "    #         initial_price = close_prices[event_index]\n",
    "            \n",
    "    #         if side[event_index] == 1:\n",
    "    #             # Para una señal de compra\n",
    "    #             if final_price >= initial_price:\n",
    "    #                 barriers[idx] = (event_index, 1)  # Etiqueta 1 para toma de ganancias\n",
    "    #             elif final_price < initial_price:\n",
    "    #                 barriers[idx] = (event_index, 0)  # Etiqueta 0 para stop-loss\n",
    "    #         elif side[event_index] == -1:\n",
    "    #             # Para una señal de venta\n",
    "    #             if final_price <= initial_price:\n",
    "    #                 barriers[idx] = (event_index, 1)  # Etiqueta 1 para toma de ganancias\n",
    "    #             elif final_price > initial_price:\n",
    "    #                 barriers[idx] = (event_index, 0)  # Etiqueta 0 para stop-loss\n",
    "\n",
    "    return barriers\n",
    "\n",
    "\n",
    "\n",
    "def triple_barrier_labeling(\n",
    "        close_prices, \n",
    "        high_prices, \n",
    "        low_prices, \n",
    "        take_profit_in_pips, \n",
    "        stop_loss_in_pips, \n",
    "        side,\n",
    "        max_holding_period=50, \n",
    "        pip_size=0.0001,\n",
    "    ):\n",
    "\n",
    "    labels = apply_triple_barrier(\n",
    "        close_prices,\n",
    "        high_prices, \n",
    "        low_prices, \n",
    "        take_profit_in_pips, \n",
    "        stop_loss_in_pips, \n",
    "        side,\n",
    "        max_holding_period, \n",
    "        pip_size\n",
    "    )\n",
    "    \n",
    "    target = [label for _, label in labels]\n",
    "    return target\n"
   ]
  },
  {
   "cell_type": "code",
   "execution_count": 4,
   "id": "04f6a8a8-2f90-4eac-ae6e-e9bf75196d05",
   "metadata": {},
   "outputs": [],
   "source": [
    "def bband_sell_stgy(prices_with_indicators, window):\n",
    "    df = prices_with_indicators.copy()\n",
    "    \n",
    "    df['bband_flag'] = 0\n",
    "    df['bband_flag'] = np.where((df['Close'] > df['upper_bband']), -1, df['bband_flag']) \n",
    "    df['bband_flag'] = np.where((df['Close'] < df['lower_bband']), 1, df['bband_flag']) \n",
    "\n",
    "    df['bband_distance_flag'] = 0\n",
    "    df['bband_distance_flag'] = np.where((df['distance_between_bbands'] > 80), 1, df['bband_distance_flag']) \n",
    "\n",
    "    # Bband Flag\n",
    "    df['bband_flag_negative_window'] = df['bband_flag'].rolling(window=window).apply(lambda x: 1 if (x == -1).all() else 0, raw=True)\n",
    "    df['bband_distance_flag_window'] = df['bband_distance_flag'].rolling(window=window).apply(lambda x: 1 if (x == 1).all() else 0, raw=True)\n",
    "\n",
    "    amount_conditions = 3\n",
    "\n",
    "    short_signals = (\n",
    "        (df['bband_flag_negative_window'].shift(1) == 1).astype(int) +\n",
    "        (df['Close'] < df['Open']).astype(int) +\n",
    "        ((df['Open'] - df['Close']) / 0.0001 > 15).astype(int) +\n",
    "        (df['bband_distance_flag_window'] == 1).astype(int)\n",
    "    ) >= amount_conditions\n",
    "\n",
    "    df.loc[short_signals, 'side'] = -1\n",
    "\n",
    "    df.dropna(inplace=True)\n",
    "    return df"
   ]
  },
  {
   "cell_type": "code",
   "execution_count": 33,
   "id": "ad84a4bb-ae52-48b0-89c9-1ba2f4a02a40",
   "metadata": {},
   "outputs": [
    {
     "name": "stdout",
     "output_type": "stream",
     "text": [
      "Creando target\n"
     ]
    }
   ],
   "source": [
    "symbols_path = './backbone/data/backtest/symbols/EURUSD.csv'\n",
    "df = pd.read_csv(symbols_path)\n",
    "df = df[['Date','Close','High','Low','Open', 'upper_bband','lower_bband','macdhist','rsi', 'adx','mfi', 'sma_12', 'sma_26', 'distance_between_bbands']]\n",
    "print('Creando target')\n",
    "df['Date'] = pd.to_datetime(df['Date'])\n",
    "df = df.sort_values(by='Date')\n",
    "df = df.set_index('Date')\n",
    "\n",
    "instrument = df.copy()\n",
    "# compute bband sides\n",
    "\n",
    "instrument['side'] = np.nan\n",
    "\n",
    "window = 4\n",
    "instrument = bband_sell_stgy(instrument, window)\n",
    "\n",
    "instrument.dropna(inplace=True)"
   ]
  },
  {
   "cell_type": "code",
   "execution_count": null,
   "id": "19394973-a8b8-44c0-93ca-09fdae19efd9",
   "metadata": {},
   "outputs": [],
   "source": [
    "sl = 5\n",
    "rr = 2\n",
    "holding_period = 12\n",
    "\n",
    "instrument['target'] = triple_barrier_labeling(\n",
    "    close_prices=instrument['Close'], \n",
    "    high_prices=instrument['High'], \n",
    "    low_prices=instrument['Low'], \n",
    "    stop_loss_in_pips=sl, \n",
    "    take_profit_in_pips=sl * rr, \n",
    "    max_holding_period=holding_period, \n",
    "    pip_size=0.001,\n",
    "    side=instrument['side']\n",
    ")\n",
    "\n",
    "df.loc[instrument.index, 'side'] = instrument.side\n",
    "df.loc[instrument.index, 'target'] = instrument.target\n",
    "df.fillna(0, inplace=True)\n",
    "# df.reset_index(inplace=True)\n",
    "\n",
    "\n",
    "# Aplicar la lógica para mantener solo un 1 o -1 por cada secuencia de 1s o -1s consecutivos\n",
    "df['side'] = df['side'].where(\n",
    "    (df['side'] == 0) | (df['side'] != df['side'].shift(1)),\n",
    "    0\n",
    ")\n",
    "\n",
    "\n",
    "df['target'] = np.where(df['side'] != 0, df['target'], 0)\n",
    "\n",
    "display(pd.DataFrame(df[df.side!=0].groupby(by=['side','target'])['target'].count()))\n",
    "\n",
    "\n",
    "\n",
    "df['dummy_model_pred'] = 1\n",
    "print(classification_report(df[df.side != 0].target, df[df.side != 0].dummy_model_pred))"
   ]
  },
  {
   "cell_type": "code",
   "execution_count": 20,
   "id": "af161d24-ca84-4543-a645-aac9209f16e9",
   "metadata": {},
   "outputs": [],
   "source": [
    "df = df.reset_index()"
   ]
  },
  {
   "cell_type": "code",
   "execution_count": 9,
   "id": "bcde9bdd-b520-457e-93c2-2af85802f18c",
   "metadata": {},
   "outputs": [],
   "source": [
    "from matplotlib import pyplot as plt"
   ]
  },
  {
   "cell_type": "code",
   "execution_count": 10,
   "id": "96367957-e96a-4f2b-9012-30e1dce8bcde",
   "metadata": {},
   "outputs": [
    {
     "data": {
      "image/png": "[encoded data removed]",
      "text/plain": [
       "<Figure size 1400x600 with 1 Axes>"
      ]
     },
     "metadata": {},
     "output_type": "display_data"
    },
    {
     "ename": "KeyboardInterrupt",
     "evalue": "Interrupted by user",
     "output_type": "error",
     "traceback": [
      "\u001b[1;31m---------------------------------------------------------------------------\u001b[0m",
      "\u001b[1;31mKeyboardInterrupt\u001b[0m                         Traceback (most recent call last)",
      "Cell \u001b[1;32mIn[10], line 61\u001b[0m\n\u001b[0;32m     57\u001b[0m plt\u001b[38;5;241m.\u001b[39mshow()\n\u001b[0;32m     59\u001b[0m \u001b[38;5;66;03m# print(date_from_str, date_to_str)\u001b[39;00m\n\u001b[1;32m---> 61\u001b[0m a \u001b[38;5;241m=\u001b[39m \u001b[38;5;28;43minput\u001b[39;49m\u001b[43m(\u001b[49m\u001b[43m)\u001b[49m\n\u001b[0;32m     63\u001b[0m clear_output()\n",
      "File \u001b[1;32mc:\\users\\saidj\\onedrive\\documentos\\projects\\forex_ml_bot\\forex_ml_bot\\mtvenv\\lib\\site-packages\\ipykernel\\kernelbase.py:1202\u001b[0m, in \u001b[0;36mKernel.raw_input\u001b[1;34m(self, prompt)\u001b[0m\n\u001b[0;32m   1200\u001b[0m     msg \u001b[38;5;241m=\u001b[39m \u001b[38;5;124m\"\u001b[39m\u001b[38;5;124mraw_input was called, but this frontend does not support input requests.\u001b[39m\u001b[38;5;124m\"\u001b[39m\n\u001b[0;32m   1201\u001b[0m     \u001b[38;5;28;01mraise\u001b[39;00m StdinNotImplementedError(msg)\n\u001b[1;32m-> 1202\u001b[0m \u001b[38;5;28;01mreturn\u001b[39;00m \u001b[38;5;28;43mself\u001b[39;49m\u001b[38;5;241;43m.\u001b[39;49m\u001b[43m_input_request\u001b[49m\u001b[43m(\u001b[49m\n\u001b[0;32m   1203\u001b[0m \u001b[43m    \u001b[49m\u001b[38;5;28;43mstr\u001b[39;49m\u001b[43m(\u001b[49m\u001b[43mprompt\u001b[49m\u001b[43m)\u001b[49m\u001b[43m,\u001b[49m\n\u001b[0;32m   1204\u001b[0m \u001b[43m    \u001b[49m\u001b[38;5;28;43mself\u001b[39;49m\u001b[38;5;241;43m.\u001b[39;49m\u001b[43m_parent_ident\u001b[49m\u001b[43m[\u001b[49m\u001b[38;5;124;43m\"\u001b[39;49m\u001b[38;5;124;43mshell\u001b[39;49m\u001b[38;5;124;43m\"\u001b[39;49m\u001b[43m]\u001b[49m\u001b[43m,\u001b[49m\n\u001b[0;32m   1205\u001b[0m \u001b[43m    \u001b[49m\u001b[38;5;28;43mself\u001b[39;49m\u001b[38;5;241;43m.\u001b[39;49m\u001b[43mget_parent\u001b[49m\u001b[43m(\u001b[49m\u001b[38;5;124;43m\"\u001b[39;49m\u001b[38;5;124;43mshell\u001b[39;49m\u001b[38;5;124;43m\"\u001b[39;49m\u001b[43m)\u001b[49m\u001b[43m,\u001b[49m\n\u001b[0;32m   1206\u001b[0m \u001b[43m    \u001b[49m\u001b[43mpassword\u001b[49m\u001b[38;5;241;43m=\u001b[39;49m\u001b[38;5;28;43;01mFalse\u001b[39;49;00m\u001b[43m,\u001b[49m\n\u001b[0;32m   1207\u001b[0m \u001b[43m\u001b[49m\u001b[43m)\u001b[49m\n",
      "File \u001b[1;32mc:\\users\\saidj\\onedrive\\documentos\\projects\\forex_ml_bot\\forex_ml_bot\\mtvenv\\lib\\site-packages\\ipykernel\\kernelbase.py:1245\u001b[0m, in \u001b[0;36mKernel._input_request\u001b[1;34m(self, prompt, ident, parent, password)\u001b[0m\n\u001b[0;32m   1242\u001b[0m \u001b[38;5;28;01mexcept\u001b[39;00m \u001b[38;5;167;01mKeyboardInterrupt\u001b[39;00m:\n\u001b[0;32m   1243\u001b[0m     \u001b[38;5;66;03m# re-raise KeyboardInterrupt, to truncate traceback\u001b[39;00m\n\u001b[0;32m   1244\u001b[0m     msg \u001b[38;5;241m=\u001b[39m \u001b[38;5;124m\"\u001b[39m\u001b[38;5;124mInterrupted by user\u001b[39m\u001b[38;5;124m\"\u001b[39m\n\u001b[1;32m-> 1245\u001b[0m     \u001b[38;5;28;01mraise\u001b[39;00m \u001b[38;5;167;01mKeyboardInterrupt\u001b[39;00m(msg) \u001b[38;5;28;01mfrom\u001b[39;00m \u001b[38;5;28;01mNone\u001b[39;00m\n\u001b[0;32m   1246\u001b[0m \u001b[38;5;28;01mexcept\u001b[39;00m \u001b[38;5;167;01mException\u001b[39;00m:\n\u001b[0;32m   1247\u001b[0m     \u001b[38;5;28mself\u001b[39m\u001b[38;5;241m.\u001b[39mlog\u001b[38;5;241m.\u001b[39mwarning(\u001b[38;5;124m\"\u001b[39m\u001b[38;5;124mInvalid Message:\u001b[39m\u001b[38;5;124m\"\u001b[39m, exc_info\u001b[38;5;241m=\u001b[39m\u001b[38;5;28;01mTrue\u001b[39;00m)\n",
      "\u001b[1;31mKeyboardInterrupt\u001b[0m: Interrupted by user"
     ]
    }
   ],
   "source": [
    "ticker = 'EURUSD'\n",
    "\n",
    "orders = df[df.side != 0]\n",
    "for index, order in orders.iterrows():\n",
    "\n",
    "    date_from = order.Date - timedelta(hours=24)\n",
    "    date_to = order.Date + timedelta(hours=24)\n",
    "    \n",
    "    date_from_str = date_from.strftime('%Y-%m-%d-%H')\n",
    "    date_to_str = date_to.strftime('%Y-%m-%d-%H')\n",
    "\n",
    "    historical_prices = df[\n",
    "        (df['Date']>date_from_str)\n",
    "        & (df['Date']<date_to_str)\n",
    "    ]\n",
    "    \n",
    "\n",
    "    plt.figure(figsize=(14, 6))\n",
    "    plt.plot(historical_prices['Date'], historical_prices['High'], label=f'{ticker} Close Price', color='blue')\n",
    "    plt.plot(historical_prices['Date'], historical_prices['Low'], label=f'{ticker} Close Price', color='blue')\n",
    "    plt.plot(historical_prices['Date'], historical_prices['upper_bband'], '--r', label=f'{ticker} High Price')\n",
    "    plt.plot(historical_prices['Date'], historical_prices['lower_bband'], '--r', label=f'{ticker} Low Price')\n",
    "\n",
    "    plt.axhline(order.Close, color='blue', linewidth=0.8, linestyle='--')\n",
    "\n",
    "    order_result = ''\n",
    "    if order.target == 1:\n",
    "        order_result = 'success' \n",
    "    if order.target == 0:\n",
    "        order_result = 'failed'\n",
    "    if order.target == 2:\n",
    "        order_result = 'days'\n",
    "\n",
    "    stop_loss = None\n",
    "    take_profit = None\n",
    "\n",
    "    if order.side == 1:\n",
    "        stop_loss = order.Close - (0.0001 * sl)\n",
    "        take_profit = order.Close + (0.0001 * sl * rr)\n",
    "        plt.scatter([str(order.Date)], [order.Close], color='green', marker='^', s=100, label=f'Buy Open {order_result}')\n",
    "    else:\n",
    "        stop_loss = order.Close + (0.0001 * sl)\n",
    "        take_profit = order.Close - (0.0001 * sl * rr)\n",
    "        plt.scatter([str(order.Date)], [order.Close], color='red', marker='v', s=100, label=f'Sell Open {order_result}')\n",
    "    \n",
    "    plt.axhline(stop_loss, color='red', linewidth=0.8, linestyle='--')\n",
    "    plt.axhline(take_profit, color='green', linewidth=0.8, linestyle='--')\n",
    "    \n",
    "    # Añadir etiquetas y leyenda\n",
    "    plt.xlabel('Date')\n",
    "    plt.ylabel('Price')\n",
    "    plt.title(f'{ticker} Price with Buy/Sell Trades')\n",
    "    plt.legend()\n",
    "    plt.xticks(rotation=45)\n",
    "\n",
    "    # Mostrar el gráfico\n",
    "    plt.show()\n",
    "    \n",
    "    # print(date_from_str, date_to_str)\n",
    "   \n",
    "    a = input()\n",
    "    \n",
    "    clear_output()\n"
   ]
  },
  {
   "cell_type": "code",
   "execution_count": null,
   "id": "e7a7dd5a-03b8-4866-be02-0b617f10c34e",
   "metadata": {},
   "outputs": [],
   "source": [
    "df['Date'] = df['Date'].dt.to_period('M')\n",
    "df[df.side != 0].groupby(by=['Date','side','target'])[['target']].count()"
   ]
  },
  {
   "cell_type": "code",
   "execution_count": null,
   "id": "d1b934a9-802d-4190-9c9f-0dde597d5490",
   "metadata": {},
   "outputs": [],
   "source": [
    "df['year'] = df.Date.dt.year\n",
    "df['month'] = df.Date.dt.month\n",
    "df['day'] = df.Date.dt.day\n",
    "df['hour'] = df.Date.dt.hour\n",
    "\n",
    "df[df.side!=0].groupby(['year','month','day'])['side'].count()\n",
    "\n"
   ]
  },
  {
   "cell_type": "code",
   "execution_count": 22,
   "id": "4fb74bdd-83c2-494c-8e3b-eaf94c276e7e",
   "metadata": {},
   "outputs": [
    {
     "data": {
      "image/png": "[encoded data removed]",
      "text/plain": [
       "<Figure size 1725x575 with 2 Axes>"
      ]
     },
     "metadata": {},
     "output_type": "display_data"
    }
   ],
   "source": [
    "import pandas as pd\n",
    "import numpy as np\n",
    "import mplfinance as mpf\n",
    "import matplotlib.pyplot as plt\n",
    "from datetime import timedelta\n",
    "\n",
    "symbols_path = './backbone/data/backtest/symbols/USDCHF.csv'\n",
    "historical_prices = pd.read_csv(symbols_path, nrows=150)\n",
    "\n",
    "historical_prices['Date'] = pd.to_datetime(historical_prices['Date'])\n",
    "\n",
    "historical_prices.set_index('Date', inplace=True)\n",
    "\n",
    "resistances = mpf.make_addplot(historical_prices['r1'], type='scatter')\n",
    "supports = mpf.make_addplot(historical_prices['s1'], type='scatter')\n",
    "\n",
    "# Crear las listas de anotaciones inicializadas con NaN\n",
    "fig, axlist = mpf.plot(\n",
    "    historical_prices, \n",
    "    type='candle', \n",
    "    style='yahoo', \n",
    "    returnfig=True, \n",
    "    volume=False, \n",
    "    title='Price with Buy/Sell Trades', \n",
    "    figratio=(15,5),\n",
    "    addplot=[supports, resistances]\n",
    ")\n",
    "\n",
    "\n",
    "# Añadir etiquetas y leyenda\n",
    "handles, labels = ax.get_legend_handles_labels()\n",
    "by_label = dict(zip(labels, handles))\n",
    "ax.legend(by_label.values(), by_label.keys())\n",
    "\n",
    "plt.xticks(rotation=45)\n",
    "\n",
    "plt.show()\n"
   ]
  },
  {
   "cell_type": "code",
   "execution_count": null,
   "id": "a39761fe-a2ef-4b2d-9e16-b7293766156d",
   "metadata": {},
   "outputs": [],
   "source": []
  },
  {
   "cell_type": "code",
   "execution_count": null,
   "id": "53ba3baa-329a-444c-a9be-8f43cefad3be",
   "metadata": {},
   "outputs": [],
   "source": []
  },
  {
   "cell_type": "code",
   "execution_count": null,
   "id": "a5cfb966-cadd-4bad-961d-f9780f2c65dd",
   "metadata": {},
   "outputs": [],
   "source": []
  },
  {
   "cell_type": "code",
   "execution_count": null,
   "id": "9821ca77-1d9b-47b1-8245-30e589e91d19",
   "metadata": {},
   "outputs": [],
   "source": []
  },
  {
   "cell_type": "code",
   "execution_count": null,
   "id": "9da660e5-4ad6-4eaa-ab2d-48090b334517",
   "metadata": {},
   "outputs": [],
   "source": []
  },
  {
   "cell_type": "code",
   "execution_count": null,
   "id": "4e556fda-bbaa-4b0f-b142-27cd4936df53",
   "metadata": {},
   "outputs": [],
   "source": []
  },
  {
   "cell_type": "code",
   "execution_count": null,
   "id": "3a6c7f86-0376-4e63-ae59-42f2b30be587",
   "metadata": {},
   "outputs": [],
   "source": [
    "# import pandas as pd\n",
    "# import os\n",
    "# pd.set_option('display.max_columns', None)\n",
    "\n",
    "# periods_forward = 5\n",
    "\n",
    "# tickers = ['EURUSD']\n",
    "# symbols_path = './backbone/data/backtest/symbols'\n",
    "# instruments = {}\n",
    "# df = pd.DataFrame()\n",
    "\n",
    "# for ticker in tickers:\n",
    "#     instruments[ticker] = pd.read_csv(os.path.join(symbols_path, f'{ticker}.csv'))\n",
    "  \n",
    "#     instruments[ticker]['ticker'] = ticker\n",
    "  \n",
    "#     print('Creando target')\n",
    "   \n",
    "#     instruments[ticker] = instruments[ticker].sort_values(by='Date')\n",
    "\n",
    "#     instruments[ticker]['target'] = triple_barrier_labeling(instruments[ticker], upper_barrier=0.015, lower_barrier=0.015, max_holding_period=48, span=100)\n",
    "    \n",
    "#     df = pd.concat([\n",
    "#         df,\n",
    "#         instruments[ticker]\n",
    "#     ])\n",
    "\n",
    "#     df['Date'] = pd.to_datetime(df['Date'], format='%Y-%m-%d %H:00:00')\n",
    "\n",
    "#     df = df.sort_values(by='Date')"
   ]
  },
  {
   "cell_type": "code",
   "execution_count": null,
   "id": "11a3a322-05e6-4f04-b6a7-5c0cb1fec910",
   "metadata": {},
   "outputs": [],
   "source": [
    "date_format = '%Y-%m-%d %H:00:00'\n",
    "window = 11520\n",
    "\n",
    "actual_date = datetime(2023,1,1,0,0,0)\n",
    "\n",
    "date_to = actual_date - timedelta(hours=24+1) \n",
    "date_from = date_to - timedelta(hours=window)\n",
    "\n",
    "date_from_test = actual_date\n",
    "date_to_test = date_from_test + timedelta(hours=1440)\n",
    "\n",
    "date_from_str = date_from.strftime(date_format)\n",
    "date_to_str = date_to.strftime(date_format)\n",
    "date_from_test_str = date_from_test.strftime(date_format)\n",
    "date_to_test_str = date_to_test.strftime(date_format)\n",
    "\n",
    "\n",
    "train = df[(df['Date']>date_from_str) & (df['Date']<date_to_str) & (df.side != 0)]\n",
    "test = df[(df['Date']>date_from_test_str) & (df['Date']<date_to_test_str) & (df.side != 0)]\n",
    "\n",
    "train.target.value_counts()"
   ]
  },
  {
   "cell_type": "code",
   "execution_count": null,
   "id": "c88a0bf6-7612-454d-96f6-72867b043468",
   "metadata": {},
   "outputs": [],
   "source": [
    "test.target.value_counts()"
   ]
  },
  {
   "cell_type": "code",
   "execution_count": null,
   "id": "d76d91f8-6cc5-4259-8c2c-85abda91f32a",
   "metadata": {},
   "outputs": [],
   "source": [
    "from backbone.machine_learning_agent import MachineLearningAgent\n",
    "\n",
    "with open('./configs/model_config.yml', 'r') as file:\n",
    "    model_configs = yaml.safe_load(file)\n",
    "\n",
    "cols_to_drop = [\n",
    "  'Open',\n",
    "  'High',\n",
    "  'Low',\n",
    "  'Close',\n",
    "  'target', \n",
    "  'Date', \n",
    "  # 'ticker'\n",
    "]\n",
    "\n",
    "model_name = 'gradient_boosting'\n",
    "\n",
    "param_grid = model_configs[model_name]['param_grid']\n",
    "model = model_configs[model_name]['model']\n",
    "\n",
    "mla = MachineLearningAgent(\n",
    "    tickers=['EURUSD', 'GBPUSD', 'USDJPY', 'USDCAD', 'AUDUSD', 'USDCHF'], \n",
    "    model=model, \n",
    "    param_grid=param_grid\n",
    ")"
   ]
  },
  {
   "cell_type": "code",
   "execution_count": null,
   "id": "95a1bbcf-2dec-4aab-bf2a-957627c2533a",
   "metadata": {},
   "outputs": [],
   "source": [
    "x_train = train.drop(columns=cols_to_drop)\n",
    "y_train = train.target"
   ]
  },
  {
   "cell_type": "code",
   "execution_count": null,
   "id": "ce3f21f8-867d-4a91-b07e-97e9b776c8d8",
   "metadata": {},
   "outputs": [],
   "source": [
    "y_train.value_counts()"
   ]
  },
  {
   "cell_type": "code",
   "execution_count": null,
   "id": "1f69d55c-5d68-4bab-b6b6-725d3d5011bd",
   "metadata": {},
   "outputs": [],
   "source": [
    "mla.train(\n",
    "    x_train = train.drop(columns=cols_to_drop),\n",
    "    x_test = test.drop(columns=cols_to_drop),\n",
    "    y_train = train.target,\n",
    "    y_test = test.target,\n",
    "    date_train=actual_date,\n",
    "    verbose=True,\n",
    "    undersampling=False\n",
    ")"
   ]
  },
  {
   "cell_type": "markdown",
   "id": "bf0efc20-5291-42ff-b9e6-9d07af4ab09b",
   "metadata": {},
   "source": [
    "# Train performance"
   ]
  },
  {
   "cell_type": "code",
   "execution_count": null,
   "id": "18b040a9-d923-4ffb-b290-094389d44588",
   "metadata": {},
   "outputs": [],
   "source": [
    "classes, probas = mla.predict_proba(train.drop(columns=cols_to_drop))\n",
    "\n",
    "precision = precision_score(train.target, classes, average='weighted')\n",
    "recall = recall_score(train.target, classes, average='weighted')\n",
    "f1 = f1_score(train.target, classes, average='weighted')\n",
    "\n",
    "print(precision)\n",
    "print(recall)\n",
    "print(f1) \n",
    "\n",
    "print(classification_report(train.target, classes))"
   ]
  },
  {
   "cell_type": "markdown",
   "id": "bede6b3f-998d-4554-ba77-039fd3815f91",
   "metadata": {},
   "source": [
    "# Test performance"
   ]
  },
  {
   "cell_type": "code",
   "execution_count": null,
   "id": "4554a318-f240-4f45-aa26-9f3caf24fe0a",
   "metadata": {},
   "outputs": [],
   "source": [
    "classes, probas = mla.predict_proba(test.drop(columns=cols_to_drop))\n",
    "\n",
    "precision = precision_score(test.target, classes, average='weighted')\n",
    "recall = recall_score(test.target, classes, average='weighted')\n",
    "f1 = f1_score(test.target, classes, average='weighted')\n",
    "\n",
    "print(precision)\n",
    "print(recall)\n",
    "print(f1) \n",
    "\n",
    "# target_names = ['class 0', 'class 1', 'class 2']\n",
    "print(classification_report(test.target, classes))"
   ]
  },
  {
   "cell_type": "code",
   "execution_count": null,
   "id": "5f43bec9-18fc-496a-93d7-1ccf00e625fc",
   "metadata": {},
   "outputs": [],
   "source": [
    "binary_probas = np.where(classes == 0, 1-probas, probas)\n",
    "binary_probas"
   ]
  },
  {
   "cell_type": "code",
   "execution_count": null,
   "id": "5d6494c9-ced0-4de3-a893-ef689af0bda1",
   "metadata": {},
   "outputs": [],
   "source": [
    "test['pred_label'] = np.nan\n",
    "test['proba'] = np.nan\n",
    "\n",
    "cols_to_drop += ['pred_label', 'proba']\n",
    "side = (test.side != 0).any()\n",
    "\n",
    "for index, stock in test.iterrows():\n",
    "  \n",
    "  if side:\n",
    "      # Drop the specified columns before prediction\n",
    "      stock_features = stock.drop(labels=cols_to_drop)\n",
    "      \n",
    "      stock_features_df = pd.DataFrame([stock_features])\n",
    "\n",
    "      # Predict the class and probability\n",
    "      _class, proba = mla.predict_proba(stock_features_df)\n",
    "      \n",
    "      # Assign the predicted class and probability to the DataFrame\n",
    "      test.at[index, 'pred_label'] = _class\n",
    "      test.at[index, 'proba'] = proba\n"
   ]
  },
  {
   "cell_type": "code",
   "execution_count": null,
   "id": "03986491-dd69-4960-8a5d-95cdc760fc1a",
   "metadata": {},
   "outputs": [],
   "source": []
  },
  {
   "cell_type": "code",
   "execution_count": null,
   "id": "6a3528d4-3e42-493e-ba01-d901ab6990e3",
   "metadata": {},
   "outputs": [],
   "source": [
    "precision = precision_score(test.target, test.pred_label, average='weighted')\n",
    "recall = recall_score(test.target, test.pred_label, average='weighted')\n",
    "f1 = f1_score(test.target, test.pred_label, average='weighted')\n",
    "\n",
    "print(precision)\n",
    "print(recall)\n",
    "print(f1) \n",
    "\n",
    "# target_names = ['class 0', 'class 1', 'class 2']\n",
    "print(classification_report(test.target, test.pred_label))"
   ]
  },
  {
   "cell_type": "code",
   "execution_count": null,
   "id": "c96fd2ee-b4a6-432a-aa1f-fdf7c3b95874",
   "metadata": {},
   "outputs": [],
   "source": []
  },
  {
   "cell_type": "code",
   "execution_count": null,
   "id": "f4fd03bf-0a24-4e60-98f6-fae821aa3b07",
   "metadata": {},
   "outputs": [],
   "source": []
  },
  {
   "cell_type": "code",
   "execution_count": null,
   "id": "5dc03747-c4ec-410e-aff8-f2be7542c65d",
   "metadata": {},
   "outputs": [],
   "source": []
  },
  {
   "cell_type": "code",
   "execution_count": null,
   "id": "2502cc7e-b8c3-4947-90a0-1589ee79bb7d",
   "metadata": {},
   "outputs": [],
   "source": [
    "test_results = {}\n",
    "test_results['EURUSD'] = {}\n",
    "test_results['USDJPY'] = {}\n",
    "test_results['USDCAD'] = {}\n",
    "test_results['EURUSD']['2021-01-01']={}\n",
    "test_results['USDJPY']['2021-01-01']={}\n",
    "test_results['USDCAD']['2021-01-01']={}\n",
    "\n",
    "test_results['EURUSD']['2021-01-02']={}\n",
    "test_results['USDJPY']['2021-01-02']={}\n",
    "test_results['USDCAD']['2021-01-02']={}"
   ]
  },
  {
   "cell_type": "code",
   "execution_count": null,
   "id": "bcafbca6-d2ef-4745-a204-f0fd697d2365",
   "metadata": {},
   "outputs": [],
   "source": [
    "test_results['EURUSD']['2021-01-01']['y_true'] = 1\n",
    "test_results['EURUSD']['2021-01-01']['y_pred'] = 0\n",
    "test_results['EURUSD']['2021-01-01']['y_proba'] = 0.2\n",
    "\n",
    "test_results['USDJPY']['2021-01-01']['y_true'] = 1\n",
    "test_results['USDJPY']['2021-01-01']['y_pred'] = 0\n",
    "test_results['USDJPY']['2021-01-01']['y_proba'] = 0.2\n",
    "\n",
    "test_results['USDCAD']['2021-01-01']['y_true'] = 1\n",
    "test_results['USDCAD']['2021-01-01']['y_pred'] = 0\n",
    "test_results['USDCAD']['2021-01-01']['y_proba'] = 0.2\n",
    "\n",
    "test_results['EURUSD']['2021-01-02']['y_true'] = 1\n",
    "test_results['EURUSD']['2021-01-02']['y_pred'] = 0\n",
    "test_results['EURUSD']['2021-01-02']['y_proba'] = 0.2\n",
    "\n",
    "test_results['USDJPY']['2021-01-02']['y_true'] = 1\n",
    "test_results['USDJPY']['2021-01-02']['y_pred'] = 0\n",
    "test_results['USDJPY']['2021-01-02']['y_proba'] = 0.2\n",
    "\n",
    "test_results['USDCAD']['2021-01-02']['y_true'] = 1\n",
    "test_results['USDCAD']['2021-01-02']['y_pred'] = 0\n",
    "test_results['USDCAD']['2021-01-02']['y_proba'] = 0.2"
   ]
  },
  {
   "cell_type": "code",
   "execution_count": null,
   "id": "64c74c35-f431-47b4-a2b3-70557b92cb8a",
   "metadata": {},
   "outputs": [],
   "source": [
    "test_results"
   ]
  },
  {
   "cell_type": "code",
   "execution_count": null,
   "id": "a681aeb0-494f-46e8-9c51-b6298fcc3b28",
   "metadata": {},
   "outputs": [],
   "source": [
    "df_results = pd.DataFrame()\n",
    "\n",
    "for ticker, values in test_results.items():\n",
    "    for date, values2 in values.items():\n",
    "        single_line_df = pd.DataFrame(\n",
    "            {\n",
    "                'ticker':[ticker], \n",
    "                'date':[date], \n",
    "                'y_true':values2['y_true'], \n",
    "                'y_pred':values2['y_pred'], \n",
    "                'proba':values2['y_proba'],\n",
    "            }\n",
    "        )\n",
    "\n",
    "        df_results = pd.concat([df_results, single_line_df])\n",
    "\n",
    "df_results\n",
    "           "
   ]
  },
  {
   "cell_type": "code",
   "execution_count": null,
   "id": "27b252c6-8134-41d6-9379-6f7eb7f617c2",
   "metadata": {
    "scrolled": true
   },
   "outputs": [],
   "source": [
    "df"
   ]
  },
  {
   "cell_type": "code",
   "execution_count": null,
   "id": "ea6ede8e-4275-40d7-adf8-af072f95691d",
   "metadata": {},
   "outputs": [],
   "source": [
    "import time\n",
    "import matplotlib.pyplot as plt\n",
    "import numpy as np\n",
    "from IPython.display import clear_output\n",
    "\n",
    "df = pd.read_csv('./backbone/data/trading/symbols/dataset.csv')\n",
    "\n",
    "\n",
    "for ticker in df.ticker.unique():\n",
    "    print(ticker)\n",
    "    df_ticker = df[df['ticker']==ticker].tail(48)\n",
    "    fig, ax = plt.subplots(figsize=(20, 10))\n",
    "    \n",
    "    # Datos de ejemplo\n",
    "    x = pd.to_datetime(df_ticker['Date'])\n",
    "    trend = df_ticker['trend']  # Datos para la línea\n",
    "    sma20 = df_ticker['SMA20']  # Datos para la línea\n",
    "    \n",
    "    # Crear una figura y ejes\n",
    "    \n",
    "    # Agregar la línea\n",
    "    ax.plot(x, trend, label='trend')\n",
    "    ax.plot(x, sma20, label='sma20')\n",
    "        \n",
    "    ax.legend()\n",
    "        \n",
    "        # Mostrar el gráfico\n",
    "        # print(path)\n",
    "    plt.show()\n",
    "    a = input()\n",
    "    \n",
    "    clear_output(wait=True)"
   ]
  },
  {
   "cell_type": "code",
   "execution_count": null,
   "id": "864bec5b-571f-4c8e-8064-4d74c7d80bd2",
   "metadata": {},
   "outputs": [],
   "source": [
    "df[(df['side']!=0)].tail()[['Date','ticker','side']]"
   ]
  },
  {
   "cell_type": "code",
   "execution_count": null,
   "id": "9729be6b-0075-4edd-81da-2692d4ae7509",
   "metadata": {},
   "outputs": [],
   "source": []
  },
  {
   "cell_type": "code",
   "execution_count": null,
   "id": "575350ec-34b7-4df6-878a-2ebfdd1101fe",
   "metadata": {},
   "outputs": [],
   "source": []
  },
  {
   "cell_type": "code",
   "execution_count": null,
   "id": "8f079c1f-e58b-4699-9c62-8c04b5e2ece6",
   "metadata": {},
   "outputs": [],
   "source": [
    "df[(df['side']!=0)].tail()[['Date','ticker','side']]"
   ]
  },
  {
   "cell_type": "code",
   "execution_count": null,
   "id": "72f82378-aa3d-4e25-ba40-d04c85d1bc27",
   "metadata": {},
   "outputs": [],
   "source": []
  },
  {
   "cell_type": "code",
   "execution_count": null,
   "id": "18784a76-7879-4020-ab9f-5f53591d1b01",
   "metadata": {},
   "outputs": [],
   "source": [
    "df.side."
   ]
  },
  {
   "cell_type": "code",
   "execution_count": null,
   "id": "e2300acd-a32f-4731-ba50-814817006384",
   "metadata": {},
   "outputs": [],
   "source": []
  },
  {
   "cell_type": "code",
   "execution_count": null,
   "id": "04fe55d2-8e14-4d3a-9e67-221a4af18a05",
   "metadata": {},
   "outputs": [],
   "source": [
    "import MetaTrader5 as mt5\n",
    "from datetime import datetime"
   ]
  },
  {
   "cell_type": "code",
   "execution_count": null,
   "id": "407585d7-3acb-466e-acf6-72bfdecfd92a",
   "metadata": {},
   "outputs": [],
   "source": [
    "\n",
    "\n",
    "# Iniciar sesión en la plataforma MetaTrader 5\n",
    "if not mt5.initialize():\n",
    "    print(\"Failed to initialize MT5, error code =\", mt5.last_error())\n",
    "    quit()\n",
    "\n",
    "# Definir los parámetros de la orden\n",
    "order_id = 2645992483  # ID de la orden que deseas modificar\n",
    "new_stop_loss = 1.12345  # Nuevo precio de stop loss\n",
    "\n",
    "# Obtener la orden existente\n",
    "order = mt5.positions_get(ticket=order_id)\n",
    "if order is None:\n",
    "    print(\"Failed to get order, error code =\", mt5.last_error())\n",
    "    mt5.shutdown()\n",
    "    quit()"
   ]
  },
  {
   "cell_type": "code",
   "execution_count": null,
   "id": "e0fd7a9a-6c6c-4534-a137-a34d44a0891f",
   "metadata": {},
   "outputs": [],
   "source": [
    "order = order[0]\n"
   ]
  },
  {
   "cell_type": "code",
   "execution_count": null,
   "id": "afe78992-0295-4dd0-bff5-5079faef38a9",
   "metadata": {},
   "outputs": [],
   "source": [
    "order"
   ]
  },
  {
   "cell_type": "code",
   "execution_count": null,
   "id": "93086c00-bcaa-4fc7-85f3-7968f1d2693a",
   "metadata": {},
   "outputs": [],
   "source": [
    "# Definir los parámetros para la modificación de la orden\n",
    "request = {\n",
    "    \"action\": mt5.TRADE_ACTION_SLTP,\n",
    "    \"position\": order_id,\n",
    "    \"sl\": new_stop_loss,\n",
    "    \"type_time\": mt5.ORDER_TIME_GTC,\n",
    "    \"type_filling\": mt5.ORDER_FILLING_RETURN,\n",
    "}\n",
    "\n",
    "\n",
    "\n",
    "# Enviar la solicitud para modificar la orden\n",
    "result = mt5.order_send(request)\n",
    "if result.retcode != mt5.TRADE_RETCODE_DONE:\n",
    "    print(f\"Failed to modify order, error code: {result.retcode}\")\n",
    "else:\n",
    "    print(\"Order modified successfully\")\n",
    "\n",
    "# Cerrar la conexión con la plataforma MetaTrader 5\n"
   ]
  },
  {
   "cell_type": "code",
   "execution_count": null,
   "id": "8187dadf-edca-443c-8b68-ff569daada52",
   "metadata": {},
   "outputs": [],
   "source": [
    "result"
   ]
  },
  {
   "cell_type": "code",
   "execution_count": null,
   "id": "daa20f6e-2873-4bc2-adab-1d6059b3ab9c",
   "metadata": {},
   "outputs": [],
   "source": []
  },
  {
   "cell_type": "code",
   "execution_count": null,
   "id": "8cd53207-0d27-415e-8927-6545c3cff83a",
   "metadata": {},
   "outputs": [],
   "source": []
  },
  {
   "cell_type": "code",
   "execution_count": null,
   "id": "dd1471f6-0768-46dc-bf13-3643bb4314c0",
   "metadata": {},
   "outputs": [],
   "source": []
  },
  {
   "cell_type": "code",
   "execution_count": null,
   "id": "dcc50ee6-c5e2-4e1d-9637-d8d2436ac1f3",
   "metadata": {},
   "outputs": [],
   "source": []
  },
  {
   "cell_type": "code",
   "execution_count": null,
   "id": "af1228c1-5c88-4fd5-974e-bae656d335db",
   "metadata": {},
   "outputs": [],
   "source": [
    "from datetime import datetime\n",
    "import MetaTrader5 as mt5\n",
    "# display data on the MetaTrader 5 package\n",
    "print(\"MetaTrader5 package author: \",mt5.__author__)\n",
    "print(\"MetaTrader5 package version: \",mt5.__version__)\n",
    " \n",
    "# import the 'pandas' module for displaying data obtained in the tabular form\n",
    "import pandas as pd\n",
    "pd.set_option('display.max_columns', 500) # number of columns to be displayed\n",
    "pd.set_option('display.width', 1500)      # max table width to display\n",
    "# import pytz module for working with time zone\n",
    "import pytz\n",
    " \n",
    "# establish connection to MetaTrader 5 terminal\n",
    "if not mt5.initialize():\n",
    "    print(\"initialize() failed, error code =\",mt5.last_error())\n",
    "    quit()\n",
    " \n",
    "# set time zone to UTC\n",
    "timezone = pytz.timezone(\"Etc/UTC\")\n",
    "# create 'datetime' objects in UTC time zone to avoid the implementation of a local time zone offset\n",
    "utc_from = datetime(2020, 1, 1, tzinfo=timezone)\n",
    "utc_to = datetime(2021, 1, 1, tzinfo=timezone)\n",
    "# request AUDUSD ticks within 11.01.2020 - 11.01.2020\n",
    "ticks = mt5.copy_ticks_range(\"AUDUSD\", utc_from, utc_to, mt5.COPY_TICKS_ALL)\n",
    "print(\"Ticks received:\",len(ticks))\n",
    " \n",
    "# shut down connection to the MetaTrader 5 terminal\n",
    "mt5.shutdown()\n",
    " \n",
    " \n",
    "# create DataFrame out of the obtained data\n",
    "ticks_frame = pd.DataFrame(ticks)\n",
    "# convert time in seconds into the datetime format\n",
    "ticks_frame['time']=pd.to_datetime(ticks_frame['time'], unit='s')\n",
    " \n",
    "# display data\n",
    "ticks_frame.head(10)"
   ]
  },
  {
   "cell_type": "code",
   "execution_count": null,
   "id": "0b7dc59c-a667-4e7b-8131-07a111a0e504",
   "metadata": {},
   "outputs": [],
   "source": [
    "ticks_frame"
   ]
  },
  {
   "cell_type": "code",
   "execution_count": null,
   "id": "e77c5e8d-a018-4f3f-ae0c-0f05d96897eb",
   "metadata": {},
   "outputs": [],
   "source": []
  },
  {
   "cell_type": "code",
   "execution_count": null,
   "id": "c91c89a0-b636-425f-acd7-6db4d8136a78",
   "metadata": {},
   "outputs": [],
   "source": []
  },
  {
   "cell_type": "code",
   "execution_count": null,
   "id": "4a0be539-0811-497a-a55d-8a4abdebbe55",
   "metadata": {},
   "outputs": [],
   "source": []
  },
  {
   "cell_type": "code",
   "execution_count": null,
   "id": "471784b8-3725-4106-9650-25f512fa5e64",
   "metadata": {},
   "outputs": [],
   "source": []
  },
  {
   "cell_type": "code",
   "execution_count": null,
   "id": "1b958ec2-ff51-481d-a335-07144fc51ee5",
   "metadata": {},
   "outputs": [],
   "source": []
  },
  {
   "cell_type": "code",
   "execution_count": null,
   "id": "1860dc34-9071-4e97-ae61-a3dade83a9b7",
   "metadata": {},
   "outputs": [],
   "source": []
  },
  {
   "cell_type": "code",
   "execution_count": null,
   "id": "e4411e8f-3630-428b-a88b-a21a01e8201d",
   "metadata": {},
   "outputs": [],
   "source": []
  },
  {
   "cell_type": "code",
   "execution_count": null,
   "id": "889c50c6-88df-4249-b41a-c799ae750b86",
   "metadata": {},
   "outputs": [],
   "source": []
  },
  {
   "cell_type": "code",
   "execution_count": null,
   "id": "8032492d-0d36-42d8-a321-36855b986883",
   "metadata": {},
   "outputs": [],
   "source": []
  },
  {
   "cell_type": "code",
   "execution_count": null,
   "id": "310ccab5-65c5-4d2c-8136-09bee933c268",
   "metadata": {},
   "outputs": [],
   "source": []
  },
  {
   "cell_type": "code",
   "execution_count": null,
   "id": "7f15ce77-d92b-46c8-9ad7-1c5c5f1f7bc7",
   "metadata": {},
   "outputs": [],
   "source": []
  },
  {
   "cell_type": "code",
   "execution_count": null,
   "id": "1d0e3e68-22e9-4687-80ec-a534f15bbbce",
   "metadata": {},
   "outputs": [],
   "source": []
  },
  {
   "cell_type": "code",
   "execution_count": null,
   "id": "2a56c2d1-bf53-423d-9e09-d8f4cccfc380",
   "metadata": {},
   "outputs": [],
   "source": []
  },
  {
   "cell_type": "code",
   "execution_count": null,
   "id": "e7246ced-29eb-4167-9936-2c0efc47cb31",
   "metadata": {},
   "outputs": [],
   "source": []
  },
  {
   "cell_type": "code",
   "execution_count": null,
   "id": "d524474e-2eb0-493f-bf3f-fe86313a8d2b",
   "metadata": {},
   "outputs": [],
   "source": []
  },
  {
   "cell_type": "code",
   "execution_count": null,
   "id": "70a384b1-89e6-4ef0-9ee0-b291bce5aaa2",
   "metadata": {},
   "outputs": [],
   "source": []
  },
  {
   "cell_type": "code",
   "execution_count": 31,
   "id": "e5f4a05b-b9f6-4c31-abe3-5a286cbcd58b",
   "metadata": {},
   "outputs": [],
   "source": [
    "import pandas as pd\n",
    "import mplfinance as mpf\n",
    "import matplotlib.pyplot as plt\n",
    "\n",
    "symbols_path = './backbone/data/backtest/symbols/USDCAD.csv'\n",
    "df = pd.read_csv(symbols_path)"
   ]
  },
  {
   "cell_type": "markdown",
   "id": "407bb971-46f0-4675-8a7d-bbb5fd6e784c",
   "metadata": {},
   "source": [
    "# Zona de acumulacion"
   ]
  },
  {
   "cell_type": "code",
   "execution_count": 8,
   "id": "c37330ef-1e1f-40bc-98f9-e8ba4d944e4f",
   "metadata": {},
   "outputs": [],
   "source": [
    "\n",
    "\n",
    "# # Calcular el rango de precios para cada vela\n",
    "# range_ = df['High'] - df['Low']\n",
    "\n",
    "\n",
    "# # Calcular el umbral de acumulación en tiempo real\n",
    "# acum_threshold = range_.rolling(window=24, min_periods=1).apply(lambda x: x.quantile(0.45), raw=False)\n",
    "\n",
    "# # Identificar periodos de acumulación\n",
    "# df['acumulation'] = range_ < acum_threshold"
   ]
  },
  {
   "cell_type": "markdown",
   "id": "7c06e8fd-a122-428f-8586-07f060a825b9",
   "metadata": {},
   "source": [
    "# Engulfing"
   ]
  },
  {
   "cell_type": "code",
   "execution_count": 9,
   "id": "825481ec-6c66-45c6-b578-6bafb7ef145f",
   "metadata": {},
   "outputs": [],
   "source": [
    "# import talib\n",
    "\n",
    "\n",
    "# df['engulfing'] = 0\n",
    "\n",
    "# df['engulfing'] = np.where(\n",
    "#     (df['Close'] > df['Open']) # Vela alcista\n",
    "#     & (df['Close'].shift(1) < df['Open'].shift(1)) # Vela bajista\n",
    "#     & (df['Close'] >= df['Open'].shift(1)) # Cierre de la vela alcista por encima del high de la vela bajista anterior\n",
    "#     , 1, df['engulfing']\n",
    "# )\n",
    "\n",
    "# df['engulfing'] = np.where(\n",
    "#     (df['Close'] < df['Open']) # Vela bajista\n",
    "#     & (df['Close'].shift(1) > df['Open'].shift(1)) # Vela alcista\n",
    "#     & (df['Close'] <= df['Open'].shift(1)) # Cierre de la vela bajista por debajo del low de la vela alcista anterior\n",
    "#     , -1\n",
    "#     , df['engulfing']\n",
    "# )\n",
    "\n",
    "# df['engulfing_talib'] = talib.CDLENGULFING(df.Open, df.High, df.Low, df.Close)\n"
   ]
  },
  {
   "cell_type": "code",
   "execution_count": 21,
   "id": "00d3b064-10af-460e-9024-9d4b448f02f0",
   "metadata": {},
   "outputs": [],
   "source": [
    "import pandas as pd\n",
    "import numpy as np\n",
    "\n",
    "class RMITrendSniper:\n",
    "    def __init__(self, length=14, positive_above=66, negative_below=30, ema_length=5):\n",
    "        self.length = length\n",
    "        self.positive_above = positive_above\n",
    "        self.negative_below = negative_below\n",
    "        self.ema_length = ema_length\n",
    "    \n",
    "    def calculate_rmi(self, df):\n",
    "        # Calcula el RSI\n",
    "        data = df.copy()\n",
    "        delta = data['Close'].diff()\n",
    "        gain = np.where(delta > 0, delta, 0)\n",
    "        loss = np.where(delta < 0, -delta, 0)\n",
    "        avg_gain = pd.Series(gain).rolling(window=self.length, min_periods=1).mean()\n",
    "        avg_loss = pd.Series(loss).rolling(window=self.length, min_periods=1).mean()\n",
    "        rs = avg_gain / avg_loss\n",
    "        rsi = 100 - (100 / (1 + rs))\n",
    "        \n",
    "        # Calcula el MFI (Money Flow Index)\n",
    "        typical_price = (data['High'] + data['Low'] + data['Close']) / 3\n",
    "        money_flow = typical_price * data['Volume']\n",
    "        pos_flow = np.where(typical_price > typical_price.shift(1), money_flow, 0)\n",
    "        neg_flow = np.where(typical_price < typical_price.shift(1), money_flow, 0)\n",
    "        pos_mf = pd.Series(pos_flow).rolling(window=self.length, min_periods=1).sum()\n",
    "        neg_mf = pd.Series(neg_flow).rolling(window=self.length, min_periods=1).sum()\n",
    "        mfi = 100 - (100 / (1 + pos_mf / neg_mf))\n",
    "        \n",
    "        # Calcula RMI-MFI\n",
    "        rmi_mfi = (rsi + mfi) / 2\n",
    "        \n",
    "        return rmi_mfi\n",
    "    \n",
    "    def calculate_signals(self, data):\n",
    "        rmi_mfi = self.calculate_rmi(data)\n",
    "        ema = data['Close'].ewm(span=self.ema_length, adjust=False).mean()\n",
    "        ema_change = ema.diff()\n",
    "\n",
    "        p_mom = (rmi_mfi.shift(1) < self.positive_above) & (rmi_mfi > self.positive_above) & (rmi_mfi > self.negative_below) & (ema_change > 0)\n",
    "        n_mom = (rmi_mfi < self.negative_below) & (ema_change < 0)\n",
    "        \n",
    "        # Definir las condiciones de momento positivo y negativo\n",
    "        data['signal'] = 0\n",
    "        data.loc[p_mom, 'signal'] = 1\n",
    "        data.loc[n_mom, 'signal'] = -1\n",
    "        \n",
    "        return data.signal\n",
    "    \n",
    "    def apply(self, data):\n",
    "        data = self.calculate_signals(data)\n",
    "        return data"
   ]
  },
  {
   "cell_type": "code",
   "execution_count": 22,
   "id": "e3dcfc36-0c7b-422f-9f90-116cf9db00da",
   "metadata": {},
   "outputs": [],
   "source": [
    "# Ejemplo de uso\n",
    "rmi_trend_sniper = RMITrendSniper()\n",
    "df['rmi_signal'] = rmi_trend_sniper.apply(df)"
   ]
  },
  {
   "cell_type": "code",
   "execution_count": 87,
   "id": "9f789fd3-0701-4e46-bff1-1aca4e4212ad",
   "metadata": {},
   "outputs": [],
   "source": [
    "df['trade'] = 0\n",
    "\n",
    "df['trade'] = np.where(\n",
    "    (\n",
    "        (\n",
    "            (df['rmi_signal'] == 1)\n",
    "            | (df['rmi_signal'].shift(1) == 1)\n",
    "            | (df['rmi_signal'].shift(2) == 1)\n",
    "        )\n",
    "        & (df['engulfing'] == 1)      \n",
    "    ), \n",
    "\n",
    "    1, \n",
    "    df['trade']\n",
    ")\n",
    "\n",
    "df['trade'] = np.where(\n",
    "    (\n",
    "        (\n",
    "            (df['rmi_signal'] == -1)\n",
    "            | (df['rmi_signal'].shift(1) == -1)\n",
    "            | (df['rmi_signal'].shift(2) == -1)\n",
    "        )\n",
    "        & (df['engulfing'] == -1)      \n",
    "    ), \n",
    "\n",
    "    -1, \n",
    "    df['trade']\n",
    ")\n",
    "\n"
   ]
  },
  {
   "cell_type": "code",
   "execution_count": 88,
   "id": "ef8a05d4-e1d8-47dd-b62e-32304ddef373",
   "metadata": {},
   "outputs": [
    {
     "data": {
      "text/plain": [
       "trade\n",
       " 0    17413\n",
       "-1      365\n",
       " 1      248\n",
       "Name: count, dtype: int64"
      ]
     },
     "execution_count": 88,
     "metadata": {},
     "output_type": "execute_result"
    }
   ],
   "source": [
    "df.trade.value_counts()"
   ]
  },
  {
   "cell_type": "code",
   "execution_count": 89,
   "id": "86b7430e-25c9-4178-a0b5-d89e56ce8b70",
   "metadata": {},
   "outputs": [],
   "source": [
    "# import talib\n"
   ]
  },
  {
   "cell_type": "code",
   "execution_count": 90,
   "id": "627d1c0d-f7e5-4459-916b-07c8bd272b59",
   "metadata": {},
   "outputs": [],
   "source": [
    "# df = df[['Date','Date','High','Low','Close']]"
   ]
  },
  {
   "cell_type": "code",
   "execution_count": 91,
   "id": "8a97c31d-eca7-4464-a4a4-6ccd7448484c",
   "metadata": {},
   "outputs": [],
   "source": [
    "# macd, macdsignal, macdhist = talib.MACD(df['Close'], fastperiod=12, slowperiod=26, signalperiod=9)\n",
    "# df['macd'] = macd\n",
    "# df['macdsignal'] = macdsignal\n",
    "# df['macdhist'] = macdhist\n",
    "\n",
    "# df['sma_200'] = talib.SMA(df['Close'], timeperiod=200)\n"
   ]
  },
  {
   "cell_type": "code",
   "execution_count": 92,
   "id": "5c773cb6-d25d-4ffb-ac8d-40c6ed2c1797",
   "metadata": {},
   "outputs": [],
   "source": [
    "# df['trade'] = 0\n",
    "# df['trade'] = np.where(\n",
    "#     (\n",
    "#         (df['macd'] > df['macdsignal']) \n",
    "#         & (df['macd'].shift(1) < df['macdsignal'].shift(1)) \n",
    "#         & (df['Close'] > df['sma_200'])\n",
    "#     ), \n",
    "#     1, \n",
    "#     df['trade']\n",
    "\n",
    "# )\n",
    "\n",
    "# df['trade'] = np.where(\n",
    "#     (\n",
    "#         (df['macd'] < df['macdsignal']) \n",
    "#         & (df['macd'].shift(1) > df['macdsignal'].shift(1)) \n",
    "#         & (df['Close'] < df['sma_200'])\n",
    "#     ), \n",
    "\n",
    "#     -1, \n",
    "#     df['trade']\n",
    "# )\n",
    "\n"
   ]
  },
  {
   "cell_type": "code",
   "execution_count": 93,
   "id": "e92d0254-1575-4ae2-9643-0e1a95fe4157",
   "metadata": {},
   "outputs": [],
   "source": [
    "# def bollinger_bands_filter(df, length=55, mult=1.0, close_col='Close'):\n",
    "#     # Calcular la media móvil simple (SMA)\n",
    "#     sma = df[close_col].rolling(window=length).mean()\n",
    "    \n",
    "#     # Calcular la desviación estándar\n",
    "#     std_dev = df[close_col].rolling(window=length).std()\n",
    "    \n",
    "#     # Calcular las Bandas de Bollinger\n",
    "#     upper_band = sma + (mult * std_dev)\n",
    "#     lower_band = sma - (mult * std_dev)\n",
    "    \n",
    "#     # Condiciones de compra y venta\n",
    "#     long = df[close_col] > upper_band\n",
    "#     short = df[close_col] < lower_band\n",
    "    \n",
    "#     # Convertir a booleanos\n",
    "#     long = long.astype(bool)\n",
    "#     short = short.astype(bool)\n",
    "    \n",
    "#     # Señales de compra y venta\n",
    "#     long_signal = long & ~long.shift(1).astype(bool)\n",
    "#     short_signal = short & ~short.shift(1).astype(bool)\n",
    "\n",
    "#     signal = np.zeros(df.shape[0])\n",
    "    \n",
    "#     signal = np.where(((long_signal == True) ), 1, signal)\n",
    "#     signal = np.where(((short_signal == True) ), -1, signal)\n",
    "\n",
    "#     return signal\n"
   ]
  },
  {
   "cell_type": "code",
   "execution_count": 94,
   "id": "707430e2-2088-49d9-8533-109f5cbf334e",
   "metadata": {},
   "outputs": [
    {
     "data": {
      "text/plain": [
       "trade\n",
       " 0    17413\n",
       "-1      365\n",
       " 1      248\n",
       "Name: count, dtype: int64"
      ]
     },
     "execution_count": 94,
     "metadata": {},
     "output_type": "execute_result"
    }
   ],
   "source": [
    "df.trade.value_counts()"
   ]
  },
  {
   "cell_type": "code",
   "execution_count": 98,
   "id": "94fd47de-27f4-4a2f-b702-7ef692c12998",
   "metadata": {},
   "outputs": [
    {
     "data": {
      "text/plain": [
       "count    18026.000000\n",
       "mean         0.001568\n",
       "std          0.000728\n",
       "min          0.000489\n",
       "25%          0.001167\n",
       "50%          0.001419\n",
       "75%          0.001746\n",
       "max          0.008325\n",
       "Name: atr, dtype: float64"
      ]
     },
     "execution_count": 98,
     "metadata": {},
     "output_type": "execute_result"
    }
   ],
   "source": [
    "df.atr.describe()"
   ]
  },
  {
   "cell_type": "code",
   "execution_count": 95,
   "id": "30a966e8-aefd-47ed-b5d5-2a937adff93c",
   "metadata": {},
   "outputs": [
    {
     "name": "stdout",
     "output_type": "stream",
     "text": [
      "2018-04-29 03:00:00\n",
      "2018-05-05 03:00:00\n"
     ]
    },
    {
     "data": {
      "application/vnd.plotly.v1+json": {
       "config": {
        "plotlyServerURL": "https://plot.ly"
       },
       "data": [
        {
         "close": [
          1.28363,
          1.28404,
          1.28417,
          1.28352,
          1.28389,
          1.28486,
          1.28476,
          1.28435,
          1.28386,
          1.28476,
          1.28493,
          1.28575,
          1.28501,
          1.28581,
          1.28694,
          1.28553,
          1.28419,
          1.28188,
          1.28175,
          1.28247,
          1.28271,
          1.28428,
          1.28389,
          1.2842,
          1.28383,
          1.28351,
          1.28327,
          1.28305,
          1.28353,
          1.28313,
          1.28257,
          1.2822,
          1.28221,
          1.28361,
          1.28452,
          1.28616,
          1.28528,
          1.28675,
          1.28651,
          1.28428,
          1.28831,
          1.29003,
          1.28722,
          1.28543,
          1.28762,
          1.28494,
          1.28579,
          1.28454,
          1.28471,
          1.28461,
          1.28454,
          1.28545,
          1.28366,
          1.28293,
          1.28289,
          1.28295,
          1.28347,
          1.28206,
          1.28172,
          1.28212,
          1.28244,
          1.28278,
          1.28291,
          1.28344,
          1.2867,
          1.28492,
          1.28488,
          1.28562,
          1.28529,
          1.28531,
          1.28785,
          1.28828,
          1.28725,
          1.28749,
          1.28839,
          1.2868,
          1.28533,
          1.28557,
          1.28505,
          1.28458,
          1.28487,
          1.28523,
          1.28474,
          1.28435,
          1.28206,
          1.28328,
          1.2837,
          1.28709,
          1.2849,
          1.28993,
          1.28772,
          1.28493,
          1.28569,
          1.28493,
          1.28572,
          1.28464,
          1.28498,
          1.28509,
          1.28507,
          1.28474,
          1.28408,
          1.28446,
          1.28418,
          1.28446,
          1.28477,
          1.28621,
          1.28627,
          1.28751,
          1.28737,
          1.287,
          1.287,
          1.28653,
          1.28922,
          1.28667,
          1.28482,
          1.28447,
          1.28418,
          1.28554,
          1.28612,
          1.28437
         ],
         "high": [
          1.28382,
          1.28412,
          1.28453,
          1.28429,
          1.28425,
          1.28504,
          1.28508,
          1.28477,
          1.28458,
          1.28503,
          1.28532,
          1.28604,
          1.28583,
          1.28583,
          1.28744,
          1.28733,
          1.28623,
          1.28546,
          1.28301,
          1.28249,
          1.28358,
          1.28454,
          1.28446,
          1.28438,
          1.28433,
          1.28383,
          1.28372,
          1.28344,
          1.28372,
          1.28356,
          1.28318,
          1.2828,
          1.2826,
          1.28379,
          1.28452,
          1.2862,
          1.28673,
          1.28695,
          1.28691,
          1.28789,
          1.28871,
          1.29135,
          1.29082,
          1.28746,
          1.28846,
          1.28859,
          1.28622,
          1.28606,
          1.28494,
          1.28476,
          1.28492,
          1.28574,
          1.28545,
          1.28374,
          1.28299,
          1.28321,
          1.28408,
          1.28379,
          1.28222,
          1.2824,
          1.28284,
          1.28382,
          1.28402,
          1.28468,
          1.28832,
          1.28812,
          1.28593,
          1.28636,
          1.28617,
          1.28571,
          1.28818,
          1.28876,
          1.28826,
          1.28777,
          1.28858,
          1.28857,
          1.28718,
          1.28603,
          1.28557,
          1.2851,
          1.2854,
          1.28586,
          1.28641,
          1.28535,
          1.2847,
          1.28353,
          1.28482,
          1.28747,
          1.28748,
          1.29085,
          1.29009,
          1.28815,
          1.28648,
          1.28601,
          1.28593,
          1.28572,
          1.28535,
          1.28532,
          1.28524,
          1.28523,
          1.28488,
          1.28454,
          1.28481,
          1.28454,
          1.28482,
          1.28635,
          1.28694,
          1.28752,
          1.288,
          1.2878,
          1.28759,
          1.28818,
          1.29174,
          1.28933,
          1.2868,
          1.28555,
          1.2853,
          1.28599,
          1.2864,
          1.28632
         ],
         "low": [
          1.2833,
          1.28324,
          1.28391,
          1.28326,
          1.28343,
          1.28376,
          1.28448,
          1.28416,
          1.28375,
          1.28386,
          1.2846,
          1.28464,
          1.2849,
          1.28463,
          1.28581,
          1.28543,
          1.28391,
          1.28149,
          1.28136,
          1.28051,
          1.28153,
          1.28255,
          1.28363,
          1.28297,
          1.28366,
          1.28327,
          1.28292,
          1.28284,
          1.28291,
          1.28304,
          1.28254,
          1.28203,
          1.28212,
          1.28219,
          1.28318,
          1.28426,
          1.28516,
          1.28524,
          1.28639,
          1.2832,
          1.28354,
          1.28729,
          1.28625,
          1.28458,
          1.28543,
          1.28329,
          1.28463,
          1.28454,
          1.28443,
          1.28395,
          1.28435,
          1.28417,
          1.28353,
          1.28267,
          1.28238,
          1.28272,
          1.28293,
          1.28159,
          1.28028,
          1.2808,
          1.2818,
          1.28221,
          1.28264,
          1.28218,
          1.28328,
          1.28489,
          1.28328,
          1.28468,
          1.28434,
          1.281,
          1.28452,
          1.28749,
          1.28706,
          1.28718,
          1.28749,
          1.2868,
          1.28514,
          1.28526,
          1.28474,
          1.28442,
          1.28454,
          1.28443,
          1.28382,
          1.28348,
          1.28203,
          1.28161,
          1.28306,
          1.28362,
          1.28471,
          1.28437,
          1.28725,
          1.28464,
          1.28447,
          1.28411,
          1.28469,
          1.28459,
          1.28433,
          1.28478,
          1.2848,
          1.28454,
          1.28361,
          1.28365,
          1.28393,
          1.28386,
          1.28426,
          1.28475,
          1.28605,
          1.28574,
          1.28697,
          1.287,
          1.28666,
          1.28424,
          1.28632,
          1.2855,
          1.2848,
          1.28394,
          1.284,
          1.28396,
          1.28536,
          1.28437
         ],
         "open": [
          1.2833,
          1.28372,
          1.28404,
          1.28418,
          1.28353,
          1.28389,
          1.28487,
          1.28476,
          1.28435,
          1.28386,
          1.28476,
          1.28493,
          1.28575,
          1.28501,
          1.28581,
          1.28694,
          1.28553,
          1.28419,
          1.28188,
          1.28188,
          1.28247,
          1.28271,
          1.28428,
          1.28389,
          1.2842,
          1.28383,
          1.28351,
          1.2833,
          1.28305,
          1.28353,
          1.28313,
          1.28257,
          1.2822,
          1.28219,
          1.28361,
          1.28451,
          1.28616,
          1.28528,
          1.28675,
          1.28651,
          1.28428,
          1.28822,
          1.29004,
          1.28722,
          1.28543,
          1.2876,
          1.28494,
          1.28579,
          1.28453,
          1.28471,
          1.28463,
          1.28454,
          1.28545,
          1.28366,
          1.28293,
          1.28289,
          1.28295,
          1.28348,
          1.28206,
          1.28172,
          1.28212,
          1.28244,
          1.28278,
          1.28291,
          1.28344,
          1.28671,
          1.28492,
          1.28487,
          1.28562,
          1.28529,
          1.28531,
          1.28785,
          1.28824,
          1.28726,
          1.28749,
          1.28839,
          1.2868,
          1.28532,
          1.28557,
          1.28505,
          1.28458,
          1.28487,
          1.28523,
          1.28475,
          1.28435,
          1.28206,
          1.28332,
          1.28371,
          1.2871,
          1.2849,
          1.28993,
          1.28772,
          1.28493,
          1.28569,
          1.28493,
          1.28572,
          1.28464,
          1.28498,
          1.28508,
          1.28507,
          1.28474,
          1.28408,
          1.28446,
          1.28418,
          1.28446,
          1.28477,
          1.28621,
          1.28627,
          1.28751,
          1.28738,
          1.287,
          1.287,
          1.28653,
          1.28922,
          1.28667,
          1.28481,
          1.28447,
          1.28418,
          1.28554,
          1.28612
         ],
         "type": "candlestick",
         "x": [
          "2018-04-30T00:00:00",
          "2018-04-30T01:00:00",
          "2018-04-30T02:00:00",
          "2018-04-30T03:00:00",
          "2018-04-30T04:00:00",
          "2018-04-30T05:00:00",
          "2018-04-30T06:00:00",
          "2018-04-30T07:00:00",
          "2018-04-30T08:00:00",
          "2018-04-30T09:00:00",
          "2018-04-30T10:00:00",
          "2018-04-30T11:00:00",
          "2018-04-30T12:00:00",
          "2018-04-30T13:00:00",
          "2018-04-30T14:00:00",
          "2018-04-30T15:00:00",
          "2018-04-30T16:00:00",
          "2018-04-30T17:00:00",
          "2018-04-30T18:00:00",
          "2018-04-30T19:00:00",
          "2018-04-30T20:00:00",
          "2018-04-30T21:00:00",
          "2018-04-30T22:00:00",
          "2018-04-30T23:00:00",
          "2018-05-01T00:00:00",
          "2018-05-01T01:00:00",
          "2018-05-01T02:00:00",
          "2018-05-01T03:00:00",
          "2018-05-01T04:00:00",
          "2018-05-01T05:00:00",
          "2018-05-01T06:00:00",
          "2018-05-01T07:00:00",
          "2018-05-01T08:00:00",
          "2018-05-01T09:00:00",
          "2018-05-01T10:00:00",
          "2018-05-01T11:00:00",
          "2018-05-01T12:00:00",
          "2018-05-01T13:00:00",
          "2018-05-01T14:00:00",
          "2018-05-01T15:00:00",
          "2018-05-01T16:00:00",
          "2018-05-01T17:00:00",
          "2018-05-01T18:00:00",
          "2018-05-01T19:00:00",
          "2018-05-01T20:00:00",
          "2018-05-01T21:00:00",
          "2018-05-01T22:00:00",
          "2018-05-01T23:00:00",
          "2018-05-02T00:00:00",
          "2018-05-02T01:00:00",
          "2018-05-02T02:00:00",
          "2018-05-02T03:00:00",
          "2018-05-02T04:00:00",
          "2018-05-02T05:00:00",
          "2018-05-02T06:00:00",
          "2018-05-02T07:00:00",
          "2018-05-02T08:00:00",
          "2018-05-02T09:00:00",
          "2018-05-02T10:00:00",
          "2018-05-02T11:00:00",
          "2018-05-02T12:00:00",
          "2018-05-02T13:00:00",
          "2018-05-02T14:00:00",
          "2018-05-02T15:00:00",
          "2018-05-02T16:00:00",
          "2018-05-02T17:00:00",
          "2018-05-02T18:00:00",
          "2018-05-02T19:00:00",
          "2018-05-02T20:00:00",
          "2018-05-02T21:00:00",
          "2018-05-02T22:00:00",
          "2018-05-02T23:00:00",
          "2018-05-03T00:00:00",
          "2018-05-03T01:00:00",
          "2018-05-03T02:00:00",
          "2018-05-03T03:00:00",
          "2018-05-03T04:00:00",
          "2018-05-03T05:00:00",
          "2018-05-03T06:00:00",
          "2018-05-03T07:00:00",
          "2018-05-03T08:00:00",
          "2018-05-03T09:00:00",
          "2018-05-03T10:00:00",
          "2018-05-03T11:00:00",
          "2018-05-03T12:00:00",
          "2018-05-03T13:00:00",
          "2018-05-03T14:00:00",
          "2018-05-03T15:00:00",
          "2018-05-03T16:00:00",
          "2018-05-03T17:00:00",
          "2018-05-03T18:00:00",
          "2018-05-03T19:00:00",
          "2018-05-03T20:00:00",
          "2018-05-03T21:00:00",
          "2018-05-03T22:00:00",
          "2018-05-03T23:00:00",
          "2018-05-04T00:00:00",
          "2018-05-04T01:00:00",
          "2018-05-04T02:00:00",
          "2018-05-04T03:00:00",
          "2018-05-04T04:00:00",
          "2018-05-04T05:00:00",
          "2018-05-04T06:00:00",
          "2018-05-04T07:00:00",
          "2018-05-04T08:00:00",
          "2018-05-04T09:00:00",
          "2018-05-04T10:00:00",
          "2018-05-04T11:00:00",
          "2018-05-04T12:00:00",
          "2018-05-04T13:00:00",
          "2018-05-04T14:00:00",
          "2018-05-04T15:00:00",
          "2018-05-04T16:00:00",
          "2018-05-04T17:00:00",
          "2018-05-04T18:00:00",
          "2018-05-04T19:00:00",
          "2018-05-04T20:00:00",
          "2018-05-04T21:00:00",
          "2018-05-04T22:00:00",
          "2018-05-04T23:00:00"
         ]
        },
        {
         "marker": {
          "color": "red",
          "size": 10,
          "symbol": "circle"
         },
         "mode": "markers",
         "type": "scatter",
         "x": [
          "2018-04-30T03:00:00"
         ],
         "y": [
          1.28352
         ]
        }
       ],
       "layout": {
        "height": 700,
        "template": {
         "data": {
          "bar": [
           {
            "error_x": {
             "color": "#2a3f5f"
            },
            "error_y": {
             "color": "#2a3f5f"
            },
            "marker": {
             "line": {
              "color": "#E5ECF6",
              "width": 0.5
             },
             "pattern": {
              "fillmode": "overlay",
              "size": 10,
              "solidity": 0.2
             }
            },
            "type": "bar"
           }
          ],
          "barpolar": [
           {
            "marker": {
             "line": {
              "color": "#E5ECF6",
              "width": 0.5
             },
             "pattern": {
              "fillmode": "overlay",
              "size": 10,
              "solidity": 0.2
             }
            },
            "type": "barpolar"
           }
          ],
          "carpet": [
           {
            "aaxis": {
             "endlinecolor": "#2a3f5f",
             "gridcolor": "white",
             "linecolor": "white",
             "minorgridcolor": "white",
             "startlinecolor": "#2a3f5f"
            },
            "baxis": {
             "endlinecolor": "#2a3f5f",
             "gridcolor": "white",
             "linecolor": "white",
             "minorgridcolor": "white",
             "startlinecolor": "#2a3f5f"
            },
            "type": "carpet"
           }
          ],
          "choropleth": [
           {
            "colorbar": {
             "outlinewidth": 0,
             "ticks": ""
            },
            "type": "choropleth"
           }
          ],
          "contour": [
           {
            "colorbar": {
             "outlinewidth": 0,
             "ticks": ""
            },
            "colorscale": [
             [
              0,
              "#0d0887"
             ],
             [
              0.1111111111111111,
              "#46039f"
             ],
             [
              0.2222222222222222,
              "#7201a8"
             ],
             [
              0.3333333333333333,
              "#9c179e"
             ],
             [
              0.4444444444444444,
              "#bd3786"
             ],
             [
              0.5555555555555556,
              "#d8576b"
             ],
             [
              0.6666666666666666,
              "#ed7953"
             ],
             [
              0.7777777777777778,
              "#fb9f3a"
             ],
             [
              0.8888888888888888,
              "#fdca26"
             ],
             [
              1,
              "#f0f921"
             ]
            ],
            "type": "contour"
           }
          ],
          "contourcarpet": [
           {
            "colorbar": {
             "outlinewidth": 0,
             "ticks": ""
            },
            "type": "contourcarpet"
           }
          ],
          "heatmap": [
           {
            "colorbar": {
             "outlinewidth": 0,
             "ticks": ""
            },
            "colorscale": [
             [
              0,
              "#0d0887"
             ],
             [
              0.1111111111111111,
              "#46039f"
             ],
             [
              0.2222222222222222,
              "#7201a8"
             ],
             [
              0.3333333333333333,
              "#9c179e"
             ],
             [
              0.4444444444444444,
              "#bd3786"
             ],
             [
              0.5555555555555556,
              "#d8576b"
             ],
             [
              0.6666666666666666,
              "#ed7953"
             ],
             [
              0.7777777777777778,
              "#fb9f3a"
             ],
             [
              0.8888888888888888,
              "#fdca26"
             ],
             [
              1,
              "#f0f921"
             ]
            ],
            "type": "heatmap"
           }
          ],
          "heatmapgl": [
           {
            "colorbar": {
             "outlinewidth": 0,
             "ticks": ""
            },
            "colorscale": [
             [
              0,
              "#0d0887"
             ],
             [
              0.1111111111111111,
              "#46039f"
             ],
             [
              0.2222222222222222,
              "#7201a8"
             ],
             [
              0.3333333333333333,
              "#9c179e"
             ],
             [
              0.4444444444444444,
              "#bd3786"
             ],
             [
              0.5555555555555556,
              "#d8576b"
             ],
             [
              0.6666666666666666,
              "#ed7953"
             ],
             [
              0.7777777777777778,
              "#fb9f3a"
             ],
             [
              0.8888888888888888,
              "#fdca26"
             ],
             [
              1,
              "#f0f921"
             ]
            ],
            "type": "heatmapgl"
           }
          ],
          "histogram": [
           {
            "marker": {
             "pattern": {
              "fillmode": "overlay",
              "size": 10,
              "solidity": 0.2
             }
            },
            "type": "histogram"
           }
          ],
          "histogram2d": [
           {
            "colorbar": {
             "outlinewidth": 0,
             "ticks": ""
            },
            "colorscale": [
             [
              0,
              "#0d0887"
             ],
             [
              0.1111111111111111,
              "#46039f"
             ],
             [
              0.2222222222222222,
              "#7201a8"
             ],
             [
              0.3333333333333333,
              "#9c179e"
             ],
             [
              0.4444444444444444,
              "#bd3786"
             ],
             [
              0.5555555555555556,
              "#d8576b"
             ],
             [
              0.6666666666666666,
              "#ed7953"
             ],
             [
              0.7777777777777778,
              "#fb9f3a"
             ],
             [
              0.8888888888888888,
              "#fdca26"
             ],
             [
              1,
              "#f0f921"
             ]
            ],
            "type": "histogram2d"
           }
          ],
          "histogram2dcontour": [
           {
            "colorbar": {
             "outlinewidth": 0,
             "ticks": ""
            },
            "colorscale": [
             [
              0,
              "#0d0887"
             ],
             [
              0.1111111111111111,
              "#46039f"
             ],
             [
              0.2222222222222222,
              "#7201a8"
             ],
             [
              0.3333333333333333,
              "#9c179e"
             ],
             [
              0.4444444444444444,
              "#bd3786"
             ],
             [
              0.5555555555555556,
              "#d8576b"
             ],
             [
              0.6666666666666666,
              "#ed7953"
             ],
             [
              0.7777777777777778,
              "#fb9f3a"
             ],
             [
              0.8888888888888888,
              "#fdca26"
             ],
             [
              1,
              "#f0f921"
             ]
            ],
            "type": "histogram2dcontour"
           }
          ],
          "mesh3d": [
           {
            "colorbar": {
             "outlinewidth": 0,
             "ticks": ""
            },
            "type": "mesh3d"
           }
          ],
          "parcoords": [
           {
            "line": {
             "colorbar": {
              "outlinewidth": 0,
              "ticks": ""
             }
            },
            "type": "parcoords"
           }
          ],
          "pie": [
           {
            "automargin": true,
            "type": "pie"
           }
          ],
          "scatter": [
           {
            "fillpattern": {
             "fillmode": "overlay",
             "size": 10,
             "solidity": 0.2
            },
            "type": "scatter"
           }
          ],
          "scatter3d": [
           {
            "line": {
             "colorbar": {
              "outlinewidth": 0,
              "ticks": ""
             }
            },
            "marker": {
             "colorbar": {
              "outlinewidth": 0,
              "ticks": ""
             }
            },
            "type": "scatter3d"
           }
          ],
          "scattercarpet": [
           {
            "marker": {
             "colorbar": {
              "outlinewidth": 0,
              "ticks": ""
             }
            },
            "type": "scattercarpet"
           }
          ],
          "scattergeo": [
           {
            "marker": {
             "colorbar": {
              "outlinewidth": 0,
              "ticks": ""
             }
            },
            "type": "scattergeo"
           }
          ],
          "scattergl": [
           {
            "marker": {
             "colorbar": {
              "outlinewidth": 0,
              "ticks": ""
             }
            },
            "type": "scattergl"
           }
          ],
          "scattermapbox": [
           {
            "marker": {
             "colorbar": {
              "outlinewidth": 0,
              "ticks": ""
             }
            },
            "type": "scattermapbox"
           }
          ],
          "scatterpolar": [
           {
            "marker": {
             "colorbar": {
              "outlinewidth": 0,
              "ticks": ""
             }
            },
            "type": "scatterpolar"
           }
          ],
          "scatterpolargl": [
           {
            "marker": {
             "colorbar": {
              "outlinewidth": 0,
              "ticks": ""
             }
            },
            "type": "scatterpolargl"
           }
          ],
          "scatterternary": [
           {
            "marker": {
             "colorbar": {
              "outlinewidth": 0,
              "ticks": ""
             }
            },
            "type": "scatterternary"
           }
          ],
          "surface": [
           {
            "colorbar": {
             "outlinewidth": 0,
             "ticks": ""
            },
            "colorscale": [
             [
              0,
              "#0d0887"
             ],
             [
              0.1111111111111111,
              "#46039f"
             ],
             [
              0.2222222222222222,
              "#7201a8"
             ],
             [
              0.3333333333333333,
              "#9c179e"
             ],
             [
              0.4444444444444444,
              "#bd3786"
             ],
             [
              0.5555555555555556,
              "#d8576b"
             ],
             [
              0.6666666666666666,
              "#ed7953"
             ],
             [
              0.7777777777777778,
              "#fb9f3a"
             ],
             [
              0.8888888888888888,
              "#fdca26"
             ],
             [
              1,
              "#f0f921"
             ]
            ],
            "type": "surface"
           }
          ],
          "table": [
           {
            "cells": {
             "fill": {
              "color": "#EBF0F8"
             },
             "line": {
              "color": "white"
             }
            },
            "header": {
             "fill": {
              "color": "#C8D4E3"
             },
             "line": {
              "color": "white"
             }
            },
            "type": "table"
           }
          ]
         },
         "layout": {
          "annotationdefaults": {
           "arrowcolor": "#2a3f5f",
           "arrowhead": 0,
           "arrowwidth": 1
          },
          "autotypenumbers": "strict",
          "coloraxis": {
           "colorbar": {
            "outlinewidth": 0,
            "ticks": ""
           }
          },
          "colorscale": {
           "diverging": [
            [
             0,
             "#8e0152"
            ],
            [
             0.1,
             "#c51b7d"
            ],
            [
             0.2,
             "#de77ae"
            ],
            [
             0.3,
             "#f1b6da"
            ],
            [
             0.4,
             "#fde0ef"
            ],
            [
             0.5,
             "#f7f7f7"
            ],
            [
             0.6,
             "#e6f5d0"
            ],
            [
             0.7,
             "#b8e186"
            ],
            [
             0.8,
             "#7fbc41"
            ],
            [
             0.9,
             "#4d9221"
            ],
            [
             1,
             "#276419"
            ]
           ],
           "sequential": [
            [
             0,
             "#0d0887"
            ],
            [
             0.1111111111111111,
             "#46039f"
            ],
            [
             0.2222222222222222,
             "#7201a8"
            ],
            [
             0.3333333333333333,
             "#9c179e"
            ],
            [
             0.4444444444444444,
             "#bd3786"
            ],
            [
             0.5555555555555556,
             "#d8576b"
            ],
            [
             0.6666666666666666,
             "#ed7953"
            ],
            [
             0.7777777777777778,
             "#fb9f3a"
            ],
            [
             0.8888888888888888,
             "#fdca26"
            ],
            [
             1,
             "#f0f921"
            ]
           ],
           "sequentialminus": [
            [
             0,
             "#0d0887"
            ],
            [
             0.1111111111111111,
             "#46039f"
            ],
            [
             0.2222222222222222,
             "#7201a8"
            ],
            [
             0.3333333333333333,
             "#9c179e"
            ],
            [
             0.4444444444444444,
             "#bd3786"
            ],
            [
             0.5555555555555556,
             "#d8576b"
            ],
            [
             0.6666666666666666,
             "#ed7953"
            ],
            [
             0.7777777777777778,
             "#fb9f3a"
            ],
            [
             0.8888888888888888,
             "#fdca26"
            ],
            [
             1,
             "#f0f921"
            ]
           ]
          },
          "colorway": [
           "#636efa",
           "#EF553B",
           "#00cc96",
           "#ab63fa",
           "#FFA15A",
           "#19d3f3",
           "#FF6692",
           "#B6E880",
           "#FF97FF",
           "#FECB52"
          ],
          "font": {
           "color": "#2a3f5f"
          },
          "geo": {
           "bgcolor": "white",
           "lakecolor": "white",
           "landcolor": "#E5ECF6",
           "showlakes": true,
           "showland": true,
           "subunitcolor": "white"
          },
          "hoverlabel": {
           "align": "left"
          },
          "hovermode": "closest",
          "mapbox": {
           "style": "light"
          },
          "paper_bgcolor": "white",
          "plot_bgcolor": "#E5ECF6",
          "polar": {
           "angularaxis": {
            "gridcolor": "white",
            "linecolor": "white",
            "ticks": ""
           },
           "bgcolor": "#E5ECF6",
           "radialaxis": {
            "gridcolor": "white",
            "linecolor": "white",
            "ticks": ""
           }
          },
          "scene": {
           "xaxis": {
            "backgroundcolor": "#E5ECF6",
            "gridcolor": "white",
            "gridwidth": 2,
            "linecolor": "white",
            "showbackground": true,
            "ticks": "",
            "zerolinecolor": "white"
           },
           "yaxis": {
            "backgroundcolor": "#E5ECF6",
            "gridcolor": "white",
            "gridwidth": 2,
            "linecolor": "white",
            "showbackground": true,
            "ticks": "",
            "zerolinecolor": "white"
           },
           "zaxis": {
            "backgroundcolor": "#E5ECF6",
            "gridcolor": "white",
            "gridwidth": 2,
            "linecolor": "white",
            "showbackground": true,
            "ticks": "",
            "zerolinecolor": "white"
           }
          },
          "shapedefaults": {
           "line": {
            "color": "#2a3f5f"
           }
          },
          "ternary": {
           "aaxis": {
            "gridcolor": "white",
            "linecolor": "white",
            "ticks": ""
           },
           "baxis": {
            "gridcolor": "white",
            "linecolor": "white",
            "ticks": ""
           },
           "bgcolor": "#E5ECF6",
           "caxis": {
            "gridcolor": "white",
            "linecolor": "white",
            "ticks": ""
           }
          },
          "title": {
           "x": 0.05
          },
          "xaxis": {
           "automargin": true,
           "gridcolor": "white",
           "linecolor": "white",
           "ticks": "",
           "title": {
            "standoff": 15
           },
           "zerolinecolor": "white",
           "zerolinewidth": 2
          },
          "yaxis": {
           "automargin": true,
           "gridcolor": "white",
           "linecolor": "white",
           "ticks": "",
           "title": {
            "standoff": 15
           },
           "zerolinecolor": "white",
           "zerolinewidth": 2
          }
         }
        },
        "width": 1000,
        "xaxis": {
         "autorange": true,
         "range": [
          "2018-04-29 19:51:24.0341",
          "2018-05-04 23:30"
         ],
         "rangeslider": {
          "autorange": true,
          "range": [
           "2018-04-29 19:51:24.0341",
           "2018-05-04 23:30"
          ],
          "yaxis": {
           "_template": null,
           "rangemode": "match"
          }
         },
         "type": "date"
        },
        "yaxis": {
         "autorange": true,
         "range": [
          1.2796433333333335,
          1.2923766666666667
         ],
         "type": "linear"
        }
       }
      },
      "image/png": "[encoded data removed]",
      "text/html": [
       "<div>                            <div id=\"2cc899a0-304b-4a3c-989b-c6768cd42acc\" class=\"plotly-graph-div\" style=\"height:700px; width:1000px;\"></div>            <script type=\"text/javascript\">                require([\"plotly\"], function(Plotly) {                    window.PLOTLYENV=window.PLOTLYENV || {};                                    if (document.getElementById(\"2cc899a0-304b-4a3c-989b-c6768cd42acc\")) {                    Plotly.newPlot(                        \"2cc899a0-304b-4a3c-989b-c6768cd42acc\",                        [{\"close\":[1.28363,1.28404,1.28417,1.28352,1.28389,1.28486,1.28476,1.28435,1.28386,1.28476,1.28493,1.28575,1.28501,1.28581,1.28694,1.28553,1.28419,1.28188,1.28175,1.28247,1.28271,1.28428,1.28389,1.2842,1.28383,1.28351,1.28327,1.28305,1.28353,1.28313,1.28257,1.2822,1.28221,1.28361,1.28452,1.28616,1.28528,1.28675,1.28651,1.28428,1.28831,1.29003,1.28722,1.28543,1.28762,1.28494,1.28579,1.28454,1.28471,1.28461,1.28454,1.28545,1.28366,1.28293,1.28289,1.28295,1.28347,1.28206,1.28172,1.28212,1.28244,1.28278,1.28291,1.28344,1.2867,1.28492,1.28488,1.28562,1.28529,1.28531,1.28785,1.28828,1.28725,1.28749,1.28839,1.2868,1.28533,1.28557,1.28505,1.28458,1.28487,1.28523,1.28474,1.28435,1.28206,1.28328,1.2837,1.28709,1.2849,1.28993,1.28772,1.28493,1.28569,1.28493,1.28572,1.28464,1.28498,1.28509,1.28507,1.28474,1.28408,1.28446,1.28418,1.28446,1.28477,1.28621,1.28627,1.28751,1.28737,1.287,1.287,1.28653,1.28922,1.28667,1.28482,1.28447,1.28418,1.28554,1.28612,1.28437],\"high\":[1.28382,1.28412,1.28453,1.28429,1.28425,1.28504,1.28508,1.28477,1.28458,1.28503,1.28532,1.28604,1.28583,1.28583,1.28744,1.28733,1.28623,1.28546,1.28301,1.28249,1.28358,1.28454,1.28446,1.28438,1.28433,1.28383,1.28372,1.28344,1.28372,1.28356,1.28318,1.2828,1.2826,1.28379,1.28452,1.2862,1.28673,1.28695,1.28691,1.28789,1.28871,1.29135,1.29082,1.28746,1.28846,1.28859,1.28622,1.28606,1.28494,1.28476,1.28492,1.28574,1.28545,1.28374,1.28299,1.28321,1.28408,1.28379,1.28222,1.2824,1.28284,1.28382,1.28402,1.28468,1.28832,1.28812,1.28593,1.28636,1.28617,1.28571,1.28818,1.28876,1.28826,1.28777,1.28858,1.28857,1.28718,1.28603,1.28557,1.2851,1.2854,1.28586,1.28641,1.28535,1.2847,1.28353,1.28482,1.28747,1.28748,1.29085,1.29009,1.28815,1.28648,1.28601,1.28593,1.28572,1.28535,1.28532,1.28524,1.28523,1.28488,1.28454,1.28481,1.28454,1.28482,1.28635,1.28694,1.28752,1.288,1.2878,1.28759,1.28818,1.29174,1.28933,1.2868,1.28555,1.2853,1.28599,1.2864,1.28632],\"low\":[1.2833,1.28324,1.28391,1.28326,1.28343,1.28376,1.28448,1.28416,1.28375,1.28386,1.2846,1.28464,1.2849,1.28463,1.28581,1.28543,1.28391,1.28149,1.28136,1.28051,1.28153,1.28255,1.28363,1.28297,1.28366,1.28327,1.28292,1.28284,1.28291,1.28304,1.28254,1.28203,1.28212,1.28219,1.28318,1.28426,1.28516,1.28524,1.28639,1.2832,1.28354,1.28729,1.28625,1.28458,1.28543,1.28329,1.28463,1.28454,1.28443,1.28395,1.28435,1.28417,1.28353,1.28267,1.28238,1.28272,1.28293,1.28159,1.28028,1.2808,1.2818,1.28221,1.28264,1.28218,1.28328,1.28489,1.28328,1.28468,1.28434,1.281,1.28452,1.28749,1.28706,1.28718,1.28749,1.2868,1.28514,1.28526,1.28474,1.28442,1.28454,1.28443,1.28382,1.28348,1.28203,1.28161,1.28306,1.28362,1.28471,1.28437,1.28725,1.28464,1.28447,1.28411,1.28469,1.28459,1.28433,1.28478,1.2848,1.28454,1.28361,1.28365,1.28393,1.28386,1.28426,1.28475,1.28605,1.28574,1.28697,1.287,1.28666,1.28424,1.28632,1.2855,1.2848,1.28394,1.284,1.28396,1.28536,1.28437],\"open\":[1.2833,1.28372,1.28404,1.28418,1.28353,1.28389,1.28487,1.28476,1.28435,1.28386,1.28476,1.28493,1.28575,1.28501,1.28581,1.28694,1.28553,1.28419,1.28188,1.28188,1.28247,1.28271,1.28428,1.28389,1.2842,1.28383,1.28351,1.2833,1.28305,1.28353,1.28313,1.28257,1.2822,1.28219,1.28361,1.28451,1.28616,1.28528,1.28675,1.28651,1.28428,1.28822,1.29004,1.28722,1.28543,1.2876,1.28494,1.28579,1.28453,1.28471,1.28463,1.28454,1.28545,1.28366,1.28293,1.28289,1.28295,1.28348,1.28206,1.28172,1.28212,1.28244,1.28278,1.28291,1.28344,1.28671,1.28492,1.28487,1.28562,1.28529,1.28531,1.28785,1.28824,1.28726,1.28749,1.28839,1.2868,1.28532,1.28557,1.28505,1.28458,1.28487,1.28523,1.28475,1.28435,1.28206,1.28332,1.28371,1.2871,1.2849,1.28993,1.28772,1.28493,1.28569,1.28493,1.28572,1.28464,1.28498,1.28508,1.28507,1.28474,1.28408,1.28446,1.28418,1.28446,1.28477,1.28621,1.28627,1.28751,1.28738,1.287,1.287,1.28653,1.28922,1.28667,1.28481,1.28447,1.28418,1.28554,1.28612],\"x\":[\"2018-04-30T00:00:00\",\"2018-04-30T01:00:00\",\"2018-04-30T02:00:00\",\"2018-04-30T03:00:00\",\"2018-04-30T04:00:00\",\"2018-04-30T05:00:00\",\"2018-04-30T06:00:00\",\"2018-04-30T07:00:00\",\"2018-04-30T08:00:00\",\"2018-04-30T09:00:00\",\"2018-04-30T10:00:00\",\"2018-04-30T11:00:00\",\"2018-04-30T12:00:00\",\"2018-04-30T13:00:00\",\"2018-04-30T14:00:00\",\"2018-04-30T15:00:00\",\"2018-04-30T16:00:00\",\"2018-04-30T17:00:00\",\"2018-04-30T18:00:00\",\"2018-04-30T19:00:00\",\"2018-04-30T20:00:00\",\"2018-04-30T21:00:00\",\"2018-04-30T22:00:00\",\"2018-04-30T23:00:00\",\"2018-05-01T00:00:00\",\"2018-05-01T01:00:00\",\"2018-05-01T02:00:00\",\"2018-05-01T03:00:00\",\"2018-05-01T04:00:00\",\"2018-05-01T05:00:00\",\"2018-05-01T06:00:00\",\"2018-05-01T07:00:00\",\"2018-05-01T08:00:00\",\"2018-05-01T09:00:00\",\"2018-05-01T10:00:00\",\"2018-05-01T11:00:00\",\"2018-05-01T12:00:00\",\"2018-05-01T13:00:00\",\"2018-05-01T14:00:00\",\"2018-05-01T15:00:00\",\"2018-05-01T16:00:00\",\"2018-05-01T17:00:00\",\"2018-05-01T18:00:00\",\"2018-05-01T19:00:00\",\"2018-05-01T20:00:00\",\"2018-05-01T21:00:00\",\"2018-05-01T22:00:00\",\"2018-05-01T23:00:00\",\"2018-05-02T00:00:00\",\"2018-05-02T01:00:00\",\"2018-05-02T02:00:00\",\"2018-05-02T03:00:00\",\"2018-05-02T04:00:00\",\"2018-05-02T05:00:00\",\"2018-05-02T06:00:00\",\"2018-05-02T07:00:00\",\"2018-05-02T08:00:00\",\"2018-05-02T09:00:00\",\"2018-05-02T10:00:00\",\"2018-05-02T11:00:00\",\"2018-05-02T12:00:00\",\"2018-05-02T13:00:00\",\"2018-05-02T14:00:00\",\"2018-05-02T15:00:00\",\"2018-05-02T16:00:00\",\"2018-05-02T17:00:00\",\"2018-05-02T18:00:00\",\"2018-05-02T19:00:00\",\"2018-05-02T20:00:00\",\"2018-05-02T21:00:00\",\"2018-05-02T22:00:00\",\"2018-05-02T23:00:00\",\"2018-05-03T00:00:00\",\"2018-05-03T01:00:00\",\"2018-05-03T02:00:00\",\"2018-05-03T03:00:00\",\"2018-05-03T04:00:00\",\"2018-05-03T05:00:00\",\"2018-05-03T06:00:00\",\"2018-05-03T07:00:00\",\"2018-05-03T08:00:00\",\"2018-05-03T09:00:00\",\"2018-05-03T10:00:00\",\"2018-05-03T11:00:00\",\"2018-05-03T12:00:00\",\"2018-05-03T13:00:00\",\"2018-05-03T14:00:00\",\"2018-05-03T15:00:00\",\"2018-05-03T16:00:00\",\"2018-05-03T17:00:00\",\"2018-05-03T18:00:00\",\"2018-05-03T19:00:00\",\"2018-05-03T20:00:00\",\"2018-05-03T21:00:00\",\"2018-05-03T22:00:00\",\"2018-05-03T23:00:00\",\"2018-05-04T00:00:00\",\"2018-05-04T01:00:00\",\"2018-05-04T02:00:00\",\"2018-05-04T03:00:00\",\"2018-05-04T04:00:00\",\"2018-05-04T05:00:00\",\"2018-05-04T06:00:00\",\"2018-05-04T07:00:00\",\"2018-05-04T08:00:00\",\"2018-05-04T09:00:00\",\"2018-05-04T10:00:00\",\"2018-05-04T11:00:00\",\"2018-05-04T12:00:00\",\"2018-05-04T13:00:00\",\"2018-05-04T14:00:00\",\"2018-05-04T15:00:00\",\"2018-05-04T16:00:00\",\"2018-05-04T17:00:00\",\"2018-05-04T18:00:00\",\"2018-05-04T19:00:00\",\"2018-05-04T20:00:00\",\"2018-05-04T21:00:00\",\"2018-05-04T22:00:00\",\"2018-05-04T23:00:00\"],\"type\":\"candlestick\"},{\"marker\":{\"color\":\"red\",\"size\":10,\"symbol\":\"circle\"},\"mode\":\"markers\",\"x\":[\"2018-04-30T03:00:00\"],\"y\":[1.28352],\"type\":\"scatter\"}],                        {\"template\":{\"data\":{\"histogram2dcontour\":[{\"type\":\"histogram2dcontour\",\"colorbar\":{\"outlinewidth\":0,\"ticks\":\"\"},\"colorscale\":[[0.0,\"#0d0887\"],[0.1111111111111111,\"#46039f\"],[0.2222222222222222,\"#7201a8\"],[0.3333333333333333,\"#9c179e\"],[0.4444444444444444,\"#bd3786\"],[0.5555555555555556,\"#d8576b\"],[0.6666666666666666,\"#ed7953\"],[0.7777777777777778,\"#fb9f3a\"],[0.8888888888888888,\"#fdca26\"],[1.0,\"#f0f921\"]]}],\"choropleth\":[{\"type\":\"choropleth\",\"colorbar\":{\"outlinewidth\":0,\"ticks\":\"\"}}],\"histogram2d\":[{\"type\":\"histogram2d\",\"colorbar\":{\"outlinewidth\":0,\"ticks\":\"\"},\"colorscale\":[[0.0,\"#0d0887\"],[0.1111111111111111,\"#46039f\"],[0.2222222222222222,\"#7201a8\"],[0.3333333333333333,\"#9c179e\"],[0.4444444444444444,\"#bd3786\"],[0.5555555555555556,\"#d8576b\"],[0.6666666666666666,\"#ed7953\"],[0.7777777777777778,\"#fb9f3a\"],[0.8888888888888888,\"#fdca26\"],[1.0,\"#f0f921\"]]}],\"heatmap\":[{\"type\":\"heatmap\",\"colorbar\":{\"outlinewidth\":0,\"ticks\":\"\"},\"colorscale\":[[0.0,\"#0d0887\"],[0.1111111111111111,\"#46039f\"],[0.2222222222222222,\"#7201a8\"],[0.3333333333333333,\"#9c179e\"],[0.4444444444444444,\"#bd3786\"],[0.5555555555555556,\"#d8576b\"],[0.6666666666666666,\"#ed7953\"],[0.7777777777777778,\"#fb9f3a\"],[0.8888888888888888,\"#fdca26\"],[1.0,\"#f0f921\"]]}],\"heatmapgl\":[{\"type\":\"heatmapgl\",\"colorbar\":{\"outlinewidth\":0,\"ticks\":\"\"},\"colorscale\":[[0.0,\"#0d0887\"],[0.1111111111111111,\"#46039f\"],[0.2222222222222222,\"#7201a8\"],[0.3333333333333333,\"#9c179e\"],[0.4444444444444444,\"#bd3786\"],[0.5555555555555556,\"#d8576b\"],[0.6666666666666666,\"#ed7953\"],[0.7777777777777778,\"#fb9f3a\"],[0.8888888888888888,\"#fdca26\"],[1.0,\"#f0f921\"]]}],\"contourcarpet\":[{\"type\":\"contourcarpet\",\"colorbar\":{\"outlinewidth\":0,\"ticks\":\"\"}}],\"contour\":[{\"type\":\"contour\",\"colorbar\":{\"outlinewidth\":0,\"ticks\":\"\"},\"colorscale\":[[0.0,\"#0d0887\"],[0.1111111111111111,\"#46039f\"],[0.2222222222222222,\"#7201a8\"],[0.3333333333333333,\"#9c179e\"],[0.4444444444444444,\"#bd3786\"],[0.5555555555555556,\"#d8576b\"],[0.6666666666666666,\"#ed7953\"],[0.7777777777777778,\"#fb9f3a\"],[0.8888888888888888,\"#fdca26\"],[1.0,\"#f0f921\"]]}],\"surface\":[{\"type\":\"surface\",\"colorbar\":{\"outlinewidth\":0,\"ticks\":\"\"},\"colorscale\":[[0.0,\"#0d0887\"],[0.1111111111111111,\"#46039f\"],[0.2222222222222222,\"#7201a8\"],[0.3333333333333333,\"#9c179e\"],[0.4444444444444444,\"#bd3786\"],[0.5555555555555556,\"#d8576b\"],[0.6666666666666666,\"#ed7953\"],[0.7777777777777778,\"#fb9f3a\"],[0.8888888888888888,\"#fdca26\"],[1.0,\"#f0f921\"]]}],\"mesh3d\":[{\"type\":\"mesh3d\",\"colorbar\":{\"outlinewidth\":0,\"ticks\":\"\"}}],\"scatter\":[{\"fillpattern\":{\"fillmode\":\"overlay\",\"size\":10,\"solidity\":0.2},\"type\":\"scatter\"}],\"parcoords\":[{\"type\":\"parcoords\",\"line\":{\"colorbar\":{\"outlinewidth\":0,\"ticks\":\"\"}}}],\"scatterpolargl\":[{\"type\":\"scatterpolargl\",\"marker\":{\"colorbar\":{\"outlinewidth\":0,\"ticks\":\"\"}}}],\"bar\":[{\"error_x\":{\"color\":\"#2a3f5f\"},\"error_y\":{\"color\":\"#2a3f5f\"},\"marker\":{\"line\":{\"color\":\"#E5ECF6\",\"width\":0.5},\"pattern\":{\"fillmode\":\"overlay\",\"size\":10,\"solidity\":0.2}},\"type\":\"bar\"}],\"scattergeo\":[{\"type\":\"scattergeo\",\"marker\":{\"colorbar\":{\"outlinewidth\":0,\"ticks\":\"\"}}}],\"scatterpolar\":[{\"type\":\"scatterpolar\",\"marker\":{\"colorbar\":{\"outlinewidth\":0,\"ticks\":\"\"}}}],\"histogram\":[{\"marker\":{\"pattern\":{\"fillmode\":\"overlay\",\"size\":10,\"solidity\":0.2}},\"type\":\"histogram\"}],\"scattergl\":[{\"type\":\"scattergl\",\"marker\":{\"colorbar\":{\"outlinewidth\":0,\"ticks\":\"\"}}}],\"scatter3d\":[{\"type\":\"scatter3d\",\"line\":{\"colorbar\":{\"outlinewidth\":0,\"ticks\":\"\"}},\"marker\":{\"colorbar\":{\"outlinewidth\":0,\"ticks\":\"\"}}}],\"scattermapbox\":[{\"type\":\"scattermapbox\",\"marker\":{\"colorbar\":{\"outlinewidth\":0,\"ticks\":\"\"}}}],\"scatterternary\":[{\"type\":\"scatterternary\",\"marker\":{\"colorbar\":{\"outlinewidth\":0,\"ticks\":\"\"}}}],\"scattercarpet\":[{\"type\":\"scattercarpet\",\"marker\":{\"colorbar\":{\"outlinewidth\":0,\"ticks\":\"\"}}}],\"carpet\":[{\"aaxis\":{\"endlinecolor\":\"#2a3f5f\",\"gridcolor\":\"white\",\"linecolor\":\"white\",\"minorgridcolor\":\"white\",\"startlinecolor\":\"#2a3f5f\"},\"baxis\":{\"endlinecolor\":\"#2a3f5f\",\"gridcolor\":\"white\",\"linecolor\":\"white\",\"minorgridcolor\":\"white\",\"startlinecolor\":\"#2a3f5f\"},\"type\":\"carpet\"}],\"table\":[{\"cells\":{\"fill\":{\"color\":\"#EBF0F8\"},\"line\":{\"color\":\"white\"}},\"header\":{\"fill\":{\"color\":\"#C8D4E3\"},\"line\":{\"color\":\"white\"}},\"type\":\"table\"}],\"barpolar\":[{\"marker\":{\"line\":{\"color\":\"#E5ECF6\",\"width\":0.5},\"pattern\":{\"fillmode\":\"overlay\",\"size\":10,\"solidity\":0.2}},\"type\":\"barpolar\"}],\"pie\":[{\"automargin\":true,\"type\":\"pie\"}]},\"layout\":{\"autotypenumbers\":\"strict\",\"colorway\":[\"#636efa\",\"#EF553B\",\"#00cc96\",\"#ab63fa\",\"#FFA15A\",\"#19d3f3\",\"#FF6692\",\"#B6E880\",\"#FF97FF\",\"#FECB52\"],\"font\":{\"color\":\"#2a3f5f\"},\"hovermode\":\"closest\",\"hoverlabel\":{\"align\":\"left\"},\"paper_bgcolor\":\"white\",\"plot_bgcolor\":\"#E5ECF6\",\"polar\":{\"bgcolor\":\"#E5ECF6\",\"angularaxis\":{\"gridcolor\":\"white\",\"linecolor\":\"white\",\"ticks\":\"\"},\"radialaxis\":{\"gridcolor\":\"white\",\"linecolor\":\"white\",\"ticks\":\"\"}},\"ternary\":{\"bgcolor\":\"#E5ECF6\",\"aaxis\":{\"gridcolor\":\"white\",\"linecolor\":\"white\",\"ticks\":\"\"},\"baxis\":{\"gridcolor\":\"white\",\"linecolor\":\"white\",\"ticks\":\"\"},\"caxis\":{\"gridcolor\":\"white\",\"linecolor\":\"white\",\"ticks\":\"\"}},\"coloraxis\":{\"colorbar\":{\"outlinewidth\":0,\"ticks\":\"\"}},\"colorscale\":{\"sequential\":[[0.0,\"#0d0887\"],[0.1111111111111111,\"#46039f\"],[0.2222222222222222,\"#7201a8\"],[0.3333333333333333,\"#9c179e\"],[0.4444444444444444,\"#bd3786\"],[0.5555555555555556,\"#d8576b\"],[0.6666666666666666,\"#ed7953\"],[0.7777777777777778,\"#fb9f3a\"],[0.8888888888888888,\"#fdca26\"],[1.0,\"#f0f921\"]],\"sequentialminus\":[[0.0,\"#0d0887\"],[0.1111111111111111,\"#46039f\"],[0.2222222222222222,\"#7201a8\"],[0.3333333333333333,\"#9c179e\"],[0.4444444444444444,\"#bd3786\"],[0.5555555555555556,\"#d8576b\"],[0.6666666666666666,\"#ed7953\"],[0.7777777777777778,\"#fb9f3a\"],[0.8888888888888888,\"#fdca26\"],[1.0,\"#f0f921\"]],\"diverging\":[[0,\"#8e0152\"],[0.1,\"#c51b7d\"],[0.2,\"#de77ae\"],[0.3,\"#f1b6da\"],[0.4,\"#fde0ef\"],[0.5,\"#f7f7f7\"],[0.6,\"#e6f5d0\"],[0.7,\"#b8e186\"],[0.8,\"#7fbc41\"],[0.9,\"#4d9221\"],[1,\"#276419\"]]},\"xaxis\":{\"gridcolor\":\"white\",\"linecolor\":\"white\",\"ticks\":\"\",\"title\":{\"standoff\":15},\"zerolinecolor\":\"white\",\"automargin\":true,\"zerolinewidth\":2},\"yaxis\":{\"gridcolor\":\"white\",\"linecolor\":\"white\",\"ticks\":\"\",\"title\":{\"standoff\":15},\"zerolinecolor\":\"white\",\"automargin\":true,\"zerolinewidth\":2},\"scene\":{\"xaxis\":{\"backgroundcolor\":\"#E5ECF6\",\"gridcolor\":\"white\",\"linecolor\":\"white\",\"showbackground\":true,\"ticks\":\"\",\"zerolinecolor\":\"white\",\"gridwidth\":2},\"yaxis\":{\"backgroundcolor\":\"#E5ECF6\",\"gridcolor\":\"white\",\"linecolor\":\"white\",\"showbackground\":true,\"ticks\":\"\",\"zerolinecolor\":\"white\",\"gridwidth\":2},\"zaxis\":{\"backgroundcolor\":\"#E5ECF6\",\"gridcolor\":\"white\",\"linecolor\":\"white\",\"showbackground\":true,\"ticks\":\"\",\"zerolinecolor\":\"white\",\"gridwidth\":2}},\"shapedefaults\":{\"line\":{\"color\":\"#2a3f5f\"}},\"annotationdefaults\":{\"arrowcolor\":\"#2a3f5f\",\"arrowhead\":0,\"arrowwidth\":1},\"geo\":{\"bgcolor\":\"white\",\"landcolor\":\"#E5ECF6\",\"subunitcolor\":\"white\",\"showland\":true,\"showlakes\":true,\"lakecolor\":\"white\"},\"title\":{\"x\":0.05},\"mapbox\":{\"style\":\"light\"}}},\"width\":1000,\"height\":700},                        {\"responsive\": true}                    ).then(function(){\n",
       "                            \n",
       "var gd = document.getElementById('2cc899a0-304b-4a3c-989b-c6768cd42acc');\n",
       "var x = new MutationObserver(function (mutations, observer) {{\n",
       "        var display = window.getComputedStyle(gd).display;\n",
       "        if (!display || display === 'none') {{\n",
       "            console.log([gd, 'removed!']);\n",
       "            Plotly.purge(gd);\n",
       "            observer.disconnect();\n",
       "        }}\n",
       "}});\n",
       "\n",
       "// Listen for the removal of the full notebook cells\n",
       "var notebookContainer = gd.closest('#notebook-container');\n",
       "if (notebookContainer) {{\n",
       "    x.observe(notebookContainer, {childList: true});\n",
       "}}\n",
       "\n",
       "// Listen for the clearing of the current output cell\n",
       "var outputEl = gd.closest('.output');\n",
       "if (outputEl) {{\n",
       "    x.observe(outputEl, {childList: true});\n",
       "}}\n",
       "\n",
       "                        })                };                });            </script>        </div>"
      ]
     },
     "metadata": {},
     "output_type": "display_data"
    },
    {
     "ename": "KeyboardInterrupt",
     "evalue": "Interrupted by user",
     "output_type": "error",
     "traceback": [
      "\u001b[1;31m---------------------------------------------------------------------------\u001b[0m",
      "\u001b[1;31mKeyboardInterrupt\u001b[0m                         Traceback (most recent call last)",
      "Cell \u001b[1;32mIn[95], line 62\u001b[0m\n\u001b[0;32m     55\u001b[0m fig\u001b[38;5;241m.\u001b[39mupdate_layout(\n\u001b[0;32m     56\u001b[0m     width\u001b[38;5;241m=\u001b[39m\u001b[38;5;241m1000\u001b[39m,  \u001b[38;5;66;03m# Ancho en píxeles\u001b[39;00m\n\u001b[0;32m     57\u001b[0m     height\u001b[38;5;241m=\u001b[39m\u001b[38;5;241m700\u001b[39m   \u001b[38;5;66;03m# Altura en píxeles\u001b[39;00m\n\u001b[0;32m     58\u001b[0m )\n\u001b[0;32m     60\u001b[0m fig\u001b[38;5;241m.\u001b[39mshow()\n\u001b[1;32m---> 62\u001b[0m a \u001b[38;5;241m=\u001b[39m \u001b[38;5;28;43minput\u001b[39;49m\u001b[43m(\u001b[49m\u001b[43m)\u001b[49m  \u001b[38;5;66;03m# Pausa para la interacción del usuario\u001b[39;00m\n\u001b[0;32m     63\u001b[0m clear_output()\n",
      "File \u001b[1;32mc:\\users\\saidj\\onedrive\\documentos\\projects\\forex_ml_bot\\forex_ml_bot\\mtvenv\\lib\\site-packages\\ipykernel\\kernelbase.py:1202\u001b[0m, in \u001b[0;36mKernel.raw_input\u001b[1;34m(self, prompt)\u001b[0m\n\u001b[0;32m   1200\u001b[0m     msg \u001b[38;5;241m=\u001b[39m \u001b[38;5;124m\"\u001b[39m\u001b[38;5;124mraw_input was called, but this frontend does not support input requests.\u001b[39m\u001b[38;5;124m\"\u001b[39m\n\u001b[0;32m   1201\u001b[0m     \u001b[38;5;28;01mraise\u001b[39;00m StdinNotImplementedError(msg)\n\u001b[1;32m-> 1202\u001b[0m \u001b[38;5;28;01mreturn\u001b[39;00m \u001b[38;5;28;43mself\u001b[39;49m\u001b[38;5;241;43m.\u001b[39;49m\u001b[43m_input_request\u001b[49m\u001b[43m(\u001b[49m\n\u001b[0;32m   1203\u001b[0m \u001b[43m    \u001b[49m\u001b[38;5;28;43mstr\u001b[39;49m\u001b[43m(\u001b[49m\u001b[43mprompt\u001b[49m\u001b[43m)\u001b[49m\u001b[43m,\u001b[49m\n\u001b[0;32m   1204\u001b[0m \u001b[43m    \u001b[49m\u001b[38;5;28;43mself\u001b[39;49m\u001b[38;5;241;43m.\u001b[39;49m\u001b[43m_parent_ident\u001b[49m\u001b[43m[\u001b[49m\u001b[38;5;124;43m\"\u001b[39;49m\u001b[38;5;124;43mshell\u001b[39;49m\u001b[38;5;124;43m\"\u001b[39;49m\u001b[43m]\u001b[49m\u001b[43m,\u001b[49m\n\u001b[0;32m   1205\u001b[0m \u001b[43m    \u001b[49m\u001b[38;5;28;43mself\u001b[39;49m\u001b[38;5;241;43m.\u001b[39;49m\u001b[43mget_parent\u001b[49m\u001b[43m(\u001b[49m\u001b[38;5;124;43m\"\u001b[39;49m\u001b[38;5;124;43mshell\u001b[39;49m\u001b[38;5;124;43m\"\u001b[39;49m\u001b[43m)\u001b[49m\u001b[43m,\u001b[49m\n\u001b[0;32m   1206\u001b[0m \u001b[43m    \u001b[49m\u001b[43mpassword\u001b[49m\u001b[38;5;241;43m=\u001b[39;49m\u001b[38;5;28;43;01mFalse\u001b[39;49;00m\u001b[43m,\u001b[49m\n\u001b[0;32m   1207\u001b[0m \u001b[43m\u001b[49m\u001b[43m)\u001b[49m\n",
      "File \u001b[1;32mc:\\users\\saidj\\onedrive\\documentos\\projects\\forex_ml_bot\\forex_ml_bot\\mtvenv\\lib\\site-packages\\ipykernel\\kernelbase.py:1245\u001b[0m, in \u001b[0;36mKernel._input_request\u001b[1;34m(self, prompt, ident, parent, password)\u001b[0m\n\u001b[0;32m   1242\u001b[0m \u001b[38;5;28;01mexcept\u001b[39;00m \u001b[38;5;167;01mKeyboardInterrupt\u001b[39;00m:\n\u001b[0;32m   1243\u001b[0m     \u001b[38;5;66;03m# re-raise KeyboardInterrupt, to truncate traceback\u001b[39;00m\n\u001b[0;32m   1244\u001b[0m     msg \u001b[38;5;241m=\u001b[39m \u001b[38;5;124m\"\u001b[39m\u001b[38;5;124mInterrupted by user\u001b[39m\u001b[38;5;124m\"\u001b[39m\n\u001b[1;32m-> 1245\u001b[0m     \u001b[38;5;28;01mraise\u001b[39;00m \u001b[38;5;167;01mKeyboardInterrupt\u001b[39;00m(msg) \u001b[38;5;28;01mfrom\u001b[39;00m \u001b[38;5;28;01mNone\u001b[39;00m\n\u001b[0;32m   1246\u001b[0m \u001b[38;5;28;01mexcept\u001b[39;00m \u001b[38;5;167;01mException\u001b[39;00m:\n\u001b[0;32m   1247\u001b[0m     \u001b[38;5;28mself\u001b[39m\u001b[38;5;241m.\u001b[39mlog\u001b[38;5;241m.\u001b[39mwarning(\u001b[38;5;124m\"\u001b[39m\u001b[38;5;124mInvalid Message:\u001b[39m\u001b[38;5;124m\"\u001b[39m, exc_info\u001b[38;5;241m=\u001b[39m\u001b[38;5;28;01mTrue\u001b[39;00m)\n",
      "\u001b[1;31mKeyboardInterrupt\u001b[0m: Interrupted by user"
     ]
    }
   ],
   "source": [
    "# import pandas as pd\n",
    "import numpy as np\n",
    "import mplfinance as mpf\n",
    "import matplotlib.pyplot as plt\n",
    "from datetime import timedelta\n",
    "import plotly.graph_objects as go\n",
    "from datetime import datetime\n",
    "\n",
    "\n",
    "# Convertir las columnas de fechas a formato datetime\n",
    "df['Date'] = pd.to_datetime(df['Date'])\n",
    "\n",
    "dates = df[df['trade'] != 0].Date.unique()\n",
    "\n",
    "for date in dates:\n",
    "\n",
    "    data = df[df['Date'] == date].iloc[0]\n",
    "    signal = data.trade\n",
    "    \n",
    "    start_date = date - timedelta(hours=24)\n",
    "    end_date = date + timedelta(hours=120)\n",
    "\n",
    "    print(start_date)\n",
    "    print(end_date)\n",
    "    \n",
    "    historical_prices = df[\n",
    "        (df['Date'] >= start_date) &\n",
    "        (df['Date'] <= end_date)\n",
    "    ].copy()\n",
    "\n",
    "    \n",
    "    fig = go.Figure(data=[go.Candlestick(x=historical_prices['Date'],\n",
    "                    open=historical_prices['Open'],\n",
    "                    high=historical_prices['High'],\n",
    "                    low=historical_prices['Low'],\n",
    "                    close=historical_prices['Close'])])\n",
    "\n",
    "\n",
    "\n",
    "    \n",
    "    if signal == 1:\n",
    "        color = 'green'\n",
    "    else:\n",
    "        color = 'red'\n",
    "        \n",
    "    fig.add_trace(go.Scatter(\n",
    "        x=[data.Date],\n",
    "        y=[data.Close],\n",
    "        mode='markers',\n",
    "        marker=dict(color=color, symbol='circle', size=10),\n",
    "    ))\n",
    "\n",
    "    \n",
    "    # Ajustar el tamaño del gráfico\n",
    "    fig.update_layout(\n",
    "        width=1000,  # Ancho en píxeles\n",
    "        height=700   # Altura en píxeles\n",
    "    )\n",
    "    \n",
    "    fig.show()\n",
    "    \n",
    "    a = input()  # Pausa para la interacción del usuario\n",
    "    clear_output()\n",
    "    "
   ]
  },
  {
   "cell_type": "code",
   "execution_count": null,
   "id": "480c47d6-3c51-4256-9c47-9c5c3d058bc0",
   "metadata": {},
   "outputs": [],
   "source": []
  },
  {
   "cell_type": "code",
   "execution_count": null,
   "id": "0c54f72a-a252-4e79-9d04-27dac7205212",
   "metadata": {},
   "outputs": [],
   "source": []
  },
  {
   "cell_type": "code",
   "execution_count": null,
   "id": "4fa3e41d-337a-480e-80f9-1c111385953a",
   "metadata": {},
   "outputs": [],
   "source": []
  },
  {
   "cell_type": "code",
   "execution_count": null,
   "id": "0d77bf5c-b7f8-4a72-886a-e462dff4f993",
   "metadata": {},
   "outputs": [],
   "source": []
  },
  {
   "cell_type": "code",
   "execution_count": null,
   "id": "cd689cb1-7fbc-40f4-b5ae-f42e2b555b97",
   "metadata": {},
   "outputs": [],
   "source": []
  },
  {
   "cell_type": "code",
   "execution_count": null,
   "id": "4137d94e-d6a7-4cb1-bcd2-c7e4125e7a89",
   "metadata": {},
   "outputs": [],
   "source": []
  },
  {
   "cell_type": "code",
   "execution_count": null,
   "id": "e9e78e38-7418-4078-9a6f-c651721ee87f",
   "metadata": {},
   "outputs": [],
   "source": []
  },
  {
   "cell_type": "code",
   "execution_count": null,
   "id": "5fefd349-7578-49bf-bae8-87cf3ffd79ab",
   "metadata": {},
   "outputs": [],
   "source": []
  },
  {
   "cell_type": "code",
   "execution_count": null,
   "id": "c89fe57b-7467-4cd7-849d-826996576096",
   "metadata": {},
   "outputs": [],
   "source": []
  },
  {
   "cell_type": "code",
   "execution_count": null,
   "id": "0078ae63-4870-49e6-bf06-379496f03d11",
   "metadata": {},
   "outputs": [],
   "source": []
  },
  {
   "cell_type": "markdown",
   "id": "dca7a803-f060-47ce-ab21-7e0f2b43e096",
   "metadata": {},
   "source": [
    "# Soportes y resistencias"
   ]
  },
  {
   "cell_type": "code",
   "execution_count": null,
   "id": "23fd8761-4db0-409b-90a9-1fe49a1db441",
   "metadata": {},
   "outputs": [],
   "source": []
  },
  {
   "cell_type": "code",
   "execution_count": null,
   "id": "a1bda396-8f8c-4ea0-9ede-74953a24e174",
   "metadata": {},
   "outputs": [],
   "source": []
  },
  {
   "cell_type": "code",
   "execution_count": null,
   "id": "92471b2f-4a51-4798-a4b1-3a38aa3a3718",
   "metadata": {},
   "outputs": [],
   "source": []
  },
  {
   "cell_type": "code",
   "execution_count": null,
   "id": "ed31bc4c-277c-4685-9c7a-66d6a2b9f289",
   "metadata": {},
   "outputs": [],
   "source": []
  },
  {
   "cell_type": "code",
   "execution_count": null,
   "id": "40d7e801-85ea-46c5-88c3-78abc23a5957",
   "metadata": {},
   "outputs": [],
   "source": []
  },
  {
   "cell_type": "code",
   "execution_count": null,
   "id": "fb1a5da1-6d67-4fac-be80-b9eb843bb757",
   "metadata": {},
   "outputs": [],
   "source": []
  },
  {
   "cell_type": "code",
   "execution_count": null,
   "id": "99428d7e-05de-4f69-a7f1-e9927a137b4c",
   "metadata": {},
   "outputs": [],
   "source": []
  },
  {
   "cell_type": "code",
   "execution_count": null,
   "id": "841e26c1-1b18-4a34-b81e-655d400e598c",
   "metadata": {},
   "outputs": [],
   "source": []
  },
  {
   "cell_type": "code",
   "execution_count": null,
   "id": "cae94e7c-efb7-4959-8fdc-ae4ac2cce498",
   "metadata": {},
   "outputs": [],
   "source": []
  },
  {
   "cell_type": "code",
   "execution_count": null,
   "id": "f6d442c1-ce3d-4e8d-8afc-7bd92207f9d9",
   "metadata": {},
   "outputs": [],
   "source": []
  },
  {
   "cell_type": "code",
   "execution_count": null,
   "id": "1ef494bd-7296-4058-80d7-a22efc22b781",
   "metadata": {},
   "outputs": [],
   "source": []
  },
  {
   "cell_type": "code",
   "execution_count": null,
   "id": "81a31769-0f02-4de4-a2d2-c54c3f0d0418",
   "metadata": {},
   "outputs": [],
   "source": []
  },
  {
   "cell_type": "code",
   "execution_count": null,
   "id": "05e46021-3212-4edd-b804-9284d88271c3",
   "metadata": {},
   "outputs": [],
   "source": []
  },
  {
   "cell_type": "code",
   "execution_count": 32,
   "id": "fcdb7956-efc6-4fe5-84bb-c0f32a2b8a1f",
   "metadata": {},
   "outputs": [],
   "source": [
    "window = 24\n",
    "rolling_high = df['High'].rolling(window=window).max()\n",
    "rolling_low = df['Low'].rolling(window=window).min()\n",
    "rolling_close = df['Close'].rolling(window=window).mean()\n",
    "\n",
    "# Calcular el punto pivote principal (PP)\n",
    "pivot = (rolling_high + rolling_low + rolling_close) / 3\n",
    "\n",
    "# Calcular niveles de resistencia y soporte\n",
    "df['r1'] = df['High'].rolling(window=8).max().shift(1)\n",
    "df['s1'] = df['Low'].rolling(window=8).min().shift(1)\n",
    "\n",
    "df['r2'] = df['High'].rolling(window=24).max().shift(1)\n",
    "df['s2'] = df['Low'].rolling(window=24).min().shift(1)\n",
    "\n",
    "df['r3'] = df['High'].rolling(window=48).max().shift(1)\n",
    "df['s3'] = df['Low'].rolling(window=48).min().shift(1)"
   ]
  },
  {
   "cell_type": "code",
   "execution_count": 35,
   "id": "ed0a7293-63f6-4f01-8418-f23888033258",
   "metadata": {},
   "outputs": [],
   "source": [
    "df['colors'] = None\n",
    "\n",
    "# df['colors'] = np.where(df['acumulation']==False, None, 'blue')\n",
    "# df['colors'] = np.where(df['engulfing']==1, 'darkgreen', df['colors'])\n",
    "# df['colors'] = np.where(df['engulfing']==-1, 'darkred', df['colors'])"
   ]
  },
  {
   "cell_type": "code",
   "execution_count": 39,
   "id": "2f8b3a80-ca5c-46ec-b012-d2c88580c9d7",
   "metadata": {},
   "outputs": [
    {
     "name": "stderr",
     "output_type": "stream",
     "text": [
      "C:\\Users\\SaidJ\\AppData\\Local\\Temp\\ipykernel_19424\\1222834228.py:3: SettingWithCopyWarning: \n",
      "A value is trying to be set on a copy of a slice from a DataFrame.\n",
      "Try using .loc[row_indexer,col_indexer] = value instead\n",
      "\n",
      "See the caveats in the documentation: https://pandas.pydata.org/pandas-docs/stable/user_guide/indexing.html#returning-a-view-versus-a-copy\n",
      "  df_min['Date'] = pd.to_datetime(df_min['Date'])\n"
     ]
    },
    {
     "data": {
      "image/png": "[encoded data removed]",
      "text/plain": [
       "<Figure size 1440x1035 with 2 Axes>"
      ]
     },
     "metadata": {},
     "output_type": "display_data"
    }
   ],
   "source": [
    "df_min = df[(df.Date>'2018-11-15') & (df.Date<'2018-11-30')]\n",
    "\n",
    "df_min['Date'] = pd.to_datetime(df_min['Date'])\n",
    "\n",
    "\n",
    "r1 = mpf.make_addplot(df_min['r1'])\n",
    "s1 = mpf.make_addplot(df_min['s1'])\n",
    "\n",
    "r2 = mpf.make_addplot(df_min['r2'])\n",
    "s2 = mpf.make_addplot(df_min['s2'])\n",
    "\n",
    "r3 = mpf.make_addplot(df_min['r3'])\n",
    "s3 = mpf.make_addplot(df_min['s3'])\n",
    "\n",
    "\n",
    "\n",
    "df_min.set_index('Date', inplace=True)\n",
    "mpf.plot(\n",
    "    df_min[['Open','High','Low','Close']],\n",
    "    style='yahoo',\n",
    "    type='candle',\n",
    "    marketcolor_overrides=df_min.colors.tolist(), \n",
    "    figscale=1.8,\n",
    "    addplot=[r1, s1, r2, s2, r3, s3]\n",
    "\n",
    ")"
   ]
  },
  {
   "cell_type": "code",
   "execution_count": null,
   "id": "b7349046-bbe8-4bc7-b27f-f0f548f3bb14",
   "metadata": {},
   "outputs": [],
   "source": []
  },
  {
   "cell_type": "code",
   "execution_count": 14,
   "id": "b5136886-fcfa-43f4-b751-c5fafb9365a1",
   "metadata": {},
   "outputs": [
    {
     "name": "stderr",
     "output_type": "stream",
     "text": [
      "C:\\Users\\SaidJ\\AppData\\Local\\Temp\\ipykernel_19424\\2374861040.py:25: SettingWithCopyWarning: \n",
      "A value is trying to be set on a copy of a slice from a DataFrame.\n",
      "Try using .loc[row_indexer,col_indexer] = value instead\n",
      "\n",
      "See the caveats in the documentation: https://pandas.pydata.org/pandas-docs/stable/user_guide/indexing.html#returning-a-view-versus-a-copy\n",
      "  df['HighPivot'] = pivothigh(df, left_bars, right_bars)\n",
      "C:\\Users\\SaidJ\\AppData\\Local\\Temp\\ipykernel_19424\\2374861040.py:26: SettingWithCopyWarning: \n",
      "A value is trying to be set on a copy of a slice from a DataFrame.\n",
      "Try using .loc[row_indexer,col_indexer] = value instead\n",
      "\n",
      "See the caveats in the documentation: https://pandas.pydata.org/pandas-docs/stable/user_guide/indexing.html#returning-a-view-versus-a-copy\n",
      "  df['LowPivot'] = pivotlow(df, left_bars, right_bars)\n",
      "C:\\Users\\SaidJ\\AppData\\Local\\Temp\\ipykernel_19424\\2374861040.py:31: SettingWithCopyWarning: \n",
      "A value is trying to be set on a copy of a slice from a DataFrame.\n",
      "Try using .loc[row_indexer,col_indexer] = value instead\n",
      "\n",
      "See the caveats in the documentation: https://pandas.pydata.org/pandas-docs/stable/user_guide/indexing.html#returning-a-view-versus-a-copy\n",
      "  df['Osc'] = 100 * (short - long) / long\n"
     ]
    },
    {
     "data": {
      "image/png": "[encoded data removed]",
      "text/plain": [
       "<Figure size 1200x800 with 1 Axes>"
      ]
     },
     "metadata": {},
     "output_type": "display_data"
    }
   ],
   "source": []
  },
  {
   "cell_type": "code",
   "execution_count": null,
   "id": "c171bcb7-39c9-4e93-87e6-8407c525c721",
   "metadata": {},
   "outputs": [],
   "source": []
  }
 ],
 "metadata": {
  "kernelspec": {
   "display_name": "Python 3 (ipykernel)",
   "language": "python",
   "name": "python3"
  },
  "language_info": {
   "codemirror_mode": {
    "name": "ipython",
    "version": 3
   },
   "file_extension": ".py",
   "mimetype": "text/x-python",
   "name": "python",
   "nbconvert_exporter": "python",
   "pygments_lexer": "ipython3",
   "version": "3.8.9"
  }
 },
 "nbformat": 4,
 "nbformat_minor": 5
}
