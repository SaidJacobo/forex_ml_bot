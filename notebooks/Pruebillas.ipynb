{
 "cells": [
  {
   "cell_type": "code",
   "execution_count": 1,
   "id": "fc8d876d-277d-498d-8ce2-c99dd7f9f699",
   "metadata": {},
   "outputs": [
    {
     "name": "stdout",
     "output_type": "stream",
     "text": [
      "Requirement already satisfied: statsmodels in c:\\users\\saidj\\onedrive\\documentos\\projects\\forex_ml_bot\\forex_ml_bot\\mtvenv\\lib\\site-packages (0.14.1)\n",
      "Requirement already satisfied: pandas!=2.1.0,>=1.0 in c:\\users\\saidj\\onedrive\\documentos\\projects\\forex_ml_bot\\forex_ml_bot\\mtvenv\\lib\\site-packages (from statsmodels) (2.0.3)\n",
      "Requirement already satisfied: scipy!=1.9.2,>=1.4; sys_platform == \"win32\" in c:\\users\\saidj\\onedrive\\documentos\\projects\\forex_ml_bot\\forex_ml_bot\\mtvenv\\lib\\site-packages (from statsmodels) (1.10.1)\n",
      "Requirement already satisfied: patsy>=0.5.4 in c:\\users\\saidj\\onedrive\\documentos\\projects\\forex_ml_bot\\forex_ml_bot\\mtvenv\\lib\\site-packages (from statsmodels) (0.5.6)\n",
      "Requirement already satisfied: numpy<2,>=1.18 in c:\\users\\saidj\\onedrive\\documentos\\projects\\forex_ml_bot\\forex_ml_bot\\mtvenv\\lib\\site-packages (from statsmodels) (1.24.4)\n",
      "Requirement already satisfied: packaging>=21.3 in c:\\users\\saidj\\onedrive\\documentos\\projects\\forex_ml_bot\\forex_ml_bot\\mtvenv\\lib\\site-packages (from statsmodels) (23.2)\n",
      "Requirement already satisfied: pytz>=2020.1 in c:\\users\\saidj\\onedrive\\documentos\\projects\\forex_ml_bot\\forex_ml_bot\\mtvenv\\lib\\site-packages (from pandas!=2.1.0,>=1.0->statsmodels) (2023.3.post1)\n",
      "Requirement already satisfied: python-dateutil>=2.8.2 in c:\\users\\saidj\\onedrive\\documentos\\projects\\forex_ml_bot\\forex_ml_bot\\mtvenv\\lib\\site-packages (from pandas!=2.1.0,>=1.0->statsmodels) (2.8.2)\n",
      "Requirement already satisfied: tzdata>=2022.1 in c:\\users\\saidj\\onedrive\\documentos\\projects\\forex_ml_bot\\forex_ml_bot\\mtvenv\\lib\\site-packages (from pandas!=2.1.0,>=1.0->statsmodels) (2023.3)\n",
      "Requirement already satisfied: six in c:\\users\\saidj\\onedrive\\documentos\\projects\\forex_ml_bot\\forex_ml_bot\\mtvenv\\lib\\site-packages (from patsy>=0.5.4->statsmodels) (1.16.0)\n"
     ]
    },
    {
     "name": "stderr",
     "output_type": "stream",
     "text": [
      "WARNING: You are using pip version 20.2.3; however, version 24.1.2 is available.\n",
      "You should consider upgrading via the 'c:\\users\\saidj\\onedrive\\documentos\\projects\\forex_ml_bot\\forex_ml_bot\\mtvenv\\scripts\\python.exe -m pip install --upgrade pip' command.\n"
     ]
    }
   ],
   "source": [
    "! pip install statsmodels"
   ]
  },
  {
   "cell_type": "code",
   "execution_count": 2,
   "id": "84c4a814-277c-42cb-821c-d4d19d01d2f1",
   "metadata": {},
   "outputs": [],
   "source": [
    "import os\n",
    "import sys\n",
    "root_dir = os.path.abspath(os.path.join(os.path.dirname('pruebillas.ipynb'), '..'))\n",
    "os.chdir(root_dir)\n",
    "sys.path.insert(0, os.path.join(root_dir, 'src'))"
   ]
  },
  {
   "cell_type": "code",
   "execution_count": 3,
   "id": "380dcb0a-74b3-4f83-a62e-fa5287b8c847",
   "metadata": {},
   "outputs": [],
   "source": [
    "import numpy as np\n",
    "from sklearn.metrics import f1_score, make_scorer, precision_score, recall_score\n",
    "from sklearn.linear_model import LogisticRegression\n",
    "from xgboost import XGBClassifier\n",
    "from backbone.probability_transformer import ProbabilityTransformer \n",
    "import pandas as pd\n",
    "from sklearn.pipeline import Pipeline\n",
    "from sklearn.model_selection import GridSearchCV, StratifiedKFold\n",
    "from sklearn.metrics import make_scorer, f1_score, roc_auc_score\n",
    "from sklearn.preprocessing import StandardScaler\n",
    "from typing import Tuple\n",
    "import yaml\n",
    "from sklearn.metrics import classification_report\n",
    "from datetime import datetime, timedelta\n",
    "import numpy as np\n",
    "import pandas as pd\n",
    "from tqdm import tqdm\n",
    "from statsmodels.tsa.filters.hp_filter import hpfilter\n",
    "import os\n",
    "from sklearn.metrics import accuracy_score\n",
    "from IPython.display import clear_output\n",
    "\n",
    "pd.options.display.max_rows = 999"
   ]
  },
  {
   "cell_type": "code",
   "execution_count": 4,
   "id": "6ae82f4b-f988-4c94-9c7c-f5fe2ce4ea50",
   "metadata": {},
   "outputs": [],
   "source": [
    "import random\n",
    "import numpy as np\n",
    "import pandas as pd\n",
    "from tqdm import tqdm\n",
    "\n",
    "def apply_cusum_filter(raw_price, threshold):\n",
    "    \"\"\"\n",
    "    :param raw_price: (series) of close prices.\n",
    "    :param threshold: (float) when the abs(change) is larger than the threshold, the\n",
    "    function captures it as an event.\n",
    "    :return: (datetime index vector) vector of datetimes when the events occurred. This is used later to sample.\n",
    "    \"\"\"\n",
    "    print('Applying Symmetric CUSUM filter.')\n",
    "\n",
    "    t_events = []\n",
    "    s_pos = 0\n",
    "    s_neg = 0\n",
    "\n",
    "    # log returns\n",
    "    diff = np.log(raw_price).diff().dropna()\n",
    "\n",
    "    # Get event time stamps for the entire series\n",
    "    for i in tqdm(diff.index[1:]):\n",
    "        pos = float(s_pos + diff.loc[i])\n",
    "        neg = float(s_neg + diff.loc[i])\n",
    "        s_pos = max(0.0, pos)\n",
    "        s_neg = min(0.0, neg)\n",
    "\n",
    "        if s_neg < -threshold:\n",
    "            s_neg = 0\n",
    "            t_events.append(i)\n",
    "\n",
    "        elif s_pos > threshold:\n",
    "            s_pos = 0\n",
    "            t_events.append(i)\n",
    "\n",
    "    event_timestamps = pd.DatetimeIndex(t_events)\n",
    "    return event_timestamps\n",
    "\n",
    "# Función para calcular la volatilidad diaria\n",
    "def get_daily_volatility(close_prices, span=100):\n",
    "    returns = close_prices.pct_change()\n",
    "    volatility = returns.ewm(span=span).std()\n",
    "    return volatility\n",
    "\n",
    "def apply_triple_barrier(\n",
    "    close_prices, \n",
    "    high_prices, \n",
    "    low_prices, \n",
    "    take_profit_in_pips, \n",
    "    stop_loss_in_pips, \n",
    "    side,\n",
    "    max_holding_period=50, \n",
    "    pip_size=0.0001\n",
    "    ):\n",
    "\n",
    "    barriers = []\n",
    "    for index in range(len(close_prices)):\n",
    "        actual_close_price = close_prices[index]\n",
    "        \n",
    "        if side[index] == 1:\n",
    "            # Para una señal de compra\n",
    "            upper_barrier_level = round(actual_close_price + (take_profit_in_pips * pip_size), 4)\n",
    "            lower_barrier_level = round(actual_close_price - (stop_loss_in_pips * pip_size), 4)\n",
    "        elif side[index] == -1:\n",
    "            # Para una señal de venta\n",
    "            upper_barrier_level = round(actual_close_price + (stop_loss_in_pips * pip_size), 4)\n",
    "            lower_barrier_level = round(actual_close_price - (take_profit_in_pips * pip_size), 4)\n",
    "        else:\n",
    "            # Si no hay señal, saltar al siguiente índice\n",
    "            continue\n",
    "        \n",
    "        # Evaluar los precios futuros dentro del período máximo de mantenimiento\n",
    "        for j in range(index + 1, min(index + max_holding_period, len(close_prices))):\n",
    "            future_close_price = close_prices[j]\n",
    "            future_high_price = high_prices[j]\n",
    "            future_low_price = low_prices[j]\n",
    "            \n",
    "            if side[index] == 1:\n",
    "\n",
    "                if future_low_price <= lower_barrier_level:\n",
    "                    barriers.append((index, 0))  # Etiqueta 0 para stop-loss\n",
    "                    break\n",
    "\n",
    "                elif future_high_price >= upper_barrier_level:\n",
    "                    barriers.append((index, 1))  # Etiqueta 1 para toma de ganancias\n",
    "                    break\n",
    "\n",
    "            elif side[index] == -1:\n",
    "                # Señal de venta: tomar ganancias si se alcanza la barrera inferior\n",
    "\n",
    "                if future_high_price >= upper_barrier_level:\n",
    "                    barriers.append((index, 0))  # Etiqueta 0 para stop-loss\n",
    "                    break\n",
    "\n",
    "                elif future_low_price <= lower_barrier_level:\n",
    "                    barriers.append((index, 1))  # Etiqueta 1 para toma de ganancias\n",
    "                    break\n",
    "\n",
    "        else:\n",
    "            barriers.append((index, 2))  # Etiqueta 2 si no se alcanza ninguna barrera\n",
    "    \n",
    "    # # Revisar los eventos etiquetados como 2 para determinar si son ganancias o pérdidas\n",
    "    # for idx, (event_index, label) in enumerate(barriers):\n",
    "    #     if label == 2:\n",
    "    #         # Determinar si el precio final fue una ganancia o una pérdida\n",
    "    #         final_price = close_prices[min(event_index + max_holding_period, len(close_prices) - 1)]\n",
    "    #         initial_price = close_prices[event_index]\n",
    "            \n",
    "    #         if side[event_index] == 1:\n",
    "    #             # Para una señal de compra\n",
    "    #             if final_price >= initial_price:\n",
    "    #                 barriers[idx] = (event_index, 1)  # Etiqueta 1 para toma de ganancias\n",
    "    #             elif final_price < initial_price:\n",
    "    #                 barriers[idx] = (event_index, 0)  # Etiqueta 0 para stop-loss\n",
    "    #         elif side[event_index] == -1:\n",
    "    #             # Para una señal de venta\n",
    "    #             if final_price <= initial_price:\n",
    "    #                 barriers[idx] = (event_index, 1)  # Etiqueta 1 para toma de ganancias\n",
    "    #             elif final_price > initial_price:\n",
    "    #                 barriers[idx] = (event_index, 0)  # Etiqueta 0 para stop-loss\n",
    "\n",
    "    return barriers\n",
    "\n",
    "\n",
    "\n",
    "def triple_barrier_labeling(\n",
    "        close_prices, \n",
    "        high_prices, \n",
    "        low_prices, \n",
    "        take_profit_in_pips, \n",
    "        stop_loss_in_pips, \n",
    "        side,\n",
    "        max_holding_period=50, \n",
    "        pip_size=0.0001,\n",
    "    ):\n",
    "\n",
    "    labels = apply_triple_barrier(\n",
    "        close_prices,\n",
    "        high_prices, \n",
    "        low_prices, \n",
    "        take_profit_in_pips, \n",
    "        stop_loss_in_pips, \n",
    "        side,\n",
    "        max_holding_period, \n",
    "        pip_size\n",
    "    )\n",
    "    \n",
    "    target = [label for _, label in labels]\n",
    "    return target\n"
   ]
  },
  {
   "cell_type": "code",
   "execution_count": 31,
   "id": "04f6a8a8-2f90-4eac-ae6e-e9bf75196d05",
   "metadata": {},
   "outputs": [],
   "source": [
    "def bband_sell_stgy(prices_with_indicators, window):\n",
    "    df = prices_with_indicators.copy()\n",
    "    \n",
    "    df['bband_flag'] = 0\n",
    "    df['bband_flag'] = np.where((df['Close'] > df['upper_bband']), -1, df['bband_flag']) \n",
    "    df['bband_flag'] = np.where((df['Close'] < df['lower_bband']), 1, df['bband_flag']) \n",
    "\n",
    "    df['bband_distance_flag'] = 0\n",
    "    df['bband_distance_flag'] = np.where((df['distance_between_bbands'] > 80), 1, df['bband_distance_flag']) \n",
    "\n",
    "    # Bband Flag\n",
    "    df['bband_flag_negative_window'] = df['bband_flag'].rolling(window=window).apply(lambda x: 1 if (x == -1).all() else 0, raw=True)\n",
    "    df['bband_distance_flag_window'] = df['bband_distance_flag'].rolling(window=window).apply(lambda x: 1 if (x == 1).all() else 0, raw=True)\n",
    "\n",
    "    amount_conditions = 3\n",
    "\n",
    "    short_signals = (\n",
    "        (df['bband_flag_negative_window'].shift(1) == 1).astype(int) +\n",
    "        # (df['Close'] < df['Open']).astype(int) +\n",
    "        (df['Close'] < df['upper_bband']).astype(int) +\n",
    "        (df['bband_distance_flag_window'] == 1).astype(int)\n",
    "    ) >= amount_conditions\n",
    "\n",
    "    df.loc[short_signals, 'side'] = -1\n",
    "\n",
    "    df.dropna(inplace=True)\n",
    "    return df"
   ]
  },
  {
   "cell_type": "code",
   "execution_count": 32,
   "id": "ad84a4bb-ae52-48b0-89c9-1ba2f4a02a40",
   "metadata": {},
   "outputs": [
    {
     "name": "stdout",
     "output_type": "stream",
     "text": [
      "Creando target\n"
     ]
    }
   ],
   "source": [
    "symbols_path = './backbone/data/backtest/symbols/EURUSD.csv'\n",
    "df = pd.read_csv(symbols_path)\n",
    "df = df[['Date','Close','High','Low','Open', 'upper_bband','lower_bband','macdhist','rsi', 'adx','mfi', 'sma_12', 'sma_26', 'distance_between_bbands']]\n",
    "print('Creando target')\n",
    "df['Date'] = pd.to_datetime(df['Date'])\n",
    "df = df.sort_values(by='Date')\n",
    "df = df.set_index('Date')\n",
    "\n",
    "instrument = df.copy()\n",
    "# compute bband sides\n",
    "\n",
    "instrument['side'] = np.nan\n",
    "\n",
    "window = 4\n",
    "instrument = bband_sell_stgy(instrument, window)\n",
    "\n",
    "instrument.dropna(inplace=True)"
   ]
  },
  {
   "cell_type": "code",
   "execution_count": 33,
   "id": "19394973-a8b8-44c0-93ca-09fdae19efd9",
   "metadata": {
    "scrolled": true
   },
   "outputs": [
    {
     "data": {
      "text/html": [
       "<div>\n",
       "<style scoped>\n",
       "    .dataframe tbody tr th:only-of-type {\n",
       "        vertical-align: middle;\n",
       "    }\n",
       "\n",
       "    .dataframe tbody tr th {\n",
       "        vertical-align: top;\n",
       "    }\n",
       "\n",
       "    .dataframe thead th {\n",
       "        text-align: right;\n",
       "    }\n",
       "</style>\n",
       "<table border=\"1\" class=\"dataframe\">\n",
       "  <thead>\n",
       "    <tr style=\"text-align: right;\">\n",
       "      <th></th>\n",
       "      <th></th>\n",
       "      <th>target</th>\n",
       "    </tr>\n",
       "    <tr>\n",
       "      <th>side</th>\n",
       "      <th>target</th>\n",
       "      <th></th>\n",
       "    </tr>\n",
       "  </thead>\n",
       "  <tbody>\n",
       "    <tr>\n",
       "      <th rowspan=\"3\" valign=\"top\">-1.0</th>\n",
       "      <th>0.0</th>\n",
       "      <td>44</td>\n",
       "    </tr>\n",
       "    <tr>\n",
       "      <th>1.0</th>\n",
       "      <td>23</td>\n",
       "    </tr>\n",
       "    <tr>\n",
       "      <th>2.0</th>\n",
       "      <td>6</td>\n",
       "    </tr>\n",
       "  </tbody>\n",
       "</table>\n",
       "</div>"
      ],
      "text/plain": [
       "             target\n",
       "side target        \n",
       "-1.0 0.0         44\n",
       "     1.0         23\n",
       "     2.0          6"
      ]
     },
     "metadata": {},
     "output_type": "display_data"
    },
    {
     "name": "stdout",
     "output_type": "stream",
     "text": [
      "              precision    recall  f1-score   support\n",
      "\n",
      "         0.0       0.00      0.00      0.00        44\n",
      "         1.0       0.32      1.00      0.48        23\n",
      "         2.0       0.00      0.00      0.00         6\n",
      "\n",
      "    accuracy                           0.32        73\n",
      "   macro avg       0.11      0.33      0.16        73\n",
      "weighted avg       0.10      0.32      0.15        73\n",
      "\n"
     ]
    },
    {
     "name": "stderr",
     "output_type": "stream",
     "text": [
      "c:\\users\\saidj\\onedrive\\documentos\\projects\\forex_ml_bot\\forex_ml_bot\\mtvenv\\lib\\site-packages\\sklearn\\metrics\\_classification.py:1469: UndefinedMetricWarning: Precision and F-score are ill-defined and being set to 0.0 in labels with no predicted samples. Use `zero_division` parameter to control this behavior.\n",
      "  _warn_prf(average, modifier, msg_start, len(result))\n",
      "c:\\users\\saidj\\onedrive\\documentos\\projects\\forex_ml_bot\\forex_ml_bot\\mtvenv\\lib\\site-packages\\sklearn\\metrics\\_classification.py:1469: UndefinedMetricWarning: Precision and F-score are ill-defined and being set to 0.0 in labels with no predicted samples. Use `zero_division` parameter to control this behavior.\n",
      "  _warn_prf(average, modifier, msg_start, len(result))\n",
      "c:\\users\\saidj\\onedrive\\documentos\\projects\\forex_ml_bot\\forex_ml_bot\\mtvenv\\lib\\site-packages\\sklearn\\metrics\\_classification.py:1469: UndefinedMetricWarning: Precision and F-score are ill-defined and being set to 0.0 in labels with no predicted samples. Use `zero_division` parameter to control this behavior.\n",
      "  _warn_prf(average, modifier, msg_start, len(result))\n"
     ]
    }
   ],
   "source": [
    "sl = 15\n",
    "rr = 2\n",
    "holding_period = 12\n",
    "\n",
    "instrument['target'] = triple_barrier_labeling(\n",
    "    close_prices=instrument['Close'], \n",
    "    high_prices=instrument['High'], \n",
    "    low_prices=instrument['Low'], \n",
    "    stop_loss_in_pips=sl, \n",
    "    take_profit_in_pips=sl * rr, \n",
    "    max_holding_period=holding_period, \n",
    "    pip_size=0.001,\n",
    "    side=instrument['side']\n",
    ")\n",
    "\n",
    "df.loc[instrument.index, 'side'] = instrument.side\n",
    "df.loc[instrument.index, 'target'] = instrument.target\n",
    "df.fillna(0, inplace=True)\n",
    "# df.reset_index(inplace=True)\n",
    "\n",
    "\n",
    "# Aplicar la lógica para mantener solo un 1 o -1 por cada secuencia de 1s o -1s consecutivos\n",
    "df['side'] = df['side'].where(\n",
    "    (df['side'] == 0) | (df['side'] != df['side'].shift(1)),\n",
    "    0\n",
    ")\n",
    "\n",
    "\n",
    "df['target'] = np.where(df['side'] != 0, df['target'], 0)\n",
    "\n",
    "display(pd.DataFrame(df[df.side!=0].groupby(by=['side','target'])['target'].count()))\n",
    "\n",
    "\n",
    "\n",
    "df['dummy_model_pred'] = 1\n",
    "print(classification_report(df[df.side != 0].target, df[df.side != 0].dummy_model_pred))"
   ]
  },
  {
   "cell_type": "code",
   "execution_count": 22,
   "id": "af161d24-ca84-4543-a645-aac9209f16e9",
   "metadata": {},
   "outputs": [],
   "source": [
    "df = df.reset_index()"
   ]
  },
  {
   "cell_type": "code",
   "execution_count": 16,
   "id": "bcde9bdd-b520-457e-93c2-2af85802f18c",
   "metadata": {},
   "outputs": [],
   "source": [
    "from matplotlib import pyplot as plt"
   ]
  },
  {
   "cell_type": "code",
   "execution_count": 17,
   "id": "96367957-e96a-4f2b-9012-30e1dce8bcde",
   "metadata": {},
   "outputs": [
    {
     "data": {
      "image/png": "[encoded data removed]",
      "text/plain": [
       "<Figure size 1400x600 with 1 Axes>"
      ]
     },
     "metadata": {},
     "output_type": "display_data"
    },
    {
     "name": "stderr",
     "output_type": "stream",
     "text": [
      "\n",
      "KeyboardInterrupt\n",
      "\n"
     ]
    }
   ],
   "source": [
    "ticker = 'EURUSD'\n",
    "\n",
    "orders = df[df.side != 0]\n",
    "for index, order in orders.iterrows():\n",
    "\n",
    "    date_from = order.Date - timedelta(hours=24)\n",
    "    date_to = order.Date + timedelta(hours=24)\n",
    "    \n",
    "    date_from_str = date_from.strftime('%Y-%m-%d-%H')\n",
    "    date_to_str = date_to.strftime('%Y-%m-%d-%H')\n",
    "\n",
    "    historical_prices = df[\n",
    "        (df['Date']>date_from_str)\n",
    "        & (df['Date']<date_to_str)\n",
    "    ]\n",
    "    \n",
    "\n",
    "    plt.figure(figsize=(14, 6))\n",
    "    plt.plot(historical_prices['Date'], historical_prices['High'], label=f'{ticker} Close Price', color='blue')\n",
    "    plt.plot(historical_prices['Date'], historical_prices['Low'], label=f'{ticker} Close Price', color='blue')\n",
    "    plt.plot(historical_prices['Date'], historical_prices['upper_bband'], '--r', label=f'{ticker} High Price')\n",
    "    plt.plot(historical_prices['Date'], historical_prices['lower_bband'], '--r', label=f'{ticker} Low Price')\n",
    "\n",
    "    plt.axhline(order.Close, color='blue', linewidth=0.8, linestyle='--')\n",
    "\n",
    "    order_result = ''\n",
    "    if order.target == 1:\n",
    "        order_result = 'success' \n",
    "    if order.target == 0:\n",
    "        order_result = 'failed'\n",
    "    if order.target == 2:\n",
    "        order_result = 'days'\n",
    "\n",
    "    stop_loss = None\n",
    "    take_profit = None\n",
    "\n",
    "    if order.side == 1:\n",
    "        stop_loss = order.Close - (0.0001 * sl)\n",
    "        take_profit = order.Close + (0.0001 * sl * rr)\n",
    "        plt.scatter([str(order.Date)], [order.Close], color='green', marker='^', s=100, label=f'Buy Open {order_result}')\n",
    "    else:\n",
    "        stop_loss = order.Close + (0.0001 * sl)\n",
    "        take_profit = order.Close - (0.0001 * sl * rr)\n",
    "        plt.scatter([str(order.Date)], [order.Close], color='red', marker='v', s=100, label=f'Sell Open {order_result}')\n",
    "    \n",
    "    plt.axhline(stop_loss, color='red', linewidth=0.8, linestyle='--')\n",
    "    plt.axhline(take_profit, color='green', linewidth=0.8, linestyle='--')\n",
    "    \n",
    "    # Añadir etiquetas y leyenda\n",
    "    plt.xlabel('Date')\n",
    "    plt.ylabel('Price')\n",
    "    plt.title(f'{ticker} Price with Buy/Sell Trades')\n",
    "    plt.legend()\n",
    "    plt.xticks(rotation=45)\n",
    "\n",
    "    # Mostrar el gráfico\n",
    "    plt.show()\n",
    "    \n",
    "    # print(date_from_str, date_to_str)\n",
    "   \n",
    "    a = input()\n",
    "    \n",
    "    clear_output()\n"
   ]
  },
  {
   "cell_type": "code",
   "execution_count": null,
   "id": "e7a7dd5a-03b8-4866-be02-0b617f10c34e",
   "metadata": {},
   "outputs": [],
   "source": [
    "df['Date'] = df['Date'].dt.to_period('M')\n",
    "df[df.side != 0].groupby(by=['Date','side','target'])[['target']].count()"
   ]
  },
  {
   "cell_type": "code",
   "execution_count": null,
   "id": "d1b934a9-802d-4190-9c9f-0dde597d5490",
   "metadata": {},
   "outputs": [],
   "source": [
    "df['year'] = df.Date.dt.year\n",
    "df['month'] = df.Date.dt.month\n",
    "df['day'] = df.Date.dt.day\n",
    "df['hour'] = df.Date.dt.hour\n",
    "\n",
    "df[df.side!=0].groupby(['year','month','day'])['side'].count()\n",
    "\n"
   ]
  },
  {
   "cell_type": "code",
   "execution_count": null,
   "id": "7b520eff-32b0-4733-aa5d-b1f1d7265282",
   "metadata": {},
   "outputs": [],
   "source": []
  },
  {
   "cell_type": "code",
   "execution_count": null,
   "id": "4fb74bdd-83c2-494c-8e3b-eaf94c276e7e",
   "metadata": {},
   "outputs": [],
   "source": []
  },
  {
   "cell_type": "code",
   "execution_count": null,
   "id": "a39761fe-a2ef-4b2d-9e16-b7293766156d",
   "metadata": {},
   "outputs": [],
   "source": []
  },
  {
   "cell_type": "code",
   "execution_count": null,
   "id": "53ba3baa-329a-444c-a9be-8f43cefad3be",
   "metadata": {},
   "outputs": [],
   "source": []
  },
  {
   "cell_type": "code",
   "execution_count": null,
   "id": "a5cfb966-cadd-4bad-961d-f9780f2c65dd",
   "metadata": {},
   "outputs": [],
   "source": []
  },
  {
   "cell_type": "code",
   "execution_count": null,
   "id": "9821ca77-1d9b-47b1-8245-30e589e91d19",
   "metadata": {},
   "outputs": [],
   "source": []
  },
  {
   "cell_type": "code",
   "execution_count": null,
   "id": "9da660e5-4ad6-4eaa-ab2d-48090b334517",
   "metadata": {},
   "outputs": [],
   "source": []
  },
  {
   "cell_type": "code",
   "execution_count": null,
   "id": "4e556fda-bbaa-4b0f-b142-27cd4936df53",
   "metadata": {},
   "outputs": [],
   "source": []
  },
  {
   "cell_type": "code",
   "execution_count": null,
   "id": "3a6c7f86-0376-4e63-ae59-42f2b30be587",
   "metadata": {},
   "outputs": [],
   "source": [
    "# import pandas as pd\n",
    "# import os\n",
    "# pd.set_option('display.max_columns', None)\n",
    "\n",
    "# periods_forward = 5\n",
    "\n",
    "# tickers = ['EURUSD']\n",
    "# symbols_path = './backbone/data/backtest/symbols'\n",
    "# instruments = {}\n",
    "# df = pd.DataFrame()\n",
    "\n",
    "# for ticker in tickers:\n",
    "#     instruments[ticker] = pd.read_csv(os.path.join(symbols_path, f'{ticker}.csv'))\n",
    "  \n",
    "#     instruments[ticker]['ticker'] = ticker\n",
    "  \n",
    "#     print('Creando target')\n",
    "   \n",
    "#     instruments[ticker] = instruments[ticker].sort_values(by='Date')\n",
    "\n",
    "#     instruments[ticker]['target'] = triple_barrier_labeling(instruments[ticker], upper_barrier=0.015, lower_barrier=0.015, max_holding_period=48, span=100)\n",
    "    \n",
    "#     df = pd.concat([\n",
    "#         df,\n",
    "#         instruments[ticker]\n",
    "#     ])\n",
    "\n",
    "#     df['Date'] = pd.to_datetime(df['Date'], format='%Y-%m-%d %H:00:00')\n",
    "\n",
    "#     df = df.sort_values(by='Date')"
   ]
  },
  {
   "cell_type": "code",
   "execution_count": null,
   "id": "11a3a322-05e6-4f04-b6a7-5c0cb1fec910",
   "metadata": {},
   "outputs": [],
   "source": [
    "date_format = '%Y-%m-%d %H:00:00'\n",
    "window = 11520\n",
    "\n",
    "actual_date = datetime(2023,1,1,0,0,0)\n",
    "\n",
    "date_to = actual_date - timedelta(hours=24+1) \n",
    "date_from = date_to - timedelta(hours=window)\n",
    "\n",
    "date_from_test = actual_date\n",
    "date_to_test = date_from_test + timedelta(hours=1440)\n",
    "\n",
    "date_from_str = date_from.strftime(date_format)\n",
    "date_to_str = date_to.strftime(date_format)\n",
    "date_from_test_str = date_from_test.strftime(date_format)\n",
    "date_to_test_str = date_to_test.strftime(date_format)\n",
    "\n",
    "\n",
    "train = df[(df['Date']>date_from_str) & (df['Date']<date_to_str) & (df.side != 0)]\n",
    "test = df[(df['Date']>date_from_test_str) & (df['Date']<date_to_test_str) & (df.side != 0)]\n",
    "\n",
    "train.target.value_counts()"
   ]
  },
  {
   "cell_type": "code",
   "execution_count": null,
   "id": "c88a0bf6-7612-454d-96f6-72867b043468",
   "metadata": {},
   "outputs": [],
   "source": [
    "test.target.value_counts()"
   ]
  },
  {
   "cell_type": "code",
   "execution_count": null,
   "id": "d76d91f8-6cc5-4259-8c2c-85abda91f32a",
   "metadata": {},
   "outputs": [],
   "source": [
    "from backbone.machine_learning_agent import MachineLearningAgent\n",
    "\n",
    "with open('./configs/model_config.yml', 'r') as file:\n",
    "    model_configs = yaml.safe_load(file)\n",
    "\n",
    "cols_to_drop = [\n",
    "  'Open',\n",
    "  'High',\n",
    "  'Low',\n",
    "  'Close',\n",
    "  'target', \n",
    "  'Date', \n",
    "  # 'ticker'\n",
    "]\n",
    "\n",
    "model_name = 'gradient_boosting'\n",
    "\n",
    "param_grid = model_configs[model_name]['param_grid']\n",
    "model = model_configs[model_name]['model']\n",
    "\n",
    "mla = MachineLearningAgent(\n",
    "    tickers=['EURUSD', 'GBPUSD', 'USDJPY', 'USDCAD', 'AUDUSD', 'USDCHF'], \n",
    "    model=model, \n",
    "    param_grid=param_grid\n",
    ")"
   ]
  },
  {
   "cell_type": "code",
   "execution_count": null,
   "id": "95a1bbcf-2dec-4aab-bf2a-957627c2533a",
   "metadata": {},
   "outputs": [],
   "source": [
    "x_train = train.drop(columns=cols_to_drop)\n",
    "y_train = train.target"
   ]
  },
  {
   "cell_type": "code",
   "execution_count": null,
   "id": "ce3f21f8-867d-4a91-b07e-97e9b776c8d8",
   "metadata": {},
   "outputs": [],
   "source": [
    "y_train.value_counts()"
   ]
  },
  {
   "cell_type": "code",
   "execution_count": null,
   "id": "1f69d55c-5d68-4bab-b6b6-725d3d5011bd",
   "metadata": {},
   "outputs": [],
   "source": [
    "mla.train(\n",
    "    x_train = train.drop(columns=cols_to_drop),\n",
    "    x_test = test.drop(columns=cols_to_drop),\n",
    "    y_train = train.target,\n",
    "    y_test = test.target,\n",
    "    date_train=actual_date,\n",
    "    verbose=True,\n",
    "    undersampling=False\n",
    ")"
   ]
  },
  {
   "cell_type": "markdown",
   "id": "bf0efc20-5291-42ff-b9e6-9d07af4ab09b",
   "metadata": {},
   "source": [
    "# Train performance"
   ]
  },
  {
   "cell_type": "code",
   "execution_count": null,
   "id": "18b040a9-d923-4ffb-b290-094389d44588",
   "metadata": {},
   "outputs": [],
   "source": [
    "classes, probas = mla.predict_proba(train.drop(columns=cols_to_drop))\n",
    "\n",
    "precision = precision_score(train.target, classes, average='weighted')\n",
    "recall = recall_score(train.target, classes, average='weighted')\n",
    "f1 = f1_score(train.target, classes, average='weighted')\n",
    "\n",
    "print(precision)\n",
    "print(recall)\n",
    "print(f1) \n",
    "\n",
    "print(classification_report(train.target, classes))"
   ]
  },
  {
   "cell_type": "markdown",
   "id": "bede6b3f-998d-4554-ba77-039fd3815f91",
   "metadata": {},
   "source": [
    "# Test performance"
   ]
  },
  {
   "cell_type": "code",
   "execution_count": null,
   "id": "4554a318-f240-4f45-aa26-9f3caf24fe0a",
   "metadata": {},
   "outputs": [],
   "source": [
    "classes, probas = mla.predict_proba(test.drop(columns=cols_to_drop))\n",
    "\n",
    "precision = precision_score(test.target, classes, average='weighted')\n",
    "recall = recall_score(test.target, classes, average='weighted')\n",
    "f1 = f1_score(test.target, classes, average='weighted')\n",
    "\n",
    "print(precision)\n",
    "print(recall)\n",
    "print(f1) \n",
    "\n",
    "# target_names = ['class 0', 'class 1', 'class 2']\n",
    "print(classification_report(test.target, classes))"
   ]
  },
  {
   "cell_type": "code",
   "execution_count": null,
   "id": "5f43bec9-18fc-496a-93d7-1ccf00e625fc",
   "metadata": {},
   "outputs": [],
   "source": [
    "binary_probas = np.where(classes == 0, 1-probas, probas)\n",
    "binary_probas"
   ]
  },
  {
   "cell_type": "code",
   "execution_count": null,
   "id": "5d6494c9-ced0-4de3-a893-ef689af0bda1",
   "metadata": {},
   "outputs": [],
   "source": [
    "test['pred_label'] = np.nan\n",
    "test['proba'] = np.nan\n",
    "\n",
    "cols_to_drop += ['pred_label', 'proba']\n",
    "side = (test.side != 0).any()\n",
    "\n",
    "for index, stock in test.iterrows():\n",
    "  \n",
    "  if side:\n",
    "      # Drop the specified columns before prediction\n",
    "      stock_features = stock.drop(labels=cols_to_drop)\n",
    "      \n",
    "      stock_features_df = pd.DataFrame([stock_features])\n",
    "\n",
    "      # Predict the class and probability\n",
    "      _class, proba = mla.predict_proba(stock_features_df)\n",
    "      \n",
    "      # Assign the predicted class and probability to the DataFrame\n",
    "      test.at[index, 'pred_label'] = _class\n",
    "      test.at[index, 'proba'] = proba\n"
   ]
  },
  {
   "cell_type": "code",
   "execution_count": null,
   "id": "03986491-dd69-4960-8a5d-95cdc760fc1a",
   "metadata": {},
   "outputs": [],
   "source": []
  },
  {
   "cell_type": "code",
   "execution_count": null,
   "id": "6a3528d4-3e42-493e-ba01-d901ab6990e3",
   "metadata": {},
   "outputs": [],
   "source": [
    "precision = precision_score(test.target, test.pred_label, average='weighted')\n",
    "recall = recall_score(test.target, test.pred_label, average='weighted')\n",
    "f1 = f1_score(test.target, test.pred_label, average='weighted')\n",
    "\n",
    "print(precision)\n",
    "print(recall)\n",
    "print(f1) \n",
    "\n",
    "# target_names = ['class 0', 'class 1', 'class 2']\n",
    "print(classification_report(test.target, test.pred_label))"
   ]
  },
  {
   "cell_type": "code",
   "execution_count": null,
   "id": "c96fd2ee-b4a6-432a-aa1f-fdf7c3b95874",
   "metadata": {},
   "outputs": [],
   "source": []
  },
  {
   "cell_type": "code",
   "execution_count": null,
   "id": "f4fd03bf-0a24-4e60-98f6-fae821aa3b07",
   "metadata": {},
   "outputs": [],
   "source": []
  },
  {
   "cell_type": "code",
   "execution_count": null,
   "id": "5dc03747-c4ec-410e-aff8-f2be7542c65d",
   "metadata": {},
   "outputs": [],
   "source": []
  },
  {
   "cell_type": "code",
   "execution_count": null,
   "id": "2502cc7e-b8c3-4947-90a0-1589ee79bb7d",
   "metadata": {},
   "outputs": [],
   "source": [
    "test_results = {}\n",
    "test_results['EURUSD'] = {}\n",
    "test_results['USDJPY'] = {}\n",
    "test_results['USDCAD'] = {}\n",
    "test_results['EURUSD']['2021-01-01']={}\n",
    "test_results['USDJPY']['2021-01-01']={}\n",
    "test_results['USDCAD']['2021-01-01']={}\n",
    "\n",
    "test_results['EURUSD']['2021-01-02']={}\n",
    "test_results['USDJPY']['2021-01-02']={}\n",
    "test_results['USDCAD']['2021-01-02']={}"
   ]
  },
  {
   "cell_type": "code",
   "execution_count": null,
   "id": "bcafbca6-d2ef-4745-a204-f0fd697d2365",
   "metadata": {},
   "outputs": [],
   "source": [
    "test_results['EURUSD']['2021-01-01']['y_true'] = 1\n",
    "test_results['EURUSD']['2021-01-01']['y_pred'] = 0\n",
    "test_results['EURUSD']['2021-01-01']['y_proba'] = 0.2\n",
    "\n",
    "test_results['USDJPY']['2021-01-01']['y_true'] = 1\n",
    "test_results['USDJPY']['2021-01-01']['y_pred'] = 0\n",
    "test_results['USDJPY']['2021-01-01']['y_proba'] = 0.2\n",
    "\n",
    "test_results['USDCAD']['2021-01-01']['y_true'] = 1\n",
    "test_results['USDCAD']['2021-01-01']['y_pred'] = 0\n",
    "test_results['USDCAD']['2021-01-01']['y_proba'] = 0.2\n",
    "\n",
    "test_results['EURUSD']['2021-01-02']['y_true'] = 1\n",
    "test_results['EURUSD']['2021-01-02']['y_pred'] = 0\n",
    "test_results['EURUSD']['2021-01-02']['y_proba'] = 0.2\n",
    "\n",
    "test_results['USDJPY']['2021-01-02']['y_true'] = 1\n",
    "test_results['USDJPY']['2021-01-02']['y_pred'] = 0\n",
    "test_results['USDJPY']['2021-01-02']['y_proba'] = 0.2\n",
    "\n",
    "test_results['USDCAD']['2021-01-02']['y_true'] = 1\n",
    "test_results['USDCAD']['2021-01-02']['y_pred'] = 0\n",
    "test_results['USDCAD']['2021-01-02']['y_proba'] = 0.2"
   ]
  },
  {
   "cell_type": "code",
   "execution_count": null,
   "id": "64c74c35-f431-47b4-a2b3-70557b92cb8a",
   "metadata": {},
   "outputs": [],
   "source": [
    "test_results"
   ]
  },
  {
   "cell_type": "code",
   "execution_count": null,
   "id": "a681aeb0-494f-46e8-9c51-b6298fcc3b28",
   "metadata": {},
   "outputs": [],
   "source": [
    "df_results = pd.DataFrame()\n",
    "\n",
    "for ticker, values in test_results.items():\n",
    "    for date, values2 in values.items():\n",
    "        single_line_df = pd.DataFrame(\n",
    "            {\n",
    "                'ticker':[ticker], \n",
    "                'date':[date], \n",
    "                'y_true':values2['y_true'], \n",
    "                'y_pred':values2['y_pred'], \n",
    "                'proba':values2['y_proba'],\n",
    "            }\n",
    "        )\n",
    "\n",
    "        df_results = pd.concat([df_results, single_line_df])\n",
    "\n",
    "df_results\n",
    "           "
   ]
  },
  {
   "cell_type": "code",
   "execution_count": null,
   "id": "27b252c6-8134-41d6-9379-6f7eb7f617c2",
   "metadata": {
    "scrolled": true
   },
   "outputs": [],
   "source": [
    "df"
   ]
  },
  {
   "cell_type": "code",
   "execution_count": null,
   "id": "ea6ede8e-4275-40d7-adf8-af072f95691d",
   "metadata": {},
   "outputs": [],
   "source": [
    "import time\n",
    "import matplotlib.pyplot as plt\n",
    "import numpy as np\n",
    "from IPython.display import clear_output\n",
    "\n",
    "df = pd.read_csv('./backbone/data/trading/symbols/dataset.csv')\n",
    "\n",
    "\n",
    "for ticker in df.ticker.unique():\n",
    "    print(ticker)\n",
    "    df_ticker = df[df['ticker']==ticker].tail(48)\n",
    "    fig, ax = plt.subplots(figsize=(20, 10))\n",
    "    \n",
    "    # Datos de ejemplo\n",
    "    x = pd.to_datetime(df_ticker['Date'])\n",
    "    trend = df_ticker['trend']  # Datos para la línea\n",
    "    sma20 = df_ticker['SMA20']  # Datos para la línea\n",
    "    \n",
    "    # Crear una figura y ejes\n",
    "    \n",
    "    # Agregar la línea\n",
    "    ax.plot(x, trend, label='trend')\n",
    "    ax.plot(x, sma20, label='sma20')\n",
    "        \n",
    "    ax.legend()\n",
    "        \n",
    "        # Mostrar el gráfico\n",
    "        # print(path)\n",
    "    plt.show()\n",
    "    a = input()\n",
    "    \n",
    "    clear_output(wait=True)"
   ]
  },
  {
   "cell_type": "code",
   "execution_count": null,
   "id": "864bec5b-571f-4c8e-8064-4d74c7d80bd2",
   "metadata": {},
   "outputs": [],
   "source": [
    "df[(df['side']!=0)].tail()[['Date','ticker','side']]"
   ]
  },
  {
   "cell_type": "code",
   "execution_count": null,
   "id": "9729be6b-0075-4edd-81da-2692d4ae7509",
   "metadata": {},
   "outputs": [],
   "source": []
  },
  {
   "cell_type": "code",
   "execution_count": null,
   "id": "575350ec-34b7-4df6-878a-2ebfdd1101fe",
   "metadata": {},
   "outputs": [],
   "source": []
  },
  {
   "cell_type": "code",
   "execution_count": null,
   "id": "8f079c1f-e58b-4699-9c62-8c04b5e2ece6",
   "metadata": {},
   "outputs": [],
   "source": [
    "df[(df['side']!=0)].tail()[['Date','ticker','side']]"
   ]
  },
  {
   "cell_type": "code",
   "execution_count": null,
   "id": "72f82378-aa3d-4e25-ba40-d04c85d1bc27",
   "metadata": {},
   "outputs": [],
   "source": []
  },
  {
   "cell_type": "code",
   "execution_count": null,
   "id": "18784a76-7879-4020-ab9f-5f53591d1b01",
   "metadata": {},
   "outputs": [],
   "source": [
    "df.side."
   ]
  },
  {
   "cell_type": "code",
   "execution_count": null,
   "id": "e2300acd-a32f-4731-ba50-814817006384",
   "metadata": {},
   "outputs": [],
   "source": []
  },
  {
   "cell_type": "code",
   "execution_count": null,
   "id": "04fe55d2-8e14-4d3a-9e67-221a4af18a05",
   "metadata": {},
   "outputs": [],
   "source": [
    "import MetaTrader5 as mt5\n",
    "from datetime import datetime"
   ]
  },
  {
   "cell_type": "code",
   "execution_count": null,
   "id": "407585d7-3acb-466e-acf6-72bfdecfd92a",
   "metadata": {},
   "outputs": [],
   "source": [
    "\n",
    "\n",
    "# Iniciar sesión en la plataforma MetaTrader 5\n",
    "if not mt5.initialize():\n",
    "    print(\"Failed to initialize MT5, error code =\", mt5.last_error())\n",
    "    quit()\n",
    "\n",
    "# Definir los parámetros de la orden\n",
    "order_id = 2645992483  # ID de la orden que deseas modificar\n",
    "new_stop_loss = 1.12345  # Nuevo precio de stop loss\n",
    "\n",
    "# Obtener la orden existente\n",
    "order = mt5.positions_get(ticket=order_id)\n",
    "if order is None:\n",
    "    print(\"Failed to get order, error code =\", mt5.last_error())\n",
    "    mt5.shutdown()\n",
    "    quit()"
   ]
  },
  {
   "cell_type": "code",
   "execution_count": null,
   "id": "e0fd7a9a-6c6c-4534-a137-a34d44a0891f",
   "metadata": {},
   "outputs": [],
   "source": [
    "order = order[0]\n"
   ]
  },
  {
   "cell_type": "code",
   "execution_count": null,
   "id": "afe78992-0295-4dd0-bff5-5079faef38a9",
   "metadata": {},
   "outputs": [],
   "source": [
    "order"
   ]
  },
  {
   "cell_type": "code",
   "execution_count": null,
   "id": "93086c00-bcaa-4fc7-85f3-7968f1d2693a",
   "metadata": {},
   "outputs": [],
   "source": [
    "# Definir los parámetros para la modificación de la orden\n",
    "request = {\n",
    "    \"action\": mt5.TRADE_ACTION_SLTP,\n",
    "    \"position\": order_id,\n",
    "    \"sl\": new_stop_loss,\n",
    "    \"type_time\": mt5.ORDER_TIME_GTC,\n",
    "    \"type_filling\": mt5.ORDER_FILLING_RETURN,\n",
    "}\n",
    "\n",
    "\n",
    "\n",
    "# Enviar la solicitud para modificar la orden\n",
    "result = mt5.order_send(request)\n",
    "if result.retcode != mt5.TRADE_RETCODE_DONE:\n",
    "    print(f\"Failed to modify order, error code: {result.retcode}\")\n",
    "else:\n",
    "    print(\"Order modified successfully\")\n",
    "\n",
    "# Cerrar la conexión con la plataforma MetaTrader 5\n"
   ]
  },
  {
   "cell_type": "code",
   "execution_count": null,
   "id": "8187dadf-edca-443c-8b68-ff569daada52",
   "metadata": {},
   "outputs": [],
   "source": [
    "result"
   ]
  },
  {
   "cell_type": "code",
   "execution_count": null,
   "id": "daa20f6e-2873-4bc2-adab-1d6059b3ab9c",
   "metadata": {},
   "outputs": [],
   "source": []
  },
  {
   "cell_type": "code",
   "execution_count": null,
   "id": "8cd53207-0d27-415e-8927-6545c3cff83a",
   "metadata": {},
   "outputs": [],
   "source": []
  },
  {
   "cell_type": "code",
   "execution_count": null,
   "id": "dd1471f6-0768-46dc-bf13-3643bb4314c0",
   "metadata": {},
   "outputs": [],
   "source": []
  },
  {
   "cell_type": "code",
   "execution_count": null,
   "id": "dcc50ee6-c5e2-4e1d-9637-d8d2436ac1f3",
   "metadata": {},
   "outputs": [],
   "source": []
  },
  {
   "cell_type": "code",
   "execution_count": null,
   "id": "af1228c1-5c88-4fd5-974e-bae656d335db",
   "metadata": {},
   "outputs": [],
   "source": [
    "from datetime import datetime\n",
    "import MetaTrader5 as mt5\n",
    "# display data on the MetaTrader 5 package\n",
    "print(\"MetaTrader5 package author: \",mt5.__author__)\n",
    "print(\"MetaTrader5 package version: \",mt5.__version__)\n",
    " \n",
    "# import the 'pandas' module for displaying data obtained in the tabular form\n",
    "import pandas as pd\n",
    "pd.set_option('display.max_columns', 500) # number of columns to be displayed\n",
    "pd.set_option('display.width', 1500)      # max table width to display\n",
    "# import pytz module for working with time zone\n",
    "import pytz\n",
    " \n",
    "# establish connection to MetaTrader 5 terminal\n",
    "if not mt5.initialize():\n",
    "    print(\"initialize() failed, error code =\",mt5.last_error())\n",
    "    quit()\n",
    " \n",
    "# set time zone to UTC\n",
    "timezone = pytz.timezone(\"Etc/UTC\")\n",
    "# create 'datetime' objects in UTC time zone to avoid the implementation of a local time zone offset\n",
    "utc_from = datetime(2020, 1, 1, tzinfo=timezone)\n",
    "utc_to = datetime(2021, 1, 1, tzinfo=timezone)\n",
    "# request AUDUSD ticks within 11.01.2020 - 11.01.2020\n",
    "ticks = mt5.copy_ticks_range(\"AUDUSD\", utc_from, utc_to, mt5.COPY_TICKS_ALL)\n",
    "print(\"Ticks received:\",len(ticks))\n",
    " \n",
    "# shut down connection to the MetaTrader 5 terminal\n",
    "mt5.shutdown()\n",
    " \n",
    " \n",
    "# create DataFrame out of the obtained data\n",
    "ticks_frame = pd.DataFrame(ticks)\n",
    "# convert time in seconds into the datetime format\n",
    "ticks_frame['time']=pd.to_datetime(ticks_frame['time'], unit='s')\n",
    " \n",
    "# display data\n",
    "ticks_frame.head(10)"
   ]
  },
  {
   "cell_type": "code",
   "execution_count": null,
   "id": "0b7dc59c-a667-4e7b-8131-07a111a0e504",
   "metadata": {},
   "outputs": [],
   "source": [
    "ticks_frame"
   ]
  },
  {
   "cell_type": "code",
   "execution_count": null,
   "id": "e77c5e8d-a018-4f3f-ae0c-0f05d96897eb",
   "metadata": {},
   "outputs": [],
   "source": []
  },
  {
   "cell_type": "code",
   "execution_count": null,
   "id": "c91c89a0-b636-425f-acd7-6db4d8136a78",
   "metadata": {},
   "outputs": [],
   "source": []
  },
  {
   "cell_type": "code",
   "execution_count": null,
   "id": "4a0be539-0811-497a-a55d-8a4abdebbe55",
   "metadata": {},
   "outputs": [],
   "source": []
  },
  {
   "cell_type": "code",
   "execution_count": null,
   "id": "471784b8-3725-4106-9650-25f512fa5e64",
   "metadata": {},
   "outputs": [],
   "source": []
  },
  {
   "cell_type": "code",
   "execution_count": null,
   "id": "1b958ec2-ff51-481d-a335-07144fc51ee5",
   "metadata": {},
   "outputs": [],
   "source": []
  },
  {
   "cell_type": "code",
   "execution_count": null,
   "id": "1860dc34-9071-4e97-ae61-a3dade83a9b7",
   "metadata": {},
   "outputs": [],
   "source": []
  },
  {
   "cell_type": "code",
   "execution_count": null,
   "id": "e4411e8f-3630-428b-a88b-a21a01e8201d",
   "metadata": {},
   "outputs": [],
   "source": []
  },
  {
   "cell_type": "code",
   "execution_count": null,
   "id": "889c50c6-88df-4249-b41a-c799ae750b86",
   "metadata": {},
   "outputs": [],
   "source": []
  },
  {
   "cell_type": "code",
   "execution_count": null,
   "id": "8032492d-0d36-42d8-a321-36855b986883",
   "metadata": {},
   "outputs": [],
   "source": []
  },
  {
   "cell_type": "code",
   "execution_count": null,
   "id": "310ccab5-65c5-4d2c-8136-09bee933c268",
   "metadata": {},
   "outputs": [],
   "source": []
  },
  {
   "cell_type": "code",
   "execution_count": null,
   "id": "9cbdc8fd-75f2-42b6-9be4-1bcc555c0606",
   "metadata": {},
   "outputs": [],
   "source": [
    "import pandas as pd"
   ]
  },
  {
   "cell_type": "code",
   "execution_count": null,
   "id": "a264ff3b-abf5-4de9-99ea-4568b68eaf90",
   "metadata": {},
   "outputs": [],
   "source": [
    "symbols_path = './backbone/data/backtest/symbols/EURUSD.csv'\n",
    "df = pd.read_csv(symbols_path)\n",
    "df = df[['Date','Close','High','Low','Open']]\n",
    "df"
   ]
  },
  {
   "cell_type": "code",
   "execution_count": null,
   "id": "ca18b843-0d08-4e19-9301-c10e93c21b1b",
   "metadata": {},
   "outputs": [],
   "source": [
    "def diff_pips(price1, price2, pip_value, absolute=True):\n",
    "    if absolute:\n",
    "        difference = abs(price1 - price2)\n",
    "    else:\n",
    "        difference = price1 - price2\n",
    "    pips = difference / pip_value\n",
    "    return pips"
   ]
  },
  {
   "cell_type": "code",
   "execution_count": null,
   "id": "705cdc4d-c102-49e0-9b52-8f8a72df7f3a",
   "metadata": {},
   "outputs": [],
   "source": [
    "pip_value = 0.0001\n",
    "df['pip_distance_co'] = df.apply(lambda row: diff_pips(row['Close'], row['Open'], pip_value=pip_value, absolute=False), axis=1)"
   ]
  },
  {
   "cell_type": "code",
   "execution_count": null,
   "id": "dd2c6860-d40b-4bfe-ac9a-e1084004179c",
   "metadata": {},
   "outputs": [],
   "source": [
    "df['pip_distance_cc1'] = df.apply(lambda df: diff_pips(df['Close'], df['Close'].shift(1), pip_value=pip_value, absolute=False))\n",
    "df"
   ]
  },
  {
   "cell_type": "code",
   "execution_count": null,
   "id": "7f15ce77-d92b-46c8-9ad7-1c5c5f1f7bc7",
   "metadata": {},
   "outputs": [],
   "source": []
  },
  {
   "cell_type": "code",
   "execution_count": null,
   "id": "1d0e3e68-22e9-4687-80ec-a534f15bbbce",
   "metadata": {},
   "outputs": [],
   "source": []
  },
  {
   "cell_type": "code",
   "execution_count": null,
   "id": "2a56c2d1-bf53-423d-9e09-d8f4cccfc380",
   "metadata": {},
   "outputs": [],
   "source": []
  },
  {
   "cell_type": "code",
   "execution_count": null,
   "id": "e7246ced-29eb-4167-9936-2c0efc47cb31",
   "metadata": {},
   "outputs": [],
   "source": []
  },
  {
   "cell_type": "code",
   "execution_count": null,
   "id": "d524474e-2eb0-493f-bf3f-fe86313a8d2b",
   "metadata": {},
   "outputs": [],
   "source": []
  },
  {
   "cell_type": "code",
   "execution_count": null,
   "id": "63d67a8a-2544-47c5-aa56-4e2b108f199b",
   "metadata": {},
   "outputs": [],
   "source": []
  },
  {
   "cell_type": "code",
   "execution_count": null,
   "id": "7cb86eab-d4e2-4ca5-ac04-7c634ee48dbb",
   "metadata": {},
   "outputs": [],
   "source": []
  },
  {
   "cell_type": "code",
   "execution_count": null,
   "id": "f9341937-3d3d-495b-8334-f06c5a74a253",
   "metadata": {},
   "outputs": [],
   "source": []
  },
  {
   "cell_type": "code",
   "execution_count": null,
   "id": "7d5c80c5-cca4-485d-9373-e9d0bc2cd09f",
   "metadata": {},
   "outputs": [],
   "source": []
  },
  {
   "cell_type": "code",
   "execution_count": null,
   "id": "cc583e3d-0a22-4e2c-af05-a3515a463559",
   "metadata": {},
   "outputs": [],
   "source": []
  },
  {
   "cell_type": "code",
   "execution_count": null,
   "id": "344b5012-8070-4d76-8ac7-8b56dc3b6474",
   "metadata": {},
   "outputs": [],
   "source": []
  },
  {
   "cell_type": "code",
   "execution_count": null,
   "id": "efe22702-430b-4214-a679-b5a44ceeb41a",
   "metadata": {},
   "outputs": [],
   "source": []
  },
  {
   "cell_type": "code",
   "execution_count": null,
   "id": "70a384b1-89e6-4ef0-9ee0-b291bce5aaa2",
   "metadata": {},
   "outputs": [],
   "source": []
  },
  {
   "cell_type": "code",
   "execution_count": null,
   "id": "e5f4a05b-b9f6-4c31-abe3-5a286cbcd58b",
   "metadata": {},
   "outputs": [],
   "source": []
  }
 ],
 "metadata": {
  "kernelspec": {
   "display_name": "Python 3 (ipykernel)",
   "language": "python",
   "name": "python3"
  },
  "language_info": {
   "codemirror_mode": {
    "name": "ipython",
    "version": 3
   },
   "file_extension": ".py",
   "mimetype": "text/x-python",
   "name": "python",
   "nbconvert_exporter": "python",
   "pygments_lexer": "ipython3",
   "version": "3.8.9"
  }
 },
 "nbformat": 4,
 "nbformat_minor": 5
}
