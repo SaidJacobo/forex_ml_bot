{
 "cells": [
  {
   "cell_type": "code",
   "execution_count": 1,
   "id": "fc8d876d-277d-498d-8ce2-c99dd7f9f699",
   "metadata": {},
   "outputs": [
    {
     "name": "stdout",
     "output_type": "stream",
     "text": [
      "Requirement already satisfied: statsmodels in c:\\users\\saidj\\onedrive\\documentos\\projects\\forex_ml_bot\\forex_ml_bot\\mtvenv\\lib\\site-packages (0.14.1)\n",
      "Requirement already satisfied: pandas!=2.1.0,>=1.0 in c:\\users\\saidj\\onedrive\\documentos\\projects\\forex_ml_bot\\forex_ml_bot\\mtvenv\\lib\\site-packages (from statsmodels) (2.0.3)\n",
      "Requirement already satisfied: scipy!=1.9.2,>=1.4 in c:\\users\\saidj\\onedrive\\documentos\\projects\\forex_ml_bot\\forex_ml_bot\\mtvenv\\lib\\site-packages (from statsmodels) (1.10.1)\n",
      "Requirement already satisfied: patsy>=0.5.4 in c:\\users\\saidj\\onedrive\\documentos\\projects\\forex_ml_bot\\forex_ml_bot\\mtvenv\\lib\\site-packages (from statsmodels) (0.5.6)\n",
      "Requirement already satisfied: numpy<2,>=1.18 in c:\\users\\saidj\\onedrive\\documentos\\projects\\forex_ml_bot\\forex_ml_bot\\mtvenv\\lib\\site-packages (from statsmodels) (1.24.4)\n",
      "Requirement already satisfied: packaging>=21.3 in c:\\users\\saidj\\onedrive\\documentos\\projects\\forex_ml_bot\\forex_ml_bot\\mtvenv\\lib\\site-packages (from statsmodels) (23.2)\n",
      "Requirement already satisfied: python-dateutil>=2.8.2 in c:\\users\\saidj\\onedrive\\documentos\\projects\\forex_ml_bot\\forex_ml_bot\\mtvenv\\lib\\site-packages (from pandas!=2.1.0,>=1.0->statsmodels) (2.8.2)\n",
      "Requirement already satisfied: pytz>=2020.1 in c:\\users\\saidj\\onedrive\\documentos\\projects\\forex_ml_bot\\forex_ml_bot\\mtvenv\\lib\\site-packages (from pandas!=2.1.0,>=1.0->statsmodels) (2023.3.post1)\n",
      "Requirement already satisfied: tzdata>=2022.1 in c:\\users\\saidj\\onedrive\\documentos\\projects\\forex_ml_bot\\forex_ml_bot\\mtvenv\\lib\\site-packages (from pandas!=2.1.0,>=1.0->statsmodels) (2023.3)\n",
      "Requirement already satisfied: six in c:\\users\\saidj\\onedrive\\documentos\\projects\\forex_ml_bot\\forex_ml_bot\\mtvenv\\lib\\site-packages (from patsy>=0.5.4->statsmodels) (1.16.0)\n"
     ]
    },
    {
     "name": "stderr",
     "output_type": "stream",
     "text": [
      "WARNING: You are using pip version 20.2.3; however, version 24.1 is available.\n",
      "You should consider upgrading via the 'c:\\users\\saidj\\onedrive\\documentos\\projects\\forex_ml_bot\\forex_ml_bot\\mtvenv\\scripts\\python.exe -m pip install --upgrade pip' command.\n"
     ]
    }
   ],
   "source": [
    "! pip install statsmodels"
   ]
  },
  {
   "cell_type": "code",
   "execution_count": 1,
   "id": "84c4a814-277c-42cb-821c-d4d19d01d2f1",
   "metadata": {},
   "outputs": [],
   "source": [
    "import os\n",
    "import sys\n",
    "root_dir = os.path.abspath(os.path.join(os.path.dirname('pruebillas.ipynb'), '..'))\n",
    "os.chdir(root_dir)\n",
    "sys.path.insert(0, os.path.join(root_dir, 'src'))"
   ]
  },
  {
   "cell_type": "code",
   "execution_count": 2,
   "id": "380dcb0a-74b3-4f83-a62e-fa5287b8c847",
   "metadata": {},
   "outputs": [],
   "source": [
    "import numpy as np\n",
    "from sklearn.metrics import f1_score, make_scorer, precision_score, recall_score\n",
    "from sklearn.linear_model import LogisticRegression\n",
    "from xgboost import XGBClassifier\n",
    "from backbone.probability_transformer import ProbabilityTransformer \n",
    "import pandas as pd\n",
    "from sklearn.pipeline import Pipeline\n",
    "from sklearn.model_selection import GridSearchCV, StratifiedKFold\n",
    "from sklearn.metrics import make_scorer, f1_score, roc_auc_score\n",
    "from sklearn.preprocessing import StandardScaler\n",
    "from backbone.utils import load_function\n",
    "from typing import Tuple\n",
    "import yaml\n",
    "from sklearn.metrics import classification_report\n",
    "from datetime import datetime, timedelta\n",
    "import numpy as np\n",
    "import pandas as pd\n",
    "from tqdm import tqdm\n",
    "from statsmodels.tsa.filters.hp_filter import hpfilter\n",
    "import os\n",
    "from sklearn.metrics import accuracy_score\n",
    "\n",
    "pd.options.display.max_rows = 999"
   ]
  },
  {
   "cell_type": "code",
   "execution_count": null,
   "id": "6713baf4-7b15-44f4-9ede-4cb358747a81",
   "metadata": {},
   "outputs": [],
   "source": []
  },
  {
   "cell_type": "code",
   "execution_count": 12,
   "id": "6ae82f4b-f988-4c94-9c7c-f5fe2ce4ea50",
   "metadata": {},
   "outputs": [],
   "source": [
    "import random\n",
    "import numpy as np\n",
    "import pandas as pd\n",
    "from tqdm import tqdm\n",
    "\n",
    "def apply_cusum_filter(raw_price, threshold):\n",
    "    \"\"\"\n",
    "    :param raw_price: (series) of close prices.\n",
    "    :param threshold: (float) when the abs(change) is larger than the threshold, the\n",
    "    function captures it as an event.\n",
    "    :return: (datetime index vector) vector of datetimes when the events occurred. This is used later to sample.\n",
    "    \"\"\"\n",
    "    print('Applying Symmetric CUSUM filter.')\n",
    "\n",
    "    t_events = []\n",
    "    s_pos = 0\n",
    "    s_neg = 0\n",
    "\n",
    "    # log returns\n",
    "    diff = np.log(raw_price).diff().dropna()\n",
    "\n",
    "    # Get event time stamps for the entire series\n",
    "    for i in tqdm(diff.index[1:]):\n",
    "        pos = float(s_pos + diff.loc[i])\n",
    "        neg = float(s_neg + diff.loc[i])\n",
    "        s_pos = max(0.0, pos)\n",
    "        s_neg = min(0.0, neg)\n",
    "\n",
    "        if s_neg < -threshold:\n",
    "            s_neg = 0\n",
    "            t_events.append(i)\n",
    "\n",
    "        elif s_pos > threshold:\n",
    "            s_pos = 0\n",
    "            t_events.append(i)\n",
    "\n",
    "    event_timestamps = pd.DatetimeIndex(t_events)\n",
    "    return event_timestamps\n",
    "\n",
    "# Función para calcular la volatilidad diaria\n",
    "def get_daily_volatility(close_prices, span=100):\n",
    "    returns = close_prices.pct_change()\n",
    "    volatility = returns.ewm(span=span).std()\n",
    "    return volatility\n",
    "\n",
    "def apply_triple_barrier(\n",
    "    close_prices, \n",
    "    max_prices, \n",
    "    min_prices, \n",
    "    take_profit_in_pips, \n",
    "    stop_loss_in_pips, \n",
    "    side,\n",
    "    max_holding_period=50, \n",
    "    pip_size=0.0001\n",
    "    ):\n",
    "\n",
    "    barriers = []\n",
    "    for index in range(len(close_prices)):\n",
    "        actual_close_price = close_prices[index]\n",
    "        \n",
    "        if side[index] == 1:\n",
    "            # Para una señal de compra\n",
    "            upper_barrier_level = round(actual_close_price + (take_profit_in_pips * pip_size), 4)\n",
    "            lower_barrier_level = round(actual_close_price - (stop_loss_in_pips * pip_size), 4)\n",
    "        elif side[index] == -1:\n",
    "            # Para una señal de venta\n",
    "            upper_barrier_level = round(actual_close_price + (stop_loss_in_pips * pip_size), 4)\n",
    "            lower_barrier_level = round(actual_close_price - (take_profit_in_pips * pip_size), 4)\n",
    "        else:\n",
    "            # Si no hay señal, saltar al siguiente índice\n",
    "            continue\n",
    "        \n",
    "        # Evaluar los precios futuros dentro del período máximo de mantenimiento\n",
    "        for j in range(index + 1, min(index + max_holding_period, len(close_prices))):\n",
    "            future_close_price = close_prices[j]\n",
    "            future_max_price = max_prices[j]\n",
    "            future_min_price = min_prices[j]\n",
    "            \n",
    "            if side[index] == 1:\n",
    "\n",
    "                # Señal de compra: tomar ganancias si se alcanza la barrera superior\n",
    "                if (future_max_price >= upper_barrier_level) and (future_min_price <= lower_barrier_level):\n",
    "                    result = random.choice([(index, 0), (index,1)])\n",
    "                    barriers.append(result)\n",
    "                    break\n",
    "\n",
    "                if future_close_price >= upper_barrier_level or future_max_price >= upper_barrier_level:\n",
    "                    barriers.append((index, 1))  # Etiqueta 1 para toma de ganancias\n",
    "                    break\n",
    "\n",
    "                elif future_close_price <= lower_barrier_level or future_min_price <= lower_barrier_level:\n",
    "                    barriers.append((index, 0))  # Etiqueta 0 para stop-loss\n",
    "                    break\n",
    "\n",
    "            elif side[index] == -1:\n",
    "\n",
    "                if (future_min_price <= lower_barrier_level) and (future_max_price >= upper_barrier_level):\n",
    "                    result = random.choice([(index, 0), (index,1)])\n",
    "                    barriers.append(result)\n",
    "                    break\n",
    "\n",
    "                # Señal de venta: tomar ganancias si se alcanza la barrera inferior\n",
    "                if future_close_price <= lower_barrier_level or future_min_price <= lower_barrier_level:\n",
    "                    barriers.append((index, 1))  # Etiqueta 1 para toma de ganancias\n",
    "                    break\n",
    "\n",
    "                elif future_close_price >= upper_barrier_level or future_max_price >= upper_barrier_level:\n",
    "                    barriers.append((index, 0))  # Etiqueta 0 para stop-loss\n",
    "                    break\n",
    "        else:\n",
    "            barriers.append((index, 2))  # Etiqueta 2 si no se alcanza ninguna barrera\n",
    "    \n",
    "    # Revisar los eventos etiquetados como 2 para determinar si son ganancias o pérdidas\n",
    "    for idx, (event_index, label) in enumerate(barriers):\n",
    "        if label == 2:\n",
    "            # Determinar si el precio final fue una ganancia o una pérdida\n",
    "            final_price = close_prices[min(event_index + max_holding_period, len(close_prices) - 1)]\n",
    "            initial_price = close_prices[event_index]\n",
    "            \n",
    "            if side[event_index] == 1:\n",
    "                # Para una señal de compra\n",
    "                if final_price >= initial_price:\n",
    "                    barriers[idx] = (event_index, 1)  # Etiqueta 1 para toma de ganancias\n",
    "                elif final_price < initial_price:\n",
    "                    barriers[idx] = (event_index, 0)  # Etiqueta 0 para stop-loss\n",
    "            elif side[event_index] == -1:\n",
    "                # Para una señal de venta\n",
    "                if final_price <= initial_price:\n",
    "                    barriers[idx] = (event_index, 1)  # Etiqueta 1 para toma de ganancias\n",
    "                elif final_price > initial_price:\n",
    "                    barriers[idx] = (event_index, 0)  # Etiqueta 0 para stop-loss\n",
    "\n",
    "    return barriers\n",
    "\n",
    "\n",
    "\n",
    "def triple_barrier_labeling(\n",
    "        close_prices, \n",
    "        max_prices, \n",
    "        min_prices,  \n",
    "        take_profit_in_pips, \n",
    "        stop_loss_in_pips, \n",
    "        side,\n",
    "        max_holding_period=50, \n",
    "        pip_size=0.0001,\n",
    "    ):\n",
    "\n",
    "    labels = apply_triple_barrier(\n",
    "        close_prices,\n",
    "        max_prices,\n",
    "        min_prices,\n",
    "        take_profit_in_pips, \n",
    "        stop_loss_in_pips, \n",
    "        side,\n",
    "        max_holding_period, \n",
    "        pip_size\n",
    "    )\n",
    "    \n",
    "    target = [label for _, label in labels]\n",
    "    return target\n",
    "\n",
    "def bbands(close_prices, window, no_of_stdev):\n",
    "    rolling_mean = close_prices.ewm(span=window).mean()\n",
    "    rolling_std = close_prices.ewm(span=window).std()\n",
    "\n",
    "    upper_band = rolling_mean + (rolling_std * no_of_stdev)\n",
    "    lower_band = rolling_mean - (rolling_std * no_of_stdev)\n",
    "\n",
    "    return rolling_mean, upper_band, lower_band"
   ]
  },
  {
   "cell_type": "code",
   "execution_count": 13,
   "id": "d635ce9b-b3c3-4b67-907a-ce038e45f47c",
   "metadata": {},
   "outputs": [],
   "source": [
    "def __apply_hpfilter(window, window_size, lamb):\n",
    "  if len(window) < window_size:\n",
    "      return np.nan  # Devuelve NaN si la ventana no está completa\n",
    "\n",
    "  _, trend = hpfilter(window, lamb=lamb)\n",
    "  return trend[-1]"
   ]
  },
  {
   "cell_type": "code",
   "execution_count": 35,
   "id": "ad84a4bb-ae52-48b0-89c9-1ba2f4a02a40",
   "metadata": {},
   "outputs": [
    {
     "name": "stdout",
     "output_type": "stream",
     "text": [
      "Creando target\n"
     ]
    }
   ],
   "source": [
    "symbols_path = './backbone/data/backtest/symbols/XAUUSD.csv'\n",
    "df = pd.read_csv(symbols_path)\n",
    "df = df[['Date','Close','High','Low','Open', 'upper_bband','lower_bband','macdhist','rsi', 'adx','mfi', 'ema_flag']]\n",
    "print('Creando target')\n",
    "df['Date'] = pd.to_datetime(df['Date'])\n",
    "df = df.sort_values(by='Date')\n",
    "df = df.set_index('Date')\n",
    "\n",
    "instrument = df.copy()\n",
    "# compute bband sides\n",
    "\n",
    "df['trend'] = np.nan\n",
    "lamb = 5000\n",
    "window_size = 300\n",
    "apply_hpfilter_with_params = lambda window: __apply_hpfilter(window, window_size, lamb)\n",
    "instrument['trend'] = instrument['Close'].rolling(window=window_size).apply(apply_hpfilter_with_params, raw=True)\n",
    "\n",
    "instrument['SMA20'] = instrument['trend'].rolling(window=20).mean()\n",
    "\n",
    "instrument['side'] = np.nan\n",
    "\n",
    "instrument['hp_flag'] = 0\n",
    "instrument['hp_flag'] = np.where((instrument['trend'] > instrument['SMA20']) & (instrument['trend'].shift(1) <= instrument['SMA20'].shift(1)), 1, instrument['hp_flag'])\n",
    "instrument['hp_flag'] = np.where((instrument['trend'] < instrument['SMA20']) & (instrument['trend'].shift(1) >= instrument['SMA20'].shift(1)), -1, instrument['hp_flag'])\n",
    "\n",
    "instrument['macd_flag'] = 0\n",
    "instrument['macd_flag'] = np.where((instrument['macdhist'].shift(1) < 0) & (instrument['macdhist'] > 0), 1, instrument['macd_flag'])\n",
    "instrument['macd_flag'] = np.where((instrument['macdhist'].shift(1) > 0) & (instrument['macdhist'] < 0), -1, instrument['macd_flag'])\n",
    "\n",
    "instrument['bband_flag'] = 0\n",
    "instrument['bband_flag'] = np.where((df['Close'] > instrument['upper_bband']), 1, instrument['bband_flag']) \n",
    "instrument['bband_flag'] = np.where((df['Close'] < instrument['lower_bband']), -1, instrument['bband_flag']) \n",
    "\n",
    "instrument['rsi_flag'] = 0\n",
    "instrument['rsi_flag'] = np.where((instrument['rsi'] > 70), -1, instrument['rsi_flag'])\n",
    "instrument['rsi_flag'] = np.where((instrument['rsi'] < 30), 1, instrument['rsi_flag'])\n",
    "\n",
    "instrument['adx_flag'] = 0\n",
    "instrument['adx_flag'] = np.where((instrument['adx'] > 25), 1, instrument['adx_flag'])\n",
    "\n",
    "instrument['mfi_flag'] = 0\n",
    "instrument['mfi_flag'] = np.where((instrument['mfi'] > 80), -1, instrument['mfi_flag'])\n",
    "instrument['mfi_flag'] = np.where((instrument['mfi'] < 20), 1, instrument['mfi_flag'])\n",
    "\n",
    "window = 5\n",
    "instrument['macd_flag_positive_window'] = instrument['macd_flag'].rolling(window=window).apply(lambda x: 1 if (x == 1).any() else 0, raw=True)\n",
    "instrument['bband_flag_positive_window'] = instrument['bband_flag'].rolling(window=window).apply(lambda x: 1 if (x == 1).any() else 0, raw=True)\n",
    "instrument['rsi_flag_positive_window'] = instrument['rsi_flag'].rolling(window=window).apply(lambda x: 1 if (x == 1).any() else 0, raw=True) \n",
    "instrument['hp_flag_positive_window'] = instrument['hp_flag'].rolling(window=window).apply(lambda x: 1 if (x == 1).any() else 0, raw=True) \n",
    "instrument['ema_flag_positive_window'] = instrument['ema_flag'].rolling(window=window).apply(lambda x: 1 if (x == 1).any() else 0, raw=True) \n",
    "\n",
    "instrument['mfi_flag_positive_window'] = instrument['mfi_flag'].rolling(window=window).apply(lambda x: 1 if (x == 1).any() else 0, raw=True) \n",
    "\n",
    "instrument['adx_flag_window'] = instrument['adx_flag'].rolling(window=window).apply(lambda x: 1 if (x == 1).any() else 0, raw=True) \n",
    "\n",
    "instrument['macd_flag_negative_window'] = instrument['macd_flag'].rolling(window=window).apply(lambda x: 1 if (x == -1).any() else 0, raw=True)\n",
    "instrument['bband_flag_negative_window'] = instrument['bband_flag'].rolling(window=window).apply(lambda x: 1 if (x == -1).any() else 0, raw=True)\n",
    "instrument['rsi_flag_negative_window'] = instrument['rsi_flag'].rolling(window=window).apply(lambda x: 1 if (x == -1).any() else 0, raw=True)\n",
    "instrument['hp_flag_negative_window'] = instrument['hp_flag'].rolling(window=window).apply(lambda x: 1 if (x == -1).any() else 0, raw=True)\n",
    "instrument['mfi_flag_negative_window'] = instrument['mfi_flag'].rolling(window=window).apply(lambda x: 1 if (x == -1).any() else 0, raw=True)\n",
    "instrument['ema_flag_negative_window'] = instrument['ema_flag'].rolling(window=window).apply(lambda x: 1 if (x == -1).any() else 0, raw=True)\n",
    "\n",
    "\n",
    "# Esto deberia estar parametrizado\n",
    "amount_conditions = 2\n",
    "long_signals = (\n",
    "  # (instrument['macd_flag_positive_window'] == 1).astype(int) +\n",
    "  # (instrument['bband_flag_positive_window'] == 1).astype(int) +\n",
    "  # (instrument['rsi_flag_positive_window'] == 1).astype(int) +\n",
    "  (instrument['hp_flag_positive_window'] == 1).astype(int) +\n",
    "  # (instrument['ema_flag_positive_window'] == 1).astype(int) +\n",
    "  # (instrument['mfi_flag_positive_window'] == 1).astype(int) +\n",
    "  (instrument['adx_flag_window'] == 1).astype(int)\n",
    ") >= amount_conditions\n",
    "\n",
    "short_signals = (\n",
    "  # (instrument['macd_flag_negative_window'] == 1).astype(int) +\n",
    "  # (instrument['bband_flag_negative_window'] == 1).astype(int) +\n",
    "  # (instrument['rsi_flag_negative_window'] == 1).astype(int) +\n",
    "  (instrument['hp_flag_negative_window'] == 1).astype(int) +\n",
    "  # (instrument['ema_flag_negative_window'] == 1).astype(int) +\n",
    "  # (instrument['mfi_flag_negative_window'] == 1).astype(int) +\n",
    "  (instrument['adx_flag_window'] == 1).astype(int)\n",
    ") >= amount_conditions\n",
    "\n",
    "instrument.loc[long_signals, 'side'] = 1\n",
    "instrument.loc[short_signals, 'side'] = -1\n",
    "\n",
    "# Remove Look ahead biase by lagging the signal\n",
    "# instrument['side'] = instrument['side'].shift(1)\n",
    "\n",
    "\n",
    "instrument.dropna(inplace=True)\n",
    "\n",
    "\n"
   ]
  },
  {
   "cell_type": "code",
   "execution_count": 51,
   "id": "19394973-a8b8-44c0-93ca-09fdae19efd9",
   "metadata": {},
   "outputs": [
    {
     "name": "stdout",
     "output_type": "stream",
     "text": [
      "side side\n",
      "-1.0    515\n",
      " 1.0    475\n",
      "Name: count, dtype: int64\n",
      "-----------------------------------------------\n",
      "target target\n",
      "0    500\n",
      "1    490\n",
      "Name: count, dtype: int64\n",
      "-----------------------------------------------\n",
      "0.494949494949495\n"
     ]
    }
   ],
   "source": [
    "sl = 15\n",
    "rr = 2\n",
    "holding_period = 8\n",
    "\n",
    "instrument['target'] = triple_barrier_labeling(\n",
    "    close_prices=instrument['Close'], \n",
    "    max_prices=instrument['High'], \n",
    "    min_prices=instrument['Low'], \n",
    "    stop_loss_in_pips=sl, \n",
    "    take_profit_in_pips=sl * rr, \n",
    "    max_holding_period=holding_period, \n",
    "    pip_size=0.001,\n",
    "    side=instrument['side']\n",
    ")\n",
    "\n",
    "print('side', instrument.side.value_counts())\n",
    "print('-----------------------------------------------')\n",
    "print('target', instrument.target.value_counts())\n",
    "print('-----------------------------------------------')\n",
    "instrument['dummy_model_pred'] = 1\n",
    "acc = accuracy_score(instrument[instrument.side != 0].target, instrument[instrument.side != 0].dummy_model_pred)\n",
    "print(acc)"
   ]
  },
  {
   "cell_type": "code",
   "execution_count": 37,
   "id": "c4f3b5f5-2e42-4f86-adf3-c144809800f4",
   "metadata": {},
   "outputs": [
    {
     "name": "stdout",
     "output_type": "stream",
     "text": [
      "              precision    recall  f1-score   support\n",
      "\n",
      "           0       0.00      0.00      0.00       507\n",
      "           1       0.49      1.00      0.66       483\n",
      "\n",
      "    accuracy                           0.49       990\n",
      "   macro avg       0.24      0.50      0.33       990\n",
      "weighted avg       0.24      0.49      0.32       990\n",
      "\n"
     ]
    },
    {
     "name": "stderr",
     "output_type": "stream",
     "text": [
      "c:\\users\\saidj\\onedrive\\documentos\\projects\\forex_ml_bot\\forex_ml_bot\\mtvenv\\lib\\site-packages\\sklearn\\metrics\\_classification.py:1469: UndefinedMetricWarning: Precision and F-score are ill-defined and being set to 0.0 in labels with no predicted samples. Use `zero_division` parameter to control this behavior.\n",
      "  _warn_prf(average, modifier, msg_start, len(result))\n",
      "c:\\users\\saidj\\onedrive\\documentos\\projects\\forex_ml_bot\\forex_ml_bot\\mtvenv\\lib\\site-packages\\sklearn\\metrics\\_classification.py:1469: UndefinedMetricWarning: Precision and F-score are ill-defined and being set to 0.0 in labels with no predicted samples. Use `zero_division` parameter to control this behavior.\n",
      "  _warn_prf(average, modifier, msg_start, len(result))\n",
      "c:\\users\\saidj\\onedrive\\documentos\\projects\\forex_ml_bot\\forex_ml_bot\\mtvenv\\lib\\site-packages\\sklearn\\metrics\\_classification.py:1469: UndefinedMetricWarning: Precision and F-score are ill-defined and being set to 0.0 in labels with no predicted samples. Use `zero_division` parameter to control this behavior.\n",
      "  _warn_prf(average, modifier, msg_start, len(result))\n"
     ]
    }
   ],
   "source": [
    "print(classification_report(instrument[instrument.side != 0].target, instrument[instrument.side != 0].dummy_model_pred))"
   ]
  },
  {
   "cell_type": "code",
   "execution_count": 39,
   "id": "09f129fb-ac83-47e5-a580-a2fa074f4d12",
   "metadata": {},
   "outputs": [],
   "source": [
    "df\n",
    "df.loc[instrument.index, 'side'] = instrument.side\n",
    "df.loc[instrument.index, 'target'] = instrument.target\n",
    "df.fillna(0, inplace=True)\n",
    "df.reset_index(inplace=True)"
   ]
  },
  {
   "cell_type": "code",
   "execution_count": 43,
   "id": "96367957-e96a-4f2b-9012-30e1dce8bcde",
   "metadata": {},
   "outputs": [
    {
     "data": {
      "image/png": "[encoded data removed]",
      "text/plain": [
       "<Figure size 1400x700 with 1 Axes>"
      ]
     },
     "metadata": {},
     "output_type": "display_data"
    },
    {
     "name": "stdout",
     "output_type": "stream",
     "text": [
      "2022-03-12 2022-03-17\n"
     ]
    },
    {
     "ename": "KeyboardInterrupt",
     "evalue": "Interrupted by user",
     "output_type": "error",
     "traceback": [
      "\u001b[1;31m---------------------------------------------------------------------------\u001b[0m",
      "\u001b[1;31mKeyboardInterrupt\u001b[0m                         Traceback (most recent call last)",
      "Cell \u001b[1;32mIn[43], line 56\u001b[0m\n\u001b[0;32m     52\u001b[0m plt\u001b[38;5;241m.\u001b[39mshow()\n\u001b[0;32m     54\u001b[0m \u001b[38;5;28mprint\u001b[39m(date_from_str, date_to_str)\n\u001b[1;32m---> 56\u001b[0m a \u001b[38;5;241m=\u001b[39m \u001b[38;5;28;43minput\u001b[39;49m\u001b[43m(\u001b[49m\u001b[43m)\u001b[49m\n\u001b[0;32m     58\u001b[0m clear_output(wait\u001b[38;5;241m=\u001b[39m\u001b[38;5;28;01mTrue\u001b[39;00m)\n\u001b[0;32m     60\u001b[0m date_from \u001b[38;5;241m+\u001b[39m\u001b[38;5;241m=\u001b[39m timedelta(days\u001b[38;5;241m=\u001b[39m\u001b[38;5;241m5\u001b[39m)\n",
      "File \u001b[1;32mc:\\users\\saidj\\onedrive\\documentos\\projects\\forex_ml_bot\\forex_ml_bot\\mtvenv\\lib\\site-packages\\ipykernel\\kernelbase.py:1202\u001b[0m, in \u001b[0;36mKernel.raw_input\u001b[1;34m(self, prompt)\u001b[0m\n\u001b[0;32m   1200\u001b[0m     msg \u001b[38;5;241m=\u001b[39m \u001b[38;5;124m\"\u001b[39m\u001b[38;5;124mraw_input was called, but this frontend does not support input requests.\u001b[39m\u001b[38;5;124m\"\u001b[39m\n\u001b[0;32m   1201\u001b[0m     \u001b[38;5;28;01mraise\u001b[39;00m StdinNotImplementedError(msg)\n\u001b[1;32m-> 1202\u001b[0m \u001b[38;5;28;01mreturn\u001b[39;00m \u001b[38;5;28;43mself\u001b[39;49m\u001b[38;5;241;43m.\u001b[39;49m\u001b[43m_input_request\u001b[49m\u001b[43m(\u001b[49m\n\u001b[0;32m   1203\u001b[0m \u001b[43m    \u001b[49m\u001b[38;5;28;43mstr\u001b[39;49m\u001b[43m(\u001b[49m\u001b[43mprompt\u001b[49m\u001b[43m)\u001b[49m\u001b[43m,\u001b[49m\n\u001b[0;32m   1204\u001b[0m \u001b[43m    \u001b[49m\u001b[38;5;28;43mself\u001b[39;49m\u001b[38;5;241;43m.\u001b[39;49m\u001b[43m_parent_ident\u001b[49m\u001b[43m[\u001b[49m\u001b[38;5;124;43m\"\u001b[39;49m\u001b[38;5;124;43mshell\u001b[39;49m\u001b[38;5;124;43m\"\u001b[39;49m\u001b[43m]\u001b[49m\u001b[43m,\u001b[49m\n\u001b[0;32m   1205\u001b[0m \u001b[43m    \u001b[49m\u001b[38;5;28;43mself\u001b[39;49m\u001b[38;5;241;43m.\u001b[39;49m\u001b[43mget_parent\u001b[49m\u001b[43m(\u001b[49m\u001b[38;5;124;43m\"\u001b[39;49m\u001b[38;5;124;43mshell\u001b[39;49m\u001b[38;5;124;43m\"\u001b[39;49m\u001b[43m)\u001b[49m\u001b[43m,\u001b[49m\n\u001b[0;32m   1206\u001b[0m \u001b[43m    \u001b[49m\u001b[43mpassword\u001b[49m\u001b[38;5;241;43m=\u001b[39;49m\u001b[38;5;28;43;01mFalse\u001b[39;49;00m\u001b[43m,\u001b[49m\n\u001b[0;32m   1207\u001b[0m \u001b[43m\u001b[49m\u001b[43m)\u001b[49m\n",
      "File \u001b[1;32mc:\\users\\saidj\\onedrive\\documentos\\projects\\forex_ml_bot\\forex_ml_bot\\mtvenv\\lib\\site-packages\\ipykernel\\kernelbase.py:1245\u001b[0m, in \u001b[0;36mKernel._input_request\u001b[1;34m(self, prompt, ident, parent, password)\u001b[0m\n\u001b[0;32m   1242\u001b[0m \u001b[38;5;28;01mexcept\u001b[39;00m \u001b[38;5;167;01mKeyboardInterrupt\u001b[39;00m:\n\u001b[0;32m   1243\u001b[0m     \u001b[38;5;66;03m# re-raise KeyboardInterrupt, to truncate traceback\u001b[39;00m\n\u001b[0;32m   1244\u001b[0m     msg \u001b[38;5;241m=\u001b[39m \u001b[38;5;124m\"\u001b[39m\u001b[38;5;124mInterrupted by user\u001b[39m\u001b[38;5;124m\"\u001b[39m\n\u001b[1;32m-> 1245\u001b[0m     \u001b[38;5;28;01mraise\u001b[39;00m \u001b[38;5;167;01mKeyboardInterrupt\u001b[39;00m(msg) \u001b[38;5;28;01mfrom\u001b[39;00m \u001b[38;5;28;01mNone\u001b[39;00m\n\u001b[0;32m   1246\u001b[0m \u001b[38;5;28;01mexcept\u001b[39;00m \u001b[38;5;167;01mException\u001b[39;00m:\n\u001b[0;32m   1247\u001b[0m     \u001b[38;5;28mself\u001b[39m\u001b[38;5;241m.\u001b[39mlog\u001b[38;5;241m.\u001b[39mwarning(\u001b[38;5;124m\"\u001b[39m\u001b[38;5;124mInvalid Message:\u001b[39m\u001b[38;5;124m\"\u001b[39m, exc_info\u001b[38;5;241m=\u001b[39m\u001b[38;5;28;01mTrue\u001b[39;00m)\n",
      "\u001b[1;31mKeyboardInterrupt\u001b[0m: Interrupted by user"
     ]
    }
   ],
   "source": [
    "import matplotlib.pyplot as plt \n",
    "from IPython.display import clear_output\n",
    "\n",
    "\n",
    "ticker = 'EURUSD'\n",
    "date_from = datetime(2022,1,1)\n",
    "date_to = date_from + timedelta(days=5)\n",
    "\n",
    "while date_to < datetime(2024,1,1):\n",
    "    date_from_str = date_from.strftime('%Y-%m-%d')\n",
    "    date_to_str = date_to.strftime('%Y-%m-%d')\n",
    "\n",
    "    historical_prices = df\n",
    "    \n",
    "    historical_prices = historical_prices[\n",
    "        (historical_prices['Date']>date_from_str)\n",
    "        & (historical_prices['Date']<date_to_str)\n",
    "    ]\n",
    "    \n",
    "    plt.figure(figsize=(14, 7))\n",
    "    plt.plot(historical_prices['Date'], historical_prices['Close'], label=f'{ticker} Price', color='blue')\n",
    "    plt.plot(historical_prices['Date'], historical_prices['High'], label=f'{ticker} Price', color='gray')\n",
    "    plt.plot(historical_prices['Date'], historical_prices['Low'], label=f'{ticker} Price', color='black')\n",
    "    \n",
    "    # Añadir las operaciones de compra y venta\n",
    "    buy_trades = df[\n",
    "        (df['side']==1) \n",
    "        & (df['target']==1)\n",
    "        & (df['Date']>date_from_str)\n",
    "        & (df['Date']<date_to_str)\n",
    "    ]\n",
    "    sell_trades = df[\n",
    "        (df['side']==-1) \n",
    "        & (df['target']==1)\n",
    "        & (df['Date']>date_from_str)\n",
    "        & (df['Date']<date_to_str)\n",
    "    ]\n",
    "    \n",
    "    # Graficar las operaciones de compra\n",
    "    plt.scatter(buy_trades['Date'], buy_trades['Close'], color='green', marker='^', s=100, label='Buy Open')\n",
    "    \n",
    "    # Graficar las operaciones de venta\n",
    "    plt.scatter(sell_trades['Date'], sell_trades['Close'], color='red', marker='v', s=100, label='Sell Open')\n",
    "    \n",
    "    # Añadir etiquetas y leyenda\n",
    "    plt.xlabel('Date')\n",
    "    plt.ylabel('Price')\n",
    "    plt.title(f'{ticker} Price with Buy/Sell Trades')\n",
    "    plt.legend()\n",
    "    \n",
    "    # Mostrar el gráfico\n",
    "    plt.show()\n",
    "    \n",
    "    print(date_from_str, date_to_str)\n",
    "   \n",
    "    a = input()\n",
    "    \n",
    "    clear_output(wait=True)\n",
    "\n",
    "    date_from += timedelta(days=5)\n",
    "    date_to = date_from + timedelta(days=5)\n"
   ]
  },
  {
   "cell_type": "code",
   "execution_count": 30,
   "id": "d1b934a9-802d-4190-9c9f-0dde597d5490",
   "metadata": {},
   "outputs": [
    {
     "data": {
      "text/plain": [
       "year  month  day\n",
       "2021  10     11      2\n",
       "             12      1\n",
       "             13      3\n",
       "             19      3\n",
       "             20      3\n",
       "             22      4\n",
       "             25      5\n",
       "             28      3\n",
       "      11     2       2\n",
       "             4       5\n",
       "             5       1\n",
       "             12      1\n",
       "             25      3\n",
       "      12     13      6\n",
       "             16      3\n",
       "             20      3\n",
       "             28      2\n",
       "2022  1      3       6\n",
       "             4       3\n",
       "             10      3\n",
       "             11      3\n",
       "             12      7\n",
       "             19      1\n",
       "             21      6\n",
       "             27      6\n",
       "      2      8       9\n",
       "             9       3\n",
       "             10      3\n",
       "             11      3\n",
       "             18      3\n",
       "             24      2\n",
       "             25      1\n",
       "             28      3\n",
       "      3      7       3\n",
       "             10      3\n",
       "             11      3\n",
       "             15      3\n",
       "             18      1\n",
       "             21      1\n",
       "             25     10\n",
       "             29      6\n",
       "             30      3\n",
       "      4      11      3\n",
       "             19      3\n",
       "             26      3\n",
       "      5      9       3\n",
       "             18      4\n",
       "             31      4\n",
       "      6      1       1\n",
       "             2       2\n",
       "             3       2\n",
       "             6       3\n",
       "             7       9\n",
       "             10      6\n",
       "             14      3\n",
       "             20      2\n",
       "      7      6       6\n",
       "             7       3\n",
       "             18      3\n",
       "             19      3\n",
       "             25      3\n",
       "      8      2       3\n",
       "             4       3\n",
       "             9       3\n",
       "             16      3\n",
       "             23      6\n",
       "             24      3\n",
       "             26      3\n",
       "      9      1       1\n",
       "             2       3\n",
       "             6       1\n",
       "             7       3\n",
       "             13      3\n",
       "             14      1\n",
       "             27      3\n",
       "      10     3       1\n",
       "             5       3\n",
       "             6       2\n",
       "             10      3\n",
       "             11      3\n",
       "             18      3\n",
       "             26      3\n",
       "      11     1       3\n",
       "             10      3\n",
       "             14      3\n",
       "             16      3\n",
       "             22      5\n",
       "             23      4\n",
       "             28      1\n",
       "             29      3\n",
       "             30      3\n",
       "      12     7       6\n",
       "             8       2\n",
       "             14      3\n",
       "             20      3\n",
       "             21      1\n",
       "             23      3\n",
       "             28      3\n",
       "2023  1      10      2\n",
       "             18      6\n",
       "             19      1\n",
       "             24      2\n",
       "             30      3\n",
       "      2      7       9\n",
       "             13      3\n",
       "             16      3\n",
       "             27      3\n",
       "      3      8       6\n",
       "             9       3\n",
       "             17      6\n",
       "             20      3\n",
       "      4      6       3\n",
       "             13      6\n",
       "             19      2\n",
       "             21      2\n",
       "             26      3\n",
       "             28      3\n",
       "      5      3       6\n",
       "             4       3\n",
       "             19      3\n",
       "             22      3\n",
       "             25      3\n",
       "      6      1       3\n",
       "             12      3\n",
       "             14      3\n",
       "             23      3\n",
       "             27      1\n",
       "             29      6\n",
       "             30     10\n",
       "      7      17      3\n",
       "             21      3\n",
       "      8      2       3\n",
       "             3       6\n",
       "             9       7\n",
       "             11      2\n",
       "             14      1\n",
       "             17      3\n",
       "             21      3\n",
       "             31      1\n",
       "      9      6       6\n",
       "             7       9\n",
       "             19      3\n",
       "             27      6\n",
       "             29      3\n",
       "      10     4       1\n",
       "             5       5\n",
       "             6       3\n",
       "             10      1\n",
       "             13      3\n",
       "             18      1\n",
       "             20      6\n",
       "             23      3\n",
       "             26      3\n",
       "      11     8       3\n",
       "             9       3\n",
       "             13      3\n",
       "             22      1\n",
       "             24      3\n",
       "             27      3\n",
       "      12     6       3\n",
       "Name: side, dtype: int64"
      ]
     },
     "execution_count": 30,
     "metadata": {},
     "output_type": "execute_result"
    }
   ],
   "source": [
    "df['year'] = df.Date.dt.year\n",
    "df['month'] = df.Date.dt.month\n",
    "df['day'] = df.Date.dt.day\n",
    "df['hour'] = df.Date.dt.hour\n",
    "\n",
    "df[df.side!=0].groupby(['year','month','day'])['side'].count()\n",
    "\n"
   ]
  },
  {
   "cell_type": "code",
   "execution_count": null,
   "id": "7b520eff-32b0-4733-aa5d-b1f1d7265282",
   "metadata": {},
   "outputs": [],
   "source": []
  },
  {
   "cell_type": "code",
   "execution_count": null,
   "id": "4fb74bdd-83c2-494c-8e3b-eaf94c276e7e",
   "metadata": {},
   "outputs": [],
   "source": []
  },
  {
   "cell_type": "code",
   "execution_count": null,
   "id": "a39761fe-a2ef-4b2d-9e16-b7293766156d",
   "metadata": {},
   "outputs": [],
   "source": []
  },
  {
   "cell_type": "code",
   "execution_count": 41,
   "id": "53ba3baa-329a-444c-a9be-8f43cefad3be",
   "metadata": {},
   "outputs": [],
   "source": []
  },
  {
   "cell_type": "code",
   "execution_count": 17,
   "id": "a5cfb966-cadd-4bad-961d-f9780f2c65dd",
   "metadata": {},
   "outputs": [],
   "source": []
  },
  {
   "cell_type": "markdown",
   "id": "e31defd7-a736-4c45-9160-88d1252605db",
   "metadata": {},
   "source": [
    "# Accuracy"
   ]
  },
  {
   "cell_type": "code",
   "execution_count": null,
   "id": "7450f9c2-65e2-4304-af8b-b150f0c0cdd9",
   "metadata": {},
   "outputs": [],
   "source": []
  },
  {
   "cell_type": "code",
   "execution_count": 11,
   "id": "9821ca77-1d9b-47b1-8245-30e589e91d19",
   "metadata": {},
   "outputs": [],
   "source": []
  },
  {
   "cell_type": "code",
   "execution_count": 12,
   "id": "9da660e5-4ad6-4eaa-ab2d-48090b334517",
   "metadata": {},
   "outputs": [
    {
     "data": {
      "text/plain": [
       "0.5652173913043478"
      ]
     },
     "execution_count": 12,
     "metadata": {},
     "output_type": "execute_result"
    }
   ],
   "source": []
  },
  {
   "cell_type": "code",
   "execution_count": 13,
   "id": "ef3b6ac4-58ad-4d10-a1d8-09ed03993fc6",
   "metadata": {},
   "outputs": [
    {
     "data": {
      "text/plain": [
       "0.5652173913043478"
      ]
     },
     "execution_count": 13,
     "metadata": {},
     "output_type": "execute_result"
    }
   ],
   "source": [
    "instrument[(instrument.side != 0) & (instrument.target==1)].shape[0] / instrument[(instrument.side!=0)].shape[0]"
   ]
  },
  {
   "cell_type": "code",
   "execution_count": 14,
   "id": "fd2bb6a3-771d-45d9-8285-77bf2aeb17c8",
   "metadata": {},
   "outputs": [
    {
     "data": {
      "text/plain": [
       "year  month  side\n",
       "2021  9       0.0    209\n",
       "      10     -1.0      1\n",
       "              0.0    503\n",
       "      11     -1.0      3\n",
       "              0.0    524\n",
       "      12      0.0    546\n",
       "              1.0      3\n",
       "2022  1      -1.0      1\n",
       "              0.0    503\n",
       "      2       0.0    478\n",
       "              1.0      2\n",
       "      3       0.0    550\n",
       "      4      -1.0      3\n",
       "              0.0    501\n",
       "      5       0.0    528\n",
       "      6       0.0    528\n",
       "      7       0.0    504\n",
       "      8       0.0    552\n",
       "      9      -1.0      3\n",
       "              0.0    521\n",
       "              1.0      4\n",
       "      10      0.0    504\n",
       "      11      0.0    520\n",
       "              1.0      7\n",
       "      12      0.0    519\n",
       "2023  1       0.0    518\n",
       "              1.0      3\n",
       "      2       0.0    480\n",
       "      3      -1.0      5\n",
       "              0.0    544\n",
       "              1.0      1\n",
       "      4       0.0    480\n",
       "      5      -1.0      2\n",
       "              0.0    550\n",
       "      6       0.0    528\n",
       "      7      -1.0      4\n",
       "              0.0    499\n",
       "      8       0.0    552\n",
       "      9      -1.0      4\n",
       "              0.0    500\n",
       "      10      0.0    528\n",
       "      11      0.0    527\n",
       "      12      0.0    482\n",
       "Name: side, dtype: int64"
      ]
     },
     "execution_count": 14,
     "metadata": {},
     "output_type": "execute_result"
    }
   ],
   "source": [
    "df.groupby(['year', 'month', 'side'])['side'].count()"
   ]
  },
  {
   "cell_type": "code",
   "execution_count": 22,
   "id": "8a6a394a-f02a-433f-b807-c201afd7b7a2",
   "metadata": {},
   "outputs": [
    {
     "data": {
      "text/plain": [
       "year  month  side\n",
       "2023  3      -1.0      23\n",
       "              0.0    1628\n",
       "              1.0      23\n",
       "      4      -1.0      35\n",
       "              0.0    2808\n",
       "              1.0      37\n",
       "      5      -1.0      46\n",
       "              0.0    3221\n",
       "              1.0      45\n",
       "      6      -1.0      41\n",
       "              0.0    3086\n",
       "              1.0      41\n",
       "      7      -1.0      37\n",
       "              0.0    2944\n",
       "              1.0      37\n",
       "      8      -1.0      43\n",
       "              0.0    3228\n",
       "              1.0      41\n",
       "      9      -1.0      40\n",
       "              0.0    2942\n",
       "              1.0      42\n",
       "      10     -1.0      36\n",
       "              0.0    3096\n",
       "              1.0      36\n",
       "      11     -1.0      37\n",
       "              0.0    3089\n",
       "              1.0      36\n",
       "      12     -1.0      39\n",
       "              0.0    2819\n",
       "              1.0      39\n",
       "2024  1      -1.0      51\n",
       "              0.0    3067\n",
       "              1.0      50\n",
       "      2      -1.0      51\n",
       "              0.0    2921\n",
       "              1.0      52\n",
       "      3      -1.0      38\n",
       "              0.0    2929\n",
       "              1.0      39\n",
       "      4      -1.0      47\n",
       "              0.0    3074\n",
       "              1.0      47\n",
       "      5      -1.0      37\n",
       "              0.0    3237\n",
       "              1.0      38\n",
       "      6      -1.0      43\n",
       "              0.0    2793\n",
       "              1.0      44\n",
       "      7      -1.0       6\n",
       "              0.0     720\n",
       "              1.0       6\n",
       "Name: side, dtype: int64"
      ]
     },
     "execution_count": 22,
     "metadata": {},
     "output_type": "execute_result"
    }
   ],
   "source": [
    "df = pd.read_csv('./backbone/data/trading/symbols/dataset.csv')\n",
    "df['Date'] = pd.to_datetime(df['Date'])\n",
    "df['year'] = df.Date.dt.year\n",
    "df['month'] = df.Date.dt.month\n",
    "\n",
    "df.groupby(['year', 'month', 'side'])['side'].count()"
   ]
  },
  {
   "cell_type": "code",
   "execution_count": 23,
   "id": "cb0e2b75-16ef-4972-ae54-df9a77cb01e3",
   "metadata": {},
   "outputs": [
    {
     "data": {
      "text/plain": [
       "0.7106676899462778"
      ]
     },
     "execution_count": 23,
     "metadata": {},
     "output_type": "execute_result"
    }
   ],
   "source": [
    "df['dummy_model_pred'] = 1\n",
    "accuracy_score(df[df.side != 0].target, df[df.side != 0].dummy_model_pred)"
   ]
  },
  {
   "cell_type": "code",
   "execution_count": 24,
   "id": "9c753ca6-fcdf-4497-8dff-e8614df315ad",
   "metadata": {},
   "outputs": [
    {
     "name": "stdout",
     "output_type": "stream",
     "text": [
      "              precision    recall  f1-score   support\n",
      "\n",
      "         0.0       0.00      0.00      0.00       377\n",
      "         1.0       0.71      1.00      0.83       926\n",
      "\n",
      "    accuracy                           0.71      1303\n",
      "   macro avg       0.36      0.50      0.42      1303\n",
      "weighted avg       0.51      0.71      0.59      1303\n",
      "\n"
     ]
    },
    {
     "name": "stderr",
     "output_type": "stream",
     "text": [
      "c:\\users\\saidj\\onedrive\\documentos\\projects\\forex_ml_bot\\forex_ml_bot\\mtvenv\\lib\\site-packages\\sklearn\\metrics\\_classification.py:1469: UndefinedMetricWarning: Precision and F-score are ill-defined and being set to 0.0 in labels with no predicted samples. Use `zero_division` parameter to control this behavior.\n",
      "  _warn_prf(average, modifier, msg_start, len(result))\n",
      "c:\\users\\saidj\\onedrive\\documentos\\projects\\forex_ml_bot\\forex_ml_bot\\mtvenv\\lib\\site-packages\\sklearn\\metrics\\_classification.py:1469: UndefinedMetricWarning: Precision and F-score are ill-defined and being set to 0.0 in labels with no predicted samples. Use `zero_division` parameter to control this behavior.\n",
      "  _warn_prf(average, modifier, msg_start, len(result))\n",
      "c:\\users\\saidj\\onedrive\\documentos\\projects\\forex_ml_bot\\forex_ml_bot\\mtvenv\\lib\\site-packages\\sklearn\\metrics\\_classification.py:1469: UndefinedMetricWarning: Precision and F-score are ill-defined and being set to 0.0 in labels with no predicted samples. Use `zero_division` parameter to control this behavior.\n",
      "  _warn_prf(average, modifier, msg_start, len(result))\n"
     ]
    }
   ],
   "source": [
    "print(classification_report(df[df.side != 0].target, df[df.side != 0].dummy_model_pred))"
   ]
  },
  {
   "cell_type": "code",
   "execution_count": 25,
   "id": "144ab367-8f7b-4048-b855-38fe386db2c7",
   "metadata": {},
   "outputs": [
    {
     "data": {
      "text/plain": [
       "side\n",
       " 1.0    653\n",
       "-1.0    650\n",
       "Name: count, dtype: int64"
      ]
     },
     "execution_count": 25,
     "metadata": {},
     "output_type": "execute_result"
    }
   ],
   "source": [
    "df[df.side != 0].side.value_counts()"
   ]
  },
  {
   "cell_type": "code",
   "execution_count": 26,
   "id": "fcf98af3-365e-4eea-9c69-1e9c47b6832b",
   "metadata": {},
   "outputs": [
    {
     "data": {
      "text/plain": [
       "target\n",
       "1.0    926\n",
       "0.0    377\n",
       "Name: count, dtype: int64"
      ]
     },
     "execution_count": 26,
     "metadata": {},
     "output_type": "execute_result"
    }
   ],
   "source": [
    "df[df.side != 0].target.value_counts()"
   ]
  },
  {
   "cell_type": "code",
   "execution_count": null,
   "id": "4e556fda-bbaa-4b0f-b142-27cd4936df53",
   "metadata": {},
   "outputs": [],
   "source": []
  },
  {
   "cell_type": "code",
   "execution_count": 8,
   "id": "3a6c7f86-0376-4e63-ae59-42f2b30be587",
   "metadata": {},
   "outputs": [],
   "source": [
    "# import pandas as pd\n",
    "# import os\n",
    "# pd.set_option('display.max_columns', None)\n",
    "\n",
    "# periods_forward = 5\n",
    "\n",
    "# tickers = ['EURUSD']\n",
    "# symbols_path = './backbone/data/backtest/symbols'\n",
    "# instruments = {}\n",
    "# df = pd.DataFrame()\n",
    "\n",
    "# for ticker in tickers:\n",
    "#     instruments[ticker] = pd.read_csv(os.path.join(symbols_path, f'{ticker}.csv'))\n",
    "  \n",
    "#     instruments[ticker]['ticker'] = ticker\n",
    "  \n",
    "#     print('Creando target')\n",
    "   \n",
    "#     instruments[ticker] = instruments[ticker].sort_values(by='Date')\n",
    "\n",
    "#     instruments[ticker]['target'] = triple_barrier_labeling(instruments[ticker], upper_barrier=0.015, lower_barrier=0.015, max_holding_period=48, span=100)\n",
    "    \n",
    "#     df = pd.concat([\n",
    "#         df,\n",
    "#         instruments[ticker]\n",
    "#     ])\n",
    "\n",
    "#     df['Date'] = pd.to_datetime(df['Date'], format='%Y-%m-%d %H:00:00')\n",
    "\n",
    "#     df = df.sort_values(by='Date')"
   ]
  },
  {
   "cell_type": "code",
   "execution_count": 205,
   "id": "2469a5d5-58d1-4fd2-8965-f8976270ce59",
   "metadata": {},
   "outputs": [],
   "source": [
    "df = pd.read_csv('./backbone/data/backtest/symbols/dataset.csv')"
   ]
  },
  {
   "cell_type": "code",
   "execution_count": 206,
   "id": "85967681-7208-42b8-b6c8-3cb2732a249a",
   "metadata": {},
   "outputs": [
    {
     "data": {
      "text/plain": [
       "0        45.511529\n",
       "1        48.282765\n",
       "2        39.093260\n",
       "3        30.782478\n",
       "4        33.047150\n",
       "           ...    \n",
       "85344    15.097938\n",
       "85345    17.517605\n",
       "85346    21.824213\n",
       "85347    19.882942\n",
       "85348    28.458146\n",
       "Name: adx, Length: 85349, dtype: float64"
      ]
     },
     "execution_count": 206,
     "metadata": {},
     "output_type": "execute_result"
    }
   ],
   "source": [
    "df.adx"
   ]
  },
  {
   "cell_type": "code",
   "execution_count": 3,
   "id": "11a3a322-05e6-4f04-b6a7-5c0cb1fec910",
   "metadata": {},
   "outputs": [
    {
     "data": {
      "text/plain": [
       "target\n",
       "1.0    911\n",
       "0.0    410\n",
       "Name: count, dtype: int64"
      ]
     },
     "execution_count": 3,
     "metadata": {},
     "output_type": "execute_result"
    }
   ],
   "source": [
    "date_format = '%Y-%m-%d %H:00:00'\n",
    "window = 11520\n",
    "\n",
    "actual_date = datetime(2024,5,1,0,0,0)\n",
    "\n",
    "date_to = actual_date - timedelta(hours=24+1) \n",
    "date_from = date_to - timedelta(hours=window)\n",
    "\n",
    "date_from_test = actual_date\n",
    "date_to_test = date_from_test + timedelta(hours=1440)\n",
    "\n",
    "date_from_str = date_from.strftime(date_format)\n",
    "date_to_str = date_to.strftime(date_format)\n",
    "date_from_test_str = date_from_test.strftime(date_format)\n",
    "date_to_test_str = date_to_test.strftime(date_format)\n",
    "\n",
    "\n",
    "train = df[(df['Date']>date_from_str) & (df['Date']<date_to_str) & (df.side != 0)]\n",
    "test = df[(df['Date']>date_from_test_str) & (df['Date']<date_to_test_str) & (df.side != 0)]\n",
    "\n",
    "# Inicio undersampling\n",
    "# class_0 = train[train['target']==0]\n",
    "# class_2 = train[train['target']==2]\n",
    "# avg_examples = (class_0.shape[0] + class_2.shape[0]) / 2\n",
    "# class_1 = train[train['target']==1].tail(int(avg_examples)).sample(frac=1)\n",
    "\n",
    "# train = pd.concat([class_0, class_1, class_2])\n",
    "# fin undersampling\n",
    "\n",
    "train.target.value_counts()"
   ]
  },
  {
   "cell_type": "code",
   "execution_count": 4,
   "id": "c88a0bf6-7612-454d-96f6-72867b043468",
   "metadata": {},
   "outputs": [
    {
     "data": {
      "text/plain": [
       "target\n",
       "1.0    109\n",
       "0.0     51\n",
       "Name: count, dtype: int64"
      ]
     },
     "execution_count": 4,
     "metadata": {},
     "output_type": "execute_result"
    }
   ],
   "source": [
    "test.target.value_counts()"
   ]
  },
  {
   "cell_type": "code",
   "execution_count": 5,
   "id": "d76d91f8-6cc5-4259-8c2c-85abda91f32a",
   "metadata": {},
   "outputs": [],
   "source": [
    "from backbone.machine_learning_agent import MachineLearningAgent\n",
    "\n",
    "with open('./configs/model_config.yml', 'r') as file:\n",
    "    model_configs = yaml.safe_load(file)\n",
    "\n",
    "cols_to_drop = [\n",
    "  'Open',\n",
    "  'High',\n",
    "  'Low',\n",
    "  'Close',\n",
    "  'target', \n",
    "  'Date', \n",
    "  'ticker'\n",
    "]\n",
    "\n",
    "model_name = 'gradient_boosting'\n",
    "\n",
    "param_grid = model_configs[model_name]['param_grid']\n",
    "model = model_configs[model_name]['model']\n",
    "\n",
    "mla = MachineLearningAgent(\n",
    "    tickers=['EURUSD', 'GBPUSD', 'USDJPY', 'USDCAD', 'AUDUSD', 'USDCHF'], \n",
    "    model=model, \n",
    "    param_grid=param_grid\n",
    ")"
   ]
  },
  {
   "cell_type": "code",
   "execution_count": 6,
   "id": "95a1bbcf-2dec-4aab-bf2a-957627c2533a",
   "metadata": {},
   "outputs": [],
   "source": [
    "x_train = train.drop(columns=cols_to_drop)\n",
    "y_train = train.target"
   ]
  },
  {
   "cell_type": "code",
   "execution_count": 7,
   "id": "ce3f21f8-867d-4a91-b07e-97e9b776c8d8",
   "metadata": {},
   "outputs": [
    {
     "data": {
      "text/plain": [
       "target\n",
       "1.0    911\n",
       "0.0    410\n",
       "Name: count, dtype: int64"
      ]
     },
     "execution_count": 7,
     "metadata": {},
     "output_type": "execute_result"
    }
   ],
   "source": [
    "y_train.value_counts()"
   ]
  },
  {
   "cell_type": "code",
   "execution_count": 8,
   "id": "1f69d55c-5d68-4bab-b6b6-725d3d5011bd",
   "metadata": {},
   "outputs": [
    {
     "name": "stdout",
     "output_type": "stream",
     "text": [
      "Best parameter (CV score=0.666):\n",
      "Best params: {'stacking__prob_transf__model__learning_rate': 0.05, 'stacking__prob_transf__model__max_depth': 3, 'stacking__prob_transf__model__n_estimators': 15, 'stacking__prob_transf__model__objective': 'binary:logistic', 'stacking__prob_transf__model__random_state': 42}\n",
      "train precision:  0.7202983061799935\n",
      "train recall:  0.6207418622255867\n",
      "train f1:  0.6335370336600004\n"
     ]
    }
   ],
   "source": [
    "mla.train(\n",
    "    x_train = train.drop(columns=cols_to_drop),\n",
    "    x_test = test.drop(columns=cols_to_drop),\n",
    "    y_train = train.target,\n",
    "    y_test = test.target,\n",
    "    date_train=actual_date,\n",
    "    verbose=True,\n",
    "    undersampling=False\n",
    ")"
   ]
  },
  {
   "cell_type": "markdown",
   "id": "bf0efc20-5291-42ff-b9e6-9d07af4ab09b",
   "metadata": {},
   "source": [
    "# Train performance"
   ]
  },
  {
   "cell_type": "code",
   "execution_count": 9,
   "id": "18b040a9-d923-4ffb-b290-094389d44588",
   "metadata": {
    "scrolled": true
   },
   "outputs": [
    {
     "name": "stdout",
     "output_type": "stream",
     "text": [
      "0.7202983061799935\n",
      "0.6207418622255867\n",
      "0.6335370336600004\n",
      "              precision    recall  f1-score   support\n",
      "\n",
      "         0.0       0.44      0.78      0.56       410\n",
      "         1.0       0.85      0.55      0.67       911\n",
      "\n",
      "    accuracy                           0.62      1321\n",
      "   macro avg       0.64      0.66      0.61      1321\n",
      "weighted avg       0.72      0.62      0.63      1321\n",
      "\n"
     ]
    }
   ],
   "source": [
    "classes, probas = mla.predict_proba(train.drop(columns=cols_to_drop))\n",
    "\n",
    "precision = precision_score(train.target, classes, average='weighted')\n",
    "recall = recall_score(train.target, classes, average='weighted')\n",
    "f1 = f1_score(train.target, classes, average='weighted')\n",
    "\n",
    "print(precision)\n",
    "print(recall)\n",
    "print(f1) \n",
    "\n",
    "# target_names = ['class 0', 'class 1', 'class 2']\n",
    "print(classification_report(train.target, classes))"
   ]
  },
  {
   "cell_type": "markdown",
   "id": "bede6b3f-998d-4554-ba77-039fd3815f91",
   "metadata": {},
   "source": [
    "# Test performance"
   ]
  },
  {
   "cell_type": "code",
   "execution_count": 10,
   "id": "4554a318-f240-4f45-aa26-9f3caf24fe0a",
   "metadata": {},
   "outputs": [
    {
     "name": "stdout",
     "output_type": "stream",
     "text": [
      "0.69697265625\n",
      "0.58125\n",
      "0.5908826825527899\n",
      "              precision    recall  f1-score   support\n",
      "\n",
      "         0.0       0.42      0.78      0.54        51\n",
      "         1.0       0.83      0.49      0.61       109\n",
      "\n",
      "    accuracy                           0.58       160\n",
      "   macro avg       0.62      0.64      0.58       160\n",
      "weighted avg       0.70      0.58      0.59       160\n",
      "\n"
     ]
    }
   ],
   "source": [
    "classes, probas = mla.predict_proba(test.drop(columns=cols_to_drop))\n",
    "\n",
    "precision = precision_score(test.target, classes, average='weighted')\n",
    "recall = recall_score(test.target, classes, average='weighted')\n",
    "f1 = f1_score(test.target, classes, average='weighted')\n",
    "\n",
    "print(precision)\n",
    "print(recall)\n",
    "print(f1) \n",
    "\n",
    "# target_names = ['class 0', 'class 1', 'class 2']\n",
    "print(classification_report(test.target, classes))"
   ]
  },
  {
   "cell_type": "code",
   "execution_count": 45,
   "id": "5f43bec9-18fc-496a-93d7-1ccf00e625fc",
   "metadata": {},
   "outputs": [
    {
     "data": {
      "text/plain": [
       "array([0.56022815, 0.55082354, 0.50557515, 0.55082354, 0.52867405,\n",
       "       0.55082354, 0.4059493 , 0.61017602, 0.4557834 , 0.52179368,\n",
       "       0.4557834 , 0.51165662, 0.4557834 , 0.46706189, 0.4557834 ,\n",
       "       0.44505992, 0.49837506, 0.49837506, 0.52179368, 0.54430971,\n",
       "       0.50237604, 0.4557834 , 0.51165662, 0.49837506, 0.4557834 ,\n",
       "       0.49837506, 0.49837506, 0.49837506, 0.46706189, 0.44721178,\n",
       "       0.44721178, 0.46706189, 0.4557834 , 0.54430971, 0.49837506,\n",
       "       0.47711913, 0.59232572, 0.49837506, 0.47711913, 0.47711913,\n",
       "       0.49837506, 0.52179368, 0.4557834 ])"
      ]
     },
     "execution_count": 45,
     "metadata": {},
     "output_type": "execute_result"
    }
   ],
   "source": [
    "binary_probas = np.where(classes == 0, 1-probas, probas)\n",
    "binary_probas"
   ]
  },
  {
   "cell_type": "code",
   "execution_count": 88,
   "id": "5d6494c9-ced0-4de3-a893-ef689af0bda1",
   "metadata": {},
   "outputs": [
    {
     "name": "stderr",
     "output_type": "stream",
     "text": [
      "C:\\Users\\SaidJ\\AppData\\Local\\Temp\\ipykernel_1672\\669063084.py:1: SettingWithCopyWarning: \n",
      "A value is trying to be set on a copy of a slice from a DataFrame.\n",
      "Try using .loc[row_indexer,col_indexer] = value instead\n",
      "\n",
      "See the caveats in the documentation: https://pandas.pydata.org/pandas-docs/stable/user_guide/indexing.html#returning-a-view-versus-a-copy\n",
      "  test['pred_label'] = np.nan\n",
      "C:\\Users\\SaidJ\\AppData\\Local\\Temp\\ipykernel_1672\\669063084.py:2: SettingWithCopyWarning: \n",
      "A value is trying to be set on a copy of a slice from a DataFrame.\n",
      "Try using .loc[row_indexer,col_indexer] = value instead\n",
      "\n",
      "See the caveats in the documentation: https://pandas.pydata.org/pandas-docs/stable/user_guide/indexing.html#returning-a-view-versus-a-copy\n",
      "  test['proba'] = np.nan\n"
     ]
    }
   ],
   "source": [
    "test['pred_label'] = np.nan\n",
    "test['proba'] = np.nan\n",
    "\n",
    "cols_to_drop += ['pred_label', 'proba']\n",
    "side = (test.side != 0).any()\n",
    "\n",
    "for index, stock in test.iterrows():\n",
    "  \n",
    "  if side:\n",
    "      # Drop the specified columns before prediction\n",
    "      stock_features = stock.drop(labels=cols_to_drop)\n",
    "      \n",
    "      stock_features_df = pd.DataFrame([stock_features])\n",
    "\n",
    "      # Predict the class and probability\n",
    "      _class, proba = mla.predict_proba(stock_features_df)\n",
    "      \n",
    "      # Assign the predicted class and probability to the DataFrame\n",
    "      test.at[index, 'pred_label'] = _class\n",
    "      test.at[index, 'proba'] = proba\n"
   ]
  },
  {
   "cell_type": "code",
   "execution_count": null,
   "id": "03986491-dd69-4960-8a5d-95cdc760fc1a",
   "metadata": {},
   "outputs": [],
   "source": []
  },
  {
   "cell_type": "code",
   "execution_count": 90,
   "id": "6a3528d4-3e42-493e-ba01-d901ab6990e3",
   "metadata": {},
   "outputs": [
    {
     "name": "stdout",
     "output_type": "stream",
     "text": [
      "0.733634797588286\n",
      "0.5813953488372093\n",
      "0.5909504550050556\n",
      "              precision    recall  f1-score   support\n",
      "\n",
      "         0.0       0.41      0.85      0.55        13\n",
      "         1.0       0.88      0.47      0.61        30\n",
      "\n",
      "    accuracy                           0.58        43\n",
      "   macro avg       0.64      0.66      0.58        43\n",
      "weighted avg       0.73      0.58      0.59        43\n",
      "\n"
     ]
    }
   ],
   "source": [
    "precision = precision_score(test.target, test.pred_label, average='weighted')\n",
    "recall = recall_score(test.target, test.pred_label, average='weighted')\n",
    "f1 = f1_score(test.target, test.pred_label, average='weighted')\n",
    "\n",
    "print(precision)\n",
    "print(recall)\n",
    "print(f1) \n",
    "\n",
    "# target_names = ['class 0', 'class 1', 'class 2']\n",
    "print(classification_report(test.target, test.pred_label))"
   ]
  },
  {
   "cell_type": "code",
   "execution_count": null,
   "id": "c96fd2ee-b4a6-432a-aa1f-fdf7c3b95874",
   "metadata": {},
   "outputs": [],
   "source": []
  },
  {
   "cell_type": "code",
   "execution_count": null,
   "id": "f4fd03bf-0a24-4e60-98f6-fae821aa3b07",
   "metadata": {},
   "outputs": [],
   "source": []
  },
  {
   "cell_type": "code",
   "execution_count": null,
   "id": "5dc03747-c4ec-410e-aff8-f2be7542c65d",
   "metadata": {},
   "outputs": [],
   "source": []
  },
  {
   "cell_type": "code",
   "execution_count": 74,
   "id": "2502cc7e-b8c3-4947-90a0-1589ee79bb7d",
   "metadata": {},
   "outputs": [],
   "source": [
    "test_results = {}\n",
    "test_results['EURUSD'] = {}\n",
    "test_results['USDJPY'] = {}\n",
    "test_results['USDCAD'] = {}\n",
    "test_results['EURUSD']['2021-01-01']={}\n",
    "test_results['USDJPY']['2021-01-01']={}\n",
    "test_results['USDCAD']['2021-01-01']={}\n",
    "\n",
    "test_results['EURUSD']['2021-01-02']={}\n",
    "test_results['USDJPY']['2021-01-02']={}\n",
    "test_results['USDCAD']['2021-01-02']={}"
   ]
  },
  {
   "cell_type": "code",
   "execution_count": 75,
   "id": "bcafbca6-d2ef-4745-a204-f0fd697d2365",
   "metadata": {},
   "outputs": [],
   "source": [
    "test_results['EURUSD']['2021-01-01']['y_true'] = 1\n",
    "test_results['EURUSD']['2021-01-01']['y_pred'] = 0\n",
    "test_results['EURUSD']['2021-01-01']['y_proba'] = 0.2\n",
    "\n",
    "test_results['USDJPY']['2021-01-01']['y_true'] = 1\n",
    "test_results['USDJPY']['2021-01-01']['y_pred'] = 0\n",
    "test_results['USDJPY']['2021-01-01']['y_proba'] = 0.2\n",
    "\n",
    "test_results['USDCAD']['2021-01-01']['y_true'] = 1\n",
    "test_results['USDCAD']['2021-01-01']['y_pred'] = 0\n",
    "test_results['USDCAD']['2021-01-01']['y_proba'] = 0.2\n",
    "\n",
    "test_results['EURUSD']['2021-01-02']['y_true'] = 1\n",
    "test_results['EURUSD']['2021-01-02']['y_pred'] = 0\n",
    "test_results['EURUSD']['2021-01-02']['y_proba'] = 0.2\n",
    "\n",
    "test_results['USDJPY']['2021-01-02']['y_true'] = 1\n",
    "test_results['USDJPY']['2021-01-02']['y_pred'] = 0\n",
    "test_results['USDJPY']['2021-01-02']['y_proba'] = 0.2\n",
    "\n",
    "test_results['USDCAD']['2021-01-02']['y_true'] = 1\n",
    "test_results['USDCAD']['2021-01-02']['y_pred'] = 0\n",
    "test_results['USDCAD']['2021-01-02']['y_proba'] = 0.2"
   ]
  },
  {
   "cell_type": "code",
   "execution_count": 76,
   "id": "64c74c35-f431-47b4-a2b3-70557b92cb8a",
   "metadata": {},
   "outputs": [
    {
     "data": {
      "text/plain": [
       "{'EURUSD': {'2021-01-01': {'y_true': 1, 'y_pred': 0, 'y_proba': 0.2},\n",
       "  '2021-01-02': {'y_true': 1, 'y_pred': 0, 'y_proba': 0.2}},\n",
       " 'USDJPY': {'2021-01-01': {'y_true': 1, 'y_pred': 0, 'y_proba': 0.2},\n",
       "  '2021-01-02': {'y_true': 1, 'y_pred': 0, 'y_proba': 0.2}},\n",
       " 'USDCAD': {'2021-01-01': {'y_true': 1, 'y_pred': 0, 'y_proba': 0.2},\n",
       "  '2021-01-02': {'y_true': 1, 'y_pred': 0, 'y_proba': 0.2}}}"
      ]
     },
     "execution_count": 76,
     "metadata": {},
     "output_type": "execute_result"
    }
   ],
   "source": [
    "test_results"
   ]
  },
  {
   "cell_type": "code",
   "execution_count": 77,
   "id": "a681aeb0-494f-46e8-9c51-b6298fcc3b28",
   "metadata": {},
   "outputs": [
    {
     "data": {
      "text/html": [
       "<div>\n",
       "<style scoped>\n",
       "    .dataframe tbody tr th:only-of-type {\n",
       "        vertical-align: middle;\n",
       "    }\n",
       "\n",
       "    .dataframe tbody tr th {\n",
       "        vertical-align: top;\n",
       "    }\n",
       "\n",
       "    .dataframe thead th {\n",
       "        text-align: right;\n",
       "    }\n",
       "</style>\n",
       "<table border=\"1\" class=\"dataframe\">\n",
       "  <thead>\n",
       "    <tr style=\"text-align: right;\">\n",
       "      <th></th>\n",
       "      <th>ticker</th>\n",
       "      <th>date</th>\n",
       "      <th>y_true</th>\n",
       "      <th>y_pred</th>\n",
       "      <th>proba</th>\n",
       "    </tr>\n",
       "  </thead>\n",
       "  <tbody>\n",
       "    <tr>\n",
       "      <th>0</th>\n",
       "      <td>EURUSD</td>\n",
       "      <td>2021-01-01</td>\n",
       "      <td>1</td>\n",
       "      <td>0</td>\n",
       "      <td>0.2</td>\n",
       "    </tr>\n",
       "    <tr>\n",
       "      <th>0</th>\n",
       "      <td>EURUSD</td>\n",
       "      <td>2021-01-02</td>\n",
       "      <td>1</td>\n",
       "      <td>0</td>\n",
       "      <td>0.2</td>\n",
       "    </tr>\n",
       "    <tr>\n",
       "      <th>0</th>\n",
       "      <td>USDJPY</td>\n",
       "      <td>2021-01-01</td>\n",
       "      <td>1</td>\n",
       "      <td>0</td>\n",
       "      <td>0.2</td>\n",
       "    </tr>\n",
       "    <tr>\n",
       "      <th>0</th>\n",
       "      <td>USDJPY</td>\n",
       "      <td>2021-01-02</td>\n",
       "      <td>1</td>\n",
       "      <td>0</td>\n",
       "      <td>0.2</td>\n",
       "    </tr>\n",
       "    <tr>\n",
       "      <th>0</th>\n",
       "      <td>USDCAD</td>\n",
       "      <td>2021-01-01</td>\n",
       "      <td>1</td>\n",
       "      <td>0</td>\n",
       "      <td>0.2</td>\n",
       "    </tr>\n",
       "    <tr>\n",
       "      <th>0</th>\n",
       "      <td>USDCAD</td>\n",
       "      <td>2021-01-02</td>\n",
       "      <td>1</td>\n",
       "      <td>0</td>\n",
       "      <td>0.2</td>\n",
       "    </tr>\n",
       "  </tbody>\n",
       "</table>\n",
       "</div>"
      ],
      "text/plain": [
       "   ticker        date  y_true  y_pred  proba\n",
       "0  EURUSD  2021-01-01       1       0    0.2\n",
       "0  EURUSD  2021-01-02       1       0    0.2\n",
       "0  USDJPY  2021-01-01       1       0    0.2\n",
       "0  USDJPY  2021-01-02       1       0    0.2\n",
       "0  USDCAD  2021-01-01       1       0    0.2\n",
       "0  USDCAD  2021-01-02       1       0    0.2"
      ]
     },
     "execution_count": 77,
     "metadata": {},
     "output_type": "execute_result"
    }
   ],
   "source": [
    "df_results = pd.DataFrame()\n",
    "\n",
    "for ticker, values in test_results.items():\n",
    "    for date, values2 in values.items():\n",
    "        single_line_df = pd.DataFrame(\n",
    "            {\n",
    "                'ticker':[ticker], \n",
    "                'date':[date], \n",
    "                'y_true':values2['y_true'], \n",
    "                'y_pred':values2['y_pred'], \n",
    "                'proba':values2['y_proba'],\n",
    "            }\n",
    "        )\n",
    "\n",
    "        df_results = pd.concat([df_results, single_line_df])\n",
    "\n",
    "df_results\n",
    "           "
   ]
  },
  {
   "cell_type": "code",
   "execution_count": 61,
   "id": "27b252c6-8134-41d6-9379-6f7eb7f617c2",
   "metadata": {
    "scrolled": true
   },
   "outputs": [
    {
     "data": {
      "text/plain": [
       "EURUSD  y_pred   2021-01-01    0.0\n",
       "        y_proba  2021-01-01    0.2\n",
       "        y_true   2021-01-01    1.0\n",
       "USDJPY  y_pred   2021-01-01    0.0\n",
       "        y_proba  2021-01-01    0.2\n",
       "        y_true   2021-01-01    1.0\n",
       "USDCAD  y_pred   2021-01-01    0.0\n",
       "        y_proba  2021-01-01    0.2\n",
       "        y_true   2021-01-01    1.0\n",
       "dtype: float64"
      ]
     },
     "execution_count": 61,
     "metadata": {},
     "output_type": "execute_result"
    }
   ],
   "source": [
    "df"
   ]
  },
  {
   "cell_type": "code",
   "execution_count": 22,
   "id": "ea6ede8e-4275-40d7-adf8-af072f95691d",
   "metadata": {},
   "outputs": [
    {
     "name": "stdout",
     "output_type": "stream",
     "text": [
      "USDCAD\n"
     ]
    },
    {
     "data": {
      "image/png": "[encoded data removed]",
      "text/plain": [
       "<Figure size 2000x1000 with 1 Axes>"
      ]
     },
     "metadata": {},
     "output_type": "display_data"
    },
    {
     "name": "stdin",
     "output_type": "stream",
     "text": [
      " \n"
     ]
    }
   ],
   "source": [
    "import time\n",
    "import matplotlib.pyplot as plt\n",
    "import numpy as np\n",
    "from IPython.display import clear_output\n",
    "\n",
    "df = pd.read_csv('./backbone/data/trading/symbols/dataset.csv')\n",
    "\n",
    "\n",
    "for ticker in df.ticker.unique():\n",
    "    print(ticker)\n",
    "    df_ticker = df[df['ticker']==ticker].tail(48)\n",
    "    fig, ax = plt.subplots(figsize=(20, 10))\n",
    "    \n",
    "    # Datos de ejemplo\n",
    "    x = pd.to_datetime(df_ticker['Date'])\n",
    "    trend = df_ticker['trend']  # Datos para la línea\n",
    "    sma20 = df_ticker['SMA20']  # Datos para la línea\n",
    "    \n",
    "    # Crear una figura y ejes\n",
    "    \n",
    "    # Agregar la línea\n",
    "    ax.plot(x, trend, label='trend')\n",
    "    ax.plot(x, sma20, label='sma20')\n",
    "        \n",
    "    ax.legend()\n",
    "        \n",
    "        # Mostrar el gráfico\n",
    "        # print(path)\n",
    "    plt.show()\n",
    "    a = input()\n",
    "    \n",
    "    clear_output(wait=True)"
   ]
  },
  {
   "cell_type": "code",
   "execution_count": 24,
   "id": "864bec5b-571f-4c8e-8064-4d74c7d80bd2",
   "metadata": {},
   "outputs": [
    {
     "data": {
      "text/html": [
       "<div>\n",
       "<style scoped>\n",
       "    .dataframe tbody tr th:only-of-type {\n",
       "        vertical-align: middle;\n",
       "    }\n",
       "\n",
       "    .dataframe tbody tr th {\n",
       "        vertical-align: top;\n",
       "    }\n",
       "\n",
       "    .dataframe thead th {\n",
       "        text-align: right;\n",
       "    }\n",
       "</style>\n",
       "<table border=\"1\" class=\"dataframe\">\n",
       "  <thead>\n",
       "    <tr style=\"text-align: right;\">\n",
       "      <th></th>\n",
       "      <th>Date</th>\n",
       "      <th>ticker</th>\n",
       "      <th>side</th>\n",
       "    </tr>\n",
       "  </thead>\n",
       "  <tbody>\n",
       "    <tr>\n",
       "      <th>48414</th>\n",
       "      <td>2024-07-03 00:00:00</td>\n",
       "      <td>EURUSD</td>\n",
       "      <td>1.0</td>\n",
       "    </tr>\n",
       "    <tr>\n",
       "      <th>48451</th>\n",
       "      <td>2024-07-03 06:00:00</td>\n",
       "      <td>USDCHF</td>\n",
       "      <td>-1.0</td>\n",
       "    </tr>\n",
       "    <tr>\n",
       "      <th>48517</th>\n",
       "      <td>2024-07-03 17:00:00</td>\n",
       "      <td>USDJPY</td>\n",
       "      <td>-1.0</td>\n",
       "    </tr>\n",
       "    <tr>\n",
       "      <th>48758</th>\n",
       "      <td>2024-07-05 09:00:00</td>\n",
       "      <td>USDCAD</td>\n",
       "      <td>1.0</td>\n",
       "    </tr>\n",
       "    <tr>\n",
       "      <th>48886</th>\n",
       "      <td>2024-07-08 06:00:00</td>\n",
       "      <td>EURUSD</td>\n",
       "      <td>-1.0</td>\n",
       "    </tr>\n",
       "  </tbody>\n",
       "</table>\n",
       "</div>"
      ],
      "text/plain": [
       "                      Date  ticker  side\n",
       "48414  2024-07-03 00:00:00  EURUSD   1.0\n",
       "48451  2024-07-03 06:00:00  USDCHF  -1.0\n",
       "48517  2024-07-03 17:00:00  USDJPY  -1.0\n",
       "48758  2024-07-05 09:00:00  USDCAD   1.0\n",
       "48886  2024-07-08 06:00:00  EURUSD  -1.0"
      ]
     },
     "execution_count": 24,
     "metadata": {},
     "output_type": "execute_result"
    }
   ],
   "source": [
    "df[(df['side']!=0)].tail()[['Date','ticker','side']]"
   ]
  },
  {
   "cell_type": "code",
   "execution_count": null,
   "id": "9729be6b-0075-4edd-81da-2692d4ae7509",
   "metadata": {},
   "outputs": [],
   "source": []
  },
  {
   "cell_type": "code",
   "execution_count": null,
   "id": "575350ec-34b7-4df6-878a-2ebfdd1101fe",
   "metadata": {},
   "outputs": [],
   "source": []
  },
  {
   "cell_type": "code",
   "execution_count": 15,
   "id": "8f079c1f-e58b-4699-9c62-8c04b5e2ece6",
   "metadata": {},
   "outputs": [
    {
     "data": {
      "text/html": [
       "<div>\n",
       "<style scoped>\n",
       "    .dataframe tbody tr th:only-of-type {\n",
       "        vertical-align: middle;\n",
       "    }\n",
       "\n",
       "    .dataframe tbody tr th {\n",
       "        vertical-align: top;\n",
       "    }\n",
       "\n",
       "    .dataframe thead th {\n",
       "        text-align: right;\n",
       "    }\n",
       "</style>\n",
       "<table border=\"1\" class=\"dataframe\">\n",
       "  <thead>\n",
       "    <tr style=\"text-align: right;\">\n",
       "      <th></th>\n",
       "      <th>Date</th>\n",
       "      <th>ticker</th>\n",
       "      <th>side</th>\n",
       "    </tr>\n",
       "  </thead>\n",
       "  <tbody>\n",
       "    <tr>\n",
       "      <th>48498</th>\n",
       "      <td>2024-07-03 17:00:00</td>\n",
       "      <td>USDJPY</td>\n",
       "      <td>-1.0</td>\n",
       "    </tr>\n",
       "    <tr>\n",
       "      <th>48742</th>\n",
       "      <td>2024-07-05 09:00:00</td>\n",
       "      <td>USDCAD</td>\n",
       "      <td>1.0</td>\n",
       "    </tr>\n",
       "    <tr>\n",
       "      <th>48882</th>\n",
       "      <td>2024-07-08 09:00:00</td>\n",
       "      <td>USDJPY</td>\n",
       "      <td>1.0</td>\n",
       "    </tr>\n",
       "    <tr>\n",
       "      <th>48899</th>\n",
       "      <td>2024-07-08 12:00:00</td>\n",
       "      <td>AUDUSD</td>\n",
       "      <td>-1.0</td>\n",
       "    </tr>\n",
       "    <tr>\n",
       "      <th>48913</th>\n",
       "      <td>2024-07-08 14:00:00</td>\n",
       "      <td>USDCAD</td>\n",
       "      <td>-1.0</td>\n",
       "    </tr>\n",
       "  </tbody>\n",
       "</table>\n",
       "</div>"
      ],
      "text/plain": [
       "                      Date  ticker  side\n",
       "48498  2024-07-03 17:00:00  USDJPY  -1.0\n",
       "48742  2024-07-05 09:00:00  USDCAD   1.0\n",
       "48882  2024-07-08 09:00:00  USDJPY   1.0\n",
       "48899  2024-07-08 12:00:00  AUDUSD  -1.0\n",
       "48913  2024-07-08 14:00:00  USDCAD  -1.0"
      ]
     },
     "execution_count": 15,
     "metadata": {},
     "output_type": "execute_result"
    }
   ],
   "source": [
    "df[(df['side']!=0)].tail()[['Date','ticker','side']]"
   ]
  },
  {
   "cell_type": "code",
   "execution_count": null,
   "id": "72f82378-aa3d-4e25-ba40-d04c85d1bc27",
   "metadata": {},
   "outputs": [],
   "source": []
  },
  {
   "cell_type": "code",
   "execution_count": null,
   "id": "18784a76-7879-4020-ab9f-5f53591d1b01",
   "metadata": {},
   "outputs": [],
   "source": [
    "df.side."
   ]
  },
  {
   "cell_type": "code",
   "execution_count": null,
   "id": "e2300acd-a32f-4731-ba50-814817006384",
   "metadata": {},
   "outputs": [],
   "source": []
  },
  {
   "cell_type": "code",
   "execution_count": null,
   "id": "04fe55d2-8e14-4d3a-9e67-221a4af18a05",
   "metadata": {},
   "outputs": [],
   "source": []
  },
  {
   "cell_type": "code",
   "execution_count": null,
   "id": "407585d7-3acb-466e-acf6-72bfdecfd92a",
   "metadata": {},
   "outputs": [],
   "source": []
  },
  {
   "cell_type": "code",
   "execution_count": null,
   "id": "93086c00-bcaa-4fc7-85f3-7968f1d2693a",
   "metadata": {},
   "outputs": [],
   "source": []
  },
  {
   "cell_type": "code",
   "execution_count": null,
   "id": "af1228c1-5c88-4fd5-974e-bae656d335db",
   "metadata": {},
   "outputs": [],
   "source": []
  }
 ],
 "metadata": {
  "kernelspec": {
   "display_name": "Python 3 (ipykernel)",
   "language": "python",
   "name": "python3"
  },
  "language_info": {
   "codemirror_mode": {
    "name": "ipython",
    "version": 3
   },
   "file_extension": ".py",
   "mimetype": "text/x-python",
   "name": "python",
   "nbconvert_exporter": "python",
   "pygments_lexer": "ipython3",
   "version": "3.8.9"
  }
 },
 "nbformat": 4,
 "nbformat_minor": 5
}
