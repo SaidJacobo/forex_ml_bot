{
 "cells": [
  {
   "cell_type": "code",
   "execution_count": 14,
   "metadata": {},
   "outputs": [],
   "source": [
    "import MetaTrader5 as mt5\n",
    "from backbone.utils.general_purpose import calculate_units_size"
   ]
  },
  {
   "cell_type": "code",
   "execution_count": 48,
   "metadata": {},
   "outputs": [
    {
     "data": {
      "text/plain": [
       "SymbolInfo(custom=False, chart_mode=0, select=False, visible=False, session_deals=0, session_buy_orders=0, session_sell_orders=0, volume=0, volumehigh=0, volumelow=0, time=0, digits=2, spread=0, spread_float=True, ticks_bookdepth=0, trade_calc_mode=4, trade_mode=4, start_time=0, expiration_time=0, trade_stops_level=0, trade_freeze_level=0, trade_exemode=2, swap_mode=5, swap_rollover3days=5, margin_hedged_use_leg=False, expiration_mode=15, filling_mode=3, order_mode=127, order_gtc_mode=0, option_mode=0, option_right=0, bid=0.0, bidhigh=0.0, bidlow=0.0, ask=0.0, askhigh=0.0, asklow=0.0, last=0.0, lasthigh=0.0, lastlow=0.0, volume_real=0.0, volumehigh_real=0.0, volumelow_real=0.0, option_strike=0.0, point=0.01, trade_tick_value=0.01, trade_tick_value_profit=0.01, trade_tick_value_loss=0.01, trade_tick_size=0.01, trade_contract_size=1.0, trade_accrued_interest=0.0, trade_face_value=0.0, trade_liquidity_rate=0.0, volume_min=0.01, volume_max=100.0, volume_step=0.01, volume_limit=0.0, swap_long=-30.0, swap_short=-30.0, margin_initial=0.0, margin_maintenance=0.0, session_volume=0.0, session_turnover=0.0, session_interest=0.0, session_buy_orders_volume=0.0, session_sell_orders_volume=0.0, session_open=0.0, session_close=0.0, session_aw=0.0, session_price_settlement=0.0, session_price_limit_min=0.0, session_price_limit_max=0.0, margin_hedged=2.0, price_change=0.0, price_volatility=0.0, price_theoretical=0.0, price_greeks_delta=0.0, price_greeks_theta=0.0, price_greeks_gamma=0.0, price_greeks_vega=0.0, price_greeks_rho=0.0, price_greeks_omega=0.0, price_sensitivity=0.0, basis='', category='', currency_base='USD', currency_profit='USD', currency_margin='USD', bank='', description='Bitcoin vs US Dollar, Spot CFD', exchange='', formula='', isin='', name='BTCUSD', page='', path='Crypto CFD\\\\BTCUSD')"
      ]
     },
     "execution_count": 48,
     "metadata": {},
     "output_type": "execute_result"
    }
   ],
   "source": [
    "mt5.initialize()\n",
    "\n",
    "info = mt5.symbol_info('BTCUSD')\n",
    "info"
   ]
  },
  {
   "cell_type": "code",
   "execution_count": 51,
   "metadata": {},
   "outputs": [
    {
     "data": {
      "text/plain": [
       "5"
      ]
     },
     "execution_count": 51,
     "metadata": {},
     "output_type": "execute_result"
    }
   ],
   "source": [
    "info.swap_mode"
   ]
  },
  {
   "cell_type": "code",
   "execution_count": 16,
   "metadata": {},
   "outputs": [
    {
     "name": "stdout",
     "output_type": "stream",
     "text": [
      "contract_volume:  100000.0\n",
      "minimum_lot:  0.01\n",
      "maximum_lot:  50.0\n",
      "pip_value:  1e-05\n",
      "minimum_units:  1000.0\n",
      "trade_tick_value_loss:  1.0\n",
      "volume_step:  0.01\n"
     ]
    }
   ],
   "source": [
    "contract_volume = info.trade_contract_size\n",
    "minimum_lot = info.volume_min\n",
    "maximum_lot = info.volume_max\n",
    "pip_value = info.trade_tick_size\n",
    "minimum_units = contract_volume * minimum_lot\n",
    "trade_tick_value_loss = info.trade_tick_value_loss\n",
    "volume_step = info.volume_step\n",
    "\n",
    "print('contract_volume: ', contract_volume)\n",
    "print('minimum_lot: ', minimum_lot)\n",
    "print('maximum_lot: ', maximum_lot)\n",
    "print('pip_value: ', pip_value)\n",
    "print('minimum_units: ', minimum_units)\n",
    "print('trade_tick_value_loss: ', trade_tick_value_loss)\n",
    "print('volume_step: ', volume_step)"
   ]
  },
  {
   "cell_type": "code",
   "execution_count": 7,
   "metadata": {},
   "outputs": [
    {
     "name": "stdout",
     "output_type": "stream",
     "text": [
      "pips:  193.00000000000068\n",
      "lots:  1032.0\n"
     ]
    }
   ],
   "source": [
    "from backbone.utils.general_purpose import diff_pips\n",
    "\n",
    "\n",
    "pips = diff_pips(87.07, 89, pip_value=pip_value)\n",
    "\n",
    "print('pips: ', pips)\n",
    "\n",
    "lots = calculate_units_size(\n",
    "    199_274, \n",
    "    1, \n",
    "    pips, \n",
    "    10_000, \n",
    "    1, \n",
    "    True, \n",
    "    contract_volume, \n",
    "    trade_tick_value_loss, \n",
    "    volume_step\n",
    ")\n",
    "\n",
    "print('lots: ', lots)"
   ]
  },
  {
   "cell_type": "code",
   "execution_count": null,
   "metadata": {},
   "outputs": [],
   "source": []
  },
  {
   "cell_type": "code",
   "execution_count": null,
   "metadata": {},
   "outputs": [],
   "source": []
  },
  {
   "cell_type": "code",
   "execution_count": 29,
   "metadata": {},
   "outputs": [
    {
     "name": "stdout",
     "output_type": "stream",
     "text": [
      "duracion promedio:  30.337349397590362\n",
      "duracion desvio:  30.857355926098222\n",
      "mediana duracion:  18.0\n"
     ]
    }
   ],
   "source": [
    "import pandas as pd\n",
    "\n",
    "strategy = 'BPercent'\n",
    "ticker = 'EURUSD'\n",
    "timeframe = '16386'\n",
    "\n",
    "path = f'./backtesting_pipeline/strategies/{strategy}/preliminar_analysis/{ticker}_{timeframe}/trades.csv'\n",
    "trades = pd.read_csv(path)\n",
    "\n",
    "trades['Duration'] = pd.to_timedelta(trades['Duration'])\n",
    "trades['Duration'] = trades['Duration'].dt.total_seconds() // 3600\n",
    "\n",
    "print('duracion promedio: ', trades['Duration'].mean())\n",
    "print('duracion desvio: ', trades['Duration'].std())\n",
    "print('mediana duracion: ', trades['Duration'].median())"
   ]
  },
  {
   "cell_type": "code",
   "execution_count": 32,
   "metadata": {},
   "outputs": [
    {
     "data": {
      "text/plain": [
       "count    166.000000\n",
       "mean       0.303855\n",
       "std        0.111848\n",
       "min        0.120000\n",
       "25%        0.220000\n",
       "50%        0.289990\n",
       "75%        0.360000\n",
       "max        0.680000\n",
       "Name: Size, dtype: float64"
      ]
     },
     "execution_count": 32,
     "metadata": {},
     "output_type": "execute_result"
    }
   ],
   "source": [
    "import numpy as np\n",
    "trades['Size'] = np.abs(trades['Size']) / 100_000\n",
    "trades['Size'].describe()"
   ]
  },
  {
   "cell_type": "code",
   "execution_count": 33,
   "metadata": {},
   "outputs": [
    {
     "data": {
      "text/html": [
       "<div>\n",
       "<style scoped>\n",
       "    .dataframe tbody tr th:only-of-type {\n",
       "        vertical-align: middle;\n",
       "    }\n",
       "\n",
       "    .dataframe tbody tr th {\n",
       "        vertical-align: top;\n",
       "    }\n",
       "\n",
       "    .dataframe thead th {\n",
       "        text-align: right;\n",
       "    }\n",
       "</style>\n",
       "<table border=\"1\" class=\"dataframe\">\n",
       "  <thead>\n",
       "    <tr style=\"text-align: right;\">\n",
       "      <th></th>\n",
       "      <th>Size</th>\n",
       "      <th>EntryBar</th>\n",
       "      <th>ExitBar</th>\n",
       "      <th>EntryPrice</th>\n",
       "      <th>ExitPrice</th>\n",
       "      <th>PnL</th>\n",
       "      <th>ReturnPct</th>\n",
       "      <th>EntryTime</th>\n",
       "      <th>ExitTime</th>\n",
       "      <th>Duration</th>\n",
       "    </tr>\n",
       "  </thead>\n",
       "  <tbody>\n",
       "    <tr>\n",
       "      <th>0</th>\n",
       "      <td>0.27000</td>\n",
       "      <td>311</td>\n",
       "      <td>317</td>\n",
       "      <td>1.205526</td>\n",
       "      <td>1.209156</td>\n",
       "      <td>-98.016149</td>\n",
       "      <td>-0.003011</td>\n",
       "      <td>2021-02-08 22:00:00+00:00</td>\n",
       "      <td>2021-02-09 10:00:00+00:00</td>\n",
       "      <td>12.0</td>\n",
       "    </tr>\n",
       "    <tr>\n",
       "      <th>1</th>\n",
       "      <td>0.28999</td>\n",
       "      <td>380</td>\n",
       "      <td>388</td>\n",
       "      <td>1.210864</td>\n",
       "      <td>1.207449</td>\n",
       "      <td>-99.032623</td>\n",
       "      <td>-0.002820</td>\n",
       "      <td>2021-02-16 16:00:00+00:00</td>\n",
       "      <td>2021-02-17 08:00:00+00:00</td>\n",
       "      <td>16.0</td>\n",
       "    </tr>\n",
       "    <tr>\n",
       "      <th>2</th>\n",
       "      <td>0.19000</td>\n",
       "      <td>474</td>\n",
       "      <td>477</td>\n",
       "      <td>1.212544</td>\n",
       "      <td>1.207470</td>\n",
       "      <td>-96.415686</td>\n",
       "      <td>-0.004185</td>\n",
       "      <td>2021-02-26 12:00:00+00:00</td>\n",
       "      <td>2021-02-26 18:00:00+00:00</td>\n",
       "      <td>6.0</td>\n",
       "    </tr>\n",
       "    <tr>\n",
       "      <th>3</th>\n",
       "      <td>0.26000</td>\n",
       "      <td>581</td>\n",
       "      <td>585</td>\n",
       "      <td>1.193796</td>\n",
       "      <td>1.197544</td>\n",
       "      <td>-97.453465</td>\n",
       "      <td>-0.003140</td>\n",
       "      <td>2021-03-11 10:00:00+00:00</td>\n",
       "      <td>2021-03-11 18:00:00+00:00</td>\n",
       "      <td>8.0</td>\n",
       "    </tr>\n",
       "    <tr>\n",
       "      <th>4</th>\n",
       "      <td>0.22000</td>\n",
       "      <td>586</td>\n",
       "      <td>605</td>\n",
       "      <td>1.197196</td>\n",
       "      <td>1.192010</td>\n",
       "      <td>114.093223</td>\n",
       "      <td>0.004332</td>\n",
       "      <td>2021-03-11 20:00:00+00:00</td>\n",
       "      <td>2021-03-15 10:00:00+00:00</td>\n",
       "      <td>86.0</td>\n",
       "    </tr>\n",
       "    <tr>\n",
       "      <th>...</th>\n",
       "      <td>...</td>\n",
       "      <td>...</td>\n",
       "      <td>...</td>\n",
       "      <td>...</td>\n",
       "      <td>...</td>\n",
       "      <td>...</td>\n",
       "      <td>...</td>\n",
       "      <td>...</td>\n",
       "      <td>...</td>\n",
       "      <td>...</td>\n",
       "    </tr>\n",
       "    <tr>\n",
       "      <th>161</th>\n",
       "      <td>0.25000</td>\n",
       "      <td>11673</td>\n",
       "      <td>11681</td>\n",
       "      <td>1.113252</td>\n",
       "      <td>1.108205</td>\n",
       "      <td>-126.180473</td>\n",
       "      <td>-0.004534</td>\n",
       "      <td>2024-09-30 22:00:00+00:00</td>\n",
       "      <td>2024-10-01 14:00:00+00:00</td>\n",
       "      <td>16.0</td>\n",
       "    </tr>\n",
       "    <tr>\n",
       "      <th>162</th>\n",
       "      <td>0.52000</td>\n",
       "      <td>11898</td>\n",
       "      <td>11900</td>\n",
       "      <td>1.083818</td>\n",
       "      <td>1.080510</td>\n",
       "      <td>172.032806</td>\n",
       "      <td>0.003052</td>\n",
       "      <td>2024-10-25 16:00:00+00:00</td>\n",
       "      <td>2024-10-25 20:00:00+00:00</td>\n",
       "      <td>4.0</td>\n",
       "    </tr>\n",
       "    <tr>\n",
       "      <th>163</th>\n",
       "      <td>0.48000</td>\n",
       "      <td>11911</td>\n",
       "      <td>11922</td>\n",
       "      <td>1.082388</td>\n",
       "      <td>1.077740</td>\n",
       "      <td>223.120886</td>\n",
       "      <td>0.004295</td>\n",
       "      <td>2024-10-28 18:00:00+00:00</td>\n",
       "      <td>2024-10-29 16:00:00+00:00</td>\n",
       "      <td>22.0</td>\n",
       "    </tr>\n",
       "    <tr>\n",
       "      <th>164</th>\n",
       "      <td>0.44000</td>\n",
       "      <td>11932</td>\n",
       "      <td>11935</td>\n",
       "      <td>1.083448</td>\n",
       "      <td>1.086378</td>\n",
       "      <td>-128.891112</td>\n",
       "      <td>-0.002704</td>\n",
       "      <td>2024-10-30 12:00:00+00:00</td>\n",
       "      <td>2024-10-30 18:00:00+00:00</td>\n",
       "      <td>6.0</td>\n",
       "    </tr>\n",
       "    <tr>\n",
       "      <th>165</th>\n",
       "      <td>0.33000</td>\n",
       "      <td>11936</td>\n",
       "      <td>11950</td>\n",
       "      <td>1.086088</td>\n",
       "      <td>1.088390</td>\n",
       "      <td>-75.956833</td>\n",
       "      <td>-0.002119</td>\n",
       "      <td>2024-10-30 20:00:00+00:00</td>\n",
       "      <td>2024-11-01 00:00:00+00:00</td>\n",
       "      <td>28.0</td>\n",
       "    </tr>\n",
       "  </tbody>\n",
       "</table>\n",
       "<p>166 rows × 10 columns</p>\n",
       "</div>"
      ],
      "text/plain": [
       "        Size  EntryBar  ExitBar  EntryPrice  ExitPrice         PnL  ReturnPct  \\\n",
       "0    0.27000       311      317    1.205526   1.209156  -98.016149  -0.003011   \n",
       "1    0.28999       380      388    1.210864   1.207449  -99.032623  -0.002820   \n",
       "2    0.19000       474      477    1.212544   1.207470  -96.415686  -0.004185   \n",
       "3    0.26000       581      585    1.193796   1.197544  -97.453465  -0.003140   \n",
       "4    0.22000       586      605    1.197196   1.192010  114.093223   0.004332   \n",
       "..       ...       ...      ...         ...        ...         ...        ...   \n",
       "161  0.25000     11673    11681    1.113252   1.108205 -126.180473  -0.004534   \n",
       "162  0.52000     11898    11900    1.083818   1.080510  172.032806   0.003052   \n",
       "163  0.48000     11911    11922    1.082388   1.077740  223.120886   0.004295   \n",
       "164  0.44000     11932    11935    1.083448   1.086378 -128.891112  -0.002704   \n",
       "165  0.33000     11936    11950    1.086088   1.088390  -75.956833  -0.002119   \n",
       "\n",
       "                     EntryTime                   ExitTime  Duration  \n",
       "0    2021-02-08 22:00:00+00:00  2021-02-09 10:00:00+00:00      12.0  \n",
       "1    2021-02-16 16:00:00+00:00  2021-02-17 08:00:00+00:00      16.0  \n",
       "2    2021-02-26 12:00:00+00:00  2021-02-26 18:00:00+00:00       6.0  \n",
       "3    2021-03-11 10:00:00+00:00  2021-03-11 18:00:00+00:00       8.0  \n",
       "4    2021-03-11 20:00:00+00:00  2021-03-15 10:00:00+00:00      86.0  \n",
       "..                         ...                        ...       ...  \n",
       "161  2024-09-30 22:00:00+00:00  2024-10-01 14:00:00+00:00      16.0  \n",
       "162  2024-10-25 16:00:00+00:00  2024-10-25 20:00:00+00:00       4.0  \n",
       "163  2024-10-28 18:00:00+00:00  2024-10-29 16:00:00+00:00      22.0  \n",
       "164  2024-10-30 12:00:00+00:00  2024-10-30 18:00:00+00:00       6.0  \n",
       "165  2024-10-30 20:00:00+00:00  2024-11-01 00:00:00+00:00      28.0  \n",
       "\n",
       "[166 rows x 10 columns]"
      ]
     },
     "execution_count": 33,
     "metadata": {},
     "output_type": "execute_result"
    }
   ],
   "source": [
    "trades"
   ]
  },
  {
   "cell_type": "code",
   "execution_count": 47,
   "metadata": {},
   "outputs": [
    {
     "data": {
      "text/plain": [
       "1e-05"
      ]
     },
     "execution_count": 47,
     "metadata": {},
     "output_type": "execute_result"
    }
   ],
   "source": []
  }
 ],
 "metadata": {
  "kernelspec": {
   "display_name": "mtvenv",
   "language": "python",
   "name": "python3"
  },
  "language_info": {
   "codemirror_mode": {
    "name": "ipython",
    "version": 3
   },
   "file_extension": ".py",
   "mimetype": "text/x-python",
   "name": "python",
   "nbconvert_exporter": "python",
   "pygments_lexer": "ipython3",
   "version": "3.8.9"
  }
 },
 "nbformat": 4,
 "nbformat_minor": 2
}
