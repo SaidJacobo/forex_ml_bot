{
 "cells": [
  {
   "cell_type": "code",
   "execution_count": 1,
   "id": "380dcb0a-74b3-4f83-a62e-fa5287b8c847",
   "metadata": {},
   "outputs": [],
   "source": [
    "import numpy as np\n",
    "from sklearn.metrics import f1_score, make_scorer, precision_score, recall_score\n",
    "from sklearn.linear_model import LogisticRegression\n",
    "from xgboost import XGBClassifier\n",
    "from backbone.probability_transformer import ProbabilityTransformer \n",
    "import pandas as pd\n",
    "from sklearn.pipeline import Pipeline\n",
    "from sklearn.model_selection import GridSearchCV, StratifiedKFold\n",
    "from sklearn.metrics import make_scorer, f1_score, roc_auc_score\n",
    "from sklearn.preprocessing import StandardScaler\n",
    "from backbone.utils import load_function\n",
    "from typing import Tuple\n",
    "import yaml\n",
    "from sklearn.metrics import classification_report\n",
    "from datetime import datetime, timedelta"
   ]
  },
  {
   "cell_type": "code",
   "execution_count": 2,
   "id": "3a6c7f86-0376-4e63-ae59-42f2b30be587",
   "metadata": {},
   "outputs": [
    {
     "name": "stdout",
     "output_type": "stream",
     "text": [
      "Creando target\n",
      "Creando target\n",
      "Creando target\n",
      "Creando target\n",
      "Creando target\n",
      "Creando target\n"
     ]
    }
   ],
   "source": [
    "import pandas as pd\n",
    "import os\n",
    "pd.set_option('display.max_columns', None)\n",
    "\n",
    "periods_forward = 10\n",
    "\n",
    "tickers = ['EURUSD', 'GBPUSD', 'USDJPY', 'USDCAD', 'AUDUSD', 'USDCHF']\n",
    "symbols_path = './backbone/data/backtest/symbols'\n",
    "instruments = {}\n",
    "df = pd.DataFrame()\n",
    "\n",
    "for ticker in tickers:\n",
    "    instruments[ticker] = pd.read_csv(os.path.join(symbols_path, f'{ticker}.csv'))\n",
    "  \n",
    "    instruments[ticker]['ticker'] = ticker\n",
    "  \n",
    "    print('Creando target')\n",
    "    instruments[ticker] = instruments[ticker].sort_values(by='Date')\n",
    "    instruments[ticker]['target'] = ((instruments[ticker]['Close'].shift(-periods_forward) - instruments[ticker]['Close']) / instruments[ticker]['Close']) * 100\n",
    "    \n",
    "    cut_right = round(instruments[ticker]['target'].mean() + 1 * instruments[ticker]['target'].std(), 2)\n",
    "    cut_left = round(instruments[ticker]['target'].mean() - 1 * instruments[ticker]['target'].std(), 2)\n",
    "    \n",
    "    bins = [-100000, cut_left, cut_right, 100000]\n",
    "    labels = [0, 1, 2]\n",
    "\n",
    "    instruments[ticker]['target'] = pd.cut(instruments[ticker]['target'], bins, labels=labels)\n",
    "    \n",
    "    df = pd.concat([\n",
    "        df,\n",
    "        instruments[ticker]\n",
    "    ])\n",
    "\n",
    "    df['Date'] = pd.to_datetime(df['Date'], format='%Y-%m-%d %H:00:00')\n",
    "\n",
    "    df = df.sort_values(by='Date')"
   ]
  },
  {
   "cell_type": "code",
   "execution_count": 8,
   "id": "b65dc927-a79f-4d9e-9467-cf42235225f0",
   "metadata": {},
   "outputs": [],
   "source": [
    "import talib"
   ]
  },
  {
   "cell_type": "code",
   "execution_count": 15,
   "id": "33a16634-d121-4cc1-ad17-05738fa63faf",
   "metadata": {},
   "outputs": [
    {
     "data": {
      "text/plain": [
       " 0      41744\n",
       " 100      238\n",
       "-100      203\n",
       "Name: count, dtype: int64"
      ]
     },
     "execution_count": 15,
     "metadata": {},
     "output_type": "execute_result"
    }
   ],
   "source": [
    "integer = talib.CDLCLOSINGMARUBOZU(df.Open, df.High, df.Low, df.Close)\n",
    "integer.value_counts()"
   ]
  },
  {
   "cell_type": "code",
   "execution_count": 16,
   "id": "1f3f7671-04a0-4ddd-903e-9f0c4be6b7e0",
   "metadata": {},
   "outputs": [
    {
     "data": {
      "text/plain": [
       "100    34488\n",
       "0       7697\n",
       "Name: count, dtype: int64"
      ]
     },
     "execution_count": 16,
     "metadata": {},
     "output_type": "execute_result"
    }
   ],
   "source": [
    "integer = talib.CDLDOJI(df.Open, df.High, df.Low, df.Close)\n",
    "integer.value_counts()"
   ]
  },
  {
   "cell_type": "code",
   "execution_count": 17,
   "id": "2ac825cc-ce1e-4596-bbfd-f71060917ac6",
   "metadata": {},
   "outputs": [
    {
     "data": {
      "text/plain": [
       " 0      39135\n",
       " 100     3022\n",
       "-100       28\n",
       "Name: count, dtype: int64"
      ]
     },
     "execution_count": 17,
     "metadata": {},
     "output_type": "execute_result"
    }
   ],
   "source": [
    "integer = talib.CDLDOJISTAR (df.Open, df.High, df.Low, df.Close)\n",
    "integer.value_counts()"
   ]
  },
  {
   "cell_type": "code",
   "execution_count": 18,
   "id": "a9d56ca0-685b-4728-8f18-9ea772ea6c46",
   "metadata": {},
   "outputs": [
    {
     "data": {
      "text/plain": [
       " 0      42077\n",
       "-100       57\n",
       " 100       51\n",
       "Name: count, dtype: int64"
      ]
     },
     "execution_count": 18,
     "metadata": {},
     "output_type": "execute_result"
    }
   ],
   "source": [
    "integer = talib.CDLENGULFING  (df.Open, df.High, df.Low, df.Close)\n",
    "integer.value_counts()"
   ]
  },
  {
   "cell_type": "code",
   "execution_count": null,
   "id": "f6b7a521-0668-46f8-899f-37fba23e8d92",
   "metadata": {},
   "outputs": [],
   "source": []
  },
  {
   "cell_type": "code",
   "execution_count": null,
   "id": "88fd10aa-64ca-46d7-85f7-4e45eecf8bbd",
   "metadata": {},
   "outputs": [],
   "source": []
  },
  {
   "cell_type": "code",
   "execution_count": 3,
   "id": "11a3a322-05e6-4f04-b6a7-5c0cb1fec910",
   "metadata": {},
   "outputs": [
    {
     "name": "stdout",
     "output_type": "stream",
     "text": [
      "1838   2023-03-01 14:00:00\n",
      "Name: Date, dtype: datetime64[ns]\n",
      "2853   2023-04-28 23:00:00\n",
      "Name: Date, dtype: datetime64[ns]\n",
      "------------------------\n",
      "2855   2023-05-01 01:00:00\n",
      "Name: Date, dtype: datetime64[ns]\n",
      "2901   2023-05-02 23:00:00\n",
      "Name: Date, dtype: datetime64[ns]\n"
     ]
    },
    {
     "data": {
      "text/plain": [
       "target\n",
       "0    785\n",
       "1    777\n",
       "2    770\n",
       "Name: count, dtype: int64"
      ]
     },
     "execution_count": 3,
     "metadata": {},
     "output_type": "execute_result"
    }
   ],
   "source": [
    "date_format = '%Y-%m-%d %H:00:00'\n",
    "window = 1440\n",
    "\n",
    "actual_date = datetime(2023,5,1,0,0,0)\n",
    "\n",
    "date_to = actual_date - timedelta(hours=periods_forward+1) \n",
    "date_from = date_to - timedelta(hours=window)\n",
    "\n",
    "date_from_test = actual_date\n",
    "date_to_test = date_from_test + timedelta(hours=48)\n",
    "\n",
    "date_from_str = date_from.strftime(date_format)\n",
    "date_to_str = date_to.strftime(date_format)\n",
    "date_from_test_str = date_from_test.strftime(date_format)\n",
    "date_to_test_str = date_to_test.strftime(date_format)\n",
    "\n",
    "\n",
    "train = df[(df['Date']>date_from_str) & (df['Date']<date_to_str)]\n",
    "test = df[(df['Date']>date_from_test_str) & (df['Date']<date_to_test_str)]\n",
    "\n",
    "# Inicio undersampling\n",
    "class_0 = train[train['target']==0]\n",
    "class_2 = train[train['target']==2]\n",
    "avg_examples = (class_0.shape[0] + class_2.shape[0]) / 2\n",
    "class_1 = train[train['target']==1].tail(int(avg_examples)).sample(frac=1)\n",
    "\n",
    "train = pd.concat([class_0, class_1, class_2])\n",
    "# fin undersampling\n",
    "\n",
    "print(train.Date.head(1))\n",
    "print(train.Date.tail(1))\n",
    "print('------------------------')\n",
    "print(test.Date.head(1))\n",
    "print(test.Date.tail(1))\n",
    "\n",
    "train.target.value_counts()"
   ]
  },
  {
   "cell_type": "code",
   "execution_count": 4,
   "id": "1f69d55c-5d68-4bab-b6b6-725d3d5011bd",
   "metadata": {},
   "outputs": [
    {
     "data": {
      "text/html": [
       "<style>#sk-container-id-1 {color: black;}#sk-container-id-1 pre{padding: 0;}#sk-container-id-1 div.sk-toggleable {background-color: white;}#sk-container-id-1 label.sk-toggleable__label {cursor: pointer;display: block;width: 100%;margin-bottom: 0;padding: 0.3em;box-sizing: border-box;text-align: center;}#sk-container-id-1 label.sk-toggleable__label-arrow:before {content: \"▸\";float: left;margin-right: 0.25em;color: #696969;}#sk-container-id-1 label.sk-toggleable__label-arrow:hover:before {color: black;}#sk-container-id-1 div.sk-estimator:hover label.sk-toggleable__label-arrow:before {color: black;}#sk-container-id-1 div.sk-toggleable__content {max-height: 0;max-width: 0;overflow: hidden;text-align: left;background-color: #f0f8ff;}#sk-container-id-1 div.sk-toggleable__content pre {margin: 0.2em;color: black;border-radius: 0.25em;background-color: #f0f8ff;}#sk-container-id-1 input.sk-toggleable__control:checked~div.sk-toggleable__content {max-height: 200px;max-width: 100%;overflow: auto;}#sk-container-id-1 input.sk-toggleable__control:checked~label.sk-toggleable__label-arrow:before {content: \"▾\";}#sk-container-id-1 div.sk-estimator input.sk-toggleable__control:checked~label.sk-toggleable__label {background-color: #d4ebff;}#sk-container-id-1 div.sk-label input.sk-toggleable__control:checked~label.sk-toggleable__label {background-color: #d4ebff;}#sk-container-id-1 input.sk-hidden--visually {border: 0;clip: rect(1px 1px 1px 1px);clip: rect(1px, 1px, 1px, 1px);height: 1px;margin: -1px;overflow: hidden;padding: 0;position: absolute;width: 1px;}#sk-container-id-1 div.sk-estimator {font-family: monospace;background-color: #f0f8ff;border: 1px dotted black;border-radius: 0.25em;box-sizing: border-box;margin-bottom: 0.5em;}#sk-container-id-1 div.sk-estimator:hover {background-color: #d4ebff;}#sk-container-id-1 div.sk-parallel-item::after {content: \"\";width: 100%;border-bottom: 1px solid gray;flex-grow: 1;}#sk-container-id-1 div.sk-label:hover label.sk-toggleable__label {background-color: #d4ebff;}#sk-container-id-1 div.sk-serial::before {content: \"\";position: absolute;border-left: 1px solid gray;box-sizing: border-box;top: 0;bottom: 0;left: 50%;z-index: 0;}#sk-container-id-1 div.sk-serial {display: flex;flex-direction: column;align-items: center;background-color: white;padding-right: 0.2em;padding-left: 0.2em;position: relative;}#sk-container-id-1 div.sk-item {position: relative;z-index: 1;}#sk-container-id-1 div.sk-parallel {display: flex;align-items: stretch;justify-content: center;background-color: white;position: relative;}#sk-container-id-1 div.sk-item::before, #sk-container-id-1 div.sk-parallel-item::before {content: \"\";position: absolute;border-left: 1px solid gray;box-sizing: border-box;top: 0;bottom: 0;left: 50%;z-index: -1;}#sk-container-id-1 div.sk-parallel-item {display: flex;flex-direction: column;z-index: 1;position: relative;background-color: white;}#sk-container-id-1 div.sk-parallel-item:first-child::after {align-self: flex-end;width: 50%;}#sk-container-id-1 div.sk-parallel-item:last-child::after {align-self: flex-start;width: 50%;}#sk-container-id-1 div.sk-parallel-item:only-child::after {width: 0;}#sk-container-id-1 div.sk-dashed-wrapped {border: 1px dashed gray;margin: 0 0.4em 0.5em 0.4em;box-sizing: border-box;padding-bottom: 0.4em;background-color: white;}#sk-container-id-1 div.sk-label label {font-family: monospace;font-weight: bold;display: inline-block;line-height: 1.2em;}#sk-container-id-1 div.sk-label-container {text-align: center;}#sk-container-id-1 div.sk-container {/* jupyter's `normalize.less` sets `[hidden] { display: none; }` but bootstrap.min.css set `[hidden] { display: none !important; }` so we also need the `!important` here to be able to override the default hidden behavior on the sphinx rendered scikit-learn.org. See: https://github.com/scikit-learn/scikit-learn/issues/21755 */display: inline-block !important;position: relative;}#sk-container-id-1 div.sk-text-repr-fallback {display: none;}</style><div id=\"sk-container-id-1\" class=\"sk-top-container\"><div class=\"sk-text-repr-fallback\"><pre>GridSearchCV(cv=StratifiedKFold(n_splits=5, random_state=42, shuffle=True),\n",
       "             estimator=Pipeline(steps=[(&#x27;scaler&#x27;, StandardScaler()),\n",
       "                                       (&#x27;prob_transf&#x27;,\n",
       "                                        ProbabilityTransformer(model=XGBClassifier(base_score=None,\n",
       "                                                                                   booster=None,\n",
       "                                                                                   callbacks=None,\n",
       "                                                                                   colsample_bylevel=None,\n",
       "                                                                                   colsample_bynode=None,\n",
       "                                                                                   colsample_bytree=None,\n",
       "                                                                                   device=None,\n",
       "                                                                                   early_stopping_rounds=None,\n",
       "                                                                                   enable_categori...\n",
       "                                        LogisticRegression(max_iter=1000,\n",
       "                                                           multi_class=&#x27;multinomial&#x27;))]),\n",
       "             n_jobs=-1,\n",
       "             param_grid={&#x27;prob_transf__model__learning_rate&#x27;: [0.05, 0.01, 0.1],\n",
       "                         &#x27;prob_transf__model__max_depth&#x27;: [2, 5, 8],\n",
       "                         &#x27;prob_transf__model__n_estimators&#x27;: [5, 8],\n",
       "                         &#x27;prob_transf__model__objective&#x27;: [&#x27;multi:softprob&#x27;],\n",
       "                         &#x27;prob_transf__model__random_state&#x27;: [42]},\n",
       "             scoring=make_scorer(precision_score, average=weighted))</pre><b>In a Jupyter environment, please rerun this cell to show the HTML representation or trust the notebook. <br />On GitHub, the HTML representation is unable to render, please try loading this page with nbviewer.org.</b></div><div class=\"sk-container\" hidden><div class=\"sk-item sk-dashed-wrapped\"><div class=\"sk-label-container\"><div class=\"sk-label sk-toggleable\"><input class=\"sk-toggleable__control sk-hidden--visually\" id=\"sk-estimator-id-1\" type=\"checkbox\" ><label for=\"sk-estimator-id-1\" class=\"sk-toggleable__label sk-toggleable__label-arrow\">GridSearchCV</label><div class=\"sk-toggleable__content\"><pre>GridSearchCV(cv=StratifiedKFold(n_splits=5, random_state=42, shuffle=True),\n",
       "             estimator=Pipeline(steps=[(&#x27;scaler&#x27;, StandardScaler()),\n",
       "                                       (&#x27;prob_transf&#x27;,\n",
       "                                        ProbabilityTransformer(model=XGBClassifier(base_score=None,\n",
       "                                                                                   booster=None,\n",
       "                                                                                   callbacks=None,\n",
       "                                                                                   colsample_bylevel=None,\n",
       "                                                                                   colsample_bynode=None,\n",
       "                                                                                   colsample_bytree=None,\n",
       "                                                                                   device=None,\n",
       "                                                                                   early_stopping_rounds=None,\n",
       "                                                                                   enable_categori...\n",
       "                                        LogisticRegression(max_iter=1000,\n",
       "                                                           multi_class=&#x27;multinomial&#x27;))]),\n",
       "             n_jobs=-1,\n",
       "             param_grid={&#x27;prob_transf__model__learning_rate&#x27;: [0.05, 0.01, 0.1],\n",
       "                         &#x27;prob_transf__model__max_depth&#x27;: [2, 5, 8],\n",
       "                         &#x27;prob_transf__model__n_estimators&#x27;: [5, 8],\n",
       "                         &#x27;prob_transf__model__objective&#x27;: [&#x27;multi:softprob&#x27;],\n",
       "                         &#x27;prob_transf__model__random_state&#x27;: [42]},\n",
       "             scoring=make_scorer(precision_score, average=weighted))</pre></div></div></div><div class=\"sk-parallel\"><div class=\"sk-parallel-item\"><div class=\"sk-item\"><div class=\"sk-label-container\"><div class=\"sk-label sk-toggleable\"><input class=\"sk-toggleable__control sk-hidden--visually\" id=\"sk-estimator-id-2\" type=\"checkbox\" ><label for=\"sk-estimator-id-2\" class=\"sk-toggleable__label sk-toggleable__label-arrow\">estimator: Pipeline</label><div class=\"sk-toggleable__content\"><pre>Pipeline(steps=[(&#x27;scaler&#x27;, StandardScaler()),\n",
       "                (&#x27;prob_transf&#x27;,\n",
       "                 ProbabilityTransformer(model=XGBClassifier(base_score=None,\n",
       "                                                            booster=None,\n",
       "                                                            callbacks=None,\n",
       "                                                            colsample_bylevel=None,\n",
       "                                                            colsample_bynode=None,\n",
       "                                                            colsample_bytree=None,\n",
       "                                                            device=None,\n",
       "                                                            early_stopping_rounds=None,\n",
       "                                                            enable_categorical=False,\n",
       "                                                            eval_metric=None,\n",
       "                                                            feature_types=None,\n",
       "                                                            gamma=None,\n",
       "                                                            grow_policy=None,\n",
       "                                                            importanc...\n",
       "                                                            learning_rate=None,\n",
       "                                                            max_bin=None,\n",
       "                                                            max_cat_threshold=None,\n",
       "                                                            max_cat_to_onehot=None,\n",
       "                                                            max_delta_step=None,\n",
       "                                                            max_depth=None,\n",
       "                                                            max_leaves=None,\n",
       "                                                            min_child_weight=None,\n",
       "                                                            missing=nan,\n",
       "                                                            monotone_constraints=None,\n",
       "                                                            multi_strategy=None,\n",
       "                                                            n_estimators=None,\n",
       "                                                            n_jobs=None,\n",
       "                                                            num_parallel_tree=None,\n",
       "                                                            random_state=None, ...))),\n",
       "                (&#x27;log_reg&#x27;,\n",
       "                 LogisticRegression(max_iter=1000, multi_class=&#x27;multinomial&#x27;))])</pre></div></div></div><div class=\"sk-serial\"><div class=\"sk-item\"><div class=\"sk-serial\"><div class=\"sk-item\"><div class=\"sk-estimator sk-toggleable\"><input class=\"sk-toggleable__control sk-hidden--visually\" id=\"sk-estimator-id-3\" type=\"checkbox\" ><label for=\"sk-estimator-id-3\" class=\"sk-toggleable__label sk-toggleable__label-arrow\">StandardScaler</label><div class=\"sk-toggleable__content\"><pre>StandardScaler()</pre></div></div></div><div class=\"sk-item sk-dashed-wrapped\"><div class=\"sk-label-container\"><div class=\"sk-label sk-toggleable\"><input class=\"sk-toggleable__control sk-hidden--visually\" id=\"sk-estimator-id-4\" type=\"checkbox\" ><label for=\"sk-estimator-id-4\" class=\"sk-toggleable__label sk-toggleable__label-arrow\">prob_transf: ProbabilityTransformer</label><div class=\"sk-toggleable__content\"><pre>ProbabilityTransformer(model=XGBClassifier(base_score=None, booster=None,\n",
       "                                           callbacks=None,\n",
       "                                           colsample_bylevel=None,\n",
       "                                           colsample_bynode=None,\n",
       "                                           colsample_bytree=None, device=None,\n",
       "                                           early_stopping_rounds=None,\n",
       "                                           enable_categorical=False,\n",
       "                                           eval_metric=None, feature_types=None,\n",
       "                                           gamma=None, grow_policy=None,\n",
       "                                           importance_type=None,\n",
       "                                           interaction_constraints=None,\n",
       "                                           learning_rate=None, max_bin=None,\n",
       "                                           max_cat_threshold=None,\n",
       "                                           max_cat_to_onehot=None,\n",
       "                                           max_delta_step=None, max_depth=None,\n",
       "                                           max_leaves=None,\n",
       "                                           min_child_weight=None, missing=nan,\n",
       "                                           monotone_constraints=None,\n",
       "                                           multi_strategy=None,\n",
       "                                           n_estimators=None, n_jobs=None,\n",
       "                                           num_parallel_tree=None,\n",
       "                                           random_state=None, ...))</pre></div></div></div><div class=\"sk-parallel\"><div class=\"sk-parallel-item\"><div class=\"sk-item\"><div class=\"sk-label-container\"><div class=\"sk-label sk-toggleable\"><input class=\"sk-toggleable__control sk-hidden--visually\" id=\"sk-estimator-id-5\" type=\"checkbox\" ><label for=\"sk-estimator-id-5\" class=\"sk-toggleable__label sk-toggleable__label-arrow\">model: XGBClassifier</label><div class=\"sk-toggleable__content\"><pre>XGBClassifier(base_score=None, booster=None, callbacks=None,\n",
       "              colsample_bylevel=None, colsample_bynode=None,\n",
       "              colsample_bytree=None, device=None, early_stopping_rounds=None,\n",
       "              enable_categorical=False, eval_metric=None, feature_types=None,\n",
       "              gamma=None, grow_policy=None, importance_type=None,\n",
       "              interaction_constraints=None, learning_rate=None, max_bin=None,\n",
       "              max_cat_threshold=None, max_cat_to_onehot=None,\n",
       "              max_delta_step=None, max_depth=None, max_leaves=None,\n",
       "              min_child_weight=None, missing=nan, monotone_constraints=None,\n",
       "              multi_strategy=None, n_estimators=None, n_jobs=None,\n",
       "              num_parallel_tree=None, random_state=None, ...)</pre></div></div></div><div class=\"sk-serial\"><div class=\"sk-item\"><div class=\"sk-estimator sk-toggleable\"><input class=\"sk-toggleable__control sk-hidden--visually\" id=\"sk-estimator-id-6\" type=\"checkbox\" ><label for=\"sk-estimator-id-6\" class=\"sk-toggleable__label sk-toggleable__label-arrow\">XGBClassifier</label><div class=\"sk-toggleable__content\"><pre>XGBClassifier(base_score=None, booster=None, callbacks=None,\n",
       "              colsample_bylevel=None, colsample_bynode=None,\n",
       "              colsample_bytree=None, device=None, early_stopping_rounds=None,\n",
       "              enable_categorical=False, eval_metric=None, feature_types=None,\n",
       "              gamma=None, grow_policy=None, importance_type=None,\n",
       "              interaction_constraints=None, learning_rate=None, max_bin=None,\n",
       "              max_cat_threshold=None, max_cat_to_onehot=None,\n",
       "              max_delta_step=None, max_depth=None, max_leaves=None,\n",
       "              min_child_weight=None, missing=nan, monotone_constraints=None,\n",
       "              multi_strategy=None, n_estimators=None, n_jobs=None,\n",
       "              num_parallel_tree=None, random_state=None, ...)</pre></div></div></div></div></div></div></div></div><div class=\"sk-item\"><div class=\"sk-estimator sk-toggleable\"><input class=\"sk-toggleable__control sk-hidden--visually\" id=\"sk-estimator-id-7\" type=\"checkbox\" ><label for=\"sk-estimator-id-7\" class=\"sk-toggleable__label sk-toggleable__label-arrow\">LogisticRegression</label><div class=\"sk-toggleable__content\"><pre>LogisticRegression(max_iter=1000, multi_class=&#x27;multinomial&#x27;)</pre></div></div></div></div></div></div></div></div></div></div></div></div>"
      ],
      "text/plain": [
       "GridSearchCV(cv=StratifiedKFold(n_splits=5, random_state=42, shuffle=True),\n",
       "             estimator=Pipeline(steps=[('scaler', StandardScaler()),\n",
       "                                       ('prob_transf',\n",
       "                                        ProbabilityTransformer(model=XGBClassifier(base_score=None,\n",
       "                                                                                   booster=None,\n",
       "                                                                                   callbacks=None,\n",
       "                                                                                   colsample_bylevel=None,\n",
       "                                                                                   colsample_bynode=None,\n",
       "                                                                                   colsample_bytree=None,\n",
       "                                                                                   device=None,\n",
       "                                                                                   early_stopping_rounds=None,\n",
       "                                                                                   enable_categori...\n",
       "                                        LogisticRegression(max_iter=1000,\n",
       "                                                           multi_class='multinomial'))]),\n",
       "             n_jobs=-1,\n",
       "             param_grid={'prob_transf__model__learning_rate': [0.05, 0.01, 0.1],\n",
       "                         'prob_transf__model__max_depth': [2, 5, 8],\n",
       "                         'prob_transf__model__n_estimators': [5, 8],\n",
       "                         'prob_transf__model__objective': ['multi:softprob'],\n",
       "                         'prob_transf__model__random_state': [42]},\n",
       "             scoring=make_scorer(precision_score, average=weighted))"
      ]
     },
     "execution_count": 4,
     "metadata": {},
     "output_type": "execute_result"
    }
   ],
   "source": [
    "scaler = StandardScaler()\n",
    "log_reg = LogisticRegression(multi_class='multinomial', solver='lbfgs', max_iter=1000)\n",
    "model = XGBClassifier()\n",
    "\n",
    "pipe = Pipeline([\n",
    "    ('scaler', scaler),\n",
    "    ('prob_transf', ProbabilityTransformer(model)),\n",
    "    ('log_reg', log_reg)\n",
    "])\n",
    "\n",
    "with open('configs/model_config.yml', 'r') as file:\n",
    "    model_configs = yaml.safe_load(file)\n",
    "\n",
    "param_grid = {\n",
    "    'prob_transf__model__objective': ['multi:softprob'],\n",
    "    'prob_transf__model__max_depth': [2, 5, 8],\n",
    "    'prob_transf__model__n_estimators': [5, 8],\n",
    "    'prob_transf__model__learning_rate': [0.05, 0.01, 0.1],\n",
    "    'prob_transf__model__random_state': [42]\n",
    "}\n",
    "\n",
    "n_splits = 5\n",
    "stratified_kfold = StratifiedKFold(n_splits=n_splits, shuffle=True, random_state=42)\n",
    "\n",
    "search = GridSearchCV(\n",
    "    pipe,\n",
    "    param_grid,\n",
    "    n_jobs=-1,\n",
    "    cv=stratified_kfold,\n",
    "    scoring=make_scorer(precision_score, average='weighted')\n",
    ")\n",
    "\n",
    "search.fit(train.drop(columns=['target', 'Date', 'ticker']), train.target)"
   ]
  },
  {
   "cell_type": "code",
   "execution_count": 19,
   "id": "95a1bbcf-2dec-4aab-bf2a-957627c2533a",
   "metadata": {},
   "outputs": [],
   "source": [
    "x = train.drop(columns=['target', 'Date', 'ticker'])\n",
    "y = train.target"
   ]
  },
  {
   "cell_type": "code",
   "execution_count": 22,
   "id": "ce3f21f8-867d-4a91-b07e-97e9b776c8d8",
   "metadata": {},
   "outputs": [
    {
     "data": {
      "text/plain": [
       "target\n",
       "0    785\n",
       "1    777\n",
       "2    770\n",
       "Name: count, dtype: int64"
      ]
     },
     "execution_count": 22,
     "metadata": {},
     "output_type": "execute_result"
    }
   ],
   "source": [
    "y.value_counts()"
   ]
  },
  {
   "cell_type": "code",
   "execution_count": null,
   "id": "e01dcd9b-c2b4-43e8-a117-8976cc113626",
   "metadata": {},
   "outputs": [],
   "source": []
  },
  {
   "cell_type": "code",
   "execution_count": null,
   "id": "c1fb2b27-5210-424a-b991-f1efc1a5b005",
   "metadata": {},
   "outputs": [],
   "source": []
  },
  {
   "cell_type": "code",
   "execution_count": null,
   "id": "e909fd18-bdf1-43ed-8529-ec335d419b16",
   "metadata": {},
   "outputs": [],
   "source": []
  },
  {
   "cell_type": "code",
   "execution_count": null,
   "id": "51ad37cf-83ee-458e-927f-0bd0fa722917",
   "metadata": {},
   "outputs": [],
   "source": []
  },
  {
   "cell_type": "code",
   "execution_count": 5,
   "id": "18b040a9-d923-4ffb-b290-094389d44588",
   "metadata": {
    "scrolled": true
   },
   "outputs": [
    {
     "name": "stdout",
     "output_type": "stream",
     "text": [
      "0.9303794219142933\n",
      "0.9275300171526587\n",
      "0.9274541117418997\n",
      "              precision    recall  f1-score   support\n",
      "\n",
      "     class 0       0.95      0.91      0.93       785\n",
      "     class 1       0.88      0.98      0.93       777\n",
      "     class 2       0.96      0.89      0.92       770\n",
      "\n",
      "    accuracy                           0.93      2332\n",
      "   macro avg       0.93      0.93      0.93      2332\n",
      "weighted avg       0.93      0.93      0.93      2332\n",
      "\n"
     ]
    }
   ],
   "source": [
    "pipeline = search.best_estimator_\n",
    "\n",
    "predictions = pipeline.predict_proba(train.drop(columns=['target', 'Date', 'ticker']))\n",
    "max_probabilities = np.max(predictions, axis=1)\n",
    "max_indices = np.argmax(predictions, axis=1)\n",
    "\n",
    "precision = precision_score(train.target, max_indices, average='weighted')\n",
    "recall = recall_score(train.target, max_indices, average='weighted')\n",
    "f1 = f1_score(train.target, max_indices, average='weighted')\n",
    "\n",
    "print(precision)\n",
    "print(recall)\n",
    "print(f1) \n",
    "\n",
    "target_names = ['class 0', 'class 1', 'class 2']\n",
    "print(classification_report(train.target, max_indices, target_names=target_names))"
   ]
  },
  {
   "cell_type": "code",
   "execution_count": 6,
   "id": "4554a318-f240-4f45-aa26-9f3caf24fe0a",
   "metadata": {},
   "outputs": [
    {
     "name": "stdout",
     "output_type": "stream",
     "text": [
      "0.047833148346721345\n",
      "0.1595744680851064\n",
      "0.07135581711181531\n",
      "              precision    recall  f1-score   support\n",
      "\n",
      "     class 0       0.15      0.72      0.25        40\n",
      "     class 1       0.00      0.00      0.00       201\n",
      "     class 2       0.18      0.39      0.25        41\n",
      "\n",
      "    accuracy                           0.16       282\n",
      "   macro avg       0.11      0.37      0.17       282\n",
      "weighted avg       0.05      0.16      0.07       282\n",
      "\n"
     ]
    },
    {
     "name": "stderr",
     "output_type": "stream",
     "text": [
      "c:\\users\\saidj\\onedrive\\documentos\\projects\\forex_ml_bot\\forex_ml_bot\\mtvenv\\lib\\site-packages\\sklearn\\metrics\\_classification.py:1469: UndefinedMetricWarning: Precision is ill-defined and being set to 0.0 in labels with no predicted samples. Use `zero_division` parameter to control this behavior.\n",
      "  _warn_prf(average, modifier, msg_start, len(result))\n",
      "c:\\users\\saidj\\onedrive\\documentos\\projects\\forex_ml_bot\\forex_ml_bot\\mtvenv\\lib\\site-packages\\sklearn\\metrics\\_classification.py:1469: UndefinedMetricWarning: Precision and F-score are ill-defined and being set to 0.0 in labels with no predicted samples. Use `zero_division` parameter to control this behavior.\n",
      "  _warn_prf(average, modifier, msg_start, len(result))\n",
      "c:\\users\\saidj\\onedrive\\documentos\\projects\\forex_ml_bot\\forex_ml_bot\\mtvenv\\lib\\site-packages\\sklearn\\metrics\\_classification.py:1469: UndefinedMetricWarning: Precision and F-score are ill-defined and being set to 0.0 in labels with no predicted samples. Use `zero_division` parameter to control this behavior.\n",
      "  _warn_prf(average, modifier, msg_start, len(result))\n",
      "c:\\users\\saidj\\onedrive\\documentos\\projects\\forex_ml_bot\\forex_ml_bot\\mtvenv\\lib\\site-packages\\sklearn\\metrics\\_classification.py:1469: UndefinedMetricWarning: Precision and F-score are ill-defined and being set to 0.0 in labels with no predicted samples. Use `zero_division` parameter to control this behavior.\n",
      "  _warn_prf(average, modifier, msg_start, len(result))\n"
     ]
    }
   ],
   "source": [
    "predictions = pipeline.predict_proba(test.drop(columns=['target', 'Date', 'ticker']))\n",
    "max_probabilities = np.max(predictions, axis=1)\n",
    "max_indices = np.argmax(predictions, axis=1)\n",
    "\n",
    "precision = precision_score(test.target, max_indices, average='weighted')\n",
    "recall = recall_score(test.target, max_indices, average='weighted')\n",
    "f1 = f1_score(test.target, max_indices, average='weighted')\n",
    "\n",
    "print(precision)\n",
    "print(recall)\n",
    "print(f1)\n",
    "\n",
    "target_names = ['class 0', 'class 1', 'class 2']\n",
    "print(classification_report(test.target, max_indices, target_names=target_names))"
   ]
  },
  {
   "cell_type": "code",
   "execution_count": null,
   "id": "9e5a7fcd-49ed-467d-895d-d5f0bf012016",
   "metadata": {},
   "outputs": [],
   "source": []
  },
  {
   "cell_type": "code",
   "execution_count": null,
   "id": "c59297e8-74bb-496c-8272-2e940d9c6f9b",
   "metadata": {},
   "outputs": [],
   "source": []
  },
  {
   "cell_type": "code",
   "execution_count": null,
   "id": "3e4928e6-f88b-455a-a1ad-072f7c7b8a3d",
   "metadata": {},
   "outputs": [],
   "source": []
  },
  {
   "cell_type": "code",
   "execution_count": null,
   "id": "fa272633-5ba0-4a27-bb3e-02428cdc6302",
   "metadata": {},
   "outputs": [],
   "source": []
  },
  {
   "cell_type": "code",
   "execution_count": null,
   "id": "5f43bec9-18fc-496a-93d7-1ccf00e625fc",
   "metadata": {},
   "outputs": [],
   "source": []
  }
 ],
 "metadata": {
  "kernelspec": {
   "display_name": "Python 3 (ipykernel)",
   "language": "python",
   "name": "python3"
  },
  "language_info": {
   "codemirror_mode": {
    "name": "ipython",
    "version": 3
   },
   "file_extension": ".py",
   "mimetype": "text/x-python",
   "name": "python",
   "nbconvert_exporter": "python",
   "pygments_lexer": "ipython3",
   "version": "3.8.9"
  }
 },
 "nbformat": 4,
 "nbformat_minor": 5
}
