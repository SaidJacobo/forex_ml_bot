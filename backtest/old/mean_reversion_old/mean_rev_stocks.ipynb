{
 "cells": [
  {
   "cell_type": "markdown",
   "id": "44fb4376",
   "metadata": {},
   "source": [
    "# Data"
   ]
  },
  {
   "cell_type": "code",
   "execution_count": 1,
   "id": "84c4a814-277c-42cb-821c-d4d19d01d2f1",
   "metadata": {},
   "outputs": [],
   "source": [
    "import os\n",
    "import sys\n",
    "root_dir = os.path.abspath(os.path.join(os.path.dirname('../full_portfolio_analysis.ipynb'), '..'))\n",
    "os.chdir(root_dir)\n",
    "sys.path.insert(0, os.path.join(root_dir, 'src'))"
   ]
  },
  {
   "cell_type": "code",
   "execution_count": 2,
   "id": "5adc2f8a",
   "metadata": {},
   "outputs": [],
   "source": [
    "from backtest.utils import run_strategy, run_wfo\n",
    "\n",
    "\n",
    "from backtesting import Backtest\n",
    "import pandas as pd\n",
    "import pandas_ta as pandas_ta\n",
    "import MetaTrader5 as mt5\n",
    "import MetaTrader5 as mt5\n",
    "import pandas as pd\n",
    "from backtest.get_data import get_data\n",
    "import pytz\n",
    "from datetime import datetime\n",
    "from pandas import Timestamp\n",
    "import numpy as np\n",
    "import random\n",
    "\n",
    "random.seed(42)"
   ]
  },
  {
   "cell_type": "code",
   "execution_count": 3,
   "id": "af18588a",
   "metadata": {},
   "outputs": [],
   "source": [
    "initial_cash = 10_000\n",
    "margin = 1/30\n",
    "commission = 7e-4"
   ]
  },
  {
   "cell_type": "code",
   "execution_count": 4,
   "id": "350c27b3",
   "metadata": {},
   "outputs": [
    {
     "data": {
      "text/plain": [
       "['Forex_Indicator',\n",
       " 'CryptoCross_grp',\n",
       " 'Crypto_group',\n",
       " 'Energies_group',\n",
       " 'Forex_group',\n",
       " 'Indices_group',\n",
       " 'Stocks_group']"
      ]
     },
     "execution_count": 4,
     "metadata": {},
     "output_type": "execute_result"
    }
   ],
   "source": [
    "# establish connection to the MetaTrader 5 terminal\n",
    "if not mt5.initialize():\n",
    "    print(\"initialize() failed, error code =\",mt5.last_error())\n",
    "    quit()\n",
    " \n",
    "# get all symbols\n",
    "symbols = mt5.symbols_get()\n",
    "\n",
    "groups = []\n",
    "for symbol in symbols:\n",
    "    group = symbol.path.split('\\\\')[0]\n",
    "    if not group in groups:\n",
    "        groups.append(group)\n",
    "groups\n"
   ]
  },
  {
   "cell_type": "code",
   "execution_count": 5,
   "id": "60344d5f",
   "metadata": {},
   "outputs": [
    {
     "name": "stdout",
     "output_type": "stream",
     "text": [
      "['AAPLm', 'ABBVm', 'ABTm', 'ADBEm', 'ADPm', 'AMDm', 'AMGNm', 'AMTm', 'AMZNm', 'ATVIm', 'AVGOm', 'BAm', 'BABAm', 'BACm', 'BIIBm', 'BMYm', 'Cm', 'CHTRm', 'CMCSAm', 'CMEm', 'COSTm', 'CSCOm', 'CSXm', 'CVSm', 'EAm', 'EBAYm', 'EQIXm', 'Fm', 'FBm', 'GILDm', 'GOOGLm', 'HDm', 'IBMm', 'INTCm', 'INTUm', 'ISRGm', 'JNJm', 'JPMm', 'KOm', 'LINm', 'LLYm', 'LMTm', 'MAm', 'MCDm', 'MDLZm', 'MMMm', 'MOm', 'MRKm', 'MSm', 'MSFTm', 'NFLXm', 'NKEm', 'NVDAm', 'ORCLm', 'PEPm', 'PFEm', 'PGm', 'PMm', 'PYPLm', 'REGNm', 'SBUXm', 'Tm', 'TMOm', 'TMUSm', 'TSLAm', 'UNHm', 'UPSm', 'Vm', 'VRTXm', 'VZm', 'WFCm', 'WMTm', 'XOMm', 'AMCm', 'BBm', 'BBBYm', 'BEKEm', 'BIDUm', 'BILIm', 'BRQSm', 'BYNDm', 'CANm', 'EDUm', 'FTNTm', 'FUTUm', 'IQm', 'JDm', 'LIm', 'NIOm', 'NTESm', 'PDDm', 'RLXm', 'TALm', 'TIGRm', 'TMEm', 'TSMm', 'VIPSm', 'XPEVm', 'YUMCm', 'ZTOm', 'METAm']\n",
      "MetaTrader5 package author:  MetaQuotes Ltd.\n",
      "MetaTrader5 package version:  5.0.4288\n",
      "AAPLm\n",
      "ABBVm\n",
      "ABTm\n",
      "ADBEm\n",
      "ADPm\n",
      "AMDm\n",
      "AMGNm\n",
      "AMTm\n",
      "AMZNm\n",
      "ATVIm\n",
      "se descarto ATVIm\n",
      "AVGOm\n",
      "BAm\n",
      "BABAm\n",
      "BACm\n",
      "BIIBm\n",
      "BMYm\n",
      "Cm\n",
      "CHTRm\n",
      "CMCSAm\n",
      "CMEm\n",
      "COSTm\n",
      "CSCOm\n",
      "CSXm\n",
      "CVSm\n",
      "EAm\n",
      "EBAYm\n",
      "EQIXm\n",
      "Fm\n",
      "FBm\n",
      "GILDm\n",
      "GOOGLm\n",
      "HDm\n",
      "IBMm\n",
      "INTCm\n",
      "INTUm\n",
      "ISRGm\n",
      "JNJm\n",
      "JPMm\n",
      "KOm\n",
      "LINm\n",
      "LLYm\n",
      "LMTm\n",
      "MAm\n",
      "MCDm\n",
      "MDLZm\n",
      "MMMm\n",
      "MOm\n",
      "MRKm\n",
      "MSm\n",
      "MSFTm\n",
      "NFLXm\n",
      "NKEm\n",
      "NVDAm\n",
      "ORCLm\n",
      "PEPm\n",
      "PFEm\n",
      "PGm\n",
      "PMm\n",
      "PYPLm\n",
      "REGNm\n",
      "SBUXm\n",
      "Tm\n",
      "TMOm\n",
      "TMUSm\n",
      "TSLAm\n",
      "UNHm\n",
      "UPSm\n",
      "Vm\n",
      "VRTXm\n",
      "VZm\n",
      "WFCm\n",
      "WMTm\n",
      "XOMm\n",
      "AMCm\n",
      "se descarto AMCm\n",
      "BBm\n",
      "BBBYm\n",
      "se descarto BBBYm\n",
      "BEKEm\n",
      "BIDUm\n",
      "BILIm\n",
      "BRQSm\n",
      "se descarto BRQSm\n",
      "BYNDm\n",
      "se descarto BYNDm\n",
      "CANm\n",
      "se descarto CANm\n",
      "EDUm\n",
      "FTNTm\n",
      "FUTUm\n",
      "IQm\n",
      "JDm\n",
      "LIm\n",
      "NIOm\n",
      "NTESm\n",
      "PDDm\n",
      "RLXm\n",
      "TALm\n",
      "TIGRm\n",
      "se descarto TIGRm\n",
      "TMEm\n",
      "TSMm\n",
      "VIPSm\n",
      "XPEVm\n",
      "YUMCm\n",
      "ZTOm\n",
      "METAm\n"
     ]
    }
   ],
   "source": [
    "\n",
    "tickers = [symbol.path.split('\\\\')[1] for symbol in symbols if 'Stocks_group' in symbol.path]\n",
    "# tickers = ['USOILm']\n",
    "\n",
    "print(tickers)\n",
    "\n",
    "# Establecer la zona horaria a UTC\n",
    "timezone = pytz.timezone(\"Etc/UTC\")\n",
    "\n",
    "# Crear objetos 'datetime' en zona horaria UTC\n",
    "date_from = datetime(2021, 10, 1, tzinfo=timezone)\n",
    "date_to = datetime(2024, 9, 1, tzinfo=timezone)\n",
    "\n",
    "intervals = [\n",
    "    mt5.TIMEFRAME_H4,\n",
    "]\n",
    "\n",
    "symbols = get_data(tickers, intervals, date_from, date_to)"
   ]
  },
  {
   "cell_type": "code",
   "execution_count": 6,
   "id": "cbb6907f",
   "metadata": {},
   "outputs": [],
   "source": [
    "max_start_date = None\n",
    "intervals_start_dates = {}\n",
    "\n",
    "tickers = np.unique(list(symbols.keys())).tolist()\n",
    "\n",
    "for interval in intervals:\n",
    "    for ticker in tickers:\n",
    "        if not max_start_date or symbols[ticker][interval].index.min() > max_start_date:\n",
    "            max_start_date = symbols[ticker][interval].index.min()\n",
    "        \n",
    "    intervals_start_dates[interval] = max_start_date"
   ]
  },
  {
   "cell_type": "code",
   "execution_count": 8,
   "id": "f1891086",
   "metadata": {},
   "outputs": [
    {
     "name": "stdout",
     "output_type": "stream",
     "text": [
      "2023-09-01 00:00:00+00:00\n",
      "2024-09-01 00:00:00+00:00\n"
     ]
    }
   ],
   "source": [
    "start_date_train = Timestamp('2023-09-01 00:00:00', tz='UTC')\n",
    "limit_date_train = Timestamp('2024-09-01 00:00:00', tz='UTC')\n",
    "\n",
    "print(start_date_train)\n",
    "print(limit_date_train)"
   ]
  },
  {
   "cell_type": "markdown",
   "id": "cc729de0",
   "metadata": {},
   "source": [
    "# Analisis preliminar"
   ]
  },
  {
   "cell_type": "code",
   "execution_count": 9,
   "id": "fb26e386",
   "metadata": {},
   "outputs": [],
   "source": [
    "from backtesting import Strategy\n",
    "import talib as ta\n",
    "from backbone.utils.general_purpose import calculate_units_size, diff_pips\n",
    "\n",
    "class MeanReversion(Strategy):\n",
    "    pip_value = None\n",
    "    minimum_lot = None\n",
    "    contract_volume = None\n",
    "    minimum_units = None\n",
    "    \n",
    "    sma_period = 50\n",
    "    deviation_threshold = 0.01\n",
    "    risk = 1\n",
    "    cum_rsi_up_threshold = 90\n",
    "    cum_rsi_down_threshold = 10\n",
    "    atr_multiplier = 2\n",
    "    \n",
    "    def init(self):\n",
    "        self.sma = self.I(ta.SMA, self.data.Close, timeperiod=self.sma_period)\n",
    "        self.rsi = self.I(ta.RSI, self.data.Close, timeperiod=2)\n",
    "        self.atr = self.I(ta.ATR, self.data.High, self.data.Low, self.data.Close)\n",
    "        \n",
    "        self.minimum_units = self.minimum_lot * self.contract_volume\n",
    "\n",
    "\n",
    "    def next(self):\n",
    "        # Precio actual y valor de la SMA\n",
    "        actual_close = self.data.Close[-1]\n",
    "        sma_value = self.sma[-1]\n",
    "        cum_rsi = self.rsi[-1] + self.rsi[-2]\n",
    "\n",
    "        # Desviación del precio con respecto a la SMA (en porcentaje)\n",
    "        deviation = (actual_close - sma_value) / sma_value\n",
    "\n",
    "        if self.position:\n",
    "            if self.position.is_long and actual_close >= self.sma:\n",
    "                self.position.close()\n",
    "\n",
    "            if self.position.is_short and actual_close <= self.sma:\n",
    "                self.position.close()  \n",
    "        \n",
    "        else:\n",
    "            # Condiciones para comprar (precio por debajo de la SMA más del umbral de desviación)\n",
    "            if deviation <= -self.deviation_threshold and cum_rsi <= self.cum_rsi_down_threshold:\n",
    "                sl_price = self.data.Close[-1] - self.atr_multiplier * self.atr[-1]\n",
    "                \n",
    "                pip_distance = diff_pips(\n",
    "                    self.data.Close[-1], \n",
    "                    sl_price, \n",
    "                    pip_value=self.pip_value\n",
    "                )\n",
    "                \n",
    "                units = calculate_units_size(\n",
    "                    account_size=self.equity, \n",
    "                    risk_percentage=self.risk, \n",
    "                    stop_loss_pips=pip_distance, \n",
    "                    pip_value=self.pip_value\n",
    "                )\n",
    "                \n",
    "                if units < self.minimum_units:\n",
    "                    units = self.minimum_units\n",
    "                \n",
    "                self.buy(\n",
    "                    size=units,\n",
    "                    sl=sl_price\n",
    "                )\n",
    "\n",
    "            # Condiciones para vender (precio por encima de la SMA más del umbral de desviación)\n",
    "            elif deviation >= self.deviation_threshold and cum_rsi >= self.cum_rsi_up_threshold:\n",
    "                sl_price = self.data.Close[-1] + self.atr_multiplier * self.atr[-1]\n",
    "                \n",
    "                pip_distance = diff_pips(\n",
    "                    self.data.Close[-1], \n",
    "                    sl_price, \n",
    "                    pip_value=self.pip_value\n",
    "                )\n",
    "                \n",
    "                units = calculate_units_size(\n",
    "                    account_size=self.equity, \n",
    "                    risk_percentage=self.risk, \n",
    "                    stop_loss_pips=pip_distance, \n",
    "                    pip_value=self.pip_value\n",
    "                )\n",
    "                \n",
    "                if units < self.minimum_units:\n",
    "                    units = self.minimum_units\n",
    "                \n",
    "                self.sell(\n",
    "                    size=units,\n",
    "                    sl=sl_price\n",
    "                )"
   ]
  },
  {
   "cell_type": "code",
   "execution_count": 10,
   "id": "629813ae",
   "metadata": {},
   "outputs": [
    {
     "name": "stdout",
     "output_type": "stream",
     "text": [
      "AAPLm 16388\n",
      "ABBVm 16388\n",
      "ABTm 16388\n",
      "ADBEm 16388\n",
      "ADPm 16388\n",
      "AMDm 16388\n",
      "AMGNm 16388\n",
      "AMTm 16388\n",
      "AMZNm 16388\n",
      "AVGOm 16388\n",
      "BABAm 16388\n",
      "BACm 16388\n",
      "BAm 16388\n",
      "BBm 16388\n",
      "BEKEm 16388\n",
      "BIDUm 16388\n",
      "BIIBm 16388\n",
      "BILIm 16388\n",
      "BMYm 16388\n",
      "CHTRm 16388\n",
      "CMCSAm 16388\n",
      "CMEm 16388\n",
      "COSTm 16388\n",
      "CSCOm 16388\n",
      "CSXm 16388\n",
      "CVSm 16388\n",
      "Cm 16388\n",
      "EAm 16388\n",
      "EBAYm 16388\n",
      "EDUm 16388\n",
      "EQIXm 16388\n",
      "FBm 16388\n",
      "FTNTm 16388\n",
      "FUTUm 16388\n",
      "Fm 16388\n",
      "GILDm 16388\n",
      "GOOGLm 16388\n",
      "HDm 16388\n",
      "IBMm 16388\n",
      "INTCm 16388\n",
      "INTUm 16388\n",
      "IQm 16388\n",
      "ISRGm 16388\n",
      "JDm 16388\n",
      "JNJm 16388\n",
      "JPMm 16388\n",
      "KOm 16388\n",
      "LINm 16388\n",
      "LIm 16388\n",
      "LLYm 16388\n",
      "LMTm 16388\n",
      "MAm 16388\n",
      "MCDm 16388\n",
      "MDLZm 16388\n",
      "METAm 16388\n",
      "MMMm 16388\n",
      "MOm 16388\n",
      "MRKm 16388\n",
      "MSFTm 16388\n",
      "MSm 16388\n",
      "NFLXm 16388\n",
      "NIOm 16388\n",
      "NKEm 16388\n",
      "NTESm 16388\n",
      "NVDAm 16388\n",
      "ORCLm 16388\n",
      "PDDm 16388\n",
      "PEPm 16388\n",
      "PFEm 16388\n",
      "PGm 16388\n",
      "PMm 16388\n",
      "PYPLm 16388\n",
      "REGNm 16388\n",
      "RLXm 16388\n",
      "SBUXm 16388\n",
      "TALm 16388\n",
      "TMEm 16388\n",
      "TMOm 16388\n",
      "TMUSm 16388\n",
      "TSLAm 16388\n",
      "TSMm 16388\n",
      "Tm 16388\n",
      "UNHm 16388\n",
      "UPSm 16388\n",
      "VIPSm 16388\n",
      "VRTXm 16388\n",
      "VZm 16388\n",
      "Vm 16388\n",
      "WFCm 16388\n",
      "WMTm 16388\n",
      "XOMm 16388\n",
      "XPEVm 16388\n",
      "YUMCm 16388\n",
      "ZTOm 16388\n"
     ]
    }
   ],
   "source": [
    "import itertools\n",
    "import numpy as np\n",
    "from sklearn.linear_model import LinearRegression\n",
    "\n",
    "strategies = [\n",
    "    MeanReversion\n",
    "]\n",
    "\n",
    "experiments = list(itertools.product(\n",
    "    tickers, intervals, strategies\n",
    "))\n",
    "\n",
    "performance = pd.DataFrame()\n",
    "\n",
    "for ticker, interval, strategy in experiments:\n",
    "    # try:\n",
    "    print(ticker, interval)\n",
    "\n",
    "    df_stats = run_strategy(\n",
    "        strategy=strategy,\n",
    "        ticker=ticker,\n",
    "        interval=interval,\n",
    "        commission=7e-4, \n",
    "        prices=symbols[ticker][interval], \n",
    "        initial_cash=initial_cash, \n",
    "        margin=1/30\n",
    "    )\n",
    "\n",
    "    performance = pd.concat([performance, df_stats])\n",
    "\n",
    "    # except:\n",
    "    #     print(f'hubo un problema con {ticker} {interval}')\n",
    "\n",
    "\n",
    "performance['return/dd'] = performance['return'] / -performance['drawdown']\n",
    "performance['drawdown'] = -performance['drawdown']\n",
    "performance['custom_metric'] = (performance['return'] / (1 + performance.drawdown)) * np.log(1 + performance.trades)\n"
   ]
  },
  {
   "cell_type": "code",
   "execution_count": 11,
   "id": "9628db73",
   "metadata": {},
   "outputs": [
    {
     "data": {
      "text/html": [
       "<div>\n",
       "<style scoped>\n",
       "    .dataframe tbody tr th:only-of-type {\n",
       "        vertical-align: middle;\n",
       "    }\n",
       "\n",
       "    .dataframe tbody tr th {\n",
       "        vertical-align: top;\n",
       "    }\n",
       "\n",
       "    .dataframe thead th {\n",
       "        text-align: right;\n",
       "    }\n",
       "</style>\n",
       "<table border=\"1\" class=\"dataframe\">\n",
       "  <thead>\n",
       "    <tr style=\"text-align: right;\">\n",
       "      <th></th>\n",
       "      <th>strategy</th>\n",
       "      <th>ticker</th>\n",
       "      <th>interval</th>\n",
       "      <th>stability_ratio</th>\n",
       "      <th>return</th>\n",
       "      <th>final_eq</th>\n",
       "      <th>drawdown</th>\n",
       "      <th>drawdown_duration</th>\n",
       "      <th>win_rate</th>\n",
       "      <th>sharpe_ratio</th>\n",
       "      <th>trades</th>\n",
       "      <th>avg_trade_percent</th>\n",
       "      <th>exposure</th>\n",
       "      <th>final_equity</th>\n",
       "      <th>Duration</th>\n",
       "      <th>return/dd</th>\n",
       "      <th>custom_metric</th>\n",
       "    </tr>\n",
       "  </thead>\n",
       "  <tbody>\n",
       "    <tr>\n",
       "      <th>0</th>\n",
       "      <td>MeanReversion</td>\n",
       "      <td>UNHm</td>\n",
       "      <td>16388</td>\n",
       "      <td>0.899085</td>\n",
       "      <td>33.400224</td>\n",
       "      <td>13340.022428</td>\n",
       "      <td>5.387711</td>\n",
       "      <td>147 days 00:00:00</td>\n",
       "      <td>51.388889</td>\n",
       "      <td>1.194100</td>\n",
       "      <td>72</td>\n",
       "      <td>0.713245</td>\n",
       "      <td>63.907088</td>\n",
       "      <td>13340.022428</td>\n",
       "      <td>1038 days</td>\n",
       "      <td>6.199335</td>\n",
       "      <td>22.434064</td>\n",
       "    </tr>\n",
       "    <tr>\n",
       "      <th>0</th>\n",
       "      <td>MeanReversion</td>\n",
       "      <td>UPSm</td>\n",
       "      <td>16388</td>\n",
       "      <td>0.880360</td>\n",
       "      <td>27.508740</td>\n",
       "      <td>12750.873992</td>\n",
       "      <td>7.584760</td>\n",
       "      <td>329 days 20:00:00</td>\n",
       "      <td>50.000000</td>\n",
       "      <td>1.017942</td>\n",
       "      <td>82</td>\n",
       "      <td>0.756914</td>\n",
       "      <td>71.590232</td>\n",
       "      <td>12750.873992</td>\n",
       "      <td>1038 days</td>\n",
       "      <td>3.626844</td>\n",
       "      <td>14.159597</td>\n",
       "    </tr>\n",
       "    <tr>\n",
       "      <th>0</th>\n",
       "      <td>MeanReversion</td>\n",
       "      <td>YUMCm</td>\n",
       "      <td>16388</td>\n",
       "      <td>0.881465</td>\n",
       "      <td>18.199070</td>\n",
       "      <td>11819.906953</td>\n",
       "      <td>5.361031</td>\n",
       "      <td>196 days 20:00:00</td>\n",
       "      <td>52.238806</td>\n",
       "      <td>0.766458</td>\n",
       "      <td>67</td>\n",
       "      <td>0.664842</td>\n",
       "      <td>63.013699</td>\n",
       "      <td>11819.906953</td>\n",
       "      <td>1038 days</td>\n",
       "      <td>3.394696</td>\n",
       "      <td>12.072118</td>\n",
       "    </tr>\n",
       "    <tr>\n",
       "      <th>0</th>\n",
       "      <td>MeanReversion</td>\n",
       "      <td>BEKEm</td>\n",
       "      <td>16388</td>\n",
       "      <td>0.861398</td>\n",
       "      <td>24.205616</td>\n",
       "      <td>12420.561626</td>\n",
       "      <td>8.797488</td>\n",
       "      <td>307 days 20:00:00</td>\n",
       "      <td>55.833333</td>\n",
       "      <td>1.014762</td>\n",
       "      <td>120</td>\n",
       "      <td>0.840582</td>\n",
       "      <td>63.898734</td>\n",
       "      <td>12420.561626</td>\n",
       "      <td>1038 days</td>\n",
       "      <td>2.751424</td>\n",
       "      <td>11.848452</td>\n",
       "    </tr>\n",
       "    <tr>\n",
       "      <th>0</th>\n",
       "      <td>MeanReversion</td>\n",
       "      <td>MOm</td>\n",
       "      <td>16388</td>\n",
       "      <td>0.894778</td>\n",
       "      <td>19.897077</td>\n",
       "      <td>11989.707696</td>\n",
       "      <td>13.391293</td>\n",
       "      <td>177 days 04:00:00</td>\n",
       "      <td>43.902439</td>\n",
       "      <td>0.757831</td>\n",
       "      <td>82</td>\n",
       "      <td>0.511131</td>\n",
       "      <td>75.878499</td>\n",
       "      <td>11989.707696</td>\n",
       "      <td>1038 days</td>\n",
       "      <td>1.485822</td>\n",
       "      <td>6.109389</td>\n",
       "    </tr>\n",
       "    <tr>\n",
       "      <th>0</th>\n",
       "      <td>MeanReversion</td>\n",
       "      <td>AMTm</td>\n",
       "      <td>16388</td>\n",
       "      <td>0.821993</td>\n",
       "      <td>9.241588</td>\n",
       "      <td>10924.158757</td>\n",
       "      <td>7.897315</td>\n",
       "      <td>191 days 20:00:00</td>\n",
       "      <td>39.705882</td>\n",
       "      <td>0.422015</td>\n",
       "      <td>68</td>\n",
       "      <td>0.371066</td>\n",
       "      <td>67.004169</td>\n",
       "      <td>10924.158757</td>\n",
       "      <td>1038 days</td>\n",
       "      <td>1.170219</td>\n",
       "      <td>4.397941</td>\n",
       "    </tr>\n",
       "  </tbody>\n",
       "</table>\n",
       "</div>"
      ],
      "text/plain": [
       "        strategy ticker  interval  stability_ratio     return      final_eq  \\\n",
       "0  MeanReversion   UNHm     16388         0.899085  33.400224  13340.022428   \n",
       "0  MeanReversion   UPSm     16388         0.880360  27.508740  12750.873992   \n",
       "0  MeanReversion  YUMCm     16388         0.881465  18.199070  11819.906953   \n",
       "0  MeanReversion  BEKEm     16388         0.861398  24.205616  12420.561626   \n",
       "0  MeanReversion    MOm     16388         0.894778  19.897077  11989.707696   \n",
       "0  MeanReversion   AMTm     16388         0.821993   9.241588  10924.158757   \n",
       "\n",
       "    drawdown drawdown_duration   win_rate  sharpe_ratio  trades  \\\n",
       "0   5.387711 147 days 00:00:00  51.388889      1.194100      72   \n",
       "0   7.584760 329 days 20:00:00  50.000000      1.017942      82   \n",
       "0   5.361031 196 days 20:00:00  52.238806      0.766458      67   \n",
       "0   8.797488 307 days 20:00:00  55.833333      1.014762     120   \n",
       "0  13.391293 177 days 04:00:00  43.902439      0.757831      82   \n",
       "0   7.897315 191 days 20:00:00  39.705882      0.422015      68   \n",
       "\n",
       "   avg_trade_percent   exposure  final_equity  Duration  return/dd  \\\n",
       "0           0.713245  63.907088  13340.022428 1038 days   6.199335   \n",
       "0           0.756914  71.590232  12750.873992 1038 days   3.626844   \n",
       "0           0.664842  63.013699  11819.906953 1038 days   3.394696   \n",
       "0           0.840582  63.898734  12420.561626 1038 days   2.751424   \n",
       "0           0.511131  75.878499  11989.707696 1038 days   1.485822   \n",
       "0           0.371066  67.004169  10924.158757 1038 days   1.170219   \n",
       "\n",
       "   custom_metric  \n",
       "0      22.434064  \n",
       "0      14.159597  \n",
       "0      12.072118  \n",
       "0      11.848452  \n",
       "0       6.109389  \n",
       "0       4.397941  "
      ]
     },
     "metadata": {},
     "output_type": "display_data"
    }
   ],
   "source": [
    "\n",
    "filter_performance = performance[\n",
    "    (performance['return/dd']>1)\n",
    "    & (performance['stability_ratio']>0.8)\n",
    "].sort_values(by=['return/dd'], ascending=[False])#.drop_duplicates(subset=['ticker'], keep='first')\n",
    "\n",
    "portfolio = filter_performance.ticker.tolist()\n",
    "intervals = filter_performance.interval.values.tolist()\n",
    "\n",
    "display(filter_performance)\n",
    "\n",
    "# portfolio"
   ]
  },
  {
   "cell_type": "code",
   "execution_count": 18,
   "id": "df6a4c55",
   "metadata": {},
   "outputs": [],
   "source": [
    "# for ticker, interval in zip(portfolio, intervals):\n",
    "#     bt_train = Backtest(\n",
    "#         symbols[ticker][interval].loc[start_date_train:limit_date_train], \n",
    "#         MeanReversion,\n",
    "#         commission=7e-4,\n",
    "#         cash=initial_cash, \n",
    "#         margin=1/30\n",
    "#     )\n",
    "\n",
    "#     stats = bt_train.run(\n",
    "#         pip_value = pip_value,\n",
    "#         minimum_lot = minimum_lot,\n",
    "#         contract_volume = contract_volume,\n",
    "#         sma_period=100\n",
    "#     )\n",
    "\n",
    "#     bt_train.plot(filename=f'./plots/{ticker}.html', resample=False)"
   ]
  },
  {
   "cell_type": "markdown",
   "id": "ea8e1f6e",
   "metadata": {},
   "source": [
    "# WFO"
   ]
  },
  {
   "cell_type": "code",
   "execution_count": 13,
   "id": "a77fb04d",
   "metadata": {},
   "outputs": [
    {
     "name": "stdout",
     "output_type": "stream",
     "text": [
      "UNHm 16388\n"
     ]
    },
    {
     "data": {
      "application/vnd.plotly.v1+json": {
       "config": {
        "plotlyServerURL": "https://plot.ly"
       },
       "data": [
        {
         "hovertemplate": "x=%{x}<br>y=%{y}<extra></extra>",
         "legendgroup": "",
         "line": {
          "color": "#636efa",
          "dash": "solid"
         },
         "marker": {
          "symbol": "circle"
         },
         "mode": "lines",
         "name": "",
         "orientation": "v",
         "showlegend": false,
         "textposition": "bottom right",
         "type": "scatter",
         "x": [
          "2023-08-02T16:00:00+00:00",
          "2023-08-03T12:00:00+00:00",
          "2023-08-03T16:00:00+00:00",
          "2023-08-04T12:00:00+00:00",
          "2023-08-04T16:00:00+00:00",
          "2023-08-07T12:00:00+00:00",
          "2023-08-07T16:00:00+00:00",
          "2023-08-08T12:00:00+00:00",
          "2023-08-08T16:00:00+00:00",
          "2023-08-09T12:00:00+00:00",
          "2023-08-09T16:00:00+00:00",
          "2023-08-10T12:00:00+00:00",
          "2023-08-10T16:00:00+00:00",
          "2023-08-11T12:00:00+00:00",
          "2023-08-11T16:00:00+00:00",
          "2023-08-14T12:00:00+00:00",
          "2023-08-14T16:00:00+00:00",
          "2023-08-15T12:00:00+00:00",
          "2023-08-15T16:00:00+00:00",
          "2023-08-16T12:00:00+00:00",
          "2023-08-16T16:00:00+00:00",
          "2023-08-17T12:00:00+00:00",
          "2023-08-17T16:00:00+00:00",
          "2023-08-18T12:00:00+00:00",
          "2023-08-18T16:00:00+00:00",
          "2023-08-21T12:00:00+00:00",
          "2023-08-21T16:00:00+00:00",
          "2023-08-22T12:00:00+00:00",
          "2023-08-22T16:00:00+00:00",
          "2023-08-23T12:00:00+00:00",
          "2023-08-23T16:00:00+00:00",
          "2023-08-24T12:00:00+00:00",
          "2023-08-24T16:00:00+00:00",
          "2023-08-25T12:00:00+00:00",
          "2023-08-25T16:00:00+00:00",
          "2023-08-28T12:00:00+00:00",
          "2023-08-28T16:00:00+00:00",
          "2023-08-29T12:00:00+00:00",
          "2023-08-29T16:00:00+00:00",
          "2023-08-30T12:00:00+00:00",
          "2023-08-30T16:00:00+00:00",
          "2023-08-31T12:00:00+00:00",
          "2023-08-31T16:00:00+00:00",
          "2023-09-01T12:00:00+00:00",
          "2023-09-01T16:00:00+00:00",
          "2023-09-05T12:00:00+00:00",
          "2023-09-05T16:00:00+00:00",
          "2023-09-06T12:00:00+00:00",
          "2023-09-06T16:00:00+00:00",
          "2023-09-07T12:00:00+00:00",
          "2023-09-07T16:00:00+00:00",
          "2023-09-08T12:00:00+00:00",
          "2023-09-08T16:00:00+00:00",
          "2023-09-11T12:00:00+00:00",
          "2023-09-11T16:00:00+00:00",
          "2023-09-12T12:00:00+00:00",
          "2023-09-12T16:00:00+00:00",
          "2023-09-13T12:00:00+00:00",
          "2023-09-13T16:00:00+00:00",
          "2023-09-14T12:00:00+00:00",
          "2023-09-14T16:00:00+00:00",
          "2023-09-15T12:00:00+00:00",
          "2023-09-15T16:00:00+00:00",
          "2023-09-18T12:00:00+00:00",
          "2023-09-18T16:00:00+00:00",
          "2023-09-19T12:00:00+00:00",
          "2023-09-19T16:00:00+00:00",
          "2023-09-20T12:00:00+00:00",
          "2023-09-20T16:00:00+00:00",
          "2023-09-21T12:00:00+00:00",
          "2023-09-21T16:00:00+00:00",
          "2023-09-22T12:00:00+00:00",
          "2023-09-22T16:00:00+00:00",
          "2023-09-25T12:00:00+00:00",
          "2023-09-25T16:00:00+00:00",
          "2023-09-26T12:00:00+00:00",
          "2023-09-26T16:00:00+00:00",
          "2023-09-27T12:00:00+00:00",
          "2023-09-27T16:00:00+00:00",
          "2023-09-28T12:00:00+00:00",
          "2023-09-28T16:00:00+00:00",
          "2023-09-29T12:00:00+00:00",
          "2023-09-29T16:00:00+00:00",
          "2023-10-02T12:00:00+00:00",
          "2023-10-02T16:00:00+00:00",
          "2023-10-03T12:00:00+00:00",
          "2023-10-03T16:00:00+00:00",
          "2023-10-04T12:00:00+00:00",
          "2023-10-04T16:00:00+00:00",
          "2023-10-05T12:00:00+00:00",
          "2023-10-05T16:00:00+00:00",
          "2023-10-06T12:00:00+00:00",
          "2023-10-06T16:00:00+00:00",
          "2023-10-09T12:00:00+00:00",
          "2023-10-09T16:00:00+00:00",
          "2023-10-10T12:00:00+00:00",
          "2023-10-10T16:00:00+00:00",
          "2023-10-11T12:00:00+00:00",
          "2023-10-11T16:00:00+00:00",
          "2023-10-12T12:00:00+00:00",
          "2023-10-12T16:00:00+00:00",
          "2023-10-13T12:00:00+00:00",
          "2023-10-13T16:00:00+00:00",
          "2023-10-16T12:00:00+00:00",
          "2023-10-16T16:00:00+00:00",
          "2023-10-17T12:00:00+00:00",
          "2023-10-17T16:00:00+00:00",
          "2023-10-18T12:00:00+00:00",
          "2023-10-18T16:00:00+00:00",
          "2023-10-19T12:00:00+00:00",
          "2023-10-19T16:00:00+00:00",
          "2023-10-20T12:00:00+00:00",
          "2023-10-20T16:00:00+00:00",
          "2023-10-23T12:00:00+00:00",
          "2023-10-23T16:00:00+00:00",
          "2023-10-24T12:00:00+00:00",
          "2023-10-24T16:00:00+00:00",
          "2023-10-25T12:00:00+00:00",
          "2023-10-25T16:00:00+00:00",
          "2023-10-26T12:00:00+00:00",
          "2023-10-26T16:00:00+00:00",
          "2023-10-27T12:00:00+00:00",
          "2023-10-27T16:00:00+00:00",
          "2023-10-30T12:00:00+00:00",
          "2023-10-30T16:00:00+00:00",
          "2023-10-31T12:00:00+00:00",
          "2023-10-31T16:00:00+00:00",
          "2023-11-01T12:00:00+00:00",
          "2023-11-01T16:00:00+00:00",
          "2023-11-02T12:00:00+00:00",
          "2023-11-02T16:00:00+00:00",
          "2023-11-03T12:00:00+00:00",
          "2023-11-03T16:00:00+00:00",
          "2023-11-06T12:00:00+00:00",
          "2023-11-06T16:00:00+00:00",
          "2023-11-06T20:00:00+00:00",
          "2023-11-07T12:00:00+00:00",
          "2023-11-07T16:00:00+00:00",
          "2023-11-07T20:00:00+00:00",
          "2023-11-08T12:00:00+00:00",
          "2023-11-08T16:00:00+00:00",
          "2023-11-08T20:00:00+00:00",
          "2023-11-09T12:00:00+00:00",
          "2023-11-09T16:00:00+00:00",
          "2023-11-09T20:00:00+00:00",
          "2023-11-10T12:00:00+00:00",
          "2023-11-10T16:00:00+00:00",
          "2023-11-10T20:00:00+00:00",
          "2023-11-13T12:00:00+00:00",
          "2023-11-13T16:00:00+00:00",
          "2023-11-13T20:00:00+00:00",
          "2023-11-14T12:00:00+00:00",
          "2023-11-14T16:00:00+00:00",
          "2023-11-14T20:00:00+00:00",
          "2023-11-15T12:00:00+00:00",
          "2023-11-15T16:00:00+00:00",
          "2023-11-15T20:00:00+00:00",
          "2023-11-16T12:00:00+00:00",
          "2023-11-16T16:00:00+00:00",
          "2023-11-16T20:00:00+00:00",
          "2023-11-17T12:00:00+00:00",
          "2023-11-17T16:00:00+00:00",
          "2023-11-17T20:00:00+00:00",
          "2023-11-20T12:00:00+00:00",
          "2023-11-20T16:00:00+00:00",
          "2023-11-20T20:00:00+00:00",
          "2023-11-21T12:00:00+00:00",
          "2023-11-21T16:00:00+00:00",
          "2023-11-21T20:00:00+00:00",
          "2023-11-22T12:00:00+00:00",
          "2023-11-22T16:00:00+00:00",
          "2023-11-22T20:00:00+00:00",
          "2023-11-24T12:00:00+00:00",
          "2023-11-24T16:00:00+00:00",
          "2023-11-27T12:00:00+00:00",
          "2023-11-27T16:00:00+00:00",
          "2023-11-27T20:00:00+00:00",
          "2023-11-28T12:00:00+00:00",
          "2023-11-28T16:00:00+00:00",
          "2023-11-28T20:00:00+00:00",
          "2023-11-29T12:00:00+00:00",
          "2023-11-29T16:00:00+00:00",
          "2023-11-29T20:00:00+00:00",
          "2023-11-30T12:00:00+00:00",
          "2023-11-30T16:00:00+00:00",
          "2023-11-30T20:00:00+00:00",
          "2023-12-01T12:00:00+00:00",
          "2023-12-01T16:00:00+00:00",
          "2023-12-01T20:00:00+00:00",
          "2023-12-04T12:00:00+00:00",
          "2023-12-04T16:00:00+00:00",
          "2023-12-04T20:00:00+00:00",
          "2023-12-05T12:00:00+00:00",
          "2023-12-05T16:00:00+00:00",
          "2023-12-05T20:00:00+00:00",
          "2023-12-06T12:00:00+00:00",
          "2023-12-06T16:00:00+00:00",
          "2023-12-06T20:00:00+00:00",
          "2023-12-07T12:00:00+00:00",
          "2023-12-07T16:00:00+00:00",
          "2023-12-07T20:00:00+00:00",
          "2023-12-08T12:00:00+00:00",
          "2023-12-08T16:00:00+00:00",
          "2023-12-08T20:00:00+00:00",
          "2023-12-11T12:00:00+00:00",
          "2023-12-11T16:00:00+00:00",
          "2023-12-11T20:00:00+00:00",
          "2023-12-12T12:00:00+00:00",
          "2023-12-12T16:00:00+00:00",
          "2023-12-12T20:00:00+00:00",
          "2023-12-13T12:00:00+00:00",
          "2023-12-13T16:00:00+00:00",
          "2023-12-13T20:00:00+00:00",
          "2023-12-14T12:00:00+00:00",
          "2023-12-14T16:00:00+00:00",
          "2023-12-14T20:00:00+00:00",
          "2023-12-15T12:00:00+00:00",
          "2023-12-15T16:00:00+00:00",
          "2023-12-15T20:00:00+00:00",
          "2023-12-18T12:00:00+00:00",
          "2023-12-18T16:00:00+00:00",
          "2023-12-18T20:00:00+00:00",
          "2023-12-19T12:00:00+00:00",
          "2023-12-19T16:00:00+00:00",
          "2023-12-19T20:00:00+00:00",
          "2023-12-20T12:00:00+00:00",
          "2023-12-20T16:00:00+00:00",
          "2023-12-20T20:00:00+00:00",
          "2023-12-21T12:00:00+00:00",
          "2023-12-21T16:00:00+00:00",
          "2023-12-21T20:00:00+00:00",
          "2023-12-22T12:00:00+00:00",
          "2023-12-22T16:00:00+00:00",
          "2023-12-22T20:00:00+00:00",
          "2023-12-26T12:00:00+00:00",
          "2023-12-26T16:00:00+00:00",
          "2023-12-26T20:00:00+00:00",
          "2023-12-27T12:00:00+00:00",
          "2023-12-27T16:00:00+00:00",
          "2023-12-27T20:00:00+00:00",
          "2023-12-28T12:00:00+00:00",
          "2023-12-28T16:00:00+00:00",
          "2023-12-28T20:00:00+00:00",
          "2023-12-29T12:00:00+00:00",
          "2023-12-29T16:00:00+00:00",
          "2023-12-29T20:00:00+00:00",
          "2024-01-02T12:00:00+00:00",
          "2024-01-02T16:00:00+00:00",
          "2024-01-02T20:00:00+00:00",
          "2024-01-03T12:00:00+00:00",
          "2024-01-03T16:00:00+00:00",
          "2024-01-03T20:00:00+00:00",
          "2024-01-04T12:00:00+00:00",
          "2024-01-04T16:00:00+00:00",
          "2024-01-04T20:00:00+00:00",
          "2024-01-05T12:00:00+00:00",
          "2024-01-05T16:00:00+00:00",
          "2024-01-05T20:00:00+00:00",
          "2024-01-08T12:00:00+00:00",
          "2024-01-08T16:00:00+00:00",
          "2024-01-08T20:00:00+00:00",
          "2024-01-09T12:00:00+00:00",
          "2024-01-09T16:00:00+00:00",
          "2024-01-09T20:00:00+00:00",
          "2024-01-10T12:00:00+00:00",
          "2024-01-10T16:00:00+00:00",
          "2024-01-10T20:00:00+00:00",
          "2024-01-11T12:00:00+00:00",
          "2024-01-11T16:00:00+00:00",
          "2024-01-11T20:00:00+00:00",
          "2024-01-12T12:00:00+00:00",
          "2024-01-12T16:00:00+00:00",
          "2024-01-12T20:00:00+00:00",
          "2024-01-16T12:00:00+00:00",
          "2024-01-16T16:00:00+00:00",
          "2024-01-16T20:00:00+00:00",
          "2024-01-17T12:00:00+00:00",
          "2024-01-17T16:00:00+00:00",
          "2024-01-17T20:00:00+00:00",
          "2024-01-18T12:00:00+00:00",
          "2024-01-18T16:00:00+00:00",
          "2024-01-18T20:00:00+00:00",
          "2024-01-19T12:00:00+00:00",
          "2024-01-19T16:00:00+00:00",
          "2024-01-19T20:00:00+00:00",
          "2024-01-22T12:00:00+00:00",
          "2024-01-22T16:00:00+00:00",
          "2024-01-22T20:00:00+00:00",
          "2024-01-23T12:00:00+00:00",
          "2024-01-23T16:00:00+00:00",
          "2024-01-23T20:00:00+00:00",
          "2024-01-24T12:00:00+00:00",
          "2024-01-24T16:00:00+00:00",
          "2024-01-24T20:00:00+00:00",
          "2024-01-25T12:00:00+00:00",
          "2024-01-25T16:00:00+00:00",
          "2024-01-25T20:00:00+00:00",
          "2024-01-26T12:00:00+00:00",
          "2024-01-26T16:00:00+00:00",
          "2024-01-26T20:00:00+00:00",
          "2024-01-29T12:00:00+00:00",
          "2024-01-29T16:00:00+00:00",
          "2024-01-29T20:00:00+00:00",
          "2024-01-30T12:00:00+00:00",
          "2024-01-30T16:00:00+00:00",
          "2024-01-30T20:00:00+00:00",
          "2024-01-31T12:00:00+00:00",
          "2024-01-31T16:00:00+00:00",
          "2024-01-31T20:00:00+00:00",
          "2024-02-01T12:00:00+00:00",
          "2024-02-01T16:00:00+00:00",
          "2024-02-01T20:00:00+00:00",
          "2024-02-02T12:00:00+00:00",
          "2024-02-02T16:00:00+00:00",
          "2024-02-02T20:00:00+00:00",
          "2024-02-05T12:00:00+00:00",
          "2024-02-05T16:00:00+00:00",
          "2024-02-05T20:00:00+00:00",
          "2024-02-06T12:00:00+00:00",
          "2024-02-06T16:00:00+00:00",
          "2024-02-06T20:00:00+00:00",
          "2024-02-07T12:00:00+00:00",
          "2024-02-07T16:00:00+00:00",
          "2024-02-07T20:00:00+00:00",
          "2024-02-08T12:00:00+00:00",
          "2024-02-08T16:00:00+00:00",
          "2024-02-08T20:00:00+00:00",
          "2024-02-09T12:00:00+00:00",
          "2024-02-09T16:00:00+00:00",
          "2024-02-09T20:00:00+00:00",
          "2024-02-12T12:00:00+00:00",
          "2024-02-12T16:00:00+00:00",
          "2024-02-12T20:00:00+00:00",
          "2024-02-13T12:00:00+00:00",
          "2024-02-13T16:00:00+00:00",
          "2024-02-13T20:00:00+00:00",
          "2024-02-14T12:00:00+00:00",
          "2024-02-14T16:00:00+00:00",
          "2024-02-14T20:00:00+00:00",
          "2024-02-15T12:00:00+00:00",
          "2024-02-15T16:00:00+00:00",
          "2024-02-15T20:00:00+00:00",
          "2024-02-16T12:00:00+00:00",
          "2024-02-16T16:00:00+00:00",
          "2024-02-16T20:00:00+00:00",
          "2024-02-20T12:00:00+00:00",
          "2024-02-20T16:00:00+00:00",
          "2024-02-20T20:00:00+00:00",
          "2024-02-21T12:00:00+00:00",
          "2024-02-21T16:00:00+00:00",
          "2024-02-21T20:00:00+00:00",
          "2024-02-22T12:00:00+00:00",
          "2024-02-22T16:00:00+00:00",
          "2024-02-22T20:00:00+00:00",
          "2024-02-23T12:00:00+00:00",
          "2024-02-23T16:00:00+00:00",
          "2024-02-23T20:00:00+00:00",
          "2024-02-26T12:00:00+00:00",
          "2024-02-26T16:00:00+00:00",
          "2024-02-26T20:00:00+00:00",
          "2024-02-27T12:00:00+00:00",
          "2024-02-27T16:00:00+00:00",
          "2024-02-27T20:00:00+00:00",
          "2024-02-28T12:00:00+00:00",
          "2024-02-28T16:00:00+00:00",
          "2024-02-28T20:00:00+00:00",
          "2024-02-29T12:00:00+00:00",
          "2024-02-29T16:00:00+00:00",
          "2024-02-29T20:00:00+00:00",
          "2024-03-01T12:00:00+00:00",
          "2024-03-01T16:00:00+00:00",
          "2024-03-01T20:00:00+00:00",
          "2024-03-04T12:00:00+00:00",
          "2024-03-04T16:00:00+00:00",
          "2024-03-04T20:00:00+00:00",
          "2024-03-05T12:00:00+00:00",
          "2024-03-05T16:00:00+00:00",
          "2024-03-05T20:00:00+00:00",
          "2024-03-06T12:00:00+00:00",
          "2024-03-06T16:00:00+00:00",
          "2024-03-06T20:00:00+00:00",
          "2024-03-07T12:00:00+00:00",
          "2024-03-07T16:00:00+00:00",
          "2024-03-07T20:00:00+00:00",
          "2024-03-08T12:00:00+00:00",
          "2024-03-08T16:00:00+00:00",
          "2024-03-08T20:00:00+00:00",
          "2024-03-11T12:00:00+00:00",
          "2024-03-11T16:00:00+00:00",
          "2024-03-12T12:00:00+00:00",
          "2024-03-12T16:00:00+00:00",
          "2024-03-13T12:00:00+00:00",
          "2024-03-13T16:00:00+00:00",
          "2024-03-14T12:00:00+00:00",
          "2024-03-14T16:00:00+00:00",
          "2024-03-15T12:00:00+00:00",
          "2024-03-15T16:00:00+00:00",
          "2024-03-18T12:00:00+00:00",
          "2024-03-18T16:00:00+00:00",
          "2024-03-19T12:00:00+00:00",
          "2024-03-19T16:00:00+00:00",
          "2024-03-20T12:00:00+00:00",
          "2024-03-20T16:00:00+00:00",
          "2024-03-21T12:00:00+00:00",
          "2024-03-21T16:00:00+00:00",
          "2024-03-22T12:00:00+00:00",
          "2024-03-22T16:00:00+00:00",
          "2024-03-25T12:00:00+00:00",
          "2024-03-25T16:00:00+00:00",
          "2024-03-26T12:00:00+00:00",
          "2024-03-26T16:00:00+00:00",
          "2024-03-27T12:00:00+00:00",
          "2024-03-27T16:00:00+00:00",
          "2024-03-28T12:00:00+00:00",
          "2024-03-28T16:00:00+00:00",
          "2024-04-01T12:00:00+00:00",
          "2024-04-01T16:00:00+00:00",
          "2024-04-02T12:00:00+00:00",
          "2024-04-02T16:00:00+00:00",
          "2024-04-03T12:00:00+00:00",
          "2024-04-03T16:00:00+00:00",
          "2024-04-04T12:00:00+00:00",
          "2024-04-04T16:00:00+00:00",
          "2024-04-05T12:00:00+00:00",
          "2024-04-05T16:00:00+00:00",
          "2024-04-08T12:00:00+00:00",
          "2024-04-08T16:00:00+00:00",
          "2024-04-09T12:00:00+00:00",
          "2024-04-09T16:00:00+00:00",
          "2024-04-10T12:00:00+00:00",
          "2024-04-10T16:00:00+00:00",
          "2024-04-11T12:00:00+00:00",
          "2024-04-11T16:00:00+00:00",
          "2024-04-12T12:00:00+00:00",
          "2024-04-12T16:00:00+00:00",
          "2024-04-15T12:00:00+00:00",
          "2024-04-15T16:00:00+00:00",
          "2024-04-16T12:00:00+00:00",
          "2024-04-16T16:00:00+00:00",
          "2024-04-17T12:00:00+00:00",
          "2024-04-17T16:00:00+00:00",
          "2024-04-18T12:00:00+00:00",
          "2024-04-18T16:00:00+00:00",
          "2024-04-19T12:00:00+00:00",
          "2024-04-19T16:00:00+00:00",
          "2024-04-22T12:00:00+00:00",
          "2024-04-22T16:00:00+00:00",
          "2024-04-23T12:00:00+00:00",
          "2024-04-23T16:00:00+00:00",
          "2024-04-24T12:00:00+00:00",
          "2024-04-24T16:00:00+00:00",
          "2024-04-25T12:00:00+00:00",
          "2024-04-25T16:00:00+00:00",
          "2024-04-26T12:00:00+00:00",
          "2024-04-26T16:00:00+00:00",
          "2024-04-29T12:00:00+00:00",
          "2024-04-29T16:00:00+00:00",
          "2024-04-30T12:00:00+00:00",
          "2024-04-30T16:00:00+00:00",
          "2024-05-01T12:00:00+00:00",
          "2024-05-01T16:00:00+00:00",
          "2024-05-02T12:00:00+00:00",
          "2024-05-02T16:00:00+00:00",
          "2024-05-03T12:00:00+00:00",
          "2024-05-03T16:00:00+00:00",
          "2024-05-06T12:00:00+00:00",
          "2024-05-06T16:00:00+00:00",
          "2024-05-07T12:00:00+00:00",
          "2024-05-07T16:00:00+00:00",
          "2024-05-08T12:00:00+00:00",
          "2024-05-08T16:00:00+00:00",
          "2024-05-09T12:00:00+00:00",
          "2024-05-09T16:00:00+00:00",
          "2024-05-10T12:00:00+00:00",
          "2024-05-10T16:00:00+00:00",
          "2024-05-13T12:00:00+00:00",
          "2024-05-13T16:00:00+00:00",
          "2024-05-14T12:00:00+00:00",
          "2024-05-14T16:00:00+00:00",
          "2024-05-15T12:00:00+00:00",
          "2024-05-15T16:00:00+00:00",
          "2024-05-16T12:00:00+00:00",
          "2024-05-16T16:00:00+00:00",
          "2024-05-17T12:00:00+00:00",
          "2024-05-17T16:00:00+00:00",
          "2024-05-20T12:00:00+00:00",
          "2024-05-20T16:00:00+00:00",
          "2024-05-21T12:00:00+00:00",
          "2024-05-21T16:00:00+00:00",
          "2024-05-22T12:00:00+00:00",
          "2024-05-22T16:00:00+00:00",
          "2024-05-23T12:00:00+00:00",
          "2024-05-23T16:00:00+00:00",
          "2024-05-24T12:00:00+00:00",
          "2024-05-24T16:00:00+00:00",
          "2024-05-28T12:00:00+00:00",
          "2024-05-28T16:00:00+00:00",
          "2024-05-29T12:00:00+00:00",
          "2024-05-29T16:00:00+00:00",
          "2024-05-30T12:00:00+00:00",
          "2024-05-30T16:00:00+00:00",
          "2024-05-31T12:00:00+00:00",
          "2024-05-31T16:00:00+00:00",
          "2024-06-03T12:00:00+00:00",
          "2024-06-03T16:00:00+00:00",
          "2024-06-04T12:00:00+00:00",
          "2024-06-04T16:00:00+00:00",
          "2024-06-05T12:00:00+00:00",
          "2024-06-05T16:00:00+00:00",
          "2024-06-06T12:00:00+00:00",
          "2024-06-06T16:00:00+00:00",
          "2024-06-07T12:00:00+00:00",
          "2024-06-07T16:00:00+00:00",
          "2024-06-10T12:00:00+00:00",
          "2024-06-10T16:00:00+00:00",
          "2024-06-11T12:00:00+00:00",
          "2024-06-11T16:00:00+00:00",
          "2024-06-12T12:00:00+00:00",
          "2024-06-12T16:00:00+00:00",
          "2024-06-13T12:00:00+00:00",
          "2024-06-13T16:00:00+00:00",
          "2024-06-14T12:00:00+00:00",
          "2024-06-14T16:00:00+00:00",
          "2024-06-17T12:00:00+00:00",
          "2024-06-17T16:00:00+00:00",
          "2024-06-18T12:00:00+00:00",
          "2024-06-18T16:00:00+00:00",
          "2024-06-20T12:00:00+00:00",
          "2024-06-20T16:00:00+00:00",
          "2024-06-21T12:00:00+00:00",
          "2024-06-21T16:00:00+00:00",
          "2024-06-24T12:00:00+00:00",
          "2024-06-24T16:00:00+00:00",
          "2024-06-25T12:00:00+00:00",
          "2024-06-25T16:00:00+00:00",
          "2024-06-26T12:00:00+00:00",
          "2024-06-26T16:00:00+00:00",
          "2024-06-27T12:00:00+00:00",
          "2024-06-27T16:00:00+00:00",
          "2024-06-28T12:00:00+00:00",
          "2024-06-28T16:00:00+00:00",
          "2024-07-01T12:00:00+00:00",
          "2024-07-01T16:00:00+00:00",
          "2024-07-02T12:00:00+00:00",
          "2024-07-02T16:00:00+00:00",
          "2024-07-03T12:00:00+00:00",
          "2024-07-03T16:00:00+00:00",
          "2024-07-05T12:00:00+00:00",
          "2024-07-05T16:00:00+00:00",
          "2024-07-08T12:00:00+00:00",
          "2024-07-08T16:00:00+00:00",
          "2024-07-09T12:00:00+00:00",
          "2024-07-09T16:00:00+00:00",
          "2024-07-10T12:00:00+00:00",
          "2024-07-10T16:00:00+00:00",
          "2024-07-11T12:00:00+00:00",
          "2024-07-11T16:00:00+00:00",
          "2024-07-12T12:00:00+00:00",
          "2024-07-12T16:00:00+00:00",
          "2024-07-15T12:00:00+00:00",
          "2024-07-15T16:00:00+00:00",
          "2024-07-16T12:00:00+00:00",
          "2024-07-16T16:00:00+00:00",
          "2024-07-17T12:00:00+00:00",
          "2024-07-17T16:00:00+00:00",
          "2024-07-18T12:00:00+00:00",
          "2024-07-18T16:00:00+00:00",
          "2024-07-19T12:00:00+00:00",
          "2024-07-19T16:00:00+00:00",
          "2024-07-22T12:00:00+00:00",
          "2024-07-22T16:00:00+00:00",
          "2024-07-23T12:00:00+00:00",
          "2024-07-23T16:00:00+00:00",
          "2024-07-24T12:00:00+00:00",
          "2024-07-24T16:00:00+00:00",
          "2024-07-25T12:00:00+00:00",
          "2024-07-25T16:00:00+00:00",
          "2024-07-26T12:00:00+00:00",
          "2024-07-26T16:00:00+00:00",
          "2024-07-29T12:00:00+00:00",
          "2024-07-29T16:00:00+00:00",
          "2024-07-30T12:00:00+00:00",
          "2024-07-30T16:00:00+00:00",
          "2024-07-31T12:00:00+00:00",
          "2024-07-31T16:00:00+00:00",
          "2024-08-01T12:00:00+00:00",
          "2024-08-01T16:00:00+00:00",
          "2024-08-02T12:00:00+00:00",
          "2024-08-02T16:00:00+00:00",
          "2024-08-05T12:00:00+00:00",
          "2024-08-05T16:00:00+00:00",
          "2024-08-06T12:00:00+00:00",
          "2024-08-06T16:00:00+00:00",
          "2024-08-07T12:00:00+00:00",
          "2024-08-07T16:00:00+00:00",
          "2024-08-08T12:00:00+00:00",
          "2024-08-08T16:00:00+00:00",
          "2024-08-09T12:00:00+00:00",
          "2024-08-09T16:00:00+00:00",
          "2024-08-12T12:00:00+00:00",
          "2024-08-12T16:00:00+00:00",
          "2024-08-13T12:00:00+00:00",
          "2024-08-13T16:00:00+00:00",
          "2024-08-14T12:00:00+00:00",
          "2024-08-14T16:00:00+00:00",
          "2024-08-15T12:00:00+00:00",
          "2024-08-15T16:00:00+00:00",
          "2024-08-16T12:00:00+00:00",
          "2024-08-16T16:00:00+00:00",
          "2024-08-19T12:00:00+00:00",
          "2024-08-19T16:00:00+00:00",
          "2024-08-20T12:00:00+00:00",
          "2024-08-20T16:00:00+00:00",
          "2024-08-21T12:00:00+00:00",
          "2024-08-21T16:00:00+00:00",
          "2024-08-22T12:00:00+00:00",
          "2024-08-22T16:00:00+00:00",
          "2024-08-23T12:00:00+00:00",
          "2024-08-23T16:00:00+00:00",
          "2024-08-26T12:00:00+00:00",
          "2024-08-26T16:00:00+00:00",
          "2024-08-27T12:00:00+00:00",
          "2024-08-27T16:00:00+00:00",
          "2024-08-28T12:00:00+00:00",
          "2024-08-28T16:00:00+00:00",
          "2024-08-29T12:00:00+00:00",
          "2024-08-29T16:00:00+00:00",
          "2024-08-30T12:00:00+00:00",
          "2024-08-30T16:00:00+00:00"
         ],
         "xaxis": "x",
         "y": [
          10000,
          9996.917760999999,
          9977.837761,
          9966.587761,
          10010.237761,
          9921.137761,
          9938.417760999999,
          10004.657761,
          9969.017761,
          10019.057761,
          9991.877761,
          9969.377761,
          10001.867761,
          9944.357761,
          9956.597760999999,
          9923.117761,
          9938.957761,
          9946.787761,
          9972.437761,
          9968.387761,
          9988.187761,
          10053.347760999999,
          10053.617761,
          10093.648071,
          10078.848071,
          10060.448070999999,
          10070.848071,
          10014.148071,
          10015.348071,
          9983.848071,
          9993.448071,
          9982.548071000001,
          9973.248071,
          9984.048071,
          9988.648071,
          10003.248071,
          10002.548071000001,
          9993.648071,
          10004.748071,
          10031.448071,
          10003.848071,
          9957.348071,
          9911.95185368863,
          9911.95185368863,
          9931.74232368863,
          10003.84232368863,
          9986.542323688629,
          9965.44232368863,
          9935.14232368863,
          10019.74232368863,
          10010.14232368863,
          9997.14232368863,
          9981.84232368863,
          9999.54232368863,
          9967.14232368863,
          9995.24232368863,
          9985.44232368863,
          10006.34232368863,
          9983.44232368863,
          9988.84232368863,
          10013.14232368863,
          10041.34232368863,
          10045.04232368863,
          10032.54232368863,
          10041.14232368863,
          9953.24232368863,
          9987.64232368863,
          10036.44232368863,
          10107.84232368863,
          10136.14232368863,
          10140.44896768863,
          10084.738967688629,
          10094.998967688629,
          10062.59896768863,
          10059.44896768863,
          10111.01896768863,
          10097.78896768863,
          10128.478967688628,
          10120.01896768863,
          10032.634756550402,
          10033.832512550402,
          10061.282512550402,
          10074.512512550402,
          10048.862512550402,
          9999.452512550402,
          10015.202512550402,
          10023.752512550402,
          10042.652512550401,
          10027.172512550402,
          10011.602512550402,
          9975.332512550402,
          9934.644439248113,
          9936.826624248113,
          9928.996624248113,
          9925.756624248113,
          9922.066624248113,
          9940.786624248114,
          9953.206624248112,
          9953.116624248114,
          9931.066624248113,
          9931.066624248113,
          9926.900693248113,
          9899.948114248113,
          9863.228114248113,
          9886.088114248114,
          9876.188114248114,
          9919.658114248114,
          9901.748114248114,
          9904.898114248113,
          9958.628114248115,
          9969.428114248114,
          9980.138114248115,
          10000.838114248114,
          10024.418114248114,
          10054.118114248113,
          10011.008114248114,
          10009.118114248113,
          9969.158114248114,
          9964.118114248113,
          9980.048114248115,
          9987.878114248115,
          10029.188114248114,
          10031.438114248114,
          10008.218114248115,
          9962.588114248114,
          9935.678114248114,
          9924.608114248113,
          9935.318114248113,
          9962.588114248114,
          9939.638114248115,
          9921.368114248113,
          9943.868114248113,
          9966.188114248114,
          9953.768114248114,
          9937.208114248115,
          9939.278114248113,
          9909.398114248113,
          9892.388114248115,
          9890.768114248114,
          9900.218114248115,
          9921.278114248113,
          9904.988114248114,
          9907.148114248113,
          9890.138114248115,
          9896.798114248115,
          9895.358114248113,
          9888.518114248114,
          9875.198114248113,
          9888.608114248113,
          9869.888114248115,
          9872.408114248114,
          9890.678114248114,
          9870.338114248114,
          9880.598114248114,
          9920.558114248113,
          9897.968114248115,
          9904.538114248113,
          9870.428114248114,
          9904.808114248113,
          9897.068114248113,
          9940.538114248113,
          9940.808114248113,
          9940.808114248113,
          9940.808114248113,
          9940.808114248113,
          9940.808114248113,
          9940.808114248113,
          9940.808114248113,
          9940.808114248113,
          9940.808114248113,
          9940.808114248113,
          9924.695732248114,
          9899.865732248114,
          9884.785732248112,
          9920.795732248114,
          9934.315732248113,
          9936.785732248112,
          9965.125732248114,
          9965.775732248112,
          9976.565732248113,
          10014.655732248113,
          10014.655732248113,
          10014.655732248113,
          10092.458548248114,
          10091.978548248115,
          10076.329808248116,
          10058.029808248115,
          10120.229808248116,
          10119.829808248116,
          10114.629808248115,
          10121.329808248116,
          10107.629808248115,
          10099.729808248116,
          10083.529808248117,
          10072.329808248116,
          10109.929808248116,
          10083.129808248115,
          10086.629808248115,
          10117.629808248115,
          10117.629808248115,
          10117.629808248115,
          10117.629808248115,
          10117.629808248115,
          10096.690984248115,
          10217.290984248117,
          10217.170984248116,
          10217.170984248116,
          10217.170984248116,
          10217.170984248116,
          10217.170984248116,
          10217.170984248116,
          10217.170984248116,
          10217.170984248116,
          10217.170984248116,
          10217.170984248116,
          10217.170984248116,
          10217.170984248116,
          10217.170984248116,
          10217.170984248116,
          10217.170984248116,
          10217.170984248116,
          10217.170984248116,
          10217.170984248116,
          10217.170984248116,
          10208.085424248116,
          10188.285424248117,
          10182.455424248117,
          10166.285424248117,
          10173.765424248117,
          10159.025424248117,
          10175.305424248118,
          10183.555424248118,
          10185.755424248116,
          10183.665424248116,
          10179.485424248116,
          10189.495424248116,
          10184.105424248117,
          10193.565424248116,
          10201.375424248117,
          10204.785424248117,
          10262.535424248117,
          10256.375424248117,
          10248.565424248116,
          10263.855424248117,
          10249.775424248117,
          10250.105424248117,
          10364.945424248117,
          10363.515424248117,
          10344.391060248116,
          10237.291060248115,
          10236.913865248116,
          10234.443865248117,
          10164.113865248115,
          10169.703865248117,
          10183.353865248115,
          10290.213865248115,
          10278.123865248117,
          10282.933865248116,
          10328.303865248115,
          10319.723865248116,
          10305.813865248118,
          10330.903865248116,
          10283.063865248118,
          10270.843865248116,
          10295.543865248115,
          10280.853865248115,
          10281.503865248116,
          10290.993865248116,
          10253.423865248116,
          10259.533865248115,
          10557.493865248116,
          10557.623865248117,
          10557.623865248117,
          10557.623865248117,
          10557.623865248117,
          10557.623865248117,
          10557.623865248117,
          10557.623865248117,
          10557.623865248117,
          10557.623865248117,
          10557.623865248117,
          10557.623865248117,
          10557.623865248117,
          10557.623865248117,
          10557.623865248117,
          10557.623865248117,
          10557.623865248117,
          10557.623865248117,
          10557.623865248117,
          10557.623865248117,
          10557.623865248117,
          10557.623865248117,
          10557.623865248117,
          10557.623865248117,
          10557.623865248117,
          10557.623865248117,
          10557.623865248117,
          10557.623865248117,
          10557.623865248117,
          10557.623865248117,
          10557.623865248117,
          10557.623865248117,
          10557.623865248117,
          10557.623865248117,
          10557.623865248117,
          10557.623865248117,
          10557.623865248117,
          10557.623865248117,
          10557.623865248117,
          10557.623865248117,
          10557.623865248117,
          10557.623865248117,
          10557.623865248117,
          10557.623865248117,
          10557.623865248117,
          10557.623865248117,
          10557.623865248117,
          10557.623865248117,
          10557.623865248117,
          10557.623865248117,
          10557.623865248117,
          10557.623865248117,
          10571.987295248116,
          10567.587295248117,
          10552.887295248118,
          10559.187295248117,
          10549.987295248116,
          10577.587295248117,
          10569.387295248116,
          10584.887295248118,
          10607.187295248117,
          10581.187295248117,
          10572.087295248117,
          10519.087295248117,
          10588.087295248117,
          10585.687295248117,
          10605.687295248117,
          10588.387295248116,
          10593.287295248116,
          10556.287295248118,
          10548.487295248118,
          10549.787295248118,
          10542.687295248117,
          10534.187295248117,
          10531.487295248116,
          10528.487295248118,
          10547.687295248117,
          10550.787295248116,
          10555.287295248118,
          10551.587295248117,
          10542.087295248117,
          10537.087295248117,
          10522.687295248117,
          10508.887295248118,
          10449.692795459263,
          10464.703835459262,
          10451.353835459262,
          10430.503835459263,
          10487.053835459263,
          10474.453835459262,
          10529.653835459261,
          10500.553835459263,
          10517.053835459263,
          11063.953835459262,
          11063.953835459262,
          11063.953835459262,
          11063.953835459262,
          11063.953835459262,
          11063.953835459262,
          11063.953835459262,
          11063.953835459262,
          11063.953835459262,
          11063.953835459262,
          11063.953835459262,
          11063.953835459262,
          11063.953835459262,
          11063.953835459262,
          11060.900819459262,
          11093.030819459264,
          11065.940819459263,
          11055.950819459264,
          11113.010819459263,
          11096.900819459262,
          11111.570819459263,
          11141.450819459264,
          11158.460819459264,
          11135.870819459262,
          11237.030819459264,
          11233.520819459263,
          11238.380819459264,
          11245.940819459263,
          11272.670819459263,
          11218.760819459263,
          11217.500819459263,
          11219.750819459263,
          11236.490819459263,
          11233.160819459263,
          11231.720819459262,
          11215.520819459263,
          11228.030819459264,
          11228.030819459264,
          11228.030819459264,
          11228.030819459264,
          11228.030819459264,
          11228.030819459264,
          11228.030819459264,
          11228.030819459264,
          11228.030819459264,
          11228.030819459264,
          11228.030819459264,
          11228.030819459264,
          11228.030819459264,
          11210.469611459264,
          11214.249611459263,
          11202.209611459264,
          11247.289611459264,
          11251.909611459263,
          11779.849611459264,
          11779.289611459264,
          11779.289611459264,
          11779.289611459264,
          11779.289611459264,
          11779.289611459264,
          11779.289611459264,
          11779.289611459264,
          11779.289611459264,
          11779.289611459264,
          11779.289611459264,
          11779.289611459264,
          11779.289611459264,
          11779.289611459264,
          11779.289611459264,
          11779.289611459264,
          11770.669747459264,
          11744.149747459265,
          11854.909747459264,
          11845.669747459264,
          12170.389747459263,
          12137.989747459264,
          12244.309747459263,
          12243.949747459264,
          12221.504081064866,
          12202.286323064865,
          12156.366323064867,
          12164.486323064866,
          12196.196323064867,
          12226.926323064867,
          12255.836323064867,
          12272.916323064866,
          12290.626323064866,
          12254.786323064865,
          12208.096323064867,
          12220.766323064867,
          12209.006323064867,
          12205.786323064865,
          12235.886323064866,
          12247.646323064866,
          12289.436323064867,
          12288.596323064867,
          12263.466323064866,
          12277.606323064867,
          12243.726323064866,
          12227.626323064866,
          12249.186323064867,
          12228.956323064866,
          12221.116323064867,
          12224.686323064867,
          12189.616323064867,
          12167.776323064867,
          12168.896323064866,
          12150.556323064866,
          12151.396323064866,
          12120.176323064867,
          12103.096323064867,
          12099.077642119417,
          12167.988068119417,
          12094.538068119416,
          12145.888068119417,
          12072.958068119417,
          11989.836199675487,
          11993.665145675486,
          11866.44746647021,
          11878.77897647021,
          11882.478976470211,
          11863.77897647021,
          11891.87897647021,
          11929.578976470211,
          11881.57897647021,
          11863.27897647021,
          11875.87897647021,
          11889.07897647021,
          11938.978976470211,
          11934.87897647021,
          11966.478976470211,
          12026.87897647021,
          12057.87897647021,
          12082.77897647021,
          12315.77897647021,
          12343.214846470211,
          12316.81484647021,
          12316.81484647021,
          12316.81484647021,
          12316.81484647021,
          12316.81484647021,
          12316.81484647021,
          12316.81484647021,
          12316.81484647021,
          12316.81484647021,
          12316.81484647021,
          12316.81484647021,
          12316.81484647021,
          12316.81484647021,
          12316.81484647021,
          12316.81484647021,
          12384.46588047021,
          12394.255880470211,
          12411.085880470211,
          12385.67588047021,
          12360.92588047021,
          12309.335880470211,
          12423.62588047021,
          12400.30588047021,
          12406.79588047021,
          12359.71588047021,
          12359.05588047021,
          12303.28588047021,
          12263.35588047021,
          12256.86588047021,
          12292.94588047021,
          12263.13588047021,
          12297.78588047021,
          12342.22588047021,
          12356.19588047021,
          12282.16588047021,
          12298.335880470211,
          12290.85588047021,
          12300.97588047021,
          12315.93588047021,
          12322.31588047021,
          12461.57588047021,
          12461.68588047021,
          12461.68588047021,
          12508.03896747021,
          12490.30896747021,
          12487.518967470209,
          12550.698967470209,
          12550.698967470209,
          12550.698967470209,
          12550.698967470209,
          12550.698967470209,
          12550.698967470209,
          12550.698967470209,
          12550.698967470209,
          12550.698967470209,
          12525.313068470208,
          12424.553068470208,
          12461.073068470208,
          12415.863068470208,
          12409.383548470207,
          12350.683548470208,
          12382.183548470208,
          12193.683548470208,
          12142.874167470207,
          12015.194167470208,
          12004.497096470208,
          12023.607096470208,
          12055.247096470208,
          12025.287096470209,
          12021.997096470208,
          12069.317096470208,
          12090.737096470208,
          12093.88709647021,
          12106.697096470209,
          12090.177096470208,
          12084.717096470207,
          12038.867096470209,
          12062.38709647021,
          11973.557096470207,
          11997.077096470208,
          12026.547096470209,
          12012.897096470208,
          11975.587096470208,
          11964.877096470209,
          11989.377096470209,
          11947.237096470208,
          12009.117096470209,
          12016.817096470208,
          11950.527096470209,
          11884.946533470433,
          11925.580789470432,
          11974.660789470432,
          11959.420789470432,
          11950.660789470432,
          11957.560789470434,
          11983.780789470433,
          11959.660789470432,
          11985.760789470432,
          12021.520789470433,
          12035.020789470433,
          12009.100789470433,
          12009.100789470433,
          12003.158328470432,
          11978.728328470432,
          11957.938328470433,
          11951.428328470432,
          11968.648328470434,
          11958.288328470433,
          11965.288328470433,
          11955.558328470433,
          11936.518328470433,
          11947.998328470432,
          11920.898160591863,
          11937.128112591863,
          11919.848112591864,
          11939.828112591862,
          12007.868112591863,
          11968.358112591863,
          11922.458112591863,
          11908.148112591864,
          11875.208112591863,
          11878.268112591864,
          11894.288112591863,
          11873.948112591863,
          11874.488112591862,
          11872.598112591864,
          11857.388112591863,
          11839.838112591864,
          11865.758112591864,
          11865.758112591864
         ],
         "yaxis": "y"
        }
       ],
       "layout": {
        "legend": {
         "tracegroupgap": 0
        },
        "margin": {
         "t": 60
        },
        "template": {
         "data": {
          "bar": [
           {
            "error_x": {
             "color": "#2a3f5f"
            },
            "error_y": {
             "color": "#2a3f5f"
            },
            "marker": {
             "line": {
              "color": "#E5ECF6",
              "width": 0.5
             },
             "pattern": {
              "fillmode": "overlay",
              "size": 10,
              "solidity": 0.2
             }
            },
            "type": "bar"
           }
          ],
          "barpolar": [
           {
            "marker": {
             "line": {
              "color": "#E5ECF6",
              "width": 0.5
             },
             "pattern": {
              "fillmode": "overlay",
              "size": 10,
              "solidity": 0.2
             }
            },
            "type": "barpolar"
           }
          ],
          "carpet": [
           {
            "aaxis": {
             "endlinecolor": "#2a3f5f",
             "gridcolor": "white",
             "linecolor": "white",
             "minorgridcolor": "white",
             "startlinecolor": "#2a3f5f"
            },
            "baxis": {
             "endlinecolor": "#2a3f5f",
             "gridcolor": "white",
             "linecolor": "white",
             "minorgridcolor": "white",
             "startlinecolor": "#2a3f5f"
            },
            "type": "carpet"
           }
          ],
          "choropleth": [
           {
            "colorbar": {
             "outlinewidth": 0,
             "ticks": ""
            },
            "type": "choropleth"
           }
          ],
          "contour": [
           {
            "colorbar": {
             "outlinewidth": 0,
             "ticks": ""
            },
            "colorscale": [
             [
              0,
              "#0d0887"
             ],
             [
              0.1111111111111111,
              "#46039f"
             ],
             [
              0.2222222222222222,
              "#7201a8"
             ],
             [
              0.3333333333333333,
              "#9c179e"
             ],
             [
              0.4444444444444444,
              "#bd3786"
             ],
             [
              0.5555555555555556,
              "#d8576b"
             ],
             [
              0.6666666666666666,
              "#ed7953"
             ],
             [
              0.7777777777777778,
              "#fb9f3a"
             ],
             [
              0.8888888888888888,
              "#fdca26"
             ],
             [
              1,
              "#f0f921"
             ]
            ],
            "type": "contour"
           }
          ],
          "contourcarpet": [
           {
            "colorbar": {
             "outlinewidth": 0,
             "ticks": ""
            },
            "type": "contourcarpet"
           }
          ],
          "heatmap": [
           {
            "colorbar": {
             "outlinewidth": 0,
             "ticks": ""
            },
            "colorscale": [
             [
              0,
              "#0d0887"
             ],
             [
              0.1111111111111111,
              "#46039f"
             ],
             [
              0.2222222222222222,
              "#7201a8"
             ],
             [
              0.3333333333333333,
              "#9c179e"
             ],
             [
              0.4444444444444444,
              "#bd3786"
             ],
             [
              0.5555555555555556,
              "#d8576b"
             ],
             [
              0.6666666666666666,
              "#ed7953"
             ],
             [
              0.7777777777777778,
              "#fb9f3a"
             ],
             [
              0.8888888888888888,
              "#fdca26"
             ],
             [
              1,
              "#f0f921"
             ]
            ],
            "type": "heatmap"
           }
          ],
          "heatmapgl": [
           {
            "colorbar": {
             "outlinewidth": 0,
             "ticks": ""
            },
            "colorscale": [
             [
              0,
              "#0d0887"
             ],
             [
              0.1111111111111111,
              "#46039f"
             ],
             [
              0.2222222222222222,
              "#7201a8"
             ],
             [
              0.3333333333333333,
              "#9c179e"
             ],
             [
              0.4444444444444444,
              "#bd3786"
             ],
             [
              0.5555555555555556,
              "#d8576b"
             ],
             [
              0.6666666666666666,
              "#ed7953"
             ],
             [
              0.7777777777777778,
              "#fb9f3a"
             ],
             [
              0.8888888888888888,
              "#fdca26"
             ],
             [
              1,
              "#f0f921"
             ]
            ],
            "type": "heatmapgl"
           }
          ],
          "histogram": [
           {
            "marker": {
             "pattern": {
              "fillmode": "overlay",
              "size": 10,
              "solidity": 0.2
             }
            },
            "type": "histogram"
           }
          ],
          "histogram2d": [
           {
            "colorbar": {
             "outlinewidth": 0,
             "ticks": ""
            },
            "colorscale": [
             [
              0,
              "#0d0887"
             ],
             [
              0.1111111111111111,
              "#46039f"
             ],
             [
              0.2222222222222222,
              "#7201a8"
             ],
             [
              0.3333333333333333,
              "#9c179e"
             ],
             [
              0.4444444444444444,
              "#bd3786"
             ],
             [
              0.5555555555555556,
              "#d8576b"
             ],
             [
              0.6666666666666666,
              "#ed7953"
             ],
             [
              0.7777777777777778,
              "#fb9f3a"
             ],
             [
              0.8888888888888888,
              "#fdca26"
             ],
             [
              1,
              "#f0f921"
             ]
            ],
            "type": "histogram2d"
           }
          ],
          "histogram2dcontour": [
           {
            "colorbar": {
             "outlinewidth": 0,
             "ticks": ""
            },
            "colorscale": [
             [
              0,
              "#0d0887"
             ],
             [
              0.1111111111111111,
              "#46039f"
             ],
             [
              0.2222222222222222,
              "#7201a8"
             ],
             [
              0.3333333333333333,
              "#9c179e"
             ],
             [
              0.4444444444444444,
              "#bd3786"
             ],
             [
              0.5555555555555556,
              "#d8576b"
             ],
             [
              0.6666666666666666,
              "#ed7953"
             ],
             [
              0.7777777777777778,
              "#fb9f3a"
             ],
             [
              0.8888888888888888,
              "#fdca26"
             ],
             [
              1,
              "#f0f921"
             ]
            ],
            "type": "histogram2dcontour"
           }
          ],
          "mesh3d": [
           {
            "colorbar": {
             "outlinewidth": 0,
             "ticks": ""
            },
            "type": "mesh3d"
           }
          ],
          "parcoords": [
           {
            "line": {
             "colorbar": {
              "outlinewidth": 0,
              "ticks": ""
             }
            },
            "type": "parcoords"
           }
          ],
          "pie": [
           {
            "automargin": true,
            "type": "pie"
           }
          ],
          "scatter": [
           {
            "fillpattern": {
             "fillmode": "overlay",
             "size": 10,
             "solidity": 0.2
            },
            "type": "scatter"
           }
          ],
          "scatter3d": [
           {
            "line": {
             "colorbar": {
              "outlinewidth": 0,
              "ticks": ""
             }
            },
            "marker": {
             "colorbar": {
              "outlinewidth": 0,
              "ticks": ""
             }
            },
            "type": "scatter3d"
           }
          ],
          "scattercarpet": [
           {
            "marker": {
             "colorbar": {
              "outlinewidth": 0,
              "ticks": ""
             }
            },
            "type": "scattercarpet"
           }
          ],
          "scattergeo": [
           {
            "marker": {
             "colorbar": {
              "outlinewidth": 0,
              "ticks": ""
             }
            },
            "type": "scattergeo"
           }
          ],
          "scattergl": [
           {
            "marker": {
             "colorbar": {
              "outlinewidth": 0,
              "ticks": ""
             }
            },
            "type": "scattergl"
           }
          ],
          "scattermapbox": [
           {
            "marker": {
             "colorbar": {
              "outlinewidth": 0,
              "ticks": ""
             }
            },
            "type": "scattermapbox"
           }
          ],
          "scatterpolar": [
           {
            "marker": {
             "colorbar": {
              "outlinewidth": 0,
              "ticks": ""
             }
            },
            "type": "scatterpolar"
           }
          ],
          "scatterpolargl": [
           {
            "marker": {
             "colorbar": {
              "outlinewidth": 0,
              "ticks": ""
             }
            },
            "type": "scatterpolargl"
           }
          ],
          "scatterternary": [
           {
            "marker": {
             "colorbar": {
              "outlinewidth": 0,
              "ticks": ""
             }
            },
            "type": "scatterternary"
           }
          ],
          "surface": [
           {
            "colorbar": {
             "outlinewidth": 0,
             "ticks": ""
            },
            "colorscale": [
             [
              0,
              "#0d0887"
             ],
             [
              0.1111111111111111,
              "#46039f"
             ],
             [
              0.2222222222222222,
              "#7201a8"
             ],
             [
              0.3333333333333333,
              "#9c179e"
             ],
             [
              0.4444444444444444,
              "#bd3786"
             ],
             [
              0.5555555555555556,
              "#d8576b"
             ],
             [
              0.6666666666666666,
              "#ed7953"
             ],
             [
              0.7777777777777778,
              "#fb9f3a"
             ],
             [
              0.8888888888888888,
              "#fdca26"
             ],
             [
              1,
              "#f0f921"
             ]
            ],
            "type": "surface"
           }
          ],
          "table": [
           {
            "cells": {
             "fill": {
              "color": "#EBF0F8"
             },
             "line": {
              "color": "white"
             }
            },
            "header": {
             "fill": {
              "color": "#C8D4E3"
             },
             "line": {
              "color": "white"
             }
            },
            "type": "table"
           }
          ]
         },
         "layout": {
          "annotationdefaults": {
           "arrowcolor": "#2a3f5f",
           "arrowhead": 0,
           "arrowwidth": 1
          },
          "autotypenumbers": "strict",
          "coloraxis": {
           "colorbar": {
            "outlinewidth": 0,
            "ticks": ""
           }
          },
          "colorscale": {
           "diverging": [
            [
             0,
             "#8e0152"
            ],
            [
             0.1,
             "#c51b7d"
            ],
            [
             0.2,
             "#de77ae"
            ],
            [
             0.3,
             "#f1b6da"
            ],
            [
             0.4,
             "#fde0ef"
            ],
            [
             0.5,
             "#f7f7f7"
            ],
            [
             0.6,
             "#e6f5d0"
            ],
            [
             0.7,
             "#b8e186"
            ],
            [
             0.8,
             "#7fbc41"
            ],
            [
             0.9,
             "#4d9221"
            ],
            [
             1,
             "#276419"
            ]
           ],
           "sequential": [
            [
             0,
             "#0d0887"
            ],
            [
             0.1111111111111111,
             "#46039f"
            ],
            [
             0.2222222222222222,
             "#7201a8"
            ],
            [
             0.3333333333333333,
             "#9c179e"
            ],
            [
             0.4444444444444444,
             "#bd3786"
            ],
            [
             0.5555555555555556,
             "#d8576b"
            ],
            [
             0.6666666666666666,
             "#ed7953"
            ],
            [
             0.7777777777777778,
             "#fb9f3a"
            ],
            [
             0.8888888888888888,
             "#fdca26"
            ],
            [
             1,
             "#f0f921"
            ]
           ],
           "sequentialminus": [
            [
             0,
             "#0d0887"
            ],
            [
             0.1111111111111111,
             "#46039f"
            ],
            [
             0.2222222222222222,
             "#7201a8"
            ],
            [
             0.3333333333333333,
             "#9c179e"
            ],
            [
             0.4444444444444444,
             "#bd3786"
            ],
            [
             0.5555555555555556,
             "#d8576b"
            ],
            [
             0.6666666666666666,
             "#ed7953"
            ],
            [
             0.7777777777777778,
             "#fb9f3a"
            ],
            [
             0.8888888888888888,
             "#fdca26"
            ],
            [
             1,
             "#f0f921"
            ]
           ]
          },
          "colorway": [
           "#636efa",
           "#EF553B",
           "#00cc96",
           "#ab63fa",
           "#FFA15A",
           "#19d3f3",
           "#FF6692",
           "#B6E880",
           "#FF97FF",
           "#FECB52"
          ],
          "font": {
           "color": "#2a3f5f"
          },
          "geo": {
           "bgcolor": "white",
           "lakecolor": "white",
           "landcolor": "#E5ECF6",
           "showlakes": true,
           "showland": true,
           "subunitcolor": "white"
          },
          "hoverlabel": {
           "align": "left"
          },
          "hovermode": "closest",
          "mapbox": {
           "style": "light"
          },
          "paper_bgcolor": "white",
          "plot_bgcolor": "#E5ECF6",
          "polar": {
           "angularaxis": {
            "gridcolor": "white",
            "linecolor": "white",
            "ticks": ""
           },
           "bgcolor": "#E5ECF6",
           "radialaxis": {
            "gridcolor": "white",
            "linecolor": "white",
            "ticks": ""
           }
          },
          "scene": {
           "xaxis": {
            "backgroundcolor": "#E5ECF6",
            "gridcolor": "white",
            "gridwidth": 2,
            "linecolor": "white",
            "showbackground": true,
            "ticks": "",
            "zerolinecolor": "white"
           },
           "yaxis": {
            "backgroundcolor": "#E5ECF6",
            "gridcolor": "white",
            "gridwidth": 2,
            "linecolor": "white",
            "showbackground": true,
            "ticks": "",
            "zerolinecolor": "white"
           },
           "zaxis": {
            "backgroundcolor": "#E5ECF6",
            "gridcolor": "white",
            "gridwidth": 2,
            "linecolor": "white",
            "showbackground": true,
            "ticks": "",
            "zerolinecolor": "white"
           }
          },
          "shapedefaults": {
           "line": {
            "color": "#2a3f5f"
           }
          },
          "ternary": {
           "aaxis": {
            "gridcolor": "white",
            "linecolor": "white",
            "ticks": ""
           },
           "baxis": {
            "gridcolor": "white",
            "linecolor": "white",
            "ticks": ""
           },
           "bgcolor": "#E5ECF6",
           "caxis": {
            "gridcolor": "white",
            "linecolor": "white",
            "ticks": ""
           }
          },
          "title": {
           "x": 0.05
          },
          "xaxis": {
           "automargin": true,
           "gridcolor": "white",
           "linecolor": "white",
           "ticks": "",
           "title": {
            "standoff": 15
           },
           "zerolinecolor": "white",
           "zerolinewidth": 2
          },
          "yaxis": {
           "automargin": true,
           "gridcolor": "white",
           "linecolor": "white",
           "ticks": "",
           "title": {
            "standoff": 15
           },
           "zerolinecolor": "white",
           "zerolinewidth": 2
          }
         }
        },
        "title": {
         "text": "UNHm, 16388"
        },
        "xaxis": {
         "anchor": "y",
         "domain": [
          0,
          1
         ],
         "title": {
          "text": "Date"
         }
        },
        "yaxis": {
         "anchor": "x",
         "domain": [
          0,
          1
         ],
         "title": {
          "text": "Equity"
         }
        }
       }
      }
     },
     "metadata": {},
     "output_type": "display_data"
    },
    {
     "name": "stdout",
     "output_type": "stream",
     "text": [
      "UPSm 16388\n"
     ]
    },
    {
     "data": {
      "application/vnd.plotly.v1+json": {
       "config": {
        "plotlyServerURL": "https://plot.ly"
       },
       "data": [
        {
         "hovertemplate": "x=%{x}<br>y=%{y}<extra></extra>",
         "legendgroup": "",
         "line": {
          "color": "#636efa",
          "dash": "solid"
         },
         "marker": {
          "symbol": "circle"
         },
         "mode": "lines",
         "name": "",
         "orientation": "v",
         "showlegend": false,
         "textposition": "bottom right",
         "type": "scatter",
         "x": [
          "2023-08-02T16:00:00+00:00",
          "2023-08-03T12:00:00+00:00",
          "2023-08-03T16:00:00+00:00",
          "2023-08-04T12:00:00+00:00",
          "2023-08-04T16:00:00+00:00",
          "2023-08-07T12:00:00+00:00",
          "2023-08-07T16:00:00+00:00",
          "2023-08-08T12:00:00+00:00",
          "2023-08-08T16:00:00+00:00",
          "2023-08-09T12:00:00+00:00",
          "2023-08-09T16:00:00+00:00",
          "2023-08-10T12:00:00+00:00",
          "2023-08-10T16:00:00+00:00",
          "2023-08-11T12:00:00+00:00",
          "2023-08-11T16:00:00+00:00",
          "2023-08-14T12:00:00+00:00",
          "2023-08-14T16:00:00+00:00",
          "2023-08-15T12:00:00+00:00",
          "2023-08-15T16:00:00+00:00",
          "2023-08-16T12:00:00+00:00",
          "2023-08-16T16:00:00+00:00",
          "2023-08-17T12:00:00+00:00",
          "2023-08-17T16:00:00+00:00",
          "2023-08-18T12:00:00+00:00",
          "2023-08-18T16:00:00+00:00",
          "2023-08-21T12:00:00+00:00",
          "2023-08-21T16:00:00+00:00",
          "2023-08-22T12:00:00+00:00",
          "2023-08-22T16:00:00+00:00",
          "2023-08-23T12:00:00+00:00",
          "2023-08-23T16:00:00+00:00",
          "2023-08-24T12:00:00+00:00",
          "2023-08-24T16:00:00+00:00",
          "2023-08-25T12:00:00+00:00",
          "2023-08-25T16:00:00+00:00",
          "2023-08-28T12:00:00+00:00",
          "2023-08-28T16:00:00+00:00",
          "2023-08-29T12:00:00+00:00",
          "2023-08-29T16:00:00+00:00",
          "2023-08-30T12:00:00+00:00",
          "2023-08-30T16:00:00+00:00",
          "2023-08-31T12:00:00+00:00",
          "2023-08-31T16:00:00+00:00",
          "2023-09-01T12:00:00+00:00",
          "2023-09-01T16:00:00+00:00",
          "2023-09-05T12:00:00+00:00",
          "2023-09-05T16:00:00+00:00",
          "2023-09-06T12:00:00+00:00",
          "2023-09-06T16:00:00+00:00",
          "2023-09-07T12:00:00+00:00",
          "2023-09-07T16:00:00+00:00",
          "2023-09-08T12:00:00+00:00",
          "2023-09-08T16:00:00+00:00",
          "2023-09-11T12:00:00+00:00",
          "2023-09-11T16:00:00+00:00",
          "2023-09-12T12:00:00+00:00",
          "2023-09-12T16:00:00+00:00",
          "2023-09-13T12:00:00+00:00",
          "2023-09-13T16:00:00+00:00",
          "2023-09-14T12:00:00+00:00",
          "2023-09-14T16:00:00+00:00",
          "2023-09-15T12:00:00+00:00",
          "2023-09-15T16:00:00+00:00",
          "2023-09-18T12:00:00+00:00",
          "2023-09-18T16:00:00+00:00",
          "2023-09-19T12:00:00+00:00",
          "2023-09-19T16:00:00+00:00",
          "2023-09-20T12:00:00+00:00",
          "2023-09-20T16:00:00+00:00",
          "2023-09-21T12:00:00+00:00",
          "2023-09-21T16:00:00+00:00",
          "2023-09-22T12:00:00+00:00",
          "2023-09-22T16:00:00+00:00",
          "2023-09-25T12:00:00+00:00",
          "2023-09-25T16:00:00+00:00",
          "2023-09-26T12:00:00+00:00",
          "2023-09-26T16:00:00+00:00",
          "2023-09-27T12:00:00+00:00",
          "2023-09-27T16:00:00+00:00",
          "2023-09-28T12:00:00+00:00",
          "2023-09-28T16:00:00+00:00",
          "2023-09-29T12:00:00+00:00",
          "2023-09-29T16:00:00+00:00",
          "2023-10-02T12:00:00+00:00",
          "2023-10-02T16:00:00+00:00",
          "2023-10-03T12:00:00+00:00",
          "2023-10-03T16:00:00+00:00",
          "2023-10-04T12:00:00+00:00",
          "2023-10-04T16:00:00+00:00",
          "2023-10-05T12:00:00+00:00",
          "2023-10-05T16:00:00+00:00",
          "2023-10-06T12:00:00+00:00",
          "2023-10-06T16:00:00+00:00",
          "2023-10-09T12:00:00+00:00",
          "2023-10-09T16:00:00+00:00",
          "2023-10-10T12:00:00+00:00",
          "2023-10-10T16:00:00+00:00",
          "2023-10-11T12:00:00+00:00",
          "2023-10-11T16:00:00+00:00",
          "2023-10-12T12:00:00+00:00",
          "2023-10-12T16:00:00+00:00",
          "2023-10-13T12:00:00+00:00",
          "2023-10-13T16:00:00+00:00",
          "2023-10-16T12:00:00+00:00",
          "2023-10-16T16:00:00+00:00",
          "2023-10-17T12:00:00+00:00",
          "2023-10-17T16:00:00+00:00",
          "2023-10-18T12:00:00+00:00",
          "2023-10-18T16:00:00+00:00",
          "2023-10-19T12:00:00+00:00",
          "2023-10-19T16:00:00+00:00",
          "2023-10-20T12:00:00+00:00",
          "2023-10-20T16:00:00+00:00",
          "2023-10-23T12:00:00+00:00",
          "2023-10-23T16:00:00+00:00",
          "2023-10-24T12:00:00+00:00",
          "2023-10-24T16:00:00+00:00",
          "2023-10-25T12:00:00+00:00",
          "2023-10-25T16:00:00+00:00",
          "2023-10-26T12:00:00+00:00",
          "2023-10-26T16:00:00+00:00",
          "2023-10-27T12:00:00+00:00",
          "2023-10-27T16:00:00+00:00",
          "2023-10-30T12:00:00+00:00",
          "2023-10-30T16:00:00+00:00",
          "2023-10-31T12:00:00+00:00",
          "2023-10-31T16:00:00+00:00",
          "2023-11-01T12:00:00+00:00",
          "2023-11-01T16:00:00+00:00",
          "2023-11-02T12:00:00+00:00",
          "2023-11-02T16:00:00+00:00",
          "2023-11-03T12:00:00+00:00",
          "2023-11-03T16:00:00+00:00",
          "2023-11-06T12:00:00+00:00",
          "2023-11-06T16:00:00+00:00",
          "2023-11-06T20:00:00+00:00",
          "2023-11-07T12:00:00+00:00",
          "2023-11-07T16:00:00+00:00",
          "2023-11-07T20:00:00+00:00",
          "2023-11-08T12:00:00+00:00",
          "2023-11-08T16:00:00+00:00",
          "2023-11-08T20:00:00+00:00",
          "2023-11-09T12:00:00+00:00",
          "2023-11-09T16:00:00+00:00",
          "2023-11-09T20:00:00+00:00",
          "2023-11-10T12:00:00+00:00",
          "2023-11-10T16:00:00+00:00",
          "2023-11-10T20:00:00+00:00",
          "2023-11-13T12:00:00+00:00",
          "2023-11-13T16:00:00+00:00",
          "2023-11-13T20:00:00+00:00",
          "2023-11-14T12:00:00+00:00",
          "2023-11-14T16:00:00+00:00",
          "2023-11-14T20:00:00+00:00",
          "2023-11-15T12:00:00+00:00",
          "2023-11-15T16:00:00+00:00",
          "2023-11-15T20:00:00+00:00",
          "2023-11-16T12:00:00+00:00",
          "2023-11-16T16:00:00+00:00",
          "2023-11-16T20:00:00+00:00",
          "2023-11-17T12:00:00+00:00",
          "2023-11-17T16:00:00+00:00",
          "2023-11-17T20:00:00+00:00",
          "2023-11-20T12:00:00+00:00",
          "2023-11-20T16:00:00+00:00",
          "2023-11-20T20:00:00+00:00",
          "2023-11-21T12:00:00+00:00",
          "2023-11-21T16:00:00+00:00",
          "2023-11-21T20:00:00+00:00",
          "2023-11-22T12:00:00+00:00",
          "2023-11-22T16:00:00+00:00",
          "2023-11-22T20:00:00+00:00",
          "2023-11-24T12:00:00+00:00",
          "2023-11-24T16:00:00+00:00",
          "2023-11-27T12:00:00+00:00",
          "2023-11-27T16:00:00+00:00",
          "2023-11-27T20:00:00+00:00",
          "2023-11-28T12:00:00+00:00",
          "2023-11-28T16:00:00+00:00",
          "2023-11-28T20:00:00+00:00",
          "2023-11-29T12:00:00+00:00",
          "2023-11-29T16:00:00+00:00",
          "2023-11-29T20:00:00+00:00",
          "2023-11-30T12:00:00+00:00",
          "2023-11-30T16:00:00+00:00",
          "2023-11-30T20:00:00+00:00",
          "2023-12-01T12:00:00+00:00",
          "2023-12-01T16:00:00+00:00",
          "2023-12-01T20:00:00+00:00",
          "2023-12-04T12:00:00+00:00",
          "2023-12-04T16:00:00+00:00",
          "2023-12-04T20:00:00+00:00",
          "2023-12-05T12:00:00+00:00",
          "2023-12-05T16:00:00+00:00",
          "2023-12-05T20:00:00+00:00",
          "2023-12-06T12:00:00+00:00",
          "2023-12-06T16:00:00+00:00",
          "2023-12-06T20:00:00+00:00",
          "2023-12-07T12:00:00+00:00",
          "2023-12-07T16:00:00+00:00",
          "2023-12-07T20:00:00+00:00",
          "2023-12-08T12:00:00+00:00",
          "2023-12-08T16:00:00+00:00",
          "2023-12-08T20:00:00+00:00",
          "2023-12-11T12:00:00+00:00",
          "2023-12-11T16:00:00+00:00",
          "2023-12-11T20:00:00+00:00",
          "2023-12-12T12:00:00+00:00",
          "2023-12-12T16:00:00+00:00",
          "2023-12-12T20:00:00+00:00",
          "2023-12-13T12:00:00+00:00",
          "2023-12-13T16:00:00+00:00",
          "2023-12-13T20:00:00+00:00",
          "2023-12-14T12:00:00+00:00",
          "2023-12-14T16:00:00+00:00",
          "2023-12-14T20:00:00+00:00",
          "2023-12-15T12:00:00+00:00",
          "2023-12-15T16:00:00+00:00",
          "2023-12-15T20:00:00+00:00",
          "2023-12-18T12:00:00+00:00",
          "2023-12-18T16:00:00+00:00",
          "2023-12-18T20:00:00+00:00",
          "2023-12-19T12:00:00+00:00",
          "2023-12-19T16:00:00+00:00",
          "2023-12-19T20:00:00+00:00",
          "2023-12-20T12:00:00+00:00",
          "2023-12-20T16:00:00+00:00",
          "2023-12-20T20:00:00+00:00",
          "2023-12-21T12:00:00+00:00",
          "2023-12-21T16:00:00+00:00",
          "2023-12-21T20:00:00+00:00",
          "2023-12-22T12:00:00+00:00",
          "2023-12-22T16:00:00+00:00",
          "2023-12-22T20:00:00+00:00",
          "2023-12-26T12:00:00+00:00",
          "2023-12-26T16:00:00+00:00",
          "2023-12-26T20:00:00+00:00",
          "2023-12-27T12:00:00+00:00",
          "2023-12-27T16:00:00+00:00",
          "2023-12-27T20:00:00+00:00",
          "2023-12-28T12:00:00+00:00",
          "2023-12-28T16:00:00+00:00",
          "2023-12-28T20:00:00+00:00",
          "2023-12-29T12:00:00+00:00",
          "2023-12-29T16:00:00+00:00",
          "2023-12-29T20:00:00+00:00",
          "2024-01-02T12:00:00+00:00",
          "2024-01-02T16:00:00+00:00",
          "2024-01-02T20:00:00+00:00",
          "2024-01-03T12:00:00+00:00",
          "2024-01-03T16:00:00+00:00",
          "2024-01-03T20:00:00+00:00",
          "2024-01-04T12:00:00+00:00",
          "2024-01-04T16:00:00+00:00",
          "2024-01-04T20:00:00+00:00",
          "2024-01-05T12:00:00+00:00",
          "2024-01-05T16:00:00+00:00",
          "2024-01-05T20:00:00+00:00",
          "2024-01-08T12:00:00+00:00",
          "2024-01-08T16:00:00+00:00",
          "2024-01-08T20:00:00+00:00",
          "2024-01-09T12:00:00+00:00",
          "2024-01-09T16:00:00+00:00",
          "2024-01-09T20:00:00+00:00",
          "2024-01-10T12:00:00+00:00",
          "2024-01-10T16:00:00+00:00",
          "2024-01-10T20:00:00+00:00",
          "2024-01-11T12:00:00+00:00",
          "2024-01-11T16:00:00+00:00",
          "2024-01-11T20:00:00+00:00",
          "2024-01-12T12:00:00+00:00",
          "2024-01-12T16:00:00+00:00",
          "2024-01-12T20:00:00+00:00",
          "2024-01-16T12:00:00+00:00",
          "2024-01-16T16:00:00+00:00",
          "2024-01-16T20:00:00+00:00",
          "2024-01-17T12:00:00+00:00",
          "2024-01-17T16:00:00+00:00",
          "2024-01-17T20:00:00+00:00",
          "2024-01-18T12:00:00+00:00",
          "2024-01-18T16:00:00+00:00",
          "2024-01-18T20:00:00+00:00",
          "2024-01-19T12:00:00+00:00",
          "2024-01-19T16:00:00+00:00",
          "2024-01-19T20:00:00+00:00",
          "2024-01-22T12:00:00+00:00",
          "2024-01-22T16:00:00+00:00",
          "2024-01-22T20:00:00+00:00",
          "2024-01-23T12:00:00+00:00",
          "2024-01-23T16:00:00+00:00",
          "2024-01-23T20:00:00+00:00",
          "2024-01-24T12:00:00+00:00",
          "2024-01-24T16:00:00+00:00",
          "2024-01-24T20:00:00+00:00",
          "2024-01-25T12:00:00+00:00",
          "2024-01-25T16:00:00+00:00",
          "2024-01-25T20:00:00+00:00",
          "2024-01-26T12:00:00+00:00",
          "2024-01-26T16:00:00+00:00",
          "2024-01-26T20:00:00+00:00",
          "2024-01-29T12:00:00+00:00",
          "2024-01-29T16:00:00+00:00",
          "2024-01-29T20:00:00+00:00",
          "2024-01-30T12:00:00+00:00",
          "2024-01-30T16:00:00+00:00",
          "2024-01-30T20:00:00+00:00",
          "2024-01-31T12:00:00+00:00",
          "2024-01-31T16:00:00+00:00",
          "2024-01-31T20:00:00+00:00",
          "2024-02-01T12:00:00+00:00",
          "2024-02-01T16:00:00+00:00",
          "2024-02-01T20:00:00+00:00",
          "2024-02-02T12:00:00+00:00",
          "2024-02-02T16:00:00+00:00",
          "2024-02-02T20:00:00+00:00",
          "2024-02-05T12:00:00+00:00",
          "2024-02-05T16:00:00+00:00",
          "2024-02-05T20:00:00+00:00",
          "2024-02-06T12:00:00+00:00",
          "2024-02-06T16:00:00+00:00",
          "2024-02-06T20:00:00+00:00",
          "2024-02-07T12:00:00+00:00",
          "2024-02-07T16:00:00+00:00",
          "2024-02-07T20:00:00+00:00",
          "2024-02-08T12:00:00+00:00",
          "2024-02-08T16:00:00+00:00",
          "2024-02-08T20:00:00+00:00",
          "2024-02-09T12:00:00+00:00",
          "2024-02-09T16:00:00+00:00",
          "2024-02-09T20:00:00+00:00",
          "2024-02-12T12:00:00+00:00",
          "2024-02-12T16:00:00+00:00",
          "2024-02-12T20:00:00+00:00",
          "2024-02-13T12:00:00+00:00",
          "2024-02-13T16:00:00+00:00",
          "2024-02-13T20:00:00+00:00",
          "2024-02-14T12:00:00+00:00",
          "2024-02-14T16:00:00+00:00",
          "2024-02-14T20:00:00+00:00",
          "2024-02-15T12:00:00+00:00",
          "2024-02-15T16:00:00+00:00",
          "2024-02-15T20:00:00+00:00",
          "2024-02-16T12:00:00+00:00",
          "2024-02-16T16:00:00+00:00",
          "2024-02-16T20:00:00+00:00",
          "2024-02-20T12:00:00+00:00",
          "2024-02-20T16:00:00+00:00",
          "2024-02-20T20:00:00+00:00",
          "2024-02-21T12:00:00+00:00",
          "2024-02-21T16:00:00+00:00",
          "2024-02-21T20:00:00+00:00",
          "2024-02-22T12:00:00+00:00",
          "2024-02-22T16:00:00+00:00",
          "2024-02-22T20:00:00+00:00",
          "2024-02-23T12:00:00+00:00",
          "2024-02-23T16:00:00+00:00",
          "2024-02-23T20:00:00+00:00",
          "2024-02-26T12:00:00+00:00",
          "2024-02-26T16:00:00+00:00",
          "2024-02-26T20:00:00+00:00",
          "2024-02-27T12:00:00+00:00",
          "2024-02-27T16:00:00+00:00",
          "2024-02-27T20:00:00+00:00",
          "2024-02-28T12:00:00+00:00",
          "2024-02-28T16:00:00+00:00",
          "2024-02-28T20:00:00+00:00",
          "2024-02-29T12:00:00+00:00",
          "2024-02-29T16:00:00+00:00",
          "2024-02-29T20:00:00+00:00",
          "2024-03-01T12:00:00+00:00",
          "2024-03-01T16:00:00+00:00",
          "2024-03-01T20:00:00+00:00",
          "2024-03-04T12:00:00+00:00",
          "2024-03-04T16:00:00+00:00",
          "2024-03-04T20:00:00+00:00",
          "2024-03-05T12:00:00+00:00",
          "2024-03-05T16:00:00+00:00",
          "2024-03-05T20:00:00+00:00",
          "2024-03-06T12:00:00+00:00",
          "2024-03-06T16:00:00+00:00",
          "2024-03-06T20:00:00+00:00",
          "2024-03-07T12:00:00+00:00",
          "2024-03-07T16:00:00+00:00",
          "2024-03-07T20:00:00+00:00",
          "2024-03-08T12:00:00+00:00",
          "2024-03-08T16:00:00+00:00",
          "2024-03-08T20:00:00+00:00",
          "2024-03-11T12:00:00+00:00",
          "2024-03-11T16:00:00+00:00",
          "2024-03-12T12:00:00+00:00",
          "2024-03-12T16:00:00+00:00",
          "2024-03-13T12:00:00+00:00",
          "2024-03-13T16:00:00+00:00",
          "2024-03-14T12:00:00+00:00",
          "2024-03-14T16:00:00+00:00",
          "2024-03-15T12:00:00+00:00",
          "2024-03-15T16:00:00+00:00",
          "2024-03-18T12:00:00+00:00",
          "2024-03-18T16:00:00+00:00",
          "2024-03-19T12:00:00+00:00",
          "2024-03-19T16:00:00+00:00",
          "2024-03-20T12:00:00+00:00",
          "2024-03-20T16:00:00+00:00",
          "2024-03-21T12:00:00+00:00",
          "2024-03-21T16:00:00+00:00",
          "2024-03-22T12:00:00+00:00",
          "2024-03-22T16:00:00+00:00",
          "2024-03-25T12:00:00+00:00",
          "2024-03-25T16:00:00+00:00",
          "2024-03-26T12:00:00+00:00",
          "2024-03-26T16:00:00+00:00",
          "2024-03-27T12:00:00+00:00",
          "2024-03-27T16:00:00+00:00",
          "2024-03-28T12:00:00+00:00",
          "2024-03-28T16:00:00+00:00",
          "2024-04-01T12:00:00+00:00",
          "2024-04-01T16:00:00+00:00",
          "2024-04-02T12:00:00+00:00",
          "2024-04-02T16:00:00+00:00",
          "2024-04-03T12:00:00+00:00",
          "2024-04-03T16:00:00+00:00",
          "2024-04-04T12:00:00+00:00",
          "2024-04-04T16:00:00+00:00",
          "2024-04-05T12:00:00+00:00",
          "2024-04-05T16:00:00+00:00",
          "2024-04-08T12:00:00+00:00",
          "2024-04-08T16:00:00+00:00",
          "2024-04-09T12:00:00+00:00",
          "2024-04-09T16:00:00+00:00",
          "2024-04-10T12:00:00+00:00",
          "2024-04-10T16:00:00+00:00",
          "2024-04-11T12:00:00+00:00",
          "2024-04-11T16:00:00+00:00",
          "2024-04-12T12:00:00+00:00",
          "2024-04-12T16:00:00+00:00",
          "2024-04-15T12:00:00+00:00",
          "2024-04-15T16:00:00+00:00",
          "2024-04-16T12:00:00+00:00",
          "2024-04-16T16:00:00+00:00",
          "2024-04-17T12:00:00+00:00",
          "2024-04-17T16:00:00+00:00",
          "2024-04-18T12:00:00+00:00",
          "2024-04-18T16:00:00+00:00",
          "2024-04-19T12:00:00+00:00",
          "2024-04-19T16:00:00+00:00",
          "2024-04-22T12:00:00+00:00",
          "2024-04-22T16:00:00+00:00",
          "2024-04-23T12:00:00+00:00",
          "2024-04-23T16:00:00+00:00",
          "2024-04-24T12:00:00+00:00",
          "2024-04-24T16:00:00+00:00",
          "2024-04-25T12:00:00+00:00",
          "2024-04-25T16:00:00+00:00",
          "2024-04-26T12:00:00+00:00",
          "2024-04-26T16:00:00+00:00",
          "2024-04-29T12:00:00+00:00",
          "2024-04-29T16:00:00+00:00",
          "2024-04-30T12:00:00+00:00",
          "2024-04-30T16:00:00+00:00",
          "2024-05-01T12:00:00+00:00",
          "2024-05-01T16:00:00+00:00",
          "2024-05-02T12:00:00+00:00",
          "2024-05-02T16:00:00+00:00",
          "2024-05-03T12:00:00+00:00",
          "2024-05-03T16:00:00+00:00",
          "2024-05-06T12:00:00+00:00",
          "2024-05-06T16:00:00+00:00",
          "2024-05-07T12:00:00+00:00",
          "2024-05-07T16:00:00+00:00",
          "2024-05-08T12:00:00+00:00",
          "2024-05-08T16:00:00+00:00",
          "2024-05-09T12:00:00+00:00",
          "2024-05-09T16:00:00+00:00",
          "2024-05-10T12:00:00+00:00",
          "2024-05-10T16:00:00+00:00",
          "2024-05-13T12:00:00+00:00",
          "2024-05-13T16:00:00+00:00",
          "2024-05-14T12:00:00+00:00",
          "2024-05-14T16:00:00+00:00",
          "2024-05-15T12:00:00+00:00",
          "2024-05-15T16:00:00+00:00",
          "2024-05-16T12:00:00+00:00",
          "2024-05-16T16:00:00+00:00",
          "2024-05-17T12:00:00+00:00",
          "2024-05-17T16:00:00+00:00",
          "2024-05-20T12:00:00+00:00",
          "2024-05-20T16:00:00+00:00",
          "2024-05-21T12:00:00+00:00",
          "2024-05-21T16:00:00+00:00",
          "2024-05-22T12:00:00+00:00",
          "2024-05-22T16:00:00+00:00",
          "2024-05-23T12:00:00+00:00",
          "2024-05-23T16:00:00+00:00",
          "2024-05-24T12:00:00+00:00",
          "2024-05-24T16:00:00+00:00",
          "2024-05-28T12:00:00+00:00",
          "2024-05-28T16:00:00+00:00",
          "2024-05-29T12:00:00+00:00",
          "2024-05-29T16:00:00+00:00",
          "2024-05-30T12:00:00+00:00",
          "2024-05-30T16:00:00+00:00",
          "2024-05-31T12:00:00+00:00",
          "2024-05-31T16:00:00+00:00",
          "2024-06-03T12:00:00+00:00",
          "2024-06-03T16:00:00+00:00",
          "2024-06-04T12:00:00+00:00",
          "2024-06-04T16:00:00+00:00",
          "2024-06-05T12:00:00+00:00",
          "2024-06-05T16:00:00+00:00",
          "2024-06-06T12:00:00+00:00",
          "2024-06-06T16:00:00+00:00",
          "2024-06-07T12:00:00+00:00",
          "2024-06-07T16:00:00+00:00",
          "2024-06-10T12:00:00+00:00",
          "2024-06-10T16:00:00+00:00",
          "2024-06-11T12:00:00+00:00",
          "2024-06-11T16:00:00+00:00",
          "2024-06-12T12:00:00+00:00",
          "2024-06-12T16:00:00+00:00",
          "2024-06-13T12:00:00+00:00",
          "2024-06-13T16:00:00+00:00",
          "2024-06-14T12:00:00+00:00",
          "2024-06-14T16:00:00+00:00",
          "2024-06-17T12:00:00+00:00",
          "2024-06-17T16:00:00+00:00",
          "2024-06-18T12:00:00+00:00",
          "2024-06-18T16:00:00+00:00",
          "2024-06-20T12:00:00+00:00",
          "2024-06-20T16:00:00+00:00",
          "2024-06-21T12:00:00+00:00",
          "2024-06-21T16:00:00+00:00",
          "2024-06-24T12:00:00+00:00",
          "2024-06-24T16:00:00+00:00",
          "2024-06-25T12:00:00+00:00",
          "2024-06-25T16:00:00+00:00",
          "2024-06-26T12:00:00+00:00",
          "2024-06-26T16:00:00+00:00",
          "2024-06-27T12:00:00+00:00",
          "2024-06-27T16:00:00+00:00",
          "2024-06-28T12:00:00+00:00",
          "2024-06-28T16:00:00+00:00",
          "2024-07-01T12:00:00+00:00",
          "2024-07-01T16:00:00+00:00",
          "2024-07-02T12:00:00+00:00",
          "2024-07-02T16:00:00+00:00",
          "2024-07-03T12:00:00+00:00",
          "2024-07-03T16:00:00+00:00",
          "2024-07-05T12:00:00+00:00",
          "2024-07-05T16:00:00+00:00",
          "2024-07-08T12:00:00+00:00",
          "2024-07-08T16:00:00+00:00",
          "2024-07-09T12:00:00+00:00",
          "2024-07-09T16:00:00+00:00",
          "2024-07-10T12:00:00+00:00",
          "2024-07-10T16:00:00+00:00",
          "2024-07-11T12:00:00+00:00",
          "2024-07-11T16:00:00+00:00",
          "2024-07-12T12:00:00+00:00",
          "2024-07-12T16:00:00+00:00",
          "2024-07-15T12:00:00+00:00",
          "2024-07-15T16:00:00+00:00",
          "2024-07-16T12:00:00+00:00",
          "2024-07-16T16:00:00+00:00",
          "2024-07-17T12:00:00+00:00",
          "2024-07-17T16:00:00+00:00",
          "2024-07-18T12:00:00+00:00",
          "2024-07-18T16:00:00+00:00",
          "2024-07-19T12:00:00+00:00",
          "2024-07-19T16:00:00+00:00",
          "2024-07-22T12:00:00+00:00",
          "2024-07-22T16:00:00+00:00",
          "2024-07-23T12:00:00+00:00",
          "2024-07-23T16:00:00+00:00",
          "2024-07-24T12:00:00+00:00",
          "2024-07-24T16:00:00+00:00",
          "2024-07-25T12:00:00+00:00",
          "2024-07-25T16:00:00+00:00",
          "2024-07-26T12:00:00+00:00",
          "2024-07-26T16:00:00+00:00",
          "2024-07-29T12:00:00+00:00",
          "2024-07-29T16:00:00+00:00",
          "2024-07-30T12:00:00+00:00",
          "2024-07-30T16:00:00+00:00",
          "2024-07-31T12:00:00+00:00",
          "2024-07-31T16:00:00+00:00",
          "2024-08-01T12:00:00+00:00",
          "2024-08-01T16:00:00+00:00",
          "2024-08-02T12:00:00+00:00",
          "2024-08-02T16:00:00+00:00",
          "2024-08-05T12:00:00+00:00",
          "2024-08-05T16:00:00+00:00",
          "2024-08-06T12:00:00+00:00",
          "2024-08-06T16:00:00+00:00",
          "2024-08-07T12:00:00+00:00",
          "2024-08-07T16:00:00+00:00",
          "2024-08-08T12:00:00+00:00",
          "2024-08-08T16:00:00+00:00",
          "2024-08-09T12:00:00+00:00",
          "2024-08-09T16:00:00+00:00",
          "2024-08-12T12:00:00+00:00",
          "2024-08-12T16:00:00+00:00",
          "2024-08-13T12:00:00+00:00",
          "2024-08-13T16:00:00+00:00",
          "2024-08-14T12:00:00+00:00",
          "2024-08-14T16:00:00+00:00",
          "2024-08-15T12:00:00+00:00",
          "2024-08-15T16:00:00+00:00",
          "2024-08-16T12:00:00+00:00",
          "2024-08-16T16:00:00+00:00",
          "2024-08-19T12:00:00+00:00",
          "2024-08-19T16:00:00+00:00",
          "2024-08-20T12:00:00+00:00",
          "2024-08-20T16:00:00+00:00",
          "2024-08-21T12:00:00+00:00",
          "2024-08-21T16:00:00+00:00",
          "2024-08-22T12:00:00+00:00",
          "2024-08-22T16:00:00+00:00",
          "2024-08-23T12:00:00+00:00",
          "2024-08-23T16:00:00+00:00",
          "2024-08-26T12:00:00+00:00",
          "2024-08-26T16:00:00+00:00",
          "2024-08-27T12:00:00+00:00",
          "2024-08-27T16:00:00+00:00",
          "2024-08-28T12:00:00+00:00",
          "2024-08-28T16:00:00+00:00",
          "2024-08-29T12:00:00+00:00",
          "2024-08-29T16:00:00+00:00",
          "2024-08-30T12:00:00+00:00",
          "2024-08-30T16:00:00+00:00"
         ],
         "xaxis": "x",
         "y": [
          10000,
          10000,
          10000,
          10000,
          10000,
          10000,
          10000,
          10000,
          10000,
          10000,
          10000,
          10000,
          10000,
          10000,
          10000,
          10000,
          10000,
          10000,
          10000,
          9975.82148,
          9940.171479999999,
          9935.57148,
          9940.63148,
          9957.19148,
          9957.19148,
          9892.671503371981,
          9892.671503371981,
          9892.671503371981,
          9892.671503371981,
          9892.671503371981,
          9892.671503371981,
          9892.671503371981,
          9892.671503371981,
          9892.671503371981,
          9892.671503371981,
          9892.671503371981,
          9892.671503371981,
          9892.671503371981,
          9892.671503371981,
          9892.671503371981,
          9892.671503371981,
          9892.671503371981,
          9892.671503371981,
          9892.671503371981,
          9892.671503371981,
          9892.671503371981,
          9892.671503371981,
          9856.63814037198,
          9861.498140371981,
          9819.918140371981,
          9851.508140371981,
          9840.708140371982,
          9813.438140371982,
          9824.238140371981,
          9815.328140371981,
          9685.188140371982,
          9685.188140371982,
          9698.703415371981,
          9723.953415371981,
          9777.703415371981,
          9789.453415371981,
          9783.703415371981,
          9776.953415371981,
          9769.453415371981,
          9728.953415371981,
          9698.703415371981,
          9728.453415371981,
          9743.203415371981,
          9710.703415371981,
          9685.453415371981,
          9662.703415371981,
          9645.703415371981,
          9625.703415371981,
          9643.203415371981,
          9626.203415371981,
          9597.453415371981,
          9597.453415371981,
          9597.453415371981,
          9613.70411137198,
          9694.304111371981,
          9724.994111371981,
          9759.71411137198,
          9724.064111371981,
          9686.554111371981,
          9706.394111371981,
          9699.574111371981,
          9664.54411137198,
          9670.434111371982,
          9674.154111371981,
          9651.21411137198,
          9658.034111371982,
          9715.38411137198,
          9693.994111371981,
          9668.264111371982,
          9687.484111371981,
          9750.104111371982,
          9733.364111371982,
          9692.44411137198,
          9723.754111371982,
          9681.594111371982,
          9681.594111371982,
          9681.594111371982,
          9681.594111371982,
          9681.594111371982,
          9681.594111371982,
          9681.594111371982,
          9681.594111371982,
          9681.594111371982,
          9681.594111371982,
          9681.594111371982,
          9681.594111371982,
          9683.176236371983,
          9673.676236371983,
          9627.926236371983,
          9568.33874276974,
          9568.33874276974,
          9568.33874276974,
          9568.33874276974,
          9568.33874276974,
          9568.33874276974,
          9568.33874276974,
          9553.80828276974,
          9489.40828276974,
          9527.60828276974,
          9589.40828276974,
          9608.20828276974,
          9629.40828276974,
          9597.80828276974,
          9600.208282769741,
          9665.80828276974,
          9645.608282769741,
          9680.40828276974,
          9668.20828276974,
          9638.00828276974,
          9640.208282769741,
          9639.608282769741,
          9625.00828276974,
          9625.608282769741,
          9629.00828276974,
          9639.80828276974,
          9617.80828276974,
          9624.20828276974,
          9602.40828276974,
          9581.20828276974,
          9573.608282769741,
          9543.40828276974,
          9556.608282769741,
          9564.608282769741,
          9553.20828276974,
          9555.40828276974,
          9568.80828276974,
          9652.40828276974,
          9676.00828276974,
          9675.608282769741,
          9742.00828276974,
          9742.60828276974,
          9759.03159876974,
          9768.55159876974,
          9781.991598769739,
          9773.591598769739,
          9757.631598769738,
          9741.951598769738,
          9742.791598769738,
          9694.35159876974,
          9691.27159876974,
          9685.671598769739,
          9699.11159876974,
          9680.35159876974,
          9687.911598769739,
          9675.87159876974,
          9672.231598769738,
          9666.35159876974,
          9642.848915954266,
          9635.220403954267,
          9704.410403954265,
          9700.340403954266,
          9698.490403954267,
          9695.900403954267,
          9683.320403954267,
          9668.890403954267,
          9581.940403954266,
          9624.120403954266,
          9617.090403954266,
          9596.370403954266,
          9644.100403954266,
          9647.430403954266,
          9616.350403954266,
          9542.895286990568,
          9539.322871990567,
          9519.522871990568,
          9513.582871990568,
          9502.692871990568,
          9536.352871990568,
          9537.672871990568,
          9554.832871990568,
          9542.292871990567,
          9503.682871990568,
          9527.442871990568,
          9463.422871990568,
          9463.422871990568,
          9463.422871990568,
          9428.518567990568,
          9442.558567990567,
          9437.518567990568,
          9488.998567990568,
          9499.438567990568,
          9494.758567990568,
          9459.118567990568,
          9504.118567990568,
          9511.678567990568,
          9500.15856799057,
          9463.078567990568,
          9451.198567990568,
          9340.318567990567,
          9332.688290990567,
          9331.528290990567,
          9281.358290990567,
          9301.368290990567,
          9326.018290990567,
          9300.788290990567,
          9330.948290990567,
          9333.268290990567,
          9336.458290990568,
          9342.838290990569,
          9339.068290990566,
          9403.448290990567,
          9412.438290990567,
          9442.598290990567,
          9476.238290990568,
          9476.528290990567,
          9476.528290990567,
          9476.528290990567,
          9476.528290990567,
          9476.528290990567,
          9476.528290990567,
          9476.528290990567,
          9476.528290990567,
          9476.528290990567,
          9476.528290990567,
          9476.528290990567,
          9476.528290990567,
          9476.528290990567,
          9476.528290990567,
          9476.528290990567,
          9476.528290990567,
          9476.528290990567,
          9476.528290990567,
          9476.528290990567,
          9476.528290990567,
          9476.528290990567,
          9476.528290990567,
          9476.528290990567,
          9476.528290990567,
          9476.528290990567,
          9476.528290990567,
          9476.528290990567,
          9476.528290990567,
          9476.528290990567,
          9476.528290990567,
          9476.528290990567,
          9476.528290990567,
          9476.528290990567,
          9476.528290990567,
          9476.528290990567,
          9476.528290990567,
          9476.528290990567,
          9476.528290990567,
          9476.528290990567,
          9476.528290990567,
          9476.528290990567,
          9476.528290990567,
          9476.528290990567,
          9476.528290990567,
          9476.528290990567,
          9476.528290990567,
          9476.528290990567,
          9476.528290990567,
          9463.694080990568,
          9487.394080990567,
          9501.194080990568,
          9550.694080990568,
          9549.49408099057,
          9523.694080990568,
          9574.394080990569,
          9560.594080990568,
          9604.694080990568,
          9604.994080990567,
          9604.994080990567,
          9604.994080990567,
          9604.994080990567,
          9604.994080990567,
          9604.994080990567,
          9604.994080990567,
          9604.994080990567,
          9604.994080990567,
          9604.994080990567,
          9604.994080990567,
          9604.994080990567,
          9604.994080990567,
          9604.994080990567,
          9604.994080990567,
          9604.994080990567,
          9604.994080990567,
          9604.994080990567,
          9604.994080990567,
          9604.994080990567,
          9604.994080990567,
          9604.994080990567,
          9604.994080990567,
          9604.994080990567,
          9616.696540990568,
          9630.996540990567,
          9614.276540990568,
          9643.096540990568,
          9644.196540990568,
          9578.856540990568,
          9588.976540990569,
          9569.836540990567,
          9686.656540990569,
          9703.816540990569,
          9705.796540990568,
          9716.576540990569,
          9743.416540990569,
          9741.216540990568,
          9724.496540990567,
          9742.976540990569,
          9748.476540990569,
          9737.916540990569,
          9724.936540990568,
          9712.616540990568,
          9730.876540990568,
          9731.536540990568,
          9727.796540990568,
          9654.316540990569,
          9643.976540990569,
          9662.236540990569,
          9648.156540990569,
          9660.916540990569,
          9658.716540990568,
          9687.096540990568,
          9720.316540990569,
          9723.176540990567,
          9765.416540990569,
          9765.636540990568,
          9770.476043990568,
          9732.036043990569,
          9744.126043990567,
          9761.486043990568,
          9760.866043990567,
          9790.006043990568,
          9793.106043990569,
          9782.566043990568,
          9728.936043990567,
          9727.076043990568,
          9723.356043990569,
          9749.396043990568,
          9747.226043990568,
          9818.526043990569,
          9792.486043990568,
          9792.486043990568,
          9762.416043990568,
          9771.406043990568,
          9767.066043990568,
          9769.856043990569,
          9794.656043990568,
          9789.076043990568,
          9751.566043990568,
          9781.636043990567,
          9776.056043990568,
          9790.936043990567,
          9769.546043990567,
          9769.546043990567,
          9678.096043990568,
          9665.683808933576,
          9680.638448933576,
          9681.038448933577,
          9733.038448933576,
          9761.438448933575,
          9650.238448933576,
          9636.238448933576,
          9630.238448933576,
          9564.503970839143,
          9588.021905839143,
          9589.071905839144,
          9596.771905839143,
          9590.821905839144,
          9584.871905839143,
          9545.321905839144,
          9546.371905839143,
          9479.871905839143,
          9464.101480318443,
          9489.572988318443,
          9555.872988318442,
          9612.312988318443,
          9638.492988318443,
          9609.932988318442,
          9630.332988318443,
          9658.552988318443,
          9684.392988318443,
          9665.012988318444,
          9665.012988318444,
          9629.816937318445,
          9584.936937318444,
          9563.156937318443,
          9536.756937318443,
          9494.186937318444,
          9499.145550318444,
          9492.215550318444,
          9501.455550318444,
          9770.075550318443,
          9770.405550318443,
          9798.096708318444,
          9817.676708318442,
          9850.676708318442,
          9857.716708318443,
          9808.436708318444,
          9836.596708318444,
          9875.096708318444,
          9865.196708318443,
          9912.496708318444,
          9931.636708318443,
          9965.956708318443,
          9965.956708318443,
          9965.956708318443,
          9965.956708318443,
          9965.956708318443,
          9965.956708318443,
          9965.956708318443,
          9965.956708318443,
          9965.956708318443,
          9965.956708318443,
          9965.956708318443,
          9965.956708318443,
          9965.956708318443,
          9965.956708318443,
          9965.956708318443,
          9965.956708318443,
          9965.956708318443,
          9965.956708318443,
          9965.956708318443,
          9965.956708318443,
          9965.956708318443,
          9965.956708318443,
          9965.956708318443,
          9965.956708318443,
          9965.956708318443,
          9965.956708318443,
          9965.956708318443,
          9965.956708318443,
          9965.956708318443,
          9965.956708318443,
          9965.956708318443,
          9965.956708318443,
          9965.956708318443,
          9965.956708318443,
          9965.956708318443,
          9965.956708318443,
          9965.956708318443,
          9965.956708318443,
          9965.956708318443,
          9965.956708318443,
          9965.956708318443,
          9965.956708318443,
          9965.956708318443,
          9965.956708318443,
          9965.956708318443,
          9965.956708318443,
          9965.956708318443,
          9965.956708318443,
          9965.956708318443,
          9965.956708318443,
          9965.956708318443,
          9965.956708318443,
          9965.956708318443,
          9965.956708318443,
          9965.956708318443,
          9923.910121318444,
          9847.680121318443,
          9886.584036318443,
          9887.824036318443,
          9911.384036318443,
          9850.004036318442,
          9855.894036318443,
          9893.094036318444,
          9867.674036318442,
          9871.704036318442,
          9917.894036318443,
          9973.074036318443,
          9973.074036318443,
          9973.074036318443,
          9952.892468318443,
          9870.564065254737,
          9854.966937254738,
          9827.416937254739,
          9815.816937254738,
          9802.476937254738,
          9768.060613368383,
          9754.092853368384,
          9712.392853368385,
          9685.392853368383,
          9685.392853368383,
          9685.392853368383,
          9685.392853368383,
          9685.392853368383,
          9685.392853368383,
          9685.392853368383,
          9685.392853368383,
          9685.392853368383,
          9685.392853368383,
          9685.392853368383,
          9685.392853368383,
          9685.392853368383,
          9685.392853368383,
          9685.392853368383,
          9685.392853368383,
          9685.392853368383,
          9685.392853368383,
          9685.392853368383,
          9685.392853368383,
          9685.392853368383,
          9685.392853368383,
          9685.392853368383,
          9685.392853368383,
          9685.392853368383,
          9685.392853368383,
          9685.392853368383,
          9685.392853368383,
          9685.392853368383,
          9685.392853368383,
          9685.392853368383,
          9685.392853368383,
          9685.392853368383,
          9685.392853368383,
          9685.392853368383,
          9685.392853368383,
          9685.392853368383,
          9685.392853368383,
          9685.392853368383,
          9685.392853368383,
          9685.392853368383,
          9685.392853368383,
          9685.392853368383,
          9685.392853368383,
          9685.392853368383,
          9685.392853368383,
          9685.392853368383,
          9685.392853368383,
          9685.392853368383,
          9685.392853368383,
          9685.392853368383,
          9685.392853368383,
          9685.392853368383,
          9685.392853368383,
          9685.392853368383,
          9685.392853368383,
          9685.392853368383,
          9706.926421368382,
          9619.566421368383,
          9584.338302090502,
          9541.780206090501,
          9533.380206090502,
          9501.890404415277,
          9490.907744415277,
          9484.667744415277,
          9473.487744415277,
          9476.347744415278,
          9540.827744415277,
          9571.247744415277,
          9539.787744415276,
          9547.327744415277,
          9532.247744415277,
          10030.407744415277,
          10030.407744415277,
          10017.854060415277,
          10053.384060415277,
          10056.954060415277,
          10048.284060415277,
          10080.244060415278,
          10074.634060415277,
          10073.784060415277,
          10059.844060415278,
          10083.134060415277,
          10075.314060415278,
          10088.234060415278,
          10101.494060415278,
          10093.164060415276,
          10092.484060415278,
          10066.644060415278,
          10051.344060415278,
          10044.544060415277,
          10020.914060415278,
          10020.914060415278,
          10012.074060415278,
          10022.104060415277,
          9978.924060415278,
          9994.734060415278,
          10006.124060415277,
          9982.834060415278,
          9994.734060415278,
          9989.804060415277,
          9989.804060415277,
          9989.804060415277,
          9989.804060415277,
          9989.804060415277,
          9989.804060415277,
          9989.804060415277,
          9989.804060415277,
          9989.804060415277,
          9989.804060415277,
          9989.804060415277,
          9989.804060415277,
          9989.804060415277,
          9989.804060415277,
          9989.804060415277,
          9989.804060415277,
          9989.804060415277,
          9989.804060415277,
          9989.804060415277,
          9989.804060415277,
          9989.804060415277,
          9989.804060415277,
          10002.039812415278,
          10023.279812415278,
          10004.919812415277,
          10046.319812415277,
          10032.279812415278,
          10032.279812415278,
          10032.279812415278,
          10032.279812415278
         ],
         "yaxis": "y"
        }
       ],
       "layout": {
        "legend": {
         "tracegroupgap": 0
        },
        "margin": {
         "t": 60
        },
        "template": {
         "data": {
          "bar": [
           {
            "error_x": {
             "color": "#2a3f5f"
            },
            "error_y": {
             "color": "#2a3f5f"
            },
            "marker": {
             "line": {
              "color": "#E5ECF6",
              "width": 0.5
             },
             "pattern": {
              "fillmode": "overlay",
              "size": 10,
              "solidity": 0.2
             }
            },
            "type": "bar"
           }
          ],
          "barpolar": [
           {
            "marker": {
             "line": {
              "color": "#E5ECF6",
              "width": 0.5
             },
             "pattern": {
              "fillmode": "overlay",
              "size": 10,
              "solidity": 0.2
             }
            },
            "type": "barpolar"
           }
          ],
          "carpet": [
           {
            "aaxis": {
             "endlinecolor": "#2a3f5f",
             "gridcolor": "white",
             "linecolor": "white",
             "minorgridcolor": "white",
             "startlinecolor": "#2a3f5f"
            },
            "baxis": {
             "endlinecolor": "#2a3f5f",
             "gridcolor": "white",
             "linecolor": "white",
             "minorgridcolor": "white",
             "startlinecolor": "#2a3f5f"
            },
            "type": "carpet"
           }
          ],
          "choropleth": [
           {
            "colorbar": {
             "outlinewidth": 0,
             "ticks": ""
            },
            "type": "choropleth"
           }
          ],
          "contour": [
           {
            "colorbar": {
             "outlinewidth": 0,
             "ticks": ""
            },
            "colorscale": [
             [
              0,
              "#0d0887"
             ],
             [
              0.1111111111111111,
              "#46039f"
             ],
             [
              0.2222222222222222,
              "#7201a8"
             ],
             [
              0.3333333333333333,
              "#9c179e"
             ],
             [
              0.4444444444444444,
              "#bd3786"
             ],
             [
              0.5555555555555556,
              "#d8576b"
             ],
             [
              0.6666666666666666,
              "#ed7953"
             ],
             [
              0.7777777777777778,
              "#fb9f3a"
             ],
             [
              0.8888888888888888,
              "#fdca26"
             ],
             [
              1,
              "#f0f921"
             ]
            ],
            "type": "contour"
           }
          ],
          "contourcarpet": [
           {
            "colorbar": {
             "outlinewidth": 0,
             "ticks": ""
            },
            "type": "contourcarpet"
           }
          ],
          "heatmap": [
           {
            "colorbar": {
             "outlinewidth": 0,
             "ticks": ""
            },
            "colorscale": [
             [
              0,
              "#0d0887"
             ],
             [
              0.1111111111111111,
              "#46039f"
             ],
             [
              0.2222222222222222,
              "#7201a8"
             ],
             [
              0.3333333333333333,
              "#9c179e"
             ],
             [
              0.4444444444444444,
              "#bd3786"
             ],
             [
              0.5555555555555556,
              "#d8576b"
             ],
             [
              0.6666666666666666,
              "#ed7953"
             ],
             [
              0.7777777777777778,
              "#fb9f3a"
             ],
             [
              0.8888888888888888,
              "#fdca26"
             ],
             [
              1,
              "#f0f921"
             ]
            ],
            "type": "heatmap"
           }
          ],
          "heatmapgl": [
           {
            "colorbar": {
             "outlinewidth": 0,
             "ticks": ""
            },
            "colorscale": [
             [
              0,
              "#0d0887"
             ],
             [
              0.1111111111111111,
              "#46039f"
             ],
             [
              0.2222222222222222,
              "#7201a8"
             ],
             [
              0.3333333333333333,
              "#9c179e"
             ],
             [
              0.4444444444444444,
              "#bd3786"
             ],
             [
              0.5555555555555556,
              "#d8576b"
             ],
             [
              0.6666666666666666,
              "#ed7953"
             ],
             [
              0.7777777777777778,
              "#fb9f3a"
             ],
             [
              0.8888888888888888,
              "#fdca26"
             ],
             [
              1,
              "#f0f921"
             ]
            ],
            "type": "heatmapgl"
           }
          ],
          "histogram": [
           {
            "marker": {
             "pattern": {
              "fillmode": "overlay",
              "size": 10,
              "solidity": 0.2
             }
            },
            "type": "histogram"
           }
          ],
          "histogram2d": [
           {
            "colorbar": {
             "outlinewidth": 0,
             "ticks": ""
            },
            "colorscale": [
             [
              0,
              "#0d0887"
             ],
             [
              0.1111111111111111,
              "#46039f"
             ],
             [
              0.2222222222222222,
              "#7201a8"
             ],
             [
              0.3333333333333333,
              "#9c179e"
             ],
             [
              0.4444444444444444,
              "#bd3786"
             ],
             [
              0.5555555555555556,
              "#d8576b"
             ],
             [
              0.6666666666666666,
              "#ed7953"
             ],
             [
              0.7777777777777778,
              "#fb9f3a"
             ],
             [
              0.8888888888888888,
              "#fdca26"
             ],
             [
              1,
              "#f0f921"
             ]
            ],
            "type": "histogram2d"
           }
          ],
          "histogram2dcontour": [
           {
            "colorbar": {
             "outlinewidth": 0,
             "ticks": ""
            },
            "colorscale": [
             [
              0,
              "#0d0887"
             ],
             [
              0.1111111111111111,
              "#46039f"
             ],
             [
              0.2222222222222222,
              "#7201a8"
             ],
             [
              0.3333333333333333,
              "#9c179e"
             ],
             [
              0.4444444444444444,
              "#bd3786"
             ],
             [
              0.5555555555555556,
              "#d8576b"
             ],
             [
              0.6666666666666666,
              "#ed7953"
             ],
             [
              0.7777777777777778,
              "#fb9f3a"
             ],
             [
              0.8888888888888888,
              "#fdca26"
             ],
             [
              1,
              "#f0f921"
             ]
            ],
            "type": "histogram2dcontour"
           }
          ],
          "mesh3d": [
           {
            "colorbar": {
             "outlinewidth": 0,
             "ticks": ""
            },
            "type": "mesh3d"
           }
          ],
          "parcoords": [
           {
            "line": {
             "colorbar": {
              "outlinewidth": 0,
              "ticks": ""
             }
            },
            "type": "parcoords"
           }
          ],
          "pie": [
           {
            "automargin": true,
            "type": "pie"
           }
          ],
          "scatter": [
           {
            "fillpattern": {
             "fillmode": "overlay",
             "size": 10,
             "solidity": 0.2
            },
            "type": "scatter"
           }
          ],
          "scatter3d": [
           {
            "line": {
             "colorbar": {
              "outlinewidth": 0,
              "ticks": ""
             }
            },
            "marker": {
             "colorbar": {
              "outlinewidth": 0,
              "ticks": ""
             }
            },
            "type": "scatter3d"
           }
          ],
          "scattercarpet": [
           {
            "marker": {
             "colorbar": {
              "outlinewidth": 0,
              "ticks": ""
             }
            },
            "type": "scattercarpet"
           }
          ],
          "scattergeo": [
           {
            "marker": {
             "colorbar": {
              "outlinewidth": 0,
              "ticks": ""
             }
            },
            "type": "scattergeo"
           }
          ],
          "scattergl": [
           {
            "marker": {
             "colorbar": {
              "outlinewidth": 0,
              "ticks": ""
             }
            },
            "type": "scattergl"
           }
          ],
          "scattermapbox": [
           {
            "marker": {
             "colorbar": {
              "outlinewidth": 0,
              "ticks": ""
             }
            },
            "type": "scattermapbox"
           }
          ],
          "scatterpolar": [
           {
            "marker": {
             "colorbar": {
              "outlinewidth": 0,
              "ticks": ""
             }
            },
            "type": "scatterpolar"
           }
          ],
          "scatterpolargl": [
           {
            "marker": {
             "colorbar": {
              "outlinewidth": 0,
              "ticks": ""
             }
            },
            "type": "scatterpolargl"
           }
          ],
          "scatterternary": [
           {
            "marker": {
             "colorbar": {
              "outlinewidth": 0,
              "ticks": ""
             }
            },
            "type": "scatterternary"
           }
          ],
          "surface": [
           {
            "colorbar": {
             "outlinewidth": 0,
             "ticks": ""
            },
            "colorscale": [
             [
              0,
              "#0d0887"
             ],
             [
              0.1111111111111111,
              "#46039f"
             ],
             [
              0.2222222222222222,
              "#7201a8"
             ],
             [
              0.3333333333333333,
              "#9c179e"
             ],
             [
              0.4444444444444444,
              "#bd3786"
             ],
             [
              0.5555555555555556,
              "#d8576b"
             ],
             [
              0.6666666666666666,
              "#ed7953"
             ],
             [
              0.7777777777777778,
              "#fb9f3a"
             ],
             [
              0.8888888888888888,
              "#fdca26"
             ],
             [
              1,
              "#f0f921"
             ]
            ],
            "type": "surface"
           }
          ],
          "table": [
           {
            "cells": {
             "fill": {
              "color": "#EBF0F8"
             },
             "line": {
              "color": "white"
             }
            },
            "header": {
             "fill": {
              "color": "#C8D4E3"
             },
             "line": {
              "color": "white"
             }
            },
            "type": "table"
           }
          ]
         },
         "layout": {
          "annotationdefaults": {
           "arrowcolor": "#2a3f5f",
           "arrowhead": 0,
           "arrowwidth": 1
          },
          "autotypenumbers": "strict",
          "coloraxis": {
           "colorbar": {
            "outlinewidth": 0,
            "ticks": ""
           }
          },
          "colorscale": {
           "diverging": [
            [
             0,
             "#8e0152"
            ],
            [
             0.1,
             "#c51b7d"
            ],
            [
             0.2,
             "#de77ae"
            ],
            [
             0.3,
             "#f1b6da"
            ],
            [
             0.4,
             "#fde0ef"
            ],
            [
             0.5,
             "#f7f7f7"
            ],
            [
             0.6,
             "#e6f5d0"
            ],
            [
             0.7,
             "#b8e186"
            ],
            [
             0.8,
             "#7fbc41"
            ],
            [
             0.9,
             "#4d9221"
            ],
            [
             1,
             "#276419"
            ]
           ],
           "sequential": [
            [
             0,
             "#0d0887"
            ],
            [
             0.1111111111111111,
             "#46039f"
            ],
            [
             0.2222222222222222,
             "#7201a8"
            ],
            [
             0.3333333333333333,
             "#9c179e"
            ],
            [
             0.4444444444444444,
             "#bd3786"
            ],
            [
             0.5555555555555556,
             "#d8576b"
            ],
            [
             0.6666666666666666,
             "#ed7953"
            ],
            [
             0.7777777777777778,
             "#fb9f3a"
            ],
            [
             0.8888888888888888,
             "#fdca26"
            ],
            [
             1,
             "#f0f921"
            ]
           ],
           "sequentialminus": [
            [
             0,
             "#0d0887"
            ],
            [
             0.1111111111111111,
             "#46039f"
            ],
            [
             0.2222222222222222,
             "#7201a8"
            ],
            [
             0.3333333333333333,
             "#9c179e"
            ],
            [
             0.4444444444444444,
             "#bd3786"
            ],
            [
             0.5555555555555556,
             "#d8576b"
            ],
            [
             0.6666666666666666,
             "#ed7953"
            ],
            [
             0.7777777777777778,
             "#fb9f3a"
            ],
            [
             0.8888888888888888,
             "#fdca26"
            ],
            [
             1,
             "#f0f921"
            ]
           ]
          },
          "colorway": [
           "#636efa",
           "#EF553B",
           "#00cc96",
           "#ab63fa",
           "#FFA15A",
           "#19d3f3",
           "#FF6692",
           "#B6E880",
           "#FF97FF",
           "#FECB52"
          ],
          "font": {
           "color": "#2a3f5f"
          },
          "geo": {
           "bgcolor": "white",
           "lakecolor": "white",
           "landcolor": "#E5ECF6",
           "showlakes": true,
           "showland": true,
           "subunitcolor": "white"
          },
          "hoverlabel": {
           "align": "left"
          },
          "hovermode": "closest",
          "mapbox": {
           "style": "light"
          },
          "paper_bgcolor": "white",
          "plot_bgcolor": "#E5ECF6",
          "polar": {
           "angularaxis": {
            "gridcolor": "white",
            "linecolor": "white",
            "ticks": ""
           },
           "bgcolor": "#E5ECF6",
           "radialaxis": {
            "gridcolor": "white",
            "linecolor": "white",
            "ticks": ""
           }
          },
          "scene": {
           "xaxis": {
            "backgroundcolor": "#E5ECF6",
            "gridcolor": "white",
            "gridwidth": 2,
            "linecolor": "white",
            "showbackground": true,
            "ticks": "",
            "zerolinecolor": "white"
           },
           "yaxis": {
            "backgroundcolor": "#E5ECF6",
            "gridcolor": "white",
            "gridwidth": 2,
            "linecolor": "white",
            "showbackground": true,
            "ticks": "",
            "zerolinecolor": "white"
           },
           "zaxis": {
            "backgroundcolor": "#E5ECF6",
            "gridcolor": "white",
            "gridwidth": 2,
            "linecolor": "white",
            "showbackground": true,
            "ticks": "",
            "zerolinecolor": "white"
           }
          },
          "shapedefaults": {
           "line": {
            "color": "#2a3f5f"
           }
          },
          "ternary": {
           "aaxis": {
            "gridcolor": "white",
            "linecolor": "white",
            "ticks": ""
           },
           "baxis": {
            "gridcolor": "white",
            "linecolor": "white",
            "ticks": ""
           },
           "bgcolor": "#E5ECF6",
           "caxis": {
            "gridcolor": "white",
            "linecolor": "white",
            "ticks": ""
           }
          },
          "title": {
           "x": 0.05
          },
          "xaxis": {
           "automargin": true,
           "gridcolor": "white",
           "linecolor": "white",
           "ticks": "",
           "title": {
            "standoff": 15
           },
           "zerolinecolor": "white",
           "zerolinewidth": 2
          },
          "yaxis": {
           "automargin": true,
           "gridcolor": "white",
           "linecolor": "white",
           "ticks": "",
           "title": {
            "standoff": 15
           },
           "zerolinecolor": "white",
           "zerolinewidth": 2
          }
         }
        },
        "title": {
         "text": "UPSm, 16388"
        },
        "xaxis": {
         "anchor": "y",
         "domain": [
          0,
          1
         ],
         "title": {
          "text": "Date"
         }
        },
        "yaxis": {
         "anchor": "x",
         "domain": [
          0,
          1
         ],
         "title": {
          "text": "Equity"
         }
        }
       }
      }
     },
     "metadata": {},
     "output_type": "display_data"
    },
    {
     "name": "stdout",
     "output_type": "stream",
     "text": [
      "YUMCm 16388\n"
     ]
    },
    {
     "data": {
      "application/vnd.plotly.v1+json": {
       "config": {
        "plotlyServerURL": "https://plot.ly"
       },
       "data": [
        {
         "hovertemplate": "x=%{x}<br>y=%{y}<extra></extra>",
         "legendgroup": "",
         "line": {
          "color": "#636efa",
          "dash": "solid"
         },
         "marker": {
          "symbol": "circle"
         },
         "mode": "lines",
         "name": "",
         "orientation": "v",
         "showlegend": false,
         "textposition": "bottom right",
         "type": "scatter",
         "x": [
          "2023-08-02T16:00:00+00:00",
          "2023-08-03T12:00:00+00:00",
          "2023-08-03T16:00:00+00:00",
          "2023-08-04T12:00:00+00:00",
          "2023-08-04T16:00:00+00:00",
          "2023-08-07T12:00:00+00:00",
          "2023-08-07T16:00:00+00:00",
          "2023-08-08T12:00:00+00:00",
          "2023-08-08T16:00:00+00:00",
          "2023-08-09T12:00:00+00:00",
          "2023-08-09T16:00:00+00:00",
          "2023-08-10T12:00:00+00:00",
          "2023-08-10T16:00:00+00:00",
          "2023-08-11T12:00:00+00:00",
          "2023-08-11T16:00:00+00:00",
          "2023-08-14T12:00:00+00:00",
          "2023-08-14T16:00:00+00:00",
          "2023-08-15T12:00:00+00:00",
          "2023-08-15T16:00:00+00:00",
          "2023-08-16T12:00:00+00:00",
          "2023-08-16T16:00:00+00:00",
          "2023-08-17T12:00:00+00:00",
          "2023-08-17T16:00:00+00:00",
          "2023-08-18T12:00:00+00:00",
          "2023-08-18T16:00:00+00:00",
          "2023-08-21T12:00:00+00:00",
          "2023-08-21T16:00:00+00:00",
          "2023-08-22T12:00:00+00:00",
          "2023-08-22T16:00:00+00:00",
          "2023-08-23T12:00:00+00:00",
          "2023-08-23T16:00:00+00:00",
          "2023-08-24T12:00:00+00:00",
          "2023-08-24T16:00:00+00:00",
          "2023-08-25T12:00:00+00:00",
          "2023-08-25T16:00:00+00:00",
          "2023-08-28T12:00:00+00:00",
          "2023-08-28T16:00:00+00:00",
          "2023-08-29T12:00:00+00:00",
          "2023-08-29T16:00:00+00:00",
          "2023-08-30T12:00:00+00:00",
          "2023-08-30T16:00:00+00:00",
          "2023-08-31T12:00:00+00:00",
          "2023-08-31T16:00:00+00:00",
          "2023-09-01T12:00:00+00:00",
          "2023-09-01T16:00:00+00:00",
          "2023-09-05T12:00:00+00:00",
          "2023-09-05T16:00:00+00:00",
          "2023-09-06T12:00:00+00:00",
          "2023-09-06T16:00:00+00:00",
          "2023-09-07T12:00:00+00:00",
          "2023-09-07T16:00:00+00:00",
          "2023-09-08T12:00:00+00:00",
          "2023-09-08T16:00:00+00:00",
          "2023-09-11T12:00:00+00:00",
          "2023-09-11T16:00:00+00:00",
          "2023-09-12T12:00:00+00:00",
          "2023-09-12T16:00:00+00:00",
          "2023-09-13T12:00:00+00:00",
          "2023-09-13T16:00:00+00:00",
          "2023-09-14T12:00:00+00:00",
          "2023-09-14T16:00:00+00:00",
          "2023-09-15T12:00:00+00:00",
          "2023-09-15T16:00:00+00:00",
          "2023-09-18T12:00:00+00:00",
          "2023-09-18T16:00:00+00:00",
          "2023-09-19T12:00:00+00:00",
          "2023-09-19T16:00:00+00:00",
          "2023-09-20T12:00:00+00:00",
          "2023-09-20T16:00:00+00:00",
          "2023-09-21T12:00:00+00:00",
          "2023-09-21T16:00:00+00:00",
          "2023-09-22T12:00:00+00:00",
          "2023-09-22T16:00:00+00:00",
          "2023-09-25T12:00:00+00:00",
          "2023-09-25T16:00:00+00:00",
          "2023-09-26T12:00:00+00:00",
          "2023-09-26T16:00:00+00:00",
          "2023-09-27T12:00:00+00:00",
          "2023-09-27T16:00:00+00:00",
          "2023-09-28T12:00:00+00:00",
          "2023-09-28T16:00:00+00:00",
          "2023-09-29T12:00:00+00:00",
          "2023-09-29T16:00:00+00:00",
          "2023-10-02T12:00:00+00:00",
          "2023-10-02T16:00:00+00:00",
          "2023-10-03T12:00:00+00:00",
          "2023-10-03T16:00:00+00:00",
          "2023-10-04T12:00:00+00:00",
          "2023-10-04T16:00:00+00:00",
          "2023-10-05T12:00:00+00:00",
          "2023-10-05T16:00:00+00:00",
          "2023-10-06T12:00:00+00:00",
          "2023-10-06T16:00:00+00:00",
          "2023-10-09T12:00:00+00:00",
          "2023-10-09T16:00:00+00:00",
          "2023-10-10T12:00:00+00:00",
          "2023-10-10T16:00:00+00:00",
          "2023-10-11T12:00:00+00:00",
          "2023-10-11T16:00:00+00:00",
          "2023-10-12T12:00:00+00:00",
          "2023-10-12T16:00:00+00:00",
          "2023-10-13T12:00:00+00:00",
          "2023-10-13T16:00:00+00:00",
          "2023-10-16T12:00:00+00:00",
          "2023-10-16T16:00:00+00:00",
          "2023-10-17T12:00:00+00:00",
          "2023-10-17T16:00:00+00:00",
          "2023-10-18T12:00:00+00:00",
          "2023-10-18T16:00:00+00:00",
          "2023-10-19T12:00:00+00:00",
          "2023-10-19T16:00:00+00:00",
          "2023-10-20T12:00:00+00:00",
          "2023-10-20T16:00:00+00:00",
          "2023-10-23T12:00:00+00:00",
          "2023-10-23T16:00:00+00:00",
          "2023-10-24T12:00:00+00:00",
          "2023-10-24T16:00:00+00:00",
          "2023-10-25T12:00:00+00:00",
          "2023-10-25T16:00:00+00:00",
          "2023-10-26T12:00:00+00:00",
          "2023-10-26T16:00:00+00:00",
          "2023-10-27T12:00:00+00:00",
          "2023-10-27T16:00:00+00:00",
          "2023-10-30T12:00:00+00:00",
          "2023-10-30T16:00:00+00:00",
          "2023-10-31T12:00:00+00:00",
          "2023-10-31T16:00:00+00:00",
          "2023-11-01T12:00:00+00:00",
          "2023-11-01T16:00:00+00:00",
          "2023-11-02T12:00:00+00:00",
          "2023-11-02T16:00:00+00:00",
          "2023-11-03T12:00:00+00:00",
          "2023-11-03T16:00:00+00:00",
          "2023-11-06T12:00:00+00:00",
          "2023-11-06T16:00:00+00:00",
          "2023-11-06T20:00:00+00:00",
          "2023-11-07T12:00:00+00:00",
          "2023-11-07T16:00:00+00:00",
          "2023-11-07T20:00:00+00:00",
          "2023-11-08T12:00:00+00:00",
          "2023-11-08T16:00:00+00:00",
          "2023-11-08T20:00:00+00:00",
          "2023-11-09T12:00:00+00:00",
          "2023-11-09T16:00:00+00:00",
          "2023-11-09T20:00:00+00:00",
          "2023-11-10T12:00:00+00:00",
          "2023-11-10T16:00:00+00:00",
          "2023-11-10T20:00:00+00:00",
          "2023-11-13T12:00:00+00:00",
          "2023-11-13T16:00:00+00:00",
          "2023-11-13T20:00:00+00:00",
          "2023-11-14T12:00:00+00:00",
          "2023-11-14T16:00:00+00:00",
          "2023-11-14T20:00:00+00:00",
          "2023-11-15T12:00:00+00:00",
          "2023-11-15T16:00:00+00:00",
          "2023-11-15T20:00:00+00:00",
          "2023-11-16T12:00:00+00:00",
          "2023-11-16T16:00:00+00:00",
          "2023-11-16T20:00:00+00:00",
          "2023-11-17T12:00:00+00:00",
          "2023-11-17T16:00:00+00:00",
          "2023-11-17T20:00:00+00:00",
          "2023-11-20T12:00:00+00:00",
          "2023-11-20T16:00:00+00:00",
          "2023-11-20T20:00:00+00:00",
          "2023-11-21T12:00:00+00:00",
          "2023-11-21T16:00:00+00:00",
          "2023-11-21T20:00:00+00:00",
          "2023-11-22T12:00:00+00:00",
          "2023-11-22T16:00:00+00:00",
          "2023-11-22T20:00:00+00:00",
          "2023-11-24T12:00:00+00:00",
          "2023-11-24T16:00:00+00:00",
          "2023-11-27T12:00:00+00:00",
          "2023-11-27T16:00:00+00:00",
          "2023-11-27T20:00:00+00:00",
          "2023-11-28T12:00:00+00:00",
          "2023-11-28T16:00:00+00:00",
          "2023-11-28T20:00:00+00:00",
          "2023-11-29T12:00:00+00:00",
          "2023-11-29T16:00:00+00:00",
          "2023-11-29T20:00:00+00:00",
          "2023-11-30T12:00:00+00:00",
          "2023-11-30T16:00:00+00:00",
          "2023-11-30T20:00:00+00:00",
          "2023-12-01T12:00:00+00:00",
          "2023-12-01T16:00:00+00:00",
          "2023-12-01T20:00:00+00:00",
          "2023-12-04T12:00:00+00:00",
          "2023-12-04T16:00:00+00:00",
          "2023-12-04T20:00:00+00:00",
          "2023-12-05T12:00:00+00:00",
          "2023-12-05T16:00:00+00:00",
          "2023-12-05T20:00:00+00:00",
          "2023-12-06T12:00:00+00:00",
          "2023-12-06T16:00:00+00:00",
          "2023-12-06T20:00:00+00:00",
          "2023-12-07T12:00:00+00:00",
          "2023-12-07T16:00:00+00:00",
          "2023-12-07T20:00:00+00:00",
          "2023-12-08T12:00:00+00:00",
          "2023-12-08T16:00:00+00:00",
          "2023-12-08T20:00:00+00:00",
          "2023-12-11T12:00:00+00:00",
          "2023-12-11T16:00:00+00:00",
          "2023-12-11T20:00:00+00:00",
          "2023-12-12T12:00:00+00:00",
          "2023-12-12T16:00:00+00:00",
          "2023-12-12T20:00:00+00:00",
          "2023-12-13T12:00:00+00:00",
          "2023-12-13T16:00:00+00:00",
          "2023-12-13T20:00:00+00:00",
          "2023-12-14T12:00:00+00:00",
          "2023-12-14T16:00:00+00:00",
          "2023-12-14T20:00:00+00:00",
          "2023-12-15T12:00:00+00:00",
          "2023-12-15T16:00:00+00:00",
          "2023-12-15T20:00:00+00:00",
          "2023-12-18T12:00:00+00:00",
          "2023-12-18T16:00:00+00:00",
          "2023-12-18T20:00:00+00:00",
          "2023-12-19T12:00:00+00:00",
          "2023-12-19T16:00:00+00:00",
          "2023-12-19T20:00:00+00:00",
          "2023-12-20T12:00:00+00:00",
          "2023-12-20T16:00:00+00:00",
          "2023-12-20T20:00:00+00:00",
          "2023-12-21T12:00:00+00:00",
          "2023-12-21T16:00:00+00:00",
          "2023-12-21T20:00:00+00:00",
          "2023-12-22T12:00:00+00:00",
          "2023-12-22T16:00:00+00:00",
          "2023-12-22T20:00:00+00:00",
          "2023-12-26T12:00:00+00:00",
          "2023-12-26T16:00:00+00:00",
          "2023-12-26T20:00:00+00:00",
          "2023-12-27T12:00:00+00:00",
          "2023-12-27T16:00:00+00:00",
          "2023-12-27T20:00:00+00:00",
          "2023-12-28T12:00:00+00:00",
          "2023-12-28T16:00:00+00:00",
          "2023-12-28T20:00:00+00:00",
          "2023-12-29T12:00:00+00:00",
          "2023-12-29T16:00:00+00:00",
          "2023-12-29T20:00:00+00:00",
          "2024-01-02T12:00:00+00:00",
          "2024-01-02T16:00:00+00:00",
          "2024-01-02T20:00:00+00:00",
          "2024-01-03T12:00:00+00:00",
          "2024-01-03T16:00:00+00:00",
          "2024-01-03T20:00:00+00:00",
          "2024-01-04T12:00:00+00:00",
          "2024-01-04T16:00:00+00:00",
          "2024-01-04T20:00:00+00:00",
          "2024-01-05T12:00:00+00:00",
          "2024-01-05T16:00:00+00:00",
          "2024-01-05T20:00:00+00:00",
          "2024-01-08T12:00:00+00:00",
          "2024-01-08T16:00:00+00:00",
          "2024-01-08T20:00:00+00:00",
          "2024-01-09T12:00:00+00:00",
          "2024-01-09T16:00:00+00:00",
          "2024-01-09T20:00:00+00:00",
          "2024-01-10T12:00:00+00:00",
          "2024-01-10T16:00:00+00:00",
          "2024-01-10T20:00:00+00:00",
          "2024-01-11T12:00:00+00:00",
          "2024-01-11T16:00:00+00:00",
          "2024-01-11T20:00:00+00:00",
          "2024-01-12T12:00:00+00:00",
          "2024-01-12T16:00:00+00:00",
          "2024-01-12T20:00:00+00:00",
          "2024-01-16T12:00:00+00:00",
          "2024-01-16T16:00:00+00:00",
          "2024-01-16T20:00:00+00:00",
          "2024-01-17T12:00:00+00:00",
          "2024-01-17T16:00:00+00:00",
          "2024-01-17T20:00:00+00:00",
          "2024-01-18T12:00:00+00:00",
          "2024-01-18T16:00:00+00:00",
          "2024-01-18T20:00:00+00:00",
          "2024-01-19T12:00:00+00:00",
          "2024-01-19T16:00:00+00:00",
          "2024-01-19T20:00:00+00:00",
          "2024-01-22T12:00:00+00:00",
          "2024-01-22T16:00:00+00:00",
          "2024-01-22T20:00:00+00:00",
          "2024-01-23T12:00:00+00:00",
          "2024-01-23T16:00:00+00:00",
          "2024-01-23T20:00:00+00:00",
          "2024-01-24T12:00:00+00:00",
          "2024-01-24T16:00:00+00:00",
          "2024-01-24T20:00:00+00:00",
          "2024-01-25T12:00:00+00:00",
          "2024-01-25T16:00:00+00:00",
          "2024-01-25T20:00:00+00:00",
          "2024-01-26T12:00:00+00:00",
          "2024-01-26T16:00:00+00:00",
          "2024-01-26T20:00:00+00:00",
          "2024-01-29T12:00:00+00:00",
          "2024-01-29T16:00:00+00:00",
          "2024-01-29T20:00:00+00:00",
          "2024-01-30T12:00:00+00:00",
          "2024-01-30T16:00:00+00:00",
          "2024-01-30T20:00:00+00:00",
          "2024-01-31T12:00:00+00:00",
          "2024-01-31T16:00:00+00:00",
          "2024-01-31T20:00:00+00:00",
          "2024-02-01T12:00:00+00:00",
          "2024-02-01T16:00:00+00:00",
          "2024-02-01T20:00:00+00:00",
          "2024-02-02T12:00:00+00:00",
          "2024-02-02T16:00:00+00:00",
          "2024-02-02T20:00:00+00:00",
          "2024-02-05T12:00:00+00:00",
          "2024-02-05T16:00:00+00:00",
          "2024-02-05T20:00:00+00:00",
          "2024-02-06T12:00:00+00:00",
          "2024-02-06T16:00:00+00:00",
          "2024-02-06T20:00:00+00:00",
          "2024-02-07T12:00:00+00:00",
          "2024-02-07T16:00:00+00:00",
          "2024-02-07T20:00:00+00:00",
          "2024-02-08T12:00:00+00:00",
          "2024-02-08T16:00:00+00:00",
          "2024-02-08T20:00:00+00:00",
          "2024-02-09T12:00:00+00:00",
          "2024-02-09T16:00:00+00:00",
          "2024-02-09T20:00:00+00:00",
          "2024-02-12T12:00:00+00:00",
          "2024-02-12T16:00:00+00:00",
          "2024-02-12T20:00:00+00:00",
          "2024-02-13T12:00:00+00:00",
          "2024-02-13T16:00:00+00:00",
          "2024-02-13T20:00:00+00:00",
          "2024-02-14T12:00:00+00:00",
          "2024-02-14T16:00:00+00:00",
          "2024-02-14T20:00:00+00:00",
          "2024-02-15T12:00:00+00:00",
          "2024-02-15T16:00:00+00:00",
          "2024-02-15T20:00:00+00:00",
          "2024-02-16T12:00:00+00:00",
          "2024-02-16T16:00:00+00:00",
          "2024-02-16T20:00:00+00:00",
          "2024-02-20T12:00:00+00:00",
          "2024-02-20T16:00:00+00:00",
          "2024-02-20T20:00:00+00:00",
          "2024-02-21T12:00:00+00:00",
          "2024-02-21T16:00:00+00:00",
          "2024-02-21T20:00:00+00:00",
          "2024-02-22T12:00:00+00:00",
          "2024-02-22T16:00:00+00:00",
          "2024-02-22T20:00:00+00:00",
          "2024-02-23T12:00:00+00:00",
          "2024-02-23T16:00:00+00:00",
          "2024-02-23T20:00:00+00:00",
          "2024-02-26T12:00:00+00:00",
          "2024-02-26T16:00:00+00:00",
          "2024-02-26T20:00:00+00:00",
          "2024-02-27T12:00:00+00:00",
          "2024-02-27T16:00:00+00:00",
          "2024-02-27T20:00:00+00:00",
          "2024-02-28T12:00:00+00:00",
          "2024-02-28T16:00:00+00:00",
          "2024-02-28T20:00:00+00:00",
          "2024-02-29T12:00:00+00:00",
          "2024-02-29T16:00:00+00:00",
          "2024-02-29T20:00:00+00:00",
          "2024-03-01T12:00:00+00:00",
          "2024-03-01T16:00:00+00:00",
          "2024-03-01T20:00:00+00:00",
          "2024-03-04T12:00:00+00:00",
          "2024-03-04T16:00:00+00:00",
          "2024-03-04T20:00:00+00:00",
          "2024-03-05T12:00:00+00:00",
          "2024-03-05T16:00:00+00:00",
          "2024-03-05T20:00:00+00:00",
          "2024-03-06T12:00:00+00:00",
          "2024-03-06T16:00:00+00:00",
          "2024-03-06T20:00:00+00:00",
          "2024-03-07T12:00:00+00:00",
          "2024-03-07T16:00:00+00:00",
          "2024-03-07T20:00:00+00:00",
          "2024-03-08T12:00:00+00:00",
          "2024-03-08T16:00:00+00:00",
          "2024-03-08T20:00:00+00:00",
          "2024-03-11T12:00:00+00:00",
          "2024-03-11T16:00:00+00:00",
          "2024-03-12T12:00:00+00:00",
          "2024-03-12T16:00:00+00:00",
          "2024-03-13T12:00:00+00:00",
          "2024-03-13T16:00:00+00:00",
          "2024-03-14T12:00:00+00:00",
          "2024-03-14T16:00:00+00:00",
          "2024-03-15T12:00:00+00:00",
          "2024-03-15T16:00:00+00:00",
          "2024-03-18T12:00:00+00:00",
          "2024-03-18T16:00:00+00:00",
          "2024-03-19T12:00:00+00:00",
          "2024-03-19T16:00:00+00:00",
          "2024-03-20T12:00:00+00:00",
          "2024-03-20T16:00:00+00:00",
          "2024-03-21T12:00:00+00:00",
          "2024-03-21T16:00:00+00:00",
          "2024-03-22T12:00:00+00:00",
          "2024-03-22T16:00:00+00:00",
          "2024-03-25T12:00:00+00:00",
          "2024-03-25T16:00:00+00:00",
          "2024-03-26T12:00:00+00:00",
          "2024-03-26T16:00:00+00:00",
          "2024-03-27T12:00:00+00:00",
          "2024-03-27T16:00:00+00:00",
          "2024-03-28T12:00:00+00:00",
          "2024-03-28T16:00:00+00:00",
          "2024-04-01T12:00:00+00:00",
          "2024-04-01T16:00:00+00:00",
          "2024-04-02T12:00:00+00:00",
          "2024-04-02T16:00:00+00:00",
          "2024-04-03T12:00:00+00:00",
          "2024-04-03T16:00:00+00:00",
          "2024-04-04T12:00:00+00:00",
          "2024-04-04T16:00:00+00:00",
          "2024-04-05T12:00:00+00:00",
          "2024-04-05T16:00:00+00:00",
          "2024-04-08T12:00:00+00:00",
          "2024-04-08T16:00:00+00:00",
          "2024-04-09T12:00:00+00:00",
          "2024-04-09T16:00:00+00:00",
          "2024-04-10T12:00:00+00:00",
          "2024-04-10T16:00:00+00:00",
          "2024-04-11T12:00:00+00:00",
          "2024-04-11T16:00:00+00:00",
          "2024-04-12T12:00:00+00:00",
          "2024-04-12T16:00:00+00:00",
          "2024-04-15T12:00:00+00:00",
          "2024-04-15T16:00:00+00:00",
          "2024-04-16T12:00:00+00:00",
          "2024-04-16T16:00:00+00:00",
          "2024-04-17T12:00:00+00:00",
          "2024-04-17T16:00:00+00:00",
          "2024-04-18T12:00:00+00:00",
          "2024-04-18T16:00:00+00:00",
          "2024-04-19T12:00:00+00:00",
          "2024-04-19T16:00:00+00:00",
          "2024-04-22T12:00:00+00:00",
          "2024-04-22T16:00:00+00:00",
          "2024-04-23T12:00:00+00:00",
          "2024-04-23T16:00:00+00:00",
          "2024-04-24T12:00:00+00:00",
          "2024-04-24T16:00:00+00:00",
          "2024-04-25T12:00:00+00:00",
          "2024-04-25T16:00:00+00:00",
          "2024-04-26T12:00:00+00:00",
          "2024-04-26T16:00:00+00:00",
          "2024-04-29T12:00:00+00:00",
          "2024-04-29T16:00:00+00:00",
          "2024-04-30T12:00:00+00:00",
          "2024-04-30T16:00:00+00:00",
          "2024-05-01T12:00:00+00:00",
          "2024-05-01T16:00:00+00:00",
          "2024-05-02T12:00:00+00:00",
          "2024-05-02T16:00:00+00:00",
          "2024-05-03T12:00:00+00:00",
          "2024-05-03T16:00:00+00:00",
          "2024-05-06T12:00:00+00:00",
          "2024-05-06T16:00:00+00:00",
          "2024-05-07T12:00:00+00:00",
          "2024-05-07T16:00:00+00:00",
          "2024-05-08T12:00:00+00:00",
          "2024-05-08T16:00:00+00:00",
          "2024-05-09T12:00:00+00:00",
          "2024-05-09T16:00:00+00:00",
          "2024-05-10T12:00:00+00:00",
          "2024-05-10T16:00:00+00:00",
          "2024-05-13T12:00:00+00:00",
          "2024-05-13T16:00:00+00:00",
          "2024-05-14T12:00:00+00:00",
          "2024-05-14T16:00:00+00:00",
          "2024-05-15T12:00:00+00:00",
          "2024-05-15T16:00:00+00:00",
          "2024-05-16T12:00:00+00:00",
          "2024-05-16T16:00:00+00:00",
          "2024-05-17T12:00:00+00:00",
          "2024-05-17T16:00:00+00:00",
          "2024-05-20T12:00:00+00:00",
          "2024-05-20T16:00:00+00:00",
          "2024-05-21T12:00:00+00:00",
          "2024-05-21T16:00:00+00:00",
          "2024-05-22T12:00:00+00:00",
          "2024-05-22T16:00:00+00:00",
          "2024-05-23T12:00:00+00:00",
          "2024-05-23T16:00:00+00:00",
          "2024-05-24T12:00:00+00:00",
          "2024-05-24T16:00:00+00:00",
          "2024-05-28T12:00:00+00:00",
          "2024-05-28T16:00:00+00:00",
          "2024-05-29T12:00:00+00:00",
          "2024-05-29T16:00:00+00:00",
          "2024-05-30T12:00:00+00:00",
          "2024-05-30T16:00:00+00:00",
          "2024-05-31T12:00:00+00:00",
          "2024-05-31T16:00:00+00:00",
          "2024-06-03T12:00:00+00:00",
          "2024-06-03T16:00:00+00:00",
          "2024-06-04T12:00:00+00:00",
          "2024-06-04T16:00:00+00:00",
          "2024-06-05T12:00:00+00:00",
          "2024-06-05T16:00:00+00:00",
          "2024-06-06T12:00:00+00:00",
          "2024-06-06T16:00:00+00:00",
          "2024-06-07T12:00:00+00:00",
          "2024-06-07T16:00:00+00:00",
          "2024-06-10T12:00:00+00:00",
          "2024-06-10T16:00:00+00:00",
          "2024-06-11T12:00:00+00:00",
          "2024-06-11T16:00:00+00:00",
          "2024-06-12T12:00:00+00:00",
          "2024-06-12T16:00:00+00:00",
          "2024-06-13T12:00:00+00:00",
          "2024-06-13T16:00:00+00:00",
          "2024-06-14T12:00:00+00:00",
          "2024-06-14T16:00:00+00:00",
          "2024-06-17T12:00:00+00:00",
          "2024-06-17T16:00:00+00:00",
          "2024-06-18T12:00:00+00:00",
          "2024-06-18T16:00:00+00:00",
          "2024-06-20T12:00:00+00:00",
          "2024-06-20T16:00:00+00:00",
          "2024-06-21T12:00:00+00:00",
          "2024-06-21T16:00:00+00:00",
          "2024-06-24T12:00:00+00:00",
          "2024-06-24T16:00:00+00:00",
          "2024-06-25T12:00:00+00:00",
          "2024-06-25T16:00:00+00:00",
          "2024-06-26T12:00:00+00:00",
          "2024-06-26T16:00:00+00:00",
          "2024-06-27T12:00:00+00:00",
          "2024-06-27T16:00:00+00:00",
          "2024-06-28T12:00:00+00:00",
          "2024-06-28T16:00:00+00:00",
          "2024-07-01T12:00:00+00:00",
          "2024-07-01T16:00:00+00:00",
          "2024-07-02T12:00:00+00:00",
          "2024-07-02T16:00:00+00:00",
          "2024-07-03T12:00:00+00:00",
          "2024-07-03T16:00:00+00:00",
          "2024-07-05T12:00:00+00:00",
          "2024-07-05T16:00:00+00:00",
          "2024-07-08T12:00:00+00:00",
          "2024-07-08T16:00:00+00:00",
          "2024-07-09T12:00:00+00:00",
          "2024-07-09T16:00:00+00:00",
          "2024-07-10T12:00:00+00:00",
          "2024-07-10T16:00:00+00:00",
          "2024-07-11T12:00:00+00:00",
          "2024-07-11T16:00:00+00:00",
          "2024-07-12T12:00:00+00:00",
          "2024-07-12T16:00:00+00:00",
          "2024-07-15T12:00:00+00:00",
          "2024-07-15T16:00:00+00:00",
          "2024-07-16T12:00:00+00:00",
          "2024-07-16T16:00:00+00:00",
          "2024-07-17T12:00:00+00:00",
          "2024-07-17T16:00:00+00:00",
          "2024-07-18T12:00:00+00:00",
          "2024-07-18T16:00:00+00:00",
          "2024-07-19T12:00:00+00:00",
          "2024-07-19T16:00:00+00:00",
          "2024-07-22T12:00:00+00:00",
          "2024-07-22T16:00:00+00:00",
          "2024-07-23T12:00:00+00:00",
          "2024-07-23T16:00:00+00:00",
          "2024-07-24T12:00:00+00:00",
          "2024-07-24T16:00:00+00:00",
          "2024-07-25T12:00:00+00:00",
          "2024-07-25T16:00:00+00:00",
          "2024-07-26T12:00:00+00:00",
          "2024-07-26T16:00:00+00:00",
          "2024-07-29T12:00:00+00:00",
          "2024-07-29T16:00:00+00:00",
          "2024-07-30T12:00:00+00:00",
          "2024-07-30T16:00:00+00:00",
          "2024-07-31T12:00:00+00:00",
          "2024-07-31T16:00:00+00:00",
          "2024-08-01T12:00:00+00:00",
          "2024-08-01T16:00:00+00:00",
          "2024-08-02T12:00:00+00:00",
          "2024-08-02T16:00:00+00:00",
          "2024-08-05T12:00:00+00:00",
          "2024-08-05T16:00:00+00:00",
          "2024-08-06T12:00:00+00:00",
          "2024-08-06T16:00:00+00:00",
          "2024-08-07T12:00:00+00:00",
          "2024-08-07T16:00:00+00:00",
          "2024-08-08T12:00:00+00:00",
          "2024-08-08T16:00:00+00:00",
          "2024-08-09T12:00:00+00:00",
          "2024-08-09T16:00:00+00:00",
          "2024-08-12T12:00:00+00:00",
          "2024-08-12T16:00:00+00:00",
          "2024-08-13T12:00:00+00:00",
          "2024-08-13T16:00:00+00:00",
          "2024-08-14T12:00:00+00:00",
          "2024-08-14T16:00:00+00:00",
          "2024-08-15T12:00:00+00:00",
          "2024-08-15T16:00:00+00:00",
          "2024-08-16T12:00:00+00:00",
          "2024-08-16T16:00:00+00:00",
          "2024-08-19T12:00:00+00:00",
          "2024-08-19T16:00:00+00:00",
          "2024-08-20T12:00:00+00:00",
          "2024-08-20T16:00:00+00:00",
          "2024-08-21T12:00:00+00:00",
          "2024-08-21T16:00:00+00:00",
          "2024-08-22T12:00:00+00:00",
          "2024-08-22T16:00:00+00:00",
          "2024-08-23T12:00:00+00:00",
          "2024-08-23T16:00:00+00:00",
          "2024-08-26T12:00:00+00:00",
          "2024-08-26T16:00:00+00:00",
          "2024-08-27T12:00:00+00:00",
          "2024-08-27T16:00:00+00:00",
          "2024-08-28T12:00:00+00:00",
          "2024-08-28T16:00:00+00:00",
          "2024-08-29T12:00:00+00:00",
          "2024-08-29T16:00:00+00:00",
          "2024-08-30T12:00:00+00:00",
          "2024-08-30T16:00:00+00:00"
         ],
         "xaxis": "x",
         "y": [
          10000,
          10000,
          10000,
          10000,
          10000,
          10000,
          10000,
          10000,
          10000,
          10000,
          10000,
          10000,
          10000,
          10000,
          10000,
          10000,
          10000,
          9986.878265000001,
          9967.078265,
          9899.200989760786,
          9900.409995760785,
          9922.549995760786,
          9932.809995760786,
          9779.449995760786,
          9779.449995760786,
          9779.449995760786,
          9779.449995760786,
          9779.449995760786,
          9779.449995760786,
          9779.449995760786,
          9779.449995760786,
          9779.449995760786,
          9779.449995760786,
          9779.449995760786,
          9779.449995760786,
          9779.449995760786,
          9779.449995760786,
          9779.449995760786,
          9779.449995760786,
          9779.449995760786,
          9779.449995760786,
          9779.449995760786,
          9779.449995760786,
          9779.449995760786,
          9779.449995760786,
          9779.449995760786,
          9779.449995760786,
          9779.449995760786,
          9779.449995760786,
          9779.449995760786,
          9779.449995760786,
          9779.449995760786,
          9779.449995760786,
          9779.449995760786,
          9779.449995760786,
          9779.449995760786,
          9779.449995760786,
          9779.449995760786,
          9779.449995760786,
          9779.449995760786,
          9767.311523760785,
          9668.131523760787,
          9655.150085760786,
          9664.330085760786,
          9702.670085760787,
          9718.330085760786,
          9721.570085760786,
          9733.990085760786,
          9754.510085760787,
          9810.670085760787,
          9803.110085760787,
          9672.970085760788,
          9672.970085760788,
          9724.810085760786,
          9728.050085760788,
          9753.430085760787,
          9752.890085760788,
          9785.830085760786,
          9779.350085760787,
          9796.630085760788,
          9792.850085760787,
          9736.150085760786,
          9770.710085760787,
          9784.210085760787,
          9792.850085760787,
          9837.130085760788,
          9836.590085760787,
          9836.590085760787,
          9836.590085760787,
          9836.590085760787,
          9836.590085760787,
          9836.590085760787,
          9836.590085760787,
          9836.590085760787,
          9836.590085760787,
          9836.590085760787,
          9836.590085760787,
          9836.590085760787,
          9836.590085760787,
          9836.590085760787,
          9836.590085760787,
          9836.590085760787,
          9836.590085760787,
          9836.590085760787,
          9836.590085760787,
          9836.590085760787,
          9836.590085760787,
          9836.590085760787,
          9866.970967760788,
          9863.620967760788,
          9817.390967760786,
          9807.340967760787,
          9791.260967760787,
          9736.171381881271,
          9736.171381881271,
          9736.171381881271,
          9736.171381881271,
          9736.171381881271,
          9736.171381881271,
          9736.171381881271,
          9736.171381881271,
          9736.171381881271,
          9736.171381881271,
          9736.171381881271,
          9736.171381881271,
          9736.171381881271,
          9736.171381881271,
          9736.171381881271,
          9736.171381881271,
          9736.171381881271,
          9736.171381881271,
          9736.171381881271,
          9736.171381881271,
          9736.171381881271,
          9736.171381881271,
          9736.171381881271,
          9736.171381881271,
          9736.171381881271,
          9736.171381881271,
          9736.171381881271,
          9736.171381881271,
          9730.428193881271,
          9750.66819388127,
          9729.988193881272,
          9724.268193881271,
          9744.508193881271,
          9761.66819388127,
          9767.388193881272,
          9748.90819388127,
          9774.428193881271,
          9771.348193881271,
          9813.148193881272,
          9824.58819388127,
          9813.58819388127,
          9854.948193881271,
          9841.74819388127,
          9834.708193881272,
          9836.028193881271,
          9840.428193881271,
          9832.068193881272,
          9839.108193881271,
          9839.988193881272,
          9833.82819388127,
          9844.388193881272,
          9849.228193881272,
          9848.348193881271,
          9866.82819388127,
          9866.82819388127,
          9866.82819388127,
          9866.82819388127,
          9866.82819388127,
          9866.82819388127,
          9866.82819388127,
          9866.82819388127,
          9866.82819388127,
          9866.82819388127,
          9866.82819388127,
          9866.82819388127,
          9866.82819388127,
          9866.82819388127,
          9866.82819388127,
          9866.82819388127,
          9866.82819388127,
          9866.82819388127,
          9866.82819388127,
          9866.82819388127,
          9866.82819388127,
          9866.82819388127,
          9866.82819388127,
          9866.82819388127,
          9866.82819388127,
          9866.82819388127,
          9866.82819388127,
          9866.82819388127,
          9866.82819388127,
          9866.82819388127,
          9866.82819388127,
          9866.82819388127,
          9866.82819388127,
          9866.82819388127,
          9866.82819388127,
          9866.82819388127,
          9866.82819388127,
          9866.82819388127,
          9866.82819388127,
          9866.82819388127,
          9866.82819388127,
          9866.82819388127,
          9866.82819388127,
          9866.82819388127,
          9866.82819388127,
          9866.82819388127,
          9866.82819388127,
          9866.82819388127,
          9866.82819388127,
          9866.82819388127,
          9866.82819388127,
          9866.82819388127,
          9866.82819388127,
          9866.82819388127,
          9866.82819388127,
          9866.82819388127,
          9866.82819388127,
          9866.82819388127,
          9866.82819388127,
          9866.82819388127,
          9866.82819388127,
          9866.82819388127,
          9866.82819388127,
          9866.82819388127,
          9866.82819388127,
          9866.82819388127,
          9866.82819388127,
          9866.82819388127,
          9866.82819388127,
          9866.82819388127,
          9866.82819388127,
          9866.82819388127,
          9866.82819388127,
          9866.82819388127,
          9866.82819388127,
          9866.82819388127,
          9866.82819388127,
          9866.82819388127,
          9866.82819388127,
          9866.82819388127,
          9866.82819388127,
          9866.82819388127,
          9866.82819388127,
          9866.82819388127,
          9858.90531188127,
          9870.205311881271,
          9926.705311881271,
          9959.47531188127,
          9956.08531188127,
          10145.92531188127,
          10145.92531188127,
          10145.92531188127,
          10145.92531188127,
          10145.92531188127,
          10145.92531188127,
          10145.92531188127,
          10145.92531188127,
          10145.92531188127,
          10145.92531188127,
          10145.92531188127,
          10145.92531188127,
          10145.92531188127,
          10145.92531188127,
          10145.92531188127,
          10145.92531188127,
          10145.92531188127,
          10145.92531188127,
          10145.92531188127,
          10145.92531188127,
          10159.43891188127,
          10042.620032223305,
          10042.620032223305,
          10042.620032223305,
          10042.620032223305,
          10042.620032223305,
          10042.620032223305,
          10042.620032223305,
          10042.620032223305,
          10042.620032223305,
          10042.620032223305,
          10042.620032223305,
          10042.620032223305,
          10042.620032223305,
          10042.620032223305,
          10042.620032223305,
          10042.620032223305,
          10042.620032223305,
          10042.620032223305,
          10042.620032223305,
          10042.620032223305,
          10042.620032223305,
          10042.620032223305,
          10042.620032223305,
          10042.620032223305,
          10042.620032223305,
          10042.620032223305,
          10042.620032223305,
          10042.620032223305,
          10042.620032223305,
          10042.620032223305,
          10042.620032223305,
          10042.620032223305,
          10042.620032223305,
          10042.620032223305,
          10042.620032223305,
          10042.620032223305,
          10042.620032223305,
          10042.620032223305,
          10042.620032223305,
          10042.620032223305,
          10042.620032223305,
          10042.620032223305,
          10042.620032223305,
          10081.442850223306,
          10079.802850223305,
          9829.702850223306,
          9863.332577223306,
          9862.112577223306,
          9892.002577223306,
          9905.422577223306,
          9907.862577223306,
          9898.712577223307,
          9874.922577223306,
          9872.482577223305,
          9800.502577223306,
          9822.462577223307,
          9818.192577223306,
          9869.432577223306,
          9918.232577223305,
          9912.132577223307,
          9864.552577223307,
          9881.022577223306,
          9879.802577223307,
          9830.392577223305,
          9843.812577223307,
          9843.812577223307,
          9797.452577223306,
          9810.872577223307,
          9812.702577223306,
          9823.682577223306,
          9834.052577223307,
          9834.662577223306,
          9823.072577223305,
          9802.942577223306,
          9802.332577223306,
          9810.872577223307,
          9790.742577223305,
          9791.352577223306,
          9772.442577223306,
          9771.832577223306,
          9777.932577223306,
          9768.172577223306,
          9776.712577223307,
          9768.782577223306,
          9714.492577223305,
          9767.122519223305,
          9752.082519223306,
          9716.362519223305,
          9680.642519223305,
          9662.782519223305,
          9718.242519223306,
          9734.222519223305,
          9739.862519223305,
          9650.562519223306,
          9742.682519223305,
          9739.862519223305,
          9830.102519223305,
          9839.502519223306,
          9831.982519223306,
          9834.802519223305,
          9891.202519223305,
          9891.202519223305,
          9891.202519223305,
          9891.202519223305,
          9891.202519223305,
          9891.202519223305,
          9891.202519223305,
          9891.202519223305,
          9891.202519223305,
          9891.202519223305,
          9891.202519223305,
          9891.202519223305,
          9891.202519223305,
          9891.202519223305,
          9891.202519223305,
          9891.202519223305,
          9891.202519223305,
          9891.202519223305,
          9891.202519223305,
          9891.202519223305,
          9891.202519223305,
          9891.202519223305,
          9891.202519223305,
          9822.038699223305,
          9822.038699223305,
          9822.038699223305,
          9822.038699223305,
          9822.038699223305,
          9822.038699223305,
          9822.038699223305,
          9822.038699223305,
          9822.038699223305,
          9822.038699223305,
          9822.038699223305,
          9822.038699223305,
          9822.038699223305,
          9822.038699223305,
          9822.038699223305,
          9822.038699223305,
          9822.038699223305,
          9822.038699223305,
          9822.038699223305,
          9822.038699223305,
          9822.038699223305,
          9822.038699223305,
          9822.038699223305,
          9822.038699223305,
          9822.038699223305,
          9822.038699223305,
          9822.038699223305,
          9822.038699223305,
          9822.038699223305,
          9822.038699223305,
          9822.038699223305,
          9822.038699223305,
          9822.038699223305,
          9822.038699223305,
          9822.038699223305,
          9822.038699223305,
          9822.038699223305,
          9822.038699223305,
          9822.038699223305,
          9822.038699223305,
          9822.038699223305,
          9822.038699223305,
          9822.038699223305,
          9822.038699223305,
          9822.038699223305,
          9822.038699223305,
          9822.038699223305,
          9822.038699223305,
          9822.038699223305,
          9822.038699223305,
          9822.038699223305,
          9822.038699223305,
          9822.038699223305,
          9822.038699223305,
          9822.038699223305,
          9822.038699223305,
          9822.038699223305,
          9822.038699223305,
          9822.038699223305,
          9822.038699223305,
          9822.038699223305,
          9822.038699223305,
          9865.840363223306,
          9862.640363223305,
          9907.440363223304,
          9923.440363223304,
          9874.800363223305,
          9879.920363223306,
          9869.040363223305,
          9858.160363223305,
          9862.000363223306,
          9858.160363223305,
          9894.640363223305,
          9897.200363223306,
          9888.880363223305,
          9883.120363223305,
          9958.640363223305,
          9958.640363223305,
          9958.640363223305,
          9958.640363223305,
          9958.640363223305,
          9958.640363223305,
          9958.640363223305,
          9958.640363223305,
          9958.640363223305,
          9958.640363223305,
          9958.640363223305,
          9958.640363223305,
          9958.640363223305,
          9958.640363223305,
          9958.640363223305,
          9958.640363223305,
          9958.640363223305,
          9920.035154223306,
          9944.935154223305,
          9945.765154223305,
          9900.945154223306,
          9934.975154223304,
          9876.045154223306,
          9877.705154223304,
          9890.985154223305,
          9890.985154223305,
          9890.985154223305,
          9890.985154223305,
          9890.985154223305,
          9890.985154223305,
          9890.985154223305,
          9890.985154223305,
          9890.985154223305,
          9890.985154223305,
          9890.985154223305,
          9890.985154223305,
          9890.985154223305,
          9890.985154223305,
          9890.985154223305,
          9890.985154223305,
          9897.395011223305,
          9901.275011223304,
          9844.615752432326,
          9844.615752432326,
          9844.615752432326,
          9844.615752432326,
          9844.615752432326,
          9844.615752432326,
          9844.615752432326,
          9844.615752432326,
          9844.615752432326,
          9844.615752432326,
          9844.615752432326,
          9844.615752432326,
          9844.615752432326,
          9844.615752432326,
          9844.615752432326,
          9844.615752432326,
          9844.615752432326,
          9844.615752432326,
          9844.615752432326,
          9844.615752432326,
          9844.615752432326,
          9844.615752432326,
          9844.615752432326,
          9844.615752432326,
          9844.615752432326,
          9823.037346432327,
          9806.717346432326,
          9806.717346432326,
          9896.477346432326,
          9897.497346432327,
          9893.417346432327,
          9876.077346432327,
          9814.877346432326,
          9811.817346432326,
          9800.597346432327,
          9802.637346432326,
          9830.177346432327,
          9802.637346432326,
          9958.697346432327,
          9927.077346432327,
          9983.177346432327,
          9981.137346432326,
          9944.417346432327,
          9911.777346432327,
          9874.037346432327,
          9893.417346432327,
          9859.757346432327,
          9871.997346432327,
          9854.657346432326,
          9822.017346432327,
          9783.257346432327,
          9793.457346432328,
          9831.197346432327,
          9813.857346432327,
          9763.877346432326,
          9760.817346432326,
          9722.057346432326,
          9722.057346432326,
          9727.997946432326,
          9715.997946432326,
          9781.997946432326,
          9785.997946432326,
          9797.997946432326,
          9790.997946432326,
          9757.997946432326,
          9771.997946432326,
          9824.997946432326,
          9809.997946432326,
          9766.997946432326,
          9780.997946432326,
          9717.997946432326,
          9733.997946432326,
          9733.997946432326,
          9743.997946432326,
          10092.997946432326,
          10092.997946432326,
          10065.347018432325,
          10093.467018432326,
          10082.827018432326,
          10089.667018432325,
          10139.067018432326,
          10115.507018432327,
          10113.227018432326,
          10113.227018432326,
          10113.227018432326,
          10113.227018432326,
          10113.227018432326,
          10104.182378432326,
          10023.382378432327,
          10009.76520978524,
          10063.70869878524,
          10095.29869878524,
          10003.76869878524,
          10067.758698785241,
          10100.15869878524,
          10112.30869878524,
          10045.07869878524,
          10046.69869878524,
          10057.22869878524,
          10067.758698785241,
          10064.51869878524,
          10100.96869878524,
          10083.95869878524,
          10078.28869878524,
          10077.47869878524,
          10078.28869878524,
          10105.82869878524,
          10107.44869878524,
          10062.89869878524,
          10077.47869878524,
          10034.54869878524,
          10034.54869878524
         ],
         "yaxis": "y"
        }
       ],
       "layout": {
        "legend": {
         "tracegroupgap": 0
        },
        "margin": {
         "t": 60
        },
        "template": {
         "data": {
          "bar": [
           {
            "error_x": {
             "color": "#2a3f5f"
            },
            "error_y": {
             "color": "#2a3f5f"
            },
            "marker": {
             "line": {
              "color": "#E5ECF6",
              "width": 0.5
             },
             "pattern": {
              "fillmode": "overlay",
              "size": 10,
              "solidity": 0.2
             }
            },
            "type": "bar"
           }
          ],
          "barpolar": [
           {
            "marker": {
             "line": {
              "color": "#E5ECF6",
              "width": 0.5
             },
             "pattern": {
              "fillmode": "overlay",
              "size": 10,
              "solidity": 0.2
             }
            },
            "type": "barpolar"
           }
          ],
          "carpet": [
           {
            "aaxis": {
             "endlinecolor": "#2a3f5f",
             "gridcolor": "white",
             "linecolor": "white",
             "minorgridcolor": "white",
             "startlinecolor": "#2a3f5f"
            },
            "baxis": {
             "endlinecolor": "#2a3f5f",
             "gridcolor": "white",
             "linecolor": "white",
             "minorgridcolor": "white",
             "startlinecolor": "#2a3f5f"
            },
            "type": "carpet"
           }
          ],
          "choropleth": [
           {
            "colorbar": {
             "outlinewidth": 0,
             "ticks": ""
            },
            "type": "choropleth"
           }
          ],
          "contour": [
           {
            "colorbar": {
             "outlinewidth": 0,
             "ticks": ""
            },
            "colorscale": [
             [
              0,
              "#0d0887"
             ],
             [
              0.1111111111111111,
              "#46039f"
             ],
             [
              0.2222222222222222,
              "#7201a8"
             ],
             [
              0.3333333333333333,
              "#9c179e"
             ],
             [
              0.4444444444444444,
              "#bd3786"
             ],
             [
              0.5555555555555556,
              "#d8576b"
             ],
             [
              0.6666666666666666,
              "#ed7953"
             ],
             [
              0.7777777777777778,
              "#fb9f3a"
             ],
             [
              0.8888888888888888,
              "#fdca26"
             ],
             [
              1,
              "#f0f921"
             ]
            ],
            "type": "contour"
           }
          ],
          "contourcarpet": [
           {
            "colorbar": {
             "outlinewidth": 0,
             "ticks": ""
            },
            "type": "contourcarpet"
           }
          ],
          "heatmap": [
           {
            "colorbar": {
             "outlinewidth": 0,
             "ticks": ""
            },
            "colorscale": [
             [
              0,
              "#0d0887"
             ],
             [
              0.1111111111111111,
              "#46039f"
             ],
             [
              0.2222222222222222,
              "#7201a8"
             ],
             [
              0.3333333333333333,
              "#9c179e"
             ],
             [
              0.4444444444444444,
              "#bd3786"
             ],
             [
              0.5555555555555556,
              "#d8576b"
             ],
             [
              0.6666666666666666,
              "#ed7953"
             ],
             [
              0.7777777777777778,
              "#fb9f3a"
             ],
             [
              0.8888888888888888,
              "#fdca26"
             ],
             [
              1,
              "#f0f921"
             ]
            ],
            "type": "heatmap"
           }
          ],
          "heatmapgl": [
           {
            "colorbar": {
             "outlinewidth": 0,
             "ticks": ""
            },
            "colorscale": [
             [
              0,
              "#0d0887"
             ],
             [
              0.1111111111111111,
              "#46039f"
             ],
             [
              0.2222222222222222,
              "#7201a8"
             ],
             [
              0.3333333333333333,
              "#9c179e"
             ],
             [
              0.4444444444444444,
              "#bd3786"
             ],
             [
              0.5555555555555556,
              "#d8576b"
             ],
             [
              0.6666666666666666,
              "#ed7953"
             ],
             [
              0.7777777777777778,
              "#fb9f3a"
             ],
             [
              0.8888888888888888,
              "#fdca26"
             ],
             [
              1,
              "#f0f921"
             ]
            ],
            "type": "heatmapgl"
           }
          ],
          "histogram": [
           {
            "marker": {
             "pattern": {
              "fillmode": "overlay",
              "size": 10,
              "solidity": 0.2
             }
            },
            "type": "histogram"
           }
          ],
          "histogram2d": [
           {
            "colorbar": {
             "outlinewidth": 0,
             "ticks": ""
            },
            "colorscale": [
             [
              0,
              "#0d0887"
             ],
             [
              0.1111111111111111,
              "#46039f"
             ],
             [
              0.2222222222222222,
              "#7201a8"
             ],
             [
              0.3333333333333333,
              "#9c179e"
             ],
             [
              0.4444444444444444,
              "#bd3786"
             ],
             [
              0.5555555555555556,
              "#d8576b"
             ],
             [
              0.6666666666666666,
              "#ed7953"
             ],
             [
              0.7777777777777778,
              "#fb9f3a"
             ],
             [
              0.8888888888888888,
              "#fdca26"
             ],
             [
              1,
              "#f0f921"
             ]
            ],
            "type": "histogram2d"
           }
          ],
          "histogram2dcontour": [
           {
            "colorbar": {
             "outlinewidth": 0,
             "ticks": ""
            },
            "colorscale": [
             [
              0,
              "#0d0887"
             ],
             [
              0.1111111111111111,
              "#46039f"
             ],
             [
              0.2222222222222222,
              "#7201a8"
             ],
             [
              0.3333333333333333,
              "#9c179e"
             ],
             [
              0.4444444444444444,
              "#bd3786"
             ],
             [
              0.5555555555555556,
              "#d8576b"
             ],
             [
              0.6666666666666666,
              "#ed7953"
             ],
             [
              0.7777777777777778,
              "#fb9f3a"
             ],
             [
              0.8888888888888888,
              "#fdca26"
             ],
             [
              1,
              "#f0f921"
             ]
            ],
            "type": "histogram2dcontour"
           }
          ],
          "mesh3d": [
           {
            "colorbar": {
             "outlinewidth": 0,
             "ticks": ""
            },
            "type": "mesh3d"
           }
          ],
          "parcoords": [
           {
            "line": {
             "colorbar": {
              "outlinewidth": 0,
              "ticks": ""
             }
            },
            "type": "parcoords"
           }
          ],
          "pie": [
           {
            "automargin": true,
            "type": "pie"
           }
          ],
          "scatter": [
           {
            "fillpattern": {
             "fillmode": "overlay",
             "size": 10,
             "solidity": 0.2
            },
            "type": "scatter"
           }
          ],
          "scatter3d": [
           {
            "line": {
             "colorbar": {
              "outlinewidth": 0,
              "ticks": ""
             }
            },
            "marker": {
             "colorbar": {
              "outlinewidth": 0,
              "ticks": ""
             }
            },
            "type": "scatter3d"
           }
          ],
          "scattercarpet": [
           {
            "marker": {
             "colorbar": {
              "outlinewidth": 0,
              "ticks": ""
             }
            },
            "type": "scattercarpet"
           }
          ],
          "scattergeo": [
           {
            "marker": {
             "colorbar": {
              "outlinewidth": 0,
              "ticks": ""
             }
            },
            "type": "scattergeo"
           }
          ],
          "scattergl": [
           {
            "marker": {
             "colorbar": {
              "outlinewidth": 0,
              "ticks": ""
             }
            },
            "type": "scattergl"
           }
          ],
          "scattermapbox": [
           {
            "marker": {
             "colorbar": {
              "outlinewidth": 0,
              "ticks": ""
             }
            },
            "type": "scattermapbox"
           }
          ],
          "scatterpolar": [
           {
            "marker": {
             "colorbar": {
              "outlinewidth": 0,
              "ticks": ""
             }
            },
            "type": "scatterpolar"
           }
          ],
          "scatterpolargl": [
           {
            "marker": {
             "colorbar": {
              "outlinewidth": 0,
              "ticks": ""
             }
            },
            "type": "scatterpolargl"
           }
          ],
          "scatterternary": [
           {
            "marker": {
             "colorbar": {
              "outlinewidth": 0,
              "ticks": ""
             }
            },
            "type": "scatterternary"
           }
          ],
          "surface": [
           {
            "colorbar": {
             "outlinewidth": 0,
             "ticks": ""
            },
            "colorscale": [
             [
              0,
              "#0d0887"
             ],
             [
              0.1111111111111111,
              "#46039f"
             ],
             [
              0.2222222222222222,
              "#7201a8"
             ],
             [
              0.3333333333333333,
              "#9c179e"
             ],
             [
              0.4444444444444444,
              "#bd3786"
             ],
             [
              0.5555555555555556,
              "#d8576b"
             ],
             [
              0.6666666666666666,
              "#ed7953"
             ],
             [
              0.7777777777777778,
              "#fb9f3a"
             ],
             [
              0.8888888888888888,
              "#fdca26"
             ],
             [
              1,
              "#f0f921"
             ]
            ],
            "type": "surface"
           }
          ],
          "table": [
           {
            "cells": {
             "fill": {
              "color": "#EBF0F8"
             },
             "line": {
              "color": "white"
             }
            },
            "header": {
             "fill": {
              "color": "#C8D4E3"
             },
             "line": {
              "color": "white"
             }
            },
            "type": "table"
           }
          ]
         },
         "layout": {
          "annotationdefaults": {
           "arrowcolor": "#2a3f5f",
           "arrowhead": 0,
           "arrowwidth": 1
          },
          "autotypenumbers": "strict",
          "coloraxis": {
           "colorbar": {
            "outlinewidth": 0,
            "ticks": ""
           }
          },
          "colorscale": {
           "diverging": [
            [
             0,
             "#8e0152"
            ],
            [
             0.1,
             "#c51b7d"
            ],
            [
             0.2,
             "#de77ae"
            ],
            [
             0.3,
             "#f1b6da"
            ],
            [
             0.4,
             "#fde0ef"
            ],
            [
             0.5,
             "#f7f7f7"
            ],
            [
             0.6,
             "#e6f5d0"
            ],
            [
             0.7,
             "#b8e186"
            ],
            [
             0.8,
             "#7fbc41"
            ],
            [
             0.9,
             "#4d9221"
            ],
            [
             1,
             "#276419"
            ]
           ],
           "sequential": [
            [
             0,
             "#0d0887"
            ],
            [
             0.1111111111111111,
             "#46039f"
            ],
            [
             0.2222222222222222,
             "#7201a8"
            ],
            [
             0.3333333333333333,
             "#9c179e"
            ],
            [
             0.4444444444444444,
             "#bd3786"
            ],
            [
             0.5555555555555556,
             "#d8576b"
            ],
            [
             0.6666666666666666,
             "#ed7953"
            ],
            [
             0.7777777777777778,
             "#fb9f3a"
            ],
            [
             0.8888888888888888,
             "#fdca26"
            ],
            [
             1,
             "#f0f921"
            ]
           ],
           "sequentialminus": [
            [
             0,
             "#0d0887"
            ],
            [
             0.1111111111111111,
             "#46039f"
            ],
            [
             0.2222222222222222,
             "#7201a8"
            ],
            [
             0.3333333333333333,
             "#9c179e"
            ],
            [
             0.4444444444444444,
             "#bd3786"
            ],
            [
             0.5555555555555556,
             "#d8576b"
            ],
            [
             0.6666666666666666,
             "#ed7953"
            ],
            [
             0.7777777777777778,
             "#fb9f3a"
            ],
            [
             0.8888888888888888,
             "#fdca26"
            ],
            [
             1,
             "#f0f921"
            ]
           ]
          },
          "colorway": [
           "#636efa",
           "#EF553B",
           "#00cc96",
           "#ab63fa",
           "#FFA15A",
           "#19d3f3",
           "#FF6692",
           "#B6E880",
           "#FF97FF",
           "#FECB52"
          ],
          "font": {
           "color": "#2a3f5f"
          },
          "geo": {
           "bgcolor": "white",
           "lakecolor": "white",
           "landcolor": "#E5ECF6",
           "showlakes": true,
           "showland": true,
           "subunitcolor": "white"
          },
          "hoverlabel": {
           "align": "left"
          },
          "hovermode": "closest",
          "mapbox": {
           "style": "light"
          },
          "paper_bgcolor": "white",
          "plot_bgcolor": "#E5ECF6",
          "polar": {
           "angularaxis": {
            "gridcolor": "white",
            "linecolor": "white",
            "ticks": ""
           },
           "bgcolor": "#E5ECF6",
           "radialaxis": {
            "gridcolor": "white",
            "linecolor": "white",
            "ticks": ""
           }
          },
          "scene": {
           "xaxis": {
            "backgroundcolor": "#E5ECF6",
            "gridcolor": "white",
            "gridwidth": 2,
            "linecolor": "white",
            "showbackground": true,
            "ticks": "",
            "zerolinecolor": "white"
           },
           "yaxis": {
            "backgroundcolor": "#E5ECF6",
            "gridcolor": "white",
            "gridwidth": 2,
            "linecolor": "white",
            "showbackground": true,
            "ticks": "",
            "zerolinecolor": "white"
           },
           "zaxis": {
            "backgroundcolor": "#E5ECF6",
            "gridcolor": "white",
            "gridwidth": 2,
            "linecolor": "white",
            "showbackground": true,
            "ticks": "",
            "zerolinecolor": "white"
           }
          },
          "shapedefaults": {
           "line": {
            "color": "#2a3f5f"
           }
          },
          "ternary": {
           "aaxis": {
            "gridcolor": "white",
            "linecolor": "white",
            "ticks": ""
           },
           "baxis": {
            "gridcolor": "white",
            "linecolor": "white",
            "ticks": ""
           },
           "bgcolor": "#E5ECF6",
           "caxis": {
            "gridcolor": "white",
            "linecolor": "white",
            "ticks": ""
           }
          },
          "title": {
           "x": 0.05
          },
          "xaxis": {
           "automargin": true,
           "gridcolor": "white",
           "linecolor": "white",
           "ticks": "",
           "title": {
            "standoff": 15
           },
           "zerolinecolor": "white",
           "zerolinewidth": 2
          },
          "yaxis": {
           "automargin": true,
           "gridcolor": "white",
           "linecolor": "white",
           "ticks": "",
           "title": {
            "standoff": 15
           },
           "zerolinecolor": "white",
           "zerolinewidth": 2
          }
         }
        },
        "title": {
         "text": "YUMCm, 16388"
        },
        "xaxis": {
         "anchor": "y",
         "domain": [
          0,
          1
         ],
         "title": {
          "text": "Date"
         }
        },
        "yaxis": {
         "anchor": "x",
         "domain": [
          0,
          1
         ],
         "title": {
          "text": "Equity"
         }
        }
       }
      }
     },
     "metadata": {},
     "output_type": "display_data"
    },
    {
     "name": "stdout",
     "output_type": "stream",
     "text": [
      "BEKEm 16388\n"
     ]
    },
    {
     "data": {
      "application/vnd.plotly.v1+json": {
       "config": {
        "plotlyServerURL": "https://plot.ly"
       },
       "data": [
        {
         "hovertemplate": "x=%{x}<br>y=%{y}<extra></extra>",
         "legendgroup": "",
         "line": {
          "color": "#636efa",
          "dash": "solid"
         },
         "marker": {
          "symbol": "circle"
         },
         "mode": "lines",
         "name": "",
         "orientation": "v",
         "showlegend": false,
         "textposition": "bottom right",
         "type": "scatter",
         "x": [
          "2023-03-08T12:00:00+00:00",
          "2023-03-08T16:00:00+00:00",
          "2023-03-08T20:00:00+00:00",
          "2023-03-09T12:00:00+00:00",
          "2023-03-09T16:00:00+00:00",
          "2023-03-09T20:00:00+00:00",
          "2023-03-10T12:00:00+00:00",
          "2023-03-10T16:00:00+00:00",
          "2023-03-10T20:00:00+00:00",
          "2023-03-13T08:00:00+00:00",
          "2023-03-13T12:00:00+00:00",
          "2023-03-13T16:00:00+00:00",
          "2023-03-14T12:00:00+00:00",
          "2023-03-14T16:00:00+00:00",
          "2023-03-15T08:00:00+00:00",
          "2023-03-15T12:00:00+00:00",
          "2023-03-15T16:00:00+00:00",
          "2023-03-16T08:00:00+00:00",
          "2023-03-16T12:00:00+00:00",
          "2023-03-16T16:00:00+00:00",
          "2023-03-17T08:00:00+00:00",
          "2023-03-17T12:00:00+00:00",
          "2023-03-17T16:00:00+00:00",
          "2023-03-20T08:00:00+00:00",
          "2023-03-20T12:00:00+00:00",
          "2023-03-20T16:00:00+00:00",
          "2023-03-21T12:00:00+00:00",
          "2023-03-21T16:00:00+00:00",
          "2023-03-22T12:00:00+00:00",
          "2023-03-22T16:00:00+00:00",
          "2023-03-23T08:00:00+00:00",
          "2023-03-23T12:00:00+00:00",
          "2023-03-23T16:00:00+00:00",
          "2023-03-24T12:00:00+00:00",
          "2023-03-24T16:00:00+00:00",
          "2023-03-27T12:00:00+00:00",
          "2023-03-27T16:00:00+00:00",
          "2023-03-28T08:00:00+00:00",
          "2023-03-28T12:00:00+00:00",
          "2023-03-28T16:00:00+00:00",
          "2023-03-29T12:00:00+00:00",
          "2023-03-29T16:00:00+00:00",
          "2023-03-30T12:00:00+00:00",
          "2023-03-30T16:00:00+00:00",
          "2023-03-31T12:00:00+00:00",
          "2023-03-31T16:00:00+00:00",
          "2023-04-03T12:00:00+00:00",
          "2023-04-03T16:00:00+00:00",
          "2023-04-04T12:00:00+00:00",
          "2023-04-04T16:00:00+00:00",
          "2023-04-05T12:00:00+00:00",
          "2023-04-05T16:00:00+00:00",
          "2023-04-06T12:00:00+00:00",
          "2023-04-06T16:00:00+00:00",
          "2023-04-10T12:00:00+00:00",
          "2023-04-10T16:00:00+00:00",
          "2023-04-11T12:00:00+00:00",
          "2023-04-11T16:00:00+00:00",
          "2023-04-12T08:00:00+00:00",
          "2023-04-12T12:00:00+00:00",
          "2023-04-12T16:00:00+00:00",
          "2023-04-13T12:00:00+00:00",
          "2023-04-13T16:00:00+00:00",
          "2023-04-14T12:00:00+00:00",
          "2023-04-14T16:00:00+00:00",
          "2023-04-17T12:00:00+00:00",
          "2023-04-17T16:00:00+00:00",
          "2023-04-18T12:00:00+00:00",
          "2023-04-18T16:00:00+00:00",
          "2023-04-19T12:00:00+00:00",
          "2023-04-19T16:00:00+00:00",
          "2023-04-20T08:00:00+00:00",
          "2023-04-20T12:00:00+00:00",
          "2023-04-20T16:00:00+00:00",
          "2023-04-21T12:00:00+00:00",
          "2023-04-21T16:00:00+00:00",
          "2023-04-24T12:00:00+00:00",
          "2023-04-24T16:00:00+00:00",
          "2023-04-25T12:00:00+00:00",
          "2023-04-25T16:00:00+00:00",
          "2023-04-26T12:00:00+00:00",
          "2023-04-26T16:00:00+00:00",
          "2023-04-27T12:00:00+00:00",
          "2023-04-27T16:00:00+00:00",
          "2023-04-28T12:00:00+00:00",
          "2023-04-28T16:00:00+00:00",
          "2023-05-01T12:00:00+00:00",
          "2023-05-01T16:00:00+00:00",
          "2023-05-02T12:00:00+00:00",
          "2023-05-02T16:00:00+00:00",
          "2023-05-03T12:00:00+00:00",
          "2023-05-03T16:00:00+00:00",
          "2023-05-04T12:00:00+00:00",
          "2023-05-04T16:00:00+00:00",
          "2023-05-05T12:00:00+00:00",
          "2023-05-05T16:00:00+00:00",
          "2023-05-08T08:00:00+00:00",
          "2023-05-08T12:00:00+00:00",
          "2023-05-08T16:00:00+00:00",
          "2023-05-09T12:00:00+00:00",
          "2023-05-09T16:00:00+00:00",
          "2023-05-10T12:00:00+00:00",
          "2023-05-10T16:00:00+00:00",
          "2023-05-11T12:00:00+00:00",
          "2023-05-11T16:00:00+00:00",
          "2023-05-12T12:00:00+00:00",
          "2023-05-12T16:00:00+00:00",
          "2023-05-15T12:00:00+00:00",
          "2023-05-15T16:00:00+00:00",
          "2023-05-16T12:00:00+00:00",
          "2023-05-16T16:00:00+00:00",
          "2023-05-17T12:00:00+00:00",
          "2023-05-17T16:00:00+00:00",
          "2023-05-18T08:00:00+00:00",
          "2023-05-18T12:00:00+00:00",
          "2023-05-18T16:00:00+00:00",
          "2023-05-19T12:00:00+00:00",
          "2023-05-19T16:00:00+00:00",
          "2023-05-22T12:00:00+00:00",
          "2023-05-22T16:00:00+00:00",
          "2023-05-23T12:00:00+00:00",
          "2023-05-23T16:00:00+00:00",
          "2023-05-24T12:00:00+00:00",
          "2023-05-24T16:00:00+00:00",
          "2023-05-25T12:00:00+00:00",
          "2023-05-25T16:00:00+00:00",
          "2023-05-26T12:00:00+00:00",
          "2023-05-26T16:00:00+00:00",
          "2023-05-30T12:00:00+00:00",
          "2023-05-30T16:00:00+00:00",
          "2023-05-31T12:00:00+00:00",
          "2023-05-31T16:00:00+00:00",
          "2023-06-01T12:00:00+00:00",
          "2023-06-01T16:00:00+00:00",
          "2023-06-02T08:00:00+00:00",
          "2023-06-02T12:00:00+00:00",
          "2023-06-02T16:00:00+00:00",
          "2023-06-05T08:00:00+00:00",
          "2023-06-05T12:00:00+00:00",
          "2023-06-05T16:00:00+00:00",
          "2023-06-06T12:00:00+00:00",
          "2023-06-06T16:00:00+00:00",
          "2023-06-07T12:00:00+00:00",
          "2023-06-07T16:00:00+00:00",
          "2023-06-08T12:00:00+00:00",
          "2023-06-08T16:00:00+00:00",
          "2023-06-09T12:00:00+00:00",
          "2023-06-09T16:00:00+00:00",
          "2023-06-12T12:00:00+00:00",
          "2023-06-12T16:00:00+00:00",
          "2023-06-13T12:00:00+00:00",
          "2023-06-13T16:00:00+00:00",
          "2023-06-14T12:00:00+00:00",
          "2023-06-14T16:00:00+00:00",
          "2023-06-15T08:00:00+00:00",
          "2023-06-15T12:00:00+00:00",
          "2023-06-15T16:00:00+00:00",
          "2023-06-16T12:00:00+00:00",
          "2023-06-16T16:00:00+00:00",
          "2023-06-20T12:00:00+00:00",
          "2023-06-20T16:00:00+00:00",
          "2023-06-21T12:00:00+00:00",
          "2023-06-21T16:00:00+00:00",
          "2023-06-22T12:00:00+00:00",
          "2023-06-22T16:00:00+00:00",
          "2023-06-23T12:00:00+00:00",
          "2023-06-23T16:00:00+00:00",
          "2023-06-26T08:00:00+00:00",
          "2023-06-26T12:00:00+00:00",
          "2023-06-26T16:00:00+00:00",
          "2023-06-27T12:00:00+00:00",
          "2023-06-27T16:00:00+00:00",
          "2023-06-28T12:00:00+00:00",
          "2023-06-28T16:00:00+00:00",
          "2023-06-29T08:00:00+00:00",
          "2023-06-29T12:00:00+00:00",
          "2023-06-29T16:00:00+00:00",
          "2023-06-30T12:00:00+00:00",
          "2023-06-30T16:00:00+00:00",
          "2023-07-03T12:00:00+00:00",
          "2023-07-03T16:00:00+00:00",
          "2023-07-05T08:00:00+00:00",
          "2023-07-05T12:00:00+00:00",
          "2023-07-05T16:00:00+00:00",
          "2023-07-06T12:00:00+00:00",
          "2023-07-06T16:00:00+00:00",
          "2023-07-07T12:00:00+00:00",
          "2023-07-07T16:00:00+00:00",
          "2023-07-10T12:00:00+00:00",
          "2023-07-10T16:00:00+00:00",
          "2023-07-11T12:00:00+00:00",
          "2023-07-11T16:00:00+00:00",
          "2023-07-12T08:00:00+00:00",
          "2023-07-12T12:00:00+00:00",
          "2023-07-12T16:00:00+00:00",
          "2023-07-13T08:00:00+00:00",
          "2023-07-13T12:00:00+00:00",
          "2023-07-13T16:00:00+00:00",
          "2023-07-14T12:00:00+00:00",
          "2023-07-14T16:00:00+00:00",
          "2023-07-17T12:00:00+00:00",
          "2023-07-17T16:00:00+00:00",
          "2023-07-18T12:00:00+00:00",
          "2023-07-18T16:00:00+00:00",
          "2023-07-19T08:00:00+00:00",
          "2023-07-19T12:00:00+00:00",
          "2023-07-19T16:00:00+00:00",
          "2023-07-20T12:00:00+00:00",
          "2023-07-20T16:00:00+00:00",
          "2023-07-21T08:00:00+00:00",
          "2023-07-21T12:00:00+00:00",
          "2023-07-21T16:00:00+00:00",
          "2023-07-24T08:00:00+00:00",
          "2023-07-24T12:00:00+00:00",
          "2023-07-24T16:00:00+00:00",
          "2023-07-25T08:00:00+00:00",
          "2023-07-25T12:00:00+00:00",
          "2023-07-25T16:00:00+00:00",
          "2023-07-26T08:00:00+00:00",
          "2023-07-26T12:00:00+00:00",
          "2023-07-26T16:00:00+00:00",
          "2023-07-27T08:00:00+00:00",
          "2023-07-27T12:00:00+00:00",
          "2023-07-27T16:00:00+00:00",
          "2023-07-28T08:00:00+00:00",
          "2023-07-28T12:00:00+00:00",
          "2023-07-28T16:00:00+00:00",
          "2023-07-31T08:00:00+00:00",
          "2023-07-31T12:00:00+00:00",
          "2023-07-31T16:00:00+00:00",
          "2023-08-01T08:00:00+00:00",
          "2023-08-01T12:00:00+00:00",
          "2023-08-01T16:00:00+00:00",
          "2023-08-02T08:00:00+00:00",
          "2023-08-02T12:00:00+00:00",
          "2023-08-02T16:00:00+00:00",
          "2023-08-03T08:00:00+00:00",
          "2023-08-03T12:00:00+00:00",
          "2023-08-03T16:00:00+00:00",
          "2023-08-04T08:00:00+00:00",
          "2023-08-04T12:00:00+00:00",
          "2023-08-04T16:00:00+00:00",
          "2023-08-07T08:00:00+00:00",
          "2023-08-07T12:00:00+00:00",
          "2023-08-07T16:00:00+00:00",
          "2023-08-08T08:00:00+00:00",
          "2023-08-08T12:00:00+00:00",
          "2023-08-08T16:00:00+00:00",
          "2023-08-09T12:00:00+00:00",
          "2023-08-09T16:00:00+00:00",
          "2023-08-10T08:00:00+00:00",
          "2023-08-10T12:00:00+00:00",
          "2023-08-10T16:00:00+00:00",
          "2023-08-11T08:00:00+00:00",
          "2023-08-11T12:00:00+00:00",
          "2023-08-11T16:00:00+00:00",
          "2023-08-14T08:00:00+00:00",
          "2023-08-14T12:00:00+00:00",
          "2023-08-14T16:00:00+00:00",
          "2023-08-15T12:00:00+00:00",
          "2023-08-15T16:00:00+00:00",
          "2023-08-16T08:00:00+00:00",
          "2023-08-16T12:00:00+00:00",
          "2023-08-16T16:00:00+00:00",
          "2023-08-17T08:00:00+00:00",
          "2023-08-17T12:00:00+00:00",
          "2023-08-17T16:00:00+00:00",
          "2023-08-18T08:00:00+00:00",
          "2023-08-18T12:00:00+00:00",
          "2023-08-18T16:00:00+00:00",
          "2023-08-21T12:00:00+00:00",
          "2023-08-21T16:00:00+00:00",
          "2023-08-22T08:00:00+00:00",
          "2023-08-22T12:00:00+00:00",
          "2023-08-22T16:00:00+00:00",
          "2023-08-23T12:00:00+00:00",
          "2023-08-23T16:00:00+00:00",
          "2023-08-24T12:00:00+00:00",
          "2023-08-24T16:00:00+00:00",
          "2023-08-25T08:00:00+00:00",
          "2023-08-25T12:00:00+00:00",
          "2023-08-25T16:00:00+00:00",
          "2023-08-28T12:00:00+00:00",
          "2023-08-28T16:00:00+00:00",
          "2023-08-29T08:00:00+00:00",
          "2023-08-29T12:00:00+00:00",
          "2023-08-29T16:00:00+00:00",
          "2023-08-30T08:00:00+00:00",
          "2023-08-30T12:00:00+00:00",
          "2023-08-30T16:00:00+00:00",
          "2023-08-31T08:00:00+00:00",
          "2023-08-31T12:00:00+00:00",
          "2023-08-31T16:00:00+00:00",
          "2023-09-01T08:00:00+00:00",
          "2023-09-01T12:00:00+00:00",
          "2023-09-01T16:00:00+00:00",
          "2023-09-05T08:00:00+00:00",
          "2023-09-05T12:00:00+00:00",
          "2023-09-05T16:00:00+00:00",
          "2023-09-06T08:00:00+00:00",
          "2023-09-06T12:00:00+00:00",
          "2023-09-06T16:00:00+00:00",
          "2023-09-07T08:00:00+00:00",
          "2023-09-07T12:00:00+00:00",
          "2023-09-07T16:00:00+00:00",
          "2023-09-08T08:00:00+00:00",
          "2023-09-08T12:00:00+00:00",
          "2023-09-08T16:00:00+00:00",
          "2023-09-11T08:00:00+00:00",
          "2023-09-11T12:00:00+00:00",
          "2023-09-11T16:00:00+00:00",
          "2023-09-12T12:00:00+00:00",
          "2023-09-12T16:00:00+00:00",
          "2023-09-13T12:00:00+00:00",
          "2023-09-13T16:00:00+00:00",
          "2023-09-14T08:00:00+00:00",
          "2023-09-14T12:00:00+00:00",
          "2023-09-14T16:00:00+00:00",
          "2023-09-15T12:00:00+00:00",
          "2023-09-15T16:00:00+00:00",
          "2023-09-18T08:00:00+00:00",
          "2023-09-18T12:00:00+00:00",
          "2023-09-18T16:00:00+00:00",
          "2023-09-19T12:00:00+00:00",
          "2023-09-19T16:00:00+00:00",
          "2023-09-20T08:00:00+00:00",
          "2023-09-20T12:00:00+00:00",
          "2023-09-20T16:00:00+00:00",
          "2023-09-21T08:00:00+00:00",
          "2023-09-21T12:00:00+00:00",
          "2023-09-21T16:00:00+00:00",
          "2023-09-22T08:00:00+00:00",
          "2023-09-22T12:00:00+00:00",
          "2023-09-22T16:00:00+00:00",
          "2023-09-25T08:00:00+00:00",
          "2023-09-25T12:00:00+00:00",
          "2023-09-25T16:00:00+00:00",
          "2023-09-26T08:00:00+00:00",
          "2023-09-26T12:00:00+00:00",
          "2023-09-26T16:00:00+00:00",
          "2023-09-27T08:00:00+00:00",
          "2023-09-27T12:00:00+00:00",
          "2023-09-27T16:00:00+00:00",
          "2023-09-28T12:00:00+00:00",
          "2023-09-28T16:00:00+00:00",
          "2023-09-29T12:00:00+00:00",
          "2023-09-29T16:00:00+00:00",
          "2023-10-02T12:00:00+00:00",
          "2023-10-02T16:00:00+00:00",
          "2023-10-03T12:00:00+00:00",
          "2023-10-03T16:00:00+00:00",
          "2023-10-04T12:00:00+00:00",
          "2023-10-04T16:00:00+00:00",
          "2023-10-05T12:00:00+00:00",
          "2023-10-05T16:00:00+00:00",
          "2023-10-06T12:00:00+00:00",
          "2023-10-06T16:00:00+00:00",
          "2023-10-09T12:00:00+00:00",
          "2023-10-09T16:00:00+00:00",
          "2023-10-10T12:00:00+00:00",
          "2023-10-10T16:00:00+00:00",
          "2023-10-11T12:00:00+00:00",
          "2023-10-11T16:00:00+00:00",
          "2023-10-12T12:00:00+00:00",
          "2023-10-12T16:00:00+00:00",
          "2023-10-13T12:00:00+00:00",
          "2023-10-13T16:00:00+00:00",
          "2023-10-16T12:00:00+00:00",
          "2023-10-16T16:00:00+00:00",
          "2023-10-17T12:00:00+00:00",
          "2023-10-17T16:00:00+00:00",
          "2023-10-18T12:00:00+00:00",
          "2023-10-18T16:00:00+00:00",
          "2023-10-19T12:00:00+00:00",
          "2023-10-19T16:00:00+00:00",
          "2023-10-20T12:00:00+00:00",
          "2023-10-20T16:00:00+00:00",
          "2023-10-23T12:00:00+00:00",
          "2023-10-23T16:00:00+00:00",
          "2023-10-24T12:00:00+00:00",
          "2023-10-24T16:00:00+00:00",
          "2023-10-25T12:00:00+00:00",
          "2023-10-25T16:00:00+00:00",
          "2023-10-26T12:00:00+00:00",
          "2023-10-26T16:00:00+00:00",
          "2023-10-27T12:00:00+00:00",
          "2023-10-27T16:00:00+00:00",
          "2023-10-30T12:00:00+00:00",
          "2023-10-30T16:00:00+00:00",
          "2023-10-31T08:00:00+00:00",
          "2023-10-31T12:00:00+00:00",
          "2023-10-31T16:00:00+00:00",
          "2023-11-01T12:00:00+00:00",
          "2023-11-01T16:00:00+00:00",
          "2023-11-02T12:00:00+00:00",
          "2023-11-02T16:00:00+00:00",
          "2023-11-03T12:00:00+00:00",
          "2023-11-03T16:00:00+00:00",
          "2023-11-06T12:00:00+00:00",
          "2023-11-06T16:00:00+00:00",
          "2023-11-06T20:00:00+00:00",
          "2023-11-07T12:00:00+00:00",
          "2023-11-07T16:00:00+00:00",
          "2023-11-07T20:00:00+00:00",
          "2023-11-08T08:00:00+00:00",
          "2023-11-08T12:00:00+00:00",
          "2023-11-08T16:00:00+00:00",
          "2023-11-08T20:00:00+00:00",
          "2023-11-09T12:00:00+00:00",
          "2023-11-09T16:00:00+00:00",
          "2023-11-09T20:00:00+00:00",
          "2023-11-10T12:00:00+00:00",
          "2023-11-10T16:00:00+00:00",
          "2023-11-10T20:00:00+00:00",
          "2023-11-13T12:00:00+00:00",
          "2023-11-13T16:00:00+00:00",
          "2023-11-13T20:00:00+00:00",
          "2023-11-14T08:00:00+00:00",
          "2023-11-14T12:00:00+00:00",
          "2023-11-14T16:00:00+00:00",
          "2023-11-14T20:00:00+00:00",
          "2023-11-15T12:00:00+00:00",
          "2023-11-15T16:00:00+00:00",
          "2023-11-15T20:00:00+00:00",
          "2023-11-16T12:00:00+00:00",
          "2023-11-16T16:00:00+00:00",
          "2023-11-16T20:00:00+00:00",
          "2023-11-17T12:00:00+00:00",
          "2023-11-17T16:00:00+00:00",
          "2023-11-17T20:00:00+00:00",
          "2023-11-20T12:00:00+00:00",
          "2023-11-20T16:00:00+00:00",
          "2023-11-20T20:00:00+00:00",
          "2023-11-21T12:00:00+00:00",
          "2023-11-21T16:00:00+00:00",
          "2023-11-21T20:00:00+00:00",
          "2023-11-22T08:00:00+00:00",
          "2023-11-22T12:00:00+00:00",
          "2023-11-22T16:00:00+00:00",
          "2023-11-22T20:00:00+00:00",
          "2023-11-24T12:00:00+00:00",
          "2023-11-24T16:00:00+00:00",
          "2023-11-27T12:00:00+00:00",
          "2023-11-27T16:00:00+00:00",
          "2023-11-27T20:00:00+00:00",
          "2023-11-28T12:00:00+00:00",
          "2023-11-28T16:00:00+00:00",
          "2023-11-28T20:00:00+00:00",
          "2023-11-29T12:00:00+00:00",
          "2023-11-29T16:00:00+00:00",
          "2023-11-29T20:00:00+00:00",
          "2023-11-30T12:00:00+00:00",
          "2023-11-30T16:00:00+00:00",
          "2023-11-30T20:00:00+00:00",
          "2023-12-01T12:00:00+00:00",
          "2023-12-01T16:00:00+00:00",
          "2023-12-01T20:00:00+00:00",
          "2023-12-04T12:00:00+00:00",
          "2023-12-04T16:00:00+00:00",
          "2023-12-04T20:00:00+00:00",
          "2023-12-05T12:00:00+00:00",
          "2023-12-05T16:00:00+00:00",
          "2023-12-05T20:00:00+00:00",
          "2023-12-06T12:00:00+00:00",
          "2023-12-06T16:00:00+00:00",
          "2023-12-06T20:00:00+00:00",
          "2023-12-07T12:00:00+00:00",
          "2023-12-07T16:00:00+00:00",
          "2023-12-07T20:00:00+00:00",
          "2023-12-08T12:00:00+00:00",
          "2023-12-08T16:00:00+00:00",
          "2023-12-08T20:00:00+00:00",
          "2023-12-11T12:00:00+00:00",
          "2023-12-11T16:00:00+00:00",
          "2023-12-11T20:00:00+00:00",
          "2023-12-12T12:00:00+00:00",
          "2023-12-12T16:00:00+00:00",
          "2023-12-12T20:00:00+00:00",
          "2023-12-13T12:00:00+00:00",
          "2023-12-13T16:00:00+00:00",
          "2023-12-13T20:00:00+00:00",
          "2023-12-14T08:00:00+00:00",
          "2023-12-14T12:00:00+00:00",
          "2023-12-14T16:00:00+00:00",
          "2023-12-14T20:00:00+00:00",
          "2023-12-15T12:00:00+00:00",
          "2023-12-15T16:00:00+00:00",
          "2023-12-15T20:00:00+00:00",
          "2023-12-18T12:00:00+00:00",
          "2023-12-18T16:00:00+00:00",
          "2023-12-18T20:00:00+00:00",
          "2023-12-19T12:00:00+00:00",
          "2023-12-19T16:00:00+00:00",
          "2023-12-19T20:00:00+00:00",
          "2023-12-20T12:00:00+00:00",
          "2023-12-20T16:00:00+00:00",
          "2023-12-20T20:00:00+00:00",
          "2023-12-21T12:00:00+00:00",
          "2023-12-21T16:00:00+00:00",
          "2023-12-21T20:00:00+00:00",
          "2023-12-22T12:00:00+00:00",
          "2023-12-22T16:00:00+00:00",
          "2023-12-22T20:00:00+00:00",
          "2023-12-26T12:00:00+00:00",
          "2023-12-26T16:00:00+00:00",
          "2023-12-26T20:00:00+00:00",
          "2023-12-27T12:00:00+00:00",
          "2023-12-27T16:00:00+00:00",
          "2023-12-27T20:00:00+00:00",
          "2023-12-28T12:00:00+00:00",
          "2023-12-28T16:00:00+00:00",
          "2023-12-28T20:00:00+00:00",
          "2023-12-29T12:00:00+00:00",
          "2023-12-29T16:00:00+00:00",
          "2023-12-29T20:00:00+00:00",
          "2024-01-02T12:00:00+00:00",
          "2024-01-02T16:00:00+00:00",
          "2024-01-02T20:00:00+00:00",
          "2024-01-03T12:00:00+00:00",
          "2024-01-03T16:00:00+00:00",
          "2024-01-03T20:00:00+00:00",
          "2024-01-04T12:00:00+00:00",
          "2024-01-04T16:00:00+00:00",
          "2024-01-04T20:00:00+00:00",
          "2024-01-05T12:00:00+00:00",
          "2024-01-05T16:00:00+00:00",
          "2024-01-05T20:00:00+00:00",
          "2024-01-08T12:00:00+00:00",
          "2024-01-08T16:00:00+00:00",
          "2024-01-08T20:00:00+00:00",
          "2024-01-09T12:00:00+00:00",
          "2024-01-09T16:00:00+00:00",
          "2024-01-09T20:00:00+00:00",
          "2024-01-10T12:00:00+00:00",
          "2024-01-10T16:00:00+00:00",
          "2024-01-10T20:00:00+00:00",
          "2024-01-11T12:00:00+00:00",
          "2024-01-11T16:00:00+00:00",
          "2024-01-11T20:00:00+00:00",
          "2024-01-12T12:00:00+00:00",
          "2024-01-12T16:00:00+00:00",
          "2024-01-12T20:00:00+00:00",
          "2024-01-16T12:00:00+00:00",
          "2024-01-16T16:00:00+00:00",
          "2024-01-16T20:00:00+00:00",
          "2024-01-17T12:00:00+00:00",
          "2024-01-17T16:00:00+00:00",
          "2024-01-17T20:00:00+00:00",
          "2024-01-18T12:00:00+00:00",
          "2024-01-18T16:00:00+00:00",
          "2024-01-18T20:00:00+00:00",
          "2024-01-19T12:00:00+00:00",
          "2024-01-19T16:00:00+00:00",
          "2024-01-19T20:00:00+00:00",
          "2024-01-22T08:00:00+00:00",
          "2024-01-22T12:00:00+00:00",
          "2024-01-22T16:00:00+00:00",
          "2024-01-22T20:00:00+00:00",
          "2024-01-23T12:00:00+00:00",
          "2024-01-23T16:00:00+00:00",
          "2024-01-23T20:00:00+00:00",
          "2024-01-24T12:00:00+00:00",
          "2024-01-24T16:00:00+00:00",
          "2024-01-24T20:00:00+00:00",
          "2024-01-25T12:00:00+00:00",
          "2024-01-25T16:00:00+00:00",
          "2024-01-25T20:00:00+00:00",
          "2024-01-26T12:00:00+00:00",
          "2024-01-26T16:00:00+00:00",
          "2024-01-26T20:00:00+00:00",
          "2024-01-29T12:00:00+00:00",
          "2024-01-29T16:00:00+00:00",
          "2024-01-29T20:00:00+00:00",
          "2024-01-30T12:00:00+00:00",
          "2024-01-30T16:00:00+00:00",
          "2024-01-30T20:00:00+00:00",
          "2024-01-31T12:00:00+00:00",
          "2024-01-31T16:00:00+00:00",
          "2024-01-31T20:00:00+00:00",
          "2024-02-01T12:00:00+00:00",
          "2024-02-01T16:00:00+00:00",
          "2024-02-01T20:00:00+00:00",
          "2024-02-02T12:00:00+00:00",
          "2024-02-02T16:00:00+00:00",
          "2024-02-02T20:00:00+00:00",
          "2024-02-05T08:00:00+00:00",
          "2024-02-05T12:00:00+00:00",
          "2024-02-05T16:00:00+00:00",
          "2024-02-05T20:00:00+00:00",
          "2024-02-06T12:00:00+00:00",
          "2024-02-06T16:00:00+00:00",
          "2024-02-06T20:00:00+00:00",
          "2024-02-07T08:00:00+00:00",
          "2024-02-07T12:00:00+00:00",
          "2024-02-07T16:00:00+00:00",
          "2024-02-07T20:00:00+00:00",
          "2024-02-08T12:00:00+00:00",
          "2024-02-08T16:00:00+00:00",
          "2024-02-08T20:00:00+00:00",
          "2024-02-09T12:00:00+00:00",
          "2024-02-09T16:00:00+00:00",
          "2024-02-09T20:00:00+00:00",
          "2024-02-12T12:00:00+00:00",
          "2024-02-12T16:00:00+00:00",
          "2024-02-12T20:00:00+00:00",
          "2024-02-13T12:00:00+00:00",
          "2024-02-13T16:00:00+00:00",
          "2024-02-13T20:00:00+00:00",
          "2024-02-14T12:00:00+00:00",
          "2024-02-14T16:00:00+00:00",
          "2024-02-14T20:00:00+00:00",
          "2024-02-15T12:00:00+00:00",
          "2024-02-15T16:00:00+00:00",
          "2024-02-15T20:00:00+00:00",
          "2024-02-16T12:00:00+00:00",
          "2024-02-16T16:00:00+00:00",
          "2024-02-16T20:00:00+00:00",
          "2024-02-20T12:00:00+00:00",
          "2024-02-20T16:00:00+00:00",
          "2024-02-20T20:00:00+00:00",
          "2024-02-21T12:00:00+00:00",
          "2024-02-21T16:00:00+00:00",
          "2024-02-21T20:00:00+00:00",
          "2024-02-22T12:00:00+00:00",
          "2024-02-22T16:00:00+00:00",
          "2024-02-22T20:00:00+00:00",
          "2024-02-23T12:00:00+00:00",
          "2024-02-23T16:00:00+00:00",
          "2024-02-23T20:00:00+00:00",
          "2024-02-26T12:00:00+00:00",
          "2024-02-26T16:00:00+00:00",
          "2024-02-26T20:00:00+00:00",
          "2024-02-27T12:00:00+00:00",
          "2024-02-27T16:00:00+00:00",
          "2024-02-27T20:00:00+00:00",
          "2024-02-28T12:00:00+00:00",
          "2024-02-28T16:00:00+00:00",
          "2024-02-28T20:00:00+00:00",
          "2024-02-29T12:00:00+00:00",
          "2024-02-29T16:00:00+00:00",
          "2024-02-29T20:00:00+00:00",
          "2024-03-01T12:00:00+00:00",
          "2024-03-01T16:00:00+00:00",
          "2024-03-01T20:00:00+00:00",
          "2024-03-04T12:00:00+00:00",
          "2024-03-04T16:00:00+00:00",
          "2024-03-04T20:00:00+00:00",
          "2024-03-05T12:00:00+00:00",
          "2024-03-05T16:00:00+00:00",
          "2024-03-05T20:00:00+00:00",
          "2024-03-06T12:00:00+00:00",
          "2024-03-06T16:00:00+00:00",
          "2024-03-06T20:00:00+00:00",
          "2024-03-07T12:00:00+00:00",
          "2024-03-07T16:00:00+00:00",
          "2024-03-07T20:00:00+00:00",
          "2024-03-08T12:00:00+00:00",
          "2024-03-08T16:00:00+00:00",
          "2024-03-08T20:00:00+00:00",
          "2024-03-11T12:00:00+00:00",
          "2024-03-11T16:00:00+00:00",
          "2024-03-12T08:00:00+00:00",
          "2024-03-12T12:00:00+00:00",
          "2024-03-12T16:00:00+00:00",
          "2024-03-13T08:00:00+00:00",
          "2024-03-13T12:00:00+00:00",
          "2024-03-13T16:00:00+00:00",
          "2024-03-14T08:00:00+00:00",
          "2024-03-14T12:00:00+00:00",
          "2024-03-14T16:00:00+00:00",
          "2024-03-15T08:00:00+00:00",
          "2024-03-15T12:00:00+00:00",
          "2024-03-15T16:00:00+00:00",
          "2024-03-18T12:00:00+00:00",
          "2024-03-18T16:00:00+00:00",
          "2024-03-19T08:00:00+00:00",
          "2024-03-19T12:00:00+00:00",
          "2024-03-19T16:00:00+00:00",
          "2024-03-20T12:00:00+00:00",
          "2024-03-20T16:00:00+00:00",
          "2024-03-21T12:00:00+00:00",
          "2024-03-21T16:00:00+00:00",
          "2024-03-22T08:00:00+00:00",
          "2024-03-22T12:00:00+00:00",
          "2024-03-22T16:00:00+00:00",
          "2024-03-25T12:00:00+00:00",
          "2024-03-25T16:00:00+00:00",
          "2024-03-26T12:00:00+00:00",
          "2024-03-26T16:00:00+00:00",
          "2024-03-27T12:00:00+00:00",
          "2024-03-27T16:00:00+00:00",
          "2024-03-28T12:00:00+00:00",
          "2024-03-28T16:00:00+00:00",
          "2024-04-01T12:00:00+00:00",
          "2024-04-01T16:00:00+00:00",
          "2024-04-02T08:00:00+00:00",
          "2024-04-02T12:00:00+00:00",
          "2024-04-02T16:00:00+00:00",
          "2024-04-03T08:00:00+00:00",
          "2024-04-03T12:00:00+00:00",
          "2024-04-03T16:00:00+00:00",
          "2024-04-04T08:00:00+00:00",
          "2024-04-04T12:00:00+00:00",
          "2024-04-04T16:00:00+00:00",
          "2024-04-05T12:00:00+00:00",
          "2024-04-05T16:00:00+00:00",
          "2024-04-08T12:00:00+00:00",
          "2024-04-08T16:00:00+00:00",
          "2024-04-09T12:00:00+00:00",
          "2024-04-09T16:00:00+00:00",
          "2024-04-10T08:00:00+00:00",
          "2024-04-10T12:00:00+00:00",
          "2024-04-10T16:00:00+00:00",
          "2024-04-11T12:00:00+00:00",
          "2024-04-11T16:00:00+00:00",
          "2024-04-12T12:00:00+00:00",
          "2024-04-12T16:00:00+00:00",
          "2024-04-15T08:00:00+00:00",
          "2024-04-15T12:00:00+00:00",
          "2024-04-15T16:00:00+00:00",
          "2024-04-16T12:00:00+00:00",
          "2024-04-16T16:00:00+00:00",
          "2024-04-17T12:00:00+00:00",
          "2024-04-17T16:00:00+00:00",
          "2024-04-18T12:00:00+00:00",
          "2024-04-18T16:00:00+00:00",
          "2024-04-19T12:00:00+00:00",
          "2024-04-19T16:00:00+00:00",
          "2024-04-22T12:00:00+00:00",
          "2024-04-22T16:00:00+00:00",
          "2024-04-23T12:00:00+00:00",
          "2024-04-23T16:00:00+00:00",
          "2024-04-24T12:00:00+00:00",
          "2024-04-24T16:00:00+00:00",
          "2024-04-25T12:00:00+00:00",
          "2024-04-25T16:00:00+00:00",
          "2024-04-26T12:00:00+00:00",
          "2024-04-26T16:00:00+00:00",
          "2024-04-29T08:00:00+00:00",
          "2024-04-29T12:00:00+00:00",
          "2024-04-29T16:00:00+00:00",
          "2024-04-30T12:00:00+00:00",
          "2024-04-30T16:00:00+00:00",
          "2024-05-01T12:00:00+00:00",
          "2024-05-01T16:00:00+00:00",
          "2024-05-02T12:00:00+00:00",
          "2024-05-02T16:00:00+00:00",
          "2024-05-03T08:00:00+00:00",
          "2024-05-03T12:00:00+00:00",
          "2024-05-03T16:00:00+00:00",
          "2024-05-06T08:00:00+00:00",
          "2024-05-06T12:00:00+00:00",
          "2024-05-06T16:00:00+00:00",
          "2024-05-07T08:00:00+00:00",
          "2024-05-07T12:00:00+00:00",
          "2024-05-07T16:00:00+00:00",
          "2024-05-08T12:00:00+00:00",
          "2024-05-08T16:00:00+00:00",
          "2024-05-09T08:00:00+00:00",
          "2024-05-09T12:00:00+00:00",
          "2024-05-09T16:00:00+00:00",
          "2024-05-10T08:00:00+00:00",
          "2024-05-10T12:00:00+00:00",
          "2024-05-10T16:00:00+00:00",
          "2024-05-13T12:00:00+00:00",
          "2024-05-13T16:00:00+00:00",
          "2024-05-14T12:00:00+00:00",
          "2024-05-14T16:00:00+00:00",
          "2024-05-15T12:00:00+00:00",
          "2024-05-15T16:00:00+00:00",
          "2024-05-16T12:00:00+00:00",
          "2024-05-16T16:00:00+00:00",
          "2024-05-17T08:00:00+00:00",
          "2024-05-17T12:00:00+00:00",
          "2024-05-17T16:00:00+00:00",
          "2024-05-20T12:00:00+00:00",
          "2024-05-20T16:00:00+00:00",
          "2024-05-21T12:00:00+00:00",
          "2024-05-21T16:00:00+00:00",
          "2024-05-22T12:00:00+00:00",
          "2024-05-22T16:00:00+00:00",
          "2024-05-23T08:00:00+00:00",
          "2024-05-23T12:00:00+00:00",
          "2024-05-23T16:00:00+00:00",
          "2024-05-24T12:00:00+00:00",
          "2024-05-24T16:00:00+00:00",
          "2024-05-28T12:00:00+00:00",
          "2024-05-28T16:00:00+00:00",
          "2024-05-29T12:00:00+00:00",
          "2024-05-29T16:00:00+00:00",
          "2024-05-30T12:00:00+00:00",
          "2024-05-30T16:00:00+00:00",
          "2024-05-31T12:00:00+00:00",
          "2024-05-31T16:00:00+00:00",
          "2024-06-03T12:00:00+00:00",
          "2024-06-03T16:00:00+00:00",
          "2024-06-04T12:00:00+00:00",
          "2024-06-04T16:00:00+00:00",
          "2024-06-05T12:00:00+00:00",
          "2024-06-05T16:00:00+00:00",
          "2024-06-06T08:00:00+00:00",
          "2024-06-06T12:00:00+00:00",
          "2024-06-06T16:00:00+00:00",
          "2024-06-07T08:00:00+00:00",
          "2024-06-07T12:00:00+00:00",
          "2024-06-07T16:00:00+00:00",
          "2024-06-10T12:00:00+00:00",
          "2024-06-10T16:00:00+00:00",
          "2024-06-11T12:00:00+00:00",
          "2024-06-11T16:00:00+00:00",
          "2024-06-12T12:00:00+00:00",
          "2024-06-12T16:00:00+00:00",
          "2024-06-13T12:00:00+00:00",
          "2024-06-13T16:00:00+00:00",
          "2024-06-14T12:00:00+00:00",
          "2024-06-14T16:00:00+00:00",
          "2024-06-17T12:00:00+00:00",
          "2024-06-17T16:00:00+00:00",
          "2024-06-18T12:00:00+00:00",
          "2024-06-18T16:00:00+00:00",
          "2024-06-20T12:00:00+00:00",
          "2024-06-20T16:00:00+00:00",
          "2024-06-21T12:00:00+00:00",
          "2024-06-21T16:00:00+00:00",
          "2024-06-24T12:00:00+00:00",
          "2024-06-24T16:00:00+00:00",
          "2024-06-25T12:00:00+00:00",
          "2024-06-25T16:00:00+00:00",
          "2024-06-26T08:00:00+00:00",
          "2024-06-26T12:00:00+00:00",
          "2024-06-26T16:00:00+00:00",
          "2024-06-27T12:00:00+00:00",
          "2024-06-27T16:00:00+00:00",
          "2024-06-28T12:00:00+00:00",
          "2024-06-28T16:00:00+00:00",
          "2024-07-01T12:00:00+00:00",
          "2024-07-01T16:00:00+00:00",
          "2024-07-02T12:00:00+00:00",
          "2024-07-02T16:00:00+00:00",
          "2024-07-03T12:00:00+00:00",
          "2024-07-03T16:00:00+00:00",
          "2024-07-05T12:00:00+00:00",
          "2024-07-05T16:00:00+00:00",
          "2024-07-08T12:00:00+00:00",
          "2024-07-08T16:00:00+00:00",
          "2024-07-09T12:00:00+00:00",
          "2024-07-09T16:00:00+00:00",
          "2024-07-10T12:00:00+00:00",
          "2024-07-10T16:00:00+00:00",
          "2024-07-11T12:00:00+00:00",
          "2024-07-11T16:00:00+00:00",
          "2024-07-12T12:00:00+00:00",
          "2024-07-12T16:00:00+00:00",
          "2024-07-15T12:00:00+00:00",
          "2024-07-15T16:00:00+00:00",
          "2024-07-16T12:00:00+00:00",
          "2024-07-16T16:00:00+00:00",
          "2024-07-17T12:00:00+00:00",
          "2024-07-17T16:00:00+00:00",
          "2024-07-18T12:00:00+00:00",
          "2024-07-18T16:00:00+00:00",
          "2024-07-19T12:00:00+00:00",
          "2024-07-19T16:00:00+00:00",
          "2024-07-22T12:00:00+00:00",
          "2024-07-22T16:00:00+00:00",
          "2024-07-23T12:00:00+00:00",
          "2024-07-23T16:00:00+00:00",
          "2024-07-24T12:00:00+00:00",
          "2024-07-24T16:00:00+00:00",
          "2024-07-25T12:00:00+00:00",
          "2024-07-25T16:00:00+00:00",
          "2024-07-26T12:00:00+00:00",
          "2024-07-26T16:00:00+00:00",
          "2024-07-29T12:00:00+00:00",
          "2024-07-29T16:00:00+00:00",
          "2024-07-30T12:00:00+00:00",
          "2024-07-30T16:00:00+00:00",
          "2024-07-31T12:00:00+00:00",
          "2024-07-31T16:00:00+00:00",
          "2024-08-01T12:00:00+00:00",
          "2024-08-01T16:00:00+00:00",
          "2024-08-02T12:00:00+00:00",
          "2024-08-02T16:00:00+00:00",
          "2024-08-05T12:00:00+00:00",
          "2024-08-05T16:00:00+00:00",
          "2024-08-06T12:00:00+00:00",
          "2024-08-06T16:00:00+00:00",
          "2024-08-07T12:00:00+00:00",
          "2024-08-07T16:00:00+00:00",
          "2024-08-08T12:00:00+00:00",
          "2024-08-08T16:00:00+00:00",
          "2024-08-09T12:00:00+00:00",
          "2024-08-09T16:00:00+00:00",
          "2024-08-12T08:00:00+00:00",
          "2024-08-12T12:00:00+00:00",
          "2024-08-12T16:00:00+00:00",
          "2024-08-13T12:00:00+00:00",
          "2024-08-13T16:00:00+00:00",
          "2024-08-14T12:00:00+00:00",
          "2024-08-14T16:00:00+00:00",
          "2024-08-15T12:00:00+00:00",
          "2024-08-15T16:00:00+00:00",
          "2024-08-16T12:00:00+00:00",
          "2024-08-16T16:00:00+00:00",
          "2024-08-19T12:00:00+00:00",
          "2024-08-19T16:00:00+00:00",
          "2024-08-20T12:00:00+00:00",
          "2024-08-20T16:00:00+00:00",
          "2024-08-21T12:00:00+00:00",
          "2024-08-21T16:00:00+00:00",
          "2024-08-22T12:00:00+00:00",
          "2024-08-22T16:00:00+00:00",
          "2024-08-23T12:00:00+00:00",
          "2024-08-23T16:00:00+00:00",
          "2024-08-26T12:00:00+00:00",
          "2024-08-26T16:00:00+00:00",
          "2024-08-27T12:00:00+00:00",
          "2024-08-27T16:00:00+00:00",
          "2024-08-28T12:00:00+00:00",
          "2024-08-28T16:00:00+00:00",
          "2024-08-29T12:00:00+00:00",
          "2024-08-29T16:00:00+00:00",
          "2024-08-30T08:00:00+00:00",
          "2024-08-30T12:00:00+00:00",
          "2024-08-30T16:00:00+00:00"
         ],
         "xaxis": "x",
         "y": [
          10000,
          10000,
          10008.435074,
          9939.765074,
          9898.864637595605,
          9896.568077595604,
          9927.018077595605,
          9913.368077595605,
          9898.668077595605,
          9943.818077595604,
          9961.668077595605,
          9955.368077595605,
          9956.418077595605,
          9959.568077595604,
          9899.718077595606,
          9910.218077595604,
          9920.718077595604,
          10023.618077595605,
          10006.818077595604,
          10003.668077595605,
          10086.618077595605,
          10083.468077595606,
          10083.468077595606,
          10083.468077595606,
          10083.468077595606,
          10083.468077595606,
          10083.468077595606,
          10083.468077595606,
          10083.468077595606,
          10083.468077595606,
          10083.468077595606,
          10083.468077595606,
          10083.468077595606,
          10083.468077595606,
          10083.468077595606,
          10083.468077595606,
          10083.468077595606,
          10083.468077595606,
          10083.468077595606,
          10083.468077595606,
          10083.468077595606,
          10083.468077595606,
          10083.468077595606,
          10083.187460595605,
          10080.517460595605,
          10081.407460595607,
          10030.677460595605,
          10032.457460595606,
          10062.717460595606,
          10051.147460595606,
          10094.757460595605,
          10098.317460595606,
          10076.067460595606,
          10074.287460595606,
          10095.647460595606,
          10076.067460595606,
          10129.467460595606,
          10145.487460595607,
          10184.647460595606,
          10184.647460595606,
          10170.291522595606,
          10195.541522595606,
          10199.581522595607,
          10156.151522595606,
          10153.121522595606,
          10222.811522595606,
          10254.121522595606,
          10259.171522595607,
          10275.331522595607,
          10262.201522595606,
          10263.211522595606,
          10328.861522595607,
          10343.001522595607,
          10343.001522595607,
          10343.001522595607,
          10343.001522595607,
          10343.001522595607,
          10343.001522595607,
          10330.005792595606,
          10308.225792595607,
          10301.295792595607,
          10286.445792595607,
          10303.275792595607,
          10300.305792595607,
          10266.788347230968,
          10266.788347230968,
          10266.788347230968,
          10266.788347230968,
          10266.788347230968,
          10266.788347230968,
          10266.788347230968,
          10266.788347230968,
          10266.788347230968,
          10266.788347230968,
          10266.788347230968,
          10266.788347230968,
          10266.788347230968,
          10266.788347230968,
          10266.788347230968,
          10266.788347230968,
          10266.788347230968,
          10266.788347230968,
          10266.788347230968,
          10266.788347230968,
          10266.788347230968,
          10266.788347230968,
          10266.788347230968,
          10266.788347230968,
          10266.788347230968,
          10267.658697230967,
          10248.088697230967,
          10306.798697230968,
          10306.798697230968,
          10306.798697230968,
          10471.116149230967,
          10471.116149230967,
          10471.116149230967,
          10471.116149230967,
          10471.116149230967,
          10471.116149230967,
          10471.116149230967,
          10471.116149230967,
          10471.116149230967,
          10471.116149230967,
          10471.116149230967,
          10471.116149230967,
          10471.116149230967,
          10471.116149230967,
          10471.116149230967,
          10471.116149230967,
          10471.116149230967,
          10471.116149230967,
          10471.116149230967,
          10471.116149230967,
          10471.116149230967,
          10482.631320230968,
          10468.521320230968,
          10496.741320230967,
          10480.971320230967,
          10480.141320230967,
          10427.021320230968,
          10429.511320230968,
          10408.761320230968,
          10394.651320230967,
          10365.02892269027,
          10380.03246269027,
          10407.582462690269,
          10434.182462690269,
          10463.63246269027,
          10475.03246269027,
          10444.63246269027,
          10456.98246269027,
          10426.58246269027,
          10417.08246269027,
          10387.63246269027,
          10375.28246269027,
          10382.88246269027,
          10428.48246269027,
          10403.78246269027,
          10525.38246269027,
          10525.38246269027,
          10525.38246269027,
          10525.38246269027,
          10525.332404690269,
          10531.51240469027,
          10501.64240469027,
          10529.45240469027,
          10528.42240469027,
          10559.32240469027,
          10538.72240469027,
          10550.05240469027,
          10557.26240469027,
          10522.24240469027,
          10522.24240469027,
          10504.73240469027,
          10496.49240469027,
          10515.03240469027,
          10499.582404690269,
          10499.582404690269,
          10518.12240469027,
          10521.21240469027,
          10487.22240469027,
          10485.162404690269,
          10489.28240469027,
          10438.81240469027,
          10438.81240469027,
          10440.87240469027,
          10455.29240469027,
          10431.60240469027,
          10444.99240469027,
          10473.832404690269,
          10511.94240469027,
          10527.39240469027,
          10553.14240469027,
          10549.02240469027,
          10567.56240469027,
          10570.65240469027,
          10550.46269669027,
          10664.42269669027,
          10664.42269669027,
          10664.42269669027,
          10664.42269669027,
          10664.42269669027,
          10664.42269669027,
          10664.42269669027,
          10664.42269669027,
          10664.42269669027,
          10664.42269669027,
          10664.42269669027,
          10664.42269669027,
          10725.81934669027,
          10725.81934669027,
          10725.81934669027,
          10725.81934669027,
          10748.09692069027,
          10639.53692069027,
          10617.593195780199,
          10625.926703780198,
          10615.326703780198,
          10509.729132794791,
          10484.552604794791,
          10433.592604794792,
          10445.032604794791,
          10493.912604794792,
          10417.992604794792,
          10447.112604794791,
          10441.912604794792,
          10493.912604794792,
          10513.672604794792,
          10501.192604794793,
          10549.032604794791,
          10472.072604794792,
          10475.192604794793,
          10519.912604794792,
          10589.592604794792,
          10581.272604794793,
          10524.072604794792,
          10437.752604794792,
          10457.512604794792,
          10445.032604794791,
          10450.232604794792,
          10460.632604794791,
          10493.912604794792,
          10524.072604794792,
          10514.712604794791,
          10578.152604794792,
          10580.232604794792,
          10571.912604794792,
          10592.712604794791,
          10592.712604794791,
          10592.712604794791,
          10600.747578794791,
          10626.70757879479,
          10705.767578794792,
          10708.12757879479,
          10708.12757879479,
          10708.12757879479,
          10708.12757879479,
          10708.12757879479,
          10708.12757879479,
          10708.12757879479,
          10708.12757879479,
          10708.12757879479,
          10708.12757879479,
          10708.12757879479,
          10708.12757879479,
          10708.12757879479,
          10708.12757879479,
          10708.12757879479,
          10708.12757879479,
          10708.12757879479,
          10708.12757879479,
          10708.12757879479,
          10708.12757879479,
          10708.12757879479,
          10708.12757879479,
          10708.12757879479,
          10708.12757879479,
          10708.12757879479,
          10708.12757879479,
          10708.12757879479,
          10708.12757879479,
          10708.12757879479,
          10708.12757879479,
          10708.12757879479,
          10708.12757879479,
          10708.12757879479,
          10708.12757879479,
          10708.12757879479,
          10708.12757879479,
          10708.12757879479,
          10708.12757879479,
          10710.90316879479,
          10650.58316879479,
          10655.803168794791,
          10646.52316879479,
          10681.32316879479,
          10674.94316879479,
          10679.00316879479,
          10618.68316879479,
          10618.68316879479,
          10627.09156879479,
          10664.05156879479,
          10677.91156879479,
          10694.41156879479,
          10708.271568794791,
          10708.931568794791,
          10714.21156879479,
          10687.81156879479,
          10701.011568794791,
          10699.691568794791,
          10753.81156879479,
          10757.771568794791,
          10776.91156879479,
          10776.91156879479,
          10776.91156879479,
          10789.93968679479,
          10785.23968679479,
          10823.77968679479,
          10823.77968679479,
          10823.77968679479,
          10823.77968679479,
          10823.77968679479,
          10823.77968679479,
          10823.77968679479,
          10823.77968679479,
          10823.77968679479,
          10823.77968679479,
          10823.77968679479,
          10823.77968679479,
          10823.77968679479,
          10823.77968679479,
          10823.77968679479,
          10823.77968679479,
          10823.77968679479,
          10823.77968679479,
          10823.77968679479,
          10823.77968679479,
          10859.401974794791,
          10874.52197479479,
          10877.761974794792,
          10908.001974794792,
          10942.561974794791,
          10940.401974794791,
          10936.081974794792,
          10952.28197479479,
          10937.161974794792,
          10918.801974794791,
          10914.481974794791,
          10898.28197479479,
          10911.241974794792,
          10913.401974794791,
          10900.44197479479,
          10881.001974794792,
          10899.36197479479,
          10981.44197479479,
          10981.44197479479,
          10981.44197479479,
          10981.44197479479,
          10981.44197479479,
          10966.025571794791,
          10870.579377187387,
          10866.723712187388,
          10927.223712187388,
          10938.113712187387,
          11003.453712187387,
          11007.083712187386,
          10997.403712187386,
          11004.663712187386,
          11019.183712187387,
          11019.183712187387,
          11019.183712187387,
          10987.339936187387,
          10958.359936187388,
          10945.939936187388,
          10907.132639505413,
          10914.228156505413,
          10931.388156505413,
          10939.968156505412,
          11077.248156505413,
          11077.248156505413,
          11077.248156505413,
          11077.248156505413,
          11077.248156505413,
          11077.248156505413,
          11077.248156505413,
          11077.248156505413,
          11077.248156505413,
          11077.248156505413,
          11077.248156505413,
          11077.248156505413,
          11092.188708505413,
          11109.868708505413,
          11122.108708505413,
          11118.028708505413,
          11126.188708505413,
          11183.308708505414,
          11179.228708505414,
          11187.388708505414,
          11187.388708505414,
          11187.388708505414,
          11187.388708505414,
          11187.388708505414,
          11187.388708505414,
          11187.388708505414,
          11187.388708505414,
          11187.388708505414,
          11187.388708505414,
          11187.388708505414,
          11187.388708505414,
          11187.388708505414,
          11187.388708505414,
          11187.388708505414,
          11187.388708505414,
          11187.388708505414,
          11187.388708505414,
          11187.388708505414,
          11187.388708505414,
          11187.388708505414,
          11187.388708505414,
          11187.388708505414,
          11187.388708505414,
          11225.211628505414,
          11210.011628505414,
          11264.731628505415,
          11267.771628505414,
          11266.251628505413,
          11295.131628505414,
          11279.931628505414,
          11287.531628505414,
          11197.851628505414,
          11199.371628505414,
          11213.051628505415,
          11263.211628505414,
          11269.291628505414,
          11261.691628505414,
          11216.091628505414,
          11251.051628505415,
          11232.811628505415,
          11231.291628505414,
          11127.931628505414,
          11168.971628505415,
          11231.291628505414,
          11216.091628505414,
          11211.531628505414,
          11211.531628505414,
          11199.371628505414,
          11196.331628505413,
          11184.171628505414,
          11199.371628505414,
          11200.891628505415,
          11178.091628505414,
          11206.971628505415,
          11205.451628505414,
          11246.491628505413,
          11220.651628505413,
          11216.091628505414,
          11272.331628505413,
          11272.331628505413,
          11272.331628505413,
          11272.331628505413,
          11272.331628505413,
          11272.331628505413,
          11272.331628505413,
          11272.331628505413,
          11272.331628505413,
          11272.331628505413,
          11272.331628505413,
          11272.331628505413,
          11272.331628505413,
          11272.331628505413,
          11272.331628505413,
          11272.331628505413,
          11272.331628505413,
          11272.331628505413,
          11272.331628505413,
          11272.331628505413,
          11272.331628505413,
          11272.331628505413,
          11272.331628505413,
          11272.331628505413,
          11272.331628505413,
          11286.337816505413,
          11316.787816505414,
          11316.787816505414,
          11316.787816505414,
          11350.957334505414,
          11352.867334505414,
          11446.457334505414,
          11446.457334505414,
          11446.457334505414,
          11446.457334505414,
          11446.457334505414,
          11446.457334505414,
          11446.457334505414,
          11446.457334505414,
          11446.457334505414,
          11446.457334505414,
          11446.457334505414,
          11446.457334505414,
          11446.457334505414,
          11446.457334505414,
          11452.877826505413,
          11472.767826505415,
          11490.447826505415,
          11479.397826505414,
          11439.617826505413,
          11419.727826505414,
          11428.567826505414,
          11329.358789982769,
          11345.065899982768,
          11349.645899982768,
          11326.745899982769,
          11331.325899982769,
          11367.965899982768,
          11487.04589998277,
          11475.595899982769,
          11473.305899982768,
          11425.215899982768,
          11450.405899982768,
          11448.11589998277,
          11489.335899982769,
          11519.10589998277,
          11519.10589998277,
          11519.10589998277,
          11519.10589998277,
          11533.00269198277,
          11448.762691982769,
          11474.50269198277,
          11467.48269198277,
          11401.444263966096,
          11401.444263966096,
          11401.444263966096,
          11401.444263966096,
          11401.444263966096,
          11401.444263966096,
          11401.444263966096,
          11401.444263966096,
          11401.444263966096,
          11401.444263966096,
          11401.444263966096,
          11401.444263966096,
          11401.444263966096,
          11401.444263966096,
          11409.641527966096,
          11265.481527966096,
          11265.481527966096,
          11265.481527966096,
          11265.481527966096,
          11265.481527966096,
          11265.481527966096,
          11265.481527966096,
          11265.481527966096,
          11265.481527966096,
          11265.481527966096,
          11265.481527966096,
          11265.481527966096,
          11265.481527966096,
          11265.481527966096,
          11265.481527966096,
          11265.481527966096,
          11265.481527966096,
          11265.481527966096,
          11265.481527966096,
          11265.481527966096,
          11265.481527966096,
          11265.481527966096,
          11265.481527966096,
          11265.481527966096,
          11265.481527966096,
          11265.481527966096,
          11265.481527966096,
          11265.481527966096,
          11265.481527966096,
          11265.481527966096,
          11265.481527966096,
          11265.481527966096,
          11273.469727966096,
          11309.469727966096,
          11271.469727966096,
          11271.469727966096,
          11271.469727966096,
          11271.469727966096,
          11271.469727966096,
          11271.469727966096,
          11271.469727966096,
          11271.469727966096,
          11271.469727966096,
          11271.469727966096,
          11271.469727966096,
          11271.469727966096,
          11271.469727966096,
          11271.469727966096,
          11271.469727966096,
          11271.469727966096,
          11271.469727966096,
          11271.469727966096,
          11271.469727966096,
          11271.469727966096,
          11246.832167966097,
          11246.832167966097,
          11246.832167966097,
          11246.832167966097,
          11246.832167966097,
          11246.832167966097,
          11246.832167966097,
          11246.832167966097,
          11246.832167966097,
          11246.832167966097,
          11246.832167966097,
          11246.832167966097,
          11246.832167966097,
          11246.832167966097,
          11246.832167966097,
          11246.832167966097,
          11238.398957966097,
          11227.118957966097,
          11325.818957966098,
          11325.818957966098,
          11328.638957966097,
          11218.658957966098,
          11238.398957966097,
          11241.218957966097,
          11286.338957966096,
          11277.878957966097,
          11266.598957966096,
          11249.678957966096,
          11258.138957966097,
          11252.498957966096,
          11320.178957966096,
          11320.178957966096,
          11303.258957966096,
          11258.138957966097,
          11255.318957966098,
          11255.318957966098,
          11359.658957966098,
          11362.478957966097,
          11362.478957966097,
          11362.478957966097,
          11359.573509966098,
          11365.713509966097,
          11338.083509966098,
          11279.753509966098,
          11276.683509966098,
          11224.493509966098,
          11200.839459966099,
          11219.459459966098,
          11168.919459966099,
          11155.619459966098,
          11160.939459966097,
          11222.119459966098,
          11200.839459966099,
          11214.139459966098,
          11163.599459966099,
          11184.879459966098,
          11168.919459966099,
          11139.659459966098,
          11192.859459966097,
          11176.899459966098,
          11349.799459966098,
          11307.239459966098,
          11480.139459966098,
          11488.119459966098,
          11480.936368966097,
          11482.726368966098,
          11493.466368966097,
          11514.946368966097,
          11513.156368966098,
          11572.226368966098,
          11577.596368966097,
          11570.436368966097,
          11516.736368966098,
          11563.276368966097,
          11584.756368966098,
          11563.276368966097,
          11613.396368966098,
          11543.586368966098,
          11538.216368966097,
          11559.696368966097,
          11545.376368966097,
          11588.336368966098,
          11593.706368966097,
          11659.936368966097,
          11643.826368966098,
          11643.826368966098,
          11643.826368966098,
          11643.826368966098,
          11572.557422966098,
          11564.257422966097,
          11660.537422966097,
          11660.537422966097,
          11660.537422966097,
          11660.537422966097,
          11660.537422966097,
          11666.891234966097,
          11681.111234966098,
          11670.051234966097,
          11676.371234966098,
          11701.651234966097,
          11700.071234966097,
          11700.071234966097,
          11661.158009966097,
          11594.858009966098,
          11631.908009966097,
          11643.608009966098,
          11637.758009966097,
          11587.058009966097,
          11598.758009966097,
          11577.308009966097,
          11571.458009966096,
          11542.208009966096,
          11530.729698055438,
          11536.929762055439,
          11607.649762055438,
          11615.969762055438,
          11765.729762055438,
          11763.649762055438,
          11789.27323405544,
          11720.673234055439,
          11689.313234055438,
          11716.753234055439,
          11701.073234055439,
          11687.353234055437,
          11689.313234055438,
          11685.393234055438,
          11667.753234055439,
          11616.793234055438,
          11621.510734055439,
          11716.970734055438,
          11732.510734055439,
          11799.110734055439,
          11845.730734055438,
          11832.410734055438,
          11881.250734055438,
          11814.650734055438,
          11814.650734055438,
          11743.088429764399,
          11702.2569797644,
          11625.7569797644,
          11613.8569797644,
          11604.449099764399,
          11629.2490997644,
          11641.6490997644,
          11657.1490997644,
          11661.7990997644,
          11497.883998408413,
          11417.052046408413,
          11445.852046408414,
          11381.633138555408,
          11314.248592555408,
          11359.458592555407,
          11384.118592555407,
          11386.858592555407,
          11481.388592555408,
          11397.818592555408,
          11412.888592555408,
          11447.138592555408,
          11458.098592555407,
          11408.778592555407,
          11395.078592555408,
          11395.078592555408,
          11355.348592555407,
          11364.938592555407,
          11374.528592555407,
          11266.284897078995,
          11255.094137078995,
          11253.734137078995,
          11234.694137078994,
          11152.142053326927,
          11155.905865326926,
          11039.072769918244,
          11005.651449918245,
          10836.741449918245,
          10913.669995918246,
          10935.929995918244,
          10991.049995918245,
          10982.569995918246,
          10976.209995918245,
          10985.749995918246,
          10986.809995918245,
          11008.009995918246,
          11065.249995918246,
          11153.229995918246,
          11195.629995918245,
          11254.989995918246,
          11252.013109918245,
          11262.353109918246,
          11280.213109918246,
          11267.993109918245,
          11272.693109918246,
          11274.573109918247,
          11287.733109918247,
          11277.393109918246,
          11280.213109918246,
          11268.933109918245,
          11275.513109918245,
          11234.153109918247,
          11226.633109918246,
          11194.673109918245,
          11194.673109918245,
          11194.673109918245,
          11194.673109918245,
          11194.673109918245,
          11194.673109918245,
          11194.673109918245,
          11194.673109918245,
          11194.673109918245,
          11194.673109918245,
          11194.673109918245,
          11194.673109918245,
          11194.673109918245,
          11194.673109918245,
          11194.673109918245,
          11194.673109918245,
          11194.673109918245,
          11194.673109918245,
          11194.673109918245,
          11194.673109918245,
          11194.673109918245,
          11194.673109918245,
          11194.673109918245,
          11194.673109918245,
          11194.673109918245,
          11194.673109918245,
          11194.673109918245,
          11194.673109918245,
          11194.673109918245,
          11194.673109918245,
          11194.673109918245,
          11194.673109918245,
          11194.673109918245,
          11194.673109918245,
          11194.673109918245,
          11112.745224918246,
          11100.346243100345,
          11138.333703100345,
          11159.233703100344,
          11233.333703100345,
          11214.333703100345,
          11377.733703100344,
          11377.733703100344,
          11377.733703100344,
          11377.733703100344,
          11377.733703100344,
          11377.733703100344,
          11377.733703100344,
          11377.733703100344,
          11377.733703100344,
          11377.733703100344,
          11377.733703100344,
          11377.733703100344,
          11377.733703100344,
          11377.733703100344,
          11377.733703100344,
          11377.733703100344,
          11377.733703100344,
          11377.733703100344,
          11377.733703100344,
          11377.733703100344,
          11377.733703100344,
          11376.221759100345,
          11356.461759100344,
          11354.941759100344,
          11397.501759100345,
          11388.381759100344,
          11336.701759100344,
          11335.181759100344,
          11256.141759100345,
          11256.141759100345,
          11264.685892100344,
          11276.515892100346,
          11313.695892100344,
          11300.175892100344,
          11327.215892100345,
          11335.665892100345,
          11251.165892100345,
          11251.165892100345,
          11318.765892100346,
          11320.455892100344,
          11257.925892100344,
          11246.095892100344,
          11224.125892100345,
          11215.675892100344,
          11136.245892100345,
          11136.245892100345,
          11136.245892100345,
          11136.245892100345,
          11136.245892100345,
          11136.245892100345,
          11136.245892100345,
          11136.245892100345,
          11136.245892100345,
          11136.245892100345,
          11136.245892100345,
          11136.245892100345,
          11156.029968100345,
          11173.389968100346,
          11160.989968100344,
          11139.909968100344,
          11139.909968100344,
          11139.909968100344,
          11134.996763100344,
          11176.136763100345,
          11173.716763100345,
          11148.306763100345,
          11143.466763100345,
          11203.966763100345,
          11219.696763100344,
          11174.926763100344,
          11187.026763100344,
          11188.236763100345,
          11176.136763100345,
          11148.306763100345,
          11148.306763100345,
          11182.186763100344,
          11171.296763100345,
          11214.856763100344,
          11216.066763100345,
          11303.186763100344,
          11303.186763100344,
          11303.186763100344,
          11303.186763100344,
          11303.186763100344,
          11274.332523100344,
          11274.332523100344
         ],
         "yaxis": "y"
        }
       ],
       "layout": {
        "legend": {
         "tracegroupgap": 0
        },
        "margin": {
         "t": 60
        },
        "template": {
         "data": {
          "bar": [
           {
            "error_x": {
             "color": "#2a3f5f"
            },
            "error_y": {
             "color": "#2a3f5f"
            },
            "marker": {
             "line": {
              "color": "#E5ECF6",
              "width": 0.5
             },
             "pattern": {
              "fillmode": "overlay",
              "size": 10,
              "solidity": 0.2
             }
            },
            "type": "bar"
           }
          ],
          "barpolar": [
           {
            "marker": {
             "line": {
              "color": "#E5ECF6",
              "width": 0.5
             },
             "pattern": {
              "fillmode": "overlay",
              "size": 10,
              "solidity": 0.2
             }
            },
            "type": "barpolar"
           }
          ],
          "carpet": [
           {
            "aaxis": {
             "endlinecolor": "#2a3f5f",
             "gridcolor": "white",
             "linecolor": "white",
             "minorgridcolor": "white",
             "startlinecolor": "#2a3f5f"
            },
            "baxis": {
             "endlinecolor": "#2a3f5f",
             "gridcolor": "white",
             "linecolor": "white",
             "minorgridcolor": "white",
             "startlinecolor": "#2a3f5f"
            },
            "type": "carpet"
           }
          ],
          "choropleth": [
           {
            "colorbar": {
             "outlinewidth": 0,
             "ticks": ""
            },
            "type": "choropleth"
           }
          ],
          "contour": [
           {
            "colorbar": {
             "outlinewidth": 0,
             "ticks": ""
            },
            "colorscale": [
             [
              0,
              "#0d0887"
             ],
             [
              0.1111111111111111,
              "#46039f"
             ],
             [
              0.2222222222222222,
              "#7201a8"
             ],
             [
              0.3333333333333333,
              "#9c179e"
             ],
             [
              0.4444444444444444,
              "#bd3786"
             ],
             [
              0.5555555555555556,
              "#d8576b"
             ],
             [
              0.6666666666666666,
              "#ed7953"
             ],
             [
              0.7777777777777778,
              "#fb9f3a"
             ],
             [
              0.8888888888888888,
              "#fdca26"
             ],
             [
              1,
              "#f0f921"
             ]
            ],
            "type": "contour"
           }
          ],
          "contourcarpet": [
           {
            "colorbar": {
             "outlinewidth": 0,
             "ticks": ""
            },
            "type": "contourcarpet"
           }
          ],
          "heatmap": [
           {
            "colorbar": {
             "outlinewidth": 0,
             "ticks": ""
            },
            "colorscale": [
             [
              0,
              "#0d0887"
             ],
             [
              0.1111111111111111,
              "#46039f"
             ],
             [
              0.2222222222222222,
              "#7201a8"
             ],
             [
              0.3333333333333333,
              "#9c179e"
             ],
             [
              0.4444444444444444,
              "#bd3786"
             ],
             [
              0.5555555555555556,
              "#d8576b"
             ],
             [
              0.6666666666666666,
              "#ed7953"
             ],
             [
              0.7777777777777778,
              "#fb9f3a"
             ],
             [
              0.8888888888888888,
              "#fdca26"
             ],
             [
              1,
              "#f0f921"
             ]
            ],
            "type": "heatmap"
           }
          ],
          "heatmapgl": [
           {
            "colorbar": {
             "outlinewidth": 0,
             "ticks": ""
            },
            "colorscale": [
             [
              0,
              "#0d0887"
             ],
             [
              0.1111111111111111,
              "#46039f"
             ],
             [
              0.2222222222222222,
              "#7201a8"
             ],
             [
              0.3333333333333333,
              "#9c179e"
             ],
             [
              0.4444444444444444,
              "#bd3786"
             ],
             [
              0.5555555555555556,
              "#d8576b"
             ],
             [
              0.6666666666666666,
              "#ed7953"
             ],
             [
              0.7777777777777778,
              "#fb9f3a"
             ],
             [
              0.8888888888888888,
              "#fdca26"
             ],
             [
              1,
              "#f0f921"
             ]
            ],
            "type": "heatmapgl"
           }
          ],
          "histogram": [
           {
            "marker": {
             "pattern": {
              "fillmode": "overlay",
              "size": 10,
              "solidity": 0.2
             }
            },
            "type": "histogram"
           }
          ],
          "histogram2d": [
           {
            "colorbar": {
             "outlinewidth": 0,
             "ticks": ""
            },
            "colorscale": [
             [
              0,
              "#0d0887"
             ],
             [
              0.1111111111111111,
              "#46039f"
             ],
             [
              0.2222222222222222,
              "#7201a8"
             ],
             [
              0.3333333333333333,
              "#9c179e"
             ],
             [
              0.4444444444444444,
              "#bd3786"
             ],
             [
              0.5555555555555556,
              "#d8576b"
             ],
             [
              0.6666666666666666,
              "#ed7953"
             ],
             [
              0.7777777777777778,
              "#fb9f3a"
             ],
             [
              0.8888888888888888,
              "#fdca26"
             ],
             [
              1,
              "#f0f921"
             ]
            ],
            "type": "histogram2d"
           }
          ],
          "histogram2dcontour": [
           {
            "colorbar": {
             "outlinewidth": 0,
             "ticks": ""
            },
            "colorscale": [
             [
              0,
              "#0d0887"
             ],
             [
              0.1111111111111111,
              "#46039f"
             ],
             [
              0.2222222222222222,
              "#7201a8"
             ],
             [
              0.3333333333333333,
              "#9c179e"
             ],
             [
              0.4444444444444444,
              "#bd3786"
             ],
             [
              0.5555555555555556,
              "#d8576b"
             ],
             [
              0.6666666666666666,
              "#ed7953"
             ],
             [
              0.7777777777777778,
              "#fb9f3a"
             ],
             [
              0.8888888888888888,
              "#fdca26"
             ],
             [
              1,
              "#f0f921"
             ]
            ],
            "type": "histogram2dcontour"
           }
          ],
          "mesh3d": [
           {
            "colorbar": {
             "outlinewidth": 0,
             "ticks": ""
            },
            "type": "mesh3d"
           }
          ],
          "parcoords": [
           {
            "line": {
             "colorbar": {
              "outlinewidth": 0,
              "ticks": ""
             }
            },
            "type": "parcoords"
           }
          ],
          "pie": [
           {
            "automargin": true,
            "type": "pie"
           }
          ],
          "scatter": [
           {
            "fillpattern": {
             "fillmode": "overlay",
             "size": 10,
             "solidity": 0.2
            },
            "type": "scatter"
           }
          ],
          "scatter3d": [
           {
            "line": {
             "colorbar": {
              "outlinewidth": 0,
              "ticks": ""
             }
            },
            "marker": {
             "colorbar": {
              "outlinewidth": 0,
              "ticks": ""
             }
            },
            "type": "scatter3d"
           }
          ],
          "scattercarpet": [
           {
            "marker": {
             "colorbar": {
              "outlinewidth": 0,
              "ticks": ""
             }
            },
            "type": "scattercarpet"
           }
          ],
          "scattergeo": [
           {
            "marker": {
             "colorbar": {
              "outlinewidth": 0,
              "ticks": ""
             }
            },
            "type": "scattergeo"
           }
          ],
          "scattergl": [
           {
            "marker": {
             "colorbar": {
              "outlinewidth": 0,
              "ticks": ""
             }
            },
            "type": "scattergl"
           }
          ],
          "scattermapbox": [
           {
            "marker": {
             "colorbar": {
              "outlinewidth": 0,
              "ticks": ""
             }
            },
            "type": "scattermapbox"
           }
          ],
          "scatterpolar": [
           {
            "marker": {
             "colorbar": {
              "outlinewidth": 0,
              "ticks": ""
             }
            },
            "type": "scatterpolar"
           }
          ],
          "scatterpolargl": [
           {
            "marker": {
             "colorbar": {
              "outlinewidth": 0,
              "ticks": ""
             }
            },
            "type": "scatterpolargl"
           }
          ],
          "scatterternary": [
           {
            "marker": {
             "colorbar": {
              "outlinewidth": 0,
              "ticks": ""
             }
            },
            "type": "scatterternary"
           }
          ],
          "surface": [
           {
            "colorbar": {
             "outlinewidth": 0,
             "ticks": ""
            },
            "colorscale": [
             [
              0,
              "#0d0887"
             ],
             [
              0.1111111111111111,
              "#46039f"
             ],
             [
              0.2222222222222222,
              "#7201a8"
             ],
             [
              0.3333333333333333,
              "#9c179e"
             ],
             [
              0.4444444444444444,
              "#bd3786"
             ],
             [
              0.5555555555555556,
              "#d8576b"
             ],
             [
              0.6666666666666666,
              "#ed7953"
             ],
             [
              0.7777777777777778,
              "#fb9f3a"
             ],
             [
              0.8888888888888888,
              "#fdca26"
             ],
             [
              1,
              "#f0f921"
             ]
            ],
            "type": "surface"
           }
          ],
          "table": [
           {
            "cells": {
             "fill": {
              "color": "#EBF0F8"
             },
             "line": {
              "color": "white"
             }
            },
            "header": {
             "fill": {
              "color": "#C8D4E3"
             },
             "line": {
              "color": "white"
             }
            },
            "type": "table"
           }
          ]
         },
         "layout": {
          "annotationdefaults": {
           "arrowcolor": "#2a3f5f",
           "arrowhead": 0,
           "arrowwidth": 1
          },
          "autotypenumbers": "strict",
          "coloraxis": {
           "colorbar": {
            "outlinewidth": 0,
            "ticks": ""
           }
          },
          "colorscale": {
           "diverging": [
            [
             0,
             "#8e0152"
            ],
            [
             0.1,
             "#c51b7d"
            ],
            [
             0.2,
             "#de77ae"
            ],
            [
             0.3,
             "#f1b6da"
            ],
            [
             0.4,
             "#fde0ef"
            ],
            [
             0.5,
             "#f7f7f7"
            ],
            [
             0.6,
             "#e6f5d0"
            ],
            [
             0.7,
             "#b8e186"
            ],
            [
             0.8,
             "#7fbc41"
            ],
            [
             0.9,
             "#4d9221"
            ],
            [
             1,
             "#276419"
            ]
           ],
           "sequential": [
            [
             0,
             "#0d0887"
            ],
            [
             0.1111111111111111,
             "#46039f"
            ],
            [
             0.2222222222222222,
             "#7201a8"
            ],
            [
             0.3333333333333333,
             "#9c179e"
            ],
            [
             0.4444444444444444,
             "#bd3786"
            ],
            [
             0.5555555555555556,
             "#d8576b"
            ],
            [
             0.6666666666666666,
             "#ed7953"
            ],
            [
             0.7777777777777778,
             "#fb9f3a"
            ],
            [
             0.8888888888888888,
             "#fdca26"
            ],
            [
             1,
             "#f0f921"
            ]
           ],
           "sequentialminus": [
            [
             0,
             "#0d0887"
            ],
            [
             0.1111111111111111,
             "#46039f"
            ],
            [
             0.2222222222222222,
             "#7201a8"
            ],
            [
             0.3333333333333333,
             "#9c179e"
            ],
            [
             0.4444444444444444,
             "#bd3786"
            ],
            [
             0.5555555555555556,
             "#d8576b"
            ],
            [
             0.6666666666666666,
             "#ed7953"
            ],
            [
             0.7777777777777778,
             "#fb9f3a"
            ],
            [
             0.8888888888888888,
             "#fdca26"
            ],
            [
             1,
             "#f0f921"
            ]
           ]
          },
          "colorway": [
           "#636efa",
           "#EF553B",
           "#00cc96",
           "#ab63fa",
           "#FFA15A",
           "#19d3f3",
           "#FF6692",
           "#B6E880",
           "#FF97FF",
           "#FECB52"
          ],
          "font": {
           "color": "#2a3f5f"
          },
          "geo": {
           "bgcolor": "white",
           "lakecolor": "white",
           "landcolor": "#E5ECF6",
           "showlakes": true,
           "showland": true,
           "subunitcolor": "white"
          },
          "hoverlabel": {
           "align": "left"
          },
          "hovermode": "closest",
          "mapbox": {
           "style": "light"
          },
          "paper_bgcolor": "white",
          "plot_bgcolor": "#E5ECF6",
          "polar": {
           "angularaxis": {
            "gridcolor": "white",
            "linecolor": "white",
            "ticks": ""
           },
           "bgcolor": "#E5ECF6",
           "radialaxis": {
            "gridcolor": "white",
            "linecolor": "white",
            "ticks": ""
           }
          },
          "scene": {
           "xaxis": {
            "backgroundcolor": "#E5ECF6",
            "gridcolor": "white",
            "gridwidth": 2,
            "linecolor": "white",
            "showbackground": true,
            "ticks": "",
            "zerolinecolor": "white"
           },
           "yaxis": {
            "backgroundcolor": "#E5ECF6",
            "gridcolor": "white",
            "gridwidth": 2,
            "linecolor": "white",
            "showbackground": true,
            "ticks": "",
            "zerolinecolor": "white"
           },
           "zaxis": {
            "backgroundcolor": "#E5ECF6",
            "gridcolor": "white",
            "gridwidth": 2,
            "linecolor": "white",
            "showbackground": true,
            "ticks": "",
            "zerolinecolor": "white"
           }
          },
          "shapedefaults": {
           "line": {
            "color": "#2a3f5f"
           }
          },
          "ternary": {
           "aaxis": {
            "gridcolor": "white",
            "linecolor": "white",
            "ticks": ""
           },
           "baxis": {
            "gridcolor": "white",
            "linecolor": "white",
            "ticks": ""
           },
           "bgcolor": "#E5ECF6",
           "caxis": {
            "gridcolor": "white",
            "linecolor": "white",
            "ticks": ""
           }
          },
          "title": {
           "x": 0.05
          },
          "xaxis": {
           "automargin": true,
           "gridcolor": "white",
           "linecolor": "white",
           "ticks": "",
           "title": {
            "standoff": 15
           },
           "zerolinecolor": "white",
           "zerolinewidth": 2
          },
          "yaxis": {
           "automargin": true,
           "gridcolor": "white",
           "linecolor": "white",
           "ticks": "",
           "title": {
            "standoff": 15
           },
           "zerolinecolor": "white",
           "zerolinewidth": 2
          }
         }
        },
        "title": {
         "text": "BEKEm, 16388"
        },
        "xaxis": {
         "anchor": "y",
         "domain": [
          0,
          1
         ],
         "title": {
          "text": "Date"
         }
        },
        "yaxis": {
         "anchor": "x",
         "domain": [
          0,
          1
         ],
         "title": {
          "text": "Equity"
         }
        }
       }
      }
     },
     "metadata": {},
     "output_type": "display_data"
    },
    {
     "name": "stdout",
     "output_type": "stream",
     "text": [
      "MOm 16388\n"
     ]
    },
    {
     "data": {
      "application/vnd.plotly.v1+json": {
       "config": {
        "plotlyServerURL": "https://plot.ly"
       },
       "data": [
        {
         "hovertemplate": "x=%{x}<br>y=%{y}<extra></extra>",
         "legendgroup": "",
         "line": {
          "color": "#636efa",
          "dash": "solid"
         },
         "marker": {
          "symbol": "circle"
         },
         "mode": "lines",
         "name": "",
         "orientation": "v",
         "showlegend": false,
         "textposition": "bottom right",
         "type": "scatter",
         "x": [
          "2023-08-02T16:00:00+00:00",
          "2023-08-03T12:00:00+00:00",
          "2023-08-03T16:00:00+00:00",
          "2023-08-04T12:00:00+00:00",
          "2023-08-04T16:00:00+00:00",
          "2023-08-07T12:00:00+00:00",
          "2023-08-07T16:00:00+00:00",
          "2023-08-08T12:00:00+00:00",
          "2023-08-08T16:00:00+00:00",
          "2023-08-09T12:00:00+00:00",
          "2023-08-09T16:00:00+00:00",
          "2023-08-10T12:00:00+00:00",
          "2023-08-10T16:00:00+00:00",
          "2023-08-11T12:00:00+00:00",
          "2023-08-11T16:00:00+00:00",
          "2023-08-14T12:00:00+00:00",
          "2023-08-14T16:00:00+00:00",
          "2023-08-15T12:00:00+00:00",
          "2023-08-15T16:00:00+00:00",
          "2023-08-16T12:00:00+00:00",
          "2023-08-16T16:00:00+00:00",
          "2023-08-17T12:00:00+00:00",
          "2023-08-17T16:00:00+00:00",
          "2023-08-18T12:00:00+00:00",
          "2023-08-18T16:00:00+00:00",
          "2023-08-21T12:00:00+00:00",
          "2023-08-21T16:00:00+00:00",
          "2023-08-22T12:00:00+00:00",
          "2023-08-22T16:00:00+00:00",
          "2023-08-23T12:00:00+00:00",
          "2023-08-23T16:00:00+00:00",
          "2023-08-24T12:00:00+00:00",
          "2023-08-24T16:00:00+00:00",
          "2023-08-25T12:00:00+00:00",
          "2023-08-25T16:00:00+00:00",
          "2023-08-28T12:00:00+00:00",
          "2023-08-28T16:00:00+00:00",
          "2023-08-29T12:00:00+00:00",
          "2023-08-29T16:00:00+00:00",
          "2023-08-30T12:00:00+00:00",
          "2023-08-30T16:00:00+00:00",
          "2023-08-31T12:00:00+00:00",
          "2023-08-31T16:00:00+00:00",
          "2023-09-01T12:00:00+00:00",
          "2023-09-01T16:00:00+00:00",
          "2023-09-05T12:00:00+00:00",
          "2023-09-05T16:00:00+00:00",
          "2023-09-06T12:00:00+00:00",
          "2023-09-06T16:00:00+00:00",
          "2023-09-07T12:00:00+00:00",
          "2023-09-07T16:00:00+00:00",
          "2023-09-08T12:00:00+00:00",
          "2023-09-08T16:00:00+00:00",
          "2023-09-11T12:00:00+00:00",
          "2023-09-11T16:00:00+00:00",
          "2023-09-12T12:00:00+00:00",
          "2023-09-12T16:00:00+00:00",
          "2023-09-13T12:00:00+00:00",
          "2023-09-13T16:00:00+00:00",
          "2023-09-14T12:00:00+00:00",
          "2023-09-14T16:00:00+00:00",
          "2023-09-15T12:00:00+00:00",
          "2023-09-15T16:00:00+00:00",
          "2023-09-18T12:00:00+00:00",
          "2023-09-18T16:00:00+00:00",
          "2023-09-19T12:00:00+00:00",
          "2023-09-19T16:00:00+00:00",
          "2023-09-20T12:00:00+00:00",
          "2023-09-20T16:00:00+00:00",
          "2023-09-21T12:00:00+00:00",
          "2023-09-21T16:00:00+00:00",
          "2023-09-22T12:00:00+00:00",
          "2023-09-22T16:00:00+00:00",
          "2023-09-25T12:00:00+00:00",
          "2023-09-25T16:00:00+00:00",
          "2023-09-26T12:00:00+00:00",
          "2023-09-26T16:00:00+00:00",
          "2023-09-27T12:00:00+00:00",
          "2023-09-27T16:00:00+00:00",
          "2023-09-28T12:00:00+00:00",
          "2023-09-28T16:00:00+00:00",
          "2023-09-29T12:00:00+00:00",
          "2023-09-29T16:00:00+00:00",
          "2023-10-02T12:00:00+00:00",
          "2023-10-02T16:00:00+00:00",
          "2023-10-03T12:00:00+00:00",
          "2023-10-03T16:00:00+00:00",
          "2023-10-04T12:00:00+00:00",
          "2023-10-04T16:00:00+00:00",
          "2023-10-05T12:00:00+00:00",
          "2023-10-05T16:00:00+00:00",
          "2023-10-06T12:00:00+00:00",
          "2023-10-06T16:00:00+00:00",
          "2023-10-09T12:00:00+00:00",
          "2023-10-09T16:00:00+00:00",
          "2023-10-10T12:00:00+00:00",
          "2023-10-10T16:00:00+00:00",
          "2023-10-11T12:00:00+00:00",
          "2023-10-11T16:00:00+00:00",
          "2023-10-12T12:00:00+00:00",
          "2023-10-12T16:00:00+00:00",
          "2023-10-13T12:00:00+00:00",
          "2023-10-13T16:00:00+00:00",
          "2023-10-16T12:00:00+00:00",
          "2023-10-16T16:00:00+00:00",
          "2023-10-17T12:00:00+00:00",
          "2023-10-17T16:00:00+00:00",
          "2023-10-18T12:00:00+00:00",
          "2023-10-18T16:00:00+00:00",
          "2023-10-19T12:00:00+00:00",
          "2023-10-19T16:00:00+00:00",
          "2023-10-20T12:00:00+00:00",
          "2023-10-20T16:00:00+00:00",
          "2023-10-23T12:00:00+00:00",
          "2023-10-23T16:00:00+00:00",
          "2023-10-24T12:00:00+00:00",
          "2023-10-24T16:00:00+00:00",
          "2023-10-25T12:00:00+00:00",
          "2023-10-25T16:00:00+00:00",
          "2023-10-26T12:00:00+00:00",
          "2023-10-26T16:00:00+00:00",
          "2023-10-27T12:00:00+00:00",
          "2023-10-27T16:00:00+00:00",
          "2023-10-30T12:00:00+00:00",
          "2023-10-30T16:00:00+00:00",
          "2023-10-31T12:00:00+00:00",
          "2023-10-31T16:00:00+00:00",
          "2023-11-01T12:00:00+00:00",
          "2023-11-01T16:00:00+00:00",
          "2023-11-02T12:00:00+00:00",
          "2023-11-02T16:00:00+00:00",
          "2023-11-03T12:00:00+00:00",
          "2023-11-03T16:00:00+00:00",
          "2023-11-06T12:00:00+00:00",
          "2023-11-06T16:00:00+00:00",
          "2023-11-06T20:00:00+00:00",
          "2023-11-07T12:00:00+00:00",
          "2023-11-07T16:00:00+00:00",
          "2023-11-07T20:00:00+00:00",
          "2023-11-08T12:00:00+00:00",
          "2023-11-08T16:00:00+00:00",
          "2023-11-08T20:00:00+00:00",
          "2023-11-09T12:00:00+00:00",
          "2023-11-09T16:00:00+00:00",
          "2023-11-09T20:00:00+00:00",
          "2023-11-10T12:00:00+00:00",
          "2023-11-10T16:00:00+00:00",
          "2023-11-10T20:00:00+00:00",
          "2023-11-13T12:00:00+00:00",
          "2023-11-13T16:00:00+00:00",
          "2023-11-13T20:00:00+00:00",
          "2023-11-14T12:00:00+00:00",
          "2023-11-14T16:00:00+00:00",
          "2023-11-14T20:00:00+00:00",
          "2023-11-15T12:00:00+00:00",
          "2023-11-15T16:00:00+00:00",
          "2023-11-15T20:00:00+00:00",
          "2023-11-16T12:00:00+00:00",
          "2023-11-16T16:00:00+00:00",
          "2023-11-16T20:00:00+00:00",
          "2023-11-17T12:00:00+00:00",
          "2023-11-17T16:00:00+00:00",
          "2023-11-17T20:00:00+00:00",
          "2023-11-20T12:00:00+00:00",
          "2023-11-20T16:00:00+00:00",
          "2023-11-20T20:00:00+00:00",
          "2023-11-21T12:00:00+00:00",
          "2023-11-21T16:00:00+00:00",
          "2023-11-21T20:00:00+00:00",
          "2023-11-22T12:00:00+00:00",
          "2023-11-22T16:00:00+00:00",
          "2023-11-22T20:00:00+00:00",
          "2023-11-24T12:00:00+00:00",
          "2023-11-24T16:00:00+00:00",
          "2023-11-27T12:00:00+00:00",
          "2023-11-27T16:00:00+00:00",
          "2023-11-27T20:00:00+00:00",
          "2023-11-28T12:00:00+00:00",
          "2023-11-28T16:00:00+00:00",
          "2023-11-28T20:00:00+00:00",
          "2023-11-29T12:00:00+00:00",
          "2023-11-29T16:00:00+00:00",
          "2023-11-29T20:00:00+00:00",
          "2023-11-30T12:00:00+00:00",
          "2023-11-30T16:00:00+00:00",
          "2023-11-30T20:00:00+00:00",
          "2023-12-01T12:00:00+00:00",
          "2023-12-01T16:00:00+00:00",
          "2023-12-01T20:00:00+00:00",
          "2023-12-04T12:00:00+00:00",
          "2023-12-04T16:00:00+00:00",
          "2023-12-04T20:00:00+00:00",
          "2023-12-05T12:00:00+00:00",
          "2023-12-05T16:00:00+00:00",
          "2023-12-05T20:00:00+00:00",
          "2023-12-06T12:00:00+00:00",
          "2023-12-06T16:00:00+00:00",
          "2023-12-06T20:00:00+00:00",
          "2023-12-07T12:00:00+00:00",
          "2023-12-07T16:00:00+00:00",
          "2023-12-07T20:00:00+00:00",
          "2023-12-08T12:00:00+00:00",
          "2023-12-08T16:00:00+00:00",
          "2023-12-08T20:00:00+00:00",
          "2023-12-11T12:00:00+00:00",
          "2023-12-11T16:00:00+00:00",
          "2023-12-11T20:00:00+00:00",
          "2023-12-12T12:00:00+00:00",
          "2023-12-12T16:00:00+00:00",
          "2023-12-12T20:00:00+00:00",
          "2023-12-13T12:00:00+00:00",
          "2023-12-13T16:00:00+00:00",
          "2023-12-13T20:00:00+00:00",
          "2023-12-14T12:00:00+00:00",
          "2023-12-14T16:00:00+00:00",
          "2023-12-14T20:00:00+00:00",
          "2023-12-15T12:00:00+00:00",
          "2023-12-15T16:00:00+00:00",
          "2023-12-15T20:00:00+00:00",
          "2023-12-18T12:00:00+00:00",
          "2023-12-18T16:00:00+00:00",
          "2023-12-18T20:00:00+00:00",
          "2023-12-19T12:00:00+00:00",
          "2023-12-19T16:00:00+00:00",
          "2023-12-19T20:00:00+00:00",
          "2023-12-20T12:00:00+00:00",
          "2023-12-20T16:00:00+00:00",
          "2023-12-20T20:00:00+00:00",
          "2023-12-21T12:00:00+00:00",
          "2023-12-21T16:00:00+00:00",
          "2023-12-21T20:00:00+00:00",
          "2023-12-22T12:00:00+00:00",
          "2023-12-22T16:00:00+00:00",
          "2023-12-22T20:00:00+00:00",
          "2023-12-26T12:00:00+00:00",
          "2023-12-26T16:00:00+00:00",
          "2023-12-26T20:00:00+00:00",
          "2023-12-27T12:00:00+00:00",
          "2023-12-27T16:00:00+00:00",
          "2023-12-27T20:00:00+00:00",
          "2023-12-28T12:00:00+00:00",
          "2023-12-28T16:00:00+00:00",
          "2023-12-28T20:00:00+00:00",
          "2023-12-29T12:00:00+00:00",
          "2023-12-29T16:00:00+00:00",
          "2023-12-29T20:00:00+00:00",
          "2024-01-02T12:00:00+00:00",
          "2024-01-02T16:00:00+00:00",
          "2024-01-02T20:00:00+00:00",
          "2024-01-03T12:00:00+00:00",
          "2024-01-03T16:00:00+00:00",
          "2024-01-03T20:00:00+00:00",
          "2024-01-04T12:00:00+00:00",
          "2024-01-04T16:00:00+00:00",
          "2024-01-04T20:00:00+00:00",
          "2024-01-05T12:00:00+00:00",
          "2024-01-05T16:00:00+00:00",
          "2024-01-05T20:00:00+00:00",
          "2024-01-08T12:00:00+00:00",
          "2024-01-08T16:00:00+00:00",
          "2024-01-08T20:00:00+00:00",
          "2024-01-09T12:00:00+00:00",
          "2024-01-09T16:00:00+00:00",
          "2024-01-09T20:00:00+00:00",
          "2024-01-10T12:00:00+00:00",
          "2024-01-10T16:00:00+00:00",
          "2024-01-10T20:00:00+00:00",
          "2024-01-11T12:00:00+00:00",
          "2024-01-11T16:00:00+00:00",
          "2024-01-11T20:00:00+00:00",
          "2024-01-12T12:00:00+00:00",
          "2024-01-12T16:00:00+00:00",
          "2024-01-12T20:00:00+00:00",
          "2024-01-16T12:00:00+00:00",
          "2024-01-16T16:00:00+00:00",
          "2024-01-16T20:00:00+00:00",
          "2024-01-17T12:00:00+00:00",
          "2024-01-17T16:00:00+00:00",
          "2024-01-17T20:00:00+00:00",
          "2024-01-18T12:00:00+00:00",
          "2024-01-18T16:00:00+00:00",
          "2024-01-18T20:00:00+00:00",
          "2024-01-19T12:00:00+00:00",
          "2024-01-19T16:00:00+00:00",
          "2024-01-19T20:00:00+00:00",
          "2024-01-22T12:00:00+00:00",
          "2024-01-22T16:00:00+00:00",
          "2024-01-22T20:00:00+00:00",
          "2024-01-23T12:00:00+00:00",
          "2024-01-23T16:00:00+00:00",
          "2024-01-23T20:00:00+00:00",
          "2024-01-24T12:00:00+00:00",
          "2024-01-24T16:00:00+00:00",
          "2024-01-24T20:00:00+00:00",
          "2024-01-25T12:00:00+00:00",
          "2024-01-25T16:00:00+00:00",
          "2024-01-25T20:00:00+00:00",
          "2024-01-26T12:00:00+00:00",
          "2024-01-26T16:00:00+00:00",
          "2024-01-26T20:00:00+00:00",
          "2024-01-29T12:00:00+00:00",
          "2024-01-29T16:00:00+00:00",
          "2024-01-29T20:00:00+00:00",
          "2024-01-30T12:00:00+00:00",
          "2024-01-30T16:00:00+00:00",
          "2024-01-30T20:00:00+00:00",
          "2024-01-31T12:00:00+00:00",
          "2024-01-31T16:00:00+00:00",
          "2024-01-31T20:00:00+00:00",
          "2024-02-01T12:00:00+00:00",
          "2024-02-01T16:00:00+00:00",
          "2024-02-01T20:00:00+00:00",
          "2024-02-02T12:00:00+00:00",
          "2024-02-02T16:00:00+00:00",
          "2024-02-02T20:00:00+00:00",
          "2024-02-05T12:00:00+00:00",
          "2024-02-05T16:00:00+00:00",
          "2024-02-05T20:00:00+00:00",
          "2024-02-06T12:00:00+00:00",
          "2024-02-06T16:00:00+00:00",
          "2024-02-06T20:00:00+00:00",
          "2024-02-07T12:00:00+00:00",
          "2024-02-07T16:00:00+00:00",
          "2024-02-07T20:00:00+00:00",
          "2024-02-08T12:00:00+00:00",
          "2024-02-08T16:00:00+00:00",
          "2024-02-08T20:00:00+00:00",
          "2024-02-09T12:00:00+00:00",
          "2024-02-09T16:00:00+00:00",
          "2024-02-09T20:00:00+00:00",
          "2024-02-12T12:00:00+00:00",
          "2024-02-12T16:00:00+00:00",
          "2024-02-12T20:00:00+00:00",
          "2024-02-13T12:00:00+00:00",
          "2024-02-13T16:00:00+00:00",
          "2024-02-13T20:00:00+00:00",
          "2024-02-14T12:00:00+00:00",
          "2024-02-14T16:00:00+00:00",
          "2024-02-14T20:00:00+00:00",
          "2024-02-15T12:00:00+00:00",
          "2024-02-15T16:00:00+00:00",
          "2024-02-15T20:00:00+00:00",
          "2024-02-16T12:00:00+00:00",
          "2024-02-16T16:00:00+00:00",
          "2024-02-16T20:00:00+00:00",
          "2024-02-20T12:00:00+00:00",
          "2024-02-20T16:00:00+00:00",
          "2024-02-20T20:00:00+00:00",
          "2024-02-21T12:00:00+00:00",
          "2024-02-21T16:00:00+00:00",
          "2024-02-21T20:00:00+00:00",
          "2024-02-22T12:00:00+00:00",
          "2024-02-22T16:00:00+00:00",
          "2024-02-22T20:00:00+00:00",
          "2024-02-23T12:00:00+00:00",
          "2024-02-23T16:00:00+00:00",
          "2024-02-23T20:00:00+00:00",
          "2024-02-26T12:00:00+00:00",
          "2024-02-26T16:00:00+00:00",
          "2024-02-26T20:00:00+00:00",
          "2024-02-27T12:00:00+00:00",
          "2024-02-27T16:00:00+00:00",
          "2024-02-27T20:00:00+00:00",
          "2024-02-28T12:00:00+00:00",
          "2024-02-28T16:00:00+00:00",
          "2024-02-28T20:00:00+00:00",
          "2024-02-29T12:00:00+00:00",
          "2024-02-29T16:00:00+00:00",
          "2024-02-29T20:00:00+00:00",
          "2024-03-01T12:00:00+00:00",
          "2024-03-01T16:00:00+00:00",
          "2024-03-01T20:00:00+00:00",
          "2024-03-04T12:00:00+00:00",
          "2024-03-04T16:00:00+00:00",
          "2024-03-04T20:00:00+00:00",
          "2024-03-05T12:00:00+00:00",
          "2024-03-05T16:00:00+00:00",
          "2024-03-05T20:00:00+00:00",
          "2024-03-06T12:00:00+00:00",
          "2024-03-06T16:00:00+00:00",
          "2024-03-06T20:00:00+00:00",
          "2024-03-07T12:00:00+00:00",
          "2024-03-07T16:00:00+00:00",
          "2024-03-07T20:00:00+00:00",
          "2024-03-08T12:00:00+00:00",
          "2024-03-08T16:00:00+00:00",
          "2024-03-08T20:00:00+00:00",
          "2024-03-11T12:00:00+00:00",
          "2024-03-11T16:00:00+00:00",
          "2024-03-12T12:00:00+00:00",
          "2024-03-12T16:00:00+00:00",
          "2024-03-13T12:00:00+00:00",
          "2024-03-13T16:00:00+00:00",
          "2024-03-14T12:00:00+00:00",
          "2024-03-14T16:00:00+00:00",
          "2024-03-15T12:00:00+00:00",
          "2024-03-15T16:00:00+00:00",
          "2024-03-18T12:00:00+00:00",
          "2024-03-18T16:00:00+00:00",
          "2024-03-19T12:00:00+00:00",
          "2024-03-19T16:00:00+00:00",
          "2024-03-20T12:00:00+00:00",
          "2024-03-20T16:00:00+00:00",
          "2024-03-21T12:00:00+00:00",
          "2024-03-21T16:00:00+00:00",
          "2024-03-22T12:00:00+00:00",
          "2024-03-22T16:00:00+00:00",
          "2024-03-25T12:00:00+00:00",
          "2024-03-25T16:00:00+00:00",
          "2024-03-26T12:00:00+00:00",
          "2024-03-26T16:00:00+00:00",
          "2024-03-27T12:00:00+00:00",
          "2024-03-27T16:00:00+00:00",
          "2024-03-28T12:00:00+00:00",
          "2024-03-28T16:00:00+00:00",
          "2024-04-01T12:00:00+00:00",
          "2024-04-01T16:00:00+00:00",
          "2024-04-02T12:00:00+00:00",
          "2024-04-02T16:00:00+00:00",
          "2024-04-03T12:00:00+00:00",
          "2024-04-03T16:00:00+00:00",
          "2024-04-04T12:00:00+00:00",
          "2024-04-04T16:00:00+00:00",
          "2024-04-05T12:00:00+00:00",
          "2024-04-05T16:00:00+00:00",
          "2024-04-08T12:00:00+00:00",
          "2024-04-08T16:00:00+00:00",
          "2024-04-09T12:00:00+00:00",
          "2024-04-09T16:00:00+00:00",
          "2024-04-10T12:00:00+00:00",
          "2024-04-10T16:00:00+00:00",
          "2024-04-11T12:00:00+00:00",
          "2024-04-11T16:00:00+00:00",
          "2024-04-12T12:00:00+00:00",
          "2024-04-12T16:00:00+00:00",
          "2024-04-15T12:00:00+00:00",
          "2024-04-15T16:00:00+00:00",
          "2024-04-16T12:00:00+00:00",
          "2024-04-16T16:00:00+00:00",
          "2024-04-17T12:00:00+00:00",
          "2024-04-17T16:00:00+00:00",
          "2024-04-18T12:00:00+00:00",
          "2024-04-18T16:00:00+00:00",
          "2024-04-19T12:00:00+00:00",
          "2024-04-19T16:00:00+00:00",
          "2024-04-22T12:00:00+00:00",
          "2024-04-22T16:00:00+00:00",
          "2024-04-23T12:00:00+00:00",
          "2024-04-23T16:00:00+00:00",
          "2024-04-24T12:00:00+00:00",
          "2024-04-24T16:00:00+00:00",
          "2024-04-25T12:00:00+00:00",
          "2024-04-25T16:00:00+00:00",
          "2024-04-26T12:00:00+00:00",
          "2024-04-26T16:00:00+00:00",
          "2024-04-29T12:00:00+00:00",
          "2024-04-29T16:00:00+00:00",
          "2024-04-30T12:00:00+00:00",
          "2024-04-30T16:00:00+00:00",
          "2024-05-01T12:00:00+00:00",
          "2024-05-01T16:00:00+00:00",
          "2024-05-02T12:00:00+00:00",
          "2024-05-02T16:00:00+00:00",
          "2024-05-03T12:00:00+00:00",
          "2024-05-03T16:00:00+00:00",
          "2024-05-06T12:00:00+00:00",
          "2024-05-06T16:00:00+00:00",
          "2024-05-07T12:00:00+00:00",
          "2024-05-07T16:00:00+00:00",
          "2024-05-08T12:00:00+00:00",
          "2024-05-08T16:00:00+00:00",
          "2024-05-09T12:00:00+00:00",
          "2024-05-09T16:00:00+00:00",
          "2024-05-10T12:00:00+00:00",
          "2024-05-10T16:00:00+00:00",
          "2024-05-13T12:00:00+00:00",
          "2024-05-13T16:00:00+00:00",
          "2024-05-14T12:00:00+00:00",
          "2024-05-14T16:00:00+00:00",
          "2024-05-15T12:00:00+00:00",
          "2024-05-15T16:00:00+00:00",
          "2024-05-16T12:00:00+00:00",
          "2024-05-16T16:00:00+00:00",
          "2024-05-17T12:00:00+00:00",
          "2024-05-17T16:00:00+00:00",
          "2024-05-20T12:00:00+00:00",
          "2024-05-20T16:00:00+00:00",
          "2024-05-21T12:00:00+00:00",
          "2024-05-21T16:00:00+00:00",
          "2024-05-22T12:00:00+00:00",
          "2024-05-22T16:00:00+00:00",
          "2024-05-23T12:00:00+00:00",
          "2024-05-23T16:00:00+00:00",
          "2024-05-24T12:00:00+00:00",
          "2024-05-24T16:00:00+00:00",
          "2024-05-28T12:00:00+00:00",
          "2024-05-28T16:00:00+00:00",
          "2024-05-29T12:00:00+00:00",
          "2024-05-29T16:00:00+00:00",
          "2024-05-30T12:00:00+00:00",
          "2024-05-30T16:00:00+00:00",
          "2024-05-31T12:00:00+00:00",
          "2024-05-31T16:00:00+00:00",
          "2024-06-03T12:00:00+00:00",
          "2024-06-03T16:00:00+00:00",
          "2024-06-04T12:00:00+00:00",
          "2024-06-04T16:00:00+00:00",
          "2024-06-05T12:00:00+00:00",
          "2024-06-05T16:00:00+00:00",
          "2024-06-06T12:00:00+00:00",
          "2024-06-06T16:00:00+00:00",
          "2024-06-07T12:00:00+00:00",
          "2024-06-07T16:00:00+00:00",
          "2024-06-10T12:00:00+00:00",
          "2024-06-10T16:00:00+00:00",
          "2024-06-11T12:00:00+00:00",
          "2024-06-11T16:00:00+00:00",
          "2024-06-12T12:00:00+00:00",
          "2024-06-12T16:00:00+00:00",
          "2024-06-13T12:00:00+00:00",
          "2024-06-13T16:00:00+00:00",
          "2024-06-14T12:00:00+00:00",
          "2024-06-14T16:00:00+00:00",
          "2024-06-17T12:00:00+00:00",
          "2024-06-17T16:00:00+00:00",
          "2024-06-18T12:00:00+00:00",
          "2024-06-18T16:00:00+00:00",
          "2024-06-20T12:00:00+00:00",
          "2024-06-20T16:00:00+00:00",
          "2024-06-21T12:00:00+00:00",
          "2024-06-21T16:00:00+00:00",
          "2024-06-24T12:00:00+00:00",
          "2024-06-24T16:00:00+00:00",
          "2024-06-25T12:00:00+00:00",
          "2024-06-25T16:00:00+00:00",
          "2024-06-26T12:00:00+00:00",
          "2024-06-26T16:00:00+00:00",
          "2024-06-27T12:00:00+00:00",
          "2024-06-27T16:00:00+00:00",
          "2024-06-28T12:00:00+00:00",
          "2024-06-28T16:00:00+00:00",
          "2024-07-01T12:00:00+00:00",
          "2024-07-01T16:00:00+00:00",
          "2024-07-02T12:00:00+00:00",
          "2024-07-02T16:00:00+00:00",
          "2024-07-03T12:00:00+00:00",
          "2024-07-03T16:00:00+00:00",
          "2024-07-05T12:00:00+00:00",
          "2024-07-05T16:00:00+00:00",
          "2024-07-08T12:00:00+00:00",
          "2024-07-08T16:00:00+00:00",
          "2024-07-09T12:00:00+00:00",
          "2024-07-09T16:00:00+00:00",
          "2024-07-10T12:00:00+00:00",
          "2024-07-10T16:00:00+00:00",
          "2024-07-11T12:00:00+00:00",
          "2024-07-11T16:00:00+00:00",
          "2024-07-12T12:00:00+00:00",
          "2024-07-12T16:00:00+00:00",
          "2024-07-15T12:00:00+00:00",
          "2024-07-15T16:00:00+00:00",
          "2024-07-16T12:00:00+00:00",
          "2024-07-16T16:00:00+00:00",
          "2024-07-17T12:00:00+00:00",
          "2024-07-17T16:00:00+00:00",
          "2024-07-18T12:00:00+00:00",
          "2024-07-18T16:00:00+00:00",
          "2024-07-19T12:00:00+00:00",
          "2024-07-19T16:00:00+00:00",
          "2024-07-22T12:00:00+00:00",
          "2024-07-22T16:00:00+00:00",
          "2024-07-23T12:00:00+00:00",
          "2024-07-23T16:00:00+00:00",
          "2024-07-24T12:00:00+00:00",
          "2024-07-24T16:00:00+00:00",
          "2024-07-25T12:00:00+00:00",
          "2024-07-25T16:00:00+00:00",
          "2024-07-26T12:00:00+00:00",
          "2024-07-26T16:00:00+00:00",
          "2024-07-29T12:00:00+00:00",
          "2024-07-29T16:00:00+00:00",
          "2024-07-30T12:00:00+00:00",
          "2024-07-30T16:00:00+00:00",
          "2024-07-31T12:00:00+00:00",
          "2024-07-31T16:00:00+00:00",
          "2024-08-01T12:00:00+00:00",
          "2024-08-01T16:00:00+00:00",
          "2024-08-02T12:00:00+00:00",
          "2024-08-02T16:00:00+00:00",
          "2024-08-05T12:00:00+00:00",
          "2024-08-05T16:00:00+00:00",
          "2024-08-06T12:00:00+00:00",
          "2024-08-06T16:00:00+00:00",
          "2024-08-07T12:00:00+00:00",
          "2024-08-07T16:00:00+00:00",
          "2024-08-08T12:00:00+00:00",
          "2024-08-08T16:00:00+00:00",
          "2024-08-09T12:00:00+00:00",
          "2024-08-09T16:00:00+00:00",
          "2024-08-12T12:00:00+00:00",
          "2024-08-12T16:00:00+00:00",
          "2024-08-13T12:00:00+00:00",
          "2024-08-13T16:00:00+00:00",
          "2024-08-14T12:00:00+00:00",
          "2024-08-14T16:00:00+00:00",
          "2024-08-15T12:00:00+00:00",
          "2024-08-15T16:00:00+00:00",
          "2024-08-16T12:00:00+00:00",
          "2024-08-16T16:00:00+00:00",
          "2024-08-19T12:00:00+00:00",
          "2024-08-19T16:00:00+00:00",
          "2024-08-20T12:00:00+00:00",
          "2024-08-20T16:00:00+00:00",
          "2024-08-21T12:00:00+00:00",
          "2024-08-21T16:00:00+00:00",
          "2024-08-22T12:00:00+00:00",
          "2024-08-22T16:00:00+00:00",
          "2024-08-23T12:00:00+00:00",
          "2024-08-23T16:00:00+00:00",
          "2024-08-26T12:00:00+00:00",
          "2024-08-26T16:00:00+00:00",
          "2024-08-27T12:00:00+00:00",
          "2024-08-27T16:00:00+00:00",
          "2024-08-28T12:00:00+00:00",
          "2024-08-28T16:00:00+00:00",
          "2024-08-29T12:00:00+00:00",
          "2024-08-29T16:00:00+00:00",
          "2024-08-30T12:00:00+00:00",
          "2024-08-30T16:00:00+00:00"
         ],
         "xaxis": "x",
         "y": [
          10000,
          10000,
          10000,
          10000,
          10000,
          10000,
          10000,
          10000,
          10000,
          10000,
          10000,
          10000,
          10000,
          10000,
          10000,
          10000,
          10000,
          10000,
          10000,
          10000,
          10000,
          10000,
          10000,
          10000,
          10000,
          10000,
          10000,
          10000,
          10000,
          10000,
          10000,
          10000,
          10000,
          10000,
          10000,
          10000,
          10000,
          10000,
          10000,
          10000,
          10000,
          10000,
          10000,
          10000,
          10000,
          10000,
          10000,
          10000,
          10000,
          10000,
          10000,
          10000,
          10000,
          10000,
          10000,
          10000,
          10000,
          10000,
          10000,
          10000,
          10000,
          10000,
          10000,
          10000,
          10000,
          10000,
          10000,
          10000,
          10000,
          10000,
          10000,
          10000,
          10000,
          10000,
          10000,
          10000,
          10000,
          10000,
          10000,
          10000,
          10000,
          10000,
          10000,
          10000,
          10000,
          10000,
          10000,
          10000,
          10000,
          10000,
          10000,
          10000,
          10000,
          10000,
          10000,
          10000,
          10000,
          10000,
          10000,
          10000,
          10000,
          10000,
          10000,
          10000,
          10000,
          10000,
          10000,
          10000,
          10000,
          10000,
          10000,
          10000,
          10000,
          10000,
          10000,
          10000,
          10000,
          10000,
          10000,
          10000,
          10000,
          9979.417162,
          9930.447162,
          9994.357162,
          10020.087162,
          10028.387162,
          10000.997162000001,
          9976.097162,
          9987.717162,
          10012.617162,
          10043.327162,
          10062.417162,
          10054.947162,
          10043.327162,
          10039.177162,
          10043.327162,
          10035.857162,
          10041.667162,
          10043.327162,
          10026.727162000001,
          10000.997162000001,
          10029.217162,
          10020.087162,
          10009.297162,
          10013.447162,
          9984.397162000001,
          10000.167162,
          10002.657162,
          9996.847162,
          9998.507162,
          9998.507162,
          10011.787162,
          10024.237162,
          10022.577162,
          10030.877162,
          10041.667162,
          10049.967162,
          10035.857162,
          10035.857162,
          10040.837162,
          10054.117162,
          10054.117162,
          10054.117162,
          10054.117162,
          10054.117162,
          10054.117162,
          10054.117162,
          10054.117162,
          10054.117162,
          10054.117162,
          10054.117162,
          10054.117162,
          10054.117162,
          10054.117162,
          10054.117162,
          10054.117162,
          10054.117162,
          10054.117162,
          10054.117162,
          10054.117162,
          10047.883291,
          10043.623291,
          10062.793291,
          10022.323291,
          10035.103291000001,
          10028.713291,
          9956.293291,
          9936.634118596949,
          9938.707763596949,
          9873.74776359695,
          9952.91776359695,
          9948.857763596949,
          9952.91776359695,
          9918.407763596948,
          9912.317763596948,
          10178.24776359695,
          10149.82776359695,
          10166.067763596948,
          10153.887763596947,
          10153.887763596947,
          10153.887763596947,
          10153.887763596947,
          10153.887763596947,
          10153.887763596947,
          10153.887763596947,
          10153.887763596947,
          10153.887763596947,
          10153.887763596947,
          10153.887763596947,
          10153.887763596947,
          10153.887763596947,
          10153.887763596947,
          10153.887763596947,
          10153.887763596947,
          10153.887763596947,
          10153.887763596947,
          10153.887763596947,
          10153.887763596947,
          10153.887763596947,
          10153.887763596947,
          10153.887763596947,
          10153.887763596947,
          10153.887763596947,
          10153.887763596947,
          10153.887763596947,
          10153.887763596947,
          10153.887763596947,
          10153.887763596947,
          10153.887763596947,
          10153.887763596947,
          10153.887763596947,
          10153.887763596947,
          10153.887763596947,
          10153.887763596947,
          10153.887763596947,
          10153.887763596947,
          10153.887763596947,
          10153.887763596947,
          10153.887763596947,
          10153.887763596947,
          10153.887763596947,
          10153.887763596947,
          10153.887763596947,
          10153.887763596947,
          10153.887763596947,
          10153.887763596947,
          10153.887763596947,
          10153.887763596947,
          10153.887763596947,
          10153.887763596947,
          10153.887763596947,
          10153.887763596947,
          10153.887763596947,
          10153.887763596947,
          10153.887763596947,
          10153.887763596947,
          10153.887763596947,
          10153.887763596947,
          10153.887763596947,
          10153.887763596947,
          10153.887763596947,
          10153.887763596947,
          10153.887763596947,
          10153.887763596947,
          10153.887763596947,
          10153.887763596947,
          10153.887763596947,
          10153.887763596947,
          10153.887763596947,
          10153.887763596947,
          10153.887763596947,
          10153.887763596947,
          10153.887763596947,
          10153.887763596947,
          10153.887763596947,
          10153.887763596947,
          10153.887763596947,
          10153.887763596947,
          10153.887763596947,
          10153.887763596947,
          10153.887763596947,
          10153.887763596947,
          10153.887763596947,
          10153.887763596947,
          10153.887763596947,
          10153.887763596947,
          10153.887763596947,
          10153.887763596947,
          10153.887763596947,
          10153.887763596947,
          10153.887763596947,
          10153.887763596947,
          10153.887763596947,
          10153.887763596947,
          10153.887763596947,
          10153.887763596947,
          10153.887763596947,
          10153.887763596947,
          10153.887763596947,
          10153.887763596947,
          10153.887763596947,
          10153.887763596947,
          10153.887763596947,
          10153.887763596947,
          10153.887763596947,
          10153.887763596947,
          10153.887763596947,
          10153.887763596947,
          10153.887763596947,
          10153.887763596947,
          10153.887763596947,
          10153.887763596947,
          10153.887763596947,
          10153.887763596947,
          10153.887763596947,
          10153.887763596947,
          10153.887763596947,
          10153.887763596947,
          10153.887763596947,
          10153.887763596947,
          10153.887763596947,
          10153.887763596947,
          10153.887763596947,
          10153.887763596947,
          10153.887763596947,
          10153.887763596947,
          10153.887763596947,
          10153.887763596947,
          10153.887763596947,
          10153.887763596947,
          10153.887763596947,
          10153.887763596947,
          10153.887763596947,
          10153.887763596947,
          10153.887763596947,
          10153.887763596947,
          10153.887763596947,
          10153.887763596947,
          10153.887763596947,
          10153.887763596947,
          10153.887763596947,
          10153.887763596947,
          10153.887763596947,
          10153.887763596947,
          10153.887763596947,
          10153.887763596947,
          10153.887763596947,
          10153.887763596947,
          10153.887763596947,
          10153.887763596947,
          10153.887763596947,
          10153.887763596947,
          10153.887763596947,
          10153.887763596947,
          10153.887763596947,
          10153.887763596947,
          10153.887763596947,
          10153.887763596947,
          10153.887763596947,
          10153.887763596947,
          10153.887763596947,
          10153.887763596947,
          10153.887763596947,
          10153.887763596947,
          10153.887763596947,
          10153.887763596947,
          10153.887763596947,
          10153.887763596947,
          10153.887763596947,
          10153.887763596947,
          10153.887763596947,
          10153.887763596947,
          10153.887763596947,
          10153.887763596947,
          10153.887763596947,
          10153.887763596947,
          10153.887763596947,
          10153.887763596947,
          10153.887763596947,
          10153.887763596947,
          10153.887763596947,
          10153.887763596947,
          10153.887763596947,
          10153.887763596947,
          10153.887763596947,
          10153.887763596947,
          10153.887763596947,
          10153.887763596947,
          10153.887763596947,
          10153.887763596947,
          10151.043763596947,
          10130.883763596947,
          10119.363763596948,
          10048.192412439503,
          9995.621314439502,
          9997.041314439502,
          10019.761314439502,
          9974.321314439501,
          9943.341112198483,
          9939.334382198482,
          9939.334382198482,
          9930.157682198482,
          9937.957682198481,
          9915.85768219848,
          9904.157682198482,
          9986.057682198481,
          10040.657682198482,
          10004.257682198482,
          10010.757682198482,
          9986.057682198481,
          10018.557682198481,
          9975.657682198482,
          9962.657682198482,
          9936.657682198482,
          9945.757682198482,
          9991.257682198482,
          9989.957682198481,
          10012.057682198481,
          10036.757682198482,
          10095.257682198482,
          10132.957682198481,
          10122.557682198481,
          10087.551152198483,
          10078.451152198482,
          10079.751152198482,
          10131.751152198482,
          10135.651152198481,
          10127.851152198482,
          10146.051152198483,
          10081.051152198483,
          10101.851152198482,
          10057.651152198481,
          10071.951152198482,
          10044.651152198481,
          10017.345821573692,
          10017.345821573692,
          10017.345821573692,
          10017.345821573692,
          10017.345821573692,
          10017.345821573692,
          10017.345821573692,
          10017.345821573692,
          10017.345821573692,
          10017.345821573692,
          10017.345821573692,
          10017.345821573692,
          10017.345821573692,
          10017.345821573692,
          10009.187453573692,
          10010.547453573692,
          10006.467453573692,
          9971.107453573692,
          9938.467453573692,
          9913.090721050241,
          9933.827671050241,
          9901.327671050241,
          9889.62767105024,
          9876.62767105024,
          9874.027671050242,
          9855.827671050241,
          9859.727671050241,
          9850.627671050242,
          9862.327671050241,
          9924.727671050241,
          9907.827671050241,
          9919.527671050242,
          9924.727671050241,
          9903.927671050242,
          9871.427671050242,
          9809.982153928693,
          9812.506892928694,
          9773.936892928694,
          9761.966892928693,
          9742.016892928694,
          9735.366892928692,
          9694.136892928695,
          9678.310850928694,
          9644.230850928694,
          9618.670850928695,
          9581.750850928694,
          9558.905325928694,
          9533.525325928693,
          9546.215325928693,
          9629.405325928694,
          9606.845325928694,
          9613.895325928694,
          9653.375325928693,
          9616.715325928693,
          9580.055325928693,
          9577.235325928694,
          9581.465325928693,
          9681.575325928694,
          9706.955325928695,
          9706.955325928695,
          9716.825325928694,
          9733.745325928694,
          9732.335325928694,
          9777.455325928695,
          9777.455325928695,
          9777.455325928695,
          9777.455325928695,
          9777.455325928695,
          9777.455325928695,
          9777.455325928695,
          9777.455325928695,
          9777.455325928695,
          9777.455325928695,
          9777.455325928695,
          9777.455325928695,
          9777.455325928695,
          9777.455325928695,
          9777.455325928695,
          9777.455325928695,
          9777.455325928695,
          9777.455325928695,
          9777.455325928695,
          9777.455325928695,
          9777.455325928695,
          9777.455325928695,
          9777.455325928695,
          9777.455325928695,
          9777.455325928695,
          9777.455325928695,
          9777.455325928695,
          9777.455325928695,
          9777.455325928695,
          9777.455325928695,
          9777.455325928695,
          9777.455325928695,
          9777.455325928695,
          9777.455325928695,
          9777.455325928695,
          9777.455325928695,
          9777.455325928695,
          9777.455325928695,
          9777.455325928695,
          9777.455325928695,
          9777.455325928695,
          9777.455325928695,
          9777.455325928695,
          9777.455325928695,
          9777.455325928695,
          9777.455325928695,
          9777.455325928695,
          9777.455325928695,
          9777.455325928695,
          9777.455325928695,
          9777.455325928695,
          9777.455325928695,
          9777.455325928695,
          9777.455325928695,
          9777.455325928695,
          9777.455325928695,
          9777.455325928695,
          9777.455325928695,
          9777.455325928695,
          9777.455325928695,
          9777.455325928695,
          9777.455325928695,
          9771.900509928695,
          9755.260509928696,
          9755.260509928696,
          9741.180509928694,
          9684.244105646794,
          9649.041721646794,
          9583.376107262424,
          9637.986141262423,
          9611.486141262423,
          9608.306141262423,
          9621.026141262424,
          9621.026141262424,
          9628.446141262424,
          9644.346141262424,
          9646.466141262423,
          9615.726141262423,
          9580.746141262423,
          9556.366141262424,
          9547.886141262423,
          9521.386141262423,
          9507.606141262424,
          9484.15379176891,
          9470.217788768909,
          9470.217788768909,
          9700.93778876891,
          9650.467788768909,
          9557.76778876891,
          9525.83778876891,
          9523.77778876891,
          9442.407788768909,
          9606.17778876891,
          9614.41778876891,
          9529.957788768908,
          9543.34778876891,
          9469.18778876891,
          9513.477788768909,
          9471.24778876891,
          9488.75778876891,
          9483.60778876891,
          9473.307788768909,
          9509.35778876891,
          9509.35778876891,
          9509.35778876891,
          9509.35778876891,
          9509.35778876891,
          9509.35778876891,
          9509.35778876891,
          9509.35778876891,
          9509.35778876891,
          9509.35778876891,
          9509.35778876891,
          9509.35778876891,
          9509.35778876891,
          9509.35778876891,
          9509.35778876891,
          9509.35778876891,
          9509.35778876891,
          9509.35778876891,
          9509.35778876891,
          9509.35778876891,
          9509.35778876891,
          9509.35778876891,
          9509.35778876891,
          9509.35778876891,
          9509.35778876891,
          9509.35778876891,
          9509.35778876891,
          9509.35778876891,
          9509.35778876891,
          9509.35778876891
         ],
         "yaxis": "y"
        }
       ],
       "layout": {
        "legend": {
         "tracegroupgap": 0
        },
        "margin": {
         "t": 60
        },
        "template": {
         "data": {
          "bar": [
           {
            "error_x": {
             "color": "#2a3f5f"
            },
            "error_y": {
             "color": "#2a3f5f"
            },
            "marker": {
             "line": {
              "color": "#E5ECF6",
              "width": 0.5
             },
             "pattern": {
              "fillmode": "overlay",
              "size": 10,
              "solidity": 0.2
             }
            },
            "type": "bar"
           }
          ],
          "barpolar": [
           {
            "marker": {
             "line": {
              "color": "#E5ECF6",
              "width": 0.5
             },
             "pattern": {
              "fillmode": "overlay",
              "size": 10,
              "solidity": 0.2
             }
            },
            "type": "barpolar"
           }
          ],
          "carpet": [
           {
            "aaxis": {
             "endlinecolor": "#2a3f5f",
             "gridcolor": "white",
             "linecolor": "white",
             "minorgridcolor": "white",
             "startlinecolor": "#2a3f5f"
            },
            "baxis": {
             "endlinecolor": "#2a3f5f",
             "gridcolor": "white",
             "linecolor": "white",
             "minorgridcolor": "white",
             "startlinecolor": "#2a3f5f"
            },
            "type": "carpet"
           }
          ],
          "choropleth": [
           {
            "colorbar": {
             "outlinewidth": 0,
             "ticks": ""
            },
            "type": "choropleth"
           }
          ],
          "contour": [
           {
            "colorbar": {
             "outlinewidth": 0,
             "ticks": ""
            },
            "colorscale": [
             [
              0,
              "#0d0887"
             ],
             [
              0.1111111111111111,
              "#46039f"
             ],
             [
              0.2222222222222222,
              "#7201a8"
             ],
             [
              0.3333333333333333,
              "#9c179e"
             ],
             [
              0.4444444444444444,
              "#bd3786"
             ],
             [
              0.5555555555555556,
              "#d8576b"
             ],
             [
              0.6666666666666666,
              "#ed7953"
             ],
             [
              0.7777777777777778,
              "#fb9f3a"
             ],
             [
              0.8888888888888888,
              "#fdca26"
             ],
             [
              1,
              "#f0f921"
             ]
            ],
            "type": "contour"
           }
          ],
          "contourcarpet": [
           {
            "colorbar": {
             "outlinewidth": 0,
             "ticks": ""
            },
            "type": "contourcarpet"
           }
          ],
          "heatmap": [
           {
            "colorbar": {
             "outlinewidth": 0,
             "ticks": ""
            },
            "colorscale": [
             [
              0,
              "#0d0887"
             ],
             [
              0.1111111111111111,
              "#46039f"
             ],
             [
              0.2222222222222222,
              "#7201a8"
             ],
             [
              0.3333333333333333,
              "#9c179e"
             ],
             [
              0.4444444444444444,
              "#bd3786"
             ],
             [
              0.5555555555555556,
              "#d8576b"
             ],
             [
              0.6666666666666666,
              "#ed7953"
             ],
             [
              0.7777777777777778,
              "#fb9f3a"
             ],
             [
              0.8888888888888888,
              "#fdca26"
             ],
             [
              1,
              "#f0f921"
             ]
            ],
            "type": "heatmap"
           }
          ],
          "heatmapgl": [
           {
            "colorbar": {
             "outlinewidth": 0,
             "ticks": ""
            },
            "colorscale": [
             [
              0,
              "#0d0887"
             ],
             [
              0.1111111111111111,
              "#46039f"
             ],
             [
              0.2222222222222222,
              "#7201a8"
             ],
             [
              0.3333333333333333,
              "#9c179e"
             ],
             [
              0.4444444444444444,
              "#bd3786"
             ],
             [
              0.5555555555555556,
              "#d8576b"
             ],
             [
              0.6666666666666666,
              "#ed7953"
             ],
             [
              0.7777777777777778,
              "#fb9f3a"
             ],
             [
              0.8888888888888888,
              "#fdca26"
             ],
             [
              1,
              "#f0f921"
             ]
            ],
            "type": "heatmapgl"
           }
          ],
          "histogram": [
           {
            "marker": {
             "pattern": {
              "fillmode": "overlay",
              "size": 10,
              "solidity": 0.2
             }
            },
            "type": "histogram"
           }
          ],
          "histogram2d": [
           {
            "colorbar": {
             "outlinewidth": 0,
             "ticks": ""
            },
            "colorscale": [
             [
              0,
              "#0d0887"
             ],
             [
              0.1111111111111111,
              "#46039f"
             ],
             [
              0.2222222222222222,
              "#7201a8"
             ],
             [
              0.3333333333333333,
              "#9c179e"
             ],
             [
              0.4444444444444444,
              "#bd3786"
             ],
             [
              0.5555555555555556,
              "#d8576b"
             ],
             [
              0.6666666666666666,
              "#ed7953"
             ],
             [
              0.7777777777777778,
              "#fb9f3a"
             ],
             [
              0.8888888888888888,
              "#fdca26"
             ],
             [
              1,
              "#f0f921"
             ]
            ],
            "type": "histogram2d"
           }
          ],
          "histogram2dcontour": [
           {
            "colorbar": {
             "outlinewidth": 0,
             "ticks": ""
            },
            "colorscale": [
             [
              0,
              "#0d0887"
             ],
             [
              0.1111111111111111,
              "#46039f"
             ],
             [
              0.2222222222222222,
              "#7201a8"
             ],
             [
              0.3333333333333333,
              "#9c179e"
             ],
             [
              0.4444444444444444,
              "#bd3786"
             ],
             [
              0.5555555555555556,
              "#d8576b"
             ],
             [
              0.6666666666666666,
              "#ed7953"
             ],
             [
              0.7777777777777778,
              "#fb9f3a"
             ],
             [
              0.8888888888888888,
              "#fdca26"
             ],
             [
              1,
              "#f0f921"
             ]
            ],
            "type": "histogram2dcontour"
           }
          ],
          "mesh3d": [
           {
            "colorbar": {
             "outlinewidth": 0,
             "ticks": ""
            },
            "type": "mesh3d"
           }
          ],
          "parcoords": [
           {
            "line": {
             "colorbar": {
              "outlinewidth": 0,
              "ticks": ""
             }
            },
            "type": "parcoords"
           }
          ],
          "pie": [
           {
            "automargin": true,
            "type": "pie"
           }
          ],
          "scatter": [
           {
            "fillpattern": {
             "fillmode": "overlay",
             "size": 10,
             "solidity": 0.2
            },
            "type": "scatter"
           }
          ],
          "scatter3d": [
           {
            "line": {
             "colorbar": {
              "outlinewidth": 0,
              "ticks": ""
             }
            },
            "marker": {
             "colorbar": {
              "outlinewidth": 0,
              "ticks": ""
             }
            },
            "type": "scatter3d"
           }
          ],
          "scattercarpet": [
           {
            "marker": {
             "colorbar": {
              "outlinewidth": 0,
              "ticks": ""
             }
            },
            "type": "scattercarpet"
           }
          ],
          "scattergeo": [
           {
            "marker": {
             "colorbar": {
              "outlinewidth": 0,
              "ticks": ""
             }
            },
            "type": "scattergeo"
           }
          ],
          "scattergl": [
           {
            "marker": {
             "colorbar": {
              "outlinewidth": 0,
              "ticks": ""
             }
            },
            "type": "scattergl"
           }
          ],
          "scattermapbox": [
           {
            "marker": {
             "colorbar": {
              "outlinewidth": 0,
              "ticks": ""
             }
            },
            "type": "scattermapbox"
           }
          ],
          "scatterpolar": [
           {
            "marker": {
             "colorbar": {
              "outlinewidth": 0,
              "ticks": ""
             }
            },
            "type": "scatterpolar"
           }
          ],
          "scatterpolargl": [
           {
            "marker": {
             "colorbar": {
              "outlinewidth": 0,
              "ticks": ""
             }
            },
            "type": "scatterpolargl"
           }
          ],
          "scatterternary": [
           {
            "marker": {
             "colorbar": {
              "outlinewidth": 0,
              "ticks": ""
             }
            },
            "type": "scatterternary"
           }
          ],
          "surface": [
           {
            "colorbar": {
             "outlinewidth": 0,
             "ticks": ""
            },
            "colorscale": [
             [
              0,
              "#0d0887"
             ],
             [
              0.1111111111111111,
              "#46039f"
             ],
             [
              0.2222222222222222,
              "#7201a8"
             ],
             [
              0.3333333333333333,
              "#9c179e"
             ],
             [
              0.4444444444444444,
              "#bd3786"
             ],
             [
              0.5555555555555556,
              "#d8576b"
             ],
             [
              0.6666666666666666,
              "#ed7953"
             ],
             [
              0.7777777777777778,
              "#fb9f3a"
             ],
             [
              0.8888888888888888,
              "#fdca26"
             ],
             [
              1,
              "#f0f921"
             ]
            ],
            "type": "surface"
           }
          ],
          "table": [
           {
            "cells": {
             "fill": {
              "color": "#EBF0F8"
             },
             "line": {
              "color": "white"
             }
            },
            "header": {
             "fill": {
              "color": "#C8D4E3"
             },
             "line": {
              "color": "white"
             }
            },
            "type": "table"
           }
          ]
         },
         "layout": {
          "annotationdefaults": {
           "arrowcolor": "#2a3f5f",
           "arrowhead": 0,
           "arrowwidth": 1
          },
          "autotypenumbers": "strict",
          "coloraxis": {
           "colorbar": {
            "outlinewidth": 0,
            "ticks": ""
           }
          },
          "colorscale": {
           "diverging": [
            [
             0,
             "#8e0152"
            ],
            [
             0.1,
             "#c51b7d"
            ],
            [
             0.2,
             "#de77ae"
            ],
            [
             0.3,
             "#f1b6da"
            ],
            [
             0.4,
             "#fde0ef"
            ],
            [
             0.5,
             "#f7f7f7"
            ],
            [
             0.6,
             "#e6f5d0"
            ],
            [
             0.7,
             "#b8e186"
            ],
            [
             0.8,
             "#7fbc41"
            ],
            [
             0.9,
             "#4d9221"
            ],
            [
             1,
             "#276419"
            ]
           ],
           "sequential": [
            [
             0,
             "#0d0887"
            ],
            [
             0.1111111111111111,
             "#46039f"
            ],
            [
             0.2222222222222222,
             "#7201a8"
            ],
            [
             0.3333333333333333,
             "#9c179e"
            ],
            [
             0.4444444444444444,
             "#bd3786"
            ],
            [
             0.5555555555555556,
             "#d8576b"
            ],
            [
             0.6666666666666666,
             "#ed7953"
            ],
            [
             0.7777777777777778,
             "#fb9f3a"
            ],
            [
             0.8888888888888888,
             "#fdca26"
            ],
            [
             1,
             "#f0f921"
            ]
           ],
           "sequentialminus": [
            [
             0,
             "#0d0887"
            ],
            [
             0.1111111111111111,
             "#46039f"
            ],
            [
             0.2222222222222222,
             "#7201a8"
            ],
            [
             0.3333333333333333,
             "#9c179e"
            ],
            [
             0.4444444444444444,
             "#bd3786"
            ],
            [
             0.5555555555555556,
             "#d8576b"
            ],
            [
             0.6666666666666666,
             "#ed7953"
            ],
            [
             0.7777777777777778,
             "#fb9f3a"
            ],
            [
             0.8888888888888888,
             "#fdca26"
            ],
            [
             1,
             "#f0f921"
            ]
           ]
          },
          "colorway": [
           "#636efa",
           "#EF553B",
           "#00cc96",
           "#ab63fa",
           "#FFA15A",
           "#19d3f3",
           "#FF6692",
           "#B6E880",
           "#FF97FF",
           "#FECB52"
          ],
          "font": {
           "color": "#2a3f5f"
          },
          "geo": {
           "bgcolor": "white",
           "lakecolor": "white",
           "landcolor": "#E5ECF6",
           "showlakes": true,
           "showland": true,
           "subunitcolor": "white"
          },
          "hoverlabel": {
           "align": "left"
          },
          "hovermode": "closest",
          "mapbox": {
           "style": "light"
          },
          "paper_bgcolor": "white",
          "plot_bgcolor": "#E5ECF6",
          "polar": {
           "angularaxis": {
            "gridcolor": "white",
            "linecolor": "white",
            "ticks": ""
           },
           "bgcolor": "#E5ECF6",
           "radialaxis": {
            "gridcolor": "white",
            "linecolor": "white",
            "ticks": ""
           }
          },
          "scene": {
           "xaxis": {
            "backgroundcolor": "#E5ECF6",
            "gridcolor": "white",
            "gridwidth": 2,
            "linecolor": "white",
            "showbackground": true,
            "ticks": "",
            "zerolinecolor": "white"
           },
           "yaxis": {
            "backgroundcolor": "#E5ECF6",
            "gridcolor": "white",
            "gridwidth": 2,
            "linecolor": "white",
            "showbackground": true,
            "ticks": "",
            "zerolinecolor": "white"
           },
           "zaxis": {
            "backgroundcolor": "#E5ECF6",
            "gridcolor": "white",
            "gridwidth": 2,
            "linecolor": "white",
            "showbackground": true,
            "ticks": "",
            "zerolinecolor": "white"
           }
          },
          "shapedefaults": {
           "line": {
            "color": "#2a3f5f"
           }
          },
          "ternary": {
           "aaxis": {
            "gridcolor": "white",
            "linecolor": "white",
            "ticks": ""
           },
           "baxis": {
            "gridcolor": "white",
            "linecolor": "white",
            "ticks": ""
           },
           "bgcolor": "#E5ECF6",
           "caxis": {
            "gridcolor": "white",
            "linecolor": "white",
            "ticks": ""
           }
          },
          "title": {
           "x": 0.05
          },
          "xaxis": {
           "automargin": true,
           "gridcolor": "white",
           "linecolor": "white",
           "ticks": "",
           "title": {
            "standoff": 15
           },
           "zerolinecolor": "white",
           "zerolinewidth": 2
          },
          "yaxis": {
           "automargin": true,
           "gridcolor": "white",
           "linecolor": "white",
           "ticks": "",
           "title": {
            "standoff": 15
           },
           "zerolinecolor": "white",
           "zerolinewidth": 2
          }
         }
        },
        "title": {
         "text": "MOm, 16388"
        },
        "xaxis": {
         "anchor": "y",
         "domain": [
          0,
          1
         ],
         "title": {
          "text": "Date"
         }
        },
        "yaxis": {
         "anchor": "x",
         "domain": [
          0,
          1
         ],
         "title": {
          "text": "Equity"
         }
        }
       }
      }
     },
     "metadata": {},
     "output_type": "display_data"
    },
    {
     "name": "stdout",
     "output_type": "stream",
     "text": [
      "AMTm 16388\n"
     ]
    },
    {
     "data": {
      "application/vnd.plotly.v1+json": {
       "config": {
        "plotlyServerURL": "https://plot.ly"
       },
       "data": [
        {
         "hovertemplate": "x=%{x}<br>y=%{y}<extra></extra>",
         "legendgroup": "",
         "line": {
          "color": "#636efa",
          "dash": "solid"
         },
         "marker": {
          "symbol": "circle"
         },
         "mode": "lines",
         "name": "",
         "orientation": "v",
         "showlegend": false,
         "textposition": "bottom right",
         "type": "scatter",
         "x": [
          "2023-08-02T16:00:00+00:00",
          "2023-08-03T12:00:00+00:00",
          "2023-08-03T16:00:00+00:00",
          "2023-08-04T12:00:00+00:00",
          "2023-08-04T16:00:00+00:00",
          "2023-08-07T12:00:00+00:00",
          "2023-08-07T16:00:00+00:00",
          "2023-08-08T12:00:00+00:00",
          "2023-08-08T16:00:00+00:00",
          "2023-08-09T12:00:00+00:00",
          "2023-08-09T16:00:00+00:00",
          "2023-08-10T12:00:00+00:00",
          "2023-08-10T16:00:00+00:00",
          "2023-08-11T12:00:00+00:00",
          "2023-08-11T16:00:00+00:00",
          "2023-08-14T12:00:00+00:00",
          "2023-08-14T16:00:00+00:00",
          "2023-08-15T12:00:00+00:00",
          "2023-08-15T16:00:00+00:00",
          "2023-08-16T12:00:00+00:00",
          "2023-08-16T16:00:00+00:00",
          "2023-08-17T12:00:00+00:00",
          "2023-08-17T16:00:00+00:00",
          "2023-08-18T12:00:00+00:00",
          "2023-08-18T16:00:00+00:00",
          "2023-08-21T12:00:00+00:00",
          "2023-08-21T16:00:00+00:00",
          "2023-08-22T12:00:00+00:00",
          "2023-08-22T16:00:00+00:00",
          "2023-08-23T12:00:00+00:00",
          "2023-08-23T16:00:00+00:00",
          "2023-08-24T12:00:00+00:00",
          "2023-08-24T16:00:00+00:00",
          "2023-08-25T12:00:00+00:00",
          "2023-08-25T16:00:00+00:00",
          "2023-08-28T12:00:00+00:00",
          "2023-08-28T16:00:00+00:00",
          "2023-08-29T12:00:00+00:00",
          "2023-08-29T16:00:00+00:00",
          "2023-08-30T12:00:00+00:00",
          "2023-08-30T16:00:00+00:00",
          "2023-08-31T12:00:00+00:00",
          "2023-08-31T16:00:00+00:00",
          "2023-09-01T12:00:00+00:00",
          "2023-09-01T16:00:00+00:00",
          "2023-09-05T12:00:00+00:00",
          "2023-09-05T16:00:00+00:00",
          "2023-09-06T12:00:00+00:00",
          "2023-09-06T16:00:00+00:00",
          "2023-09-07T12:00:00+00:00",
          "2023-09-07T16:00:00+00:00",
          "2023-09-08T12:00:00+00:00",
          "2023-09-08T16:00:00+00:00",
          "2023-09-11T12:00:00+00:00",
          "2023-09-11T16:00:00+00:00",
          "2023-09-12T12:00:00+00:00",
          "2023-09-12T16:00:00+00:00",
          "2023-09-13T12:00:00+00:00",
          "2023-09-13T16:00:00+00:00",
          "2023-09-14T12:00:00+00:00",
          "2023-09-14T16:00:00+00:00",
          "2023-09-15T12:00:00+00:00",
          "2023-09-15T16:00:00+00:00",
          "2023-09-18T12:00:00+00:00",
          "2023-09-18T16:00:00+00:00",
          "2023-09-19T12:00:00+00:00",
          "2023-09-19T16:00:00+00:00",
          "2023-09-20T12:00:00+00:00",
          "2023-09-20T16:00:00+00:00",
          "2023-09-21T12:00:00+00:00",
          "2023-09-21T16:00:00+00:00",
          "2023-09-22T12:00:00+00:00",
          "2023-09-22T16:00:00+00:00",
          "2023-09-25T12:00:00+00:00",
          "2023-09-25T16:00:00+00:00",
          "2023-09-26T12:00:00+00:00",
          "2023-09-26T16:00:00+00:00",
          "2023-09-27T12:00:00+00:00",
          "2023-09-27T16:00:00+00:00",
          "2023-09-28T12:00:00+00:00",
          "2023-09-28T16:00:00+00:00",
          "2023-09-29T12:00:00+00:00",
          "2023-09-29T16:00:00+00:00",
          "2023-10-02T12:00:00+00:00",
          "2023-10-02T16:00:00+00:00",
          "2023-10-03T12:00:00+00:00",
          "2023-10-03T16:00:00+00:00",
          "2023-10-04T12:00:00+00:00",
          "2023-10-04T16:00:00+00:00",
          "2023-10-05T12:00:00+00:00",
          "2023-10-05T16:00:00+00:00",
          "2023-10-06T12:00:00+00:00",
          "2023-10-06T16:00:00+00:00",
          "2023-10-09T12:00:00+00:00",
          "2023-10-09T16:00:00+00:00",
          "2023-10-10T12:00:00+00:00",
          "2023-10-10T16:00:00+00:00",
          "2023-10-11T12:00:00+00:00",
          "2023-10-11T16:00:00+00:00",
          "2023-10-12T12:00:00+00:00",
          "2023-10-12T16:00:00+00:00",
          "2023-10-13T12:00:00+00:00",
          "2023-10-13T16:00:00+00:00",
          "2023-10-16T12:00:00+00:00",
          "2023-10-16T16:00:00+00:00",
          "2023-10-17T12:00:00+00:00",
          "2023-10-17T16:00:00+00:00",
          "2023-10-18T12:00:00+00:00",
          "2023-10-18T16:00:00+00:00",
          "2023-10-19T12:00:00+00:00",
          "2023-10-19T16:00:00+00:00",
          "2023-10-20T12:00:00+00:00",
          "2023-10-20T16:00:00+00:00",
          "2023-10-23T12:00:00+00:00",
          "2023-10-23T16:00:00+00:00",
          "2023-10-24T12:00:00+00:00",
          "2023-10-24T16:00:00+00:00",
          "2023-10-25T12:00:00+00:00",
          "2023-10-25T16:00:00+00:00",
          "2023-10-26T12:00:00+00:00",
          "2023-10-26T16:00:00+00:00",
          "2023-10-27T12:00:00+00:00",
          "2023-10-27T16:00:00+00:00",
          "2023-10-30T12:00:00+00:00",
          "2023-10-30T16:00:00+00:00",
          "2023-10-31T12:00:00+00:00",
          "2023-10-31T16:00:00+00:00",
          "2023-11-01T12:00:00+00:00",
          "2023-11-01T16:00:00+00:00",
          "2023-11-02T12:00:00+00:00",
          "2023-11-02T16:00:00+00:00",
          "2023-11-03T12:00:00+00:00",
          "2023-11-03T16:00:00+00:00",
          "2023-11-06T12:00:00+00:00",
          "2023-11-06T16:00:00+00:00",
          "2023-11-06T20:00:00+00:00",
          "2023-11-07T12:00:00+00:00",
          "2023-11-07T16:00:00+00:00",
          "2023-11-07T20:00:00+00:00",
          "2023-11-08T12:00:00+00:00",
          "2023-11-08T16:00:00+00:00",
          "2023-11-08T20:00:00+00:00",
          "2023-11-09T12:00:00+00:00",
          "2023-11-09T16:00:00+00:00",
          "2023-11-09T20:00:00+00:00",
          "2023-11-10T12:00:00+00:00",
          "2023-11-10T16:00:00+00:00",
          "2023-11-10T20:00:00+00:00",
          "2023-11-13T12:00:00+00:00",
          "2023-11-13T16:00:00+00:00",
          "2023-11-13T20:00:00+00:00",
          "2023-11-14T12:00:00+00:00",
          "2023-11-14T16:00:00+00:00",
          "2023-11-14T20:00:00+00:00",
          "2023-11-15T12:00:00+00:00",
          "2023-11-15T16:00:00+00:00",
          "2023-11-15T20:00:00+00:00",
          "2023-11-16T12:00:00+00:00",
          "2023-11-16T16:00:00+00:00",
          "2023-11-16T20:00:00+00:00",
          "2023-11-17T12:00:00+00:00",
          "2023-11-17T16:00:00+00:00",
          "2023-11-17T20:00:00+00:00",
          "2023-11-20T12:00:00+00:00",
          "2023-11-20T16:00:00+00:00",
          "2023-11-20T20:00:00+00:00",
          "2023-11-21T12:00:00+00:00",
          "2023-11-21T16:00:00+00:00",
          "2023-11-21T20:00:00+00:00",
          "2023-11-22T12:00:00+00:00",
          "2023-11-22T16:00:00+00:00",
          "2023-11-22T20:00:00+00:00",
          "2023-11-24T12:00:00+00:00",
          "2023-11-24T16:00:00+00:00",
          "2023-11-27T12:00:00+00:00",
          "2023-11-27T16:00:00+00:00",
          "2023-11-27T20:00:00+00:00",
          "2023-11-28T12:00:00+00:00",
          "2023-11-28T16:00:00+00:00",
          "2023-11-28T20:00:00+00:00",
          "2023-11-29T12:00:00+00:00",
          "2023-11-29T16:00:00+00:00",
          "2023-11-29T20:00:00+00:00",
          "2023-11-30T12:00:00+00:00",
          "2023-11-30T16:00:00+00:00",
          "2023-11-30T20:00:00+00:00",
          "2023-12-01T12:00:00+00:00",
          "2023-12-01T16:00:00+00:00",
          "2023-12-01T20:00:00+00:00",
          "2023-12-04T12:00:00+00:00",
          "2023-12-04T16:00:00+00:00",
          "2023-12-04T20:00:00+00:00",
          "2023-12-05T12:00:00+00:00",
          "2023-12-05T16:00:00+00:00",
          "2023-12-05T20:00:00+00:00",
          "2023-12-06T12:00:00+00:00",
          "2023-12-06T16:00:00+00:00",
          "2023-12-06T20:00:00+00:00",
          "2023-12-07T12:00:00+00:00",
          "2023-12-07T16:00:00+00:00",
          "2023-12-07T20:00:00+00:00",
          "2023-12-08T12:00:00+00:00",
          "2023-12-08T16:00:00+00:00",
          "2023-12-08T20:00:00+00:00",
          "2023-12-11T12:00:00+00:00",
          "2023-12-11T16:00:00+00:00",
          "2023-12-11T20:00:00+00:00",
          "2023-12-12T12:00:00+00:00",
          "2023-12-12T16:00:00+00:00",
          "2023-12-12T20:00:00+00:00",
          "2023-12-13T12:00:00+00:00",
          "2023-12-13T16:00:00+00:00",
          "2023-12-13T20:00:00+00:00",
          "2023-12-14T12:00:00+00:00",
          "2023-12-14T16:00:00+00:00",
          "2023-12-14T20:00:00+00:00",
          "2023-12-15T12:00:00+00:00",
          "2023-12-15T16:00:00+00:00",
          "2023-12-15T20:00:00+00:00",
          "2023-12-18T12:00:00+00:00",
          "2023-12-18T16:00:00+00:00",
          "2023-12-18T20:00:00+00:00",
          "2023-12-19T12:00:00+00:00",
          "2023-12-19T16:00:00+00:00",
          "2023-12-19T20:00:00+00:00",
          "2023-12-20T12:00:00+00:00",
          "2023-12-20T16:00:00+00:00",
          "2023-12-20T20:00:00+00:00",
          "2023-12-21T12:00:00+00:00",
          "2023-12-21T16:00:00+00:00",
          "2023-12-21T20:00:00+00:00",
          "2023-12-22T12:00:00+00:00",
          "2023-12-22T16:00:00+00:00",
          "2023-12-22T20:00:00+00:00",
          "2023-12-26T12:00:00+00:00",
          "2023-12-26T16:00:00+00:00",
          "2023-12-26T20:00:00+00:00",
          "2023-12-27T12:00:00+00:00",
          "2023-12-27T16:00:00+00:00",
          "2023-12-27T20:00:00+00:00",
          "2023-12-28T12:00:00+00:00",
          "2023-12-28T16:00:00+00:00",
          "2023-12-28T20:00:00+00:00",
          "2023-12-29T12:00:00+00:00",
          "2023-12-29T16:00:00+00:00",
          "2023-12-29T20:00:00+00:00",
          "2024-01-02T12:00:00+00:00",
          "2024-01-02T16:00:00+00:00",
          "2024-01-02T20:00:00+00:00",
          "2024-01-03T12:00:00+00:00",
          "2024-01-03T16:00:00+00:00",
          "2024-01-03T20:00:00+00:00",
          "2024-01-04T12:00:00+00:00",
          "2024-01-04T16:00:00+00:00",
          "2024-01-04T20:00:00+00:00",
          "2024-01-05T12:00:00+00:00",
          "2024-01-05T16:00:00+00:00",
          "2024-01-05T20:00:00+00:00",
          "2024-01-08T12:00:00+00:00",
          "2024-01-08T16:00:00+00:00",
          "2024-01-08T20:00:00+00:00",
          "2024-01-09T12:00:00+00:00",
          "2024-01-09T16:00:00+00:00",
          "2024-01-09T20:00:00+00:00",
          "2024-01-10T12:00:00+00:00",
          "2024-01-10T16:00:00+00:00",
          "2024-01-10T20:00:00+00:00",
          "2024-01-11T12:00:00+00:00",
          "2024-01-11T16:00:00+00:00",
          "2024-01-11T20:00:00+00:00",
          "2024-01-12T12:00:00+00:00",
          "2024-01-12T16:00:00+00:00",
          "2024-01-12T20:00:00+00:00",
          "2024-01-16T12:00:00+00:00",
          "2024-01-16T16:00:00+00:00",
          "2024-01-16T20:00:00+00:00",
          "2024-01-17T12:00:00+00:00",
          "2024-01-17T16:00:00+00:00",
          "2024-01-17T20:00:00+00:00",
          "2024-01-18T12:00:00+00:00",
          "2024-01-18T16:00:00+00:00",
          "2024-01-18T20:00:00+00:00",
          "2024-01-19T12:00:00+00:00",
          "2024-01-19T16:00:00+00:00",
          "2024-01-19T20:00:00+00:00",
          "2024-01-22T12:00:00+00:00",
          "2024-01-22T16:00:00+00:00",
          "2024-01-22T20:00:00+00:00",
          "2024-01-23T12:00:00+00:00",
          "2024-01-23T16:00:00+00:00",
          "2024-01-23T20:00:00+00:00",
          "2024-01-24T12:00:00+00:00",
          "2024-01-24T16:00:00+00:00",
          "2024-01-24T20:00:00+00:00",
          "2024-01-25T12:00:00+00:00",
          "2024-01-25T16:00:00+00:00",
          "2024-01-25T20:00:00+00:00",
          "2024-01-26T12:00:00+00:00",
          "2024-01-26T16:00:00+00:00",
          "2024-01-26T20:00:00+00:00",
          "2024-01-29T12:00:00+00:00",
          "2024-01-29T16:00:00+00:00",
          "2024-01-29T20:00:00+00:00",
          "2024-01-30T12:00:00+00:00",
          "2024-01-30T16:00:00+00:00",
          "2024-01-30T20:00:00+00:00",
          "2024-01-31T12:00:00+00:00",
          "2024-01-31T16:00:00+00:00",
          "2024-01-31T20:00:00+00:00",
          "2024-02-01T12:00:00+00:00",
          "2024-02-01T16:00:00+00:00",
          "2024-02-01T20:00:00+00:00",
          "2024-02-02T12:00:00+00:00",
          "2024-02-02T16:00:00+00:00",
          "2024-02-02T20:00:00+00:00",
          "2024-02-05T12:00:00+00:00",
          "2024-02-05T16:00:00+00:00",
          "2024-02-05T20:00:00+00:00",
          "2024-02-06T12:00:00+00:00",
          "2024-02-06T16:00:00+00:00",
          "2024-02-06T20:00:00+00:00",
          "2024-02-07T12:00:00+00:00",
          "2024-02-07T16:00:00+00:00",
          "2024-02-07T20:00:00+00:00",
          "2024-02-08T12:00:00+00:00",
          "2024-02-08T16:00:00+00:00",
          "2024-02-08T20:00:00+00:00",
          "2024-02-09T12:00:00+00:00",
          "2024-02-09T16:00:00+00:00",
          "2024-02-09T20:00:00+00:00",
          "2024-02-12T12:00:00+00:00",
          "2024-02-12T16:00:00+00:00",
          "2024-02-12T20:00:00+00:00",
          "2024-02-13T12:00:00+00:00",
          "2024-02-13T16:00:00+00:00",
          "2024-02-13T20:00:00+00:00",
          "2024-02-14T12:00:00+00:00",
          "2024-02-14T16:00:00+00:00",
          "2024-02-14T20:00:00+00:00",
          "2024-02-15T12:00:00+00:00",
          "2024-02-15T16:00:00+00:00",
          "2024-02-15T20:00:00+00:00",
          "2024-02-16T12:00:00+00:00",
          "2024-02-16T16:00:00+00:00",
          "2024-02-16T20:00:00+00:00",
          "2024-02-20T12:00:00+00:00",
          "2024-02-20T16:00:00+00:00",
          "2024-02-20T20:00:00+00:00",
          "2024-02-21T12:00:00+00:00",
          "2024-02-21T16:00:00+00:00",
          "2024-02-21T20:00:00+00:00",
          "2024-02-22T12:00:00+00:00",
          "2024-02-22T16:00:00+00:00",
          "2024-02-22T20:00:00+00:00",
          "2024-02-23T12:00:00+00:00",
          "2024-02-23T16:00:00+00:00",
          "2024-02-23T20:00:00+00:00",
          "2024-02-26T12:00:00+00:00",
          "2024-02-26T16:00:00+00:00",
          "2024-02-26T20:00:00+00:00",
          "2024-02-27T12:00:00+00:00",
          "2024-02-27T16:00:00+00:00",
          "2024-02-27T20:00:00+00:00",
          "2024-02-28T12:00:00+00:00",
          "2024-02-28T16:00:00+00:00",
          "2024-02-28T20:00:00+00:00",
          "2024-02-29T12:00:00+00:00",
          "2024-02-29T16:00:00+00:00",
          "2024-02-29T20:00:00+00:00",
          "2024-03-01T12:00:00+00:00",
          "2024-03-01T16:00:00+00:00",
          "2024-03-01T20:00:00+00:00",
          "2024-03-04T12:00:00+00:00",
          "2024-03-04T16:00:00+00:00",
          "2024-03-04T20:00:00+00:00",
          "2024-03-05T12:00:00+00:00",
          "2024-03-05T16:00:00+00:00",
          "2024-03-05T20:00:00+00:00",
          "2024-03-06T12:00:00+00:00",
          "2024-03-06T16:00:00+00:00",
          "2024-03-06T20:00:00+00:00",
          "2024-03-07T12:00:00+00:00",
          "2024-03-07T16:00:00+00:00",
          "2024-03-07T20:00:00+00:00",
          "2024-03-08T12:00:00+00:00",
          "2024-03-08T16:00:00+00:00",
          "2024-03-08T20:00:00+00:00",
          "2024-03-11T12:00:00+00:00",
          "2024-03-11T16:00:00+00:00",
          "2024-03-12T12:00:00+00:00",
          "2024-03-12T16:00:00+00:00",
          "2024-03-13T12:00:00+00:00",
          "2024-03-13T16:00:00+00:00",
          "2024-03-14T12:00:00+00:00",
          "2024-03-14T16:00:00+00:00",
          "2024-03-15T12:00:00+00:00",
          "2024-03-15T16:00:00+00:00",
          "2024-03-18T12:00:00+00:00",
          "2024-03-18T16:00:00+00:00",
          "2024-03-19T12:00:00+00:00",
          "2024-03-19T16:00:00+00:00",
          "2024-03-20T12:00:00+00:00",
          "2024-03-20T16:00:00+00:00",
          "2024-03-21T12:00:00+00:00",
          "2024-03-21T16:00:00+00:00",
          "2024-03-22T12:00:00+00:00",
          "2024-03-22T16:00:00+00:00",
          "2024-03-25T12:00:00+00:00",
          "2024-03-25T16:00:00+00:00",
          "2024-03-26T12:00:00+00:00",
          "2024-03-26T16:00:00+00:00",
          "2024-03-27T12:00:00+00:00",
          "2024-03-27T16:00:00+00:00",
          "2024-03-28T12:00:00+00:00",
          "2024-03-28T16:00:00+00:00",
          "2024-04-01T12:00:00+00:00",
          "2024-04-01T16:00:00+00:00",
          "2024-04-02T12:00:00+00:00",
          "2024-04-02T16:00:00+00:00",
          "2024-04-03T12:00:00+00:00",
          "2024-04-03T16:00:00+00:00",
          "2024-04-04T12:00:00+00:00",
          "2024-04-04T16:00:00+00:00",
          "2024-04-05T12:00:00+00:00",
          "2024-04-05T16:00:00+00:00",
          "2024-04-08T12:00:00+00:00",
          "2024-04-08T16:00:00+00:00",
          "2024-04-09T12:00:00+00:00",
          "2024-04-09T16:00:00+00:00",
          "2024-04-10T12:00:00+00:00",
          "2024-04-10T16:00:00+00:00",
          "2024-04-11T12:00:00+00:00",
          "2024-04-11T16:00:00+00:00",
          "2024-04-12T12:00:00+00:00",
          "2024-04-12T16:00:00+00:00",
          "2024-04-15T12:00:00+00:00",
          "2024-04-15T16:00:00+00:00",
          "2024-04-16T12:00:00+00:00",
          "2024-04-16T16:00:00+00:00",
          "2024-04-17T12:00:00+00:00",
          "2024-04-17T16:00:00+00:00",
          "2024-04-18T12:00:00+00:00",
          "2024-04-18T16:00:00+00:00",
          "2024-04-19T12:00:00+00:00",
          "2024-04-19T16:00:00+00:00",
          "2024-04-22T12:00:00+00:00",
          "2024-04-22T16:00:00+00:00",
          "2024-04-23T12:00:00+00:00",
          "2024-04-23T16:00:00+00:00",
          "2024-04-24T12:00:00+00:00",
          "2024-04-24T16:00:00+00:00",
          "2024-04-25T12:00:00+00:00",
          "2024-04-25T16:00:00+00:00",
          "2024-04-26T12:00:00+00:00",
          "2024-04-26T16:00:00+00:00",
          "2024-04-29T12:00:00+00:00",
          "2024-04-29T16:00:00+00:00",
          "2024-04-30T12:00:00+00:00",
          "2024-04-30T16:00:00+00:00",
          "2024-05-01T12:00:00+00:00",
          "2024-05-01T16:00:00+00:00",
          "2024-05-02T12:00:00+00:00",
          "2024-05-02T16:00:00+00:00",
          "2024-05-03T12:00:00+00:00",
          "2024-05-03T16:00:00+00:00",
          "2024-05-06T12:00:00+00:00",
          "2024-05-06T16:00:00+00:00",
          "2024-05-07T12:00:00+00:00",
          "2024-05-07T16:00:00+00:00",
          "2024-05-08T12:00:00+00:00",
          "2024-05-08T16:00:00+00:00",
          "2024-05-09T12:00:00+00:00",
          "2024-05-09T16:00:00+00:00",
          "2024-05-10T12:00:00+00:00",
          "2024-05-10T16:00:00+00:00",
          "2024-05-13T12:00:00+00:00",
          "2024-05-13T16:00:00+00:00",
          "2024-05-14T12:00:00+00:00",
          "2024-05-14T16:00:00+00:00",
          "2024-05-15T12:00:00+00:00",
          "2024-05-15T16:00:00+00:00",
          "2024-05-16T12:00:00+00:00",
          "2024-05-16T16:00:00+00:00",
          "2024-05-17T12:00:00+00:00",
          "2024-05-17T16:00:00+00:00",
          "2024-05-20T12:00:00+00:00",
          "2024-05-20T16:00:00+00:00",
          "2024-05-21T12:00:00+00:00",
          "2024-05-21T16:00:00+00:00",
          "2024-05-22T12:00:00+00:00",
          "2024-05-22T16:00:00+00:00",
          "2024-05-23T12:00:00+00:00",
          "2024-05-23T16:00:00+00:00",
          "2024-05-24T12:00:00+00:00",
          "2024-05-24T16:00:00+00:00",
          "2024-05-28T12:00:00+00:00",
          "2024-05-28T16:00:00+00:00",
          "2024-05-29T12:00:00+00:00",
          "2024-05-29T16:00:00+00:00",
          "2024-05-30T12:00:00+00:00",
          "2024-05-30T16:00:00+00:00",
          "2024-05-31T12:00:00+00:00",
          "2024-05-31T16:00:00+00:00",
          "2024-06-03T12:00:00+00:00",
          "2024-06-03T16:00:00+00:00",
          "2024-06-04T12:00:00+00:00",
          "2024-06-04T16:00:00+00:00",
          "2024-06-05T12:00:00+00:00",
          "2024-06-05T16:00:00+00:00",
          "2024-06-06T12:00:00+00:00",
          "2024-06-06T16:00:00+00:00",
          "2024-06-07T12:00:00+00:00",
          "2024-06-07T16:00:00+00:00",
          "2024-06-10T12:00:00+00:00",
          "2024-06-10T16:00:00+00:00",
          "2024-06-11T12:00:00+00:00",
          "2024-06-11T16:00:00+00:00",
          "2024-06-12T12:00:00+00:00",
          "2024-06-12T16:00:00+00:00",
          "2024-06-13T12:00:00+00:00",
          "2024-06-13T16:00:00+00:00",
          "2024-06-14T12:00:00+00:00",
          "2024-06-14T16:00:00+00:00",
          "2024-06-17T12:00:00+00:00",
          "2024-06-17T16:00:00+00:00",
          "2024-06-18T12:00:00+00:00",
          "2024-06-18T16:00:00+00:00",
          "2024-06-20T12:00:00+00:00",
          "2024-06-20T16:00:00+00:00",
          "2024-06-21T12:00:00+00:00",
          "2024-06-21T16:00:00+00:00",
          "2024-06-24T12:00:00+00:00",
          "2024-06-24T16:00:00+00:00",
          "2024-06-25T12:00:00+00:00",
          "2024-06-25T16:00:00+00:00",
          "2024-06-26T12:00:00+00:00",
          "2024-06-26T16:00:00+00:00",
          "2024-06-27T12:00:00+00:00",
          "2024-06-27T16:00:00+00:00",
          "2024-06-28T12:00:00+00:00",
          "2024-06-28T16:00:00+00:00",
          "2024-07-01T12:00:00+00:00",
          "2024-07-01T16:00:00+00:00",
          "2024-07-02T12:00:00+00:00",
          "2024-07-02T16:00:00+00:00",
          "2024-07-03T12:00:00+00:00",
          "2024-07-03T16:00:00+00:00",
          "2024-07-05T12:00:00+00:00",
          "2024-07-05T16:00:00+00:00",
          "2024-07-08T12:00:00+00:00",
          "2024-07-08T16:00:00+00:00",
          "2024-07-09T12:00:00+00:00",
          "2024-07-09T16:00:00+00:00",
          "2024-07-10T12:00:00+00:00",
          "2024-07-10T16:00:00+00:00",
          "2024-07-11T12:00:00+00:00",
          "2024-07-11T16:00:00+00:00",
          "2024-07-12T12:00:00+00:00",
          "2024-07-12T16:00:00+00:00",
          "2024-07-15T12:00:00+00:00",
          "2024-07-15T16:00:00+00:00",
          "2024-07-16T12:00:00+00:00",
          "2024-07-16T16:00:00+00:00",
          "2024-07-17T12:00:00+00:00",
          "2024-07-17T16:00:00+00:00",
          "2024-07-18T12:00:00+00:00",
          "2024-07-18T16:00:00+00:00",
          "2024-07-19T12:00:00+00:00",
          "2024-07-19T16:00:00+00:00",
          "2024-07-22T12:00:00+00:00",
          "2024-07-22T16:00:00+00:00",
          "2024-07-23T12:00:00+00:00",
          "2024-07-23T16:00:00+00:00",
          "2024-07-24T12:00:00+00:00",
          "2024-07-24T16:00:00+00:00",
          "2024-07-25T12:00:00+00:00",
          "2024-07-25T16:00:00+00:00",
          "2024-07-26T12:00:00+00:00",
          "2024-07-26T16:00:00+00:00",
          "2024-07-29T12:00:00+00:00",
          "2024-07-29T16:00:00+00:00",
          "2024-07-30T12:00:00+00:00",
          "2024-07-30T16:00:00+00:00",
          "2024-07-31T12:00:00+00:00",
          "2024-07-31T16:00:00+00:00",
          "2024-08-01T12:00:00+00:00",
          "2024-08-01T16:00:00+00:00",
          "2024-08-02T12:00:00+00:00",
          "2024-08-02T16:00:00+00:00",
          "2024-08-05T12:00:00+00:00",
          "2024-08-05T16:00:00+00:00",
          "2024-08-06T12:00:00+00:00",
          "2024-08-06T16:00:00+00:00",
          "2024-08-07T12:00:00+00:00",
          "2024-08-07T16:00:00+00:00",
          "2024-08-08T12:00:00+00:00",
          "2024-08-08T16:00:00+00:00",
          "2024-08-09T12:00:00+00:00",
          "2024-08-09T16:00:00+00:00",
          "2024-08-12T12:00:00+00:00",
          "2024-08-12T16:00:00+00:00",
          "2024-08-13T12:00:00+00:00",
          "2024-08-13T16:00:00+00:00",
          "2024-08-14T12:00:00+00:00",
          "2024-08-14T16:00:00+00:00",
          "2024-08-15T12:00:00+00:00",
          "2024-08-15T16:00:00+00:00",
          "2024-08-16T12:00:00+00:00",
          "2024-08-16T16:00:00+00:00",
          "2024-08-19T12:00:00+00:00",
          "2024-08-19T16:00:00+00:00",
          "2024-08-20T12:00:00+00:00",
          "2024-08-20T16:00:00+00:00",
          "2024-08-21T12:00:00+00:00",
          "2024-08-21T16:00:00+00:00",
          "2024-08-22T12:00:00+00:00",
          "2024-08-22T16:00:00+00:00",
          "2024-08-23T12:00:00+00:00",
          "2024-08-23T16:00:00+00:00",
          "2024-08-26T12:00:00+00:00",
          "2024-08-26T16:00:00+00:00",
          "2024-08-27T12:00:00+00:00",
          "2024-08-27T16:00:00+00:00",
          "2024-08-28T12:00:00+00:00",
          "2024-08-28T16:00:00+00:00",
          "2024-08-29T12:00:00+00:00",
          "2024-08-29T16:00:00+00:00",
          "2024-08-30T12:00:00+00:00",
          "2024-08-30T16:00:00+00:00"
         ],
         "xaxis": "x",
         "y": [
          10000,
          10000,
          10000,
          10000,
          10000,
          10000,
          10000,
          10000,
          10000,
          10000,
          10000,
          10000,
          10000,
          10000,
          10000,
          10000,
          10000,
          10000,
          10000,
          10000,
          10000,
          10006.576948,
          9964.096948,
          9977.776948,
          9971.476948,
          9905.236948,
          9955.636948,
          9946.636948,
          9961.936948,
          9981.916948,
          10000.096948,
          9985.516948,
          9990.556948,
          9991.816948,
          9995.056948,
          9984.796948000001,
          9996.136948,
          10026.016948,
          10043.656948,
          10083.076948,
          10067.776948,
          10058.416948,
          10055.896948,
          10047.256948,
          10034.476948,
          10049.416948,
          10047.976948,
          9987.316948,
          9987.676948,
          10078.756948,
          10078.576948,
          10078.576948,
          10078.576948,
          10078.576948,
          10078.576948,
          10078.576948,
          10078.576948,
          10078.576948,
          10078.576948,
          10078.576948,
          10078.576948,
          10078.576948,
          10078.576948,
          10078.576948,
          10078.576948,
          10078.576948,
          10078.576948,
          10078.576948,
          10078.576948,
          10078.576948,
          10078.576948,
          10078.576948,
          10060.393986,
          10005.483986,
          10034.553985999999,
          10014.223985999999,
          10010.233986,
          9976.008459930163,
          9976.008459930163,
          9976.008459930163,
          9976.008459930163,
          9976.008459930163,
          9976.008459930163,
          9976.008459930163,
          9976.008459930163,
          9976.008459930163,
          9976.008459930163,
          9960.428231930162,
          9960.618231930162,
          9949.978231930163,
          9979.618231930162,
          9988.738231930163,
          10000.518231930164,
          10010.588231930164,
          10027.118231930162,
          10034.528231930162,
          10002.798231930163,
          10066.828231930163,
          10126.298231930163,
          10117.938231930164,
          10117.938231930164,
          10117.938231930164,
          10117.938231930164,
          10117.938231930164,
          10117.938231930164,
          10117.938231930164,
          10117.938231930164,
          10117.938231930164,
          10117.938231930164,
          10117.938231930164,
          10095.571395930165,
          10117.351395930164,
          10104.391395930164,
          10099.891395930164,
          10086.031395930164,
          10132.651395930165,
          10154.251395930165,
          10133.551395930164,
          10128.871395930164,
          10367.551395930164,
          10366.291395930164,
          10387.416180930164,
          10398.816180930164,
          10416.666180930164,
          10380.516180930164,
          10318.416180930164,
          10299.666180930164,
          10297.716180930165,
          10301.616180930165,
          10231.993331402746,
          10235.900726402746,
          10124.93740256625,
          10124.45658656625,
          10184.37658656625,
          10199.636586566248,
          10203.556586566248,
          10203.27658656625,
          10204.396586566249,
          10209.996586566249,
          10229.17658656625,
          10241.916586566249,
          10228.336586566249,
          10248.21658656625,
          10272.156586566249,
          10274.25658656625,
          10275.656586566249,
          10240.656586566249,
          10238.556586566248,
          10232.11658656625,
          10231.136586566248,
          10230.996586566249,
          10085.95658656625,
          10095.476586566248,
          10094.496586566249,
          10051.37658656625,
          10050.95658656625,
          10061.87658656625,
          10047.17658656625,
          10019.80253071688,
          10020.887570716879,
          10023.22757071688,
          10057.24757071688,
          10057.427570716878,
          10043.207570716879,
          10023.22757071688,
          10017.107570716878,
          10036.90757071688,
          10057.427570716878,
          10061.74757071688,
          10030.427570716878,
          10039.967570716879,
          10033.66757071688,
          10029.347570716878,
          10025.56757071688,
          9980.387570716879,
          9966.887570716879,
          9971.927570716878,
          9954.82757071688,
          9955.90757071688,
          9951.587570716878,
          9906.767570716878,
          9893.632890716879,
          9911.052890716877,
          9877.512890716878,
          9893.892890716877,
          9887.132890716879,
          9882.192890716879,
          9852.552890716877,
          9846.052890716877,
          9867.372890716877,
          9871.272890716878,
          9880.112890716879,
          9871.532890716877,
          9824.472890716877,
          9818.232890716878,
          9805.429902834761,
          9817.35102383476,
          9830.581023834762,
          9818.43102383476,
          9818.701023834761,
          9818.701023834761,
          9818.701023834761,
          9818.701023834761,
          9818.701023834761,
          9818.701023834761,
          9818.701023834761,
          9818.701023834761,
          9818.701023834761,
          9818.701023834761,
          9818.701023834761,
          9818.701023834761,
          9818.701023834761,
          9816.834879834762,
          9698.994879834761,
          9713.895114834762,
          9765.765114834761,
          9772.905114834763,
          9798.73511483476,
          9784.875114834762,
          9791.385114834762,
          9789.915114834761,
          9790.755114834761,
          9774.585114834761,
          9797.685114834761,
          9784.24511483476,
          9757.99511483476,
          9772.065114834762,
          9772.48511483476,
          9753.375114834762,
          9768.49511483476,
          9744.765114834761,
          9692.895114834762,
          9721.875114834762,
          9714.525114834762,
          9731.74511483476,
          9698.98511483476,
          9699.825114834763,
          9670.845114834761,
          9686.805114834762,
          9678.825114834763,
          9653.835114834761,
          9666.225114834762,
          9649.635114834762,
          9672.315114834762,
          9668.115114834762,
          9668.325114834763,
          9658.035114834762,
          9636.405114834763,
          9625.275114834762,
          9668.74511483476,
          9673.155114834763,
          9693.945114834762,
          9680.925114834761,
          9654.045114834762,
          9651.945114834762,
          9685.545114834762,
          9719.355114834761,
          9707.595114834761,
          9709.48511483476,
          9676.515114834761,
          9675.675114834761,
          9723.975114834762,
          9723.975114834762,
          9723.975114834762,
          9723.975114834762,
          9723.975114834762,
          9723.975114834762,
          9723.975114834762,
          9744.018690834762,
          9731.538690834763,
          9787.698690834763,
          9795.378690834763,
          9768.978690834763,
          9797.538690834763,
          9750.258690834762,
          9743.298690834763,
          9739.458690834763,
          9621.355661151727,
          9621.355661151727,
          9621.355661151727,
          9621.355661151727,
          9621.355661151727,
          9621.355661151727,
          9621.355661151727,
          9621.355661151727,
          9621.355661151727,
          9621.355661151727,
          9621.355661151727,
          9621.355661151727,
          9621.355661151727,
          9621.355661151727,
          9621.355661151727,
          9621.355661151727,
          9621.355661151727,
          9621.355661151727,
          9621.355661151727,
          9621.355661151727,
          9621.355661151727,
          9621.355661151727,
          9621.355661151727,
          9621.355661151727,
          9621.355661151727,
          9621.355661151727,
          9621.355661151727,
          9621.355661151727,
          9621.355661151727,
          9621.355661151727,
          9621.355661151727,
          9621.355661151727,
          9621.355661151727,
          9621.355661151727,
          9621.355661151727,
          9621.355661151727,
          9621.355661151727,
          9621.355661151727,
          9621.355661151727,
          9621.355661151727,
          9621.355661151727,
          9621.355661151727,
          9621.355661151727,
          9621.355661151727,
          9621.355661151727,
          9621.355661151727,
          9621.355661151727,
          9621.355661151727,
          9621.355661151727,
          9621.355661151727,
          9621.355661151727,
          9621.355661151727,
          9621.355661151727,
          9621.355661151727,
          9621.355661151727,
          9621.355661151727,
          9621.355661151727,
          9621.355661151727,
          9621.355661151727,
          9621.355661151727,
          9621.355661151727,
          9621.355661151727,
          9621.355661151727,
          9621.355661151727,
          9621.355661151727,
          9621.355661151727,
          9621.355661151727,
          9621.355661151727,
          9621.355661151727,
          9621.355661151727,
          9621.355661151727,
          9621.355661151727,
          9621.355661151727,
          9621.355661151727,
          9621.355661151727,
          9621.355661151727,
          9621.355661151727,
          9621.355661151727,
          9621.355661151727,
          9621.355661151727,
          9621.355661151727,
          9621.355661151727,
          9621.355661151727,
          9621.355661151727,
          9666.978497151727,
          9683.358497151728,
          9775.548497151727,
          9775.548497151727,
          9749.352035151727,
          9675.926753568718,
          9653.500676568718,
          9651.120676568718,
          9667.440676568718,
          9643.470676568719,
          9634.970676568719,
          9604.030676568718,
          9578.879193012031,
          9567.419459012031,
          9555.349459012032,
          9588.669459012031,
          9592.239459012031,
          9573.199459012032,
          9575.409459012031,
          9563.849459012032,
          9576.599459012032,
          9602.779459012032,
          9599.209459012032,
          9560.279459012032,
          9532.229459012031,
          9542.939459012032,
          9581.699459012032,
          9573.539459012032,
          9619.439459012032,
          9602.439459012032,
          9614.339459012032,
          9646.979459012031,
          9713.789459012032,
          9697.299459012032,
          9718.88945901203,
          9714.979459012031,
          9722.629459012032,
          9722.629459012032,
          9722.629459012032,
          9722.629459012032,
          9722.629459012032,
          9722.629459012032,
          9722.629459012032,
          9722.629459012032,
          9722.629459012032,
          9746.926613012032,
          9800.286613012033,
          9794.996613012032,
          9776.596613012032,
          9788.096613012032,
          9825.586613012032,
          9829.266613012032,
          9842.836613012032,
          9828.806613012033,
          9754.976613012032,
          9740.026613012033,
          9727.836613012032,
          9715.186613012032,
          9681.606613012033,
          9732.206613012033,
          9744.856613012033,
          9674.476613012032,
          9692.416613012032,
          9679.536613012033,
          9622.776922926827,
          9622.776922926827,
          9622.776922926827,
          9622.776922926827,
          9622.776922926827,
          9622.776922926827,
          9622.776922926827,
          9622.776922926827,
          9622.776922926827,
          9634.396264926827,
          9608.296264926827,
          9615.856264926828,
          9554.656264926827,
          9522.40556938023,
          9522.40556938023,
          9542.022653380229,
          9519.16265338023,
          9512.32265338023,
          9518.442653380229,
          9509.26265338023,
          9515.38265338023,
          9523.48265338023,
          9576.04265338023,
          9566.14265338023,
          9573.522653380229,
          9566.32265338023,
          9535.72265338023,
          9541.66265338023,
          9536.26265338023,
          9518.08265338023,
          9563.80265338023,
          9568.84265338023,
          9543.82265338023,
          9504.40265338023,
          9563.62265338023,
          9630.58265338023,
          9625.54265338023,
          9650.20265338023,
          9699.88265338023,
          9700.42265338023,
          9700.42265338023,
          9700.42265338023,
          9700.42265338023,
          9700.42265338023,
          9700.42265338023,
          9700.42265338023,
          9700.42265338023,
          9707.03830538023,
          9751.408305380231,
          9739.50830538023,
          9762.62830538023,
          9729.648305380231,
          9717.23830538023,
          9693.43830538023,
          9600.367246171738,
          9621.241726171738,
          9559.961726171738,
          9578.521726171737,
          9576.761726171739,
          9585.881726171738,
          9588.761726171739,
          9618.201726171737,
          9630.841726171737,
          9598.521726171737,
          9619.161726171738,
          9642.041726171738,
          9662.521726171737,
          9696.761726171739,
          9734.361726171737,
          9728.441726171737,
          9723.321726171738,
          9740.121726171737,
          9740.921726171739,
          9739.801726171738,
          9722.521726171737,
          9722.521726171737,
          9722.521726171737,
          9707.400063171737,
          9693.720063171737,
          9700.940063171738,
          9624.42461550203,
          9559.30262850203,
          9600.72262850203,
          9618.01262850203,
          9614.59262850203,
          9592.362628502031,
          9675.01262850203,
          9685.84262850203,
          9680.14262850203,
          9673.30262850203,
          9679.19262850203,
          9702.75262850203,
          9654.30262850203,
          9686.22262850203,
          9665.13262850203,
          9639.67262850203,
          9607.18262850203,
          9625.42262850203,
          9674.82262850203,
          9681.09262850203,
          9651.26262850203,
          9692.68262850203,
          9687.93262850203,
          9669.122628502031,
          9670.07262850203,
          9662.47262850203,
          9603.76262850203,
          9627.51262850203,
          9684.70262850203,
          9699.33262850203,
          9714.91262850203,
          9714.91262850203,
          9714.91262850203,
          9714.91262850203,
          9714.91262850203,
          9714.91262850203,
          9714.91262850203,
          9714.91262850203,
          9714.91262850203,
          9714.91262850203,
          9714.91262850203,
          9714.91262850203,
          9714.91262850203,
          9714.91262850203,
          9714.91262850203,
          9714.91262850203,
          9714.91262850203,
          9714.91262850203,
          9714.91262850203,
          9714.91262850203,
          9714.91262850203,
          9704.98075250203,
          9648.20075250203,
          9615.096682827289,
          9623.151605827288,
          9617.711605827288,
          9624.851605827289,
          9597.311605827288,
          9560.081605827289,
          9570.28160582729,
          9541.211605827288,
          9585.581605827289,
          9590.681605827289,
          9584.901605827288,
          9582.69160582729,
          9617.881605827288,
          9583.371605827288,
          9600.371605827288,
          9575.211605827288,
          9589.491605827288,
          9554.981605827288,
          9602.241605827288,
          9548.181605827289,
          9530.841605827289,
          9533.221605827288,
          9510.78160582729,
          9429.351605827289,
          9366.74104582729,
          9411.541045827289,
          9413.14104582729,
          9329.719055180376,
          9324.657531180375,
          9235.189695296136,
          9228.430395296136,
          9237.790395296135,
          9285.670395296136,
          9273.670395296136,
          9282.790395296135,
          9286.990395296136,
          9317.950395296137,
          9353.710395296135,
          9362.710395296135,
          9343.510395296136,
          9352.030395296137,
          9391.750395296136,
          9391.750395296136,
          9424.634745296136,
          9430.034745296136,
          9405.284745296136,
          9426.284745296136,
          9486.884745296136,
          9499.784745296136,
          9500.534745296136,
          9500.534745296136,
          9500.534745296136,
          9500.534745296136,
          9500.534745296136,
          9500.534745296136,
          9500.534745296136,
          9500.534745296136,
          9500.534745296136,
          9500.534745296136,
          9500.534745296136,
          9500.534745296136,
          9500.534745296136,
          9500.534745296136,
          9500.534745296136,
          9500.534745296136,
          9500.534745296136,
          9500.534745296136,
          9500.534745296136,
          9500.534745296136,
          9500.534745296136,
          9500.534745296136
         ],
         "yaxis": "y"
        }
       ],
       "layout": {
        "legend": {
         "tracegroupgap": 0
        },
        "margin": {
         "t": 60
        },
        "template": {
         "data": {
          "bar": [
           {
            "error_x": {
             "color": "#2a3f5f"
            },
            "error_y": {
             "color": "#2a3f5f"
            },
            "marker": {
             "line": {
              "color": "#E5ECF6",
              "width": 0.5
             },
             "pattern": {
              "fillmode": "overlay",
              "size": 10,
              "solidity": 0.2
             }
            },
            "type": "bar"
           }
          ],
          "barpolar": [
           {
            "marker": {
             "line": {
              "color": "#E5ECF6",
              "width": 0.5
             },
             "pattern": {
              "fillmode": "overlay",
              "size": 10,
              "solidity": 0.2
             }
            },
            "type": "barpolar"
           }
          ],
          "carpet": [
           {
            "aaxis": {
             "endlinecolor": "#2a3f5f",
             "gridcolor": "white",
             "linecolor": "white",
             "minorgridcolor": "white",
             "startlinecolor": "#2a3f5f"
            },
            "baxis": {
             "endlinecolor": "#2a3f5f",
             "gridcolor": "white",
             "linecolor": "white",
             "minorgridcolor": "white",
             "startlinecolor": "#2a3f5f"
            },
            "type": "carpet"
           }
          ],
          "choropleth": [
           {
            "colorbar": {
             "outlinewidth": 0,
             "ticks": ""
            },
            "type": "choropleth"
           }
          ],
          "contour": [
           {
            "colorbar": {
             "outlinewidth": 0,
             "ticks": ""
            },
            "colorscale": [
             [
              0,
              "#0d0887"
             ],
             [
              0.1111111111111111,
              "#46039f"
             ],
             [
              0.2222222222222222,
              "#7201a8"
             ],
             [
              0.3333333333333333,
              "#9c179e"
             ],
             [
              0.4444444444444444,
              "#bd3786"
             ],
             [
              0.5555555555555556,
              "#d8576b"
             ],
             [
              0.6666666666666666,
              "#ed7953"
             ],
             [
              0.7777777777777778,
              "#fb9f3a"
             ],
             [
              0.8888888888888888,
              "#fdca26"
             ],
             [
              1,
              "#f0f921"
             ]
            ],
            "type": "contour"
           }
          ],
          "contourcarpet": [
           {
            "colorbar": {
             "outlinewidth": 0,
             "ticks": ""
            },
            "type": "contourcarpet"
           }
          ],
          "heatmap": [
           {
            "colorbar": {
             "outlinewidth": 0,
             "ticks": ""
            },
            "colorscale": [
             [
              0,
              "#0d0887"
             ],
             [
              0.1111111111111111,
              "#46039f"
             ],
             [
              0.2222222222222222,
              "#7201a8"
             ],
             [
              0.3333333333333333,
              "#9c179e"
             ],
             [
              0.4444444444444444,
              "#bd3786"
             ],
             [
              0.5555555555555556,
              "#d8576b"
             ],
             [
              0.6666666666666666,
              "#ed7953"
             ],
             [
              0.7777777777777778,
              "#fb9f3a"
             ],
             [
              0.8888888888888888,
              "#fdca26"
             ],
             [
              1,
              "#f0f921"
             ]
            ],
            "type": "heatmap"
           }
          ],
          "heatmapgl": [
           {
            "colorbar": {
             "outlinewidth": 0,
             "ticks": ""
            },
            "colorscale": [
             [
              0,
              "#0d0887"
             ],
             [
              0.1111111111111111,
              "#46039f"
             ],
             [
              0.2222222222222222,
              "#7201a8"
             ],
             [
              0.3333333333333333,
              "#9c179e"
             ],
             [
              0.4444444444444444,
              "#bd3786"
             ],
             [
              0.5555555555555556,
              "#d8576b"
             ],
             [
              0.6666666666666666,
              "#ed7953"
             ],
             [
              0.7777777777777778,
              "#fb9f3a"
             ],
             [
              0.8888888888888888,
              "#fdca26"
             ],
             [
              1,
              "#f0f921"
             ]
            ],
            "type": "heatmapgl"
           }
          ],
          "histogram": [
           {
            "marker": {
             "pattern": {
              "fillmode": "overlay",
              "size": 10,
              "solidity": 0.2
             }
            },
            "type": "histogram"
           }
          ],
          "histogram2d": [
           {
            "colorbar": {
             "outlinewidth": 0,
             "ticks": ""
            },
            "colorscale": [
             [
              0,
              "#0d0887"
             ],
             [
              0.1111111111111111,
              "#46039f"
             ],
             [
              0.2222222222222222,
              "#7201a8"
             ],
             [
              0.3333333333333333,
              "#9c179e"
             ],
             [
              0.4444444444444444,
              "#bd3786"
             ],
             [
              0.5555555555555556,
              "#d8576b"
             ],
             [
              0.6666666666666666,
              "#ed7953"
             ],
             [
              0.7777777777777778,
              "#fb9f3a"
             ],
             [
              0.8888888888888888,
              "#fdca26"
             ],
             [
              1,
              "#f0f921"
             ]
            ],
            "type": "histogram2d"
           }
          ],
          "histogram2dcontour": [
           {
            "colorbar": {
             "outlinewidth": 0,
             "ticks": ""
            },
            "colorscale": [
             [
              0,
              "#0d0887"
             ],
             [
              0.1111111111111111,
              "#46039f"
             ],
             [
              0.2222222222222222,
              "#7201a8"
             ],
             [
              0.3333333333333333,
              "#9c179e"
             ],
             [
              0.4444444444444444,
              "#bd3786"
             ],
             [
              0.5555555555555556,
              "#d8576b"
             ],
             [
              0.6666666666666666,
              "#ed7953"
             ],
             [
              0.7777777777777778,
              "#fb9f3a"
             ],
             [
              0.8888888888888888,
              "#fdca26"
             ],
             [
              1,
              "#f0f921"
             ]
            ],
            "type": "histogram2dcontour"
           }
          ],
          "mesh3d": [
           {
            "colorbar": {
             "outlinewidth": 0,
             "ticks": ""
            },
            "type": "mesh3d"
           }
          ],
          "parcoords": [
           {
            "line": {
             "colorbar": {
              "outlinewidth": 0,
              "ticks": ""
             }
            },
            "type": "parcoords"
           }
          ],
          "pie": [
           {
            "automargin": true,
            "type": "pie"
           }
          ],
          "scatter": [
           {
            "fillpattern": {
             "fillmode": "overlay",
             "size": 10,
             "solidity": 0.2
            },
            "type": "scatter"
           }
          ],
          "scatter3d": [
           {
            "line": {
             "colorbar": {
              "outlinewidth": 0,
              "ticks": ""
             }
            },
            "marker": {
             "colorbar": {
              "outlinewidth": 0,
              "ticks": ""
             }
            },
            "type": "scatter3d"
           }
          ],
          "scattercarpet": [
           {
            "marker": {
             "colorbar": {
              "outlinewidth": 0,
              "ticks": ""
             }
            },
            "type": "scattercarpet"
           }
          ],
          "scattergeo": [
           {
            "marker": {
             "colorbar": {
              "outlinewidth": 0,
              "ticks": ""
             }
            },
            "type": "scattergeo"
           }
          ],
          "scattergl": [
           {
            "marker": {
             "colorbar": {
              "outlinewidth": 0,
              "ticks": ""
             }
            },
            "type": "scattergl"
           }
          ],
          "scattermapbox": [
           {
            "marker": {
             "colorbar": {
              "outlinewidth": 0,
              "ticks": ""
             }
            },
            "type": "scattermapbox"
           }
          ],
          "scatterpolar": [
           {
            "marker": {
             "colorbar": {
              "outlinewidth": 0,
              "ticks": ""
             }
            },
            "type": "scatterpolar"
           }
          ],
          "scatterpolargl": [
           {
            "marker": {
             "colorbar": {
              "outlinewidth": 0,
              "ticks": ""
             }
            },
            "type": "scatterpolargl"
           }
          ],
          "scatterternary": [
           {
            "marker": {
             "colorbar": {
              "outlinewidth": 0,
              "ticks": ""
             }
            },
            "type": "scatterternary"
           }
          ],
          "surface": [
           {
            "colorbar": {
             "outlinewidth": 0,
             "ticks": ""
            },
            "colorscale": [
             [
              0,
              "#0d0887"
             ],
             [
              0.1111111111111111,
              "#46039f"
             ],
             [
              0.2222222222222222,
              "#7201a8"
             ],
             [
              0.3333333333333333,
              "#9c179e"
             ],
             [
              0.4444444444444444,
              "#bd3786"
             ],
             [
              0.5555555555555556,
              "#d8576b"
             ],
             [
              0.6666666666666666,
              "#ed7953"
             ],
             [
              0.7777777777777778,
              "#fb9f3a"
             ],
             [
              0.8888888888888888,
              "#fdca26"
             ],
             [
              1,
              "#f0f921"
             ]
            ],
            "type": "surface"
           }
          ],
          "table": [
           {
            "cells": {
             "fill": {
              "color": "#EBF0F8"
             },
             "line": {
              "color": "white"
             }
            },
            "header": {
             "fill": {
              "color": "#C8D4E3"
             },
             "line": {
              "color": "white"
             }
            },
            "type": "table"
           }
          ]
         },
         "layout": {
          "annotationdefaults": {
           "arrowcolor": "#2a3f5f",
           "arrowhead": 0,
           "arrowwidth": 1
          },
          "autotypenumbers": "strict",
          "coloraxis": {
           "colorbar": {
            "outlinewidth": 0,
            "ticks": ""
           }
          },
          "colorscale": {
           "diverging": [
            [
             0,
             "#8e0152"
            ],
            [
             0.1,
             "#c51b7d"
            ],
            [
             0.2,
             "#de77ae"
            ],
            [
             0.3,
             "#f1b6da"
            ],
            [
             0.4,
             "#fde0ef"
            ],
            [
             0.5,
             "#f7f7f7"
            ],
            [
             0.6,
             "#e6f5d0"
            ],
            [
             0.7,
             "#b8e186"
            ],
            [
             0.8,
             "#7fbc41"
            ],
            [
             0.9,
             "#4d9221"
            ],
            [
             1,
             "#276419"
            ]
           ],
           "sequential": [
            [
             0,
             "#0d0887"
            ],
            [
             0.1111111111111111,
             "#46039f"
            ],
            [
             0.2222222222222222,
             "#7201a8"
            ],
            [
             0.3333333333333333,
             "#9c179e"
            ],
            [
             0.4444444444444444,
             "#bd3786"
            ],
            [
             0.5555555555555556,
             "#d8576b"
            ],
            [
             0.6666666666666666,
             "#ed7953"
            ],
            [
             0.7777777777777778,
             "#fb9f3a"
            ],
            [
             0.8888888888888888,
             "#fdca26"
            ],
            [
             1,
             "#f0f921"
            ]
           ],
           "sequentialminus": [
            [
             0,
             "#0d0887"
            ],
            [
             0.1111111111111111,
             "#46039f"
            ],
            [
             0.2222222222222222,
             "#7201a8"
            ],
            [
             0.3333333333333333,
             "#9c179e"
            ],
            [
             0.4444444444444444,
             "#bd3786"
            ],
            [
             0.5555555555555556,
             "#d8576b"
            ],
            [
             0.6666666666666666,
             "#ed7953"
            ],
            [
             0.7777777777777778,
             "#fb9f3a"
            ],
            [
             0.8888888888888888,
             "#fdca26"
            ],
            [
             1,
             "#f0f921"
            ]
           ]
          },
          "colorway": [
           "#636efa",
           "#EF553B",
           "#00cc96",
           "#ab63fa",
           "#FFA15A",
           "#19d3f3",
           "#FF6692",
           "#B6E880",
           "#FF97FF",
           "#FECB52"
          ],
          "font": {
           "color": "#2a3f5f"
          },
          "geo": {
           "bgcolor": "white",
           "lakecolor": "white",
           "landcolor": "#E5ECF6",
           "showlakes": true,
           "showland": true,
           "subunitcolor": "white"
          },
          "hoverlabel": {
           "align": "left"
          },
          "hovermode": "closest",
          "mapbox": {
           "style": "light"
          },
          "paper_bgcolor": "white",
          "plot_bgcolor": "#E5ECF6",
          "polar": {
           "angularaxis": {
            "gridcolor": "white",
            "linecolor": "white",
            "ticks": ""
           },
           "bgcolor": "#E5ECF6",
           "radialaxis": {
            "gridcolor": "white",
            "linecolor": "white",
            "ticks": ""
           }
          },
          "scene": {
           "xaxis": {
            "backgroundcolor": "#E5ECF6",
            "gridcolor": "white",
            "gridwidth": 2,
            "linecolor": "white",
            "showbackground": true,
            "ticks": "",
            "zerolinecolor": "white"
           },
           "yaxis": {
            "backgroundcolor": "#E5ECF6",
            "gridcolor": "white",
            "gridwidth": 2,
            "linecolor": "white",
            "showbackground": true,
            "ticks": "",
            "zerolinecolor": "white"
           },
           "zaxis": {
            "backgroundcolor": "#E5ECF6",
            "gridcolor": "white",
            "gridwidth": 2,
            "linecolor": "white",
            "showbackground": true,
            "ticks": "",
            "zerolinecolor": "white"
           }
          },
          "shapedefaults": {
           "line": {
            "color": "#2a3f5f"
           }
          },
          "ternary": {
           "aaxis": {
            "gridcolor": "white",
            "linecolor": "white",
            "ticks": ""
           },
           "baxis": {
            "gridcolor": "white",
            "linecolor": "white",
            "ticks": ""
           },
           "bgcolor": "#E5ECF6",
           "caxis": {
            "gridcolor": "white",
            "linecolor": "white",
            "ticks": ""
           }
          },
          "title": {
           "x": 0.05
          },
          "xaxis": {
           "automargin": true,
           "gridcolor": "white",
           "linecolor": "white",
           "ticks": "",
           "title": {
            "standoff": 15
           },
           "zerolinecolor": "white",
           "zerolinewidth": 2
          },
          "yaxis": {
           "automargin": true,
           "gridcolor": "white",
           "linecolor": "white",
           "ticks": "",
           "title": {
            "standoff": 15
           },
           "zerolinecolor": "white",
           "zerolinewidth": 2
          }
         }
        },
        "title": {
         "text": "AMTm, 16388"
        },
        "xaxis": {
         "anchor": "y",
         "domain": [
          0,
          1
         ],
         "title": {
          "text": "Date"
         }
        },
        "yaxis": {
         "anchor": "x",
         "domain": [
          0,
          1
         ],
         "title": {
          "text": "Equity"
         }
        }
       }
      }
     },
     "metadata": {},
     "output_type": "display_data"
    },
    {
     "data": {
      "text/html": [
       "<div>\n",
       "<style scoped>\n",
       "    .dataframe tbody tr th:only-of-type {\n",
       "        vertical-align: middle;\n",
       "    }\n",
       "\n",
       "    .dataframe tbody tr th {\n",
       "        vertical-align: top;\n",
       "    }\n",
       "\n",
       "    .dataframe thead th {\n",
       "        text-align: right;\n",
       "    }\n",
       "</style>\n",
       "<table border=\"1\" class=\"dataframe\">\n",
       "  <thead>\n",
       "    <tr style=\"text-align: right;\">\n",
       "      <th></th>\n",
       "      <th>strategy</th>\n",
       "      <th>ticker</th>\n",
       "      <th>interval</th>\n",
       "      <th>stability_ratio</th>\n",
       "      <th>return</th>\n",
       "      <th>final_eq</th>\n",
       "      <th>drawdown</th>\n",
       "      <th>drawdown_duration</th>\n",
       "      <th>win_rate</th>\n",
       "      <th>sharpe_ratio</th>\n",
       "      <th>trades</th>\n",
       "      <th>avg_trade_percent</th>\n",
       "      <th>exposure</th>\n",
       "      <th>final_equity</th>\n",
       "      <th>Duration</th>\n",
       "      <th>return/dd</th>\n",
       "      <th>custom_metric</th>\n",
       "    </tr>\n",
       "  </thead>\n",
       "  <tbody>\n",
       "    <tr>\n",
       "      <th>0</th>\n",
       "      <td>MeanReversion</td>\n",
       "      <td>UNHm</td>\n",
       "      <td>16388</td>\n",
       "      <td>0.853309</td>\n",
       "      <td>18.657581</td>\n",
       "      <td>11865.758113</td>\n",
       "      <td>5.663914</td>\n",
       "      <td>80</td>\n",
       "      <td>51.428571</td>\n",
       "      <td>1.452011</td>\n",
       "      <td>35</td>\n",
       "      <td>0.667799</td>\n",
       "      <td>5.896367</td>\n",
       "      <td>11865.758113</td>\n",
       "      <td>1038 days</td>\n",
       "      <td>3.294114</td>\n",
       "      <td>10.033111</td>\n",
       "    </tr>\n",
       "    <tr>\n",
       "      <th>0</th>\n",
       "      <td>MeanReversion</td>\n",
       "      <td>BEKEm</td>\n",
       "      <td>16388</td>\n",
       "      <td>0.726079</td>\n",
       "      <td>12.743325</td>\n",
       "      <td>11274.332523</td>\n",
       "      <td>8.791240</td>\n",
       "      <td>128</td>\n",
       "      <td>55.000000</td>\n",
       "      <td>1.082978</td>\n",
       "      <td>60</td>\n",
       "      <td>0.923149</td>\n",
       "      <td>5.012658</td>\n",
       "      <td>11274.332523</td>\n",
       "      <td>1038 days</td>\n",
       "      <td>1.449548</td>\n",
       "      <td>5.350313</td>\n",
       "    </tr>\n",
       "    <tr>\n",
       "      <th>0</th>\n",
       "      <td>MeanReversion</td>\n",
       "      <td>YUMCm</td>\n",
       "      <td>16388</td>\n",
       "      <td>0.066062</td>\n",
       "      <td>0.345487</td>\n",
       "      <td>10034.548699</td>\n",
       "      <td>5.008903</td>\n",
       "      <td>226</td>\n",
       "      <td>42.105263</td>\n",
       "      <td>0.047195</td>\n",
       "      <td>19</td>\n",
       "      <td>-0.006788</td>\n",
       "      <td>5.717689</td>\n",
       "      <td>10034.548699</td>\n",
       "      <td>1038 days</td>\n",
       "      <td>0.068975</td>\n",
       "      <td>0.172242</td>\n",
       "    </tr>\n",
       "    <tr>\n",
       "      <th>0</th>\n",
       "      <td>MeanReversion</td>\n",
       "      <td>UPSm</td>\n",
       "      <td>16388</td>\n",
       "      <td>0.086963</td>\n",
       "      <td>0.322798</td>\n",
       "      <td>10032.279812</td>\n",
       "      <td>7.186417</td>\n",
       "      <td>342</td>\n",
       "      <td>36.666667</td>\n",
       "      <td>0.035193</td>\n",
       "      <td>30</td>\n",
       "      <td>0.145475</td>\n",
       "      <td>5.896367</td>\n",
       "      <td>10032.279812</td>\n",
       "      <td>1038 days</td>\n",
       "      <td>0.044918</td>\n",
       "      <td>0.135405</td>\n",
       "    </tr>\n",
       "    <tr>\n",
       "      <th>0</th>\n",
       "      <td>MeanReversion</td>\n",
       "      <td>AMTm</td>\n",
       "      <td>16388</td>\n",
       "      <td>0.673414</td>\n",
       "      <td>-4.994653</td>\n",
       "      <td>9500.534745</td>\n",
       "      <td>11.407064</td>\n",
       "      <td>305</td>\n",
       "      <td>40.000000</td>\n",
       "      <td>0.000000</td>\n",
       "      <td>30</td>\n",
       "      <td>-0.437669</td>\n",
       "      <td>5.896367</td>\n",
       "      <td>9500.534745</td>\n",
       "      <td>1038 days</td>\n",
       "      <td>-0.437856</td>\n",
       "      <td>-1.382404</td>\n",
       "    </tr>\n",
       "    <tr>\n",
       "      <th>0</th>\n",
       "      <td>MeanReversion</td>\n",
       "      <td>MOm</td>\n",
       "      <td>16388</td>\n",
       "      <td>0.393731</td>\n",
       "      <td>-4.906422</td>\n",
       "      <td>9509.357789</td>\n",
       "      <td>7.229535</td>\n",
       "      <td>268</td>\n",
       "      <td>29.411765</td>\n",
       "      <td>0.000000</td>\n",
       "      <td>17</td>\n",
       "      <td>-0.514865</td>\n",
       "      <td>5.896367</td>\n",
       "      <td>9509.357789</td>\n",
       "      <td>1038 days</td>\n",
       "      <td>-0.678664</td>\n",
       "      <td>-1.723230</td>\n",
       "    </tr>\n",
       "  </tbody>\n",
       "</table>\n",
       "</div>"
      ],
      "text/plain": [
       "        strategy ticker  interval  stability_ratio     return      final_eq  \\\n",
       "0  MeanReversion   UNHm     16388         0.853309  18.657581  11865.758113   \n",
       "0  MeanReversion  BEKEm     16388         0.726079  12.743325  11274.332523   \n",
       "0  MeanReversion  YUMCm     16388         0.066062   0.345487  10034.548699   \n",
       "0  MeanReversion   UPSm     16388         0.086963   0.322798  10032.279812   \n",
       "0  MeanReversion   AMTm     16388         0.673414  -4.994653   9500.534745   \n",
       "0  MeanReversion    MOm     16388         0.393731  -4.906422   9509.357789   \n",
       "\n",
       "    drawdown  drawdown_duration   win_rate  sharpe_ratio  trades  \\\n",
       "0   5.663914                 80  51.428571      1.452011      35   \n",
       "0   8.791240                128  55.000000      1.082978      60   \n",
       "0   5.008903                226  42.105263      0.047195      19   \n",
       "0   7.186417                342  36.666667      0.035193      30   \n",
       "0  11.407064                305  40.000000      0.000000      30   \n",
       "0   7.229535                268  29.411765      0.000000      17   \n",
       "\n",
       "   avg_trade_percent  exposure  final_equity  Duration  return/dd  \\\n",
       "0           0.667799  5.896367  11865.758113 1038 days   3.294114   \n",
       "0           0.923149  5.012658  11274.332523 1038 days   1.449548   \n",
       "0          -0.006788  5.717689  10034.548699 1038 days   0.068975   \n",
       "0           0.145475  5.896367  10032.279812 1038 days   0.044918   \n",
       "0          -0.437669  5.896367   9500.534745 1038 days  -0.437856   \n",
       "0          -0.514865  5.896367   9509.357789 1038 days  -0.678664   \n",
       "\n",
       "   custom_metric  \n",
       "0      10.033111  \n",
       "0       5.350313  \n",
       "0       0.172242  \n",
       "0       0.135405  \n",
       "0      -1.382404  \n",
       "0      -1.723230  "
      ]
     },
     "execution_count": 13,
     "metadata": {},
     "output_type": "execute_result"
    }
   ],
   "source": [
    "from backtest.utils import optim_func_2\n",
    "\n",
    "\n",
    "strategy = MeanReversion\n",
    "lookback_bars = 1000\n",
    "validation_bars = 100\n",
    "warmup_bars = 50\n",
    "\n",
    "all_wfo_performances = pd.DataFrame()\n",
    "stats_per_symbol = {}\n",
    "\n",
    "params = {\n",
    "    'deviation_threshold': list(np.arange(0.01, 0.2, 0.01).round(2)),\n",
    "    'sma_period': [50],\n",
    "}\n",
    "\n",
    "for index, row in filter_performance.iterrows():\n",
    "    \n",
    "    # try:\n",
    "    ticker = row.ticker\n",
    "    interval = row.interval\n",
    "    \n",
    "    print(ticker, interval)\n",
    "    \n",
    "    prices = symbols[ticker][interval]\n",
    "\n",
    "    wfo_stats, df_stats = run_wfo(\n",
    "        strategy=strategy,\n",
    "        ticker=ticker,\n",
    "        interval=interval,\n",
    "        prices=prices,\n",
    "        initial_cash=initial_cash,\n",
    "        commission=commission,\n",
    "        margin=margin,\n",
    "        optim_func=optim_func_2,\n",
    "        params=params,\n",
    "        lookback_bars=lookback_bars,\n",
    "        warmup_bars=warmup_bars,\n",
    "        validation_bars=validation_bars\n",
    "    )\n",
    "    \n",
    "    if ticker not in stats_per_symbol.keys():\n",
    "        stats_per_symbol[ticker] = {}\n",
    "\n",
    "    stats_per_symbol[ticker][interval] = wfo_stats\n",
    "\n",
    "    all_wfo_performances = pd.concat([all_wfo_performances, df_stats])\n",
    "    \n",
    "    # except:\n",
    "    #     print(f'No se pudo ejecutar para el ticker {ticker}')\n",
    "\n",
    "all_wfo_performances['return/dd'] = all_wfo_performances['return'] / -all_wfo_performances['drawdown']\n",
    "all_wfo_performances['drawdown'] = -all_wfo_performances['drawdown']\n",
    "all_wfo_performances['custom_metric'] = (all_wfo_performances['return'] / (1 + all_wfo_performances.drawdown)) * np.log(1 + all_wfo_performances.trades)\n",
    "\n",
    "all_wfo_performances.drawdown_duration = pd.to_timedelta(all_wfo_performances.drawdown_duration)\n",
    "all_wfo_performances.drawdown_duration = all_wfo_performances.drawdown_duration.dt.days\n",
    "\n",
    "all_wfo_performances.sort_values(by='return/dd', ascending=False)"
   ]
  },
  {
   "cell_type": "markdown",
   "id": "c3f06d22",
   "metadata": {},
   "source": [
    "# Montecarlo"
   ]
  },
  {
   "cell_type": "code",
   "execution_count": 16,
   "id": "37593230",
   "metadata": {},
   "outputs": [
    {
     "data": {
      "text/html": [
       "<div>\n",
       "<style scoped>\n",
       "    .dataframe tbody tr th:only-of-type {\n",
       "        vertical-align: middle;\n",
       "    }\n",
       "\n",
       "    .dataframe tbody tr th {\n",
       "        vertical-align: top;\n",
       "    }\n",
       "\n",
       "    .dataframe thead th {\n",
       "        text-align: right;\n",
       "    }\n",
       "</style>\n",
       "<table border=\"1\" class=\"dataframe\">\n",
       "  <thead>\n",
       "    <tr style=\"text-align: right;\">\n",
       "      <th></th>\n",
       "      <th>strategy</th>\n",
       "      <th>ticker</th>\n",
       "      <th>interval</th>\n",
       "      <th>stability_ratio</th>\n",
       "      <th>return</th>\n",
       "      <th>final_eq</th>\n",
       "      <th>drawdown</th>\n",
       "      <th>drawdown_duration</th>\n",
       "      <th>win_rate</th>\n",
       "      <th>sharpe_ratio</th>\n",
       "      <th>trades</th>\n",
       "      <th>avg_trade_percent</th>\n",
       "      <th>exposure</th>\n",
       "      <th>final_equity</th>\n",
       "      <th>Duration</th>\n",
       "      <th>return/dd</th>\n",
       "      <th>custom_metric</th>\n",
       "    </tr>\n",
       "  </thead>\n",
       "  <tbody>\n",
       "    <tr>\n",
       "      <th>0</th>\n",
       "      <td>MeanReversion</td>\n",
       "      <td>UNHm</td>\n",
       "      <td>16388</td>\n",
       "      <td>0.853309</td>\n",
       "      <td>18.657581</td>\n",
       "      <td>11865.758113</td>\n",
       "      <td>5.663914</td>\n",
       "      <td>80</td>\n",
       "      <td>51.428571</td>\n",
       "      <td>1.452011</td>\n",
       "      <td>35</td>\n",
       "      <td>0.667799</td>\n",
       "      <td>5.896367</td>\n",
       "      <td>11865.758113</td>\n",
       "      <td>1038 days</td>\n",
       "      <td>3.294114</td>\n",
       "      <td>10.033111</td>\n",
       "    </tr>\n",
       "    <tr>\n",
       "      <th>0</th>\n",
       "      <td>MeanReversion</td>\n",
       "      <td>BEKEm</td>\n",
       "      <td>16388</td>\n",
       "      <td>0.726079</td>\n",
       "      <td>12.743325</td>\n",
       "      <td>11274.332523</td>\n",
       "      <td>8.791240</td>\n",
       "      <td>128</td>\n",
       "      <td>55.000000</td>\n",
       "      <td>1.082978</td>\n",
       "      <td>60</td>\n",
       "      <td>0.923149</td>\n",
       "      <td>5.012658</td>\n",
       "      <td>11274.332523</td>\n",
       "      <td>1038 days</td>\n",
       "      <td>1.449548</td>\n",
       "      <td>5.350313</td>\n",
       "    </tr>\n",
       "  </tbody>\n",
       "</table>\n",
       "</div>"
      ],
      "text/plain": [
       "        strategy ticker  interval  stability_ratio     return      final_eq  \\\n",
       "0  MeanReversion   UNHm     16388         0.853309  18.657581  11865.758113   \n",
       "0  MeanReversion  BEKEm     16388         0.726079  12.743325  11274.332523   \n",
       "\n",
       "   drawdown  drawdown_duration   win_rate  sharpe_ratio  trades  \\\n",
       "0  5.663914                 80  51.428571      1.452011      35   \n",
       "0  8.791240                128  55.000000      1.082978      60   \n",
       "\n",
       "   avg_trade_percent  exposure  final_equity  Duration  return/dd  \\\n",
       "0           0.667799  5.896367  11865.758113 1038 days   3.294114   \n",
       "0           0.923149  5.012658  11274.332523 1038 days   1.449548   \n",
       "\n",
       "   custom_metric  \n",
       "0      10.033111  \n",
       "0       5.350313  "
      ]
     },
     "execution_count": 16,
     "metadata": {},
     "output_type": "execute_result"
    }
   ],
   "source": [
    "filtered_wfo_performance = all_wfo_performances[\n",
    "    (all_wfo_performances['stability_ratio'] > 0.7)\n",
    "].sort_values(by='return/dd', ascending=False)\n",
    "\n",
    "filtered_wfo_performance"
   ]
  },
  {
   "cell_type": "code",
   "execution_count": 17,
   "id": "057b7dc4",
   "metadata": {},
   "outputs": [],
   "source": [
    "# stats_per_symbol['UKOILm'][16386]['_trades']"
   ]
  },
  {
   "cell_type": "code",
   "execution_count": 19,
   "id": "4a792072",
   "metadata": {},
   "outputs": [
    {
     "name": "stdout",
     "output_type": "stream",
     "text": [
      "Procesando ticker: UNHm\n",
      "Procesando ticker: BEKEm\n"
     ]
    }
   ],
   "source": [
    "import pandas as pd\n",
    "import matplotlib.pyplot as plt\n",
    "import seaborn as sns\n",
    "from backtest.utils import montecarlo_statistics_simulation\n",
    "\n",
    "# Crear una lista para almacenar los resultados de cada ticker\n",
    "data_drawdown = []\n",
    "data_return = []\n",
    "montecarlo_simulations = {}\n",
    "\n",
    "all_drawdowns = pd.DataFrame()\n",
    "all_returns = pd.DataFrame()\n",
    "\n",
    "for index, row in filtered_wfo_performance.iterrows():\n",
    "    ticker = row.ticker\n",
    "    interval = row.interval\n",
    "    \n",
    "    print(f\"Procesando ticker: {ticker}\")\n",
    "    trades_history = stats_per_symbol[ticker][interval]._trades\n",
    "    eq_curve = stats_per_symbol[ticker][interval]._equity_curve\n",
    "    \n",
    "    # Simulación de Montecarlo para cada ticker (datos agregados)\n",
    "    mc, synthetic_drawdown_curve, synthetic_return_curve = montecarlo_statistics_simulation(\n",
    "        equity_curve=eq_curve,\n",
    "        trade_history=trades_history, \n",
    "        n_simulations=100_000, \n",
    "        initial_equity=initial_cash, \n",
    "        threshold_ruin=0.8, \n",
    "        return_raw_curves=True,\n",
    "        percentiles=[0.1, 0.25, 0.5, 0.75, 0.9]\n",
    "    )\n",
    "    \n",
    "    montecarlo_simulations[ticker] = mc\n",
    "    \n",
    "    synthetic_drawdown_curve['ticker'] = ticker\n",
    "    synthetic_return_curve['ticker'] = ticker\n",
    "    \n",
    "    all_drawdowns = pd.concat([all_drawdowns, synthetic_drawdown_curve])\n",
    "    all_returns = pd.concat([all_returns, synthetic_return_curve])"
   ]
  },
  {
   "cell_type": "code",
   "execution_count": 20,
   "id": "a244f651",
   "metadata": {},
   "outputs": [
    {
     "data": {
      "text/html": [
       "<div>\n",
       "<style scoped>\n",
       "    .dataframe tbody tr th:only-of-type {\n",
       "        vertical-align: middle;\n",
       "    }\n",
       "\n",
       "    .dataframe tbody tr th {\n",
       "        vertical-align: top;\n",
       "    }\n",
       "\n",
       "    .dataframe thead th {\n",
       "        text-align: right;\n",
       "    }\n",
       "</style>\n",
       "<table border=\"1\" class=\"dataframe\">\n",
       "  <thead>\n",
       "    <tr style=\"text-align: right;\">\n",
       "      <th></th>\n",
       "      <th>drawdown_UNHm</th>\n",
       "      <th>drawdown_BEKEm</th>\n",
       "    </tr>\n",
       "  </thead>\n",
       "  <tbody>\n",
       "    <tr>\n",
       "      <th>count</th>\n",
       "      <td>100000.000000</td>\n",
       "      <td>100000.000000</td>\n",
       "    </tr>\n",
       "    <tr>\n",
       "      <th>mean</th>\n",
       "      <td>-6.687134</td>\n",
       "      <td>-6.527181</td>\n",
       "    </tr>\n",
       "    <tr>\n",
       "      <th>std</th>\n",
       "      <td>3.051451</td>\n",
       "      <td>2.786579</td>\n",
       "    </tr>\n",
       "    <tr>\n",
       "      <th>min</th>\n",
       "      <td>-29.992975</td>\n",
       "      <td>-28.836236</td>\n",
       "    </tr>\n",
       "    <tr>\n",
       "      <th>10%</th>\n",
       "      <td>-10.750955</td>\n",
       "      <td>-10.277504</td>\n",
       "    </tr>\n",
       "    <tr>\n",
       "      <th>25%</th>\n",
       "      <td>-8.201536</td>\n",
       "      <td>-7.920864</td>\n",
       "    </tr>\n",
       "    <tr>\n",
       "      <th>50%</th>\n",
       "      <td>-6.066053</td>\n",
       "      <td>-5.943134</td>\n",
       "    </tr>\n",
       "    <tr>\n",
       "      <th>75%</th>\n",
       "      <td>-4.495738</td>\n",
       "      <td>-4.516992</td>\n",
       "    </tr>\n",
       "    <tr>\n",
       "      <th>90%</th>\n",
       "      <td>-3.446517</td>\n",
       "      <td>-3.569766</td>\n",
       "    </tr>\n",
       "    <tr>\n",
       "      <th>max</th>\n",
       "      <td>-0.637763</td>\n",
       "      <td>-1.280338</td>\n",
       "    </tr>\n",
       "    <tr>\n",
       "      <th>Risk of Ruin</th>\n",
       "      <td>0.000920</td>\n",
       "      <td>0.000270</td>\n",
       "    </tr>\n",
       "  </tbody>\n",
       "</table>\n",
       "</div>"
      ],
      "text/plain": [
       "              drawdown_UNHm  drawdown_BEKEm\n",
       "count         100000.000000   100000.000000\n",
       "mean              -6.687134       -6.527181\n",
       "std                3.051451        2.786579\n",
       "min              -29.992975      -28.836236\n",
       "10%              -10.750955      -10.277504\n",
       "25%               -8.201536       -7.920864\n",
       "50%               -6.066053       -5.943134\n",
       "75%               -4.495738       -4.516992\n",
       "90%               -3.446517       -3.569766\n",
       "max               -0.637763       -1.280338\n",
       "Risk of Ruin       0.000920        0.000270"
      ]
     },
     "metadata": {},
     "output_type": "display_data"
    },
    {
     "data": {
      "text/html": [
       "<div>\n",
       "<style scoped>\n",
       "    .dataframe tbody tr th:only-of-type {\n",
       "        vertical-align: middle;\n",
       "    }\n",
       "\n",
       "    .dataframe tbody tr th {\n",
       "        vertical-align: top;\n",
       "    }\n",
       "\n",
       "    .dataframe thead th {\n",
       "        text-align: right;\n",
       "    }\n",
       "</style>\n",
       "<table border=\"1\" class=\"dataframe\">\n",
       "  <thead>\n",
       "    <tr style=\"text-align: right;\">\n",
       "      <th></th>\n",
       "      <th>return_UNHm</th>\n",
       "      <th>return_BEKEm</th>\n",
       "    </tr>\n",
       "  </thead>\n",
       "  <tbody>\n",
       "    <tr>\n",
       "      <th>count</th>\n",
       "      <td>100000.000000</td>\n",
       "      <td>100000.000000</td>\n",
       "    </tr>\n",
       "    <tr>\n",
       "      <th>mean</th>\n",
       "      <td>19.413886</td>\n",
       "      <td>14.895432</td>\n",
       "    </tr>\n",
       "    <tr>\n",
       "      <th>std</th>\n",
       "      <td>13.527367</td>\n",
       "      <td>11.335558</td>\n",
       "    </tr>\n",
       "    <tr>\n",
       "      <th>min</th>\n",
       "      <td>-29.037927</td>\n",
       "      <td>-27.616719</td>\n",
       "    </tr>\n",
       "    <tr>\n",
       "      <th>10%</th>\n",
       "      <td>2.621702</td>\n",
       "      <td>0.833543</td>\n",
       "    </tr>\n",
       "    <tr>\n",
       "      <th>25%</th>\n",
       "      <td>9.996796</td>\n",
       "      <td>6.996102</td>\n",
       "    </tr>\n",
       "    <tr>\n",
       "      <th>50%</th>\n",
       "      <td>18.712994</td>\n",
       "      <td>14.325436</td>\n",
       "    </tr>\n",
       "    <tr>\n",
       "      <th>75%</th>\n",
       "      <td>28.061915</td>\n",
       "      <td>22.193491</td>\n",
       "    </tr>\n",
       "    <tr>\n",
       "      <th>90%</th>\n",
       "      <td>37.042749</td>\n",
       "      <td>29.726796</td>\n",
       "    </tr>\n",
       "    <tr>\n",
       "      <th>max</th>\n",
       "      <td>95.230100</td>\n",
       "      <td>70.764773</td>\n",
       "    </tr>\n",
       "    <tr>\n",
       "      <th>Risk of Ruin</th>\n",
       "      <td>NaN</td>\n",
       "      <td>NaN</td>\n",
       "    </tr>\n",
       "  </tbody>\n",
       "</table>\n",
       "</div>"
      ],
      "text/plain": [
       "                return_UNHm   return_BEKEm\n",
       "count         100000.000000  100000.000000\n",
       "mean              19.413886      14.895432\n",
       "std               13.527367      11.335558\n",
       "min              -29.037927     -27.616719\n",
       "10%                2.621702       0.833543\n",
       "25%                9.996796       6.996102\n",
       "50%               18.712994      14.325436\n",
       "75%               28.061915      22.193491\n",
       "90%               37.042749      29.726796\n",
       "max               95.230100      70.764773\n",
       "Risk of Ruin            NaN            NaN"
      ]
     },
     "metadata": {},
     "output_type": "display_data"
    }
   ],
   "source": [
    "dd_df = pd.DataFrame()\n",
    "returns_df = pd.DataFrame()\n",
    "\n",
    "for ticker, mc in montecarlo_simulations.items():\n",
    "    mc = mc.rename(\n",
    "        columns={\n",
    "            'Drawdown (%)': f'drawdown_{ticker}',\n",
    "            'Final Return (%)': f'return_{ticker}',\n",
    "        }\n",
    "    )\n",
    "\n",
    "    if dd_df.empty:\n",
    "        dd_df = mc[[f'drawdown_{ticker}']]\n",
    "    \n",
    "    else:\n",
    "        dd_df = pd.merge(\n",
    "            dd_df,\n",
    "            mc[[f'drawdown_{ticker}']],\n",
    "            left_index=True,\n",
    "            right_index=True            \n",
    "        )\n",
    "        \n",
    "    if returns_df.empty:\n",
    "        returns_df = mc[[f'return_{ticker}']]\n",
    "    \n",
    "    else:\n",
    "        returns_df = pd.merge(\n",
    "            returns_df,\n",
    "            mc[[f'return_{ticker}']],\n",
    "            left_index=True,\n",
    "            right_index=True            \n",
    "        )\n",
    "        \n",
    "display(dd_df)\n",
    "display(returns_df)\n"
   ]
  },
  {
   "cell_type": "code",
   "execution_count": 21,
   "id": "0499b138",
   "metadata": {},
   "outputs": [
    {
     "data": {
      "image/png": "[encoded data removed]",
      "text/plain": [
       "<Figure size 2500x1800 with 1 Axes>"
      ]
     },
     "metadata": {},
     "output_type": "display_data"
    }
   ],
   "source": [
    "# Configurar el gráfico con matplotlib y seaborn\n",
    "plt.figure(figsize=(25, 18))\n",
    "sns.boxplot(data=all_drawdowns, x=\"ticker\", y=\"Drawdown (%)\")\n",
    "plt.title(\"Comparación de Drawdown (%) entre Tickers\")\n",
    "\n",
    "y_max = all_drawdowns[\"Drawdown (%)\"].max()  # Valor máximo en el eje Y\n",
    "y_min = all_drawdowns[\"Drawdown (%)\"].min()  # Valor mínimo en el eje Y\n",
    "tick_interval = 2  # Intervalo deseado entre números en el eje Y\n",
    "\n",
    "# Configurar los ticks mayores en el eje Y\n",
    "plt.yticks(np.arange(y_min, y_max + tick_interval, tick_interval))\n",
    "\n",
    "# Activar la cuadrícula\n",
    "plt.grid(True, linestyle='--', which='both', color='grey', alpha=0.7)\n",
    "\n",
    "# Mostrar el gráfico\n",
    "plt.show()\n"
   ]
  },
  {
   "cell_type": "code",
   "execution_count": 22,
   "id": "9ed03c26",
   "metadata": {},
   "outputs": [
    {
     "data": {
      "image/png": "[encoded data removed]",
      "text/plain": [
       "<Figure size 1200x2000 with 1 Axes>"
      ]
     },
     "metadata": {},
     "output_type": "display_data"
    }
   ],
   "source": [
    "import matplotlib.pyplot as plt\n",
    "import seaborn as sns\n",
    "import numpy as np\n",
    "\n",
    "# Generar el gráfico\n",
    "plt.figure(figsize=(12, 20))\n",
    "sns.boxplot(data=all_returns, x=\"ticker\", y=\"Final Return (%)\")\n",
    "plt.title(\"Comparación de Retorno (%) entre Tickers\")\n",
    "\n",
    "# Configurar ticks mayores con más números\n",
    "y_max = all_returns[\"Final Return (%)\"].max()  # Valor máximo en el eje Y\n",
    "y_min = all_returns[\"Final Return (%)\"].min()  # Valor mínimo en el eje Y\n",
    "tick_interval = 10  # Intervalo deseado entre números en el eje Y\n",
    "\n",
    "# Configurar los ticks mayores en el eje Y\n",
    "plt.yticks(np.arange(y_min, y_max + tick_interval, tick_interval))\n",
    "\n",
    "# Activar la cuadrícula\n",
    "plt.grid(True, linestyle='--', which='both', color='grey', alpha=0.7)\n",
    "\n",
    "# Mostrar el gráfico\n",
    "plt.show()\n"
   ]
  }
 ],
 "metadata": {
  "kernelspec": {
   "display_name": "mtvenv",
   "language": "python",
   "name": "python3"
  },
  "language_info": {
   "codemirror_mode": {
    "name": "ipython",
    "version": 3
   },
   "file_extension": ".py",
   "mimetype": "text/x-python",
   "name": "python",
   "nbconvert_exporter": "python",
   "pygments_lexer": "ipython3",
   "version": "3.8.9"
  }
 },
 "nbformat": 4,
 "nbformat_minor": 5
}
