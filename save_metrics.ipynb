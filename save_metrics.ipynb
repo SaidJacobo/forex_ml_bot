deberia separar las estrategias en una para long sin wfo y otra para shorts con wfo?
	-	Podria sumar el mejor long con el mejor short (pa y wfo) y segun el porcentaje
		resultante decidir si conviene separarlos o no

analizar correlacion entre el activo y el bot de ese activo (equity y precios)

poner switch de spread antes de realizar cada operacion (si el spread es mayor a x no entrar)
