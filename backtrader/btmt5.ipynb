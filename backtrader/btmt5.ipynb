{
 "cells": [
  {
   "cell_type": "code",
   "execution_count": 1,
   "metadata": {},
   "outputs": [
    {
     "ename": "SyntaxError",
     "evalue": "invalid syntax (__init__.py, line 239)",
     "output_type": "error",
     "traceback": [
      "Traceback \u001b[1;36m(most recent call last)\u001b[0m:\n",
      "\u001b[0m  File \u001b[0;32mc:\\Users\\SaidJ\\OneDrive\\Documentos\\projects\\forex_ml_bot\\forex_ml_bot\\mtvenv\\lib\\site-packages\\IPython\\core\\interactiveshell.py:3508\u001b[0m in \u001b[0;35mrun_code\u001b[0m\n    exec(code_obj, self.user_global_ns, self.user_ns)\u001b[0m\n",
      "\u001b[0m  Cell \u001b[0;32mIn[1], line 1\u001b[0m\n    import backtrader as bt\u001b[0m\n",
      "\u001b[0m  File \u001b[0;32mc:\\Users\\SaidJ\\OneDrive\\Documentos\\projects\\forex_ml_bot\\forex_ml_bot\\mtvenv\\lib\\site-packages\\backtrader\\__init__.py:62\u001b[0m\n    from .cerebro import *\u001b[0m\n",
      "\u001b[0m  File \u001b[0;32mc:\\Users\\SaidJ\\OneDrive\\Documentos\\projects\\forex_ml_bot\\forex_ml_bot\\mtvenv\\lib\\site-packages\\backtrader\\cerebro.py:40\u001b[0m\n    from .brokers import BackBroker\u001b[0m\n",
      "\u001b[0m  File \u001b[0;32mc:\\Users\\SaidJ\\OneDrive\\Documentos\\projects\\forex_ml_bot\\forex_ml_bot\\mtvenv\\lib\\site-packages\\backtrader\\brokers\\__init__.py:30\u001b[0m\n    from .ibbroker import IBBroker\u001b[0m\n",
      "\u001b[0m  File \u001b[0;32mc:\\Users\\SaidJ\\OneDrive\\Documentos\\projects\\forex_ml_bot\\forex_ml_bot\\mtvenv\\lib\\site-packages\\backtrader\\brokers\\ibbroker.py:30\u001b[0m\n    import ib.ext.Order\u001b[0m\n",
      "\u001b[1;36m  File \u001b[1;32mc:\\Users\\SaidJ\\OneDrive\\Documentos\\projects\\forex_ml_bot\\forex_ml_bot\\mtvenv\\lib\\site-packages\\ib\\ext\\Order.py:9\u001b[1;36m\n\u001b[1;33m    from ib.lib import Double, Integer\u001b[1;36m\n",
      "\u001b[1;36m  File \u001b[1;32mc:\\Users\\SaidJ\\OneDrive\\Documentos\\projects\\forex_ml_bot\\forex_ml_bot\\mtvenv\\lib\\site-packages\\ib\\lib\\__init__.py:239\u001b[1;36m\u001b[0m\n\u001b[1;33m    except (socket.error, ), ex:\u001b[0m\n\u001b[1;37m                           ^\u001b[0m\n\u001b[1;31mSyntaxError\u001b[0m\u001b[1;31m:\u001b[0m invalid syntax\n"
     ]
    }
   ],
   "source": [
    "import backtrader as bt\n",
    "\n",
    "# Definir la estrategia de trading\n",
    "class SmaCross(bt.Strategy):\n",
    "\n",
    "    def __init__(self):\n",
    "        pass\n",
    "\n",
    "    def next(self):\n",
    "        # Check if there are open positions\n",
    "        # if not self.position:\n",
    "        #     # Comprar si el precio cruza por encima de la SMA\n",
    "        #     if self.crossover > 0:\n",
    "        #         self.buy(size=10)  # Comprar 10 unidades\n",
    "        # else:\n",
    "        #     # Vender si el precio cruza por debajo de la SMA\n",
    "        #     if self.crossover < 0:\n",
    "        #         self.sell(size=10)  # Vender 10 unidades\n",
    "        print(self.data.close)\n",
    "\n",
    "# # Configuración para conectar con IBKR\n",
    "# def run_ibkr_live():\n",
    "#     # Configurar conexión con Interactive Brokers\n",
    "#     ibstore = bt.stores.IBStore(host='127.0.0.1', port=7496)\n",
    "#     cerebro = bt.Cerebro()\n",
    "\n",
    "#     # Agregar la estrategia al cerebro\n",
    "#     cerebro.addstrategy(SmaCross)\n",
    "\n",
    "#     # Agregar un feed de datos en vivo desde IBKR (ejemplo con AAPL)\n",
    "#     data = ibstore.getdata(dataname='EUR.USD-CASH-IDEALPRO')\n",
    "#     cerebro.adddata(data)\n",
    "#     cerebro.run()\n",
    "\n",
    "# run_ibkr_live()\n"
   ]
  },
  {
   "cell_type": "code",
   "execution_count": 2,
   "metadata": {},
   "outputs": [
    {
     "name": "stdout",
     "output_type": "stream",
     "text": [
      "Note: you may need to restart the kernel to use updated packages.\n"
     ]
    },
    {
     "name": "stderr",
     "output_type": "stream",
     "text": [
      "WARNING: Skipping ib as it is not installed.\n"
     ]
    }
   ],
   "source": [
    "pip uninstall ib\n"
   ]
  }
 ],
 "metadata": {
  "kernelspec": {
   "display_name": "mtvenv",
   "language": "python",
   "name": "python3"
  },
  "language_info": {
   "codemirror_mode": {
    "name": "ipython",
    "version": 3
   },
   "file_extension": ".py",
   "mimetype": "text/x-python",
   "name": "python",
   "nbconvert_exporter": "python",
   "pygments_lexer": "ipython3",
   "version": "3.8.9"
  }
 },
 "nbformat": 4,
 "nbformat_minor": 2
}
