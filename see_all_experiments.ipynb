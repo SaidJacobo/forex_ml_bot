{
 "cells": [
  {
   "cell_type": "code",
   "execution_count": 1,
   "id": "8d14c96c-2c28-433f-b51a-d762a0d6d5b0",
   "metadata": {},
   "outputs": [],
   "source": [
    "import pandas as pd\n",
    "import matplotlib.pyplot as plt\n",
    "from sklearn.metrics import confusion_matrix, auc, roc_curve\n",
    "import itertools\n",
    "import yaml\n",
    "import os\n",
    "import numpy as np\n",
    "from sklearn.metrics import auc\n",
    "from statistics import mean "
   ]
  },
  {
   "cell_type": "code",
   "execution_count": 2,
   "id": "a1551145-2edf-4b11-a2e2-9b952c22e54f",
   "metadata": {},
   "outputs": [],
   "source": [
    "def calculate_auc_avg(tickers, predictions, true_values):\n",
    "    predictions = predictions.sort_values(by='fecha')\n",
    "    true_values = true_values.sort_values(by='fecha')\n",
    "    \n",
    "    \n",
    "    # renombro las columnas\n",
    "    column_names = {}\n",
    "    for column in predictions.columns:\n",
    "        if column != 'fecha':\n",
    "            column_names[column] = f'{column}_proba'\n",
    "    \n",
    "    predictions = predictions.rename(columns=column_names)\n",
    "    \n",
    "    column_names = {}\n",
    "    for column in true_values.columns:\n",
    "        if column != 'fecha':\n",
    "            column_names[column] = f'{column}_true'\n",
    "    \n",
    "    true_values = true_values.rename(columns=column_names)\n",
    "    performance = pd.concat(\n",
    "        [\n",
    "            predictions,\n",
    "            true_values\n",
    "        ], axis=1, join=\"inner\"\n",
    "    )\n",
    "    \n",
    "    auc_list = []\n",
    "    for ticker in tickers:\n",
    "        y_true = performance[performance[f'{ticker}_true'].notna()][f'{ticker}_true']\n",
    "        y_pred = performance[performance[f'{ticker}_proba'].notna()][f'{ticker}_proba']\n",
    "        \n",
    "        fpr, tpr, thresholds = roc_curve(y_true, y_pred)\n",
    "        auc_score = auc(fpr, tpr)\n",
    "        \n",
    "        auc_list.append(auc_score)\n",
    "\n",
    "    return mean(auc_list)"
   ]
  },
  {
   "cell_type": "code",
   "execution_count": 3,
   "id": "228ffb1f-716d-4672-ab3a-cbad98a839ce",
   "metadata": {},
   "outputs": [],
   "source": [
    "def max_drawdown(serie):\n",
    "    max_valor_acumulado = serie[0]\n",
    "    max_dd = 0\n",
    "\n",
    "    for valor_actual in serie[1:]:\n",
    "        if valor_actual > max_valor_acumulado:\n",
    "            max_valor_acumulado = valor_actual\n",
    "        else:\n",
    "            dd = (max_valor_acumulado - valor_actual) / max_valor_acumulado\n",
    "            if dd > max_dd:\n",
    "                max_dd = dd\n",
    "\n",
    "    return max_dd"
   ]
  },
  {
   "cell_type": "code",
   "execution_count": 4,
   "id": "64ce0831-0f2c-4a4a-b67b-451766fd9b3a",
   "metadata": {},
   "outputs": [
    {
     "data": {
      "text/plain": [
       "['EURUSD', 'GBPUSD', 'USDJPY', 'USDCAD', 'AUDUSD', 'USDCHF']"
      ]
     },
     "execution_count": 4,
     "metadata": {},
     "output_type": "execute_result"
    }
   ],
   "source": [
    "with open('configs/project_config.yml', 'r') as archivo:\n",
    "    config = yaml.safe_load(archivo)\n",
    "\n",
    "tickers = config[\"tickers\"] \n",
    "tickers"
   ]
  },
  {
   "cell_type": "code",
   "execution_count": 5,
   "id": "5e4a6516-da01-4135-b5a2-cab274c75449",
   "metadata": {},
   "outputs": [
    {
     "data": {
      "text/plain": [
       "['Mode_train-Model_random_forest-TrainWw_480-TrainPd_1-TradingStgy_macd_strategy-PeriodsFwTg_5-SL_15-TP_30-UseDaysClose_False']"
      ]
     },
     "execution_count": 5,
     "metadata": {},
     "output_type": "execute_result"
    }
   ],
   "source": [
    "os.listdir('./backbone/data/backtest/experiments')"
   ]
  },
  {
   "cell_type": "code",
   "execution_count": 6,
   "id": "dd6cb162-ca5e-49c9-bad2-3d9032508ea8",
   "metadata": {},
   "outputs": [
    {
     "name": "stdout",
     "output_type": "stream",
     "text": [
      "Mode_train-Model_random_forest-TrainWw_480-TrainPd_1-TradingStgy_macd_strategy-PeriodsFwTg_5-SL_15-TP_30-UseDaysClose_False\n"
     ]
    }
   ],
   "source": [
    "results_dict = {}\n",
    "\n",
    "for path in os.listdir('./backbone/data/backtest/experiments'):\n",
    "    if not path.endswith('.csv') and path.startswith('Mode_train'):\n",
    "        print(path)\n",
    "        results_dict[path] = {}\n",
    "\n",
    "        try:\n",
    "            wallet = pd.read_csv(os.path.join('./backbone/data/backtest/experiments', path, 'wallet.csv'))\n",
    "\n",
    "            final_wallet_value = wallet.tail(1).iloc[0]['wallet']\n",
    "            initial_wallet_value = 100\n",
    "            results_dict[path]['wallet'] = ((final_wallet_value - initial_wallet_value) / initial_wallet_value) * 100 \n",
    "            results_dict[path]['max_drawdown'] = max_drawdown(wallet['wallet'])\n",
    "        except:\n",
    "            results_dict[path]['wallet'] = 0\n",
    "\n",
    "        try:\n",
    "            orders = pd.read_csv(os.path.join('./backbone/data/backtest/experiments', path, 'orders.csv'))\n",
    "            results_dict[path]['buys'] = orders[orders['open_time'].notna()].shape[0]\n",
    "            results_dict[path]['sells'] = orders[orders['close_time'].notna()].shape[0]\n",
    "           \n",
    "            avg_incomes = orders.groupby('ticker')['profit'].sum().mean()\n",
    "            results_dict[path]['avg_incomes'] = avg_incomes\n",
    "            results_dict[path]['good_operations'] = orders[orders['profit'] >= 0].shape[0]\n",
    "            results_dict[path]['bad_operations'] = orders[orders['profit'] < 0].shape[0]\n",
    "    \n",
    "            results_dict[path]['operation_ratio'] = results_dict[path]['good_operations'] / (results_dict[path]['good_operations'] + results_dict[path]['bad_operations']) \n",
    "    \n",
    "            results_dict[path]['sharpe_ratio'] = (orders['profit'].mean() - 0.04) / orders['profit'].std()\n",
    "        \n",
    "            results_dict[path]['winning_rate'] = orders[orders['profit'] >= 0]['profit'].mean() / (-1 * orders[orders['profit'] < 0]['profit'].mean())\n",
    "            \n",
    "            results_dict[path]['recover_factor'] = orders[orders['profit'] >= 0]['profit'].sum() / (-1 * orders[orders['profit'] < 0]['profit'].sum())\n",
    "        \n",
    "        except:\n",
    "            results_dict[path]['buys'] = 0\n",
    "            results_dict[path]['sells'] = 0\n",
    "            avg_incomes = 0\n",
    "            results_dict[path]['avg_incomes'] = 0\n",
    "            results_dict[path]['good_operations'] = 0\n",
    "            results_dict[path]['bad_operations'] = 0\n",
    "            results_dict[path]['operation_ratio'] = 0\n",
    "\n",
    "        try:\n",
    "            train_results = pd.read_csv(os.path.join('./backbone/data/backtest/experiments', path, 'trainres.csv'))\n",
    "            avg_train_auc = train_results['auc'].mean()\n",
    "            results_dict[path]['avg_train_auc'] = avg_train_auc\n",
    "        except:\n",
    "            results_dict[path]['avg_train_auc'] = 0\n",
    "            \n",
    "        try:\n",
    "            stock_predictions = pd.read_csv(os.path.join('./backbone/data/backtest/experiments', path, 'preds.csv'))\n",
    "            true_values = pd.read_csv(os.path.join('./backbone/data/backtest/experiments', path, 'truevals.csv'))\n",
    "\n",
    "            avg_auc_score = calculate_auc_avg(tickers, stock_predictions, true_values)\n",
    "            results_dict[path]['avg_test_auc'] = avg_auc_score\n",
    "        except:\n",
    "            results_dict[path]['avg_test_auc'] = 0\n",
    "\n",
    "results = pd.DataFrame.from_dict(results_dict, orient='index')"
   ]
  },
  {
   "cell_type": "code",
   "execution_count": 7,
   "id": "c62db37a-df4f-45f5-8c30-1e14f0ab84ee",
   "metadata": {},
   "outputs": [],
   "source": [
    "beta = 0.05\n",
    "\n",
    "results['buy_ratio'] = results['buys'] / 30 \n",
    "results['operation_ratio_2'] = ((1 + beta**2) * results['operation_ratio'] * results['buy_ratio']) / (beta * results['operation_ratio'] + results['buy_ratio'])"
   ]
  },
  {
   "cell_type": "code",
   "execution_count": 8,
   "id": "3ed2098b-6d7d-42ad-851d-9aca7fc0aa73",
   "metadata": {},
   "outputs": [
    {
     "data": {
      "text/html": [
       "<div>\n",
       "<style scoped>\n",
       "    .dataframe tbody tr th:only-of-type {\n",
       "        vertical-align: middle;\n",
       "    }\n",
       "\n",
       "    .dataframe tbody tr th {\n",
       "        vertical-align: top;\n",
       "    }\n",
       "\n",
       "    .dataframe thead th {\n",
       "        text-align: right;\n",
       "    }\n",
       "</style>\n",
       "<table border=\"1\" class=\"dataframe\">\n",
       "  <thead>\n",
       "    <tr style=\"text-align: right;\">\n",
       "      <th></th>\n",
       "      <th>operation_ratio_2</th>\n",
       "      <th>operation_ratio</th>\n",
       "      <th>buy_ratio</th>\n",
       "      <th>winning_rate</th>\n",
       "      <th>recover_factor</th>\n",
       "      <th>sharpe_ratio</th>\n",
       "      <th>max_drawdown</th>\n",
       "      <th>good_operations</th>\n",
       "      <th>bad_operations</th>\n",
       "      <th>avg_train_auc</th>\n",
       "      <th>avg_test_auc</th>\n",
       "      <th>wallet</th>\n",
       "    </tr>\n",
       "  </thead>\n",
       "  <tbody>\n",
       "    <tr>\n",
       "      <th>Mode_train-Model_random_forest-TrainWw_480-TrainPd_1-TradingStgy_macd_strategy-PeriodsFwTg_5-SL_15-TP_30-UseDaysClose_False</th>\n",
       "      <td>0.367746</td>\n",
       "      <td>0.366928</td>\n",
       "      <td>68.233333</td>\n",
       "      <td>1.659968</td>\n",
       "      <td>0.962114</td>\n",
       "      <td>-0.019138</td>\n",
       "      <td>0.649162</td>\n",
       "      <td>750</td>\n",
       "      <td>1294</td>\n",
       "      <td>0.999967</td>\n",
       "      <td>0.517734</td>\n",
       "      <td>551.45472</td>\n",
       "    </tr>\n",
       "  </tbody>\n",
       "</table>\n",
       "</div>"
      ],
      "text/plain": [
       "                                                    operation_ratio_2  \\\n",
       "Mode_train-Model_random_forest-TrainWw_480-Trai...           0.367746   \n",
       "\n",
       "                                                    operation_ratio  \\\n",
       "Mode_train-Model_random_forest-TrainWw_480-Trai...         0.366928   \n",
       "\n",
       "                                                    buy_ratio  winning_rate  \\\n",
       "Mode_train-Model_random_forest-TrainWw_480-Trai...  68.233333      1.659968   \n",
       "\n",
       "                                                    recover_factor  \\\n",
       "Mode_train-Model_random_forest-TrainWw_480-Trai...        0.962114   \n",
       "\n",
       "                                                    sharpe_ratio  \\\n",
       "Mode_train-Model_random_forest-TrainWw_480-Trai...     -0.019138   \n",
       "\n",
       "                                                    max_drawdown  \\\n",
       "Mode_train-Model_random_forest-TrainWw_480-Trai...      0.649162   \n",
       "\n",
       "                                                    good_operations  \\\n",
       "Mode_train-Model_random_forest-TrainWw_480-Trai...              750   \n",
       "\n",
       "                                                    bad_operations  \\\n",
       "Mode_train-Model_random_forest-TrainWw_480-Trai...            1294   \n",
       "\n",
       "                                                    avg_train_auc  \\\n",
       "Mode_train-Model_random_forest-TrainWw_480-Trai...       0.999967   \n",
       "\n",
       "                                                    avg_test_auc     wallet  \n",
       "Mode_train-Model_random_forest-TrainWw_480-Trai...      0.517734  551.45472  "
      ]
     },
     "execution_count": 8,
     "metadata": {},
     "output_type": "execute_result"
    }
   ],
   "source": [
    "results.sort_values(by=['wallet'], ascending=[False])[\n",
    "    [\n",
    "        'operation_ratio_2',\n",
    "        'operation_ratio', \n",
    "        'buy_ratio',\n",
    "        'winning_rate',\n",
    "        'recover_factor',\n",
    "        'sharpe_ratio',\n",
    "        'max_drawdown',\n",
    "        'good_operations',\n",
    "        'bad_operations',\n",
    "        'avg_train_auc',\n",
    "        'avg_test_auc',\n",
    "        'wallet',\n",
    "    ]\n",
    "].sort_values(by=['sharpe_ratio'], ascending=[False]).head(15)"
   ]
  },
  {
   "cell_type": "code",
   "execution_count": 9,
   "id": "9388b247-c645-4a55-a7f6-e99a4bd6d4f5",
   "metadata": {},
   "outputs": [
    {
     "ename": "ZeroDivisionError",
     "evalue": "division by zero",
     "output_type": "error",
     "traceback": [
      "\u001b[1;31m---------------------------------------------------------------------------\u001b[0m",
      "\u001b[1;31mZeroDivisionError\u001b[0m                         Traceback (most recent call last)",
      "Cell \u001b[1;32mIn[9], line 1\u001b[0m\n\u001b[1;32m----> 1\u001b[0m \u001b[38;5;241;43m0\u001b[39;49m\u001b[38;5;241;43m/\u001b[39;49m\u001b[38;5;241;43m0\u001b[39;49m\n",
      "\u001b[1;31mZeroDivisionError\u001b[0m: division by zero"
     ]
    }
   ],
   "source": [
    "0/0"
   ]
  },
  {
   "cell_type": "code",
   "execution_count": null,
   "id": "09599776-5979-4565-a825-898fbdf31380",
   "metadata": {},
   "outputs": [],
   "source": [
    "# results.loc[\n",
    "#     [\n",
    "#         'train_gradient_boosting_train_window_38_train_period_1_trading_strategy_strategies.bband_strategy',\n",
    "#         'train_gradient_boosting_train_window_38_train_period_1_trading_strategy_strategies.macd_strategy',\n",
    "#         'train_gradient_boosting_train_window_461_train_period_1_trading_strategy_strategies.bband_strategy',\n",
    "#         'train_gradient_boosting_train_window_461_train_period_1_trading_strategy_strategies.macd_strategy',\n",
    "#         'train_logistic_regression_train_window_38_train_period_1_trading_strategy_strategies.bband_strategy'\n",
    "#     ]\n",
    "# ]"
   ]
  },
  {
   "cell_type": "code",
   "execution_count": null,
   "id": "483a7cc0-0868-48d5-ba2b-9af9d769fa35",
   "metadata": {},
   "outputs": [],
   "source": []
  },
  {
   "cell_type": "code",
   "execution_count": null,
   "id": "1d81d309-2458-47e6-be54-4832880c75c3",
   "metadata": {},
   "outputs": [],
   "source": [
    "results_dict = {}\n",
    "\n",
    "for path in os.listdir('./data'):\n",
    "    if not path.endswith('.csv') and path.startswith('test_'):\n",
    "        print(path)\n",
    "        results_dict[path] = {}\n",
    "\n",
    "        try:\n",
    "            wallet = pd.read_csv(os.path.join('./data', path, 'wallet.csv'))\n",
    "            results_dict[path]['wallet'] = wallet.tail(1).iloc[0]['wallet']\n",
    "        except:\n",
    "            results_dict[path]['wallet'] = 0\n",
    "\n",
    "        try:\n",
    "            orders = pd.read_csv(os.path.join('./data', path, 'orders.csv'))\n",
    "            results_dict[path]['buys'] = orders[orders['open_date'].notna()].shape[0]\n",
    "            results_dict[path]['sells'] = orders[orders['close_date'].notna()].shape[0]\n",
    "           \n",
    "            avg_incomes = orders.groupby('ticker')['profit'].sum().mean()\n",
    "            results_dict[path]['avg_incomes'] = avg_incomes\n",
    "            results_dict[path]['good_operations'] = orders[orders['profit'] > 0].shape[0]\n",
    "            results_dict[path]['bad_operations'] = orders[orders['profit'] <= 0].shape[0]\n",
    "            results_dict[path]['operation_ratio'] = results_dict[path]['good_operations'] / (results_dict[path]['good_operations'] + results_dict[path]['bad_operations']) \n",
    "\n",
    "        except:\n",
    "            results_dict[path]['buys'] = 0\n",
    "            results_dict[path]['sells'] = 0\n",
    "            avg_incomes = 0\n",
    "            results_dict[path]['avg_incomes'] = 0\n",
    "            results_dict[path]['good_operations'] = 0\n",
    "            results_dict[path]['bad_operations'] = 0\n",
    "            results_dict[path]['operation_ratio'] = 0\n",
    "\n",
    "        try:\n",
    "            train_results = pd.read_csv(os.path.join('./data', path, 'train_results.csv'))\n",
    "            avg_train_auc = train_results['auc'].mean()\n",
    "            results_dict[path]['avg_train_auc'] = avg_train_auc\n",
    "        except:\n",
    "            results_dict[path]['avg_train_auc'] = 0\n",
    "            \n",
    "        try:\n",
    "            stock_predictions = pd.read_csv(os.path.join('./data', path, 'stock_predictions.csv'))\n",
    "            true_values = pd.read_csv(os.path.join('./data', path, 'stock_true_values.csv'))\n",
    "\n",
    "            avg_auc_score = calculate_auc_avg(tickers, stock_predictions, true_values)\n",
    "            results_dict[path]['avg_test_auc'] = avg_auc_score\n",
    "        except:\n",
    "            results_dict[path]['avg_test_auc'] = 0\n",
    "\n",
    "results = pd.DataFrame.from_dict(results_dict, orient='index')"
   ]
  },
  {
   "cell_type": "code",
   "execution_count": null,
   "id": "aac641fd-91c6-471e-94aa-6380e4a79666",
   "metadata": {},
   "outputs": [],
   "source": [
    "results"
   ]
  },
  {
   "cell_type": "code",
   "execution_count": null,
   "id": "658fe737-e899-481d-982b-1fc472e9e185",
   "metadata": {},
   "outputs": [],
   "source": [
    "results_test.loc[\n",
    "    [\n",
    "        'test_gradient_boosting_train_window_38_train_period_1_trading_strategy_strategies.ml_bband_strategy',\n",
    "        'test_gradient_boosting_train_window_38_train_period_1_trading_strategy_strategies.ml_macd_strategy',\n",
    "        'test_gradient_boosting_train_window_461_train_period_1_trading_strategy_strategies.ml_bband_strategy',\n",
    "        'test_gradient_boosting_train_window_461_train_period_1_trading_strategy_strategies.ml_macd_strategy',\n",
    "        'test_logistic_regression_train_window_38_train_period_1_trading_strategy_strategies.ml_bband_strategy'\n",
    "    ]\n",
    "]"
   ]
  },
  {
   "cell_type": "code",
   "execution_count": null,
   "id": "4e43c192-c94a-44c3-929a-88f4724fb36d",
   "metadata": {},
   "outputs": [],
   "source": []
  },
  {
   "cell_type": "code",
   "execution_count": null,
   "id": "f36ad284-7697-4b3c-a1dd-bbd563c905c6",
   "metadata": {},
   "outputs": [],
   "source": []
  },
  {
   "cell_type": "code",
   "execution_count": null,
   "id": "80e3db0c-4173-4a49-b4bf-494fdf7d1967",
   "metadata": {},
   "outputs": [],
   "source": []
  }
 ],
 "metadata": {
  "kernelspec": {
   "display_name": "Python 3 (ipykernel)",
   "language": "python",
   "name": "python3"
  },
  "language_info": {
   "codemirror_mode": {
    "name": "ipython",
    "version": 3
   },
   "file_extension": ".py",
   "mimetype": "text/x-python",
   "name": "python",
   "nbconvert_exporter": "python",
   "pygments_lexer": "ipython3",
   "version": "3.8.9"
  }
 },
 "nbformat": 4,
 "nbformat_minor": 5
}
