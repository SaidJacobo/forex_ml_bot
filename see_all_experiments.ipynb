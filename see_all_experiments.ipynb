{
 "cells": [
  {
   "cell_type": "code",
   "execution_count": 1,
   "id": "8d14c96c-2c28-433f-b51a-d762a0d6d5b0",
   "metadata": {},
   "outputs": [],
   "source": [
    "import pandas as pd\n",
    "import matplotlib.pyplot as plt\n",
    "from sklearn.metrics import confusion_matrix, auc, roc_curve\n",
    "import itertools\n",
    "import yaml\n",
    "import os\n",
    "import numpy as np\n",
    "from sklearn.metrics import auc\n",
    "from statistics import mean\n",
    "from sklearn.metrics import f1_score, make_scorer, precision_score, recall_score\n",
    "pd.set_option('display.max_columns', None)\n"
   ]
  },
  {
   "cell_type": "code",
   "execution_count": 2,
   "id": "a1551145-2edf-4b11-a2e2-9b952c22e54f",
   "metadata": {},
   "outputs": [],
   "source": [
    "def calculate_auc_avg(tickers, predictions, true_values):\n",
    "    predictions = predictions.sort_values(by='fecha')\n",
    "    true_values = true_values.sort_values(by='fecha')\n",
    "    \n",
    "    \n",
    "    # renombro las columnas\n",
    "    column_names = {}\n",
    "    for column in predictions.columns:\n",
    "        if column != 'fecha':\n",
    "            column_names[column] = f'{column}_pred'\n",
    "    \n",
    "    predictions = predictions.rename(columns=column_names)\n",
    "    \n",
    "    column_names = {}\n",
    "    for column in true_values.columns:\n",
    "        if column != 'fecha':\n",
    "            column_names[column] = f'{column}_true'\n",
    "    \n",
    "    true_values = true_values.rename(columns=column_names)\n",
    "    performance = pd.concat(\n",
    "        [\n",
    "            predictions,\n",
    "            true_values\n",
    "        ], axis=1, join=\"inner\"\n",
    "    )\n",
    "    \n",
    "    auc_list = []\n",
    "    for ticker in tickers:\n",
    "        y_true = performance[performance[f'{ticker}_true'].notna()][f'{ticker}_true']\n",
    "        y_pred = performance[performance[f'{ticker}_pred'].notna()][f'{ticker}_pred']\n",
    "        \n",
    "        precision = precision_score(y_true, y_pred, average='weighted')\n",
    "        recall = recall_score(y_true, y_pred, average='weighted')\n",
    "        f1 = f1_score(y_true, y_pred, average='weighted')\n",
    "        \n",
    "        auc_list.append(precision)\n",
    "\n",
    "    return mean(auc_list)"
   ]
  },
  {
   "cell_type": "code",
   "execution_count": 3,
   "id": "228ffb1f-716d-4672-ab3a-cbad98a839ce",
   "metadata": {},
   "outputs": [],
   "source": [
    "def max_drawdown(serie):\n",
    "    max_valor_acumulado = serie[0]\n",
    "    max_dd = 0\n",
    "\n",
    "    for valor_actual in serie[1:]:\n",
    "        if valor_actual > max_valor_acumulado:\n",
    "            max_valor_acumulado = valor_actual\n",
    "        else:\n",
    "            dd = (max_valor_acumulado - valor_actual) / max_valor_acumulado\n",
    "            if dd > max_dd:\n",
    "                max_dd = dd\n",
    "\n",
    "    return max_dd"
   ]
  },
  {
   "cell_type": "code",
   "execution_count": 4,
   "id": "6118239d-3784-4c48-923b-e64afa141815",
   "metadata": {},
   "outputs": [],
   "source": [
    "def calculate_avg_returns_perc(orders):\n",
    "    orders_per_month = orders[['close_time','profit', 'comment']].copy()\n",
    "    orders_per_month['close_time'] = pd.to_datetime(orders_per_month['close_time'])\n",
    "    orders_per_month['year'] = orders_per_month['close_time'].dt.year\n",
    "    orders_per_month['month'] = orders_per_month['close_time'].dt.month\n",
    "    \n",
    "    orders_per_month_gb = orders_per_month.groupby(by=['year','month']).agg(\n",
    "        profit_sum=('profit', 'sum'),\n",
    "    ).reset_index()\n",
    "    \n",
    "    orders_per_month_gb = pd.concat([\n",
    "        pd.DataFrame({'year':[2023], 'month':[0],'amount_ops':[0], 'profit_sum':[initial_wallet_value]}), \n",
    "        orders_per_month_gb\n",
    "    ])\n",
    "    \n",
    "    orders_per_month_gb['profit_cumsum'] = orders_per_month_gb['profit_sum'].cumsum()\n",
    "    \n",
    "    orders_per_month_gb['perc_change'] = ((orders_per_month_gb['profit_cumsum'] - orders_per_month_gb['profit_cumsum'].shift(1)) / orders_per_month_gb['profit_cumsum'].shift(1))\n",
    "    \n",
    "    return orders_per_month_gb.perc_change.mean(), orders_per_month_gb.perc_change.std()"
   ]
  },
  {
   "cell_type": "code",
   "execution_count": 5,
   "id": "f69a3929-8d18-4430-8ce3-187deca4e603",
   "metadata": {},
   "outputs": [],
   "source": [
    "with open('configs/project_config.yml', 'r') as archivo:\n",
    "    config = yaml.safe_load(archivo)"
   ]
  },
  {
   "cell_type": "code",
   "execution_count": 6,
   "id": "64ce0831-0f2c-4a4a-b67b-451766fd9b3a",
   "metadata": {},
   "outputs": [
    {
     "data": {
      "text/plain": [
       "['EURUSD']"
      ]
     },
     "execution_count": 6,
     "metadata": {},
     "output_type": "execute_result"
    }
   ],
   "source": [
    "tickers = config[\"tickers\"] \n",
    "tickers"
   ]
  },
  {
   "cell_type": "code",
   "execution_count": 7,
   "id": "5e4a6516-da01-4135-b5a2-cab274c75449",
   "metadata": {
    "scrolled": true
   },
   "outputs": [
    {
     "data": {
      "text/plain": [
       "['Mode_train-Model_random_forest-TrainWw_1440-TrainPd_24-TradingStgy_ml_strategy-PeriodsFwTg_48-SL_10-RR_5-UseDaysClose_True']"
      ]
     },
     "execution_count": 7,
     "metadata": {},
     "output_type": "execute_result"
    }
   ],
   "source": [
    "os.listdir('./backbone/data/backtest/experiments')"
   ]
  },
  {
   "cell_type": "code",
   "execution_count": 8,
   "id": "dd6cb162-ca5e-49c9-bad2-3d9032508ea8",
   "metadata": {
    "scrolled": true
   },
   "outputs": [
    {
     "name": "stdout",
     "output_type": "stream",
     "text": [
      "Mode_train-Model_random_forest-TrainWw_1440-TrainPd_24-TradingStgy_ml_strategy-PeriodsFwTg_48-SL_10-RR_5-UseDaysClose_True\n"
     ]
    }
   ],
   "source": [
    "results_dict = {}\n",
    "initial_wallet_value = config['start_money']\n",
    "\n",
    "for path in os.listdir('./backbone/data/backtest/experiments'):\n",
    "    if not path.endswith('.csv') and path.startswith('Mode_train'):\n",
    "        print(path)\n",
    "        results_dict[path] = {}\n",
    "\n",
    "        try:\n",
    "            wallet = pd.read_csv(os.path.join('./backbone/data/backtest/experiments', path, 'wallet.csv'))\n",
    "\n",
    "            final_wallet_value = wallet.tail(1).iloc[0]['wallet']\n",
    "            results_dict[path]['wallet'] = ((final_wallet_value - initial_wallet_value) / initial_wallet_value) * 100\n",
    "            results_dict[path]['max_drawdown'] = max_drawdown(wallet['wallet'])\n",
    "        except:\n",
    "            results_dict[path]['wallet'] = 0\n",
    "\n",
    "        try:\n",
    "            orders = pd.read_csv(os.path.join('./backbone/data/backtest/experiments', path, 'orders.csv'))\n",
    "\n",
    "            mean_returns, std_returns = calculate_avg_returns_perc(orders)\n",
    "            results_dict[path]['mean_perc_returns'] = mean_returns\n",
    "            results_dict[path]['std_perc_returns'] = std_returns\n",
    "            \n",
    "            \n",
    "            results_dict[path]['buys'] = orders[orders['open_time'].notna()].shape[0]\n",
    "            results_dict[path]['sells'] = orders[orders['close_time'].notna()].shape[0]\n",
    "           \n",
    "            # avg_incomes = orders.groupby('ticker')['profit'].sum().mean()\n",
    "            # results_dict[path]['avg_incomes'] = avg_incomes\n",
    "            results_dict[path]['good_operations'] = orders[orders['profit'] >= 0].shape[0]\n",
    "            results_dict[path]['bad_operations'] = orders[orders['profit'] < 0].shape[0]\n",
    "    \n",
    "            results_dict[path]['operation_ratio'] = results_dict[path]['good_operations'] / (results_dict[path]['good_operations'] + results_dict[path]['bad_operations']) \n",
    "    \n",
    "            results_dict[path]['sharpe_ratio'] = (orders['profit'].mean() - 0.04) / orders['profit'].std()\n",
    "        \n",
    "            results_dict[path]['winning_rate'] = orders[orders['profit'] >= 0]['profit'].mean() / (-1 * orders[orders['profit'] < 0]['profit'].mean())\n",
    "            \n",
    "            results_dict[path]['recover_factor'] = orders[orders['profit'] >= 0]['profit'].sum() / (-1 * orders[orders['profit'] < 0]['profit'].sum())\n",
    "\n",
    "            results_dict[path]['stability_index'] = orders['profit'].std() / orders['profit'].mean()\n",
    "\n",
    "            for ticker in tickers:\n",
    "                results_dict[path][f'profits_in_{ticker}'] = orders[orders['ticker'] == ticker]['profit'].sum()\n",
    "\n",
    "        except:\n",
    "            results_dict[path]['buys'] = 0\n",
    "            results_dict[path]['sells'] = 0\n",
    "            avg_incomes = 0\n",
    "            results_dict[path]['avg_incomes'] = 0\n",
    "            results_dict[path]['good_operations'] = 0\n",
    "            results_dict[path]['bad_operations'] = 0\n",
    "            results_dict[path]['operation_ratio'] = 0\n",
    "        # try:\n",
    "        train_results = pd.read_csv(os.path.join('./backbone/data/backtest/experiments', path, 'trainres.csv'))\n",
    "        results_dict[path]['avg_train_precision'] = train_results['precision'].mean()\n",
    "        results_dict[path]['avg_train_recall'] = train_results['recall'].mean()\n",
    "        results_dict[path]['avg_train_f1'] = train_results['f1'].mean()\n",
    "        # # except:\n",
    "        # #     results_dict[path]['avg_train_auc'] = 0\n",
    "            \n",
    "        # # try:\n",
    "        predictions = pd.read_csv(os.path.join('./backbone/data/backtest/experiments', path, 'test_res.csv'))\n",
    "\n",
    "        results_dict[path]['avg_test_precision'] = precision_score(predictions.y_true, predictions.y_pred, average='weighted')\n",
    "        results_dict[path]['avg_test_recall'] = recall_score(predictions.y_true, predictions.y_pred, average='weighted')\n",
    "        results_dict[path]['avg_test_f1'] = f1_score(predictions.y_true, predictions.y_pred, average='weighted')\n",
    "        # except:\n",
    "        #     results_dict[path]['avg_test_auc'] = 0\n",
    "\n",
    "results = pd.DataFrame.from_dict(results_dict, orient='index')"
   ]
  },
  {
   "cell_type": "code",
   "execution_count": 9,
   "id": "c62db37a-df4f-45f5-8c30-1e14f0ab84ee",
   "metadata": {},
   "outputs": [],
   "source": [
    "beta = 0.05\n",
    "eurusd = pd.read_csv('./backbone/data/backtest/symbols/EURUSD.csv')\n",
    "results['buy_ratio'] = results['buys'] / (eurusd.Date.nunique() * len(tickers))\n",
    "results['operation_ratio_2'] = ((1 + beta**2) * results['operation_ratio'] * results['buy_ratio']) / (beta * results['operation_ratio'] + results['buy_ratio'])"
   ]
  },
  {
   "cell_type": "code",
   "execution_count": 10,
   "id": "3ed2098b-6d7d-42ad-851d-9aca7fc0aa73",
   "metadata": {},
   "outputs": [
    {
     "data": {
      "text/html": [
       "<div>\n",
       "<style scoped>\n",
       "    .dataframe tbody tr th:only-of-type {\n",
       "        vertical-align: middle;\n",
       "    }\n",
       "\n",
       "    .dataframe tbody tr th {\n",
       "        vertical-align: top;\n",
       "    }\n",
       "\n",
       "    .dataframe thead th {\n",
       "        text-align: right;\n",
       "    }\n",
       "</style>\n",
       "<table border=\"1\" class=\"dataframe\">\n",
       "  <thead>\n",
       "    <tr style=\"text-align: right;\">\n",
       "      <th></th>\n",
       "      <th>operation_ratio_2</th>\n",
       "      <th>operation_ratio</th>\n",
       "      <th>buy_ratio</th>\n",
       "      <th>mean_perc_returns</th>\n",
       "      <th>std_perc_returns</th>\n",
       "      <th>winning_rate</th>\n",
       "      <th>recover_factor</th>\n",
       "      <th>sharpe_ratio</th>\n",
       "      <th>stability_index</th>\n",
       "      <th>max_drawdown</th>\n",
       "      <th>good_operations</th>\n",
       "      <th>bad_operations</th>\n",
       "      <th>wallet</th>\n",
       "      <th>profits_in_EURUSD</th>\n",
       "      <th>avg_train_precision</th>\n",
       "      <th>avg_train_recall</th>\n",
       "      <th>avg_train_f1</th>\n",
       "      <th>avg_test_precision</th>\n",
       "      <th>avg_test_recall</th>\n",
       "      <th>avg_test_f1</th>\n",
       "    </tr>\n",
       "  </thead>\n",
       "  <tbody>\n",
       "    <tr>\n",
       "      <th>Mode_train-Model_random_forest-TrainWw_1440-TrainPd_24-TradingStgy_ml_strategy-PeriodsFwTg_48-SL_10-RR_5-UseDaysClose_True</th>\n",
       "      <td>0.069472</td>\n",
       "      <td>0.170732</td>\n",
       "      <td>0.005832</td>\n",
       "      <td>0.000409</td>\n",
       "      <td>0.031149</td>\n",
       "      <td>4.854578</td>\n",
       "      <td>0.999472</td>\n",
       "      <td>-0.001936</td>\n",
       "      <td>-5095.472523</td>\n",
       "      <td>0.126321</td>\n",
       "      <td>7</td>\n",
       "      <td>34</td>\n",
       "      <td>-0.0185</td>\n",
       "      <td>-0.185</td>\n",
       "      <td>0.920169</td>\n",
       "      <td>0.915867</td>\n",
       "      <td>0.916323</td>\n",
       "      <td>0.682886</td>\n",
       "      <td>0.675507</td>\n",
       "      <td>0.676744</td>\n",
       "    </tr>\n",
       "  </tbody>\n",
       "</table>\n",
       "</div>"
      ],
      "text/plain": [
       "                                                    operation_ratio_2  \\\n",
       "Mode_train-Model_random_forest-TrainWw_1440-Tra...           0.069472   \n",
       "\n",
       "                                                    operation_ratio  \\\n",
       "Mode_train-Model_random_forest-TrainWw_1440-Tra...         0.170732   \n",
       "\n",
       "                                                    buy_ratio  \\\n",
       "Mode_train-Model_random_forest-TrainWw_1440-Tra...   0.005832   \n",
       "\n",
       "                                                    mean_perc_returns  \\\n",
       "Mode_train-Model_random_forest-TrainWw_1440-Tra...           0.000409   \n",
       "\n",
       "                                                    std_perc_returns  \\\n",
       "Mode_train-Model_random_forest-TrainWw_1440-Tra...          0.031149   \n",
       "\n",
       "                                                    winning_rate  \\\n",
       "Mode_train-Model_random_forest-TrainWw_1440-Tra...      4.854578   \n",
       "\n",
       "                                                    recover_factor  \\\n",
       "Mode_train-Model_random_forest-TrainWw_1440-Tra...        0.999472   \n",
       "\n",
       "                                                    sharpe_ratio  \\\n",
       "Mode_train-Model_random_forest-TrainWw_1440-Tra...     -0.001936   \n",
       "\n",
       "                                                    stability_index  \\\n",
       "Mode_train-Model_random_forest-TrainWw_1440-Tra...     -5095.472523   \n",
       "\n",
       "                                                    max_drawdown  \\\n",
       "Mode_train-Model_random_forest-TrainWw_1440-Tra...      0.126321   \n",
       "\n",
       "                                                    good_operations  \\\n",
       "Mode_train-Model_random_forest-TrainWw_1440-Tra...                7   \n",
       "\n",
       "                                                    bad_operations  wallet  \\\n",
       "Mode_train-Model_random_forest-TrainWw_1440-Tra...              34 -0.0185   \n",
       "\n",
       "                                                    profits_in_EURUSD  \\\n",
       "Mode_train-Model_random_forest-TrainWw_1440-Tra...             -0.185   \n",
       "\n",
       "                                                    avg_train_precision  \\\n",
       "Mode_train-Model_random_forest-TrainWw_1440-Tra...             0.920169   \n",
       "\n",
       "                                                    avg_train_recall  \\\n",
       "Mode_train-Model_random_forest-TrainWw_1440-Tra...          0.915867   \n",
       "\n",
       "                                                    avg_train_f1  \\\n",
       "Mode_train-Model_random_forest-TrainWw_1440-Tra...      0.916323   \n",
       "\n",
       "                                                    avg_test_precision  \\\n",
       "Mode_train-Model_random_forest-TrainWw_1440-Tra...            0.682886   \n",
       "\n",
       "                                                    avg_test_recall  \\\n",
       "Mode_train-Model_random_forest-TrainWw_1440-Tra...         0.675507   \n",
       "\n",
       "                                                    avg_test_f1  \n",
       "Mode_train-Model_random_forest-TrainWw_1440-Tra...     0.676744  "
      ]
     },
     "execution_count": 10,
     "metadata": {},
     "output_type": "execute_result"
    }
   ],
   "source": [
    "positive_results = results[\n",
    "    [\n",
    "        'operation_ratio_2',\n",
    "        'operation_ratio', \n",
    "        'buy_ratio',\n",
    "        'mean_perc_returns',\n",
    "        'std_perc_returns',\n",
    "        'winning_rate',\n",
    "        'recover_factor',\n",
    "        'sharpe_ratio',\n",
    "        'stability_index',\n",
    "        'max_drawdown',\n",
    "        'good_operations',\n",
    "        'bad_operations',\n",
    "        'wallet',\n",
    "        'profits_in_EURUSD',\n",
    "        # 'profits_in_GBPUSD', \n",
    "        # # 'profits_in_USDJPY', \n",
    "        # 'profits_in_USDCAD',\n",
    "        # 'profits_in_AUDUSD', \n",
    "        # 'profits_in_USDCHF',\n",
    "        'avg_train_precision',\n",
    "        'avg_train_recall',\n",
    "        'avg_train_f1',\n",
    "        'avg_test_precision',\n",
    "        'avg_test_recall',\n",
    "        'avg_test_f1',\n",
    "    ]\n",
    "].sort_values(by='sharpe_ratio', ascending=False)\n",
    "\n",
    "# positive_results = positive_results[\n",
    "#     (results['wallet']>80)\n",
    "#     # & (results['max_drawdown']<=0.25)\n",
    "# ].sort_values(by='wallet', ascending=False)\n",
    "\n",
    "\n",
    "positive_results"
   ]
  },
  {
   "cell_type": "code",
   "execution_count": 11,
   "id": "c63be91d-f888-4dfd-8d0a-895863639261",
   "metadata": {},
   "outputs": [],
   "source": [
    "# columns = [\n",
    "#     'profits_in_EURUSD',\n",
    "#     'profits_in_GBPUSD', \n",
    "#     'profits_in_USDJPY', \n",
    "#     'profits_in_USDCAD',\n",
    "#     'profits_in_AUDUSD', \n",
    "#     'profits_in_USDCHF'\n",
    "# ]\n",
    "\n",
    "# positive_results[columns].describe()"
   ]
  },
  {
   "cell_type": "code",
   "execution_count": null,
   "id": "52888e4e-1115-4056-bb51-a58d105c749a",
   "metadata": {},
   "outputs": [],
   "source": []
  },
  {
   "cell_type": "code",
   "execution_count": null,
   "id": "29b1f48e-2b01-43a1-a1f9-9d35e87ad775",
   "metadata": {},
   "outputs": [],
   "source": []
  },
  {
   "cell_type": "code",
   "execution_count": null,
   "id": "363961af-0b42-4151-9a2d-a59fbef19750",
   "metadata": {},
   "outputs": [],
   "source": []
  },
  {
   "cell_type": "code",
   "execution_count": null,
   "id": "666361df-79c5-4583-9137-61cebcf62051",
   "metadata": {},
   "outputs": [],
   "source": []
  },
  {
   "cell_type": "code",
   "execution_count": null,
   "id": "9388b247-c645-4a55-a7f6-e99a4bd6d4f5",
   "metadata": {},
   "outputs": [],
   "source": []
  },
  {
   "cell_type": "code",
   "execution_count": 12,
   "id": "483a7cc0-0868-48d5-ba2b-9af9d769fa35",
   "metadata": {},
   "outputs": [
    {
     "ename": "NameError",
     "evalue": "name 'filter_results' is not defined",
     "output_type": "error",
     "traceback": [
      "\u001b[1;31m---------------------------------------------------------------------------\u001b[0m",
      "\u001b[1;31mNameError\u001b[0m                                 Traceback (most recent call last)",
      "Cell \u001b[1;32mIn[12], line 1\u001b[0m\n\u001b[1;32m----> 1\u001b[0m \u001b[43mfilter_results\u001b[49m\n",
      "\u001b[1;31mNameError\u001b[0m: name 'filter_results' is not defined"
     ]
    }
   ],
   "source": [
    "filter_results"
   ]
  },
  {
   "cell_type": "code",
   "execution_count": null,
   "id": "7bc55603-363b-4ae7-9a05-fb545a9145fb",
   "metadata": {},
   "outputs": [],
   "source": [
    "# filter_results = results[results['wallet']>0]\n",
    "# filter_results.shape"
   ]
  },
  {
   "cell_type": "code",
   "execution_count": null,
   "id": "4fa27c36-0b6e-4514-bc55-84e86a23c573",
   "metadata": {},
   "outputs": [],
   "source": [
    "import time\n",
    "import matplotlib.pyplot as plt\n",
    "import numpy as np\n",
    "from IPython.display import clear_output\n",
    "\n",
    "filter_results = positive_results\n",
    "fig, ax = plt.subplots(figsize=(20, 10))\n",
    "for path in filter_results.index:\n",
    "\n",
    "    wallet = pd.read_csv(os.path.join('./backbone/data/backtest/experiments', path, 'wallet.csv'))\n",
    "\n",
    "    # Datos de ejemplo\n",
    "    x_wallet = pd.to_datetime(wallet['date'])\n",
    "    y_wallet = wallet['wallet']  # Datos para la línea\n",
    "    \n",
    "    # Crear una figura y ejes\n",
    "    \n",
    "    # Agregar la línea\n",
    "    ax.plot(x_wallet, y_wallet, label=f'{path}')\n",
    "    \n",
    "# Etiquetas de los ejes y leyenda\n",
    "ax.set_xlabel('Fechas')\n",
    "ax.set_ylabel('Precios')\n",
    "ax.legend()\n",
    "    \n",
    "    # Mostrar el gráfico\n",
    "    # print(path)\n",
    "plt.show()\n",
    "    # time.sleep(5)\n",
    "    # clear_output(wait=True)"
   ]
  },
  {
   "cell_type": "code",
   "execution_count": null,
   "id": "1c357461-6f75-4798-b952-96107a32db90",
   "metadata": {},
   "outputs": [],
   "source": [
    "import re"
   ]
  },
  {
   "cell_type": "code",
   "execution_count": null,
   "id": "ce2dc10f-0923-40e5-9fe0-9f6de76a0b7f",
   "metadata": {},
   "outputs": [],
   "source": [
    "filter_results = results[results['wallet']>0]\n"
   ]
  },
  {
   "cell_type": "code",
   "execution_count": null,
   "id": "3baeb158-8bee-41be-81fe-c9d4ea74ea9d",
   "metadata": {},
   "outputs": [],
   "source": [
    "filter_results = filter_results.reset_index().rename(columns={'index':'experiment'})"
   ]
  },
  {
   "cell_type": "code",
   "execution_count": null,
   "id": "01a8e94d-0e7b-4db0-a127-deb9d93c075f",
   "metadata": {},
   "outputs": [],
   "source": [
    "filter_results['model'] = filter_results['experiment'].apply(lambda x: re.search(r'-Model_(.*?)-', x).group(1))\n",
    "filter_results['window'] = filter_results['experiment'].apply(lambda x: re.search(r'-TrainWw_(.*?)-', x).group(1))\n",
    "filter_results['train_period'] = filter_results['experiment'].apply(lambda x: re.search(r'-TrainPd_(.*?)-', x).group(1))\n",
    "filter_results['strategy'] = filter_results['experiment'].apply(lambda x: re.search(r'-TradingStgy_(.*?)-', x).group(1))\n",
    "filter_results['periods_forward_target'] = filter_results['experiment'].apply(lambda x: re.search(r'-PeriodsFwTg_(.*?)-', x).group(1))\n",
    "filter_results['sl'] = filter_results['experiment'].apply(lambda x: re.search(r'-SL_(.*?)-', x).group(1))\n",
    "filter_results['rr'] = filter_results['experiment'].apply(lambda x: re.search(r'-RR_(.*?)-', x).group(1))\n",
    "# filter_results['use_days_to_close'] = filter_results['experiment'].apply(lambda x: x.split('UseDaysClose_')[1])"
   ]
  },
  {
   "cell_type": "code",
   "execution_count": null,
   "id": "91f6bdc8-0fa6-4744-a0da-00f434d5eb0e",
   "metadata": {},
   "outputs": [],
   "source": []
  },
  {
   "cell_type": "code",
   "execution_count": null,
   "id": "d873bb7d-f1ab-45bc-bf17-8b1438409b28",
   "metadata": {},
   "outputs": [],
   "source": [
    "gb = filter_results.groupby(\n",
    "    by=['strategy', 'model', 'window', 'rr', 'periods_forward_target']\n",
    ").agg(\n",
    "    {\n",
    "        'max_drawdown':['mean', 'std']\n",
    "    }\n",
    ")\n",
    "\n",
    "\n",
    "gb.sort_values(by=('max_drawdown', 'mean'), ascending=False).dropna().round(4)"
   ]
  },
  {
   "cell_type": "code",
   "execution_count": null,
   "id": "46b652e1-1a49-4d68-95f2-3c094d035219",
   "metadata": {},
   "outputs": [],
   "source": [
    "gb = filter_results.groupby(\n",
    "    by=['rr']\n",
    ").agg(\n",
    "    {\n",
    "        'wallet':['mean', 'std']\n",
    "    }\n",
    ")\n",
    "\n",
    "\n",
    "gb"
   ]
  },
  {
   "cell_type": "code",
   "execution_count": null,
   "id": "091758e7-c443-41e8-8db6-7471a74dac82",
   "metadata": {},
   "outputs": [],
   "source": [
    "filter_results[filter_results['rr']=='8'].shape"
   ]
  },
  {
   "cell_type": "code",
   "execution_count": null,
   "id": "b3c25f1c-6f2a-4ca7-aa15-76baf5891f22",
   "metadata": {},
   "outputs": [],
   "source": []
  },
  {
   "cell_type": "code",
   "execution_count": null,
   "id": "27589567-5ca1-4c82-91cd-0248f4b2f0b5",
   "metadata": {},
   "outputs": [],
   "source": [
    "gb = filter_results.groupby(\n",
    "    by=['window']\n",
    ").agg(\n",
    "    {\n",
    "        'winning_rate':['mean', 'std']\n",
    "    }\n",
    ")\n",
    "\n",
    "\n",
    "gb.sort_values(by=('winning_rate', 'mean'))"
   ]
  },
  {
   "cell_type": "code",
   "execution_count": null,
   "id": "93785be8-29f5-44e3-b4be-28eace572dd5",
   "metadata": {},
   "outputs": [],
   "source": []
  },
  {
   "cell_type": "code",
   "execution_count": null,
   "id": "dd444d9e-1f6f-45e8-8d10-e449aa58e072",
   "metadata": {},
   "outputs": [],
   "source": [
    "gb = filter_results.groupby(\n",
    "    by=['periods_forward_target']\n",
    ").agg(\n",
    "    {\n",
    "        'winning_rate':['mean', 'std']\n",
    "    }\n",
    ")\n",
    "\n",
    "\n",
    "gb.sort_values(by=('winning_rate', 'mean'))"
   ]
  },
  {
   "cell_type": "code",
   "execution_count": null,
   "id": "2bd2b797-14b1-4e0a-a7a5-62d421a3f3fe",
   "metadata": {},
   "outputs": [],
   "source": []
  },
  {
   "cell_type": "code",
   "execution_count": null,
   "id": "cc581561-e6e1-400b-bb02-80fb8cabf479",
   "metadata": {},
   "outputs": [],
   "source": []
  },
  {
   "cell_type": "code",
   "execution_count": null,
   "id": "4f32c2d8-a7d4-4d13-a89f-be5d08b5600a",
   "metadata": {},
   "outputs": [],
   "source": []
  },
  {
   "cell_type": "code",
   "execution_count": null,
   "id": "85e9651d-375d-4192-85cf-13ef8082721f",
   "metadata": {},
   "outputs": [],
   "source": []
  },
  {
   "cell_type": "code",
   "execution_count": null,
   "id": "db8726f6-c655-48df-86bd-6d620dd8ddf8",
   "metadata": {},
   "outputs": [],
   "source": []
  },
  {
   "cell_type": "code",
   "execution_count": null,
   "id": "c2cbefce-d50c-4eb8-96fa-3f00940d5259",
   "metadata": {},
   "outputs": [],
   "source": []
  },
  {
   "cell_type": "code",
   "execution_count": null,
   "id": "7c56cdc3-7c85-4176-a30c-9d67b88dc075",
   "metadata": {},
   "outputs": [],
   "source": []
  },
  {
   "cell_type": "code",
   "execution_count": null,
   "id": "df779d29-8f75-429b-a638-6a7f5ebfb9dc",
   "metadata": {},
   "outputs": [],
   "source": []
  },
  {
   "cell_type": "code",
   "execution_count": null,
   "id": "948f1016-2413-428d-9ff9-16b1cc87a638",
   "metadata": {},
   "outputs": [],
   "source": []
  },
  {
   "cell_type": "code",
   "execution_count": null,
   "id": "e144f5fa-6303-4dc3-91b3-ff7ab094707a",
   "metadata": {},
   "outputs": [],
   "source": [
    "0/0"
   ]
  },
  {
   "cell_type": "code",
   "execution_count": null,
   "id": "f05da583-e3f9-4be6-b948-1f23b3bf1bc2",
   "metadata": {},
   "outputs": [],
   "source": []
  },
  {
   "cell_type": "code",
   "execution_count": null,
   "id": "b1ea8d64-9045-4818-910b-d4622cfd7501",
   "metadata": {},
   "outputs": [],
   "source": []
  },
  {
   "cell_type": "code",
   "execution_count": null,
   "id": "1d81d309-2458-47e6-be54-4832880c75c3",
   "metadata": {},
   "outputs": [],
   "source": [
    "results_dict = {}\n",
    "\n",
    "for path in os.listdir('./data'):\n",
    "    if not path.endswith('.csv') and path.startswith('test_'):\n",
    "        print(path)\n",
    "        results_dict[path] = {}\n",
    "\n",
    "        try:\n",
    "            wallet = pd.read_csv(os.path.join('./data', path, 'wallet.csv'))\n",
    "            results_dict[path]['wallet'] = wallet.tail(1).iloc[0]['wallet']\n",
    "        except:\n",
    "            results_dict[path]['wallet'] = 0\n",
    "\n",
    "        try:\n",
    "            orders = pd.read_csv(os.path.join('./data', path, 'orders.csv'))\n",
    "            results_dict[path]['buys'] = orders[orders['open_date'].notna()].shape[0]\n",
    "            results_dict[path]['sells'] = orders[orders['close_date'].notna()].shape[0]\n",
    "           \n",
    "            avg_incomes = orders.groupby('ticker')['profit'].sum().mean()\n",
    "            results_dict[path]['avg_incomes'] = avg_incomes\n",
    "            results_dict[path]['good_operations'] = orders[orders['profit'] > 0].shape[0]\n",
    "            results_dict[path]['bad_operations'] = orders[orders['profit'] <= 0].shape[0]\n",
    "            results_dict[path]['operation_ratio'] = results_dict[path]['good_operations'] / (results_dict[path]['good_operations'] + results_dict[path]['bad_operations']) \n",
    "\n",
    "        except:\n",
    "            results_dict[path]['buys'] = 0\n",
    "            results_dict[path]['sells'] = 0\n",
    "            avg_incomes = 0\n",
    "            results_dict[path]['avg_incomes'] = 0\n",
    "            results_dict[path]['good_operations'] = 0\n",
    "            results_dict[path]['bad_operations'] = 0\n",
    "            results_dict[path]['operation_ratio'] = 0\n",
    "\n",
    "        try:\n",
    "            train_results = pd.read_csv(os.path.join('./data', path, 'train_results.csv'))\n",
    "            avg_train_auc = train_results['auc'].mean()\n",
    "            results_dict[path]['avg_train_auc'] = avg_train_auc\n",
    "        except:\n",
    "            results_dict[path]['avg_train_auc'] = 0\n",
    "            \n",
    "        try:\n",
    "            stock_predictions = pd.read_csv(os.path.join('./data', path, 'stock_predictions.csv'))\n",
    "            true_values = pd.read_csv(os.path.join('./data', path, 'stock_true_values.csv'))\n",
    "\n",
    "            avg_auc_score = calculate_auc_avg(tickers, stock_predictions, true_values)\n",
    "            results_dict[path]['avg_test_auc'] = avg_auc_score\n",
    "        except:\n",
    "            results_dict[path]['avg_test_auc'] = 0\n",
    "\n",
    "results = pd.DataFrame.from_dict(results_dict, orient='index')"
   ]
  },
  {
   "cell_type": "code",
   "execution_count": null,
   "id": "0abeb4fe-f73b-4357-81b1-0074992060f3",
   "metadata": {},
   "outputs": [],
   "source": []
  },
  {
   "cell_type": "code",
   "execution_count": null,
   "id": "cc395e82-d988-42bd-846e-e1890a7b8fea",
   "metadata": {},
   "outputs": [],
   "source": []
  },
  {
   "cell_type": "markdown",
   "id": "58b5d4b6-fc3f-43ec-923c-d0e2d6ade1ae",
   "metadata": {},
   "source": [
    "\n",
    "Mode_train-Model_random_forest-TrainWw_720-TrainPd_24-TradingStgy_macd_strategy-PeriodsFwTg_8-SL_15-RR_3-UseDaysClose_False\n",
    "\n",
    "Mode_train-Model_random_forest-TrainWw_1440-TrainPd_24-TradingStgy_macd_strategy-PeriodsFwTg_8-SL_15-RR_3-UseDaysClose_False\n",
    "\n",
    "Mode_train-Model_random_forest-TrainWw_1440-TrainPd_24-TradingStgy_macd_strategy-PeriodsFwTg_8-SL_15-RR_2-UseDaysClose_False\n",
    "\n",
    "Mode_train-Model_random_forest-TrainWw_720-TrainPd_24-TradingStgy_macd_strategy-PeriodsFwTg_8-SL_15-RR_2-UseDaysClose_False\n",
    "\n",
    "Mode_train-Model_random_forest-TrainWw_960-TrainPd_24-TradingStgy_macd_strategy-PeriodsFwTg_5-SL_15-RR_3-UseDaysClose_False\n"
   ]
  },
  {
   "cell_type": "markdown",
   "id": "7d009d1d-0cc6-4247-a7d1-e3d4931cf6b4",
   "metadata": {},
   "source": [
    "\n",
    "\n",
    "\n",
    "\n",
    "\n",
    "Mode_train-Model_gradient_boosting-TrainWw_1440-TrainPd_24-TradingStgy_macd_strategy-PeriodsFwTg_8-SL_15-RR_3-UseDaysClose_False\n",
    "\n",
    "Mode_train-Model_random_forest-TrainWw_960-TrainPd_24-TradingStgy_macd_strategy-PeriodsFwTg_8-SL_15-RR_3-UseDaysClose_False"
   ]
  },
  {
   "cell_type": "code",
   "execution_count": null,
   "id": "f36ad284-7697-4b3c-a1dd-bbd563c905c6",
   "metadata": {},
   "outputs": [],
   "source": []
  },
  {
   "cell_type": "code",
   "execution_count": null,
   "id": "80e3db0c-4173-4a49-b4bf-494fdf7d1967",
   "metadata": {},
   "outputs": [],
   "source": []
  }
 ],
 "metadata": {
  "kernelspec": {
   "display_name": "Python 3 (ipykernel)",
   "language": "python",
   "name": "python3"
  },
  "language_info": {
   "codemirror_mode": {
    "name": "ipython",
    "version": 3
   },
   "file_extension": ".py",
   "mimetype": "text/x-python",
   "name": "python",
   "nbconvert_exporter": "python",
   "pygments_lexer": "ipython3",
   "version": "3.8.9"
  }
 },
 "nbformat": 4,
 "nbformat_minor": 5
}
